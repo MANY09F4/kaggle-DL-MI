{
  "nbformat": 4,
  "nbformat_minor": 0,
  "metadata": {
    "colab": {
      "provenance": [],
      "gpuType": "A100",
      "machine_shape": "hm"
    },
    "kernelspec": {
      "name": "python3",
      "display_name": "Python 3"
    },
    "language_info": {
      "name": "python"
    },
    "accelerator": "GPU"
  },
  "cells": [
    {
      "cell_type": "code",
      "source": [
        "!git lfs install"
      ],
      "metadata": {
        "colab": {
          "base_uri": "https://localhost:8080/"
        },
        "id": "UQvRBU2XqVQU",
        "outputId": "2f62c8a0-8c1e-43bd-a080-febb138be306"
      },
      "execution_count": 1,
      "outputs": [
        {
          "output_type": "stream",
          "name": "stdout",
          "text": [
            "Git LFS initialized.\n"
          ]
        }
      ]
    },
    {
      "cell_type": "code",
      "execution_count": 2,
      "metadata": {
        "colab": {
          "base_uri": "https://localhost:8080/"
        },
        "id": "l3mNhTMPqPTb",
        "outputId": "635c5f89-7dcd-40b4-fa11-454dac372f43"
      },
      "outputs": [
        {
          "output_type": "stream",
          "name": "stdout",
          "text": [
            "Cloning into 'MedImageInsights'...\n",
            "remote: Enumerating objects: 521, done.\u001b[K\n",
            "remote: Counting objects: 100% (517/517), done.\u001b[K\n",
            "remote: Compressing objects: 100% (512/512), done.\u001b[K\n",
            "remote: Total 521 (delta 20), reused 0 (delta 0), pack-reused 4 (from 1)\u001b[K\n",
            "Receiving objects: 100% (521/521), 1.01 MiB | 5.49 MiB/s, done.\n",
            "Resolving deltas: 100% (20/20), done.\n"
          ]
        }
      ],
      "source": [
        "!git clone https://huggingface.co/lion-ai/MedImageInsights"
      ]
    },
    {
      "cell_type": "code",
      "source": [
        "from google.colab import drive\n",
        "drive.mount('/content/drive')"
      ],
      "metadata": {
        "colab": {
          "base_uri": "https://localhost:8080/"
        },
        "id": "htztzioyqmDg",
        "outputId": "17602d30-b8d2-4a41-97ed-211432e7f172"
      },
      "execution_count": 3,
      "outputs": [
        {
          "output_type": "stream",
          "name": "stdout",
          "text": [
            "Mounted at /content/drive\n"
          ]
        }
      ]
    },
    {
      "cell_type": "code",
      "source": [
        "%cd MedImageInsights"
      ],
      "metadata": {
        "colab": {
          "base_uri": "https://localhost:8080/"
        },
        "id": "OGu46_oTr0V3",
        "outputId": "905215f9-2478-4fc2-fb1f-3acd3b08be4f"
      },
      "execution_count": 4,
      "outputs": [
        {
          "output_type": "stream",
          "name": "stdout",
          "text": [
            "/content/MedImageInsights\n"
          ]
        }
      ]
    },
    {
      "cell_type": "code",
      "source": [
        "!uv sync"
      ],
      "metadata": {
        "colab": {
          "base_uri": "https://localhost:8080/"
        },
        "id": "DIiLSP6ssNAJ",
        "outputId": "14e9c9ee-5e5f-4032-ecba-6eb4e70b8256"
      },
      "execution_count": 5,
      "outputs": [
        {
          "output_type": "stream",
          "name": "stdout",
          "text": [
            "\u001b[1;30;43mLe flux de sortie a été tronqué et ne contient que les 5000 dernières lignes.\u001b[0m\n",
            "\u001b[2mnvidia-nccl-cu12\u001b[0m \u001b[32m------\u001b[2m------------------------\u001b[0m\u001b[0m 32.30 MiB/168.08 MiB\n",
            "\u001b[2mnvidia-cusparse-cu12\u001b[0m \u001b[32m------\u001b[2m------------------------\u001b[0m\u001b[0m 33.01 MiB/186.88 MiB\n",
            "\u001b[2mtriton    \u001b[0m \u001b[32m-----\u001b[2m-------------------------\u001b[0m\u001b[0m 32.84 MiB/199.65 MiB\n",
            "\u001b[2mnvidia-cublas-cu12\u001b[0m \u001b[32m---\u001b[2m---------------------------\u001b[0m\u001b[0m 32.82 MiB/391.57 MiB\n",
            "\u001b[2mnvidia-cudnn-cu12\u001b[0m \u001b[32m--\u001b[2m----------------------------\u001b[0m\u001b[0m 32.17 MiB/633.96 MiB\n",
            "\u001b[2K\u001b[13A\u001b[37m⠸\u001b[0m \u001b[2mPreparing packages...\u001b[0m (119/132)\n",
            "\u001b[2mnumpy     \u001b[0m \u001b[32m------------------------------\u001b[2m\u001b[0m\u001b[0m 15.98 MiB/16.51 MiB\n",
            "\u001b[2mmlflow    \u001b[0m \u001b[32m------------------------------\u001b[2m\u001b[0m\u001b[0m 24.17 MiB/24.61 MiB\n",
            "\u001b[2mscipy     \u001b[0m \u001b[32m--------------------\u001b[2m----------\u001b[0m\u001b[0m 21.29 MiB/32.94 MiB\n",
            "\u001b[2mpyarrow   \u001b[0m \u001b[32m----------------------------\u001b[2m--\u001b[0m\u001b[0m 33.31 MiB/36.64 MiB\n",
            "\u001b[2mnvidia-curand-cu12\u001b[0m \u001b[32m-------------------\u001b[2m-----------\u001b[0m\u001b[0m 32.98 MiB/53.85 MiB\n",
            "\u001b[2mnvidia-cufft-cu12\u001b[0m \u001b[32m---------\u001b[2m---------------------\u001b[0m\u001b[0m 33.23 MiB/116.00 MiB\n",
            "\u001b[2mnvidia-cusolver-cu12\u001b[0m \u001b[32m---------\u001b[2m---------------------\u001b[0m\u001b[0m 33.25 MiB/118.41 MiB\n",
            "\u001b[2mnvidia-nccl-cu12\u001b[0m \u001b[32m------\u001b[2m------------------------\u001b[0m\u001b[0m 32.71 MiB/168.08 MiB\n",
            "\u001b[2mnvidia-cusparse-cu12\u001b[0m \u001b[32m------\u001b[2m------------------------\u001b[0m\u001b[0m 33.39 MiB/186.88 MiB\n",
            "\u001b[2mtriton    \u001b[0m \u001b[32m-----\u001b[2m-------------------------\u001b[0m\u001b[0m 32.99 MiB/199.65 MiB\n",
            "\u001b[2mnvidia-cublas-cu12\u001b[0m \u001b[32m---\u001b[2m---------------------------\u001b[0m\u001b[0m 33.09 MiB/391.57 MiB\n",
            "\u001b[2mnvidia-cudnn-cu12\u001b[0m \u001b[32m--\u001b[2m----------------------------\u001b[0m\u001b[0m 32.44 MiB/633.96 MiB\n",
            "\u001b[2K\u001b[13A\u001b[37m⠼\u001b[0m \u001b[2mPreparing packages...\u001b[0m (119/132)\n",
            "\u001b[2mnumpy     \u001b[0m \u001b[32m------------------------------\u001b[2m\u001b[0m\u001b[0m 15.98 MiB/16.51 MiB\n",
            "\u001b[2mmlflow    \u001b[0m \u001b[32m------------------------------\u001b[2m\u001b[0m\u001b[0m 24.17 MiB/24.61 MiB\n",
            "\u001b[2mscipy     \u001b[0m \u001b[32m--------------------\u001b[2m----------\u001b[0m\u001b[0m 21.29 MiB/32.94 MiB\n",
            "\u001b[2mpyarrow   \u001b[0m \u001b[32m----------------------------\u001b[2m--\u001b[0m\u001b[0m 33.52 MiB/36.64 MiB\n",
            "\u001b[2mnvidia-curand-cu12\u001b[0m \u001b[32m-------------------\u001b[2m-----------\u001b[0m\u001b[0m 32.98 MiB/53.85 MiB\n",
            "\u001b[2mnvidia-cufft-cu12\u001b[0m \u001b[32m---------\u001b[2m---------------------\u001b[0m\u001b[0m 33.25 MiB/116.00 MiB\n",
            "\u001b[2mnvidia-cusolver-cu12\u001b[0m \u001b[32m---------\u001b[2m---------------------\u001b[0m\u001b[0m 33.25 MiB/118.41 MiB\n",
            "\u001b[2mnvidia-nccl-cu12\u001b[0m \u001b[32m------\u001b[2m------------------------\u001b[0m\u001b[0m 32.78 MiB/168.08 MiB\n",
            "\u001b[2mnvidia-cusparse-cu12\u001b[0m \u001b[32m------\u001b[2m------------------------\u001b[0m\u001b[0m 33.49 MiB/186.88 MiB\n",
            "\u001b[2mtriton    \u001b[0m \u001b[32m-----\u001b[2m-------------------------\u001b[0m\u001b[0m 32.99 MiB/199.65 MiB\n",
            "\u001b[2mnvidia-cublas-cu12\u001b[0m \u001b[32m---\u001b[2m---------------------------\u001b[0m\u001b[0m 33.09 MiB/391.57 MiB\n",
            "\u001b[2mnvidia-cudnn-cu12\u001b[0m \u001b[32m--\u001b[2m----------------------------\u001b[0m\u001b[0m 32.51 MiB/633.96 MiB\n",
            "\u001b[2K\u001b[13A\u001b[37m⠴\u001b[0m \u001b[2mPreparing packages...\u001b[0m (119/132)\n",
            "\u001b[2mnumpy     \u001b[0m \u001b[32m------------------------------\u001b[2m\u001b[0m\u001b[0m 15.98 MiB/16.51 MiB\n",
            "\u001b[2mmlflow    \u001b[0m \u001b[32m------------------------------\u001b[2m\u001b[0m\u001b[0m 24.17 MiB/24.61 MiB\n",
            "\u001b[2mscipy     \u001b[0m \u001b[32m--------------------\u001b[2m----------\u001b[0m\u001b[0m 21.29 MiB/32.94 MiB\n",
            "\u001b[2mpyarrow   \u001b[0m \u001b[32m----------------------------\u001b[2m--\u001b[0m\u001b[0m 33.52 MiB/36.64 MiB\n",
            "\u001b[2mnvidia-curand-cu12\u001b[0m \u001b[32m-------------------\u001b[2m-----------\u001b[0m\u001b[0m 32.98 MiB/53.85 MiB\n",
            "\u001b[2mnvidia-cufft-cu12\u001b[0m \u001b[32m---------\u001b[2m---------------------\u001b[0m\u001b[0m 33.25 MiB/116.00 MiB\n",
            "\u001b[2mnvidia-cusolver-cu12\u001b[0m \u001b[32m---------\u001b[2m---------------------\u001b[0m\u001b[0m 33.25 MiB/118.41 MiB\n",
            "\u001b[2mnvidia-nccl-cu12\u001b[0m \u001b[32m------\u001b[2m------------------------\u001b[0m\u001b[0m 32.78 MiB/168.08 MiB\n",
            "\u001b[2mnvidia-cusparse-cu12\u001b[0m \u001b[32m------\u001b[2m------------------------\u001b[0m\u001b[0m 33.49 MiB/186.88 MiB\n",
            "\u001b[2mtriton    \u001b[0m \u001b[32m-----\u001b[2m-------------------------\u001b[0m\u001b[0m 32.99 MiB/199.65 MiB\n",
            "\u001b[2mnvidia-cublas-cu12\u001b[0m \u001b[32m---\u001b[2m---------------------------\u001b[0m\u001b[0m 33.09 MiB/391.57 MiB\n",
            "\u001b[2mnvidia-cudnn-cu12\u001b[0m \u001b[32m--\u001b[2m----------------------------\u001b[0m\u001b[0m 32.51 MiB/633.96 MiB\n",
            "\u001b[2K\u001b[13A\u001b[37m⠦\u001b[0m \u001b[2mPreparing packages...\u001b[0m (119/132)\n",
            "\u001b[2mnumpy     \u001b[0m \u001b[32m------------------------------\u001b[2m\u001b[0m\u001b[0m 15.98 MiB/16.51 MiB\n",
            "\u001b[2mmlflow    \u001b[0m \u001b[32m------------------------------\u001b[2m\u001b[0m\u001b[0m 24.17 MiB/24.61 MiB\n",
            "\u001b[2mscipy     \u001b[0m \u001b[32m--------------------\u001b[2m----------\u001b[0m\u001b[0m 21.29 MiB/32.94 MiB\n",
            "\u001b[2mpyarrow   \u001b[0m \u001b[32m----------------------------\u001b[2m--\u001b[0m\u001b[0m 33.52 MiB/36.64 MiB\n",
            "\u001b[2mnvidia-curand-cu12\u001b[0m \u001b[32m-------------------\u001b[2m-----------\u001b[0m\u001b[0m 32.98 MiB/53.85 MiB\n",
            "\u001b[2mnvidia-cufft-cu12\u001b[0m \u001b[32m---------\u001b[2m---------------------\u001b[0m\u001b[0m 33.25 MiB/116.00 MiB\n",
            "\u001b[2mnvidia-cusolver-cu12\u001b[0m \u001b[32m---------\u001b[2m---------------------\u001b[0m\u001b[0m 33.25 MiB/118.41 MiB\n",
            "\u001b[2mnvidia-nccl-cu12\u001b[0m \u001b[32m------\u001b[2m------------------------\u001b[0m\u001b[0m 32.78 MiB/168.08 MiB\n",
            "\u001b[2mnvidia-cusparse-cu12\u001b[0m \u001b[32m------\u001b[2m------------------------\u001b[0m\u001b[0m 33.49 MiB/186.88 MiB\n",
            "\u001b[2mtriton    \u001b[0m \u001b[32m-----\u001b[2m-------------------------\u001b[0m\u001b[0m 32.99 MiB/199.65 MiB\n",
            "\u001b[2mnvidia-cublas-cu12\u001b[0m \u001b[32m---\u001b[2m---------------------------\u001b[0m\u001b[0m 33.09 MiB/391.57 MiB\n",
            "\u001b[2mnvidia-cudnn-cu12\u001b[0m \u001b[32m--\u001b[2m----------------------------\u001b[0m\u001b[0m 32.51 MiB/633.96 MiB\n",
            "\u001b[2K\u001b[13A\u001b[37m⠧\u001b[0m \u001b[2mPreparing packages...\u001b[0m (119/132)\n",
            "\u001b[2mnumpy     \u001b[0m \u001b[32m------------------------------\u001b[2m\u001b[0m\u001b[0m 15.98 MiB/16.51 MiB\n",
            "\u001b[2mmlflow    \u001b[0m \u001b[32m------------------------------\u001b[2m\u001b[0m\u001b[0m 24.17 MiB/24.61 MiB\n",
            "\u001b[2mscipy     \u001b[0m \u001b[32m--------------------\u001b[2m----------\u001b[0m\u001b[0m 21.29 MiB/32.94 MiB\n",
            "\u001b[2mpyarrow   \u001b[0m \u001b[32m----------------------------\u001b[2m--\u001b[0m\u001b[0m 33.52 MiB/36.64 MiB\n",
            "\u001b[2mnvidia-curand-cu12\u001b[0m \u001b[32m-------------------\u001b[2m-----------\u001b[0m\u001b[0m 32.98 MiB/53.85 MiB\n",
            "\u001b[2mnvidia-cufft-cu12\u001b[0m \u001b[32m---------\u001b[2m---------------------\u001b[0m\u001b[0m 33.25 MiB/116.00 MiB\n",
            "\u001b[2mnvidia-cusolver-cu12\u001b[0m \u001b[32m---------\u001b[2m---------------------\u001b[0m\u001b[0m 33.25 MiB/118.41 MiB\n",
            "\u001b[2mnvidia-nccl-cu12\u001b[0m \u001b[32m------\u001b[2m------------------------\u001b[0m\u001b[0m 32.78 MiB/168.08 MiB\n",
            "\u001b[2mnvidia-cusparse-cu12\u001b[0m \u001b[32m------\u001b[2m------------------------\u001b[0m\u001b[0m 33.49 MiB/186.88 MiB\n",
            "\u001b[2mtriton    \u001b[0m \u001b[32m-----\u001b[2m-------------------------\u001b[0m\u001b[0m 32.99 MiB/199.65 MiB\n",
            "\u001b[2mnvidia-cublas-cu12\u001b[0m \u001b[32m---\u001b[2m---------------------------\u001b[0m\u001b[0m 33.09 MiB/391.57 MiB\n",
            "\u001b[2mnvidia-cudnn-cu12\u001b[0m \u001b[32m--\u001b[2m----------------------------\u001b[0m\u001b[0m 32.51 MiB/633.96 MiB\n",
            "\u001b[2K\u001b[13A\u001b[37m⠇\u001b[0m \u001b[2mPreparing packages...\u001b[0m (119/132)\n",
            "\u001b[2mnumpy     \u001b[0m \u001b[32m------------------------------\u001b[2m\u001b[0m\u001b[0m 15.98 MiB/16.51 MiB\n",
            "\u001b[2mmlflow    \u001b[0m \u001b[32m------------------------------\u001b[2m\u001b[0m\u001b[0m 24.17 MiB/24.61 MiB\n",
            "\u001b[2mscipy     \u001b[0m \u001b[32m--------------------\u001b[2m----------\u001b[0m\u001b[0m 21.29 MiB/32.94 MiB\n",
            "\u001b[2mpyarrow   \u001b[0m \u001b[32m----------------------------\u001b[2m--\u001b[0m\u001b[0m 33.52 MiB/36.64 MiB\n",
            "\u001b[2mnvidia-curand-cu12\u001b[0m \u001b[32m-------------------\u001b[2m-----------\u001b[0m\u001b[0m 32.98 MiB/53.85 MiB\n",
            "\u001b[2mnvidia-cufft-cu12\u001b[0m \u001b[32m---------\u001b[2m---------------------\u001b[0m\u001b[0m 33.25 MiB/116.00 MiB\n",
            "\u001b[2mnvidia-cusolver-cu12\u001b[0m \u001b[32m---------\u001b[2m---------------------\u001b[0m\u001b[0m 33.25 MiB/118.41 MiB\n",
            "\u001b[2mnvidia-nccl-cu12\u001b[0m \u001b[32m------\u001b[2m------------------------\u001b[0m\u001b[0m 32.78 MiB/168.08 MiB\n",
            "\u001b[2mnvidia-cusparse-cu12\u001b[0m \u001b[32m------\u001b[2m------------------------\u001b[0m\u001b[0m 33.49 MiB/186.88 MiB\n",
            "\u001b[2mtriton    \u001b[0m \u001b[32m-----\u001b[2m-------------------------\u001b[0m\u001b[0m 32.99 MiB/199.65 MiB\n",
            "\u001b[2mnvidia-cublas-cu12\u001b[0m \u001b[32m---\u001b[2m---------------------------\u001b[0m\u001b[0m 33.09 MiB/391.57 MiB\n",
            "\u001b[2mnvidia-cudnn-cu12\u001b[0m \u001b[32m--\u001b[2m----------------------------\u001b[0m\u001b[0m 32.51 MiB/633.96 MiB\n",
            "\u001b[2K\u001b[13A\u001b[37m⠋\u001b[0m \u001b[2mPreparing packages...\u001b[0m (119/132)\n",
            "\u001b[2mnumpy     \u001b[0m \u001b[32m------------------------------\u001b[2m\u001b[0m\u001b[0m 15.98 MiB/16.51 MiB\n",
            "\u001b[2mmlflow    \u001b[0m \u001b[32m------------------------------\u001b[2m\u001b[0m\u001b[0m 24.17 MiB/24.61 MiB\n",
            "\u001b[2mscipy     \u001b[0m \u001b[32m--------------------\u001b[2m----------\u001b[0m\u001b[0m 21.29 MiB/32.94 MiB\n",
            "\u001b[2mpyarrow   \u001b[0m \u001b[32m----------------------------\u001b[2m--\u001b[0m\u001b[0m 33.52 MiB/36.64 MiB\n",
            "\u001b[2mnvidia-curand-cu12\u001b[0m \u001b[32m-------------------\u001b[2m-----------\u001b[0m\u001b[0m 32.98 MiB/53.85 MiB\n",
            "\u001b[2mnvidia-cufft-cu12\u001b[0m \u001b[32m---------\u001b[2m---------------------\u001b[0m\u001b[0m 33.25 MiB/116.00 MiB\n",
            "\u001b[2mnvidia-cusolver-cu12\u001b[0m \u001b[32m---------\u001b[2m---------------------\u001b[0m\u001b[0m 33.25 MiB/118.41 MiB\n",
            "\u001b[2mnvidia-nccl-cu12\u001b[0m \u001b[32m------\u001b[2m------------------------\u001b[0m\u001b[0m 32.78 MiB/168.08 MiB\n",
            "\u001b[2mnvidia-cusparse-cu12\u001b[0m \u001b[32m------\u001b[2m------------------------\u001b[0m\u001b[0m 33.49 MiB/186.88 MiB\n",
            "\u001b[2mtriton    \u001b[0m \u001b[32m-----\u001b[2m-------------------------\u001b[0m\u001b[0m 32.99 MiB/199.65 MiB\n",
            "\u001b[2mnvidia-cublas-cu12\u001b[0m \u001b[32m---\u001b[2m---------------------------\u001b[0m\u001b[0m 33.09 MiB/391.57 MiB\n",
            "\u001b[2mnvidia-cudnn-cu12\u001b[0m \u001b[32m--\u001b[2m----------------------------\u001b[0m\u001b[0m 32.51 MiB/633.96 MiB\n",
            "\u001b[2K\u001b[13A\u001b[37m⠙\u001b[0m \u001b[2mPreparing packages...\u001b[0m (119/132)\n",
            "\u001b[2mnumpy     \u001b[0m \u001b[32m------------------------------\u001b[2m\u001b[0m\u001b[0m 15.98 MiB/16.51 MiB\n",
            "\u001b[2mmlflow    \u001b[0m \u001b[32m------------------------------\u001b[2m\u001b[0m\u001b[0m 24.17 MiB/24.61 MiB\n",
            "\u001b[2mscipy     \u001b[0m \u001b[32m--------------------\u001b[2m----------\u001b[0m\u001b[0m 21.29 MiB/32.94 MiB\n",
            "\u001b[2mpyarrow   \u001b[0m \u001b[32m----------------------------\u001b[2m--\u001b[0m\u001b[0m 33.52 MiB/36.64 MiB\n",
            "\u001b[2mnvidia-curand-cu12\u001b[0m \u001b[32m-------------------\u001b[2m-----------\u001b[0m\u001b[0m 32.98 MiB/53.85 MiB\n",
            "\u001b[2mnvidia-cufft-cu12\u001b[0m \u001b[32m---------\u001b[2m---------------------\u001b[0m\u001b[0m 33.25 MiB/116.00 MiB\n",
            "\u001b[2mnvidia-cusolver-cu12\u001b[0m \u001b[32m---------\u001b[2m---------------------\u001b[0m\u001b[0m 33.25 MiB/118.41 MiB\n",
            "\u001b[2mnvidia-nccl-cu12\u001b[0m \u001b[32m------\u001b[2m------------------------\u001b[0m\u001b[0m 32.78 MiB/168.08 MiB\n",
            "\u001b[2mnvidia-cusparse-cu12\u001b[0m \u001b[32m------\u001b[2m------------------------\u001b[0m\u001b[0m 33.49 MiB/186.88 MiB\n",
            "\u001b[2mtriton    \u001b[0m \u001b[32m-----\u001b[2m-------------------------\u001b[0m\u001b[0m 32.99 MiB/199.65 MiB\n",
            "\u001b[2mnvidia-cublas-cu12\u001b[0m \u001b[32m---\u001b[2m---------------------------\u001b[0m\u001b[0m 33.09 MiB/391.57 MiB\n",
            "\u001b[2mnvidia-cudnn-cu12\u001b[0m \u001b[32m--\u001b[2m----------------------------\u001b[0m\u001b[0m 32.51 MiB/633.96 MiB\n",
            "\u001b[2K\u001b[13A\u001b[37m⠹\u001b[0m \u001b[2mPreparing packages...\u001b[0m (119/132)\n",
            "\u001b[2mnumpy     \u001b[0m \u001b[32m------------------------------\u001b[2m\u001b[0m\u001b[0m 15.98 MiB/16.51 MiB\n",
            "\u001b[2mmlflow    \u001b[0m \u001b[32m------------------------------\u001b[2m\u001b[0m\u001b[0m 24.17 MiB/24.61 MiB\n",
            "\u001b[2mscipy     \u001b[0m \u001b[32m--------------------\u001b[2m----------\u001b[0m\u001b[0m 21.29 MiB/32.94 MiB\n",
            "\u001b[2mpyarrow   \u001b[0m \u001b[32m----------------------------\u001b[2m--\u001b[0m\u001b[0m 33.52 MiB/36.64 MiB\n",
            "\u001b[2mnvidia-curand-cu12\u001b[0m \u001b[32m-------------------\u001b[2m-----------\u001b[0m\u001b[0m 32.98 MiB/53.85 MiB\n",
            "\u001b[2mnvidia-cufft-cu12\u001b[0m \u001b[32m---------\u001b[2m---------------------\u001b[0m\u001b[0m 33.25 MiB/116.00 MiB\n",
            "\u001b[2mnvidia-cusolver-cu12\u001b[0m \u001b[32m---------\u001b[2m---------------------\u001b[0m\u001b[0m 33.25 MiB/118.41 MiB\n",
            "\u001b[2mnvidia-nccl-cu12\u001b[0m \u001b[32m------\u001b[2m------------------------\u001b[0m\u001b[0m 32.78 MiB/168.08 MiB\n",
            "\u001b[2mnvidia-cusparse-cu12\u001b[0m \u001b[32m------\u001b[2m------------------------\u001b[0m\u001b[0m 33.49 MiB/186.88 MiB\n",
            "\u001b[2mtriton    \u001b[0m \u001b[32m-----\u001b[2m-------------------------\u001b[0m\u001b[0m 32.99 MiB/199.65 MiB\n",
            "\u001b[2mnvidia-cublas-cu12\u001b[0m \u001b[32m---\u001b[2m---------------------------\u001b[0m\u001b[0m 33.09 MiB/391.57 MiB\n",
            "\u001b[2mnvidia-cudnn-cu12\u001b[0m \u001b[32m--\u001b[2m----------------------------\u001b[0m\u001b[0m 32.51 MiB/633.96 MiB\n",
            "\u001b[2K\u001b[13A\u001b[37m⠸\u001b[0m \u001b[2mPreparing packages...\u001b[0m (119/132)\n",
            "\u001b[2mnumpy     \u001b[0m \u001b[32m------------------------------\u001b[2m\u001b[0m\u001b[0m 15.98 MiB/16.51 MiB\n",
            "\u001b[2mmlflow    \u001b[0m \u001b[32m------------------------------\u001b[2m\u001b[0m\u001b[0m 24.17 MiB/24.61 MiB\n",
            "\u001b[2mscipy     \u001b[0m \u001b[32m--------------------\u001b[2m----------\u001b[0m\u001b[0m 21.29 MiB/32.94 MiB\n",
            "\u001b[2mpyarrow   \u001b[0m \u001b[32m----------------------------\u001b[2m--\u001b[0m\u001b[0m 33.52 MiB/36.64 MiB\n",
            "\u001b[2mnvidia-curand-cu12\u001b[0m \u001b[32m-------------------\u001b[2m-----------\u001b[0m\u001b[0m 32.98 MiB/53.85 MiB\n",
            "\u001b[2mnvidia-cufft-cu12\u001b[0m \u001b[32m---------\u001b[2m---------------------\u001b[0m\u001b[0m 33.25 MiB/116.00 MiB\n",
            "\u001b[2mnvidia-cusolver-cu12\u001b[0m \u001b[32m---------\u001b[2m---------------------\u001b[0m\u001b[0m 33.25 MiB/118.41 MiB\n",
            "\u001b[2mnvidia-nccl-cu12\u001b[0m \u001b[32m------\u001b[2m------------------------\u001b[0m\u001b[0m 32.78 MiB/168.08 MiB\n",
            "\u001b[2mnvidia-cusparse-cu12\u001b[0m \u001b[32m------\u001b[2m------------------------\u001b[0m\u001b[0m 33.49 MiB/186.88 MiB\n",
            "\u001b[2mtriton    \u001b[0m \u001b[32m-----\u001b[2m-------------------------\u001b[0m\u001b[0m 32.99 MiB/199.65 MiB\n",
            "\u001b[2mnvidia-cublas-cu12\u001b[0m \u001b[32m---\u001b[2m---------------------------\u001b[0m\u001b[0m 33.09 MiB/391.57 MiB\n",
            "\u001b[2mnvidia-cudnn-cu12\u001b[0m \u001b[32m--\u001b[2m----------------------------\u001b[0m\u001b[0m 32.51 MiB/633.96 MiB\n",
            "\u001b[2K\u001b[13A\u001b[37m⠼\u001b[0m \u001b[2mPreparing packages...\u001b[0m (119/132)\n",
            "\u001b[2mnumpy     \u001b[0m \u001b[32m------------------------------\u001b[2m\u001b[0m\u001b[0m 15.98 MiB/16.51 MiB\n",
            "\u001b[2mmlflow    \u001b[0m \u001b[32m------------------------------\u001b[2m\u001b[0m\u001b[0m 24.17 MiB/24.61 MiB\n",
            "\u001b[2mscipy     \u001b[0m \u001b[32m--------------------\u001b[2m----------\u001b[0m\u001b[0m 21.29 MiB/32.94 MiB\n",
            "\u001b[2mpyarrow   \u001b[0m \u001b[32m----------------------------\u001b[2m--\u001b[0m\u001b[0m 33.52 MiB/36.64 MiB\n",
            "\u001b[2mnvidia-curand-cu12\u001b[0m \u001b[32m-------------------\u001b[2m-----------\u001b[0m\u001b[0m 32.98 MiB/53.85 MiB\n",
            "\u001b[2mnvidia-cufft-cu12\u001b[0m \u001b[32m---------\u001b[2m---------------------\u001b[0m\u001b[0m 33.25 MiB/116.00 MiB\n",
            "\u001b[2mnvidia-cusolver-cu12\u001b[0m \u001b[32m---------\u001b[2m---------------------\u001b[0m\u001b[0m 33.25 MiB/118.41 MiB\n",
            "\u001b[2mnvidia-nccl-cu12\u001b[0m \u001b[32m------\u001b[2m------------------------\u001b[0m\u001b[0m 32.78 MiB/168.08 MiB\n",
            "\u001b[2mnvidia-cusparse-cu12\u001b[0m \u001b[32m------\u001b[2m------------------------\u001b[0m\u001b[0m 33.49 MiB/186.88 MiB\n",
            "\u001b[2mtriton    \u001b[0m \u001b[32m-----\u001b[2m-------------------------\u001b[0m\u001b[0m 32.99 MiB/199.65 MiB\n",
            "\u001b[2mnvidia-cublas-cu12\u001b[0m \u001b[32m---\u001b[2m---------------------------\u001b[0m\u001b[0m 33.09 MiB/391.57 MiB\n",
            "\u001b[2mnvidia-cudnn-cu12\u001b[0m \u001b[32m--\u001b[2m----------------------------\u001b[0m\u001b[0m 32.51 MiB/633.96 MiB\n",
            "\u001b[2K\u001b[13A\u001b[37m⠴\u001b[0m \u001b[2mPreparing packages...\u001b[0m (119/132)\n",
            "\u001b[2mnumpy     \u001b[0m \u001b[32m------------------------------\u001b[2m\u001b[0m\u001b[0m 15.98 MiB/16.51 MiB\n",
            "\u001b[2mmlflow    \u001b[0m \u001b[32m------------------------------\u001b[2m\u001b[0m\u001b[0m 24.17 MiB/24.61 MiB\n",
            "\u001b[2mscipy     \u001b[0m \u001b[32m--------------------\u001b[2m----------\u001b[0m\u001b[0m 21.29 MiB/32.94 MiB\n",
            "\u001b[2mpyarrow   \u001b[0m \u001b[32m----------------------------\u001b[2m--\u001b[0m\u001b[0m 33.52 MiB/36.64 MiB\n",
            "\u001b[2mnvidia-curand-cu12\u001b[0m \u001b[32m-------------------\u001b[2m-----------\u001b[0m\u001b[0m 32.98 MiB/53.85 MiB\n",
            "\u001b[2mnvidia-cufft-cu12\u001b[0m \u001b[32m---------\u001b[2m---------------------\u001b[0m\u001b[0m 33.25 MiB/116.00 MiB\n",
            "\u001b[2mnvidia-cusolver-cu12\u001b[0m \u001b[32m---------\u001b[2m---------------------\u001b[0m\u001b[0m 33.25 MiB/118.41 MiB\n",
            "\u001b[2mnvidia-nccl-cu12\u001b[0m \u001b[32m------\u001b[2m------------------------\u001b[0m\u001b[0m 32.78 MiB/168.08 MiB\n",
            "\u001b[2mnvidia-cusparse-cu12\u001b[0m \u001b[32m------\u001b[2m------------------------\u001b[0m\u001b[0m 33.49 MiB/186.88 MiB\n",
            "\u001b[2mtriton    \u001b[0m \u001b[32m-----\u001b[2m-------------------------\u001b[0m\u001b[0m 32.99 MiB/199.65 MiB\n",
            "\u001b[2mnvidia-cublas-cu12\u001b[0m \u001b[32m---\u001b[2m---------------------------\u001b[0m\u001b[0m 33.09 MiB/391.57 MiB\n",
            "\u001b[2mnvidia-cudnn-cu12\u001b[0m \u001b[32m--\u001b[2m----------------------------\u001b[0m\u001b[0m 32.51 MiB/633.96 MiB\n",
            "\u001b[2K\u001b[13A\u001b[37m⠦\u001b[0m \u001b[2mPreparing packages...\u001b[0m (119/132)\n",
            "\u001b[2mnumpy     \u001b[0m \u001b[32m------------------------------\u001b[2m\u001b[0m\u001b[0m 15.98 MiB/16.51 MiB\n",
            "\u001b[2mmlflow    \u001b[0m \u001b[32m------------------------------\u001b[2m\u001b[0m\u001b[0m 24.17 MiB/24.61 MiB\n",
            "\u001b[2mscipy     \u001b[0m \u001b[32m--------------------\u001b[2m----------\u001b[0m\u001b[0m 21.29 MiB/32.94 MiB\n",
            "\u001b[2mpyarrow   \u001b[0m \u001b[32m----------------------------\u001b[2m--\u001b[0m\u001b[0m 33.52 MiB/36.64 MiB\n",
            "\u001b[2mnvidia-curand-cu12\u001b[0m \u001b[32m-------------------\u001b[2m-----------\u001b[0m\u001b[0m 32.98 MiB/53.85 MiB\n",
            "\u001b[2mnvidia-cufft-cu12\u001b[0m \u001b[32m---------\u001b[2m---------------------\u001b[0m\u001b[0m 33.25 MiB/116.00 MiB\n",
            "\u001b[2mnvidia-cusolver-cu12\u001b[0m \u001b[32m---------\u001b[2m---------------------\u001b[0m\u001b[0m 33.25 MiB/118.41 MiB\n",
            "\u001b[2mnvidia-nccl-cu12\u001b[0m \u001b[32m------\u001b[2m------------------------\u001b[0m\u001b[0m 32.78 MiB/168.08 MiB\n",
            "\u001b[2mnvidia-cusparse-cu12\u001b[0m \u001b[32m------\u001b[2m------------------------\u001b[0m\u001b[0m 33.49 MiB/186.88 MiB\n",
            "\u001b[2mtriton    \u001b[0m \u001b[32m-----\u001b[2m-------------------------\u001b[0m\u001b[0m 32.99 MiB/199.65 MiB\n",
            "\u001b[2mnvidia-cublas-cu12\u001b[0m \u001b[32m---\u001b[2m---------------------------\u001b[0m\u001b[0m 33.09 MiB/391.57 MiB\n",
            "\u001b[2mnvidia-cudnn-cu12\u001b[0m \u001b[32m--\u001b[2m----------------------------\u001b[0m\u001b[0m 32.51 MiB/633.96 MiB\n",
            "\u001b[2K\u001b[13A\u001b[37m⠧\u001b[0m \u001b[2mPreparing packages...\u001b[0m (119/132)\n",
            "\u001b[2mnumpy     \u001b[0m \u001b[32m------------------------------\u001b[2m\u001b[0m\u001b[0m 15.98 MiB/16.51 MiB\n",
            "\u001b[2mmlflow    \u001b[0m \u001b[32m------------------------------\u001b[2m\u001b[0m\u001b[0m 24.17 MiB/24.61 MiB\n",
            "\u001b[2mscipy     \u001b[0m \u001b[32m--------------------\u001b[2m----------\u001b[0m\u001b[0m 21.29 MiB/32.94 MiB\n",
            "\u001b[2mpyarrow   \u001b[0m \u001b[32m----------------------------\u001b[2m--\u001b[0m\u001b[0m 33.52 MiB/36.64 MiB\n",
            "\u001b[2mnvidia-curand-cu12\u001b[0m \u001b[32m-------------------\u001b[2m-----------\u001b[0m\u001b[0m 32.98 MiB/53.85 MiB\n",
            "\u001b[2mnvidia-cufft-cu12\u001b[0m \u001b[32m---------\u001b[2m---------------------\u001b[0m\u001b[0m 33.25 MiB/116.00 MiB\n",
            "\u001b[2mnvidia-cusolver-cu12\u001b[0m \u001b[32m---------\u001b[2m---------------------\u001b[0m\u001b[0m 33.25 MiB/118.41 MiB\n",
            "\u001b[2mnvidia-nccl-cu12\u001b[0m \u001b[32m------\u001b[2m------------------------\u001b[0m\u001b[0m 32.78 MiB/168.08 MiB\n",
            "\u001b[2mnvidia-cusparse-cu12\u001b[0m \u001b[32m------\u001b[2m------------------------\u001b[0m\u001b[0m 33.49 MiB/186.88 MiB\n",
            "\u001b[2mtriton    \u001b[0m \u001b[32m-----\u001b[2m-------------------------\u001b[0m\u001b[0m 32.99 MiB/199.65 MiB\n",
            "\u001b[2mnvidia-cublas-cu12\u001b[0m \u001b[32m---\u001b[2m---------------------------\u001b[0m\u001b[0m 33.09 MiB/391.57 MiB\n",
            "\u001b[2mnvidia-cudnn-cu12\u001b[0m \u001b[32m--\u001b[2m----------------------------\u001b[0m\u001b[0m 32.51 MiB/633.96 MiB\n",
            "\u001b[2K\u001b[13A\u001b[37m⠧\u001b[0m \u001b[2mPreparing packages...\u001b[0m (119/132)\n",
            "\u001b[2mnumpy     \u001b[0m \u001b[32m------------------------------\u001b[2m\u001b[0m\u001b[0m 15.98 MiB/16.51 MiB\n",
            "\u001b[2mmlflow    \u001b[0m \u001b[32m------------------------------\u001b[2m\u001b[0m\u001b[0m 24.17 MiB/24.61 MiB\n",
            "\u001b[2mscipy     \u001b[0m \u001b[32m--------------------\u001b[2m----------\u001b[0m\u001b[0m 21.29 MiB/32.94 MiB\n",
            "\u001b[2mpyarrow   \u001b[0m \u001b[32m----------------------------\u001b[2m--\u001b[0m\u001b[0m 33.52 MiB/36.64 MiB\n",
            "\u001b[2mnvidia-curand-cu12\u001b[0m \u001b[32m-------------------\u001b[2m-----------\u001b[0m\u001b[0m 32.98 MiB/53.85 MiB\n",
            "\u001b[2mnvidia-cufft-cu12\u001b[0m \u001b[32m---------\u001b[2m---------------------\u001b[0m\u001b[0m 33.25 MiB/116.00 MiB\n",
            "\u001b[2mnvidia-cusolver-cu12\u001b[0m \u001b[32m---------\u001b[2m---------------------\u001b[0m\u001b[0m 33.25 MiB/118.41 MiB\n",
            "\u001b[2mnvidia-nccl-cu12\u001b[0m \u001b[32m------\u001b[2m------------------------\u001b[0m\u001b[0m 32.78 MiB/168.08 MiB\n",
            "\u001b[2mnvidia-cusparse-cu12\u001b[0m \u001b[32m------\u001b[2m------------------------\u001b[0m\u001b[0m 33.49 MiB/186.88 MiB\n",
            "\u001b[2mtriton    \u001b[0m \u001b[32m-----\u001b[2m-------------------------\u001b[0m\u001b[0m 33.01 MiB/199.65 MiB\n",
            "\u001b[2mnvidia-cublas-cu12\u001b[0m \u001b[32m---\u001b[2m---------------------------\u001b[0m\u001b[0m 33.09 MiB/391.57 MiB\n",
            "\u001b[2mnvidia-cudnn-cu12\u001b[0m \u001b[32m--\u001b[2m----------------------------\u001b[0m\u001b[0m 32.51 MiB/633.96 MiB\n",
            "\u001b[2K\u001b[13A\u001b[37m⠧\u001b[0m \u001b[2mPreparing packages...\u001b[0m (119/132)\n",
            "\u001b[2mnumpy     \u001b[0m \u001b[32m------------------------------\u001b[2m\u001b[0m\u001b[0m 15.98 MiB/16.51 MiB\n",
            "\u001b[2mmlflow    \u001b[0m \u001b[32m------------------------------\u001b[2m\u001b[0m\u001b[0m 24.17 MiB/24.61 MiB\n",
            "\u001b[2mscipy     \u001b[0m \u001b[32m--------------------\u001b[2m----------\u001b[0m\u001b[0m 21.29 MiB/32.94 MiB\n",
            "\u001b[2mpyarrow   \u001b[0m \u001b[32m----------------------------\u001b[2m--\u001b[0m\u001b[0m 33.52 MiB/36.64 MiB\n",
            "\u001b[2mnvidia-curand-cu12\u001b[0m \u001b[32m-------------------\u001b[2m-----------\u001b[0m\u001b[0m 32.98 MiB/53.85 MiB\n",
            "\u001b[2mnvidia-cufft-cu12\u001b[0m \u001b[32m---------\u001b[2m---------------------\u001b[0m\u001b[0m 33.25 MiB/116.00 MiB\n",
            "\u001b[2mnvidia-cusolver-cu12\u001b[0m \u001b[32m---------\u001b[2m---------------------\u001b[0m\u001b[0m 33.25 MiB/118.41 MiB\n",
            "\u001b[2mnvidia-nccl-cu12\u001b[0m \u001b[32m------\u001b[2m------------------------\u001b[0m\u001b[0m 32.78 MiB/168.08 MiB\n",
            "\u001b[2mnvidia-cusparse-cu12\u001b[0m \u001b[32m------\u001b[2m------------------------\u001b[0m\u001b[0m 33.49 MiB/186.88 MiB\n",
            "\u001b[2mtriton    \u001b[0m \u001b[32m-----\u001b[2m-------------------------\u001b[0m\u001b[0m 33.03 MiB/199.65 MiB\n",
            "\u001b[2mnvidia-cublas-cu12\u001b[0m \u001b[32m---\u001b[2m---------------------------\u001b[0m\u001b[0m 33.09 MiB/391.57 MiB\n",
            "\u001b[2mnvidia-cudnn-cu12\u001b[0m \u001b[32m--\u001b[2m----------------------------\u001b[0m\u001b[0m 32.51 MiB/633.96 MiB\n",
            "\u001b[2K\u001b[13A\u001b[37m⠧\u001b[0m \u001b[2mPreparing packages...\u001b[0m (119/132)\n",
            "\u001b[2mnumpy     \u001b[0m \u001b[32m------------------------------\u001b[2m\u001b[0m\u001b[0m 15.98 MiB/16.51 MiB\n",
            "\u001b[2mmlflow    \u001b[0m \u001b[32m------------------------------\u001b[2m\u001b[0m\u001b[0m 24.17 MiB/24.61 MiB\n",
            "\u001b[2mscipy     \u001b[0m \u001b[32m--------------------\u001b[2m----------\u001b[0m\u001b[0m 21.29 MiB/32.94 MiB\n",
            "\u001b[2mpyarrow   \u001b[0m \u001b[32m----------------------------\u001b[2m--\u001b[0m\u001b[0m 33.52 MiB/36.64 MiB\n",
            "\u001b[2mnvidia-curand-cu12\u001b[0m \u001b[32m-------------------\u001b[2m-----------\u001b[0m\u001b[0m 32.98 MiB/53.85 MiB\n",
            "\u001b[2mnvidia-cufft-cu12\u001b[0m \u001b[32m---------\u001b[2m---------------------\u001b[0m\u001b[0m 33.25 MiB/116.00 MiB\n",
            "\u001b[2mnvidia-cusolver-cu12\u001b[0m \u001b[32m---------\u001b[2m---------------------\u001b[0m\u001b[0m 33.25 MiB/118.41 MiB\n",
            "\u001b[2mnvidia-nccl-cu12\u001b[0m \u001b[32m------\u001b[2m------------------------\u001b[0m\u001b[0m 32.78 MiB/168.08 MiB\n",
            "\u001b[2mnvidia-cusparse-cu12\u001b[0m \u001b[32m------\u001b[2m------------------------\u001b[0m\u001b[0m 33.49 MiB/186.88 MiB\n",
            "\u001b[2mtriton    \u001b[0m \u001b[32m-----\u001b[2m-------------------------\u001b[0m\u001b[0m 33.04 MiB/199.65 MiB\n",
            "\u001b[2mnvidia-cublas-cu12\u001b[0m \u001b[32m---\u001b[2m---------------------------\u001b[0m\u001b[0m 33.09 MiB/391.57 MiB\n",
            "\u001b[2mnvidia-cudnn-cu12\u001b[0m \u001b[32m--\u001b[2m----------------------------\u001b[0m\u001b[0m 32.51 MiB/633.96 MiB\n",
            "\u001b[2K\u001b[13A\u001b[37m⠧\u001b[0m \u001b[2mPreparing packages...\u001b[0m (119/132)\n",
            "\u001b[2mnumpy     \u001b[0m \u001b[32m------------------------------\u001b[2m\u001b[0m\u001b[0m 15.98 MiB/16.51 MiB\n",
            "\u001b[2mmlflow    \u001b[0m \u001b[32m------------------------------\u001b[2m\u001b[0m\u001b[0m 24.17 MiB/24.61 MiB\n",
            "\u001b[2mscipy     \u001b[0m \u001b[32m--------------------\u001b[2m----------\u001b[0m\u001b[0m 21.29 MiB/32.94 MiB\n",
            "\u001b[2mpyarrow   \u001b[0m \u001b[32m----------------------------\u001b[2m--\u001b[0m\u001b[0m 33.52 MiB/36.64 MiB\n",
            "\u001b[2mnvidia-curand-cu12\u001b[0m \u001b[32m-------------------\u001b[2m-----------\u001b[0m\u001b[0m 32.98 MiB/53.85 MiB\n",
            "\u001b[2mnvidia-cufft-cu12\u001b[0m \u001b[32m---------\u001b[2m---------------------\u001b[0m\u001b[0m 33.25 MiB/116.00 MiB\n",
            "\u001b[2mnvidia-cusolver-cu12\u001b[0m \u001b[32m---------\u001b[2m---------------------\u001b[0m\u001b[0m 33.25 MiB/118.41 MiB\n",
            "\u001b[2mnvidia-nccl-cu12\u001b[0m \u001b[32m------\u001b[2m------------------------\u001b[0m\u001b[0m 32.78 MiB/168.08 MiB\n",
            "\u001b[2mnvidia-cusparse-cu12\u001b[0m \u001b[32m------\u001b[2m------------------------\u001b[0m\u001b[0m 33.49 MiB/186.88 MiB\n",
            "\u001b[2mtriton    \u001b[0m \u001b[32m-----\u001b[2m-------------------------\u001b[0m\u001b[0m 33.06 MiB/199.65 MiB\n",
            "\u001b[2mnvidia-cublas-cu12\u001b[0m \u001b[32m---\u001b[2m---------------------------\u001b[0m\u001b[0m 33.09 MiB/391.57 MiB\n",
            "\u001b[2mnvidia-cudnn-cu12\u001b[0m \u001b[32m--\u001b[2m----------------------------\u001b[0m\u001b[0m 32.51 MiB/633.96 MiB\n",
            "\u001b[2K\u001b[13A\u001b[37m⠧\u001b[0m \u001b[2mPreparing packages...\u001b[0m (119/132)\n",
            "\u001b[2mnumpy     \u001b[0m \u001b[32m------------------------------\u001b[2m\u001b[0m\u001b[0m 15.98 MiB/16.51 MiB\n",
            "\u001b[2mmlflow    \u001b[0m \u001b[32m------------------------------\u001b[2m\u001b[0m\u001b[0m 24.17 MiB/24.61 MiB\n",
            "\u001b[2mscipy     \u001b[0m \u001b[32m--------------------\u001b[2m----------\u001b[0m\u001b[0m 21.29 MiB/32.94 MiB\n",
            "\u001b[2mpyarrow   \u001b[0m \u001b[32m----------------------------\u001b[2m--\u001b[0m\u001b[0m 33.52 MiB/36.64 MiB\n",
            "\u001b[2mnvidia-curand-cu12\u001b[0m \u001b[32m-------------------\u001b[2m-----------\u001b[0m\u001b[0m 32.98 MiB/53.85 MiB\n",
            "\u001b[2mnvidia-cufft-cu12\u001b[0m \u001b[32m---------\u001b[2m---------------------\u001b[0m\u001b[0m 33.25 MiB/116.00 MiB\n",
            "\u001b[2mnvidia-cusolver-cu12\u001b[0m \u001b[32m---------\u001b[2m---------------------\u001b[0m\u001b[0m 33.25 MiB/118.41 MiB\n",
            "\u001b[2mnvidia-nccl-cu12\u001b[0m \u001b[32m------\u001b[2m------------------------\u001b[0m\u001b[0m 32.78 MiB/168.08 MiB\n",
            "\u001b[2mnvidia-cusparse-cu12\u001b[0m \u001b[32m------\u001b[2m------------------------\u001b[0m\u001b[0m 33.49 MiB/186.88 MiB\n",
            "\u001b[2mtriton    \u001b[0m \u001b[32m-----\u001b[2m-------------------------\u001b[0m\u001b[0m 33.07 MiB/199.65 MiB\n",
            "\u001b[2mnvidia-cublas-cu12\u001b[0m \u001b[32m---\u001b[2m---------------------------\u001b[0m\u001b[0m 33.09 MiB/391.57 MiB\n",
            "\u001b[2mnvidia-cudnn-cu12\u001b[0m \u001b[32m--\u001b[2m----------------------------\u001b[0m\u001b[0m 32.51 MiB/633.96 MiB\n",
            "\u001b[2K\u001b[13A\u001b[37m⠧\u001b[0m \u001b[2mPreparing packages...\u001b[0m (119/132)\n",
            "\u001b[2mnumpy     \u001b[0m \u001b[32m------------------------------\u001b[2m\u001b[0m\u001b[0m 15.98 MiB/16.51 MiB\n",
            "\u001b[2mmlflow    \u001b[0m \u001b[32m------------------------------\u001b[2m\u001b[0m\u001b[0m 24.17 MiB/24.61 MiB\n",
            "\u001b[2mscipy     \u001b[0m \u001b[32m--------------------\u001b[2m----------\u001b[0m\u001b[0m 21.29 MiB/32.94 MiB\n",
            "\u001b[2mpyarrow   \u001b[0m \u001b[32m----------------------------\u001b[2m--\u001b[0m\u001b[0m 33.52 MiB/36.64 MiB\n",
            "\u001b[2mnvidia-curand-cu12\u001b[0m \u001b[32m-------------------\u001b[2m-----------\u001b[0m\u001b[0m 32.98 MiB/53.85 MiB\n",
            "\u001b[2mnvidia-cufft-cu12\u001b[0m \u001b[32m---------\u001b[2m---------------------\u001b[0m\u001b[0m 33.25 MiB/116.00 MiB\n",
            "\u001b[2mnvidia-cusolver-cu12\u001b[0m \u001b[32m---------\u001b[2m---------------------\u001b[0m\u001b[0m 33.25 MiB/118.41 MiB\n",
            "\u001b[2mnvidia-nccl-cu12\u001b[0m \u001b[32m------\u001b[2m------------------------\u001b[0m\u001b[0m 32.78 MiB/168.08 MiB\n",
            "\u001b[2mnvidia-cusparse-cu12\u001b[0m \u001b[32m------\u001b[2m------------------------\u001b[0m\u001b[0m 33.49 MiB/186.88 MiB\n",
            "\u001b[2mtriton    \u001b[0m \u001b[32m-----\u001b[2m-------------------------\u001b[0m\u001b[0m 33.09 MiB/199.65 MiB\n",
            "\u001b[2mnvidia-cublas-cu12\u001b[0m \u001b[32m---\u001b[2m---------------------------\u001b[0m\u001b[0m 33.09 MiB/391.57 MiB\n",
            "\u001b[2mnvidia-cudnn-cu12\u001b[0m \u001b[32m--\u001b[2m----------------------------\u001b[0m\u001b[0m 32.51 MiB/633.96 MiB\n",
            "\u001b[2K\u001b[13A\u001b[37m⠧\u001b[0m \u001b[2mPreparing packages...\u001b[0m (119/132)\n",
            "\u001b[2mnumpy     \u001b[0m \u001b[32m------------------------------\u001b[2m\u001b[0m\u001b[0m 15.98 MiB/16.51 MiB\n",
            "\u001b[2mmlflow    \u001b[0m \u001b[32m------------------------------\u001b[2m\u001b[0m\u001b[0m 24.17 MiB/24.61 MiB\n",
            "\u001b[2mscipy     \u001b[0m \u001b[32m--------------------\u001b[2m----------\u001b[0m\u001b[0m 21.29 MiB/32.94 MiB\n",
            "\u001b[2mpyarrow   \u001b[0m \u001b[32m----------------------------\u001b[2m--\u001b[0m\u001b[0m 33.52 MiB/36.64 MiB\n",
            "\u001b[2mnvidia-curand-cu12\u001b[0m \u001b[32m-------------------\u001b[2m-----------\u001b[0m\u001b[0m 32.98 MiB/53.85 MiB\n",
            "\u001b[2mnvidia-cufft-cu12\u001b[0m \u001b[32m---------\u001b[2m---------------------\u001b[0m\u001b[0m 33.25 MiB/116.00 MiB\n",
            "\u001b[2mnvidia-cusolver-cu12\u001b[0m \u001b[32m---------\u001b[2m---------------------\u001b[0m\u001b[0m 33.25 MiB/118.41 MiB\n",
            "\u001b[2mnvidia-nccl-cu12\u001b[0m \u001b[32m------\u001b[2m------------------------\u001b[0m\u001b[0m 32.78 MiB/168.08 MiB\n",
            "\u001b[2mnvidia-cusparse-cu12\u001b[0m \u001b[32m------\u001b[2m------------------------\u001b[0m\u001b[0m 33.49 MiB/186.88 MiB\n",
            "\u001b[2mtriton    \u001b[0m \u001b[32m-----\u001b[2m-------------------------\u001b[0m\u001b[0m 33.10 MiB/199.65 MiB\n",
            "\u001b[2mnvidia-cublas-cu12\u001b[0m \u001b[32m---\u001b[2m---------------------------\u001b[0m\u001b[0m 33.09 MiB/391.57 MiB\n",
            "\u001b[2mnvidia-cudnn-cu12\u001b[0m \u001b[32m--\u001b[2m----------------------------\u001b[0m\u001b[0m 32.51 MiB/633.96 MiB\n",
            "\u001b[2K\u001b[13A\u001b[37m⠧\u001b[0m \u001b[2mPreparing packages...\u001b[0m (119/132)\n",
            "\u001b[2mnumpy     \u001b[0m \u001b[32m------------------------------\u001b[2m\u001b[0m\u001b[0m 15.98 MiB/16.51 MiB\n",
            "\u001b[2mmlflow    \u001b[0m \u001b[32m------------------------------\u001b[2m\u001b[0m\u001b[0m 24.17 MiB/24.61 MiB\n",
            "\u001b[2mscipy     \u001b[0m \u001b[32m--------------------\u001b[2m----------\u001b[0m\u001b[0m 21.29 MiB/32.94 MiB\n",
            "\u001b[2mpyarrow   \u001b[0m \u001b[32m----------------------------\u001b[2m--\u001b[0m\u001b[0m 33.52 MiB/36.64 MiB\n",
            "\u001b[2mnvidia-curand-cu12\u001b[0m \u001b[32m-------------------\u001b[2m-----------\u001b[0m\u001b[0m 32.98 MiB/53.85 MiB\n",
            "\u001b[2mnvidia-cufft-cu12\u001b[0m \u001b[32m---------\u001b[2m---------------------\u001b[0m\u001b[0m 33.25 MiB/116.00 MiB\n",
            "\u001b[2mnvidia-cusolver-cu12\u001b[0m \u001b[32m---------\u001b[2m---------------------\u001b[0m\u001b[0m 33.25 MiB/118.41 MiB\n",
            "\u001b[2mnvidia-nccl-cu12\u001b[0m \u001b[32m------\u001b[2m------------------------\u001b[0m\u001b[0m 32.78 MiB/168.08 MiB\n",
            "\u001b[2mnvidia-cusparse-cu12\u001b[0m \u001b[32m------\u001b[2m------------------------\u001b[0m\u001b[0m 33.49 MiB/186.88 MiB\n",
            "\u001b[2mtriton    \u001b[0m \u001b[32m-----\u001b[2m-------------------------\u001b[0m\u001b[0m 33.12 MiB/199.65 MiB\n",
            "\u001b[2mnvidia-cublas-cu12\u001b[0m \u001b[32m---\u001b[2m---------------------------\u001b[0m\u001b[0m 33.09 MiB/391.57 MiB\n",
            "\u001b[2mnvidia-cudnn-cu12\u001b[0m \u001b[32m--\u001b[2m----------------------------\u001b[0m\u001b[0m 32.51 MiB/633.96 MiB\n",
            "\u001b[2K\u001b[13A\u001b[37m⠧\u001b[0m \u001b[2mPreparing packages...\u001b[0m (119/132)\n",
            "\u001b[2mnumpy     \u001b[0m \u001b[32m------------------------------\u001b[2m\u001b[0m\u001b[0m 15.98 MiB/16.51 MiB\n",
            "\u001b[2mmlflow    \u001b[0m \u001b[32m------------------------------\u001b[2m\u001b[0m\u001b[0m 24.17 MiB/24.61 MiB\n",
            "\u001b[2mscipy     \u001b[0m \u001b[32m--------------------\u001b[2m----------\u001b[0m\u001b[0m 21.29 MiB/32.94 MiB\n",
            "\u001b[2mpyarrow   \u001b[0m \u001b[32m----------------------------\u001b[2m--\u001b[0m\u001b[0m 33.52 MiB/36.64 MiB\n",
            "\u001b[2mnvidia-curand-cu12\u001b[0m \u001b[32m-------------------\u001b[2m-----------\u001b[0m\u001b[0m 32.98 MiB/53.85 MiB\n",
            "\u001b[2mnvidia-cufft-cu12\u001b[0m \u001b[32m---------\u001b[2m---------------------\u001b[0m\u001b[0m 33.25 MiB/116.00 MiB\n",
            "\u001b[2mnvidia-cusolver-cu12\u001b[0m \u001b[32m---------\u001b[2m---------------------\u001b[0m\u001b[0m 33.25 MiB/118.41 MiB\n",
            "\u001b[2mnvidia-nccl-cu12\u001b[0m \u001b[32m------\u001b[2m------------------------\u001b[0m\u001b[0m 32.78 MiB/168.08 MiB\n",
            "\u001b[2mnvidia-cusparse-cu12\u001b[0m \u001b[32m------\u001b[2m------------------------\u001b[0m\u001b[0m 33.49 MiB/186.88 MiB\n",
            "\u001b[2mtriton    \u001b[0m \u001b[32m-----\u001b[2m-------------------------\u001b[0m\u001b[0m 33.13 MiB/199.65 MiB\n",
            "\u001b[2mnvidia-cublas-cu12\u001b[0m \u001b[32m---\u001b[2m---------------------------\u001b[0m\u001b[0m 33.09 MiB/391.57 MiB\n",
            "\u001b[2mnvidia-cudnn-cu12\u001b[0m \u001b[32m--\u001b[2m----------------------------\u001b[0m\u001b[0m 32.51 MiB/633.96 MiB\n",
            "\u001b[2K\u001b[13A\u001b[37m⠧\u001b[0m \u001b[2mPreparing packages...\u001b[0m (119/132)\n",
            "\u001b[2mnumpy     \u001b[0m \u001b[32m------------------------------\u001b[2m\u001b[0m\u001b[0m 15.98 MiB/16.51 MiB\n",
            "\u001b[2mmlflow    \u001b[0m \u001b[32m------------------------------\u001b[2m\u001b[0m\u001b[0m 24.17 MiB/24.61 MiB\n",
            "\u001b[2mscipy     \u001b[0m \u001b[32m--------------------\u001b[2m----------\u001b[0m\u001b[0m 21.29 MiB/32.94 MiB\n",
            "\u001b[2mpyarrow   \u001b[0m \u001b[32m----------------------------\u001b[2m--\u001b[0m\u001b[0m 33.52 MiB/36.64 MiB\n",
            "\u001b[2mnvidia-curand-cu12\u001b[0m \u001b[32m-------------------\u001b[2m-----------\u001b[0m\u001b[0m 32.98 MiB/53.85 MiB\n",
            "\u001b[2mnvidia-cufft-cu12\u001b[0m \u001b[32m---------\u001b[2m---------------------\u001b[0m\u001b[0m 33.25 MiB/116.00 MiB\n",
            "\u001b[2mnvidia-cusolver-cu12\u001b[0m \u001b[32m---------\u001b[2m---------------------\u001b[0m\u001b[0m 33.25 MiB/118.41 MiB\n",
            "\u001b[2mnvidia-nccl-cu12\u001b[0m \u001b[32m------\u001b[2m------------------------\u001b[0m\u001b[0m 32.78 MiB/168.08 MiB\n",
            "\u001b[2mnvidia-cusparse-cu12\u001b[0m \u001b[32m------\u001b[2m------------------------\u001b[0m\u001b[0m 33.49 MiB/186.88 MiB\n",
            "\u001b[2mtriton    \u001b[0m \u001b[32m-----\u001b[2m-------------------------\u001b[0m\u001b[0m 33.15 MiB/199.65 MiB\n",
            "\u001b[2mnvidia-cublas-cu12\u001b[0m \u001b[32m---\u001b[2m---------------------------\u001b[0m\u001b[0m 33.09 MiB/391.57 MiB\n",
            "\u001b[2mnvidia-cudnn-cu12\u001b[0m \u001b[32m--\u001b[2m----------------------------\u001b[0m\u001b[0m 32.51 MiB/633.96 MiB\n",
            "\u001b[2K\u001b[13A\u001b[37m⠧\u001b[0m \u001b[2mPreparing packages...\u001b[0m (119/132)\n",
            "\u001b[2mnumpy     \u001b[0m \u001b[32m------------------------------\u001b[2m\u001b[0m\u001b[0m 15.98 MiB/16.51 MiB\n",
            "\u001b[2mmlflow    \u001b[0m \u001b[32m------------------------------\u001b[2m\u001b[0m\u001b[0m 24.17 MiB/24.61 MiB\n",
            "\u001b[2mscipy     \u001b[0m \u001b[32m--------------------\u001b[2m----------\u001b[0m\u001b[0m 21.29 MiB/32.94 MiB\n",
            "\u001b[2mpyarrow   \u001b[0m \u001b[32m----------------------------\u001b[2m--\u001b[0m\u001b[0m 33.52 MiB/36.64 MiB\n",
            "\u001b[2mnvidia-curand-cu12\u001b[0m \u001b[32m-------------------\u001b[2m-----------\u001b[0m\u001b[0m 32.98 MiB/53.85 MiB\n",
            "\u001b[2mnvidia-cufft-cu12\u001b[0m \u001b[32m---------\u001b[2m---------------------\u001b[0m\u001b[0m 33.25 MiB/116.00 MiB\n",
            "\u001b[2mnvidia-cusolver-cu12\u001b[0m \u001b[32m---------\u001b[2m---------------------\u001b[0m\u001b[0m 33.25 MiB/118.41 MiB\n",
            "\u001b[2mnvidia-nccl-cu12\u001b[0m \u001b[32m------\u001b[2m------------------------\u001b[0m\u001b[0m 32.78 MiB/168.08 MiB\n",
            "\u001b[2mnvidia-cusparse-cu12\u001b[0m \u001b[32m------\u001b[2m------------------------\u001b[0m\u001b[0m 33.49 MiB/186.88 MiB\n",
            "\u001b[2mtriton    \u001b[0m \u001b[32m-----\u001b[2m-------------------------\u001b[0m\u001b[0m 33.17 MiB/199.65 MiB\n",
            "\u001b[2mnvidia-cublas-cu12\u001b[0m \u001b[32m---\u001b[2m---------------------------\u001b[0m\u001b[0m 33.09 MiB/391.57 MiB\n",
            "\u001b[2mnvidia-cudnn-cu12\u001b[0m \u001b[32m--\u001b[2m----------------------------\u001b[0m\u001b[0m 32.51 MiB/633.96 MiB\n",
            "\u001b[2K\u001b[13A\u001b[37m⠧\u001b[0m \u001b[2mPreparing packages...\u001b[0m (119/132)\n",
            "\u001b[2mnumpy     \u001b[0m \u001b[32m------------------------------\u001b[2m\u001b[0m\u001b[0m 15.98 MiB/16.51 MiB\n",
            "\u001b[2mmlflow    \u001b[0m \u001b[32m------------------------------\u001b[2m\u001b[0m\u001b[0m 24.17 MiB/24.61 MiB\n",
            "\u001b[2mscipy     \u001b[0m \u001b[32m--------------------\u001b[2m----------\u001b[0m\u001b[0m 21.29 MiB/32.94 MiB\n",
            "\u001b[2mpyarrow   \u001b[0m \u001b[32m----------------------------\u001b[2m--\u001b[0m\u001b[0m 33.52 MiB/36.64 MiB\n",
            "\u001b[2mnvidia-curand-cu12\u001b[0m \u001b[32m-------------------\u001b[2m-----------\u001b[0m\u001b[0m 32.98 MiB/53.85 MiB\n",
            "\u001b[2mnvidia-cufft-cu12\u001b[0m \u001b[32m---------\u001b[2m---------------------\u001b[0m\u001b[0m 33.25 MiB/116.00 MiB\n",
            "\u001b[2mnvidia-cusolver-cu12\u001b[0m \u001b[32m---------\u001b[2m---------------------\u001b[0m\u001b[0m 33.25 MiB/118.41 MiB\n",
            "\u001b[2mnvidia-nccl-cu12\u001b[0m \u001b[32m------\u001b[2m------------------------\u001b[0m\u001b[0m 32.78 MiB/168.08 MiB\n",
            "\u001b[2mnvidia-cusparse-cu12\u001b[0m \u001b[32m------\u001b[2m------------------------\u001b[0m\u001b[0m 33.49 MiB/186.88 MiB\n",
            "\u001b[2mtriton    \u001b[0m \u001b[32m-----\u001b[2m-------------------------\u001b[0m\u001b[0m 33.18 MiB/199.65 MiB\n",
            "\u001b[2mnvidia-cublas-cu12\u001b[0m \u001b[32m---\u001b[2m---------------------------\u001b[0m\u001b[0m 33.09 MiB/391.57 MiB\n",
            "\u001b[2mnvidia-cudnn-cu12\u001b[0m \u001b[32m--\u001b[2m----------------------------\u001b[0m\u001b[0m 32.51 MiB/633.96 MiB\n",
            "\u001b[2K\u001b[13A\u001b[37m⠧\u001b[0m \u001b[2mPreparing packages...\u001b[0m (119/132)\n",
            "\u001b[2mnumpy     \u001b[0m \u001b[32m------------------------------\u001b[2m\u001b[0m\u001b[0m 15.98 MiB/16.51 MiB\n",
            "\u001b[2mmlflow    \u001b[0m \u001b[32m------------------------------\u001b[2m\u001b[0m\u001b[0m 24.17 MiB/24.61 MiB\n",
            "\u001b[2mscipy     \u001b[0m \u001b[32m--------------------\u001b[2m----------\u001b[0m\u001b[0m 21.29 MiB/32.94 MiB\n",
            "\u001b[2mpyarrow   \u001b[0m \u001b[32m----------------------------\u001b[2m--\u001b[0m\u001b[0m 33.52 MiB/36.64 MiB\n",
            "\u001b[2mnvidia-curand-cu12\u001b[0m \u001b[32m-------------------\u001b[2m-----------\u001b[0m\u001b[0m 32.98 MiB/53.85 MiB\n",
            "\u001b[2mnvidia-cufft-cu12\u001b[0m \u001b[32m---------\u001b[2m---------------------\u001b[0m\u001b[0m 33.25 MiB/116.00 MiB\n",
            "\u001b[2mnvidia-cusolver-cu12\u001b[0m \u001b[32m---------\u001b[2m---------------------\u001b[0m\u001b[0m 33.25 MiB/118.41 MiB\n",
            "\u001b[2mnvidia-nccl-cu12\u001b[0m \u001b[32m------\u001b[2m------------------------\u001b[0m\u001b[0m 32.78 MiB/168.08 MiB\n",
            "\u001b[2mnvidia-cusparse-cu12\u001b[0m \u001b[32m------\u001b[2m------------------------\u001b[0m\u001b[0m 33.49 MiB/186.88 MiB\n",
            "\u001b[2mtriton    \u001b[0m \u001b[32m-----\u001b[2m-------------------------\u001b[0m\u001b[0m 33.20 MiB/199.65 MiB\n",
            "\u001b[2mnvidia-cublas-cu12\u001b[0m \u001b[32m---\u001b[2m---------------------------\u001b[0m\u001b[0m 33.09 MiB/391.57 MiB\n",
            "\u001b[2mnvidia-cudnn-cu12\u001b[0m \u001b[32m--\u001b[2m----------------------------\u001b[0m\u001b[0m 32.51 MiB/633.96 MiB\n",
            "\u001b[2K\u001b[13A\u001b[37m⠧\u001b[0m \u001b[2mPreparing packages...\u001b[0m (119/132)\n",
            "\u001b[2mnumpy     \u001b[0m \u001b[32m------------------------------\u001b[2m\u001b[0m\u001b[0m 15.98 MiB/16.51 MiB\n",
            "\u001b[2mmlflow    \u001b[0m \u001b[32m------------------------------\u001b[2m\u001b[0m\u001b[0m 24.17 MiB/24.61 MiB\n",
            "\u001b[2mscipy     \u001b[0m \u001b[32m--------------------\u001b[2m----------\u001b[0m\u001b[0m 21.29 MiB/32.94 MiB\n",
            "\u001b[2mpyarrow   \u001b[0m \u001b[32m----------------------------\u001b[2m--\u001b[0m\u001b[0m 33.52 MiB/36.64 MiB\n",
            "\u001b[2mnvidia-curand-cu12\u001b[0m \u001b[32m-------------------\u001b[2m-----------\u001b[0m\u001b[0m 32.98 MiB/53.85 MiB\n",
            "\u001b[2mnvidia-cufft-cu12\u001b[0m \u001b[32m---------\u001b[2m---------------------\u001b[0m\u001b[0m 33.25 MiB/116.00 MiB\n",
            "\u001b[2mnvidia-cusolver-cu12\u001b[0m \u001b[32m---------\u001b[2m---------------------\u001b[0m\u001b[0m 33.25 MiB/118.41 MiB\n",
            "\u001b[2mnvidia-nccl-cu12\u001b[0m \u001b[32m------\u001b[2m------------------------\u001b[0m\u001b[0m 32.78 MiB/168.08 MiB\n",
            "\u001b[2mnvidia-cusparse-cu12\u001b[0m \u001b[32m------\u001b[2m------------------------\u001b[0m\u001b[0m 33.49 MiB/186.88 MiB\n",
            "\u001b[2mtriton    \u001b[0m \u001b[32m-----\u001b[2m-------------------------\u001b[0m\u001b[0m 33.21 MiB/199.65 MiB\n",
            "\u001b[2mnvidia-cublas-cu12\u001b[0m \u001b[32m---\u001b[2m---------------------------\u001b[0m\u001b[0m 33.09 MiB/391.57 MiB\n",
            "\u001b[2mnvidia-cudnn-cu12\u001b[0m \u001b[32m--\u001b[2m----------------------------\u001b[0m\u001b[0m 32.51 MiB/633.96 MiB\n",
            "\u001b[2K\u001b[13A\u001b[37m⠧\u001b[0m \u001b[2mPreparing packages...\u001b[0m (119/132)\n",
            "\u001b[2mnumpy     \u001b[0m \u001b[32m------------------------------\u001b[2m\u001b[0m\u001b[0m 15.98 MiB/16.51 MiB\n",
            "\u001b[2mmlflow    \u001b[0m \u001b[32m------------------------------\u001b[2m\u001b[0m\u001b[0m 24.17 MiB/24.61 MiB\n",
            "\u001b[2mscipy     \u001b[0m \u001b[32m--------------------\u001b[2m----------\u001b[0m\u001b[0m 21.29 MiB/32.94 MiB\n",
            "\u001b[2mpyarrow   \u001b[0m \u001b[32m----------------------------\u001b[2m--\u001b[0m\u001b[0m 33.52 MiB/36.64 MiB\n",
            "\u001b[2mnvidia-curand-cu12\u001b[0m \u001b[32m-------------------\u001b[2m-----------\u001b[0m\u001b[0m 32.98 MiB/53.85 MiB\n",
            "\u001b[2mnvidia-cufft-cu12\u001b[0m \u001b[32m---------\u001b[2m---------------------\u001b[0m\u001b[0m 33.25 MiB/116.00 MiB\n",
            "\u001b[2mnvidia-cusolver-cu12\u001b[0m \u001b[32m---------\u001b[2m---------------------\u001b[0m\u001b[0m 33.25 MiB/118.41 MiB\n",
            "\u001b[2mnvidia-nccl-cu12\u001b[0m \u001b[32m------\u001b[2m------------------------\u001b[0m\u001b[0m 32.78 MiB/168.08 MiB\n",
            "\u001b[2mnvidia-cusparse-cu12\u001b[0m \u001b[32m------\u001b[2m------------------------\u001b[0m\u001b[0m 33.49 MiB/186.88 MiB\n",
            "\u001b[2mtriton    \u001b[0m \u001b[32m-----\u001b[2m-------------------------\u001b[0m\u001b[0m 33.23 MiB/199.65 MiB\n",
            "\u001b[2mnvidia-cublas-cu12\u001b[0m \u001b[32m---\u001b[2m---------------------------\u001b[0m\u001b[0m 33.09 MiB/391.57 MiB\n",
            "\u001b[2mnvidia-cudnn-cu12\u001b[0m \u001b[32m--\u001b[2m----------------------------\u001b[0m\u001b[0m 32.51 MiB/633.96 MiB\n",
            "\u001b[2K\u001b[13A\u001b[37m⠧\u001b[0m \u001b[2mPreparing packages...\u001b[0m (119/132)\n",
            "\u001b[2mnumpy     \u001b[0m \u001b[32m------------------------------\u001b[2m\u001b[0m\u001b[0m 15.98 MiB/16.51 MiB\n",
            "\u001b[2mmlflow    \u001b[0m \u001b[32m------------------------------\u001b[2m\u001b[0m\u001b[0m 24.17 MiB/24.61 MiB\n",
            "\u001b[2mscipy     \u001b[0m \u001b[32m--------------------\u001b[2m----------\u001b[0m\u001b[0m 21.29 MiB/32.94 MiB\n",
            "\u001b[2mpyarrow   \u001b[0m \u001b[32m----------------------------\u001b[2m--\u001b[0m\u001b[0m 33.52 MiB/36.64 MiB\n",
            "\u001b[2mnvidia-curand-cu12\u001b[0m \u001b[32m-------------------\u001b[2m-----------\u001b[0m\u001b[0m 32.98 MiB/53.85 MiB\n",
            "\u001b[2mnvidia-cufft-cu12\u001b[0m \u001b[32m---------\u001b[2m---------------------\u001b[0m\u001b[0m 33.25 MiB/116.00 MiB\n",
            "\u001b[2mnvidia-cusolver-cu12\u001b[0m \u001b[32m---------\u001b[2m---------------------\u001b[0m\u001b[0m 33.25 MiB/118.41 MiB\n",
            "\u001b[2mnvidia-nccl-cu12\u001b[0m \u001b[32m------\u001b[2m------------------------\u001b[0m\u001b[0m 32.78 MiB/168.08 MiB\n",
            "\u001b[2mnvidia-cusparse-cu12\u001b[0m \u001b[32m------\u001b[2m------------------------\u001b[0m\u001b[0m 33.49 MiB/186.88 MiB\n",
            "\u001b[2mtriton    \u001b[0m \u001b[32m-----\u001b[2m-------------------------\u001b[0m\u001b[0m 33.24 MiB/199.65 MiB\n",
            "\u001b[2mnvidia-cublas-cu12\u001b[0m \u001b[32m---\u001b[2m---------------------------\u001b[0m\u001b[0m 33.09 MiB/391.57 MiB\n",
            "\u001b[2mnvidia-cudnn-cu12\u001b[0m \u001b[32m--\u001b[2m----------------------------\u001b[0m\u001b[0m 32.51 MiB/633.96 MiB\n",
            "\u001b[2K\u001b[13A\u001b[37m⠧\u001b[0m \u001b[2mPreparing packages...\u001b[0m (119/132)\n",
            "\u001b[2mnumpy     \u001b[0m \u001b[32m------------------------------\u001b[2m\u001b[0m\u001b[0m 15.98 MiB/16.51 MiB\n",
            "\u001b[2mmlflow    \u001b[0m \u001b[32m------------------------------\u001b[2m\u001b[0m\u001b[0m 24.17 MiB/24.61 MiB\n",
            "\u001b[2mscipy     \u001b[0m \u001b[32m--------------------\u001b[2m----------\u001b[0m\u001b[0m 21.29 MiB/32.94 MiB\n",
            "\u001b[2mpyarrow   \u001b[0m \u001b[32m----------------------------\u001b[2m--\u001b[0m\u001b[0m 33.52 MiB/36.64 MiB\n",
            "\u001b[2mnvidia-curand-cu12\u001b[0m \u001b[32m-------------------\u001b[2m-----------\u001b[0m\u001b[0m 32.98 MiB/53.85 MiB\n",
            "\u001b[2mnvidia-cufft-cu12\u001b[0m \u001b[32m---------\u001b[2m---------------------\u001b[0m\u001b[0m 33.25 MiB/116.00 MiB\n",
            "\u001b[2mnvidia-cusolver-cu12\u001b[0m \u001b[32m---------\u001b[2m---------------------\u001b[0m\u001b[0m 33.25 MiB/118.41 MiB\n",
            "\u001b[2mnvidia-nccl-cu12\u001b[0m \u001b[32m------\u001b[2m------------------------\u001b[0m\u001b[0m 32.78 MiB/168.08 MiB\n",
            "\u001b[2mnvidia-cusparse-cu12\u001b[0m \u001b[32m------\u001b[2m------------------------\u001b[0m\u001b[0m 33.49 MiB/186.88 MiB\n",
            "\u001b[2mtriton    \u001b[0m \u001b[32m-----\u001b[2m-------------------------\u001b[0m\u001b[0m 33.26 MiB/199.65 MiB\n",
            "\u001b[2mnvidia-cublas-cu12\u001b[0m \u001b[32m---\u001b[2m---------------------------\u001b[0m\u001b[0m 33.09 MiB/391.57 MiB\n",
            "\u001b[2mnvidia-cudnn-cu12\u001b[0m \u001b[32m--\u001b[2m----------------------------\u001b[0m\u001b[0m 32.51 MiB/633.96 MiB\n",
            "\u001b[2K\u001b[13A\u001b[37m⠧\u001b[0m \u001b[2mPreparing packages...\u001b[0m (119/132)\n",
            "\u001b[2mnumpy     \u001b[0m \u001b[32m------------------------------\u001b[2m\u001b[0m\u001b[0m 15.98 MiB/16.51 MiB\n",
            "\u001b[2mmlflow    \u001b[0m \u001b[32m------------------------------\u001b[2m\u001b[0m\u001b[0m 24.17 MiB/24.61 MiB\n",
            "\u001b[2mscipy     \u001b[0m \u001b[32m--------------------\u001b[2m----------\u001b[0m\u001b[0m 21.29 MiB/32.94 MiB\n",
            "\u001b[2mpyarrow   \u001b[0m \u001b[32m----------------------------\u001b[2m--\u001b[0m\u001b[0m 33.52 MiB/36.64 MiB\n",
            "\u001b[2mnvidia-curand-cu12\u001b[0m \u001b[32m-------------------\u001b[2m-----------\u001b[0m\u001b[0m 32.98 MiB/53.85 MiB\n",
            "\u001b[2mnvidia-cufft-cu12\u001b[0m \u001b[32m---------\u001b[2m---------------------\u001b[0m\u001b[0m 33.25 MiB/116.00 MiB\n",
            "\u001b[2mnvidia-cusolver-cu12\u001b[0m \u001b[32m---------\u001b[2m---------------------\u001b[0m\u001b[0m 33.25 MiB/118.41 MiB\n",
            "\u001b[2mnvidia-nccl-cu12\u001b[0m \u001b[32m------\u001b[2m------------------------\u001b[0m\u001b[0m 32.78 MiB/168.08 MiB\n",
            "\u001b[2mnvidia-cusparse-cu12\u001b[0m \u001b[32m------\u001b[2m------------------------\u001b[0m\u001b[0m 33.49 MiB/186.88 MiB\n",
            "\u001b[2mtriton    \u001b[0m \u001b[32m-----\u001b[2m-------------------------\u001b[0m\u001b[0m 33.28 MiB/199.65 MiB\n",
            "\u001b[2mnvidia-cublas-cu12\u001b[0m \u001b[32m---\u001b[2m---------------------------\u001b[0m\u001b[0m 33.09 MiB/391.57 MiB\n",
            "\u001b[2mnvidia-cudnn-cu12\u001b[0m \u001b[32m--\u001b[2m----------------------------\u001b[0m\u001b[0m 32.51 MiB/633.96 MiB\n",
            "\u001b[2K\u001b[13A\u001b[37m⠧\u001b[0m \u001b[2mPreparing packages...\u001b[0m (119/132)\n",
            "\u001b[2mnumpy     \u001b[0m \u001b[32m------------------------------\u001b[2m\u001b[0m\u001b[0m 15.98 MiB/16.51 MiB\n",
            "\u001b[2mmlflow    \u001b[0m \u001b[32m------------------------------\u001b[2m\u001b[0m\u001b[0m 24.17 MiB/24.61 MiB\n",
            "\u001b[2mscipy     \u001b[0m \u001b[32m--------------------\u001b[2m----------\u001b[0m\u001b[0m 21.29 MiB/32.94 MiB\n",
            "\u001b[2mpyarrow   \u001b[0m \u001b[32m----------------------------\u001b[2m--\u001b[0m\u001b[0m 33.52 MiB/36.64 MiB\n",
            "\u001b[2mnvidia-curand-cu12\u001b[0m \u001b[32m-------------------\u001b[2m-----------\u001b[0m\u001b[0m 32.98 MiB/53.85 MiB\n",
            "\u001b[2mnvidia-cufft-cu12\u001b[0m \u001b[32m---------\u001b[2m---------------------\u001b[0m\u001b[0m 33.25 MiB/116.00 MiB\n",
            "\u001b[2mnvidia-cusolver-cu12\u001b[0m \u001b[32m---------\u001b[2m---------------------\u001b[0m\u001b[0m 33.25 MiB/118.41 MiB\n",
            "\u001b[2mnvidia-nccl-cu12\u001b[0m \u001b[32m------\u001b[2m------------------------\u001b[0m\u001b[0m 32.78 MiB/168.08 MiB\n",
            "\u001b[2mnvidia-cusparse-cu12\u001b[0m \u001b[32m------\u001b[2m------------------------\u001b[0m\u001b[0m 33.49 MiB/186.88 MiB\n",
            "\u001b[2mtriton    \u001b[0m \u001b[32m------\u001b[2m------------------------\u001b[0m\u001b[0m 33.29 MiB/199.65 MiB\n",
            "\u001b[2mnvidia-cublas-cu12\u001b[0m \u001b[32m---\u001b[2m---------------------------\u001b[0m\u001b[0m 33.09 MiB/391.57 MiB\n",
            "\u001b[2mnvidia-cudnn-cu12\u001b[0m \u001b[32m--\u001b[2m----------------------------\u001b[0m\u001b[0m 32.51 MiB/633.96 MiB\n",
            "\u001b[2K\u001b[13A\u001b[37m⠧\u001b[0m \u001b[2mPreparing packages...\u001b[0m (119/132)\n",
            "\u001b[2mnumpy     \u001b[0m \u001b[32m------------------------------\u001b[2m\u001b[0m\u001b[0m 15.98 MiB/16.51 MiB\n",
            "\u001b[2mmlflow    \u001b[0m \u001b[32m------------------------------\u001b[2m\u001b[0m\u001b[0m 24.17 MiB/24.61 MiB\n",
            "\u001b[2mscipy     \u001b[0m \u001b[32m--------------------\u001b[2m----------\u001b[0m\u001b[0m 21.29 MiB/32.94 MiB\n",
            "\u001b[2mpyarrow   \u001b[0m \u001b[32m----------------------------\u001b[2m--\u001b[0m\u001b[0m 33.52 MiB/36.64 MiB\n",
            "\u001b[2mnvidia-curand-cu12\u001b[0m \u001b[32m-------------------\u001b[2m-----------\u001b[0m\u001b[0m 32.98 MiB/53.85 MiB\n",
            "\u001b[2mnvidia-cufft-cu12\u001b[0m \u001b[32m---------\u001b[2m---------------------\u001b[0m\u001b[0m 33.25 MiB/116.00 MiB\n",
            "\u001b[2mnvidia-cusolver-cu12\u001b[0m \u001b[32m---------\u001b[2m---------------------\u001b[0m\u001b[0m 33.25 MiB/118.41 MiB\n",
            "\u001b[2mnvidia-nccl-cu12\u001b[0m \u001b[32m------\u001b[2m------------------------\u001b[0m\u001b[0m 32.78 MiB/168.08 MiB\n",
            "\u001b[2mnvidia-cusparse-cu12\u001b[0m \u001b[32m------\u001b[2m------------------------\u001b[0m\u001b[0m 33.49 MiB/186.88 MiB\n",
            "\u001b[2mtriton    \u001b[0m \u001b[32m------\u001b[2m------------------------\u001b[0m\u001b[0m 33.31 MiB/199.65 MiB\n",
            "\u001b[2mnvidia-cublas-cu12\u001b[0m \u001b[32m---\u001b[2m---------------------------\u001b[0m\u001b[0m 33.09 MiB/391.57 MiB\n",
            "\u001b[2mnvidia-cudnn-cu12\u001b[0m \u001b[32m--\u001b[2m----------------------------\u001b[0m\u001b[0m 32.51 MiB/633.96 MiB\n",
            "\u001b[2K\u001b[13A\u001b[37m⠧\u001b[0m \u001b[2mPreparing packages...\u001b[0m (119/132)\n",
            "\u001b[2mnumpy     \u001b[0m \u001b[32m------------------------------\u001b[2m\u001b[0m\u001b[0m 15.98 MiB/16.51 MiB\n",
            "\u001b[2mmlflow    \u001b[0m \u001b[32m------------------------------\u001b[2m\u001b[0m\u001b[0m 24.17 MiB/24.61 MiB\n",
            "\u001b[2mscipy     \u001b[0m \u001b[32m--------------------\u001b[2m----------\u001b[0m\u001b[0m 21.29 MiB/32.94 MiB\n",
            "\u001b[2mpyarrow   \u001b[0m \u001b[32m----------------------------\u001b[2m--\u001b[0m\u001b[0m 33.52 MiB/36.64 MiB\n",
            "\u001b[2mnvidia-curand-cu12\u001b[0m \u001b[32m-------------------\u001b[2m-----------\u001b[0m\u001b[0m 32.98 MiB/53.85 MiB\n",
            "\u001b[2mnvidia-cufft-cu12\u001b[0m \u001b[32m---------\u001b[2m---------------------\u001b[0m\u001b[0m 33.25 MiB/116.00 MiB\n",
            "\u001b[2mnvidia-cusolver-cu12\u001b[0m \u001b[32m---------\u001b[2m---------------------\u001b[0m\u001b[0m 33.25 MiB/118.41 MiB\n",
            "\u001b[2mnvidia-nccl-cu12\u001b[0m \u001b[32m------\u001b[2m------------------------\u001b[0m\u001b[0m 32.78 MiB/168.08 MiB\n",
            "\u001b[2mnvidia-cusparse-cu12\u001b[0m \u001b[32m------\u001b[2m------------------------\u001b[0m\u001b[0m 33.49 MiB/186.88 MiB\n",
            "\u001b[2mtriton    \u001b[0m \u001b[32m------\u001b[2m------------------------\u001b[0m\u001b[0m 33.32 MiB/199.65 MiB\n",
            "\u001b[2mnvidia-cublas-cu12\u001b[0m \u001b[32m---\u001b[2m---------------------------\u001b[0m\u001b[0m 33.09 MiB/391.57 MiB\n",
            "\u001b[2mnvidia-cudnn-cu12\u001b[0m \u001b[32m--\u001b[2m----------------------------\u001b[0m\u001b[0m 32.51 MiB/633.96 MiB\n",
            "\u001b[2K\u001b[13A\u001b[37m⠧\u001b[0m \u001b[2mPreparing packages...\u001b[0m (119/132)\n",
            "\u001b[2mnumpy     \u001b[0m \u001b[32m------------------------------\u001b[2m\u001b[0m\u001b[0m 15.98 MiB/16.51 MiB\n",
            "\u001b[2mmlflow    \u001b[0m \u001b[32m------------------------------\u001b[2m\u001b[0m\u001b[0m 24.17 MiB/24.61 MiB\n",
            "\u001b[2mscipy     \u001b[0m \u001b[32m--------------------\u001b[2m----------\u001b[0m\u001b[0m 21.29 MiB/32.94 MiB\n",
            "\u001b[2mpyarrow   \u001b[0m \u001b[32m----------------------------\u001b[2m--\u001b[0m\u001b[0m 33.52 MiB/36.64 MiB\n",
            "\u001b[2mnvidia-curand-cu12\u001b[0m \u001b[32m-------------------\u001b[2m-----------\u001b[0m\u001b[0m 32.98 MiB/53.85 MiB\n",
            "\u001b[2mnvidia-cufft-cu12\u001b[0m \u001b[32m---------\u001b[2m---------------------\u001b[0m\u001b[0m 33.25 MiB/116.00 MiB\n",
            "\u001b[2mnvidia-cusolver-cu12\u001b[0m \u001b[32m---------\u001b[2m---------------------\u001b[0m\u001b[0m 33.25 MiB/118.41 MiB\n",
            "\u001b[2mnvidia-nccl-cu12\u001b[0m \u001b[32m------\u001b[2m------------------------\u001b[0m\u001b[0m 32.78 MiB/168.08 MiB\n",
            "\u001b[2mnvidia-cusparse-cu12\u001b[0m \u001b[32m------\u001b[2m------------------------\u001b[0m\u001b[0m 33.49 MiB/186.88 MiB\n",
            "\u001b[2mtriton    \u001b[0m \u001b[32m------\u001b[2m------------------------\u001b[0m\u001b[0m 33.37 MiB/199.65 MiB\n",
            "\u001b[2mnvidia-cublas-cu12\u001b[0m \u001b[32m---\u001b[2m---------------------------\u001b[0m\u001b[0m 33.09 MiB/391.57 MiB\n",
            "\u001b[2mnvidia-cudnn-cu12\u001b[0m \u001b[32m--\u001b[2m----------------------------\u001b[0m\u001b[0m 32.51 MiB/633.96 MiB\n",
            "\u001b[2K\u001b[13A\u001b[37m⠧\u001b[0m \u001b[2mPreparing packages...\u001b[0m (119/132)\n",
            "\u001b[2mnumpy     \u001b[0m \u001b[32m------------------------------\u001b[2m\u001b[0m\u001b[0m 16.08 MiB/16.51 MiB\n",
            "\u001b[2mmlflow    \u001b[0m \u001b[32m------------------------------\u001b[2m\u001b[0m\u001b[0m 24.21 MiB/24.61 MiB\n",
            "\u001b[2mscipy     \u001b[0m \u001b[32m--------------------\u001b[2m----------\u001b[0m\u001b[0m 21.77 MiB/32.94 MiB\n",
            "\u001b[2mpyarrow   \u001b[0m \u001b[32m----------------------------\u001b[2m--\u001b[0m\u001b[0m 33.52 MiB/36.64 MiB\n",
            "\u001b[2mnvidia-curand-cu12\u001b[0m \u001b[32m-------------------\u001b[2m-----------\u001b[0m\u001b[0m 33.53 MiB/53.85 MiB\n",
            "\u001b[2mnvidia-cufft-cu12\u001b[0m \u001b[32m---------\u001b[2m---------------------\u001b[0m\u001b[0m 33.43 MiB/116.00 MiB\n",
            "\u001b[2mnvidia-cusolver-cu12\u001b[0m \u001b[32m---------\u001b[2m---------------------\u001b[0m\u001b[0m 33.45 MiB/118.41 MiB\n",
            "\u001b[2mnvidia-nccl-cu12\u001b[0m \u001b[32m------\u001b[2m------------------------\u001b[0m\u001b[0m 32.96 MiB/168.08 MiB\n",
            "\u001b[2mnvidia-cusparse-cu12\u001b[0m \u001b[32m------\u001b[2m------------------------\u001b[0m\u001b[0m 33.60 MiB/186.88 MiB\n",
            "\u001b[2mtriton    \u001b[0m \u001b[32m------\u001b[2m------------------------\u001b[0m\u001b[0m 33.60 MiB/199.65 MiB\n",
            "\u001b[2mnvidia-cublas-cu12\u001b[0m \u001b[32m---\u001b[2m---------------------------\u001b[0m\u001b[0m 33.33 MiB/391.57 MiB\n",
            "\u001b[2mnvidia-cudnn-cu12\u001b[0m \u001b[32m--\u001b[2m----------------------------\u001b[0m\u001b[0m 32.66 MiB/633.96 MiB\n",
            "\u001b[2K\u001b[13A\u001b[37m⠧\u001b[0m \u001b[2mPreparing packages...\u001b[0m (119/132)\n",
            "\u001b[2mnumpy     \u001b[0m \u001b[32m------------------------------\u001b[2m\u001b[0m\u001b[0m 16.09 MiB/16.51 MiB\n",
            "\u001b[2mmlflow    \u001b[0m \u001b[32m------------------------------\u001b[2m\u001b[0m\u001b[0m 24.23 MiB/24.61 MiB\n",
            "\u001b[2mscipy     \u001b[0m \u001b[32m--------------------\u001b[2m----------\u001b[0m\u001b[0m 21.88 MiB/32.94 MiB\n",
            "\u001b[2mpyarrow   \u001b[0m \u001b[32m----------------------------\u001b[2m--\u001b[0m\u001b[0m 33.86 MiB/36.64 MiB\n",
            "\u001b[2mnvidia-curand-cu12\u001b[0m \u001b[32m-------------------\u001b[2m-----------\u001b[0m\u001b[0m 33.75 MiB/53.85 MiB\n",
            "\u001b[2mnvidia-cufft-cu12\u001b[0m \u001b[32m---------\u001b[2m---------------------\u001b[0m\u001b[0m 33.68 MiB/116.00 MiB\n",
            "\u001b[2mnvidia-cusolver-cu12\u001b[0m \u001b[32m---------\u001b[2m---------------------\u001b[0m\u001b[0m 33.83 MiB/118.41 MiB\n",
            "\u001b[2mnvidia-nccl-cu12\u001b[0m \u001b[32m------\u001b[2m------------------------\u001b[0m\u001b[0m 33.33 MiB/168.08 MiB\n",
            "\u001b[2mnvidia-cusparse-cu12\u001b[0m \u001b[32m------\u001b[2m------------------------\u001b[0m\u001b[0m 33.99 MiB/186.88 MiB\n",
            "\u001b[2mtriton    \u001b[0m \u001b[32m------\u001b[2m------------------------\u001b[0m\u001b[0m 33.82 MiB/199.65 MiB\n",
            "\u001b[2mnvidia-cublas-cu12\u001b[0m \u001b[32m---\u001b[2m---------------------------\u001b[0m\u001b[0m 33.58 MiB/391.57 MiB\n",
            "\u001b[2mnvidia-cudnn-cu12\u001b[0m \u001b[32m--\u001b[2m----------------------------\u001b[0m\u001b[0m 32.98 MiB/633.96 MiB\n",
            "\u001b[2K\u001b[13A\u001b[37m⠇\u001b[0m \u001b[2mPreparing packages...\u001b[0m (119/132)\n",
            "\u001b[2mnumpy     \u001b[0m \u001b[32m------------------------------\u001b[2m\u001b[0m\u001b[0m 16.12 MiB/16.51 MiB\n",
            "\u001b[2mmlflow    \u001b[0m \u001b[32m------------------------------\u001b[2m\u001b[0m\u001b[0m 24.24 MiB/24.61 MiB\n",
            "\u001b[2mscipy     \u001b[0m \u001b[32m---------------------\u001b[2m---------\u001b[0m\u001b[0m 22.05 MiB/32.94 MiB\n",
            "\u001b[2mpyarrow   \u001b[0m \u001b[32m----------------------------\u001b[2m--\u001b[0m\u001b[0m 33.88 MiB/36.64 MiB\n",
            "\u001b[2mnvidia-curand-cu12\u001b[0m \u001b[32m-------------------\u001b[2m-----------\u001b[0m\u001b[0m 34.06 MiB/53.85 MiB\n",
            "\u001b[2mnvidia-cufft-cu12\u001b[0m \u001b[32m---------\u001b[2m---------------------\u001b[0m\u001b[0m 34.03 MiB/116.00 MiB\n",
            "\u001b[2mnvidia-cusolver-cu12\u001b[0m \u001b[32m---------\u001b[2m---------------------\u001b[0m\u001b[0m 34.19 MiB/118.41 MiB\n",
            "\u001b[2mnvidia-nccl-cu12\u001b[0m \u001b[32m------\u001b[2m------------------------\u001b[0m\u001b[0m 33.61 MiB/168.08 MiB\n",
            "\u001b[2mnvidia-cusparse-cu12\u001b[0m \u001b[32m------\u001b[2m------------------------\u001b[0m\u001b[0m 34.22 MiB/186.88 MiB\n",
            "\u001b[2mtriton    \u001b[0m \u001b[32m------\u001b[2m------------------------\u001b[0m\u001b[0m 34.00 MiB/199.65 MiB\n",
            "\u001b[2mnvidia-cublas-cu12\u001b[0m \u001b[32m---\u001b[2m---------------------------\u001b[0m\u001b[0m 34.03 MiB/391.57 MiB\n",
            "\u001b[2mnvidia-cudnn-cu12\u001b[0m \u001b[32m--\u001b[2m----------------------------\u001b[0m\u001b[0m 33.21 MiB/633.96 MiB\n",
            "\u001b[2K\u001b[13A\u001b[37m⠇\u001b[0m \u001b[2mPreparing packages...\u001b[0m (119/132)\n",
            "\u001b[2mnumpy     \u001b[0m \u001b[32m------------------------------\u001b[2m\u001b[0m\u001b[0m 16.14 MiB/16.51 MiB\n",
            "\u001b[2mmlflow    \u001b[0m \u001b[32m------------------------------\u001b[2m\u001b[0m\u001b[0m 24.24 MiB/24.61 MiB\n",
            "\u001b[2mscipy     \u001b[0m \u001b[32m---------------------\u001b[2m---------\u001b[0m\u001b[0m 22.05 MiB/32.94 MiB\n",
            "\u001b[2mpyarrow   \u001b[0m \u001b[32m----------------------------\u001b[2m--\u001b[0m\u001b[0m 33.98 MiB/36.64 MiB\n",
            "\u001b[2mnvidia-curand-cu12\u001b[0m \u001b[32m--------------------\u001b[2m----------\u001b[0m\u001b[0m 34.36 MiB/53.85 MiB\n",
            "\u001b[2mnvidia-cufft-cu12\u001b[0m \u001b[32m---------\u001b[2m---------------------\u001b[0m\u001b[0m 34.42 MiB/116.00 MiB\n",
            "\u001b[2mnvidia-cusolver-cu12\u001b[0m \u001b[32m---------\u001b[2m---------------------\u001b[0m\u001b[0m 34.42 MiB/118.41 MiB\n",
            "\u001b[2mnvidia-nccl-cu12\u001b[0m \u001b[32m-------\u001b[2m-----------------------\u001b[0m\u001b[0m 33.95 MiB/168.08 MiB\n",
            "\u001b[2mnvidia-cusparse-cu12\u001b[0m \u001b[32m------\u001b[2m------------------------\u001b[0m\u001b[0m 34.61 MiB/186.88 MiB\n",
            "\u001b[2mtriton    \u001b[0m \u001b[32m------\u001b[2m------------------------\u001b[0m\u001b[0m 34.36 MiB/199.65 MiB\n",
            "\u001b[2mnvidia-cublas-cu12\u001b[0m \u001b[32m---\u001b[2m---------------------------\u001b[0m\u001b[0m 34.33 MiB/391.57 MiB\n",
            "\u001b[2mnvidia-cudnn-cu12\u001b[0m \u001b[32m--\u001b[2m----------------------------\u001b[0m\u001b[0m 33.57 MiB/633.96 MiB\n",
            "\u001b[2K\u001b[13A\u001b[37m⠇\u001b[0m \u001b[2mPreparing packages...\u001b[0m (119/132)\n",
            "\u001b[2mnumpy     \u001b[0m \u001b[32m------------------------------\u001b[2m\u001b[0m\u001b[0m 16.15 MiB/16.51 MiB\n",
            "\u001b[2mmlflow    \u001b[0m \u001b[32m------------------------------\u001b[2m\u001b[0m\u001b[0m 24.26 MiB/24.61 MiB\n",
            "\u001b[2mscipy     \u001b[0m \u001b[32m---------------------\u001b[2m---------\u001b[0m\u001b[0m 22.19 MiB/32.94 MiB\n",
            "\u001b[2mpyarrow   \u001b[0m \u001b[32m----------------------------\u001b[2m--\u001b[0m\u001b[0m 34.09 MiB/36.64 MiB\n",
            "\u001b[2mnvidia-curand-cu12\u001b[0m \u001b[32m--------------------\u001b[2m----------\u001b[0m\u001b[0m 34.71 MiB/53.85 MiB\n",
            "\u001b[2mnvidia-cufft-cu12\u001b[0m \u001b[32m---------\u001b[2m---------------------\u001b[0m\u001b[0m 34.75 MiB/116.00 MiB\n",
            "\u001b[2mnvidia-cusolver-cu12\u001b[0m \u001b[32m---------\u001b[2m---------------------\u001b[0m\u001b[0m 34.74 MiB/118.41 MiB\n",
            "\u001b[2mnvidia-nccl-cu12\u001b[0m \u001b[32m-------\u001b[2m-----------------------\u001b[0m\u001b[0m 34.27 MiB/168.08 MiB\n",
            "\u001b[2mnvidia-cusparse-cu12\u001b[0m \u001b[32m------\u001b[2m------------------------\u001b[0m\u001b[0m 34.93 MiB/186.88 MiB\n",
            "\u001b[2mtriton    \u001b[0m \u001b[32m------\u001b[2m------------------------\u001b[0m\u001b[0m 34.62 MiB/199.65 MiB\n",
            "\u001b[2mnvidia-cublas-cu12\u001b[0m \u001b[32m---\u001b[2m---------------------------\u001b[0m\u001b[0m 34.61 MiB/391.57 MiB\n",
            "\u001b[2mnvidia-cudnn-cu12\u001b[0m \u001b[32m--\u001b[2m----------------------------\u001b[0m\u001b[0m 33.84 MiB/633.96 MiB\n",
            "\u001b[2K\u001b[13A\u001b[37m⠇\u001b[0m \u001b[2mPreparing packages...\u001b[0m (119/132)\n",
            "\u001b[2mnumpy     \u001b[0m \u001b[32m------------------------------\u001b[2m\u001b[0m\u001b[0m 16.17 MiB/16.51 MiB\n",
            "\u001b[2mmlflow    \u001b[0m \u001b[32m------------------------------\u001b[2m\u001b[0m\u001b[0m 24.26 MiB/24.61 MiB\n",
            "\u001b[2mscipy     \u001b[0m \u001b[32m---------------------\u001b[2m---------\u001b[0m\u001b[0m 22.21 MiB/32.94 MiB\n",
            "\u001b[2mpyarrow   \u001b[0m \u001b[32m-----------------------------\u001b[2m-\u001b[0m\u001b[0m 34.22 MiB/36.64 MiB\n",
            "\u001b[2mnvidia-curand-cu12\u001b[0m \u001b[32m--------------------\u001b[2m----------\u001b[0m\u001b[0m 35.00 MiB/53.85 MiB\n",
            "\u001b[2mnvidia-cufft-cu12\u001b[0m \u001b[32m----------\u001b[2m--------------------\u001b[0m\u001b[0m 34.99 MiB/116.00 MiB\n",
            "\u001b[2mnvidia-cusolver-cu12\u001b[0m \u001b[32m---------\u001b[2m---------------------\u001b[0m\u001b[0m 35.09 MiB/118.41 MiB\n",
            "\u001b[2mnvidia-nccl-cu12\u001b[0m \u001b[32m-------\u001b[2m-----------------------\u001b[0m\u001b[0m 34.57 MiB/168.08 MiB\n",
            "\u001b[2mnvidia-cusparse-cu12\u001b[0m \u001b[32m------\u001b[2m------------------------\u001b[0m\u001b[0m 35.21 MiB/186.88 MiB\n",
            "\u001b[2mtriton    \u001b[0m \u001b[32m------\u001b[2m------------------------\u001b[0m\u001b[0m 35.02 MiB/199.65 MiB\n",
            "\u001b[2mnvidia-cublas-cu12\u001b[0m \u001b[32m---\u001b[2m---------------------------\u001b[0m\u001b[0m 34.95 MiB/391.57 MiB\n",
            "\u001b[2mnvidia-cudnn-cu12\u001b[0m \u001b[32m--\u001b[2m----------------------------\u001b[0m\u001b[0m 34.17 MiB/633.96 MiB\n",
            "\u001b[2K\u001b[13A\u001b[37m⠋\u001b[0m \u001b[2mPreparing packages...\u001b[0m (119/132)\n",
            "\u001b[2mnumpy     \u001b[0m \u001b[32m------------------------------\u001b[2m\u001b[0m\u001b[0m 16.22 MiB/16.51 MiB\n",
            "\u001b[2mmlflow    \u001b[0m \u001b[32m------------------------------\u001b[2m\u001b[0m\u001b[0m 24.26 MiB/24.61 MiB\n",
            "\u001b[2mscipy     \u001b[0m \u001b[32m---------------------\u001b[2m---------\u001b[0m\u001b[0m 22.24 MiB/32.94 MiB\n",
            "\u001b[2mpyarrow   \u001b[0m \u001b[32m-----------------------------\u001b[2m-\u001b[0m\u001b[0m 34.30 MiB/36.64 MiB\n",
            "\u001b[2mnvidia-curand-cu12\u001b[0m \u001b[32m--------------------\u001b[2m----------\u001b[0m\u001b[0m 35.32 MiB/53.85 MiB\n",
            "\u001b[2mnvidia-cufft-cu12\u001b[0m \u001b[32m----------\u001b[2m--------------------\u001b[0m\u001b[0m 35.31 MiB/116.00 MiB\n",
            "\u001b[2mnvidia-cusolver-cu12\u001b[0m \u001b[32m---------\u001b[2m---------------------\u001b[0m\u001b[0m 35.41 MiB/118.41 MiB\n",
            "\u001b[2mnvidia-nccl-cu12\u001b[0m \u001b[32m-------\u001b[2m-----------------------\u001b[0m\u001b[0m 34.86 MiB/168.08 MiB\n",
            "\u001b[2mnvidia-cusparse-cu12\u001b[0m \u001b[32m------\u001b[2m------------------------\u001b[0m\u001b[0m 35.52 MiB/186.88 MiB\n",
            "\u001b[2mtriton    \u001b[0m \u001b[32m------\u001b[2m------------------------\u001b[0m\u001b[0m 35.33 MiB/199.65 MiB\n",
            "\u001b[2mnvidia-cublas-cu12\u001b[0m \u001b[32m---\u001b[2m---------------------------\u001b[0m\u001b[0m 35.24 MiB/391.57 MiB\n",
            "\u001b[2mnvidia-cudnn-cu12\u001b[0m \u001b[32m--\u001b[2m----------------------------\u001b[0m\u001b[0m 34.45 MiB/633.96 MiB\n",
            "\u001b[2K\u001b[13A\u001b[37m⠋\u001b[0m \u001b[2mPreparing packages...\u001b[0m (119/132)\n",
            "\u001b[2mnumpy     \u001b[0m \u001b[32m------------------------------\u001b[2m\u001b[0m\u001b[0m 16.26 MiB/16.51 MiB\n",
            "\u001b[2mmlflow    \u001b[0m \u001b[32m------------------------------\u001b[2m\u001b[0m\u001b[0m 24.28 MiB/24.61 MiB\n",
            "\u001b[2mscipy     \u001b[0m \u001b[32m---------------------\u001b[2m---------\u001b[0m\u001b[0m 22.29 MiB/32.94 MiB\n",
            "\u001b[2mpyarrow   \u001b[0m \u001b[32m-----------------------------\u001b[2m-\u001b[0m\u001b[0m 34.38 MiB/36.64 MiB\n",
            "\u001b[2mnvidia-curand-cu12\u001b[0m \u001b[32m--------------------\u001b[2m----------\u001b[0m\u001b[0m 35.64 MiB/53.85 MiB\n",
            "\u001b[2mnvidia-cufft-cu12\u001b[0m \u001b[32m----------\u001b[2m--------------------\u001b[0m\u001b[0m 35.62 MiB/116.00 MiB\n",
            "\u001b[2mnvidia-cusolver-cu12\u001b[0m \u001b[32m----------\u001b[2m--------------------\u001b[0m\u001b[0m 35.73 MiB/118.41 MiB\n",
            "\u001b[2mnvidia-nccl-cu12\u001b[0m \u001b[32m-------\u001b[2m-----------------------\u001b[0m\u001b[0m 35.19 MiB/168.08 MiB\n",
            "\u001b[2mnvidia-cusparse-cu12\u001b[0m \u001b[32m------\u001b[2m------------------------\u001b[0m\u001b[0m 35.83 MiB/186.88 MiB\n",
            "\u001b[2mtriton    \u001b[0m \u001b[32m------\u001b[2m------------------------\u001b[0m\u001b[0m 35.59 MiB/199.65 MiB\n",
            "\u001b[2mnvidia-cublas-cu12\u001b[0m \u001b[32m---\u001b[2m---------------------------\u001b[0m\u001b[0m 35.53 MiB/391.57 MiB\n",
            "\u001b[2mnvidia-cudnn-cu12\u001b[0m \u001b[32m--\u001b[2m----------------------------\u001b[0m\u001b[0m 34.76 MiB/633.96 MiB\n",
            "\u001b[2K\u001b[13A\u001b[37m⠋\u001b[0m \u001b[2mPreparing packages...\u001b[0m (119/132)\n",
            "\u001b[2mnumpy     \u001b[0m \u001b[32m------------------------------\u001b[2m\u001b[0m\u001b[0m 16.28 MiB/16.51 MiB\n",
            "\u001b[2mmlflow    \u001b[0m \u001b[32m------------------------------\u001b[2m\u001b[0m\u001b[0m 24.31 MiB/24.61 MiB\n",
            "\u001b[2mscipy     \u001b[0m \u001b[32m---------------------\u001b[2m---------\u001b[0m\u001b[0m 22.32 MiB/32.94 MiB\n",
            "\u001b[2mpyarrow   \u001b[0m \u001b[32m-----------------------------\u001b[2m-\u001b[0m\u001b[0m 34.72 MiB/36.64 MiB\n",
            "\u001b[2mnvidia-curand-cu12\u001b[0m \u001b[32m---------------------\u001b[2m---------\u001b[0m\u001b[0m 35.93 MiB/53.85 MiB\n",
            "\u001b[2mnvidia-cufft-cu12\u001b[0m \u001b[32m----------\u001b[2m--------------------\u001b[0m\u001b[0m 35.88 MiB/116.00 MiB\n",
            "\u001b[2mnvidia-cusolver-cu12\u001b[0m \u001b[32m----------\u001b[2m--------------------\u001b[0m\u001b[0m 35.93 MiB/118.41 MiB\n",
            "\u001b[2mnvidia-nccl-cu12\u001b[0m \u001b[32m-------\u001b[2m-----------------------\u001b[0m\u001b[0m 35.47 MiB/168.08 MiB\n",
            "\u001b[2mnvidia-cusparse-cu12\u001b[0m \u001b[32m------\u001b[2m------------------------\u001b[0m\u001b[0m 36.08 MiB/186.88 MiB\n",
            "\u001b[2mtriton    \u001b[0m \u001b[32m------\u001b[2m------------------------\u001b[0m\u001b[0m 35.89 MiB/199.65 MiB\n",
            "\u001b[2mnvidia-cublas-cu12\u001b[0m \u001b[32m---\u001b[2m---------------------------\u001b[0m\u001b[0m 35.79 MiB/391.57 MiB\n",
            "\u001b[2mnvidia-cudnn-cu12\u001b[0m \u001b[32m--\u001b[2m----------------------------\u001b[0m\u001b[0m 35.03 MiB/633.96 MiB\n",
            "\u001b[2K\u001b[13A\u001b[37m⠋\u001b[0m \u001b[2mPreparing packages...\u001b[0m (119/132)\n",
            "\u001b[2mnumpy     \u001b[0m \u001b[32m------------------------------\u001b[2m\u001b[0m\u001b[0m 16.29 MiB/16.51 MiB\n",
            "\u001b[2mmlflow    \u001b[0m \u001b[32m------------------------------\u001b[2m\u001b[0m\u001b[0m 24.35 MiB/24.61 MiB\n",
            "\u001b[2mscipy     \u001b[0m \u001b[32m---------------------\u001b[2m---------\u001b[0m\u001b[0m 22.38 MiB/32.94 MiB\n",
            "\u001b[2mpyarrow   \u001b[0m \u001b[32m-----------------------------\u001b[2m-\u001b[0m\u001b[0m 34.77 MiB/36.64 MiB\n",
            "\u001b[2mnvidia-curand-cu12\u001b[0m \u001b[32m---------------------\u001b[2m---------\u001b[0m\u001b[0m 36.22 MiB/53.85 MiB\n",
            "\u001b[2mnvidia-cufft-cu12\u001b[0m \u001b[32m----------\u001b[2m--------------------\u001b[0m\u001b[0m 36.14 MiB/116.00 MiB\n",
            "\u001b[2mnvidia-cusolver-cu12\u001b[0m \u001b[32m----------\u001b[2m--------------------\u001b[0m\u001b[0m 36.25 MiB/118.41 MiB\n",
            "\u001b[2mnvidia-nccl-cu12\u001b[0m \u001b[32m-------\u001b[2m-----------------------\u001b[0m\u001b[0m 35.72 MiB/168.08 MiB\n",
            "\u001b[2mnvidia-cusparse-cu12\u001b[0m \u001b[32m------\u001b[2m------------------------\u001b[0m\u001b[0m 36.38 MiB/186.88 MiB\n",
            "\u001b[2mtriton    \u001b[0m \u001b[32m------\u001b[2m------------------------\u001b[0m\u001b[0m 36.18 MiB/199.65 MiB\n",
            "\u001b[2mnvidia-cublas-cu12\u001b[0m \u001b[32m---\u001b[2m---------------------------\u001b[0m\u001b[0m 36.10 MiB/391.57 MiB\n",
            "\u001b[2mnvidia-cudnn-cu12\u001b[0m \u001b[32m--\u001b[2m----------------------------\u001b[0m\u001b[0m 35.31 MiB/633.96 MiB\n",
            "\u001b[2K\u001b[13A\u001b[37m⠙\u001b[0m \u001b[2mPreparing packages...\u001b[0m (119/132)\n",
            "\u001b[2mnumpy     \u001b[0m \u001b[32m------------------------------\u001b[2m\u001b[0m\u001b[0m 16.30 MiB/16.51 MiB\n",
            "\u001b[2mmlflow    \u001b[0m \u001b[32m------------------------------\u001b[2m\u001b[0m\u001b[0m 24.40 MiB/24.61 MiB\n",
            "\u001b[2mscipy     \u001b[0m \u001b[32m---------------------\u001b[2m---------\u001b[0m\u001b[0m 22.44 MiB/32.94 MiB\n",
            "\u001b[2mpyarrow   \u001b[0m \u001b[32m-----------------------------\u001b[2m-\u001b[0m\u001b[0m 34.88 MiB/36.64 MiB\n",
            "\u001b[2mnvidia-curand-cu12\u001b[0m \u001b[32m---------------------\u001b[2m---------\u001b[0m\u001b[0m 36.47 MiB/53.85 MiB\n",
            "\u001b[2mnvidia-cufft-cu12\u001b[0m \u001b[32m----------\u001b[2m--------------------\u001b[0m\u001b[0m 36.42 MiB/116.00 MiB\n",
            "\u001b[2mnvidia-cusolver-cu12\u001b[0m \u001b[32m----------\u001b[2m--------------------\u001b[0m\u001b[0m 36.54 MiB/118.41 MiB\n",
            "\u001b[2mnvidia-nccl-cu12\u001b[0m \u001b[32m-------\u001b[2m-----------------------\u001b[0m\u001b[0m 35.99 MiB/168.08 MiB\n",
            "\u001b[2mnvidia-cusparse-cu12\u001b[0m \u001b[32m------\u001b[2m------------------------\u001b[0m\u001b[0m 36.64 MiB/186.88 MiB\n",
            "\u001b[2mtriton    \u001b[0m \u001b[32m------\u001b[2m------------------------\u001b[0m\u001b[0m 36.44 MiB/199.65 MiB\n",
            "\u001b[2mnvidia-cublas-cu12\u001b[0m \u001b[32m---\u001b[2m---------------------------\u001b[0m\u001b[0m 36.35 MiB/391.57 MiB\n",
            "\u001b[2mnvidia-cudnn-cu12\u001b[0m \u001b[32m--\u001b[2m----------------------------\u001b[0m\u001b[0m 35.60 MiB/633.96 MiB\n",
            "\u001b[2K\u001b[13A\u001b[37m⠙\u001b[0m \u001b[2mPreparing packages...\u001b[0m (119/132)\n",
            "\u001b[2mnumpy     \u001b[0m \u001b[32m------------------------------\u001b[2m\u001b[0m\u001b[0m 16.31 MiB/16.51 MiB\n",
            "\u001b[2mmlflow    \u001b[0m \u001b[32m------------------------------\u001b[2m\u001b[0m\u001b[0m 24.43 MiB/24.61 MiB\n",
            "\u001b[2mscipy     \u001b[0m \u001b[32m----------------------\u001b[2m--------\u001b[0m\u001b[0m 23.25 MiB/32.94 MiB\n",
            "\u001b[2mpyarrow   \u001b[0m \u001b[32m-----------------------------\u001b[2m-\u001b[0m\u001b[0m 34.93 MiB/36.64 MiB\n",
            "\u001b[2mnvidia-curand-cu12\u001b[0m \u001b[32m---------------------\u001b[2m---------\u001b[0m\u001b[0m 36.71 MiB/53.85 MiB\n",
            "\u001b[2mnvidia-cufft-cu12\u001b[0m \u001b[32m----------\u001b[2m--------------------\u001b[0m\u001b[0m 36.61 MiB/116.00 MiB\n",
            "\u001b[2mnvidia-cusolver-cu12\u001b[0m \u001b[32m----------\u001b[2m--------------------\u001b[0m\u001b[0m 36.74 MiB/118.41 MiB\n",
            "\u001b[2mnvidia-nccl-cu12\u001b[0m \u001b[32m-------\u001b[2m-----------------------\u001b[0m\u001b[0m 36.18 MiB/168.08 MiB\n",
            "\u001b[2mnvidia-cusparse-cu12\u001b[0m \u001b[32m------\u001b[2m------------------------\u001b[0m\u001b[0m 36.83 MiB/186.88 MiB\n",
            "\u001b[2mtriton    \u001b[0m \u001b[32m------\u001b[2m------------------------\u001b[0m\u001b[0m 36.66 MiB/199.65 MiB\n",
            "\u001b[2mnvidia-cublas-cu12\u001b[0m \u001b[32m---\u001b[2m---------------------------\u001b[0m\u001b[0m 36.54 MiB/391.57 MiB\n",
            "\u001b[2mnvidia-cudnn-cu12\u001b[0m \u001b[32m--\u001b[2m----------------------------\u001b[0m\u001b[0m 35.84 MiB/633.96 MiB\n",
            "\u001b[2K\u001b[13A\u001b[37m⠙\u001b[0m \u001b[2mPreparing packages...\u001b[0m (119/132)\n",
            "\u001b[2mnumpy     \u001b[0m \u001b[32m------------------------------\u001b[2m\u001b[0m\u001b[0m 16.31 MiB/16.51 MiB\n",
            "\u001b[2mmlflow    \u001b[0m \u001b[32m------------------------------\u001b[2m\u001b[0m\u001b[0m 24.45 MiB/24.61 MiB\n",
            "\u001b[2mscipy     \u001b[0m \u001b[32m-----------------------\u001b[2m-------\u001b[0m\u001b[0m 24.67 MiB/32.94 MiB\n",
            "\u001b[2mpyarrow   \u001b[0m \u001b[32m-----------------------------\u001b[2m-\u001b[0m\u001b[0m 34.97 MiB/36.64 MiB\n",
            "\u001b[2mnvidia-curand-cu12\u001b[0m \u001b[32m---------------------\u001b[2m---------\u001b[0m\u001b[0m 36.84 MiB/53.85 MiB\n",
            "\u001b[2mnvidia-cufft-cu12\u001b[0m \u001b[32m----------\u001b[2m--------------------\u001b[0m\u001b[0m 36.75 MiB/116.00 MiB\n",
            "\u001b[2mnvidia-cusolver-cu12\u001b[0m \u001b[32m----------\u001b[2m--------------------\u001b[0m\u001b[0m 36.87 MiB/118.41 MiB\n",
            "\u001b[2mnvidia-nccl-cu12\u001b[0m \u001b[32m-------\u001b[2m-----------------------\u001b[0m\u001b[0m 36.31 MiB/168.08 MiB\n",
            "\u001b[2mnvidia-cusparse-cu12\u001b[0m \u001b[32m------\u001b[2m------------------------\u001b[0m\u001b[0m 37.09 MiB/186.88 MiB\n",
            "\u001b[2mtriton    \u001b[0m \u001b[32m------\u001b[2m------------------------\u001b[0m\u001b[0m 36.78 MiB/199.65 MiB\n",
            "\u001b[2mnvidia-cublas-cu12\u001b[0m \u001b[32m---\u001b[2m---------------------------\u001b[0m\u001b[0m 36.75 MiB/391.57 MiB\n",
            "\u001b[2mnvidia-cudnn-cu12\u001b[0m \u001b[32m--\u001b[2m----------------------------\u001b[0m\u001b[0m 35.96 MiB/633.96 MiB\n",
            "\u001b[2K\u001b[13A\u001b[37m⠙\u001b[0m \u001b[2mPreparing packages...\u001b[0m (119/132)\n",
            "\u001b[2mnumpy     \u001b[0m \u001b[32m------------------------------\u001b[2m\u001b[0m\u001b[0m 16.31 MiB/16.51 MiB\n",
            "\u001b[2mmlflow    \u001b[0m \u001b[32m------------------------------\u001b[2m\u001b[0m\u001b[0m 24.45 MiB/24.61 MiB\n",
            "\u001b[2mscipy     \u001b[0m \u001b[32m-----------------------\u001b[2m-------\u001b[0m\u001b[0m 24.98 MiB/32.94 MiB\n",
            "\u001b[2mpyarrow   \u001b[0m \u001b[32m-----------------------------\u001b[2m-\u001b[0m\u001b[0m 34.97 MiB/36.64 MiB\n",
            "\u001b[2mnvidia-curand-cu12\u001b[0m \u001b[32m---------------------\u001b[2m---------\u001b[0m\u001b[0m 37.13 MiB/53.85 MiB\n",
            "\u001b[2mnvidia-cufft-cu12\u001b[0m \u001b[32m----------\u001b[2m--------------------\u001b[0m\u001b[0m 37.03 MiB/116.00 MiB\n",
            "\u001b[2mnvidia-cusolver-cu12\u001b[0m \u001b[32m----------\u001b[2m--------------------\u001b[0m\u001b[0m 37.19 MiB/118.41 MiB\n",
            "\u001b[2mnvidia-nccl-cu12\u001b[0m \u001b[32m-------\u001b[2m-----------------------\u001b[0m\u001b[0m 36.74 MiB/168.08 MiB\n",
            "\u001b[2mnvidia-cusparse-cu12\u001b[0m \u001b[32m------\u001b[2m------------------------\u001b[0m\u001b[0m 37.27 MiB/186.88 MiB\n",
            "\u001b[2mtriton    \u001b[0m \u001b[32m------\u001b[2m------------------------\u001b[0m\u001b[0m 37.06 MiB/199.65 MiB\n",
            "\u001b[2mnvidia-cublas-cu12\u001b[0m \u001b[32m---\u001b[2m---------------------------\u001b[0m\u001b[0m 36.95 MiB/391.57 MiB\n",
            "\u001b[2mnvidia-cudnn-cu12\u001b[0m \u001b[32m--\u001b[2m----------------------------\u001b[0m\u001b[0m 36.35 MiB/633.96 MiB\n",
            "\u001b[2K\u001b[13A\u001b[37m⠹\u001b[0m \u001b[2mPreparing packages...\u001b[0m (119/132)\n",
            "\u001b[2mnumpy     \u001b[0m \u001b[32m------------------------------\u001b[2m\u001b[0m\u001b[0m 16.31 MiB/16.51 MiB\n",
            "\u001b[2mmlflow    \u001b[0m \u001b[32m------------------------------\u001b[2m\u001b[0m\u001b[0m 24.46 MiB/24.61 MiB\n",
            "\u001b[2mscipy     \u001b[0m \u001b[32m------------------------\u001b[2m------\u001b[0m\u001b[0m 25.29 MiB/32.94 MiB\n",
            "\u001b[2mpyarrow   \u001b[0m \u001b[32m-----------------------------\u001b[2m-\u001b[0m\u001b[0m 35.02 MiB/36.64 MiB\n",
            "\u001b[2mnvidia-curand-cu12\u001b[0m \u001b[32m---------------------\u001b[2m---------\u001b[0m\u001b[0m 37.53 MiB/53.85 MiB\n",
            "\u001b[2mnvidia-cufft-cu12\u001b[0m \u001b[32m----------\u001b[2m--------------------\u001b[0m\u001b[0m 37.47 MiB/116.00 MiB\n",
            "\u001b[2mnvidia-cusolver-cu12\u001b[0m \u001b[32m----------\u001b[2m--------------------\u001b[0m\u001b[0m 37.51 MiB/118.41 MiB\n",
            "\u001b[2mnvidia-nccl-cu12\u001b[0m \u001b[32m-------\u001b[2m-----------------------\u001b[0m\u001b[0m 36.89 MiB/168.08 MiB\n",
            "\u001b[2mnvidia-cusparse-cu12\u001b[0m \u001b[32m-------\u001b[2m-----------------------\u001b[0m\u001b[0m 37.57 MiB/186.88 MiB\n",
            "\u001b[2mtriton    \u001b[0m \u001b[32m------\u001b[2m------------------------\u001b[0m\u001b[0m 37.45 MiB/199.65 MiB\n",
            "\u001b[2mnvidia-cublas-cu12\u001b[0m \u001b[32m---\u001b[2m---------------------------\u001b[0m\u001b[0m 37.25 MiB/391.57 MiB\n",
            "\u001b[2mnvidia-cudnn-cu12\u001b[0m \u001b[32m--\u001b[2m----------------------------\u001b[0m\u001b[0m 36.65 MiB/633.96 MiB\n",
            "\u001b[2K\u001b[13A\u001b[37m⠹\u001b[0m \u001b[2mPreparing packages...\u001b[0m (119/132)\n",
            "\u001b[2mnumpy     \u001b[0m \u001b[32m------------------------------\u001b[2m\u001b[0m\u001b[0m 16.31 MiB/16.51 MiB\n",
            "\u001b[2mmlflow    \u001b[0m \u001b[32m------------------------------\u001b[2m\u001b[0m\u001b[0m 24.46 MiB/24.61 MiB\n",
            "\u001b[2mscipy     \u001b[0m \u001b[32m------------------------\u001b[2m------\u001b[0m\u001b[0m 25.72 MiB/32.94 MiB\n",
            "\u001b[2mpyarrow   \u001b[0m \u001b[32m-----------------------------\u001b[2m-\u001b[0m\u001b[0m 35.02 MiB/36.64 MiB\n",
            "\u001b[2mnvidia-curand-cu12\u001b[0m \u001b[32m----------------------\u001b[2m--------\u001b[0m\u001b[0m 37.73 MiB/53.85 MiB\n",
            "\u001b[2mnvidia-cufft-cu12\u001b[0m \u001b[32m----------\u001b[2m--------------------\u001b[0m\u001b[0m 37.66 MiB/116.00 MiB\n",
            "\u001b[2mnvidia-cusolver-cu12\u001b[0m \u001b[32m----------\u001b[2m--------------------\u001b[0m\u001b[0m 37.77 MiB/118.41 MiB\n",
            "\u001b[2mnvidia-nccl-cu12\u001b[0m \u001b[32m-------\u001b[2m-----------------------\u001b[0m\u001b[0m 37.34 MiB/168.08 MiB\n",
            "\u001b[2mnvidia-cusparse-cu12\u001b[0m \u001b[32m-------\u001b[2m-----------------------\u001b[0m\u001b[0m 38.03 MiB/186.88 MiB\n",
            "\u001b[2mtriton    \u001b[0m \u001b[32m------\u001b[2m------------------------\u001b[0m\u001b[0m 37.75 MiB/199.65 MiB\n",
            "\u001b[2mnvidia-cublas-cu12\u001b[0m \u001b[32m---\u001b[2m---------------------------\u001b[0m\u001b[0m 37.67 MiB/391.57 MiB\n",
            "\u001b[2mnvidia-cudnn-cu12\u001b[0m \u001b[32m--\u001b[2m----------------------------\u001b[0m\u001b[0m 36.81 MiB/633.96 MiB\n",
            "\u001b[2K\u001b[13A\u001b[37m⠹\u001b[0m \u001b[2mPreparing packages...\u001b[0m (119/132)\n",
            "\u001b[2mnumpy     \u001b[0m \u001b[32m------------------------------\u001b[2m\u001b[0m\u001b[0m 16.31 MiB/16.51 MiB\n",
            "\u001b[2mmlflow    \u001b[0m \u001b[32m------------------------------\u001b[2m\u001b[0m\u001b[0m 24.46 MiB/24.61 MiB\n",
            "\u001b[2mscipy     \u001b[0m \u001b[32m------------------------\u001b[2m------\u001b[0m\u001b[0m 25.91 MiB/32.94 MiB\n",
            "\u001b[2mpyarrow   \u001b[0m \u001b[32m-----------------------------\u001b[2m-\u001b[0m\u001b[0m 35.04 MiB/36.64 MiB\n",
            "\u001b[2mnvidia-curand-cu12\u001b[0m \u001b[32m----------------------\u001b[2m--------\u001b[0m\u001b[0m 37.95 MiB/53.85 MiB\n",
            "\u001b[2mnvidia-cufft-cu12\u001b[0m \u001b[32m----------\u001b[2m--------------------\u001b[0m\u001b[0m 38.00 MiB/116.00 MiB\n",
            "\u001b[2mnvidia-cusolver-cu12\u001b[0m \u001b[32m----------\u001b[2m--------------------\u001b[0m\u001b[0m 38.24 MiB/118.41 MiB\n",
            "\u001b[2mnvidia-nccl-cu12\u001b[0m \u001b[32m-------\u001b[2m-----------------------\u001b[0m\u001b[0m 37.64 MiB/168.08 MiB\n",
            "\u001b[2mnvidia-cusparse-cu12\u001b[0m \u001b[32m-------\u001b[2m-----------------------\u001b[0m\u001b[0m 38.33 MiB/186.88 MiB\n",
            "\u001b[2mtriton    \u001b[0m \u001b[32m------\u001b[2m------------------------\u001b[0m\u001b[0m 38.05 MiB/199.65 MiB\n",
            "\u001b[2mnvidia-cublas-cu12\u001b[0m \u001b[32m---\u001b[2m---------------------------\u001b[0m\u001b[0m 37.85 MiB/391.57 MiB\n",
            "\u001b[2mnvidia-cudnn-cu12\u001b[0m \u001b[32m--\u001b[2m----------------------------\u001b[0m\u001b[0m 37.23 MiB/633.96 MiB\n",
            "\u001b[2K\u001b[13A\u001b[37m⠹\u001b[0m \u001b[2mPreparing packages...\u001b[0m (119/132)\n",
            "\u001b[2mnumpy     \u001b[0m \u001b[32m------------------------------\u001b[2m\u001b[0m\u001b[0m 16.31 MiB/16.51 MiB\n",
            "\u001b[2mmlflow    \u001b[0m \u001b[32m------------------------------\u001b[2m\u001b[0m\u001b[0m 24.48 MiB/24.61 MiB\n",
            "\u001b[2mscipy     \u001b[0m \u001b[32m------------------------\u001b[2m------\u001b[0m\u001b[0m 26.22 MiB/32.94 MiB\n",
            "\u001b[2mpyarrow   \u001b[0m \u001b[32m-----------------------------\u001b[2m-\u001b[0m\u001b[0m 35.04 MiB/36.64 MiB\n",
            "\u001b[2mnvidia-curand-cu12\u001b[0m \u001b[32m----------------------\u001b[2m--------\u001b[0m\u001b[0m 38.22 MiB/53.85 MiB\n",
            "\u001b[2mnvidia-cufft-cu12\u001b[0m \u001b[32m----------\u001b[2m--------------------\u001b[0m\u001b[0m 38.40 MiB/116.00 MiB\n",
            "\u001b[2mnvidia-cusolver-cu12\u001b[0m \u001b[32m----------\u001b[2m--------------------\u001b[0m\u001b[0m 38.50 MiB/118.41 MiB\n",
            "\u001b[2mnvidia-nccl-cu12\u001b[0m \u001b[32m-------\u001b[2m-----------------------\u001b[0m\u001b[0m 37.93 MiB/168.08 MiB\n",
            "\u001b[2mnvidia-cusparse-cu12\u001b[0m \u001b[32m-------\u001b[2m-----------------------\u001b[0m\u001b[0m 38.64 MiB/186.88 MiB\n",
            "\u001b[2mtriton    \u001b[0m \u001b[32m------\u001b[2m------------------------\u001b[0m\u001b[0m 38.39 MiB/199.65 MiB\n",
            "\u001b[2mnvidia-cublas-cu12\u001b[0m \u001b[32m---\u001b[2m---------------------------\u001b[0m\u001b[0m 38.30 MiB/391.57 MiB\n",
            "\u001b[2mnvidia-cudnn-cu12\u001b[0m \u001b[32m--\u001b[2m----------------------------\u001b[0m\u001b[0m 37.56 MiB/633.96 MiB\n",
            "\u001b[2K\u001b[13A\u001b[37m⠸\u001b[0m \u001b[2mPreparing packages...\u001b[0m (119/132)\n",
            "\u001b[2mnumpy     \u001b[0m \u001b[32m------------------------------\u001b[2m\u001b[0m\u001b[0m 16.31 MiB/16.51 MiB\n",
            "\u001b[2mmlflow    \u001b[0m \u001b[32m------------------------------\u001b[2m\u001b[0m\u001b[0m 24.48 MiB/24.61 MiB\n",
            "\u001b[2mscipy     \u001b[0m \u001b[32m-------------------------\u001b[2m-----\u001b[0m\u001b[0m 26.66 MiB/32.94 MiB\n",
            "\u001b[2mpyarrow   \u001b[0m \u001b[32m-----------------------------\u001b[2m-\u001b[0m\u001b[0m 35.04 MiB/36.64 MiB\n",
            "\u001b[2mnvidia-curand-cu12\u001b[0m \u001b[32m----------------------\u001b[2m--------\u001b[0m\u001b[0m 38.74 MiB/53.85 MiB\n",
            "\u001b[2mnvidia-cufft-cu12\u001b[0m \u001b[32m-----------\u001b[2m-------------------\u001b[0m\u001b[0m 38.68 MiB/116.00 MiB\n",
            "\u001b[2mnvidia-cusolver-cu12\u001b[0m \u001b[32m----------\u001b[2m--------------------\u001b[0m\u001b[0m 38.82 MiB/118.41 MiB\n",
            "\u001b[2mnvidia-nccl-cu12\u001b[0m \u001b[32m-------\u001b[2m-----------------------\u001b[0m\u001b[0m 38.24 MiB/168.08 MiB\n",
            "\u001b[2mnvidia-cusparse-cu12\u001b[0m \u001b[32m-------\u001b[2m-----------------------\u001b[0m\u001b[0m 38.97 MiB/186.88 MiB\n",
            "\u001b[2mtriton    \u001b[0m \u001b[32m------\u001b[2m------------------------\u001b[0m\u001b[0m 38.61 MiB/199.65 MiB\n",
            "\u001b[2mnvidia-cublas-cu12\u001b[0m \u001b[32m---\u001b[2m---------------------------\u001b[0m\u001b[0m 38.61 MiB/391.57 MiB\n",
            "\u001b[2mnvidia-cudnn-cu12\u001b[0m \u001b[32m--\u001b[2m----------------------------\u001b[0m\u001b[0m 37.86 MiB/633.96 MiB\n",
            "\u001b[2K\u001b[13A\u001b[37m⠸\u001b[0m \u001b[2mPreparing packages...\u001b[0m (119/132)\n",
            "\u001b[2mnumpy     \u001b[0m \u001b[32m------------------------------\u001b[2m\u001b[0m\u001b[0m 16.31 MiB/16.51 MiB\n",
            "\u001b[2mmlflow    \u001b[0m \u001b[32m------------------------------\u001b[2m\u001b[0m\u001b[0m 24.48 MiB/24.61 MiB\n",
            "\u001b[2mscipy     \u001b[0m \u001b[32m-------------------------\u001b[2m-----\u001b[0m\u001b[0m 26.97 MiB/32.94 MiB\n",
            "\u001b[2mpyarrow   \u001b[0m \u001b[32m-----------------------------\u001b[2m-\u001b[0m\u001b[0m 35.06 MiB/36.64 MiB\n",
            "\u001b[2mnvidia-curand-cu12\u001b[0m \u001b[32m----------------------\u001b[2m--------\u001b[0m\u001b[0m 39.05 MiB/53.85 MiB\n",
            "\u001b[2mnvidia-cufft-cu12\u001b[0m \u001b[32m-----------\u001b[2m-------------------\u001b[0m\u001b[0m 39.00 MiB/116.00 MiB\n",
            "\u001b[2mnvidia-cusolver-cu12\u001b[0m \u001b[32m----------\u001b[2m--------------------\u001b[0m\u001b[0m 39.09 MiB/118.41 MiB\n",
            "\u001b[2mnvidia-nccl-cu12\u001b[0m \u001b[32m-------\u001b[2m-----------------------\u001b[0m\u001b[0m 38.53 MiB/168.08 MiB\n",
            "\u001b[2mnvidia-cusparse-cu12\u001b[0m \u001b[32m-------\u001b[2m-----------------------\u001b[0m\u001b[0m 39.29 MiB/186.88 MiB\n",
            "\u001b[2mtriton    \u001b[0m \u001b[32m------\u001b[2m------------------------\u001b[0m\u001b[0m 39.02 MiB/199.65 MiB\n",
            "\u001b[2mnvidia-cublas-cu12\u001b[0m \u001b[32m---\u001b[2m---------------------------\u001b[0m\u001b[0m 38.94 MiB/391.57 MiB\n",
            "\u001b[2mnvidia-cudnn-cu12\u001b[0m \u001b[32m--\u001b[2m----------------------------\u001b[0m\u001b[0m 38.14 MiB/633.96 MiB\n",
            "\u001b[2K\u001b[13A\u001b[37m⠸\u001b[0m \u001b[2mPreparing packages...\u001b[0m (119/132)\n",
            "\u001b[2mnumpy     \u001b[0m \u001b[32m------------------------------\u001b[2m\u001b[0m\u001b[0m 16.31 MiB/16.51 MiB\n",
            "\u001b[2mmlflow    \u001b[0m \u001b[32m------------------------------\u001b[2m\u001b[0m\u001b[0m 24.49 MiB/24.61 MiB\n",
            "\u001b[2mscipy     \u001b[0m \u001b[32m-------------------------\u001b[2m-----\u001b[0m\u001b[0m 27.26 MiB/32.94 MiB\n",
            "\u001b[2mpyarrow   \u001b[0m \u001b[32m-----------------------------\u001b[2m-\u001b[0m\u001b[0m 35.06 MiB/36.64 MiB\n",
            "\u001b[2mnvidia-curand-cu12\u001b[0m \u001b[32m----------------------\u001b[2m--------\u001b[0m\u001b[0m 39.35 MiB/53.85 MiB\n",
            "\u001b[2mnvidia-cufft-cu12\u001b[0m \u001b[32m-----------\u001b[2m-------------------\u001b[0m\u001b[0m 39.22 MiB/116.00 MiB\n",
            "\u001b[2mnvidia-cusolver-cu12\u001b[0m \u001b[32m----------\u001b[2m--------------------\u001b[0m\u001b[0m 39.44 MiB/118.41 MiB\n",
            "\u001b[2mnvidia-nccl-cu12\u001b[0m \u001b[32m-------\u001b[2m-----------------------\u001b[0m\u001b[0m 38.86 MiB/168.08 MiB\n",
            "\u001b[2mnvidia-cusparse-cu12\u001b[0m \u001b[32m-------\u001b[2m-----------------------\u001b[0m\u001b[0m 39.62 MiB/186.88 MiB\n",
            "\u001b[2mtriton    \u001b[0m \u001b[32m------\u001b[2m------------------------\u001b[0m\u001b[0m 39.33 MiB/199.65 MiB\n",
            "\u001b[2mnvidia-cublas-cu12\u001b[0m \u001b[32m----\u001b[2m--------------------------\u001b[0m\u001b[0m 39.27 MiB/391.57 MiB\n",
            "\u001b[2mnvidia-cudnn-cu12\u001b[0m \u001b[32m--\u001b[2m----------------------------\u001b[0m\u001b[0m 38.41 MiB/633.96 MiB\n",
            "\u001b[2K\u001b[13A\u001b[37m⠸\u001b[0m \u001b[2mPreparing packages...\u001b[0m (119/132)\n",
            "\u001b[2mnumpy     \u001b[0m \u001b[32m------------------------------\u001b[2m\u001b[0m\u001b[0m 16.31 MiB/16.51 MiB\n",
            "\u001b[2mmlflow    \u001b[0m \u001b[32m------------------------------\u001b[2m\u001b[0m\u001b[0m 24.51 MiB/24.61 MiB\n",
            "\u001b[2mscipy     \u001b[0m \u001b[32m--------------------------\u001b[2m----\u001b[0m\u001b[0m 27.58 MiB/32.94 MiB\n",
            "\u001b[2mpyarrow   \u001b[0m \u001b[32m-----------------------------\u001b[2m-\u001b[0m\u001b[0m 35.08 MiB/36.64 MiB\n",
            "\u001b[2mnvidia-curand-cu12\u001b[0m \u001b[32m-----------------------\u001b[2m-------\u001b[0m\u001b[0m 39.67 MiB/53.85 MiB\n",
            "\u001b[2mnvidia-cufft-cu12\u001b[0m \u001b[32m-----------\u001b[2m-------------------\u001b[0m\u001b[0m 39.57 MiB/116.00 MiB\n",
            "\u001b[2mnvidia-cusolver-cu12\u001b[0m \u001b[32m-----------\u001b[2m-------------------\u001b[0m\u001b[0m 39.78 MiB/118.41 MiB\n",
            "\u001b[2mnvidia-nccl-cu12\u001b[0m \u001b[32m-------\u001b[2m-----------------------\u001b[0m\u001b[0m 39.11 MiB/168.08 MiB\n",
            "\u001b[2mnvidia-cusparse-cu12\u001b[0m \u001b[32m-------\u001b[2m-----------------------\u001b[0m\u001b[0m 39.96 MiB/186.88 MiB\n",
            "\u001b[2mtriton    \u001b[0m \u001b[32m------\u001b[2m------------------------\u001b[0m\u001b[0m 39.66 MiB/199.65 MiB\n",
            "\u001b[2mnvidia-cublas-cu12\u001b[0m \u001b[32m----\u001b[2m--------------------------\u001b[0m\u001b[0m 39.51 MiB/391.57 MiB\n",
            "\u001b[2mnvidia-cudnn-cu12\u001b[0m \u001b[32m--\u001b[2m----------------------------\u001b[0m\u001b[0m 38.72 MiB/633.96 MiB\n",
            "\u001b[2K\u001b[13A\u001b[37m⠼\u001b[0m \u001b[2mPreparing packages...\u001b[0m (119/132)\n",
            "\u001b[2mnumpy     \u001b[0m \u001b[32m------------------------------\u001b[2m\u001b[0m\u001b[0m 16.31 MiB/16.51 MiB\n",
            "\u001b[2mmlflow    \u001b[0m \u001b[32m------------------------------\u001b[2m\u001b[0m\u001b[0m 24.51 MiB/24.61 MiB\n",
            "\u001b[2mscipy     \u001b[0m \u001b[32m--------------------------\u001b[2m----\u001b[0m\u001b[0m 28.00 MiB/32.94 MiB\n",
            "\u001b[2mpyarrow   \u001b[0m \u001b[32m-----------------------------\u001b[2m-\u001b[0m\u001b[0m 35.11 MiB/36.64 MiB\n",
            "\u001b[2mnvidia-curand-cu12\u001b[0m \u001b[32m-----------------------\u001b[2m-------\u001b[0m\u001b[0m 40.00 MiB/53.85 MiB\n",
            "\u001b[2mnvidia-cufft-cu12\u001b[0m \u001b[32m-----------\u001b[2m-------------------\u001b[0m\u001b[0m 39.90 MiB/116.00 MiB\n",
            "\u001b[2mnvidia-cusolver-cu12\u001b[0m \u001b[32m-----------\u001b[2m-------------------\u001b[0m\u001b[0m 40.05 MiB/118.41 MiB\n",
            "\u001b[2mnvidia-nccl-cu12\u001b[0m \u001b[32m--------\u001b[2m----------------------\u001b[0m\u001b[0m 39.48 MiB/168.08 MiB\n",
            "\u001b[2mnvidia-cusparse-cu12\u001b[0m \u001b[32m-------\u001b[2m-----------------------\u001b[0m\u001b[0m 40.26 MiB/186.88 MiB\n",
            "\u001b[2mtriton    \u001b[0m \u001b[32m-------\u001b[2m-----------------------\u001b[0m\u001b[0m 39.97 MiB/199.65 MiB\n",
            "\u001b[2mnvidia-cublas-cu12\u001b[0m \u001b[32m----\u001b[2m--------------------------\u001b[0m\u001b[0m 39.90 MiB/391.57 MiB\n",
            "\u001b[2mnvidia-cudnn-cu12\u001b[0m \u001b[32m--\u001b[2m----------------------------\u001b[0m\u001b[0m 39.03 MiB/633.96 MiB\n",
            "\u001b[2K\u001b[13A\u001b[37m⠼\u001b[0m \u001b[2mPreparing packages...\u001b[0m (119/132)\n",
            "\u001b[2mnumpy     \u001b[0m \u001b[32m------------------------------\u001b[2m\u001b[0m\u001b[0m 16.31 MiB/16.51 MiB\n",
            "\u001b[2mmlflow    \u001b[0m \u001b[32m------------------------------\u001b[2m\u001b[0m\u001b[0m 24.53 MiB/24.61 MiB\n",
            "\u001b[2mscipy     \u001b[0m \u001b[32m--------------------------\u001b[2m----\u001b[0m\u001b[0m 28.13 MiB/32.94 MiB\n",
            "\u001b[2mpyarrow   \u001b[0m \u001b[32m-----------------------------\u001b[2m-\u001b[0m\u001b[0m 35.11 MiB/36.64 MiB\n",
            "\u001b[2mnvidia-curand-cu12\u001b[0m \u001b[32m-----------------------\u001b[2m-------\u001b[0m\u001b[0m 40.33 MiB/53.85 MiB\n",
            "\u001b[2mnvidia-cufft-cu12\u001b[0m \u001b[32m-----------\u001b[2m-------------------\u001b[0m\u001b[0m 40.22 MiB/116.00 MiB\n",
            "\u001b[2mnvidia-cusolver-cu12\u001b[0m \u001b[32m-----------\u001b[2m-------------------\u001b[0m\u001b[0m 40.40 MiB/118.41 MiB\n",
            "\u001b[2mnvidia-nccl-cu12\u001b[0m \u001b[32m--------\u001b[2m----------------------\u001b[0m\u001b[0m 39.73 MiB/168.08 MiB\n",
            "\u001b[2mnvidia-cusparse-cu12\u001b[0m \u001b[32m-------\u001b[2m-----------------------\u001b[0m\u001b[0m 40.60 MiB/186.88 MiB\n",
            "\u001b[2mtriton    \u001b[0m \u001b[32m-------\u001b[2m-----------------------\u001b[0m\u001b[0m 40.48 MiB/199.65 MiB\n",
            "\u001b[2mnvidia-cublas-cu12\u001b[0m \u001b[32m----\u001b[2m--------------------------\u001b[0m\u001b[0m 40.24 MiB/391.57 MiB\n",
            "\u001b[2mnvidia-cudnn-cu12\u001b[0m \u001b[32m--\u001b[2m----------------------------\u001b[0m\u001b[0m 39.33 MiB/633.96 MiB\n",
            "\u001b[2K\u001b[13A\u001b[37m⠼\u001b[0m \u001b[2mPreparing packages...\u001b[0m (119/132)\n",
            "\u001b[2mnumpy     \u001b[0m \u001b[32m------------------------------\u001b[2m\u001b[0m\u001b[0m 16.31 MiB/16.51 MiB\n",
            "\u001b[2mmlflow    \u001b[0m \u001b[32m------------------------------\u001b[2m\u001b[0m\u001b[0m 24.53 MiB/24.61 MiB\n",
            "\u001b[2mscipy     \u001b[0m \u001b[32m--------------------------\u001b[2m----\u001b[0m\u001b[0m 28.45 MiB/32.94 MiB\n",
            "\u001b[2mpyarrow   \u001b[0m \u001b[32m-----------------------------\u001b[2m-\u001b[0m\u001b[0m 35.12 MiB/36.64 MiB\n",
            "\u001b[2mnvidia-curand-cu12\u001b[0m \u001b[32m-----------------------\u001b[2m-------\u001b[0m\u001b[0m 40.67 MiB/53.85 MiB\n",
            "\u001b[2mnvidia-cufft-cu12\u001b[0m \u001b[32m-----------\u001b[2m-------------------\u001b[0m\u001b[0m 40.56 MiB/116.00 MiB\n",
            "\u001b[2mnvidia-cusolver-cu12\u001b[0m \u001b[32m-----------\u001b[2m-------------------\u001b[0m\u001b[0m 40.72 MiB/118.41 MiB\n",
            "\u001b[2mnvidia-nccl-cu12\u001b[0m \u001b[32m--------\u001b[2m----------------------\u001b[0m\u001b[0m 40.06 MiB/168.08 MiB\n",
            "\u001b[2mnvidia-cusparse-cu12\u001b[0m \u001b[32m-------\u001b[2m-----------------------\u001b[0m\u001b[0m 40.94 MiB/186.88 MiB\n",
            "\u001b[2mtriton    \u001b[0m \u001b[32m-------\u001b[2m-----------------------\u001b[0m\u001b[0m 40.64 MiB/199.65 MiB\n",
            "\u001b[2mnvidia-cublas-cu12\u001b[0m \u001b[32m----\u001b[2m--------------------------\u001b[0m\u001b[0m 40.52 MiB/391.57 MiB\n",
            "\u001b[2mnvidia-cudnn-cu12\u001b[0m \u001b[32m--\u001b[2m----------------------------\u001b[0m\u001b[0m 39.79 MiB/633.96 MiB\n",
            "\u001b[2K\u001b[13A\u001b[37m⠼\u001b[0m \u001b[2mPreparing packages...\u001b[0m (119/132)\n",
            "\u001b[2mnumpy     \u001b[0m \u001b[32m------------------------------\u001b[2m\u001b[0m\u001b[0m 16.31 MiB/16.51 MiB\n",
            "\u001b[2mmlflow    \u001b[0m \u001b[32m------------------------------\u001b[2m\u001b[0m\u001b[0m 24.56 MiB/24.61 MiB\n",
            "\u001b[2mscipy     \u001b[0m \u001b[32m---------------------------\u001b[2m---\u001b[0m\u001b[0m 28.92 MiB/32.94 MiB\n",
            "\u001b[2mpyarrow   \u001b[0m \u001b[32m-----------------------------\u001b[2m-\u001b[0m\u001b[0m 35.12 MiB/36.64 MiB\n",
            "\u001b[2mnvidia-curand-cu12\u001b[0m \u001b[32m-----------------------\u001b[2m-------\u001b[0m\u001b[0m 40.96 MiB/53.85 MiB\n",
            "\u001b[2mnvidia-cufft-cu12\u001b[0m \u001b[32m-----------\u001b[2m-------------------\u001b[0m\u001b[0m 40.89 MiB/116.00 MiB\n",
            "\u001b[2mnvidia-cusolver-cu12\u001b[0m \u001b[32m-----------\u001b[2m-------------------\u001b[0m\u001b[0m 41.06 MiB/118.41 MiB\n",
            "\u001b[2mnvidia-nccl-cu12\u001b[0m \u001b[32m--------\u001b[2m----------------------\u001b[0m\u001b[0m 40.40 MiB/168.08 MiB\n",
            "\u001b[2mnvidia-cusparse-cu12\u001b[0m \u001b[32m-------\u001b[2m-----------------------\u001b[0m\u001b[0m 41.23 MiB/186.88 MiB\n",
            "\u001b[2mtriton    \u001b[0m \u001b[32m-------\u001b[2m-----------------------\u001b[0m\u001b[0m 40.95 MiB/199.65 MiB\n",
            "\u001b[2mnvidia-cublas-cu12\u001b[0m \u001b[32m----\u001b[2m--------------------------\u001b[0m\u001b[0m 40.86 MiB/391.57 MiB\n",
            "\u001b[2mnvidia-cudnn-cu12\u001b[0m \u001b[32m--\u001b[2m----------------------------\u001b[0m\u001b[0m 40.09 MiB/633.96 MiB\n",
            "\u001b[2K\u001b[13A\u001b[37m⠼\u001b[0m \u001b[2mPreparing packages...\u001b[0m (119/132)\n",
            "\u001b[2mnumpy     \u001b[0m \u001b[32m------------------------------\u001b[2m\u001b[0m\u001b[0m 16.31 MiB/16.51 MiB\n",
            "\u001b[2mscipy     \u001b[0m \u001b[32m---------------------------\u001b[2m---\u001b[0m\u001b[0m 28.97 MiB/32.94 MiB\n",
            "\u001b[2mpyarrow   \u001b[0m \u001b[32m-----------------------------\u001b[2m-\u001b[0m\u001b[0m 35.12 MiB/36.64 MiB\n",
            "\u001b[2mnvidia-curand-cu12\u001b[0m \u001b[32m-----------------------\u001b[2m-------\u001b[0m\u001b[0m 41.15 MiB/53.85 MiB\n",
            "\u001b[2mnvidia-cufft-cu12\u001b[0m \u001b[32m-----------\u001b[2m-------------------\u001b[0m\u001b[0m 41.00 MiB/116.00 MiB\n",
            "\u001b[2mnvidia-cusolver-cu12\u001b[0m \u001b[32m-----------\u001b[2m-------------------\u001b[0m\u001b[0m 41.24 MiB/118.41 MiB\n",
            "\u001b[2mnvidia-nccl-cu12\u001b[0m \u001b[32m--------\u001b[2m----------------------\u001b[0m\u001b[0m 40.60 MiB/168.08 MiB\n",
            "\u001b[2mnvidia-cusparse-cu12\u001b[0m \u001b[32m-------\u001b[2m-----------------------\u001b[0m\u001b[0m 41.42 MiB/186.88 MiB\n",
            "\u001b[2mtriton    \u001b[0m \u001b[32m-------\u001b[2m-----------------------\u001b[0m\u001b[0m 41.14 MiB/199.65 MiB\n",
            "\u001b[2mnvidia-cublas-cu12\u001b[0m \u001b[32m----\u001b[2m--------------------------\u001b[0m\u001b[0m 41.00 MiB/391.57 MiB\n",
            "\u001b[2mnvidia-cudnn-cu12\u001b[0m \u001b[32m--\u001b[2m----------------------------\u001b[0m\u001b[0m 40.09 MiB/633.96 MiB\n",
            "\u001b[2K\u001b[12A\u001b[37m⠴\u001b[0m \u001b[2mPreparing packages...\u001b[0m (119/132)\n",
            "\u001b[2mnumpy     \u001b[0m \u001b[32m------------------------------\u001b[2m\u001b[0m\u001b[0m 16.31 MiB/16.51 MiB\n",
            "\u001b[2mscipy     \u001b[0m \u001b[32m---------------------------\u001b[2m---\u001b[0m\u001b[0m 29.10 MiB/32.94 MiB\n",
            "\u001b[2mpyarrow   \u001b[0m \u001b[32m-----------------------------\u001b[2m-\u001b[0m\u001b[0m 35.14 MiB/36.64 MiB\n",
            "\u001b[2mnvidia-curand-cu12\u001b[0m \u001b[32m------------------------\u001b[2m------\u001b[0m\u001b[0m 41.31 MiB/53.85 MiB\n",
            "\u001b[2mnvidia-cufft-cu12\u001b[0m \u001b[32m-----------\u001b[2m-------------------\u001b[0m\u001b[0m 41.34 MiB/116.00 MiB\n",
            "\u001b[2mnvidia-cusolver-cu12\u001b[0m \u001b[32m-----------\u001b[2m-------------------\u001b[0m\u001b[0m 41.39 MiB/118.41 MiB\n",
            "\u001b[2mnvidia-nccl-cu12\u001b[0m \u001b[32m--------\u001b[2m----------------------\u001b[0m\u001b[0m 40.74 MiB/168.08 MiB\n",
            "\u001b[2mnvidia-cusparse-cu12\u001b[0m \u001b[32m-------\u001b[2m-----------------------\u001b[0m\u001b[0m 41.57 MiB/186.88 MiB\n",
            "\u001b[2mtriton    \u001b[0m \u001b[32m-------\u001b[2m-----------------------\u001b[0m\u001b[0m 41.30 MiB/199.65 MiB\n",
            "\u001b[2mnvidia-cublas-cu12\u001b[0m \u001b[32m----\u001b[2m--------------------------\u001b[0m\u001b[0m 41.29 MiB/391.57 MiB\n",
            "\u001b[2mnvidia-cudnn-cu12\u001b[0m \u001b[32m--\u001b[2m----------------------------\u001b[0m\u001b[0m 40.26 MiB/633.96 MiB\n",
            "\u001b[2K\u001b[12A\u001b[37m⠴\u001b[0m \u001b[2mPreparing packages...\u001b[0m (119/132)\n",
            "\u001b[2mnumpy     \u001b[0m \u001b[32m------------------------------\u001b[2m\u001b[0m\u001b[0m 16.31 MiB/16.51 MiB\n",
            "\u001b[2mscipy     \u001b[0m \u001b[32m---------------------------\u001b[2m---\u001b[0m\u001b[0m 29.43 MiB/32.94 MiB\n",
            "\u001b[2mpyarrow   \u001b[0m \u001b[32m-----------------------------\u001b[2m-\u001b[0m\u001b[0m 35.14 MiB/36.64 MiB\n",
            "\u001b[2mnvidia-curand-cu12\u001b[0m \u001b[32m------------------------\u001b[2m------\u001b[0m\u001b[0m 41.60 MiB/53.85 MiB\n",
            "\u001b[2mnvidia-cufft-cu12\u001b[0m \u001b[32m-----------\u001b[2m-------------------\u001b[0m\u001b[0m 41.49 MiB/116.00 MiB\n",
            "\u001b[2mnvidia-cusolver-cu12\u001b[0m \u001b[32m-----------\u001b[2m-------------------\u001b[0m\u001b[0m 41.85 MiB/118.41 MiB\n",
            "\u001b[2mnvidia-nccl-cu12\u001b[0m \u001b[32m--------\u001b[2m----------------------\u001b[0m\u001b[0m 41.05 MiB/168.08 MiB\n",
            "\u001b[2mnvidia-cusparse-cu12\u001b[0m \u001b[32m-------\u001b[2m-----------------------\u001b[0m\u001b[0m 41.91 MiB/186.88 MiB\n",
            "\u001b[2mtriton    \u001b[0m \u001b[32m-------\u001b[2m-----------------------\u001b[0m\u001b[0m 41.61 MiB/199.65 MiB\n",
            "\u001b[2mnvidia-cublas-cu12\u001b[0m \u001b[32m----\u001b[2m--------------------------\u001b[0m\u001b[0m 41.68 MiB/391.57 MiB\n",
            "\u001b[2mnvidia-cudnn-cu12\u001b[0m \u001b[32m--\u001b[2m----------------------------\u001b[0m\u001b[0m 40.57 MiB/633.96 MiB\n",
            "\u001b[2K\u001b[12A\u001b[37m⠴\u001b[0m \u001b[2mPreparing packages...\u001b[0m (119/132)\n",
            "\u001b[2mnumpy     \u001b[0m \u001b[32m------------------------------\u001b[2m\u001b[0m\u001b[0m 16.31 MiB/16.51 MiB\n",
            "\u001b[2mscipy     \u001b[0m \u001b[32m----------------------------\u001b[2m--\u001b[0m\u001b[0m 29.79 MiB/32.94 MiB\n",
            "\u001b[2mpyarrow   \u001b[0m \u001b[32m-----------------------------\u001b[2m-\u001b[0m\u001b[0m 35.14 MiB/36.64 MiB\n",
            "\u001b[2mnvidia-curand-cu12\u001b[0m \u001b[32m------------------------\u001b[2m------\u001b[0m\u001b[0m 41.93 MiB/53.85 MiB\n",
            "\u001b[2mnvidia-cufft-cu12\u001b[0m \u001b[32m-----------\u001b[2m-------------------\u001b[0m\u001b[0m 41.68 MiB/116.00 MiB\n",
            "\u001b[2mnvidia-cusolver-cu12\u001b[0m \u001b[32m-----------\u001b[2m-------------------\u001b[0m\u001b[0m 42.05 MiB/118.41 MiB\n",
            "\u001b[2mnvidia-nccl-cu12\u001b[0m \u001b[32m--------\u001b[2m----------------------\u001b[0m\u001b[0m 41.40 MiB/168.08 MiB\n",
            "\u001b[2mnvidia-cusparse-cu12\u001b[0m \u001b[32m-------\u001b[2m-----------------------\u001b[0m\u001b[0m 42.24 MiB/186.88 MiB\n",
            "\u001b[2mtriton    \u001b[0m \u001b[32m-------\u001b[2m-----------------------\u001b[0m\u001b[0m 41.92 MiB/199.65 MiB\n",
            "\u001b[2mnvidia-cublas-cu12\u001b[0m \u001b[32m----\u001b[2m--------------------------\u001b[0m\u001b[0m 41.68 MiB/391.57 MiB\n",
            "\u001b[2mnvidia-cudnn-cu12\u001b[0m \u001b[32m--\u001b[2m----------------------------\u001b[0m\u001b[0m 40.71 MiB/633.96 MiB\n",
            "\u001b[2K\u001b[12A\u001b[37m⠴\u001b[0m \u001b[2mPreparing packages...\u001b[0m (119/132)\n",
            "\u001b[2mnumpy     \u001b[0m \u001b[32m------------------------------\u001b[2m\u001b[0m\u001b[0m 16.31 MiB/16.51 MiB\n",
            "\u001b[2mscipy     \u001b[0m \u001b[32m----------------------------\u001b[2m--\u001b[0m\u001b[0m 30.12 MiB/32.94 MiB\n",
            "\u001b[2mpyarrow   \u001b[0m \u001b[32m-----------------------------\u001b[2m-\u001b[0m\u001b[0m 35.16 MiB/36.64 MiB\n",
            "\u001b[2mnvidia-curand-cu12\u001b[0m \u001b[32m------------------------\u001b[2m------\u001b[0m\u001b[0m 42.28 MiB/53.85 MiB\n",
            "\u001b[2mnvidia-cufft-cu12\u001b[0m \u001b[32m-----------\u001b[2m-------------------\u001b[0m\u001b[0m 42.18 MiB/116.00 MiB\n",
            "\u001b[2mnvidia-cusolver-cu12\u001b[0m \u001b[32m-----------\u001b[2m-------------------\u001b[0m\u001b[0m 42.24 MiB/118.41 MiB\n",
            "\u001b[2mnvidia-nccl-cu12\u001b[0m \u001b[32m--------\u001b[2m----------------------\u001b[0m\u001b[0m 41.71 MiB/168.08 MiB\n",
            "\u001b[2mnvidia-cusparse-cu12\u001b[0m \u001b[32m-------\u001b[2m-----------------------\u001b[0m\u001b[0m 42.57 MiB/186.88 MiB\n",
            "\u001b[2mtriton    \u001b[0m \u001b[32m-------\u001b[2m-----------------------\u001b[0m\u001b[0m 42.27 MiB/199.65 MiB\n",
            "\u001b[2mnvidia-cublas-cu12\u001b[0m \u001b[32m----\u001b[2m--------------------------\u001b[0m\u001b[0m 42.01 MiB/391.57 MiB\n",
            "\u001b[2mnvidia-cudnn-cu12\u001b[0m \u001b[32m--\u001b[2m----------------------------\u001b[0m\u001b[0m 41.02 MiB/633.96 MiB\n",
            "\u001b[2K\u001b[12A\u001b[37m⠦\u001b[0m \u001b[2mPreparing packages...\u001b[0m (120/132)\n",
            "\u001b[2mnumpy     \u001b[0m \u001b[32m------------------------------\u001b[2m\u001b[0m\u001b[0m 16.31 MiB/16.51 MiB\n",
            "\u001b[2mscipy     \u001b[0m \u001b[32m----------------------------\u001b[2m--\u001b[0m\u001b[0m 30.32 MiB/32.94 MiB\n",
            "\u001b[2mpyarrow   \u001b[0m \u001b[32m-----------------------------\u001b[2m-\u001b[0m\u001b[0m 35.16 MiB/36.64 MiB\n",
            "\u001b[2mnvidia-curand-cu12\u001b[0m \u001b[32m------------------------\u001b[2m------\u001b[0m\u001b[0m 42.64 MiB/53.85 MiB\n",
            "\u001b[2mnvidia-cufft-cu12\u001b[0m \u001b[32m-----------\u001b[2m-------------------\u001b[0m\u001b[0m 42.36 MiB/116.00 MiB\n",
            "\u001b[2mnvidia-cusolver-cu12\u001b[0m \u001b[32m-----------\u001b[2m-------------------\u001b[0m\u001b[0m 42.57 MiB/118.41 MiB\n",
            "\u001b[2mnvidia-nccl-cu12\u001b[0m \u001b[32m--------\u001b[2m----------------------\u001b[0m\u001b[0m 41.94 MiB/168.08 MiB\n",
            "\u001b[2mnvidia-cusparse-cu12\u001b[0m \u001b[32m-------\u001b[2m-----------------------\u001b[0m\u001b[0m 42.84 MiB/186.88 MiB\n",
            "\u001b[2mtriton    \u001b[0m \u001b[32m-------\u001b[2m-----------------------\u001b[0m\u001b[0m 42.62 MiB/199.65 MiB\n",
            "\u001b[2mnvidia-cublas-cu12\u001b[0m \u001b[32m----\u001b[2m--------------------------\u001b[0m\u001b[0m 42.45 MiB/391.57 MiB\n",
            "\u001b[2mnvidia-cudnn-cu12\u001b[0m \u001b[32m--\u001b[2m----------------------------\u001b[0m\u001b[0m 41.46 MiB/633.96 MiB\n",
            "\u001b[2K\u001b[12A\u001b[37m⠦\u001b[0m \u001b[2mPreparing packages...\u001b[0m (120/132)\n",
            "\u001b[2mnumpy     \u001b[0m \u001b[32m------------------------------\u001b[2m\u001b[0m\u001b[0m 16.31 MiB/16.51 MiB\n",
            "\u001b[2mscipy     \u001b[0m \u001b[32m----------------------------\u001b[2m--\u001b[0m\u001b[0m 30.63 MiB/32.94 MiB\n",
            "\u001b[2mpyarrow   \u001b[0m \u001b[32m-----------------------------\u001b[2m-\u001b[0m\u001b[0m 35.17 MiB/36.64 MiB\n",
            "\u001b[2mnvidia-curand-cu12\u001b[0m \u001b[32m------------------------\u001b[2m------\u001b[0m\u001b[0m 42.96 MiB/53.85 MiB\n",
            "\u001b[2mnvidia-cufft-cu12\u001b[0m \u001b[32m------------\u001b[2m------------------\u001b[0m\u001b[0m 42.84 MiB/116.00 MiB\n",
            "\u001b[2mnvidia-cusolver-cu12\u001b[0m \u001b[32m-----------\u001b[2m-------------------\u001b[0m\u001b[0m 43.03 MiB/118.41 MiB\n",
            "\u001b[2mnvidia-nccl-cu12\u001b[0m \u001b[32m--------\u001b[2m----------------------\u001b[0m\u001b[0m 42.40 MiB/168.08 MiB\n",
            "\u001b[2mnvidia-cusparse-cu12\u001b[0m \u001b[32m-------\u001b[2m-----------------------\u001b[0m\u001b[0m 43.13 MiB/186.88 MiB\n",
            "\u001b[2mtriton    \u001b[0m \u001b[32m-------\u001b[2m-----------------------\u001b[0m\u001b[0m 42.94 MiB/199.65 MiB\n",
            "\u001b[2mnvidia-cublas-cu12\u001b[0m \u001b[32m----\u001b[2m--------------------------\u001b[0m\u001b[0m 42.81 MiB/391.57 MiB\n",
            "\u001b[2mnvidia-cudnn-cu12\u001b[0m \u001b[32m--\u001b[2m----------------------------\u001b[0m\u001b[0m 41.67 MiB/633.96 MiB\n",
            "\u001b[2K\u001b[12A\u001b[37m⠦\u001b[0m \u001b[2mPreparing packages...\u001b[0m (120/132)\n",
            "\u001b[2mnumpy     \u001b[0m \u001b[32m------------------------------\u001b[2m\u001b[0m\u001b[0m 16.31 MiB/16.51 MiB\n",
            "\u001b[2mscipy     \u001b[0m \u001b[32m-----------------------------\u001b[2m-\u001b[0m\u001b[0m 30.98 MiB/32.94 MiB\n",
            "\u001b[2mpyarrow   \u001b[0m \u001b[32m-----------------------------\u001b[2m-\u001b[0m\u001b[0m 35.17 MiB/36.64 MiB\n",
            "\u001b[2mnvidia-curand-cu12\u001b[0m \u001b[32m-------------------------\u001b[2m-----\u001b[0m\u001b[0m 43.24 MiB/53.85 MiB\n",
            "\u001b[2mnvidia-cufft-cu12\u001b[0m \u001b[32m------------\u001b[2m------------------\u001b[0m\u001b[0m 43.00 MiB/116.00 MiB\n",
            "\u001b[2mnvidia-cusolver-cu12\u001b[0m \u001b[32m-----------\u001b[2m-------------------\u001b[0m\u001b[0m 43.41 MiB/118.41 MiB\n",
            "\u001b[2mnvidia-nccl-cu12\u001b[0m \u001b[32m--------\u001b[2m----------------------\u001b[0m\u001b[0m 42.73 MiB/168.08 MiB\n",
            "\u001b[2mnvidia-cusparse-cu12\u001b[0m \u001b[32m-------\u001b[2m-----------------------\u001b[0m\u001b[0m 43.55 MiB/186.88 MiB\n",
            "\u001b[2mtriton    \u001b[0m \u001b[32m-------\u001b[2m-----------------------\u001b[0m\u001b[0m 43.28 MiB/199.65 MiB\n",
            "\u001b[2mnvidia-cublas-cu12\u001b[0m \u001b[32m----\u001b[2m--------------------------\u001b[0m\u001b[0m 42.99 MiB/391.57 MiB\n",
            "\u001b[2mnvidia-cudnn-cu12\u001b[0m \u001b[32m--\u001b[2m----------------------------\u001b[0m\u001b[0m 42.11 MiB/633.96 MiB\n",
            "\u001b[2K\u001b[12A\u001b[37m⠦\u001b[0m \u001b[2mPreparing packages...\u001b[0m (120/132)\n",
            "\u001b[2mnumpy     \u001b[0m \u001b[32m------------------------------\u001b[2m\u001b[0m\u001b[0m 16.34 MiB/16.51 MiB\n",
            "\u001b[2mscipy     \u001b[0m \u001b[32m-----------------------------\u001b[2m-\u001b[0m\u001b[0m 31.33 MiB/32.94 MiB\n",
            "\u001b[2mpyarrow   \u001b[0m \u001b[32m-----------------------------\u001b[2m-\u001b[0m\u001b[0m 35.17 MiB/36.64 MiB\n",
            "\u001b[2mnvidia-curand-cu12\u001b[0m \u001b[32m-------------------------\u001b[2m-----\u001b[0m\u001b[0m 43.57 MiB/53.85 MiB\n",
            "\u001b[2mnvidia-cufft-cu12\u001b[0m \u001b[32m------------\u001b[2m------------------\u001b[0m\u001b[0m 43.48 MiB/116.00 MiB\n",
            "\u001b[2mnvidia-cusolver-cu12\u001b[0m \u001b[32m------------\u001b[2m------------------\u001b[0m\u001b[0m 43.74 MiB/118.41 MiB\n",
            "\u001b[2mnvidia-nccl-cu12\u001b[0m \u001b[32m--------\u001b[2m----------------------\u001b[0m\u001b[0m 42.92 MiB/168.08 MiB\n",
            "\u001b[2mnvidia-cusparse-cu12\u001b[0m \u001b[32m--------\u001b[2m----------------------\u001b[0m\u001b[0m 43.72 MiB/186.88 MiB\n",
            "\u001b[2mtriton    \u001b[0m \u001b[32m-------\u001b[2m-----------------------\u001b[0m\u001b[0m 43.62 MiB/199.65 MiB\n",
            "\u001b[2mnvidia-cublas-cu12\u001b[0m \u001b[32m----\u001b[2m--------------------------\u001b[0m\u001b[0m 43.49 MiB/391.57 MiB\n",
            "\u001b[2mnvidia-cudnn-cu12\u001b[0m \u001b[32m---\u001b[2m---------------------------\u001b[0m\u001b[0m 42.47 MiB/633.96 MiB\n",
            "\u001b[2K\u001b[12A\u001b[37m⠧\u001b[0m \u001b[2mPreparing packages...\u001b[0m (120/132)\n",
            "\u001b[2mnumpy     \u001b[0m \u001b[32m------------------------------\u001b[2m\u001b[0m\u001b[0m 16.36 MiB/16.51 MiB\n",
            "\u001b[2mscipy     \u001b[0m \u001b[32m-----------------------------\u001b[2m-\u001b[0m\u001b[0m 31.79 MiB/32.94 MiB\n",
            "\u001b[2mpyarrow   \u001b[0m \u001b[32m-----------------------------\u001b[2m-\u001b[0m\u001b[0m 35.19 MiB/36.64 MiB\n",
            "\u001b[2mnvidia-curand-cu12\u001b[0m \u001b[32m-------------------------\u001b[2m-----\u001b[0m\u001b[0m 43.75 MiB/53.85 MiB\n",
            "\u001b[2mnvidia-cufft-cu12\u001b[0m \u001b[32m------------\u001b[2m------------------\u001b[0m\u001b[0m 43.78 MiB/116.00 MiB\n",
            "\u001b[2mnvidia-cusolver-cu12\u001b[0m \u001b[32m------------\u001b[2m------------------\u001b[0m\u001b[0m 44.08 MiB/118.41 MiB\n",
            "\u001b[2mnvidia-nccl-cu12\u001b[0m \u001b[32m--------\u001b[2m----------------------\u001b[0m\u001b[0m 43.30 MiB/168.08 MiB\n",
            "\u001b[2mnvidia-cusparse-cu12\u001b[0m \u001b[32m--------\u001b[2m----------------------\u001b[0m\u001b[0m 44.05 MiB/186.88 MiB\n",
            "\u001b[2mtriton    \u001b[0m \u001b[32m-------\u001b[2m-----------------------\u001b[0m\u001b[0m 43.97 MiB/199.65 MiB\n",
            "\u001b[2mnvidia-cublas-cu12\u001b[0m \u001b[32m----\u001b[2m--------------------------\u001b[0m\u001b[0m 43.85 MiB/391.57 MiB\n",
            "\u001b[2mnvidia-cudnn-cu12\u001b[0m \u001b[32m---\u001b[2m---------------------------\u001b[0m\u001b[0m 42.68 MiB/633.96 MiB\n",
            "\u001b[2K\u001b[12A\u001b[37m⠧\u001b[0m \u001b[2mPreparing packages...\u001b[0m (120/132)\n",
            "\u001b[2mnumpy     \u001b[0m \u001b[32m------------------------------\u001b[2m\u001b[0m\u001b[0m 16.37 MiB/16.51 MiB\n",
            "\u001b[2mscipy     \u001b[0m \u001b[32m------------------------------\u001b[2m\u001b[0m\u001b[0m 32.13 MiB/32.94 MiB\n",
            "\u001b[2mpyarrow   \u001b[0m \u001b[32m-----------------------------\u001b[2m-\u001b[0m\u001b[0m 35.19 MiB/36.64 MiB\n",
            "\u001b[2mnvidia-curand-cu12\u001b[0m \u001b[32m-------------------------\u001b[2m-----\u001b[0m\u001b[0m 44.24 MiB/53.85 MiB\n",
            "\u001b[2mnvidia-cufft-cu12\u001b[0m \u001b[32m------------\u001b[2m------------------\u001b[0m\u001b[0m 44.15 MiB/116.00 MiB\n",
            "\u001b[2mnvidia-cusolver-cu12\u001b[0m \u001b[32m------------\u001b[2m------------------\u001b[0m\u001b[0m 44.32 MiB/118.41 MiB\n",
            "\u001b[2mnvidia-nccl-cu12\u001b[0m \u001b[32m--------\u001b[2m----------------------\u001b[0m\u001b[0m 43.59 MiB/168.08 MiB\n",
            "\u001b[2mnvidia-cusparse-cu12\u001b[0m \u001b[32m--------\u001b[2m----------------------\u001b[0m\u001b[0m 44.36 MiB/186.88 MiB\n",
            "\u001b[2mtriton    \u001b[0m \u001b[32m-------\u001b[2m-----------------------\u001b[0m\u001b[0m 44.19 MiB/199.65 MiB\n",
            "\u001b[2mnvidia-cublas-cu12\u001b[0m \u001b[32m----\u001b[2m--------------------------\u001b[0m\u001b[0m 44.18 MiB/391.57 MiB\n",
            "\u001b[2mnvidia-cudnn-cu12\u001b[0m \u001b[32m---\u001b[2m---------------------------\u001b[0m\u001b[0m 43.17 MiB/633.96 MiB\n",
            "\u001b[2K\u001b[12A\u001b[37m⠧\u001b[0m \u001b[2mPreparing packages...\u001b[0m (120/132)\n",
            "\u001b[2mnumpy     \u001b[0m \u001b[32m------------------------------\u001b[2m\u001b[0m\u001b[0m 16.39 MiB/16.51 MiB\n",
            "\u001b[2mscipy     \u001b[0m \u001b[32m------------------------------\u001b[2m\u001b[0m\u001b[0m 32.34 MiB/32.94 MiB\n",
            "\u001b[2mpyarrow   \u001b[0m \u001b[32m-----------------------------\u001b[2m-\u001b[0m\u001b[0m 35.19 MiB/36.64 MiB\n",
            "\u001b[2mnvidia-curand-cu12\u001b[0m \u001b[32m-------------------------\u001b[2m-----\u001b[0m\u001b[0m 44.40 MiB/53.85 MiB\n",
            "\u001b[2mnvidia-cufft-cu12\u001b[0m \u001b[32m------------\u001b[2m------------------\u001b[0m\u001b[0m 44.32 MiB/116.00 MiB\n",
            "\u001b[2mnvidia-cusolver-cu12\u001b[0m \u001b[32m------------\u001b[2m------------------\u001b[0m\u001b[0m 44.64 MiB/118.41 MiB\n",
            "\u001b[2mnvidia-nccl-cu12\u001b[0m \u001b[32m--------\u001b[2m----------------------\u001b[0m\u001b[0m 44.05 MiB/168.08 MiB\n",
            "\u001b[2mnvidia-cusparse-cu12\u001b[0m \u001b[32m--------\u001b[2m----------------------\u001b[0m\u001b[0m 44.87 MiB/186.88 MiB\n",
            "\u001b[2mtriton    \u001b[0m \u001b[32m-------\u001b[2m-----------------------\u001b[0m\u001b[0m 44.58 MiB/199.65 MiB\n",
            "\u001b[2mnvidia-cublas-cu12\u001b[0m \u001b[32m----\u001b[2m--------------------------\u001b[0m\u001b[0m 44.36 MiB/391.57 MiB\n",
            "\u001b[2mnvidia-cudnn-cu12\u001b[0m \u001b[32m---\u001b[2m---------------------------\u001b[0m\u001b[0m 43.34 MiB/633.96 MiB\n",
            "\u001b[2K\u001b[12A\u001b[37m⠧\u001b[0m \u001b[2mPreparing packages...\u001b[0m (120/132)\n",
            "\u001b[2mnumpy     \u001b[0m \u001b[32m------------------------------\u001b[2m\u001b[0m\u001b[0m 16.39 MiB/16.51 MiB\n",
            "\u001b[2mscipy     \u001b[0m \u001b[32m------------------------------\u001b[2m\u001b[0m\u001b[0m 32.70 MiB/32.94 MiB\n",
            "\u001b[2mpyarrow   \u001b[0m \u001b[32m-----------------------------\u001b[2m-\u001b[0m\u001b[0m 35.19 MiB/36.64 MiB\n",
            "\u001b[2mnvidia-curand-cu12\u001b[0m \u001b[32m-------------------------\u001b[2m-----\u001b[0m\u001b[0m 44.74 MiB/53.85 MiB\n",
            "\u001b[2mnvidia-cufft-cu12\u001b[0m \u001b[32m------------\u001b[2m------------------\u001b[0m\u001b[0m 44.67 MiB/116.00 MiB\n",
            "\u001b[2mnvidia-cusolver-cu12\u001b[0m \u001b[32m------------\u001b[2m------------------\u001b[0m\u001b[0m 45.00 MiB/118.41 MiB\n",
            "\u001b[2mnvidia-nccl-cu12\u001b[0m \u001b[32m--------\u001b[2m----------------------\u001b[0m\u001b[0m 44.26 MiB/168.08 MiB\n",
            "\u001b[2mnvidia-cusparse-cu12\u001b[0m \u001b[32m--------\u001b[2m----------------------\u001b[0m\u001b[0m 45.05 MiB/186.88 MiB\n",
            "\u001b[2mtriton    \u001b[0m \u001b[32m-------\u001b[2m-----------------------\u001b[0m\u001b[0m 44.89 MiB/199.65 MiB\n",
            "\u001b[2mnvidia-cublas-cu12\u001b[0m \u001b[32m----\u001b[2m--------------------------\u001b[0m\u001b[0m 44.68 MiB/391.57 MiB\n",
            "\u001b[2mnvidia-cudnn-cu12\u001b[0m \u001b[32m---\u001b[2m---------------------------\u001b[0m\u001b[0m 43.69 MiB/633.96 MiB\n",
            "\u001b[2K\u001b[12A\u001b[37m⠇\u001b[0m \u001b[2mPreparing packages...\u001b[0m (120/132)\n",
            "\u001b[2mnumpy     \u001b[0m \u001b[32m------------------------------\u001b[2m\u001b[0m\u001b[0m 16.41 MiB/16.51 MiB\n",
            "\u001b[2mscipy     \u001b[0m \u001b[32m------------------------------\u001b[2m\u001b[0m\u001b[0m 32.77 MiB/32.94 MiB\n",
            "\u001b[2mpyarrow   \u001b[0m \u001b[32m-----------------------------\u001b[2m-\u001b[0m\u001b[0m 35.22 MiB/36.64 MiB\n",
            "\u001b[2mnvidia-curand-cu12\u001b[0m \u001b[32m--------------------------\u001b[2m----\u001b[0m\u001b[0m 45.11 MiB/53.85 MiB\n",
            "\u001b[2mnvidia-cufft-cu12\u001b[0m \u001b[32m------------\u001b[2m------------------\u001b[0m\u001b[0m 44.94 MiB/116.00 MiB\n",
            "\u001b[2mnvidia-cusolver-cu12\u001b[0m \u001b[32m------------\u001b[2m------------------\u001b[0m\u001b[0m 45.33 MiB/118.41 MiB\n",
            "\u001b[2mnvidia-nccl-cu12\u001b[0m \u001b[32m--------\u001b[2m----------------------\u001b[0m\u001b[0m 44.63 MiB/168.08 MiB\n",
            "\u001b[2mnvidia-cusparse-cu12\u001b[0m \u001b[32m--------\u001b[2m----------------------\u001b[0m\u001b[0m 45.45 MiB/186.88 MiB\n",
            "\u001b[2mtriton    \u001b[0m \u001b[32m-------\u001b[2m-----------------------\u001b[0m\u001b[0m 45.17 MiB/199.65 MiB\n",
            "\u001b[2mnvidia-cublas-cu12\u001b[0m \u001b[32m----\u001b[2m--------------------------\u001b[0m\u001b[0m 45.00 MiB/391.57 MiB\n",
            "\u001b[2mnvidia-cudnn-cu12\u001b[0m \u001b[32m---\u001b[2m---------------------------\u001b[0m\u001b[0m 44.18 MiB/633.96 MiB\n",
            "\u001b[2K\u001b[12A\u001b[37m⠇\u001b[0m \u001b[2mPreparing packages...\u001b[0m (120/132)\n",
            "\u001b[2mnumpy     \u001b[0m \u001b[32m------------------------------\u001b[2m\u001b[0m\u001b[0m 16.41 MiB/16.51 MiB\n",
            "\u001b[2mscipy     \u001b[0m \u001b[32m------------------------------\u001b[2m\u001b[0m\u001b[0m 32.84 MiB/32.94 MiB\n",
            "\u001b[2mpyarrow   \u001b[0m \u001b[32m-----------------------------\u001b[2m-\u001b[0m\u001b[0m 35.22 MiB/36.64 MiB\n",
            "\u001b[2mnvidia-curand-cu12\u001b[0m \u001b[32m--------------------------\u001b[2m----\u001b[0m\u001b[0m 45.55 MiB/53.85 MiB\n",
            "\u001b[2mnvidia-cufft-cu12\u001b[0m \u001b[32m------------\u001b[2m------------------\u001b[0m\u001b[0m 45.31 MiB/116.00 MiB\n",
            "\u001b[2mnvidia-cusolver-cu12\u001b[0m \u001b[32m------------\u001b[2m------------------\u001b[0m\u001b[0m 45.70 MiB/118.41 MiB\n",
            "\u001b[2mnvidia-nccl-cu12\u001b[0m \u001b[32m---------\u001b[2m---------------------\u001b[0m\u001b[0m 44.99 MiB/168.08 MiB\n",
            "\u001b[2mnvidia-cusparse-cu12\u001b[0m \u001b[32m--------\u001b[2m----------------------\u001b[0m\u001b[0m 45.78 MiB/186.88 MiB\n",
            "\u001b[2mtriton    \u001b[0m \u001b[32m-------\u001b[2m-----------------------\u001b[0m\u001b[0m 45.67 MiB/199.65 MiB\n",
            "\u001b[2mnvidia-cublas-cu12\u001b[0m \u001b[32m----\u001b[2m--------------------------\u001b[0m\u001b[0m 45.35 MiB/391.57 MiB\n",
            "\u001b[2mnvidia-cudnn-cu12\u001b[0m \u001b[32m---\u001b[2m---------------------------\u001b[0m\u001b[0m 44.41 MiB/633.96 MiB\n",
            "\u001b[2K\u001b[12A\u001b[37m⠇\u001b[0m \u001b[2mPreparing packages...\u001b[0m (120/132)\n",
            "\u001b[2mnumpy     \u001b[0m \u001b[32m------------------------------\u001b[2m\u001b[0m\u001b[0m 16.42 MiB/16.51 MiB\n",
            "\u001b[2mscipy     \u001b[0m \u001b[32m------------------------------\u001b[2m\u001b[0m\u001b[0m 32.84 MiB/32.94 MiB\n",
            "\u001b[2mpyarrow   \u001b[0m \u001b[32m-----------------------------\u001b[2m-\u001b[0m\u001b[0m 35.24 MiB/36.64 MiB\n",
            "\u001b[2mnvidia-curand-cu12\u001b[0m \u001b[32m--------------------------\u001b[2m----\u001b[0m\u001b[0m 45.84 MiB/53.85 MiB\n",
            "\u001b[2mnvidia-cufft-cu12\u001b[0m \u001b[32m------------\u001b[2m------------------\u001b[0m\u001b[0m 45.71 MiB/116.00 MiB\n",
            "\u001b[2mnvidia-cusolver-cu12\u001b[0m \u001b[32m------------\u001b[2m------------------\u001b[0m\u001b[0m 46.00 MiB/118.41 MiB\n",
            "\u001b[2mnvidia-nccl-cu12\u001b[0m \u001b[32m---------\u001b[2m---------------------\u001b[0m\u001b[0m 45.34 MiB/168.08 MiB\n",
            "\u001b[2mnvidia-cusparse-cu12\u001b[0m \u001b[32m--------\u001b[2m----------------------\u001b[0m\u001b[0m 46.17 MiB/186.88 MiB\n",
            "\u001b[2mtriton    \u001b[0m \u001b[32m-------\u001b[2m-----------------------\u001b[0m\u001b[0m 45.92 MiB/199.65 MiB\n",
            "\u001b[2mnvidia-cublas-cu12\u001b[0m \u001b[32m----\u001b[2m--------------------------\u001b[0m\u001b[0m 45.93 MiB/391.57 MiB\n",
            "\u001b[2mnvidia-cudnn-cu12\u001b[0m \u001b[32m---\u001b[2m---------------------------\u001b[0m\u001b[0m 44.70 MiB/633.96 MiB\n",
            "\u001b[2K\u001b[12A\u001b[37m⠇\u001b[0m \u001b[2mPreparing packages...\u001b[0m (120/132)\n",
            "\u001b[2mnumpy     \u001b[0m \u001b[32m------------------------------\u001b[2m\u001b[0m\u001b[0m 16.42 MiB/16.51 MiB\n",
            "\u001b[2mscipy     \u001b[0m \u001b[32m------------------------------\u001b[2m\u001b[0m\u001b[0m 32.85 MiB/32.94 MiB\n",
            "\u001b[2mpyarrow   \u001b[0m \u001b[32m-----------------------------\u001b[2m-\u001b[0m\u001b[0m 35.24 MiB/36.64 MiB\n",
            "\u001b[2mnvidia-curand-cu12\u001b[0m \u001b[32m--------------------------\u001b[2m----\u001b[0m\u001b[0m 46.22 MiB/53.85 MiB\n",
            "\u001b[2mnvidia-cufft-cu12\u001b[0m \u001b[32m------------\u001b[2m------------------\u001b[0m\u001b[0m 46.11 MiB/116.00 MiB\n",
            "\u001b[2mnvidia-cusolver-cu12\u001b[0m \u001b[32m------------\u001b[2m------------------\u001b[0m\u001b[0m 46.34 MiB/118.41 MiB\n",
            "\u001b[2mnvidia-nccl-cu12\u001b[0m \u001b[32m---------\u001b[2m---------------------\u001b[0m\u001b[0m 45.68 MiB/168.08 MiB\n",
            "\u001b[2mnvidia-cusparse-cu12\u001b[0m \u001b[32m--------\u001b[2m----------------------\u001b[0m\u001b[0m 46.55 MiB/186.88 MiB\n",
            "\u001b[2mtriton    \u001b[0m \u001b[32m-------\u001b[2m-----------------------\u001b[0m\u001b[0m 46.31 MiB/199.65 MiB\n",
            "\u001b[2mnvidia-cublas-cu12\u001b[0m \u001b[32m----\u001b[2m--------------------------\u001b[0m\u001b[0m 46.12 MiB/391.57 MiB\n",
            "\u001b[2mnvidia-cudnn-cu12\u001b[0m \u001b[32m---\u001b[2m---------------------------\u001b[0m\u001b[0m 45.29 MiB/633.96 MiB\n",
            "\u001b[2K\u001b[12A\u001b[37m⠋\u001b[0m \u001b[2mPreparing packages...\u001b[0m (120/132)\n",
            "\u001b[2mnumpy     \u001b[0m \u001b[32m------------------------------\u001b[2m\u001b[0m\u001b[0m 16.42 MiB/16.51 MiB\n",
            "\u001b[2mscipy     \u001b[0m \u001b[32m------------------------------\u001b[2m\u001b[0m\u001b[0m 32.85 MiB/32.94 MiB\n",
            "\u001b[2mpyarrow   \u001b[0m \u001b[32m-----------------------------\u001b[2m-\u001b[0m\u001b[0m 35.24 MiB/36.64 MiB\n",
            "\u001b[2mnvidia-curand-cu12\u001b[0m \u001b[32m--------------------------\u001b[2m----\u001b[0m\u001b[0m 46.63 MiB/53.85 MiB\n",
            "\u001b[2mnvidia-cufft-cu12\u001b[0m \u001b[32m-------------\u001b[2m-----------------\u001b[0m\u001b[0m 46.48 MiB/116.00 MiB\n",
            "\u001b[2mnvidia-cusolver-cu12\u001b[0m \u001b[32m------------\u001b[2m------------------\u001b[0m\u001b[0m 46.75 MiB/118.41 MiB\n",
            "\u001b[2mnvidia-nccl-cu12\u001b[0m \u001b[32m---------\u001b[2m---------------------\u001b[0m\u001b[0m 46.09 MiB/168.08 MiB\n",
            "\u001b[2mnvidia-cusparse-cu12\u001b[0m \u001b[32m--------\u001b[2m----------------------\u001b[0m\u001b[0m 46.93 MiB/186.88 MiB\n",
            "\u001b[2mtriton    \u001b[0m \u001b[32m--------\u001b[2m----------------------\u001b[0m\u001b[0m 46.69 MiB/199.65 MiB\n",
            "\u001b[2mnvidia-cublas-cu12\u001b[0m \u001b[32m----\u001b[2m--------------------------\u001b[0m\u001b[0m 46.50 MiB/391.57 MiB\n",
            "\u001b[2mnvidia-cudnn-cu12\u001b[0m \u001b[32m---\u001b[2m---------------------------\u001b[0m\u001b[0m 45.53 MiB/633.96 MiB\n",
            "\u001b[2K\u001b[12A\u001b[37m⠋\u001b[0m \u001b[2mPreparing packages...\u001b[0m (120/132)\n",
            "\u001b[2mnumpy     \u001b[0m \u001b[32m------------------------------\u001b[2m\u001b[0m\u001b[0m 16.44 MiB/16.51 MiB\n",
            "\u001b[2mscipy     \u001b[0m \u001b[32m------------------------------\u001b[2m\u001b[0m\u001b[0m 32.85 MiB/32.94 MiB\n",
            "\u001b[2mpyarrow   \u001b[0m \u001b[32m-----------------------------\u001b[2m-\u001b[0m\u001b[0m 35.24 MiB/36.64 MiB\n",
            "\u001b[2mnvidia-curand-cu12\u001b[0m \u001b[32m---------------------------\u001b[2m---\u001b[0m\u001b[0m 46.98 MiB/53.85 MiB\n",
            "\u001b[2mnvidia-cufft-cu12\u001b[0m \u001b[32m-------------\u001b[2m-----------------\u001b[0m\u001b[0m 46.80 MiB/116.00 MiB\n",
            "\u001b[2mnvidia-cusolver-cu12\u001b[0m \u001b[32m------------\u001b[2m------------------\u001b[0m\u001b[0m 47.12 MiB/118.41 MiB\n",
            "\u001b[2mnvidia-nccl-cu12\u001b[0m \u001b[32m---------\u001b[2m---------------------\u001b[0m\u001b[0m 46.46 MiB/168.08 MiB\n",
            "\u001b[2mnvidia-cusparse-cu12\u001b[0m \u001b[32m--------\u001b[2m----------------------\u001b[0m\u001b[0m 47.31 MiB/186.88 MiB\n",
            "\u001b[2mtriton    \u001b[0m \u001b[32m--------\u001b[2m----------------------\u001b[0m\u001b[0m 47.09 MiB/199.65 MiB\n",
            "\u001b[2mnvidia-cublas-cu12\u001b[0m \u001b[32m----\u001b[2m--------------------------\u001b[0m\u001b[0m 46.88 MiB/391.57 MiB\n",
            "\u001b[2mnvidia-cudnn-cu12\u001b[0m \u001b[32m---\u001b[2m---------------------------\u001b[0m\u001b[0m 45.92 MiB/633.96 MiB\n",
            "\u001b[2K\u001b[12A\u001b[37m⠋\u001b[0m \u001b[2mPreparing packages...\u001b[0m (120/132)\n",
            "\u001b[2mnumpy     \u001b[0m \u001b[32m------------------------------\u001b[2m\u001b[0m\u001b[0m 16.44 MiB/16.51 MiB\n",
            "\u001b[2mscipy     \u001b[0m \u001b[32m------------------------------\u001b[2m\u001b[0m\u001b[0m 32.85 MiB/32.94 MiB\n",
            "\u001b[2mpyarrow   \u001b[0m \u001b[32m-----------------------------\u001b[2m-\u001b[0m\u001b[0m 35.25 MiB/36.64 MiB\n",
            "\u001b[2mnvidia-curand-cu12\u001b[0m \u001b[32m---------------------------\u001b[2m---\u001b[0m\u001b[0m 47.40 MiB/53.85 MiB\n",
            "\u001b[2mnvidia-cufft-cu12\u001b[0m \u001b[32m-------------\u001b[2m-----------------\u001b[0m\u001b[0m 47.24 MiB/116.00 MiB\n",
            "\u001b[2mnvidia-cusolver-cu12\u001b[0m \u001b[32m-------------\u001b[2m-----------------\u001b[0m\u001b[0m 47.50 MiB/118.41 MiB\n",
            "\u001b[2mnvidia-nccl-cu12\u001b[0m \u001b[32m---------\u001b[2m---------------------\u001b[0m\u001b[0m 46.86 MiB/168.08 MiB\n",
            "\u001b[2mnvidia-cusparse-cu12\u001b[0m \u001b[32m--------\u001b[2m----------------------\u001b[0m\u001b[0m 47.68 MiB/186.88 MiB\n",
            "\u001b[2mtriton    \u001b[0m \u001b[32m--------\u001b[2m----------------------\u001b[0m\u001b[0m 47.48 MiB/199.65 MiB\n",
            "\u001b[2mnvidia-cublas-cu12\u001b[0m \u001b[32m----\u001b[2m--------------------------\u001b[0m\u001b[0m 47.14 MiB/391.57 MiB\n",
            "\u001b[2mnvidia-cudnn-cu12\u001b[0m \u001b[32m---\u001b[2m---------------------------\u001b[0m\u001b[0m 46.29 MiB/633.96 MiB\n",
            "\u001b[2K\u001b[12A\u001b[37m⠋\u001b[0m \u001b[2mPreparing packages...\u001b[0m (120/132)\n",
            "\u001b[2mnumpy     \u001b[0m \u001b[32m------------------------------\u001b[2m\u001b[0m\u001b[0m 16.44 MiB/16.51 MiB\n",
            "\u001b[2mscipy     \u001b[0m \u001b[32m------------------------------\u001b[2m\u001b[0m\u001b[0m 32.85 MiB/32.94 MiB\n",
            "\u001b[2mpyarrow   \u001b[0m \u001b[32m-----------------------------\u001b[2m-\u001b[0m\u001b[0m 35.27 MiB/36.64 MiB\n",
            "\u001b[2mnvidia-curand-cu12\u001b[0m \u001b[32m---------------------------\u001b[2m---\u001b[0m\u001b[0m 47.76 MiB/53.85 MiB\n",
            "\u001b[2mnvidia-cufft-cu12\u001b[0m \u001b[32m-------------\u001b[2m-----------------\u001b[0m\u001b[0m 47.55 MiB/116.00 MiB\n",
            "\u001b[2mnvidia-cusolver-cu12\u001b[0m \u001b[32m-------------\u001b[2m-----------------\u001b[0m\u001b[0m 47.68 MiB/118.41 MiB\n",
            "\u001b[2mnvidia-nccl-cu12\u001b[0m \u001b[32m---------\u001b[2m---------------------\u001b[0m\u001b[0m 47.07 MiB/168.08 MiB\n",
            "\u001b[2mnvidia-cusparse-cu12\u001b[0m \u001b[32m--------\u001b[2m----------------------\u001b[0m\u001b[0m 48.06 MiB/186.88 MiB\n",
            "\u001b[2mtriton    \u001b[0m \u001b[32m--------\u001b[2m----------------------\u001b[0m\u001b[0m 47.87 MiB/199.65 MiB\n",
            "\u001b[2mnvidia-cublas-cu12\u001b[0m \u001b[32m----\u001b[2m--------------------------\u001b[0m\u001b[0m 47.57 MiB/391.57 MiB\n",
            "\u001b[2mnvidia-cudnn-cu12\u001b[0m \u001b[32m---\u001b[2m---------------------------\u001b[0m\u001b[0m 46.67 MiB/633.96 MiB\n",
            "\u001b[2K\u001b[12A\u001b[37m⠙\u001b[0m \u001b[2mPreparing packages...\u001b[0m (120/132)\n",
            "\u001b[2mnumpy     \u001b[0m \u001b[32m------------------------------\u001b[2m\u001b[0m\u001b[0m 16.45 MiB/16.51 MiB\n",
            "\u001b[2mscipy     \u001b[0m \u001b[32m------------------------------\u001b[2m\u001b[0m\u001b[0m 32.85 MiB/32.94 MiB\n",
            "\u001b[2mpyarrow   \u001b[0m \u001b[32m-----------------------------\u001b[2m-\u001b[0m\u001b[0m 35.27 MiB/36.64 MiB\n",
            "\u001b[2mnvidia-curand-cu12\u001b[0m \u001b[32m---------------------------\u001b[2m---\u001b[0m\u001b[0m 47.94 MiB/53.85 MiB\n",
            "\u001b[2mnvidia-cufft-cu12\u001b[0m \u001b[32m-------------\u001b[2m-----------------\u001b[0m\u001b[0m 47.80 MiB/116.00 MiB\n",
            "\u001b[2mnvidia-cusolver-cu12\u001b[0m \u001b[32m-------------\u001b[2m-----------------\u001b[0m\u001b[0m 48.10 MiB/118.41 MiB\n",
            "\u001b[2mnvidia-nccl-cu12\u001b[0m \u001b[32m---------\u001b[2m---------------------\u001b[0m\u001b[0m 47.41 MiB/168.08 MiB\n",
            "\u001b[2mnvidia-cusparse-cu12\u001b[0m \u001b[32m--------\u001b[2m----------------------\u001b[0m\u001b[0m 48.25 MiB/186.88 MiB\n",
            "\u001b[2mtriton    \u001b[0m \u001b[32m--------\u001b[2m----------------------\u001b[0m\u001b[0m 48.06 MiB/199.65 MiB\n",
            "\u001b[2mnvidia-cublas-cu12\u001b[0m \u001b[32m----\u001b[2m--------------------------\u001b[0m\u001b[0m 47.78 MiB/391.57 MiB\n",
            "\u001b[2mnvidia-cudnn-cu12\u001b[0m \u001b[32m---\u001b[2m---------------------------\u001b[0m\u001b[0m 47.01 MiB/633.96 MiB\n",
            "\u001b[2K\u001b[12A\u001b[37m⠙\u001b[0m \u001b[2mPreparing packages...\u001b[0m (120/132)\n",
            "\u001b[2mnumpy     \u001b[0m \u001b[32m------------------------------\u001b[2m\u001b[0m\u001b[0m 16.45 MiB/16.51 MiB\n",
            "\u001b[2mscipy     \u001b[0m \u001b[32m------------------------------\u001b[2m\u001b[0m\u001b[0m 32.85 MiB/32.94 MiB\n",
            "\u001b[2mpyarrow   \u001b[0m \u001b[32m-----------------------------\u001b[2m-\u001b[0m\u001b[0m 35.27 MiB/36.64 MiB\n",
            "\u001b[2mnvidia-curand-cu12\u001b[0m \u001b[32m---------------------------\u001b[2m---\u001b[0m\u001b[0m 48.33 MiB/53.85 MiB\n",
            "\u001b[2mnvidia-cufft-cu12\u001b[0m \u001b[32m-------------\u001b[2m-----------------\u001b[0m\u001b[0m 48.17 MiB/116.00 MiB\n",
            "\u001b[2mnvidia-cusolver-cu12\u001b[0m \u001b[32m-------------\u001b[2m-----------------\u001b[0m\u001b[0m 48.48 MiB/118.41 MiB\n",
            "\u001b[2mnvidia-nccl-cu12\u001b[0m \u001b[32m---------\u001b[2m---------------------\u001b[0m\u001b[0m 47.81 MiB/168.08 MiB\n",
            "\u001b[2mnvidia-cusparse-cu12\u001b[0m \u001b[32m--------\u001b[2m----------------------\u001b[0m\u001b[0m 48.66 MiB/186.88 MiB\n",
            "\u001b[2mtriton    \u001b[0m \u001b[32m--------\u001b[2m----------------------\u001b[0m\u001b[0m 48.40 MiB/199.65 MiB\n",
            "\u001b[2mnvidia-cublas-cu12\u001b[0m \u001b[32m----\u001b[2m--------------------------\u001b[0m\u001b[0m 48.16 MiB/391.57 MiB\n",
            "\u001b[2mnvidia-cudnn-cu12\u001b[0m \u001b[32m---\u001b[2m---------------------------\u001b[0m\u001b[0m 47.20 MiB/633.96 MiB\n",
            "\u001b[2K\u001b[12A\u001b[37m⠙\u001b[0m \u001b[2mPreparing packages...\u001b[0m (120/132)\n",
            "\u001b[2mnumpy     \u001b[0m \u001b[32m------------------------------\u001b[2m\u001b[0m\u001b[0m 16.47 MiB/16.51 MiB\n",
            "\u001b[2mscipy     \u001b[0m \u001b[32m------------------------------\u001b[2m\u001b[0m\u001b[0m 32.85 MiB/32.94 MiB\n",
            "\u001b[2mpyarrow   \u001b[0m \u001b[32m-----------------------------\u001b[2m-\u001b[0m\u001b[0m 35.27 MiB/36.64 MiB\n",
            "\u001b[2mnvidia-curand-cu12\u001b[0m \u001b[32m----------------------------\u001b[2m--\u001b[0m\u001b[0m 48.68 MiB/53.85 MiB\n",
            "\u001b[2mnvidia-cufft-cu12\u001b[0m \u001b[32m-------------\u001b[2m-----------------\u001b[0m\u001b[0m 48.55 MiB/116.00 MiB\n",
            "\u001b[2mnvidia-cusolver-cu12\u001b[0m \u001b[32m-------------\u001b[2m-----------------\u001b[0m\u001b[0m 48.64 MiB/118.41 MiB\n",
            "\u001b[2mnvidia-nccl-cu12\u001b[0m \u001b[32m---------\u001b[2m---------------------\u001b[0m\u001b[0m 48.16 MiB/168.08 MiB\n",
            "\u001b[2mnvidia-cusparse-cu12\u001b[0m \u001b[32m--------\u001b[2m----------------------\u001b[0m\u001b[0m 49.06 MiB/186.88 MiB\n",
            "\u001b[2mtriton    \u001b[0m \u001b[32m--------\u001b[2m----------------------\u001b[0m\u001b[0m 48.86 MiB/199.65 MiB\n",
            "\u001b[2mnvidia-cublas-cu12\u001b[0m \u001b[32m----\u001b[2m--------------------------\u001b[0m\u001b[0m 48.47 MiB/391.57 MiB\n",
            "\u001b[2mnvidia-cudnn-cu12\u001b[0m \u001b[32m---\u001b[2m---------------------------\u001b[0m\u001b[0m 47.59 MiB/633.96 MiB\n",
            "\u001b[2K\u001b[12A\u001b[37m⠙\u001b[0m \u001b[2mPreparing packages...\u001b[0m (120/132)\n",
            "\u001b[2mnumpy     \u001b[0m \u001b[32m------------------------------\u001b[2m\u001b[0m\u001b[0m 16.47 MiB/16.51 MiB\n",
            "\u001b[2mscipy     \u001b[0m \u001b[32m------------------------------\u001b[2m\u001b[0m\u001b[0m 32.86 MiB/32.94 MiB\n",
            "\u001b[2mpyarrow   \u001b[0m \u001b[32m-----------------------------\u001b[2m-\u001b[0m\u001b[0m 35.28 MiB/36.64 MiB\n",
            "\u001b[2mnvidia-curand-cu12\u001b[0m \u001b[32m----------------------------\u001b[2m--\u001b[0m\u001b[0m 49.13 MiB/53.85 MiB\n",
            "\u001b[2mnvidia-cufft-cu12\u001b[0m \u001b[32m-------------\u001b[2m-----------------\u001b[0m\u001b[0m 48.76 MiB/116.00 MiB\n",
            "\u001b[2mnvidia-cusolver-cu12\u001b[0m \u001b[32m-------------\u001b[2m-----------------\u001b[0m\u001b[0m 49.05 MiB/118.41 MiB\n",
            "\u001b[2mnvidia-nccl-cu12\u001b[0m \u001b[32m---------\u001b[2m---------------------\u001b[0m\u001b[0m 48.38 MiB/168.08 MiB\n",
            "\u001b[2mnvidia-cusparse-cu12\u001b[0m \u001b[32m--------\u001b[2m----------------------\u001b[0m\u001b[0m 49.44 MiB/186.88 MiB\n",
            "\u001b[2mtriton    \u001b[0m \u001b[32m--------\u001b[2m----------------------\u001b[0m\u001b[0m 49.23 MiB/199.65 MiB\n",
            "\u001b[2mnvidia-cublas-cu12\u001b[0m \u001b[32m----\u001b[2m--------------------------\u001b[0m\u001b[0m 48.93 MiB/391.57 MiB\n",
            "\u001b[2mnvidia-cudnn-cu12\u001b[0m \u001b[32m---\u001b[2m---------------------------\u001b[0m\u001b[0m 47.90 MiB/633.96 MiB\n",
            "\u001b[2K\u001b[12A\u001b[37m⠹\u001b[0m \u001b[2mPreparing packages...\u001b[0m (120/132)\n",
            "\u001b[2mnumpy     \u001b[0m \u001b[32m------------------------------\u001b[2m\u001b[0m\u001b[0m 16.49 MiB/16.51 MiB\n",
            "\u001b[2mscipy     \u001b[0m \u001b[32m------------------------------\u001b[2m\u001b[0m\u001b[0m 32.86 MiB/32.94 MiB\n",
            "\u001b[2mpyarrow   \u001b[0m \u001b[32m-----------------------------\u001b[2m-\u001b[0m\u001b[0m 35.28 MiB/36.64 MiB\n",
            "\u001b[2mnvidia-curand-cu12\u001b[0m \u001b[32m----------------------------\u001b[2m--\u001b[0m\u001b[0m 49.34 MiB/53.85 MiB\n",
            "\u001b[2mnvidia-cufft-cu12\u001b[0m \u001b[32m-------------\u001b[2m-----------------\u001b[0m\u001b[0m 49.32 MiB/116.00 MiB\n",
            "\u001b[2mnvidia-cusolver-cu12\u001b[0m \u001b[32m-------------\u001b[2m-----------------\u001b[0m\u001b[0m 49.65 MiB/118.41 MiB\n",
            "\u001b[2mnvidia-nccl-cu12\u001b[0m \u001b[32m---------\u001b[2m---------------------\u001b[0m\u001b[0m 48.70 MiB/168.08 MiB\n",
            "\u001b[2mnvidia-cusparse-cu12\u001b[0m \u001b[32m--------\u001b[2m----------------------\u001b[0m\u001b[0m 49.64 MiB/186.88 MiB\n",
            "\u001b[2mtriton    \u001b[0m \u001b[32m--------\u001b[2m----------------------\u001b[0m\u001b[0m 49.46 MiB/199.65 MiB\n",
            "\u001b[2mnvidia-cublas-cu12\u001b[0m \u001b[32m----\u001b[2m--------------------------\u001b[0m\u001b[0m 49.32 MiB/391.57 MiB\n",
            "\u001b[2mnvidia-cudnn-cu12\u001b[0m \u001b[32m---\u001b[2m---------------------------\u001b[0m\u001b[0m 48.18 MiB/633.96 MiB\n",
            "\u001b[2K\u001b[12A\u001b[37m⠹\u001b[0m \u001b[2mPreparing packages...\u001b[0m (120/132)\n",
            "\u001b[2mnumpy     \u001b[0m \u001b[32m------------------------------\u001b[2m\u001b[0m\u001b[0m 16.49 MiB/16.51 MiB\n",
            "\u001b[2mscipy     \u001b[0m \u001b[32m------------------------------\u001b[2m\u001b[0m\u001b[0m 32.86 MiB/32.94 MiB\n",
            "\u001b[2mpyarrow   \u001b[0m \u001b[32m-----------------------------\u001b[2m-\u001b[0m\u001b[0m 35.28 MiB/36.64 MiB\n",
            "\u001b[2mnvidia-curand-cu12\u001b[0m \u001b[32m----------------------------\u001b[2m--\u001b[0m\u001b[0m 49.70 MiB/53.85 MiB\n",
            "\u001b[2mnvidia-cufft-cu12\u001b[0m \u001b[32m-------------\u001b[2m-----------------\u001b[0m\u001b[0m 49.69 MiB/116.00 MiB\n",
            "\u001b[2mnvidia-cusolver-cu12\u001b[0m \u001b[32m-------------\u001b[2m-----------------\u001b[0m\u001b[0m 49.95 MiB/118.41 MiB\n",
            "\u001b[2mnvidia-nccl-cu12\u001b[0m \u001b[32m---------\u001b[2m---------------------\u001b[0m\u001b[0m 49.15 MiB/168.08 MiB\n",
            "\u001b[2mnvidia-cusparse-cu12\u001b[0m \u001b[32m---------\u001b[2m---------------------\u001b[0m\u001b[0m 50.20 MiB/186.88 MiB\n",
            "\u001b[2mtriton    \u001b[0m \u001b[32m--------\u001b[2m----------------------\u001b[0m\u001b[0m 49.84 MiB/199.65 MiB\n",
            "\u001b[2mnvidia-cublas-cu12\u001b[0m \u001b[32m----\u001b[2m--------------------------\u001b[0m\u001b[0m 49.54 MiB/391.57 MiB\n",
            "\u001b[2mnvidia-cudnn-cu12\u001b[0m \u001b[32m---\u001b[2m---------------------------\u001b[0m\u001b[0m 48.52 MiB/633.96 MiB\n",
            "\u001b[2K\u001b[12A\u001b[37m⠹\u001b[0m \u001b[2mPreparing packages...\u001b[0m (120/132)\n",
            "\u001b[2mnumpy     \u001b[0m \u001b[32m------------------------------\u001b[2m\u001b[0m\u001b[0m 16.49 MiB/16.51 MiB\n",
            "\u001b[2mscipy     \u001b[0m \u001b[32m------------------------------\u001b[2m\u001b[0m\u001b[0m 32.86 MiB/32.94 MiB\n",
            "\u001b[2mpyarrow   \u001b[0m \u001b[32m-----------------------------\u001b[2m-\u001b[0m\u001b[0m 35.28 MiB/36.64 MiB\n",
            "\u001b[2mnvidia-curand-cu12\u001b[0m \u001b[32m----------------------------\u001b[2m--\u001b[0m\u001b[0m 50.13 MiB/53.85 MiB\n",
            "\u001b[2mnvidia-cufft-cu12\u001b[0m \u001b[32m-------------\u001b[2m-----------------\u001b[0m\u001b[0m 49.93 MiB/116.00 MiB\n",
            "\u001b[2mnvidia-cusolver-cu12\u001b[0m \u001b[32m-------------\u001b[2m-----------------\u001b[0m\u001b[0m 50.19 MiB/118.41 MiB\n",
            "\u001b[2mnvidia-nccl-cu12\u001b[0m \u001b[32m---------\u001b[2m---------------------\u001b[0m\u001b[0m 49.53 MiB/168.08 MiB\n",
            "\u001b[2mnvidia-cusparse-cu12\u001b[0m \u001b[32m---------\u001b[2m---------------------\u001b[0m\u001b[0m 50.42 MiB/186.88 MiB\n",
            "\u001b[2mtriton    \u001b[0m \u001b[32m--------\u001b[2m----------------------\u001b[0m\u001b[0m 50.20 MiB/199.65 MiB\n",
            "\u001b[2mnvidia-cublas-cu12\u001b[0m \u001b[32m----\u001b[2m--------------------------\u001b[0m\u001b[0m 50.10 MiB/391.57 MiB\n",
            "\u001b[2mnvidia-cudnn-cu12\u001b[0m \u001b[32m---\u001b[2m---------------------------\u001b[0m\u001b[0m 48.94 MiB/633.96 MiB\n",
            "\u001b[2K\u001b[12A\u001b[37m⠹\u001b[0m \u001b[2mPreparing packages...\u001b[0m (120/132)\n",
            "\u001b[2mnumpy     \u001b[0m \u001b[32m------------------------------\u001b[2m\u001b[0m\u001b[0m 16.49 MiB/16.51 MiB\n",
            "\u001b[2mscipy     \u001b[0m \u001b[32m------------------------------\u001b[2m\u001b[0m\u001b[0m 32.86 MiB/32.94 MiB\n",
            "\u001b[2mpyarrow   \u001b[0m \u001b[32m-----------------------------\u001b[2m-\u001b[0m\u001b[0m 35.28 MiB/36.64 MiB\n",
            "\u001b[2mnvidia-curand-cu12\u001b[0m \u001b[32m-----------------------------\u001b[2m-\u001b[0m\u001b[0m 50.50 MiB/53.85 MiB\n",
            "\u001b[2mnvidia-cufft-cu12\u001b[0m \u001b[32m--------------\u001b[2m----------------\u001b[0m\u001b[0m 50.29 MiB/116.00 MiB\n",
            "\u001b[2mnvidia-cusolver-cu12\u001b[0m \u001b[32m-------------\u001b[2m-----------------\u001b[0m\u001b[0m 50.57 MiB/118.41 MiB\n",
            "\u001b[2mnvidia-nccl-cu12\u001b[0m \u001b[32m---------\u001b[2m---------------------\u001b[0m\u001b[0m 49.96 MiB/168.08 MiB\n",
            "\u001b[2mnvidia-cusparse-cu12\u001b[0m \u001b[32m---------\u001b[2m---------------------\u001b[0m\u001b[0m 50.83 MiB/186.88 MiB\n",
            "\u001b[2mtriton    \u001b[0m \u001b[32m--------\u001b[2m----------------------\u001b[0m\u001b[0m 50.62 MiB/199.65 MiB\n",
            "\u001b[2mnvidia-cublas-cu12\u001b[0m \u001b[32m----\u001b[2m--------------------------\u001b[0m\u001b[0m 50.34 MiB/391.57 MiB\n",
            "\u001b[2mnvidia-cudnn-cu12\u001b[0m \u001b[32m---\u001b[2m---------------------------\u001b[0m\u001b[0m 49.26 MiB/633.96 MiB\n",
            "\u001b[2K\u001b[12A\u001b[37m⠸\u001b[0m \u001b[2mPreparing packages...\u001b[0m (120/132)\n",
            "\u001b[2mnumpy     \u001b[0m \u001b[32m------------------------------\u001b[2m\u001b[0m\u001b[0m 16.49 MiB/16.51 MiB\n",
            "\u001b[2mscipy     \u001b[0m \u001b[32m------------------------------\u001b[2m\u001b[0m\u001b[0m 32.86 MiB/32.94 MiB\n",
            "\u001b[2mpyarrow   \u001b[0m \u001b[32m-----------------------------\u001b[2m-\u001b[0m\u001b[0m 35.30 MiB/36.64 MiB\n",
            "\u001b[2mnvidia-curand-cu12\u001b[0m \u001b[32m-----------------------------\u001b[2m-\u001b[0m\u001b[0m 50.86 MiB/53.85 MiB\n",
            "\u001b[2mnvidia-cufft-cu12\u001b[0m \u001b[32m--------------\u001b[2m----------------\u001b[0m\u001b[0m 50.79 MiB/116.00 MiB\n",
            "\u001b[2mnvidia-cusolver-cu12\u001b[0m \u001b[32m-------------\u001b[2m-----------------\u001b[0m\u001b[0m 50.94 MiB/118.41 MiB\n",
            "\u001b[2mnvidia-nccl-cu12\u001b[0m \u001b[32m---------\u001b[2m---------------------\u001b[0m\u001b[0m 50.34 MiB/168.08 MiB\n",
            "\u001b[2mnvidia-cusparse-cu12\u001b[0m \u001b[32m---------\u001b[2m---------------------\u001b[0m\u001b[0m 51.20 MiB/186.88 MiB\n",
            "\u001b[2mtriton    \u001b[0m \u001b[32m--------\u001b[2m----------------------\u001b[0m\u001b[0m 50.98 MiB/199.65 MiB\n",
            "\u001b[2mnvidia-cublas-cu12\u001b[0m \u001b[32m----\u001b[2m--------------------------\u001b[0m\u001b[0m 50.56 MiB/391.57 MiB\n",
            "\u001b[2mnvidia-cudnn-cu12\u001b[0m \u001b[32m---\u001b[2m---------------------------\u001b[0m\u001b[0m 49.51 MiB/633.96 MiB\n",
            "\u001b[2K\u001b[12A\u001b[37m⠸\u001b[0m \u001b[2mPreparing packages...\u001b[0m (120/132)\n",
            "\u001b[2mnumpy     \u001b[0m \u001b[32m------------------------------\u001b[2m\u001b[0m\u001b[0m 16.49 MiB/16.51 MiB\n",
            "\u001b[2mscipy     \u001b[0m \u001b[32m------------------------------\u001b[2m\u001b[0m\u001b[0m 32.86 MiB/32.94 MiB\n",
            "\u001b[2mpyarrow   \u001b[0m \u001b[32m-----------------------------\u001b[2m-\u001b[0m\u001b[0m 35.30 MiB/36.64 MiB\n",
            "\u001b[2mnvidia-curand-cu12\u001b[0m \u001b[32m-----------------------------\u001b[2m-\u001b[0m\u001b[0m 51.11 MiB/53.85 MiB\n",
            "\u001b[2mnvidia-cufft-cu12\u001b[0m \u001b[32m--------------\u001b[2m----------------\u001b[0m\u001b[0m 51.17 MiB/116.00 MiB\n",
            "\u001b[2mnvidia-cusolver-cu12\u001b[0m \u001b[32m-------------\u001b[2m-----------------\u001b[0m\u001b[0m 51.23 MiB/118.41 MiB\n",
            "\u001b[2mnvidia-nccl-cu12\u001b[0m \u001b[32m----------\u001b[2m--------------------\u001b[0m\u001b[0m 50.76 MiB/168.08 MiB\n",
            "\u001b[2mnvidia-cusparse-cu12\u001b[0m \u001b[32m---------\u001b[2m---------------------\u001b[0m\u001b[0m 51.42 MiB/186.88 MiB\n",
            "\u001b[2mtriton    \u001b[0m \u001b[32m--------\u001b[2m----------------------\u001b[0m\u001b[0m 51.39 MiB/199.65 MiB\n",
            "\u001b[2mnvidia-cublas-cu12\u001b[0m \u001b[32m----\u001b[2m--------------------------\u001b[0m\u001b[0m 51.15 MiB/391.57 MiB\n",
            "\u001b[2mnvidia-cudnn-cu12\u001b[0m \u001b[32m---\u001b[2m---------------------------\u001b[0m\u001b[0m 49.86 MiB/633.96 MiB\n",
            "\u001b[2K\u001b[12A\u001b[37m⠸\u001b[0m \u001b[2mPreparing packages...\u001b[0m (120/132)\n",
            "\u001b[2mnumpy     \u001b[0m \u001b[32m------------------------------\u001b[2m\u001b[0m\u001b[0m 16.49 MiB/16.51 MiB\n",
            "\u001b[2mscipy     \u001b[0m \u001b[32m------------------------------\u001b[2m\u001b[0m\u001b[0m 32.86 MiB/32.94 MiB\n",
            "\u001b[2mpyarrow   \u001b[0m \u001b[32m-----------------------------\u001b[2m-\u001b[0m\u001b[0m 35.31 MiB/36.64 MiB\n",
            "\u001b[2mnvidia-curand-cu12\u001b[0m \u001b[32m-----------------------------\u001b[2m-\u001b[0m\u001b[0m 51.66 MiB/53.85 MiB\n",
            "\u001b[2mnvidia-cufft-cu12\u001b[0m \u001b[32m--------------\u001b[2m----------------\u001b[0m\u001b[0m 51.37 MiB/116.00 MiB\n",
            "\u001b[2mnvidia-cusolver-cu12\u001b[0m \u001b[32m--------------\u001b[2m----------------\u001b[0m\u001b[0m 51.74 MiB/118.41 MiB\n",
            "\u001b[2mnvidia-nccl-cu12\u001b[0m \u001b[32m----------\u001b[2m--------------------\u001b[0m\u001b[0m 50.95 MiB/168.08 MiB\n",
            "\u001b[2mnvidia-cusparse-cu12\u001b[0m \u001b[32m---------\u001b[2m---------------------\u001b[0m\u001b[0m 51.80 MiB/186.88 MiB\n",
            "\u001b[2mtriton    \u001b[0m \u001b[32m--------\u001b[2m----------------------\u001b[0m\u001b[0m 51.73 MiB/199.65 MiB\n",
            "\u001b[2mnvidia-cublas-cu12\u001b[0m \u001b[32m----\u001b[2m--------------------------\u001b[0m\u001b[0m 51.51 MiB/391.57 MiB\n",
            "\u001b[2mnvidia-cudnn-cu12\u001b[0m \u001b[32m---\u001b[2m---------------------------\u001b[0m\u001b[0m 50.22 MiB/633.96 MiB\n",
            "\u001b[2K\u001b[12A\u001b[37m⠸\u001b[0m \u001b[2mPreparing packages...\u001b[0m (120/132)\n",
            "\u001b[2mscipy     \u001b[0m \u001b[32m------------------------------\u001b[2m\u001b[0m\u001b[0m 32.86 MiB/32.94 MiB\n",
            "\u001b[2mpyarrow   \u001b[0m \u001b[32m-----------------------------\u001b[2m-\u001b[0m\u001b[0m 35.31 MiB/36.64 MiB\n",
            "\u001b[2mnvidia-curand-cu12\u001b[0m \u001b[32m-----------------------------\u001b[2m-\u001b[0m\u001b[0m 51.66 MiB/53.85 MiB\n",
            "\u001b[2mnvidia-cufft-cu12\u001b[0m \u001b[32m--------------\u001b[2m----------------\u001b[0m\u001b[0m 51.59 MiB/116.00 MiB\n",
            "\u001b[2mnvidia-cusolver-cu12\u001b[0m \u001b[32m--------------\u001b[2m----------------\u001b[0m\u001b[0m 51.74 MiB/118.41 MiB\n",
            "\u001b[2mnvidia-nccl-cu12\u001b[0m \u001b[32m----------\u001b[2m--------------------\u001b[0m\u001b[0m 51.12 MiB/168.08 MiB\n",
            "\u001b[2mnvidia-cusparse-cu12\u001b[0m \u001b[32m---------\u001b[2m---------------------\u001b[0m\u001b[0m 52.03 MiB/186.88 MiB\n",
            "\u001b[2mtriton    \u001b[0m \u001b[32m--------\u001b[2m----------------------\u001b[0m\u001b[0m 51.77 MiB/199.65 MiB\n",
            "\u001b[2mnvidia-cublas-cu12\u001b[0m \u001b[32m----\u001b[2m--------------------------\u001b[0m\u001b[0m 51.51 MiB/391.57 MiB\n",
            "\u001b[2mnvidia-cudnn-cu12\u001b[0m \u001b[32m---\u001b[2m---------------------------\u001b[0m\u001b[0m 50.39 MiB/633.96 MiB\n",
            "\u001b[2K\u001b[11A\u001b[37m⠸\u001b[0m \u001b[2mPreparing packages...\u001b[0m (120/132)\n",
            "\u001b[2mscipy     \u001b[0m \u001b[32m------------------------------\u001b[2m\u001b[0m\u001b[0m 32.86 MiB/32.94 MiB\n",
            "\u001b[2mpyarrow   \u001b[0m \u001b[32m-----------------------------\u001b[2m-\u001b[0m\u001b[0m 35.31 MiB/36.64 MiB\n",
            "\u001b[2mnvidia-curand-cu12\u001b[0m \u001b[32m------------------------------\u001b[2m\u001b[0m\u001b[0m 52.07 MiB/53.85 MiB\n",
            "\u001b[2mnvidia-cufft-cu12\u001b[0m \u001b[32m--------------\u001b[2m----------------\u001b[0m\u001b[0m 51.76 MiB/116.00 MiB\n",
            "\u001b[2mnvidia-cusolver-cu12\u001b[0m \u001b[32m--------------\u001b[2m----------------\u001b[0m\u001b[0m 51.93 MiB/118.41 MiB\n",
            "\u001b[2mnvidia-nccl-cu12\u001b[0m \u001b[32m----------\u001b[2m--------------------\u001b[0m\u001b[0m 51.37 MiB/168.08 MiB\n",
            "\u001b[2mnvidia-cusparse-cu12\u001b[0m \u001b[32m---------\u001b[2m---------------------\u001b[0m\u001b[0m 52.20 MiB/186.88 MiB\n",
            "\u001b[2mtriton    \u001b[0m \u001b[32m--------\u001b[2m----------------------\u001b[0m\u001b[0m 52.17 MiB/199.65 MiB\n",
            "\u001b[2mnvidia-cublas-cu12\u001b[0m \u001b[32m----\u001b[2m--------------------------\u001b[0m\u001b[0m 51.75 MiB/391.57 MiB\n",
            "\u001b[2mnvidia-cudnn-cu12\u001b[0m \u001b[32m---\u001b[2m---------------------------\u001b[0m\u001b[0m 50.58 MiB/633.96 MiB\n",
            "\u001b[2K\u001b[11A\u001b[37m⠼\u001b[0m \u001b[2mPreparing packages...\u001b[0m (121/132)\n",
            "\u001b[2mscipy     \u001b[0m \u001b[32m------------------------------\u001b[2m\u001b[0m\u001b[0m 32.88 MiB/32.94 MiB\n",
            "\u001b[2mpyarrow   \u001b[0m \u001b[32m-----------------------------\u001b[2m-\u001b[0m\u001b[0m 35.31 MiB/36.64 MiB\n",
            "\u001b[2mnvidia-curand-cu12\u001b[0m \u001b[32m------------------------------\u001b[2m\u001b[0m\u001b[0m 52.28 MiB/53.85 MiB\n",
            "\u001b[2mnvidia-cufft-cu12\u001b[0m \u001b[32m--------------\u001b[2m----------------\u001b[0m\u001b[0m 52.18 MiB/116.00 MiB\n",
            "\u001b[2mnvidia-cusolver-cu12\u001b[0m \u001b[32m--------------\u001b[2m----------------\u001b[0m\u001b[0m 52.35 MiB/118.41 MiB\n",
            "\u001b[2mnvidia-nccl-cu12\u001b[0m \u001b[32m----------\u001b[2m--------------------\u001b[0m\u001b[0m 51.78 MiB/168.08 MiB\n",
            "\u001b[2mnvidia-cusparse-cu12\u001b[0m \u001b[32m---------\u001b[2m---------------------\u001b[0m\u001b[0m 52.56 MiB/186.88 MiB\n",
            "\u001b[2mtriton    \u001b[0m \u001b[32m--------\u001b[2m----------------------\u001b[0m\u001b[0m 52.35 MiB/199.65 MiB\n",
            "\u001b[2mnvidia-cublas-cu12\u001b[0m \u001b[32m----\u001b[2m--------------------------\u001b[0m\u001b[0m 52.15 MiB/391.57 MiB\n",
            "\u001b[2mnvidia-cudnn-cu12\u001b[0m \u001b[32m---\u001b[2m---------------------------\u001b[0m\u001b[0m 50.98 MiB/633.96 MiB\n",
            "\u001b[2K\u001b[11A\u001b[37m⠼\u001b[0m \u001b[2mPreparing packages...\u001b[0m (121/132)\n",
            "\u001b[2mscipy     \u001b[0m \u001b[32m------------------------------\u001b[2m\u001b[0m\u001b[0m 32.88 MiB/32.94 MiB\n",
            "\u001b[2mpyarrow   \u001b[0m \u001b[32m-----------------------------\u001b[2m-\u001b[0m\u001b[0m 35.31 MiB/36.64 MiB\n",
            "\u001b[2mnvidia-curand-cu12\u001b[0m \u001b[32m------------------------------\u001b[2m\u001b[0m\u001b[0m 52.69 MiB/53.85 MiB\n",
            "\u001b[2mnvidia-cufft-cu12\u001b[0m \u001b[32m--------------\u001b[2m----------------\u001b[0m\u001b[0m 52.38 MiB/116.00 MiB\n",
            "\u001b[2mnvidia-cusolver-cu12\u001b[0m \u001b[32m--------------\u001b[2m----------------\u001b[0m\u001b[0m 52.71 MiB/118.41 MiB\n",
            "\u001b[2mnvidia-nccl-cu12\u001b[0m \u001b[32m----------\u001b[2m--------------------\u001b[0m\u001b[0m 52.17 MiB/168.08 MiB\n",
            "\u001b[2mnvidia-cusparse-cu12\u001b[0m \u001b[32m---------\u001b[2m---------------------\u001b[0m\u001b[0m 52.97 MiB/186.88 MiB\n",
            "\u001b[2mtriton    \u001b[0m \u001b[32m--------\u001b[2m----------------------\u001b[0m\u001b[0m 52.56 MiB/199.65 MiB\n",
            "\u001b[2mnvidia-cublas-cu12\u001b[0m \u001b[32m-----\u001b[2m-------------------------\u001b[0m\u001b[0m 52.57 MiB/391.57 MiB\n",
            "\u001b[2mnvidia-cudnn-cu12\u001b[0m \u001b[32m---\u001b[2m---------------------------\u001b[0m\u001b[0m 51.37 MiB/633.96 MiB\n",
            "\u001b[2K\u001b[11A\u001b[37m⠼\u001b[0m \u001b[2mPreparing packages...\u001b[0m (121/132)\n",
            "\u001b[2mscipy     \u001b[0m \u001b[32m------------------------------\u001b[2m\u001b[0m\u001b[0m 32.88 MiB/32.94 MiB\n",
            "\u001b[2mpyarrow   \u001b[0m \u001b[32m-----------------------------\u001b[2m-\u001b[0m\u001b[0m 35.31 MiB/36.64 MiB\n",
            "\u001b[2mnvidia-curand-cu12\u001b[0m \u001b[32m------------------------------\u001b[2m\u001b[0m\u001b[0m 52.88 MiB/53.85 MiB\n",
            "\u001b[2mnvidia-cufft-cu12\u001b[0m \u001b[32m--------------\u001b[2m----------------\u001b[0m\u001b[0m 52.96 MiB/116.00 MiB\n",
            "\u001b[2mnvidia-cusolver-cu12\u001b[0m \u001b[32m--------------\u001b[2m----------------\u001b[0m\u001b[0m 53.11 MiB/118.41 MiB\n",
            "\u001b[2mnvidia-nccl-cu12\u001b[0m \u001b[32m----------\u001b[2m--------------------\u001b[0m\u001b[0m 52.45 MiB/168.08 MiB\n",
            "\u001b[2mnvidia-cusparse-cu12\u001b[0m \u001b[32m---------\u001b[2m---------------------\u001b[0m\u001b[0m 53.37 MiB/186.88 MiB\n",
            "\u001b[2mtriton    \u001b[0m \u001b[32m--------\u001b[2m----------------------\u001b[0m\u001b[0m 52.98 MiB/199.65 MiB\n",
            "\u001b[2mnvidia-cublas-cu12\u001b[0m \u001b[32m-----\u001b[2m-------------------------\u001b[0m\u001b[0m 53.00 MiB/391.57 MiB\n",
            "\u001b[2mnvidia-cudnn-cu12\u001b[0m \u001b[32m---\u001b[2m---------------------------\u001b[0m\u001b[0m 51.58 MiB/633.96 MiB\n",
            "\u001b[2K\u001b[11A\u001b[37m⠼\u001b[0m \u001b[2mPreparing packages...\u001b[0m (121/132)\n",
            "\u001b[2mscipy     \u001b[0m \u001b[32m------------------------------\u001b[2m\u001b[0m\u001b[0m 32.88 MiB/32.94 MiB\n",
            "\u001b[2mpyarrow   \u001b[0m \u001b[32m-----------------------------\u001b[2m-\u001b[0m\u001b[0m 35.33 MiB/36.64 MiB\n",
            "\u001b[2mnvidia-curand-cu12\u001b[0m \u001b[32m------------------------------\u001b[2m\u001b[0m\u001b[0m 53.27 MiB/53.85 MiB\n",
            "\u001b[2mnvidia-cufft-cu12\u001b[0m \u001b[32m--------------\u001b[2m----------------\u001b[0m\u001b[0m 53.18 MiB/116.00 MiB\n",
            "\u001b[2mnvidia-cusolver-cu12\u001b[0m \u001b[32m--------------\u001b[2m----------------\u001b[0m\u001b[0m 53.28 MiB/118.41 MiB\n",
            "\u001b[2mnvidia-nccl-cu12\u001b[0m \u001b[32m----------\u001b[2m--------------------\u001b[0m\u001b[0m 52.74 MiB/168.08 MiB\n",
            "\u001b[2mnvidia-cusparse-cu12\u001b[0m \u001b[32m---------\u001b[2m---------------------\u001b[0m\u001b[0m 53.59 MiB/186.88 MiB\n",
            "\u001b[2mtriton    \u001b[0m \u001b[32m---------\u001b[2m---------------------\u001b[0m\u001b[0m 53.63 MiB/199.65 MiB\n",
            "\u001b[2mnvidia-cublas-cu12\u001b[0m \u001b[32m-----\u001b[2m-------------------------\u001b[0m\u001b[0m 53.17 MiB/391.57 MiB\n",
            "\u001b[2mnvidia-cudnn-cu12\u001b[0m \u001b[32m---\u001b[2m---------------------------\u001b[0m\u001b[0m 52.17 MiB/633.96 MiB\n",
            "\u001b[2K\u001b[11A\u001b[37m⠴\u001b[0m \u001b[2mPreparing packages...\u001b[0m (121/132)\n",
            "\u001b[2mscipy     \u001b[0m \u001b[32m------------------------------\u001b[2m\u001b[0m\u001b[0m 32.88 MiB/32.94 MiB\n",
            "\u001b[2mpyarrow   \u001b[0m \u001b[32m-----------------------------\u001b[2m-\u001b[0m\u001b[0m 35.33 MiB/36.64 MiB\n",
            "\u001b[2mnvidia-curand-cu12\u001b[0m \u001b[32m------------------------------\u001b[2m\u001b[0m\u001b[0m 53.70 MiB/53.85 MiB\n",
            "\u001b[2mnvidia-cufft-cu12\u001b[0m \u001b[32m--------------\u001b[2m----------------\u001b[0m\u001b[0m 53.62 MiB/116.00 MiB\n",
            "\u001b[2mnvidia-cusolver-cu12\u001b[0m \u001b[32m--------------\u001b[2m----------------\u001b[0m\u001b[0m 53.49 MiB/118.41 MiB\n",
            "\u001b[2mnvidia-nccl-cu12\u001b[0m \u001b[32m----------\u001b[2m--------------------\u001b[0m\u001b[0m 53.15 MiB/168.08 MiB\n",
            "\u001b[2mnvidia-cusparse-cu12\u001b[0m \u001b[32m---------\u001b[2m---------------------\u001b[0m\u001b[0m 54.02 MiB/186.88 MiB\n",
            "\u001b[2mtriton    \u001b[0m \u001b[32m---------\u001b[2m---------------------\u001b[0m\u001b[0m 53.63 MiB/199.65 MiB\n",
            "\u001b[2mnvidia-cublas-cu12\u001b[0m \u001b[32m-----\u001b[2m-------------------------\u001b[0m\u001b[0m 53.59 MiB/391.57 MiB\n",
            "\u001b[2mnvidia-cudnn-cu12\u001b[0m \u001b[32m---\u001b[2m---------------------------\u001b[0m\u001b[0m 52.25 MiB/633.96 MiB\n",
            "\u001b[2K\u001b[11A\u001b[37m⠴\u001b[0m \u001b[2mPreparing packages...\u001b[0m (121/132)\n",
            "\u001b[2mscipy     \u001b[0m \u001b[32m------------------------------\u001b[2m\u001b[0m\u001b[0m 32.88 MiB/32.94 MiB\n",
            "\u001b[2mpyarrow   \u001b[0m \u001b[32m-----------------------------\u001b[2m-\u001b[0m\u001b[0m 35.33 MiB/36.64 MiB\n",
            "\u001b[2mnvidia-curand-cu12\u001b[0m \u001b[32m------------------------------\u001b[2m\u001b[0m\u001b[0m 53.84 MiB/53.85 MiB\n",
            "\u001b[2mnvidia-cufft-cu12\u001b[0m \u001b[32m--------------\u001b[2m----------------\u001b[0m\u001b[0m 53.81 MiB/116.00 MiB\n",
            "\u001b[2mnvidia-cusolver-cu12\u001b[0m \u001b[32m--------------\u001b[2m----------------\u001b[0m\u001b[0m 53.91 MiB/118.41 MiB\n",
            "\u001b[2mnvidia-nccl-cu12\u001b[0m \u001b[32m----------\u001b[2m--------------------\u001b[0m\u001b[0m 53.37 MiB/168.08 MiB\n",
            "\u001b[2mnvidia-cusparse-cu12\u001b[0m \u001b[32m---------\u001b[2m---------------------\u001b[0m\u001b[0m 54.46 MiB/186.88 MiB\n",
            "\u001b[2mtriton    \u001b[0m \u001b[32m---------\u001b[2m---------------------\u001b[0m\u001b[0m 54.00 MiB/199.65 MiB\n",
            "\u001b[2mnvidia-cublas-cu12\u001b[0m \u001b[32m-----\u001b[2m-------------------------\u001b[0m\u001b[0m 53.79 MiB/391.57 MiB\n",
            "\u001b[2mnvidia-cudnn-cu12\u001b[0m \u001b[32m---\u001b[2m---------------------------\u001b[0m\u001b[0m 52.75 MiB/633.96 MiB\n",
            "\u001b[2K\u001b[11A\u001b[37m⠴\u001b[0m \u001b[2mPreparing packages...\u001b[0m (121/132)\n",
            "\u001b[2mscipy     \u001b[0m \u001b[32m------------------------------\u001b[2m\u001b[0m\u001b[0m 32.88 MiB/32.94 MiB\n",
            "\u001b[2mpyarrow   \u001b[0m \u001b[32m-----------------------------\u001b[2m-\u001b[0m\u001b[0m 35.33 MiB/36.64 MiB\n",
            "\u001b[2mnvidia-curand-cu12\u001b[0m \u001b[32m------------------------------\u001b[2m\u001b[0m\u001b[0m 53.85 MiB/53.85 MiB\n",
            "\u001b[2mnvidia-cufft-cu12\u001b[0m \u001b[32m---------------\u001b[2m---------------\u001b[0m\u001b[0m 54.22 MiB/116.00 MiB\n",
            "\u001b[2mnvidia-cusolver-cu12\u001b[0m \u001b[32m--------------\u001b[2m----------------\u001b[0m\u001b[0m 54.35 MiB/118.41 MiB\n",
            "\u001b[2mnvidia-nccl-cu12\u001b[0m \u001b[32m----------\u001b[2m--------------------\u001b[0m\u001b[0m 53.84 MiB/168.08 MiB\n",
            "\u001b[2mnvidia-cusparse-cu12\u001b[0m \u001b[32m---------\u001b[2m---------------------\u001b[0m\u001b[0m 54.68 MiB/186.88 MiB\n",
            "\u001b[2mtriton    \u001b[0m \u001b[32m---------\u001b[2m---------------------\u001b[0m\u001b[0m 54.48 MiB/199.65 MiB\n",
            "\u001b[2mnvidia-cublas-cu12\u001b[0m \u001b[32m-----\u001b[2m-------------------------\u001b[0m\u001b[0m 54.22 MiB/391.57 MiB\n",
            "\u001b[2mnvidia-cudnn-cu12\u001b[0m \u001b[32m---\u001b[2m---------------------------\u001b[0m\u001b[0m 53.00 MiB/633.96 MiB\n",
            "\u001b[2K\u001b[11A\u001b[37m⠴\u001b[0m \u001b[2mPreparing packages...\u001b[0m (121/132)\n",
            "\u001b[2mscipy     \u001b[0m \u001b[32m------------------------------\u001b[2m\u001b[0m\u001b[0m 32.88 MiB/32.94 MiB\n",
            "\u001b[2mpyarrow   \u001b[0m \u001b[32m-----------------------------\u001b[2m-\u001b[0m\u001b[0m 35.33 MiB/36.64 MiB\n",
            "\u001b[2mnvidia-curand-cu12\u001b[0m \u001b[32m------------------------------\u001b[2m\u001b[0m\u001b[0m 53.85 MiB/53.85 MiB\n",
            "\u001b[2mnvidia-cufft-cu12\u001b[0m \u001b[32m---------------\u001b[2m---------------\u001b[0m\u001b[0m 54.67 MiB/116.00 MiB\n",
            "\u001b[2mnvidia-cusolver-cu12\u001b[0m \u001b[32m--------------\u001b[2m----------------\u001b[0m\u001b[0m 54.84 MiB/118.41 MiB\n",
            "\u001b[2mnvidia-nccl-cu12\u001b[0m \u001b[32m----------\u001b[2m--------------------\u001b[0m\u001b[0m 54.00 MiB/168.08 MiB\n",
            "\u001b[2mnvidia-cusparse-cu12\u001b[0m \u001b[32m---------\u001b[2m---------------------\u001b[0m\u001b[0m 55.16 MiB/186.88 MiB\n",
            "\u001b[2mtriton    \u001b[0m \u001b[32m---------\u001b[2m---------------------\u001b[0m\u001b[0m 54.98 MiB/199.65 MiB\n",
            "\u001b[2mnvidia-cublas-cu12\u001b[0m \u001b[32m-----\u001b[2m-------------------------\u001b[0m\u001b[0m 54.68 MiB/391.57 MiB\n",
            "\u001b[2mnvidia-cudnn-cu12\u001b[0m \u001b[32m---\u001b[2m---------------------------\u001b[0m\u001b[0m 53.20 MiB/633.96 MiB\n",
            "\u001b[2K\u001b[11A\u001b[37m⠦\u001b[0m \u001b[2mPreparing packages...\u001b[0m (121/132)\n",
            "\u001b[2mscipy     \u001b[0m \u001b[32m------------------------------\u001b[2m\u001b[0m\u001b[0m 32.88 MiB/32.94 MiB\n",
            "\u001b[2mpyarrow   \u001b[0m \u001b[32m-----------------------------\u001b[2m-\u001b[0m\u001b[0m 35.33 MiB/36.64 MiB\n",
            "\u001b[2mnvidia-cufft-cu12\u001b[0m \u001b[32m---------------\u001b[2m---------------\u001b[0m\u001b[0m 54.93 MiB/116.00 MiB\n",
            "\u001b[2mnvidia-cusolver-cu12\u001b[0m \u001b[32m--------------\u001b[2m----------------\u001b[0m\u001b[0m 55.05 MiB/118.41 MiB\n",
            "\u001b[2mnvidia-nccl-cu12\u001b[0m \u001b[32m----------\u001b[2m--------------------\u001b[0m\u001b[0m 54.45 MiB/168.08 MiB\n",
            "\u001b[2mnvidia-cusparse-cu12\u001b[0m \u001b[32m---------\u001b[2m---------------------\u001b[0m\u001b[0m 55.39 MiB/186.88 MiB\n",
            "\u001b[2mtriton    \u001b[0m \u001b[32m---------\u001b[2m---------------------\u001b[0m\u001b[0m 55.23 MiB/199.65 MiB\n",
            "\u001b[2mnvidia-cublas-cu12\u001b[0m \u001b[32m-----\u001b[2m-------------------------\u001b[0m\u001b[0m 54.93 MiB/391.57 MiB\n",
            "\u001b[2mnvidia-cudnn-cu12\u001b[0m \u001b[32m---\u001b[2m---------------------------\u001b[0m\u001b[0m 53.67 MiB/633.96 MiB\n",
            "\u001b[2K\u001b[10A\u001b[37m⠦\u001b[0m \u001b[2mPreparing packages...\u001b[0m (121/132)\n",
            "\u001b[2mscipy     \u001b[0m \u001b[32m------------------------------\u001b[2m\u001b[0m\u001b[0m 32.88 MiB/32.94 MiB\n",
            "\u001b[2mpyarrow   \u001b[0m \u001b[32m-----------------------------\u001b[2m-\u001b[0m\u001b[0m 35.33 MiB/36.64 MiB\n",
            "\u001b[2mnvidia-cufft-cu12\u001b[0m \u001b[32m---------------\u001b[2m---------------\u001b[0m\u001b[0m 55.03 MiB/116.00 MiB\n",
            "\u001b[2mnvidia-cusolver-cu12\u001b[0m \u001b[32m--------------\u001b[2m----------------\u001b[0m\u001b[0m 55.05 MiB/118.41 MiB\n",
            "\u001b[2mnvidia-nccl-cu12\u001b[0m \u001b[32m----------\u001b[2m--------------------\u001b[0m\u001b[0m 54.67 MiB/168.08 MiB\n",
            "\u001b[2mnvidia-cusparse-cu12\u001b[0m \u001b[32m---------\u001b[2m---------------------\u001b[0m\u001b[0m 55.60 MiB/186.88 MiB\n",
            "\u001b[2mtriton    \u001b[0m \u001b[32m---------\u001b[2m---------------------\u001b[0m\u001b[0m 55.23 MiB/199.65 MiB\n",
            "\u001b[2mnvidia-cublas-cu12\u001b[0m \u001b[32m-----\u001b[2m-------------------------\u001b[0m\u001b[0m 54.93 MiB/391.57 MiB\n",
            "\u001b[2mnvidia-cudnn-cu12\u001b[0m \u001b[32m---\u001b[2m---------------------------\u001b[0m\u001b[0m 53.67 MiB/633.96 MiB\n",
            "\u001b[2K\u001b[10A\u001b[37m⠦\u001b[0m \u001b[2mPreparing packages...\u001b[0m (121/132)\n",
            "\u001b[2mscipy     \u001b[0m \u001b[32m------------------------------\u001b[2m\u001b[0m\u001b[0m 32.89 MiB/32.94 MiB\n",
            "\u001b[2mpyarrow   \u001b[0m \u001b[32m-----------------------------\u001b[2m-\u001b[0m\u001b[0m 35.34 MiB/36.64 MiB\n",
            "\u001b[2mnvidia-cufft-cu12\u001b[0m \u001b[32m---------------\u001b[2m---------------\u001b[0m\u001b[0m 55.39 MiB/116.00 MiB\n",
            "\u001b[2mnvidia-cusolver-cu12\u001b[0m \u001b[32m---------------\u001b[2m---------------\u001b[0m\u001b[0m 55.51 MiB/118.41 MiB\n",
            "\u001b[2mnvidia-nccl-cu12\u001b[0m \u001b[32m----------\u001b[2m--------------------\u001b[0m\u001b[0m 54.91 MiB/168.08 MiB\n",
            "\u001b[2mnvidia-cusparse-cu12\u001b[0m \u001b[32m---------\u001b[2m---------------------\u001b[0m\u001b[0m 55.83 MiB/186.88 MiB\n",
            "\u001b[2mtriton    \u001b[0m \u001b[32m---------\u001b[2m---------------------\u001b[0m\u001b[0m 55.67 MiB/199.65 MiB\n",
            "\u001b[2mnvidia-cublas-cu12\u001b[0m \u001b[32m-----\u001b[2m-------------------------\u001b[0m\u001b[0m 55.40 MiB/391.57 MiB\n",
            "\u001b[2mnvidia-cudnn-cu12\u001b[0m \u001b[32m---\u001b[2m---------------------------\u001b[0m\u001b[0m 54.06 MiB/633.96 MiB\n",
            "\u001b[2K\u001b[10A\u001b[37m⠦\u001b[0m \u001b[2mPreparing packages...\u001b[0m (121/132)\n",
            "\u001b[2mscipy     \u001b[0m \u001b[32m------------------------------\u001b[2m\u001b[0m\u001b[0m 32.89 MiB/32.94 MiB\n",
            "\u001b[2mpyarrow   \u001b[0m \u001b[32m-----------------------------\u001b[2m-\u001b[0m\u001b[0m 35.34 MiB/36.64 MiB\n",
            "\u001b[2mnvidia-cufft-cu12\u001b[0m \u001b[32m---------------\u001b[2m---------------\u001b[0m\u001b[0m 55.64 MiB/116.00 MiB\n",
            "\u001b[2mnvidia-cusolver-cu12\u001b[0m \u001b[32m---------------\u001b[2m---------------\u001b[0m\u001b[0m 55.95 MiB/118.41 MiB\n",
            "\u001b[2mnvidia-nccl-cu12\u001b[0m \u001b[32m----------\u001b[2m--------------------\u001b[0m\u001b[0m 55.36 MiB/168.08 MiB\n",
            "\u001b[2mnvidia-cusparse-cu12\u001b[0m \u001b[32m---------\u001b[2m---------------------\u001b[0m\u001b[0m 56.00 MiB/186.88 MiB\n",
            "\u001b[2mtriton    \u001b[0m \u001b[32m---------\u001b[2m---------------------\u001b[0m\u001b[0m 56.16 MiB/199.65 MiB\n",
            "\u001b[2mnvidia-cublas-cu12\u001b[0m \u001b[32m-----\u001b[2m-------------------------\u001b[0m\u001b[0m 55.81 MiB/391.57 MiB\n",
            "\u001b[2mnvidia-cudnn-cu12\u001b[0m \u001b[32m---\u001b[2m---------------------------\u001b[0m\u001b[0m 54.51 MiB/633.96 MiB\n",
            "\u001b[2K\u001b[10A\u001b[37m⠦\u001b[0m \u001b[2mPreparing packages...\u001b[0m (121/132)\n",
            "\u001b[2mscipy     \u001b[0m \u001b[32m------------------------------\u001b[2m\u001b[0m\u001b[0m 32.89 MiB/32.94 MiB\n",
            "\u001b[2mpyarrow   \u001b[0m \u001b[32m-----------------------------\u001b[2m-\u001b[0m\u001b[0m 35.34 MiB/36.64 MiB\n",
            "\u001b[2mnvidia-cufft-cu12\u001b[0m \u001b[32m---------------\u001b[2m---------------\u001b[0m\u001b[0m 56.27 MiB/116.00 MiB\n",
            "\u001b[2mnvidia-cusolver-cu12\u001b[0m \u001b[32m---------------\u001b[2m---------------\u001b[0m\u001b[0m 56.36 MiB/118.41 MiB\n",
            "\u001b[2mnvidia-nccl-cu12\u001b[0m \u001b[32m----------\u001b[2m--------------------\u001b[0m\u001b[0m 55.83 MiB/168.08 MiB\n",
            "\u001b[2mnvidia-cusparse-cu12\u001b[0m \u001b[32m----------\u001b[2m--------------------\u001b[0m\u001b[0m 56.48 MiB/186.88 MiB\n",
            "\u001b[2mtriton    \u001b[0m \u001b[32m---------\u001b[2m---------------------\u001b[0m\u001b[0m 56.61 MiB/199.65 MiB\n",
            "\u001b[2mnvidia-cublas-cu12\u001b[0m \u001b[32m-----\u001b[2m-------------------------\u001b[0m\u001b[0m 56.00 MiB/391.57 MiB\n",
            "\u001b[2mnvidia-cudnn-cu12\u001b[0m \u001b[32m---\u001b[2m---------------------------\u001b[0m\u001b[0m 54.76 MiB/633.96 MiB\n",
            "\u001b[2K\u001b[10A\u001b[37m⠧\u001b[0m \u001b[2mPreparing packages...\u001b[0m (122/132)\n",
            "\u001b[2mscipy     \u001b[0m \u001b[32m------------------------------\u001b[2m\u001b[0m\u001b[0m 32.89 MiB/32.94 MiB\n",
            "\u001b[2mpyarrow   \u001b[0m \u001b[32m-----------------------------\u001b[2m-\u001b[0m\u001b[0m 35.34 MiB/36.64 MiB\n",
            "\u001b[2mnvidia-cufft-cu12\u001b[0m \u001b[32m---------------\u001b[2m---------------\u001b[0m\u001b[0m 56.51 MiB/116.00 MiB\n",
            "\u001b[2mnvidia-cusolver-cu12\u001b[0m \u001b[32m---------------\u001b[2m---------------\u001b[0m\u001b[0m 56.82 MiB/118.41 MiB\n",
            "\u001b[2mnvidia-nccl-cu12\u001b[0m \u001b[32m-----------\u001b[2m-------------------\u001b[0m\u001b[0m 56.29 MiB/168.08 MiB\n",
            "\u001b[2mnvidia-cusparse-cu12\u001b[0m \u001b[32m----------\u001b[2m--------------------\u001b[0m\u001b[0m 56.91 MiB/186.88 MiB\n",
            "\u001b[2mtriton    \u001b[0m \u001b[32m---------\u001b[2m---------------------\u001b[0m\u001b[0m 56.89 MiB/199.65 MiB\n",
            "\u001b[2mnvidia-cublas-cu12\u001b[0m \u001b[32m-----\u001b[2m-------------------------\u001b[0m\u001b[0m 56.38 MiB/391.57 MiB\n",
            "\u001b[2mnvidia-cudnn-cu12\u001b[0m \u001b[32m---\u001b[2m---------------------------\u001b[0m\u001b[0m 55.22 MiB/633.96 MiB\n",
            "\u001b[2K\u001b[10A\u001b[37m⠧\u001b[0m \u001b[2mPreparing packages...\u001b[0m (122/132)\n",
            "\u001b[2mscipy     \u001b[0m \u001b[32m------------------------------\u001b[2m\u001b[0m\u001b[0m 32.89 MiB/32.94 MiB\n",
            "\u001b[2mpyarrow   \u001b[0m \u001b[32m-----------------------------\u001b[2m-\u001b[0m\u001b[0m 35.36 MiB/36.64 MiB\n",
            "\u001b[2mnvidia-cufft-cu12\u001b[0m \u001b[32m---------------\u001b[2m---------------\u001b[0m\u001b[0m 56.98 MiB/116.00 MiB\n",
            "\u001b[2mnvidia-cusolver-cu12\u001b[0m \u001b[32m---------------\u001b[2m---------------\u001b[0m\u001b[0m 57.14 MiB/118.41 MiB\n",
            "\u001b[2mnvidia-nccl-cu12\u001b[0m \u001b[32m-----------\u001b[2m-------------------\u001b[0m\u001b[0m 56.54 MiB/168.08 MiB\n",
            "\u001b[2mnvidia-cusparse-cu12\u001b[0m \u001b[32m----------\u001b[2m--------------------\u001b[0m\u001b[0m 57.35 MiB/186.88 MiB\n",
            "\u001b[2mtriton    \u001b[0m \u001b[32m---------\u001b[2m---------------------\u001b[0m\u001b[0m 57.29 MiB/199.65 MiB\n",
            "\u001b[2mnvidia-cublas-cu12\u001b[0m \u001b[32m-----\u001b[2m-------------------------\u001b[0m\u001b[0m 56.83 MiB/391.57 MiB\n",
            "\u001b[2mnvidia-cudnn-cu12\u001b[0m \u001b[32m---\u001b[2m---------------------------\u001b[0m\u001b[0m 55.62 MiB/633.96 MiB\n",
            "\u001b[2K\u001b[10A\u001b[37m⠧\u001b[0m \u001b[2mPreparing packages...\u001b[0m (122/132)\n",
            "\u001b[2mscipy     \u001b[0m \u001b[32m------------------------------\u001b[2m\u001b[0m\u001b[0m 32.89 MiB/32.94 MiB\n",
            "\u001b[2mpyarrow   \u001b[0m \u001b[32m-----------------------------\u001b[2m-\u001b[0m\u001b[0m 35.36 MiB/36.64 MiB\n",
            "\u001b[2mnvidia-cufft-cu12\u001b[0m \u001b[32m---------------\u001b[2m---------------\u001b[0m\u001b[0m 57.20 MiB/116.00 MiB\n",
            "\u001b[2mnvidia-cusolver-cu12\u001b[0m \u001b[32m---------------\u001b[2m---------------\u001b[0m\u001b[0m 57.61 MiB/118.41 MiB\n",
            "\u001b[2mnvidia-nccl-cu12\u001b[0m \u001b[32m-----------\u001b[2m-------------------\u001b[0m\u001b[0m 57.04 MiB/168.08 MiB\n",
            "\u001b[2mnvidia-cusparse-cu12\u001b[0m \u001b[32m----------\u001b[2m--------------------\u001b[0m\u001b[0m 57.89 MiB/186.88 MiB\n",
            "\u001b[2mtriton    \u001b[0m \u001b[32m---------\u001b[2m---------------------\u001b[0m\u001b[0m 57.76 MiB/199.65 MiB\n",
            "\u001b[2mnvidia-cublas-cu12\u001b[0m \u001b[32m-----\u001b[2m-------------------------\u001b[0m\u001b[0m 57.00 MiB/391.57 MiB\n",
            "\u001b[2mnvidia-cudnn-cu12\u001b[0m \u001b[32m---\u001b[2m---------------------------\u001b[0m\u001b[0m 55.89 MiB/633.96 MiB\n",
            "\u001b[2K\u001b[10A\u001b[37m⠧\u001b[0m \u001b[2mPreparing packages...\u001b[0m (122/132)\n",
            "\u001b[2mscipy     \u001b[0m \u001b[32m------------------------------\u001b[2m\u001b[0m\u001b[0m 32.89 MiB/32.94 MiB\n",
            "\u001b[2mpyarrow   \u001b[0m \u001b[32m-----------------------------\u001b[2m-\u001b[0m\u001b[0m 35.36 MiB/36.64 MiB\n",
            "\u001b[2mnvidia-cufft-cu12\u001b[0m \u001b[32m---------------\u001b[2m---------------\u001b[0m\u001b[0m 57.93 MiB/116.00 MiB\n",
            "\u001b[2mnvidia-cusolver-cu12\u001b[0m \u001b[32m---------------\u001b[2m---------------\u001b[0m\u001b[0m 57.89 MiB/118.41 MiB\n",
            "\u001b[2mnvidia-nccl-cu12\u001b[0m \u001b[32m-----------\u001b[2m-------------------\u001b[0m\u001b[0m 57.27 MiB/168.08 MiB\n",
            "\u001b[2mnvidia-cusparse-cu12\u001b[0m \u001b[32m----------\u001b[2m--------------------\u001b[0m\u001b[0m 58.15 MiB/186.88 MiB\n",
            "\u001b[2mtriton    \u001b[0m \u001b[32m---------\u001b[2m---------------------\u001b[0m\u001b[0m 57.98 MiB/199.65 MiB\n",
            "\u001b[2mnvidia-cublas-cu12\u001b[0m \u001b[32m-----\u001b[2m-------------------------\u001b[0m\u001b[0m 57.44 MiB/391.57 MiB\n",
            "\u001b[2mnvidia-cudnn-cu12\u001b[0m \u001b[32m---\u001b[2m---------------------------\u001b[0m\u001b[0m 56.56 MiB/633.96 MiB\n",
            "\u001b[2K\u001b[10A\u001b[37m⠇\u001b[0m \u001b[2mPreparing packages...\u001b[0m (122/132)\n",
            "\u001b[2mscipy     \u001b[0m \u001b[32m------------------------------\u001b[2m\u001b[0m\u001b[0m 32.89 MiB/32.94 MiB\n",
            "\u001b[2mpyarrow   \u001b[0m \u001b[32m-----------------------------\u001b[2m-\u001b[0m\u001b[0m 35.38 MiB/36.64 MiB\n",
            "\u001b[2mnvidia-cufft-cu12\u001b[0m \u001b[32m----------------\u001b[2m--------------\u001b[0m\u001b[0m 58.17 MiB/116.00 MiB\n",
            "\u001b[2mnvidia-cusolver-cu12\u001b[0m \u001b[32m---------------\u001b[2m---------------\u001b[0m\u001b[0m 58.27 MiB/118.41 MiB\n",
            "\u001b[2mnvidia-nccl-cu12\u001b[0m \u001b[32m-----------\u001b[2m-------------------\u001b[0m\u001b[0m 57.73 MiB/168.08 MiB\n",
            "\u001b[2mnvidia-cusparse-cu12\u001b[0m \u001b[32m----------\u001b[2m--------------------\u001b[0m\u001b[0m 58.59 MiB/186.88 MiB\n",
            "\u001b[2mtriton    \u001b[0m \u001b[32m---------\u001b[2m---------------------\u001b[0m\u001b[0m 58.39 MiB/199.65 MiB\n",
            "\u001b[2mnvidia-cublas-cu12\u001b[0m \u001b[32m-----\u001b[2m-------------------------\u001b[0m\u001b[0m 57.90 MiB/391.57 MiB\n",
            "\u001b[2mnvidia-cudnn-cu12\u001b[0m \u001b[32m---\u001b[2m---------------------------\u001b[0m\u001b[0m 56.81 MiB/633.96 MiB\n",
            "\u001b[2K\u001b[10A\u001b[37m⠇\u001b[0m \u001b[2mPreparing packages...\u001b[0m (122/132)\n",
            "\u001b[2mscipy     \u001b[0m \u001b[32m------------------------------\u001b[2m\u001b[0m\u001b[0m 32.89 MiB/32.94 MiB\n",
            "\u001b[2mpyarrow   \u001b[0m \u001b[32m-----------------------------\u001b[2m-\u001b[0m\u001b[0m 35.38 MiB/36.64 MiB\n",
            "\u001b[2mnvidia-cufft-cu12\u001b[0m \u001b[32m----------------\u001b[2m--------------\u001b[0m\u001b[0m 58.61 MiB/116.00 MiB\n",
            "\u001b[2mnvidia-cusolver-cu12\u001b[0m \u001b[32m---------------\u001b[2m---------------\u001b[0m\u001b[0m 58.73 MiB/118.41 MiB\n",
            "\u001b[2mnvidia-nccl-cu12\u001b[0m \u001b[32m-----------\u001b[2m-------------------\u001b[0m\u001b[0m 57.95 MiB/168.08 MiB\n",
            "\u001b[2mnvidia-cusparse-cu12\u001b[0m \u001b[32m----------\u001b[2m--------------------\u001b[0m\u001b[0m 59.00 MiB/186.88 MiB\n",
            "\u001b[2mtriton    \u001b[0m \u001b[32m---------\u001b[2m---------------------\u001b[0m\u001b[0m 58.64 MiB/199.65 MiB\n",
            "\u001b[2mnvidia-cublas-cu12\u001b[0m \u001b[32m-----\u001b[2m-------------------------\u001b[0m\u001b[0m 58.35 MiB/391.57 MiB\n",
            "\u001b[2mnvidia-cudnn-cu12\u001b[0m \u001b[32m---\u001b[2m---------------------------\u001b[0m\u001b[0m 57.25 MiB/633.96 MiB\n",
            "\u001b[2K\u001b[10A\u001b[37m⠇\u001b[0m \u001b[2mPreparing packages...\u001b[0m (122/132)\n",
            "\u001b[2mscipy     \u001b[0m \u001b[32m------------------------------\u001b[2m\u001b[0m\u001b[0m 32.89 MiB/32.94 MiB\n",
            "\u001b[2mpyarrow   \u001b[0m \u001b[32m-----------------------------\u001b[2m-\u001b[0m\u001b[0m 35.38 MiB/36.64 MiB\n",
            "\u001b[2mnvidia-cufft-cu12\u001b[0m \u001b[32m----------------\u001b[2m--------------\u001b[0m\u001b[0m 58.84 MiB/116.00 MiB\n",
            "\u001b[2mnvidia-cusolver-cu12\u001b[0m \u001b[32m----------------\u001b[2m--------------\u001b[0m\u001b[0m 59.23 MiB/118.41 MiB\n",
            "\u001b[2mnvidia-nccl-cu12\u001b[0m \u001b[32m-----------\u001b[2m-------------------\u001b[0m\u001b[0m 58.42 MiB/168.08 MiB\n",
            "\u001b[2mnvidia-cusparse-cu12\u001b[0m \u001b[32m----------\u001b[2m--------------------\u001b[0m\u001b[0m 59.42 MiB/186.88 MiB\n",
            "\u001b[2mtriton    \u001b[0m \u001b[32m---------\u001b[2m---------------------\u001b[0m\u001b[0m 59.34 MiB/199.65 MiB\n",
            "\u001b[2mnvidia-cublas-cu12\u001b[0m \u001b[32m-----\u001b[2m-------------------------\u001b[0m\u001b[0m 58.63 MiB/391.57 MiB\n",
            "\u001b[2mnvidia-cudnn-cu12\u001b[0m \u001b[32m---\u001b[2m---------------------------\u001b[0m\u001b[0m 57.49 MiB/633.96 MiB\n",
            "\u001b[2K\u001b[10A\u001b[37m⠇\u001b[0m \u001b[2mPreparing packages...\u001b[0m (122/132)\n",
            "\u001b[2mscipy     \u001b[0m \u001b[32m------------------------------\u001b[2m\u001b[0m\u001b[0m 32.89 MiB/32.94 MiB\n",
            "\u001b[2mpyarrow   \u001b[0m \u001b[32m-----------------------------\u001b[2m-\u001b[0m\u001b[0m 35.38 MiB/36.64 MiB\n",
            "\u001b[2mnvidia-cufft-cu12\u001b[0m \u001b[32m----------------\u001b[2m--------------\u001b[0m\u001b[0m 59.32 MiB/116.00 MiB\n",
            "\u001b[2mnvidia-cusolver-cu12\u001b[0m \u001b[32m----------------\u001b[2m--------------\u001b[0m\u001b[0m 59.45 MiB/118.41 MiB\n",
            "\u001b[2mnvidia-nccl-cu12\u001b[0m \u001b[32m-----------\u001b[2m-------------------\u001b[0m\u001b[0m 58.98 MiB/168.08 MiB\n",
            "\u001b[2mnvidia-cusparse-cu12\u001b[0m \u001b[32m----------\u001b[2m--------------------\u001b[0m\u001b[0m 59.65 MiB/186.88 MiB\n",
            "\u001b[2mtriton    \u001b[0m \u001b[32m---------\u001b[2m---------------------\u001b[0m\u001b[0m 59.58 MiB/199.65 MiB\n",
            "\u001b[2mnvidia-cublas-cu12\u001b[0m \u001b[32m-----\u001b[2m-------------------------\u001b[0m\u001b[0m 59.11 MiB/391.57 MiB\n",
            "\u001b[2mnvidia-cudnn-cu12\u001b[0m \u001b[32m---\u001b[2m---------------------------\u001b[0m\u001b[0m 57.94 MiB/633.96 MiB\n",
            "\u001b[2K\u001b[10A\u001b[37m⠋\u001b[0m \u001b[2mPreparing packages...\u001b[0m (122/132)\n",
            "\u001b[2mscipy     \u001b[0m \u001b[32m------------------------------\u001b[2m\u001b[0m\u001b[0m 32.91 MiB/32.94 MiB\n",
            "\u001b[2mpyarrow   \u001b[0m \u001b[32m-----------------------------\u001b[2m-\u001b[0m\u001b[0m 35.38 MiB/36.64 MiB\n",
            "\u001b[2mnvidia-cufft-cu12\u001b[0m \u001b[32m----------------\u001b[2m--------------\u001b[0m\u001b[0m 59.57 MiB/116.00 MiB\n",
            "\u001b[2mnvidia-cusolver-cu12\u001b[0m \u001b[32m----------------\u001b[2m--------------\u001b[0m\u001b[0m 59.92 MiB/118.41 MiB\n",
            "\u001b[2mnvidia-nccl-cu12\u001b[0m \u001b[32m-----------\u001b[2m-------------------\u001b[0m\u001b[0m 59.34 MiB/168.08 MiB\n",
            "\u001b[2mnvidia-cusparse-cu12\u001b[0m \u001b[32m----------\u001b[2m--------------------\u001b[0m\u001b[0m 60.05 MiB/186.88 MiB\n",
            "\u001b[2mtriton    \u001b[0m \u001b[32m----------\u001b[2m--------------------\u001b[0m\u001b[0m 59.95 MiB/199.65 MiB\n",
            "\u001b[2mnvidia-cublas-cu12\u001b[0m \u001b[32m-----\u001b[2m-------------------------\u001b[0m\u001b[0m 59.53 MiB/391.57 MiB\n",
            "\u001b[2mnvidia-cudnn-cu12\u001b[0m \u001b[32m---\u001b[2m---------------------------\u001b[0m\u001b[0m 58.15 MiB/633.96 MiB\n",
            "\u001b[2K\u001b[10A\u001b[37m⠋\u001b[0m \u001b[2mPreparing packages...\u001b[0m (122/132)\n",
            "\u001b[2mscipy     \u001b[0m \u001b[32m------------------------------\u001b[2m\u001b[0m\u001b[0m 32.91 MiB/32.94 MiB\n",
            "\u001b[2mpyarrow   \u001b[0m \u001b[32m-----------------------------\u001b[2m-\u001b[0m\u001b[0m 35.38 MiB/36.64 MiB\n",
            "\u001b[2mnvidia-cufft-cu12\u001b[0m \u001b[32m----------------\u001b[2m--------------\u001b[0m\u001b[0m 60.07 MiB/116.00 MiB\n",
            "\u001b[2mnvidia-cusolver-cu12\u001b[0m \u001b[32m----------------\u001b[2m--------------\u001b[0m\u001b[0m 60.15 MiB/118.41 MiB\n",
            "\u001b[2mnvidia-nccl-cu12\u001b[0m \u001b[32m-----------\u001b[2m-------------------\u001b[0m\u001b[0m 59.57 MiB/168.08 MiB\n",
            "\u001b[2mnvidia-cusparse-cu12\u001b[0m \u001b[32m----------\u001b[2m--------------------\u001b[0m\u001b[0m 60.53 MiB/186.88 MiB\n",
            "\u001b[2mtriton    \u001b[0m \u001b[32m----------\u001b[2m--------------------\u001b[0m\u001b[0m 60.55 MiB/199.65 MiB\n",
            "\u001b[2mnvidia-cublas-cu12\u001b[0m \u001b[32m-----\u001b[2m-------------------------\u001b[0m\u001b[0m 59.90 MiB/391.57 MiB\n",
            "\u001b[2mnvidia-cudnn-cu12\u001b[0m \u001b[32m---\u001b[2m---------------------------\u001b[0m\u001b[0m 58.60 MiB/633.96 MiB\n",
            "\u001b[2K\u001b[10A\u001b[37m⠋\u001b[0m \u001b[2mPreparing packages...\u001b[0m (122/132)\n",
            "\u001b[2mscipy     \u001b[0m \u001b[32m------------------------------\u001b[2m\u001b[0m\u001b[0m 32.93 MiB/32.94 MiB\n",
            "\u001b[2mpyarrow   \u001b[0m \u001b[32m-----------------------------\u001b[2m-\u001b[0m\u001b[0m 35.38 MiB/36.64 MiB\n",
            "\u001b[2mnvidia-cufft-cu12\u001b[0m \u001b[32m----------------\u001b[2m--------------\u001b[0m\u001b[0m 60.51 MiB/116.00 MiB\n",
            "\u001b[2mnvidia-cusolver-cu12\u001b[0m \u001b[32m----------------\u001b[2m--------------\u001b[0m\u001b[0m 60.61 MiB/118.41 MiB\n",
            "\u001b[2mnvidia-nccl-cu12\u001b[0m \u001b[32m-----------\u001b[2m-------------------\u001b[0m\u001b[0m 60.11 MiB/168.08 MiB\n",
            "\u001b[2mnvidia-cusparse-cu12\u001b[0m \u001b[32m----------\u001b[2m--------------------\u001b[0m\u001b[0m 60.80 MiB/186.88 MiB\n",
            "\u001b[2mtriton    \u001b[0m \u001b[32m----------\u001b[2m--------------------\u001b[0m\u001b[0m 60.81 MiB/199.65 MiB\n",
            "\u001b[2mnvidia-cublas-cu12\u001b[0m \u001b[32m-----\u001b[2m-------------------------\u001b[0m\u001b[0m 60.27 MiB/391.57 MiB\n",
            "\u001b[2mnvidia-cudnn-cu12\u001b[0m \u001b[32m---\u001b[2m---------------------------\u001b[0m\u001b[0m 59.07 MiB/633.96 MiB\n",
            "\u001b[2K\u001b[10A\u001b[37m⠋\u001b[0m \u001b[2mPreparing packages...\u001b[0m (122/132)\n",
            "\u001b[2mscipy     \u001b[0m \u001b[32m------------------------------\u001b[2m\u001b[0m\u001b[0m 32.93 MiB/32.94 MiB\n",
            "\u001b[2mpyarrow   \u001b[0m \u001b[32m-----------------------------\u001b[2m-\u001b[0m\u001b[0m 35.38 MiB/36.64 MiB\n",
            "\u001b[2mnvidia-cufft-cu12\u001b[0m \u001b[32m----------------\u001b[2m--------------\u001b[0m\u001b[0m 60.95 MiB/116.00 MiB\n",
            "\u001b[2mnvidia-cusolver-cu12\u001b[0m \u001b[32m----------------\u001b[2m--------------\u001b[0m\u001b[0m 61.10 MiB/118.41 MiB\n",
            "\u001b[2mnvidia-nccl-cu12\u001b[0m \u001b[32m-----------\u001b[2m-------------------\u001b[0m\u001b[0m 60.32 MiB/168.08 MiB\n",
            "\u001b[2mnvidia-cusparse-cu12\u001b[0m \u001b[32m----------\u001b[2m--------------------\u001b[0m\u001b[0m 61.11 MiB/186.88 MiB\n",
            "\u001b[2mtriton    \u001b[0m \u001b[32m----------\u001b[2m--------------------\u001b[0m\u001b[0m 61.19 MiB/199.65 MiB\n",
            "\u001b[2mnvidia-cublas-cu12\u001b[0m \u001b[32m-----\u001b[2m-------------------------\u001b[0m\u001b[0m 60.69 MiB/391.57 MiB\n",
            "\u001b[2mnvidia-cudnn-cu12\u001b[0m \u001b[32m---\u001b[2m---------------------------\u001b[0m\u001b[0m 59.25 MiB/633.96 MiB\n",
            "\u001b[2K\u001b[10A\u001b[37m⠙\u001b[0m \u001b[2mPreparing packages...\u001b[0m (122/132)\n",
            "\u001b[2mscipy     \u001b[0m \u001b[32m------------------------------\u001b[2m\u001b[0m\u001b[0m 32.93 MiB/32.94 MiB\n",
            "\u001b[2mpyarrow   \u001b[0m \u001b[32m-----------------------------\u001b[2m-\u001b[0m\u001b[0m 35.38 MiB/36.64 MiB\n",
            "\u001b[2mnvidia-cufft-cu12\u001b[0m \u001b[32m----------------\u001b[2m--------------\u001b[0m\u001b[0m 61.38 MiB/116.00 MiB\n",
            "\u001b[2mnvidia-cusolver-cu12\u001b[0m \u001b[32m----------------\u001b[2m--------------\u001b[0m\u001b[0m 61.32 MiB/118.41 MiB\n",
            "\u001b[2mnvidia-nccl-cu12\u001b[0m \u001b[32m-----------\u001b[2m-------------------\u001b[0m\u001b[0m 61.02 MiB/168.08 MiB\n",
            "\u001b[2mnvidia-cusparse-cu12\u001b[0m \u001b[32m----------\u001b[2m--------------------\u001b[0m\u001b[0m 61.67 MiB/186.88 MiB\n",
            "\u001b[2mtriton    \u001b[0m \u001b[32m----------\u001b[2m--------------------\u001b[0m\u001b[0m 61.45 MiB/199.65 MiB\n",
            "\u001b[2mnvidia-cublas-cu12\u001b[0m \u001b[32m-----\u001b[2m-------------------------\u001b[0m\u001b[0m 60.96 MiB/391.57 MiB\n",
            "\u001b[2mnvidia-cudnn-cu12\u001b[0m \u001b[32m---\u001b[2m---------------------------\u001b[0m\u001b[0m 59.71 MiB/633.96 MiB\n",
            "\u001b[2K\u001b[10A\u001b[37m⠙\u001b[0m \u001b[2mPreparing packages...\u001b[0m (122/132)\n",
            "\u001b[2mscipy     \u001b[0m \u001b[32m------------------------------\u001b[2m\u001b[0m\u001b[0m 32.93 MiB/32.94 MiB\n",
            "\u001b[2mpyarrow   \u001b[0m \u001b[32m-----------------------------\u001b[2m-\u001b[0m\u001b[0m 35.41 MiB/36.64 MiB\n",
            "\u001b[2mnvidia-cufft-cu12\u001b[0m \u001b[32m----------------\u001b[2m--------------\u001b[0m\u001b[0m 61.62 MiB/116.00 MiB\n",
            "\u001b[2mnvidia-cusolver-cu12\u001b[0m \u001b[32m----------------\u001b[2m--------------\u001b[0m\u001b[0m 61.79 MiB/118.41 MiB\n",
            "\u001b[2mnvidia-nccl-cu12\u001b[0m \u001b[32m-----------\u001b[2m-------------------\u001b[0m\u001b[0m 61.27 MiB/168.08 MiB\n",
            "\u001b[2mnvidia-cusparse-cu12\u001b[0m \u001b[32m----------\u001b[2m--------------------\u001b[0m\u001b[0m 61.97 MiB/186.88 MiB\n",
            "\u001b[2mtriton    \u001b[0m \u001b[32m----------\u001b[2m--------------------\u001b[0m\u001b[0m 61.94 MiB/199.65 MiB\n",
            "\u001b[2mnvidia-cublas-cu12\u001b[0m \u001b[32m-----\u001b[2m-------------------------\u001b[0m\u001b[0m 61.37 MiB/391.57 MiB\n",
            "\u001b[2mnvidia-cudnn-cu12\u001b[0m \u001b[32m---\u001b[2m---------------------------\u001b[0m\u001b[0m 60.20 MiB/633.96 MiB\n",
            "\u001b[2K\u001b[10A\u001b[37m⠙\u001b[0m \u001b[2mPreparing packages...\u001b[0m (122/132)\n",
            "\u001b[2mscipy     \u001b[0m \u001b[32m------------------------------\u001b[2m\u001b[0m\u001b[0m 32.93 MiB/32.94 MiB\n",
            "\u001b[2mpyarrow   \u001b[0m \u001b[32m-----------------------------\u001b[2m-\u001b[0m\u001b[0m 35.41 MiB/36.64 MiB\n",
            "\u001b[2mnvidia-cufft-cu12\u001b[0m \u001b[32m-----------------\u001b[2m-------------\u001b[0m\u001b[0m 62.09 MiB/116.00 MiB\n",
            "\u001b[2mnvidia-cusolver-cu12\u001b[0m \u001b[32m----------------\u001b[2m--------------\u001b[0m\u001b[0m 62.22 MiB/118.41 MiB\n",
            "\u001b[2mnvidia-nccl-cu12\u001b[0m \u001b[32m------------\u001b[2m------------------\u001b[0m\u001b[0m 61.73 MiB/168.08 MiB\n",
            "\u001b[2mnvidia-cusparse-cu12\u001b[0m \u001b[32m-----------\u001b[2m-------------------\u001b[0m\u001b[0m 62.42 MiB/186.88 MiB\n",
            "\u001b[2mtriton    \u001b[0m \u001b[32m----------\u001b[2m--------------------\u001b[0m\u001b[0m 62.17 MiB/199.65 MiB\n",
            "\u001b[2mnvidia-cublas-cu12\u001b[0m \u001b[32m-----\u001b[2m-------------------------\u001b[0m\u001b[0m 61.84 MiB/391.57 MiB\n",
            "\u001b[2mnvidia-cudnn-cu12\u001b[0m \u001b[32m---\u001b[2m---------------------------\u001b[0m\u001b[0m 60.45 MiB/633.96 MiB\n",
            "\u001b[2K\u001b[10A\u001b[37m⠙\u001b[0m \u001b[2mPreparing packages...\u001b[0m (122/132)\n",
            "\u001b[2mscipy     \u001b[0m \u001b[32m------------------------------\u001b[2m\u001b[0m\u001b[0m 32.93 MiB/32.94 MiB\n",
            "\u001b[2mpyarrow   \u001b[0m \u001b[32m------------------------------\u001b[2m\u001b[0m\u001b[0m 35.43 MiB/36.64 MiB\n",
            "\u001b[2mnvidia-cufft-cu12\u001b[0m \u001b[32m-----------------\u001b[2m-------------\u001b[0m\u001b[0m 62.57 MiB/116.00 MiB\n",
            "\u001b[2mnvidia-cusolver-cu12\u001b[0m \u001b[32m----------------\u001b[2m--------------\u001b[0m\u001b[0m 62.47 MiB/118.41 MiB\n",
            "\u001b[2mnvidia-nccl-cu12\u001b[0m \u001b[32m------------\u001b[2m------------------\u001b[0m\u001b[0m 61.97 MiB/168.08 MiB\n",
            "\u001b[2mnvidia-cusparse-cu12\u001b[0m \u001b[32m-----------\u001b[2m-------------------\u001b[0m\u001b[0m 62.67 MiB/186.88 MiB\n",
            "\u001b[2mtriton    \u001b[0m \u001b[32m----------\u001b[2m--------------------\u001b[0m\u001b[0m 62.66 MiB/199.65 MiB\n",
            "\u001b[2mnvidia-cublas-cu12\u001b[0m \u001b[32m-----\u001b[2m-------------------------\u001b[0m\u001b[0m 62.10 MiB/391.57 MiB\n",
            "\u001b[2mnvidia-cudnn-cu12\u001b[0m \u001b[32m---\u001b[2m---------------------------\u001b[0m\u001b[0m 60.91 MiB/633.96 MiB\n",
            "\u001b[2K\u001b[10A\u001b[37m⠹\u001b[0m \u001b[2mPreparing packages...\u001b[0m (122/132)\n",
            "\u001b[2mscipy     \u001b[0m \u001b[32m------------------------------\u001b[2m\u001b[0m\u001b[0m 32.94 MiB/32.94 MiB\n",
            "\u001b[2mpyarrow   \u001b[0m \u001b[32m------------------------------\u001b[2m\u001b[0m\u001b[0m 35.43 MiB/36.64 MiB\n",
            "\u001b[2mnvidia-cufft-cu12\u001b[0m \u001b[32m-----------------\u001b[2m-------------\u001b[0m\u001b[0m 62.81 MiB/116.00 MiB\n",
            "\u001b[2mnvidia-cusolver-cu12\u001b[0m \u001b[32m----------------\u001b[2m--------------\u001b[0m\u001b[0m 62.95 MiB/118.41 MiB\n",
            "\u001b[2mnvidia-nccl-cu12\u001b[0m \u001b[32m------------\u001b[2m------------------\u001b[0m\u001b[0m 62.44 MiB/168.08 MiB\n",
            "\u001b[2mnvidia-cusparse-cu12\u001b[0m \u001b[32m-----------\u001b[2m-------------------\u001b[0m\u001b[0m 63.14 MiB/186.88 MiB\n",
            "\u001b[2mtriton    \u001b[0m \u001b[32m----------\u001b[2m--------------------\u001b[0m\u001b[0m 63.03 MiB/199.65 MiB\n",
            "\u001b[2mnvidia-cublas-cu12\u001b[0m \u001b[32m-----\u001b[2m-------------------------\u001b[0m\u001b[0m 62.52 MiB/391.57 MiB\n",
            "\u001b[2mnvidia-cudnn-cu12\u001b[0m \u001b[32m---\u001b[2m---------------------------\u001b[0m\u001b[0m 61.37 MiB/633.96 MiB\n",
            "\u001b[2K\u001b[10A\u001b[37m⠹\u001b[0m \u001b[2mPreparing packages...\u001b[0m (122/132)\n",
            "\u001b[2mscipy     \u001b[0m \u001b[32m------------------------------\u001b[2m\u001b[0m\u001b[0m 32.94 MiB/32.94 MiB\n",
            "\u001b[2mpyarrow   \u001b[0m \u001b[32m------------------------------\u001b[2m\u001b[0m\u001b[0m 35.43 MiB/36.64 MiB\n",
            "\u001b[2mnvidia-cufft-cu12\u001b[0m \u001b[32m-----------------\u001b[2m-------------\u001b[0m\u001b[0m 63.32 MiB/116.00 MiB\n",
            "\u001b[2mnvidia-cusolver-cu12\u001b[0m \u001b[32m-----------------\u001b[2m-------------\u001b[0m\u001b[0m 63.15 MiB/118.41 MiB\n",
            "\u001b[2mnvidia-nccl-cu12\u001b[0m \u001b[32m------------\u001b[2m------------------\u001b[0m\u001b[0m 62.67 MiB/168.08 MiB\n",
            "\u001b[2mnvidia-cusparse-cu12\u001b[0m \u001b[32m-----------\u001b[2m-------------------\u001b[0m\u001b[0m 63.42 MiB/186.88 MiB\n",
            "\u001b[2mtriton    \u001b[0m \u001b[32m----------\u001b[2m--------------------\u001b[0m\u001b[0m 63.69 MiB/199.65 MiB\n",
            "\u001b[2mnvidia-cublas-cu12\u001b[0m \u001b[32m-----\u001b[2m-------------------------\u001b[0m\u001b[0m 62.78 MiB/391.57 MiB\n",
            "\u001b[2mnvidia-cudnn-cu12\u001b[0m \u001b[32m---\u001b[2m---------------------------\u001b[0m\u001b[0m 61.83 MiB/633.96 MiB\n",
            "\u001b[2K\u001b[10A\u001b[37m⠹\u001b[0m \u001b[2mPreparing packages...\u001b[0m (122/132)\n",
            "\u001b[2mscipy     \u001b[0m \u001b[32m------------------------------\u001b[2m\u001b[0m\u001b[0m 32.94 MiB/32.94 MiB\n",
            "\u001b[2mpyarrow   \u001b[0m \u001b[32m------------------------------\u001b[2m\u001b[0m\u001b[0m 35.43 MiB/36.64 MiB\n",
            "\u001b[2mnvidia-cufft-cu12\u001b[0m \u001b[32m-----------------\u001b[2m-------------\u001b[0m\u001b[0m 63.72 MiB/116.00 MiB\n",
            "\u001b[2mnvidia-cusolver-cu12\u001b[0m \u001b[32m-----------------\u001b[2m-------------\u001b[0m\u001b[0m 63.63 MiB/118.41 MiB\n",
            "\u001b[2mnvidia-nccl-cu12\u001b[0m \u001b[32m------------\u001b[2m------------------\u001b[0m\u001b[0m 63.15 MiB/168.08 MiB\n",
            "\u001b[2mnvidia-cusparse-cu12\u001b[0m \u001b[32m-----------\u001b[2m-------------------\u001b[0m\u001b[0m 63.80 MiB/186.88 MiB\n",
            "\u001b[2mtriton    \u001b[0m \u001b[32m----------\u001b[2m--------------------\u001b[0m\u001b[0m 63.92 MiB/199.65 MiB\n",
            "\u001b[2mnvidia-cublas-cu12\u001b[0m \u001b[32m-----\u001b[2m-------------------------\u001b[0m\u001b[0m 63.29 MiB/391.57 MiB\n",
            "\u001b[2mnvidia-cudnn-cu12\u001b[0m \u001b[32m---\u001b[2m---------------------------\u001b[0m\u001b[0m 62.07 MiB/633.96 MiB\n",
            "\u001b[2K\u001b[10A\u001b[37m⠹\u001b[0m \u001b[2mPreparing packages...\u001b[0m (122/132)\n",
            "\u001b[2mscipy     \u001b[0m \u001b[32m------------------------------\u001b[2m\u001b[0m\u001b[0m 32.94 MiB/32.94 MiB\n",
            "\u001b[2mpyarrow   \u001b[0m \u001b[32m------------------------------\u001b[2m\u001b[0m\u001b[0m 35.43 MiB/36.64 MiB\n",
            "\u001b[2mnvidia-cufft-cu12\u001b[0m \u001b[32m-----------------\u001b[2m-------------\u001b[0m\u001b[0m 64.05 MiB/116.00 MiB\n",
            "\u001b[2mnvidia-cusolver-cu12\u001b[0m \u001b[32m-----------------\u001b[2m-------------\u001b[0m\u001b[0m 64.01 MiB/118.41 MiB\n",
            "\u001b[2mnvidia-nccl-cu12\u001b[0m \u001b[32m------------\u001b[2m------------------\u001b[0m\u001b[0m 63.63 MiB/168.08 MiB\n",
            "\u001b[2mnvidia-cusparse-cu12\u001b[0m \u001b[32m-----------\u001b[2m-------------------\u001b[0m\u001b[0m 64.26 MiB/186.88 MiB\n",
            "\u001b[2mtriton    \u001b[0m \u001b[32m----------\u001b[2m--------------------\u001b[0m\u001b[0m 64.37 MiB/199.65 MiB\n",
            "\u001b[2mnvidia-cublas-cu12\u001b[0m \u001b[32m-----\u001b[2m-------------------------\u001b[0m\u001b[0m 63.66 MiB/391.57 MiB\n",
            "\u001b[2mnvidia-cudnn-cu12\u001b[0m \u001b[32m---\u001b[2m---------------------------\u001b[0m\u001b[0m 62.53 MiB/633.96 MiB\n",
            "\u001b[2K\u001b[10A\u001b[37m⠸\u001b[0m \u001b[2mPreparing packages...\u001b[0m (122/132)\n",
            "\u001b[2mscipy     \u001b[0m \u001b[32m------------------------------\u001b[2m\u001b[0m\u001b[0m 32.94 MiB/32.94 MiB\n",
            "\u001b[2mpyarrow   \u001b[0m \u001b[32m------------------------------\u001b[2m\u001b[0m\u001b[0m 35.44 MiB/36.64 MiB\n",
            "\u001b[2mnvidia-cufft-cu12\u001b[0m \u001b[32m-----------------\u001b[2m-------------\u001b[0m\u001b[0m 64.28 MiB/116.00 MiB\n",
            "\u001b[2mnvidia-cusolver-cu12\u001b[0m \u001b[32m-----------------\u001b[2m-------------\u001b[0m\u001b[0m 64.34 MiB/118.41 MiB\n",
            "\u001b[2mnvidia-nccl-cu12\u001b[0m \u001b[32m------------\u001b[2m------------------\u001b[0m\u001b[0m 64.07 MiB/168.08 MiB\n",
            "\u001b[2mnvidia-cusparse-cu12\u001b[0m \u001b[32m-----------\u001b[2m-------------------\u001b[0m\u001b[0m 64.73 MiB/186.88 MiB\n",
            "\u001b[2mtriton    \u001b[0m \u001b[32m----------\u001b[2m--------------------\u001b[0m\u001b[0m 64.89 MiB/199.65 MiB\n",
            "\u001b[2mnvidia-cublas-cu12\u001b[0m \u001b[32m-----\u001b[2m-------------------------\u001b[0m\u001b[0m 63.91 MiB/391.57 MiB\n",
            "\u001b[2mnvidia-cudnn-cu12\u001b[0m \u001b[32m---\u001b[2m---------------------------\u001b[0m\u001b[0m 62.72 MiB/633.96 MiB\n",
            "\u001b[2K\u001b[10A\u001b[37m⠸\u001b[0m \u001b[2mPreparing packages...\u001b[0m (122/132)\n",
            "\u001b[2mscipy     \u001b[0m \u001b[32m------------------------------\u001b[2m\u001b[0m\u001b[0m 32.94 MiB/32.94 MiB\n",
            "\u001b[2mpyarrow   \u001b[0m \u001b[32m------------------------------\u001b[2m\u001b[0m\u001b[0m 35.45 MiB/36.64 MiB\n",
            "\u001b[2mnvidia-cufft-cu12\u001b[0m \u001b[32m-----------------\u001b[2m-------------\u001b[0m\u001b[0m 64.74 MiB/116.00 MiB\n",
            "\u001b[2mnvidia-cusolver-cu12\u001b[0m \u001b[32m-----------------\u001b[2m-------------\u001b[0m\u001b[0m 64.85 MiB/118.41 MiB\n",
            "\u001b[2mnvidia-nccl-cu12\u001b[0m \u001b[32m------------\u001b[2m------------------\u001b[0m\u001b[0m 64.32 MiB/168.08 MiB\n",
            "\u001b[2mnvidia-cusparse-cu12\u001b[0m \u001b[32m-----------\u001b[2m-------------------\u001b[0m\u001b[0m 64.98 MiB/186.88 MiB\n",
            "\u001b[2mtriton    \u001b[0m \u001b[32m----------\u001b[2m--------------------\u001b[0m\u001b[0m 65.29 MiB/199.65 MiB\n",
            "\u001b[2mnvidia-cublas-cu12\u001b[0m \u001b[32m-----\u001b[2m-------------------------\u001b[0m\u001b[0m 64.42 MiB/391.57 MiB\n",
            "\u001b[2mnvidia-cudnn-cu12\u001b[0m \u001b[32m---\u001b[2m---------------------------\u001b[0m\u001b[0m 63.19 MiB/633.96 MiB\n",
            "\u001b[2K\u001b[10A\u001b[37m⠸\u001b[0m \u001b[2mPreparing packages...\u001b[0m (122/132)\n",
            "\u001b[2mscipy     \u001b[0m \u001b[32m------------------------------\u001b[2m\u001b[0m\u001b[0m 32.94 MiB/32.94 MiB\n",
            "\u001b[2mpyarrow   \u001b[0m \u001b[32m------------------------------\u001b[2m\u001b[0m\u001b[0m 35.45 MiB/36.64 MiB\n",
            "\u001b[2mnvidia-cufft-cu12\u001b[0m \u001b[32m-----------------\u001b[2m-------------\u001b[0m\u001b[0m 65.20 MiB/116.00 MiB\n",
            "\u001b[2mnvidia-cusolver-cu12\u001b[0m \u001b[32m-----------------\u001b[2m-------------\u001b[0m\u001b[0m 65.13 MiB/118.41 MiB\n",
            "\u001b[2mnvidia-nccl-cu12\u001b[0m \u001b[32m------------\u001b[2m------------------\u001b[0m\u001b[0m 64.83 MiB/168.08 MiB\n",
            "\u001b[2mnvidia-cusparse-cu12\u001b[0m \u001b[32m-----------\u001b[2m-------------------\u001b[0m\u001b[0m 65.44 MiB/186.88 MiB\n",
            "\u001b[2mtriton    \u001b[0m \u001b[32m----------\u001b[2m--------------------\u001b[0m\u001b[0m 65.36 MiB/199.65 MiB\n",
            "\u001b[2mnvidia-cublas-cu12\u001b[0m \u001b[32m-----\u001b[2m-------------------------\u001b[0m\u001b[0m 64.92 MiB/391.57 MiB\n",
            "\u001b[2mnvidia-cudnn-cu12\u001b[0m \u001b[32m----\u001b[2m--------------------------\u001b[0m\u001b[0m 63.64 MiB/633.96 MiB\n",
            "\u001b[2K\u001b[10A\u001b[37m⠸\u001b[0m \u001b[2mPreparing packages...\u001b[0m (122/132)\n",
            "\u001b[2mscipy     \u001b[0m \u001b[32m------------------------------\u001b[2m\u001b[0m\u001b[0m 32.94 MiB/32.94 MiB\n",
            "\u001b[2mpyarrow   \u001b[0m \u001b[32m------------------------------\u001b[2m\u001b[0m\u001b[0m 35.45 MiB/36.64 MiB\n",
            "\u001b[2mnvidia-cufft-cu12\u001b[0m \u001b[32m-----------------\u001b[2m-------------\u001b[0m\u001b[0m 65.44 MiB/116.00 MiB\n",
            "\u001b[2mnvidia-cusolver-cu12\u001b[0m \u001b[32m-----------------\u001b[2m-------------\u001b[0m\u001b[0m 65.58 MiB/118.41 MiB\n",
            "\u001b[2mnvidia-nccl-cu12\u001b[0m \u001b[32m------------\u001b[2m------------------\u001b[0m\u001b[0m 65.08 MiB/168.08 MiB\n",
            "\u001b[2mnvidia-cusparse-cu12\u001b[0m \u001b[32m-----------\u001b[2m-------------------\u001b[0m\u001b[0m 65.73 MiB/186.88 MiB\n",
            "\u001b[2mtriton    \u001b[0m \u001b[32m----------\u001b[2m--------------------\u001b[0m\u001b[0m 65.94 MiB/199.65 MiB\n",
            "\u001b[2mnvidia-cublas-cu12\u001b[0m \u001b[32m------\u001b[2m------------------------\u001b[0m\u001b[0m 65.37 MiB/391.57 MiB\n",
            "\u001b[2mnvidia-cudnn-cu12\u001b[0m \u001b[32m----\u001b[2m--------------------------\u001b[0m\u001b[0m 64.10 MiB/633.96 MiB\n",
            "\u001b[2K\u001b[10A\u001b[37m⠸\u001b[0m \u001b[2mPreparing packages...\u001b[0m (122/132)\n",
            "\u001b[2mpyarrow   \u001b[0m \u001b[32m------------------------------\u001b[2m\u001b[0m\u001b[0m 35.45 MiB/36.64 MiB\n",
            "\u001b[2mnvidia-cufft-cu12\u001b[0m \u001b[32m-----------------\u001b[2m-------------\u001b[0m\u001b[0m 65.44 MiB/116.00 MiB\n",
            "\u001b[2mnvidia-cusolver-cu12\u001b[0m \u001b[32m-----------------\u001b[2m-------------\u001b[0m\u001b[0m 65.58 MiB/118.41 MiB\n",
            "\u001b[2mnvidia-nccl-cu12\u001b[0m \u001b[32m------------\u001b[2m------------------\u001b[0m\u001b[0m 65.08 MiB/168.08 MiB\n",
            "\u001b[2mnvidia-cusparse-cu12\u001b[0m \u001b[32m-----------\u001b[2m-------------------\u001b[0m\u001b[0m 65.73 MiB/186.88 MiB\n",
            "\u001b[2mtriton    \u001b[0m \u001b[32m----------\u001b[2m--------------------\u001b[0m\u001b[0m 66.06 MiB/199.65 MiB\n",
            "\u001b[2mnvidia-cublas-cu12\u001b[0m \u001b[32m------\u001b[2m------------------------\u001b[0m\u001b[0m 65.37 MiB/391.57 MiB\n",
            "\u001b[2mnvidia-cudnn-cu12\u001b[0m \u001b[32m----\u001b[2m--------------------------\u001b[0m\u001b[0m 64.10 MiB/633.96 MiB\n",
            "\u001b[2K\u001b[9A\u001b[37m⠼\u001b[0m \u001b[2mPreparing packages...\u001b[0m (123/132)\n",
            "\u001b[2mpyarrow   \u001b[0m \u001b[32m------------------------------\u001b[2m\u001b[0m\u001b[0m 35.45 MiB/36.64 MiB\n",
            "\u001b[2mnvidia-cufft-cu12\u001b[0m \u001b[32m------------------\u001b[2m------------\u001b[0m\u001b[0m 65.90 MiB/116.00 MiB\n",
            "\u001b[2mnvidia-cusolver-cu12\u001b[0m \u001b[32m-----------------\u001b[2m-------------\u001b[0m\u001b[0m 66.03 MiB/118.41 MiB\n",
            "\u001b[2mnvidia-nccl-cu12\u001b[0m \u001b[32m------------\u001b[2m------------------\u001b[0m\u001b[0m 65.56 MiB/168.08 MiB\n",
            "\u001b[2mnvidia-cusparse-cu12\u001b[0m \u001b[32m-----------\u001b[2m-------------------\u001b[0m\u001b[0m 66.38 MiB/186.88 MiB\n",
            "\u001b[2mtriton    \u001b[0m \u001b[32m----------\u001b[2m--------------------\u001b[0m\u001b[0m 66.34 MiB/199.65 MiB\n",
            "\u001b[2mnvidia-cublas-cu12\u001b[0m \u001b[32m------\u001b[2m------------------------\u001b[0m\u001b[0m 65.60 MiB/391.57 MiB\n",
            "\u001b[2mnvidia-cudnn-cu12\u001b[0m \u001b[32m----\u001b[2m--------------------------\u001b[0m\u001b[0m 64.34 MiB/633.96 MiB\n",
            "\u001b[2K\u001b[9A\u001b[37m⠼\u001b[0m \u001b[2mPreparing packages...\u001b[0m (123/132)\n",
            "\u001b[2mpyarrow   \u001b[0m \u001b[32m------------------------------\u001b[2m\u001b[0m\u001b[0m 35.47 MiB/36.64 MiB\n",
            "\u001b[2mnvidia-cufft-cu12\u001b[0m \u001b[32m------------------\u001b[2m------------\u001b[0m\u001b[0m 66.39 MiB/116.00 MiB\n",
            "\u001b[2mnvidia-cusolver-cu12\u001b[0m \u001b[32m-----------------\u001b[2m-------------\u001b[0m\u001b[0m 66.50 MiB/118.41 MiB\n",
            "\u001b[2mnvidia-nccl-cu12\u001b[0m \u001b[32m------------\u001b[2m------------------\u001b[0m\u001b[0m 65.80 MiB/168.08 MiB\n",
            "\u001b[2mnvidia-cusparse-cu12\u001b[0m \u001b[32m-----------\u001b[2m-------------------\u001b[0m\u001b[0m 66.67 MiB/186.88 MiB\n",
            "\u001b[2mtriton    \u001b[0m \u001b[32m-----------\u001b[2m-------------------\u001b[0m\u001b[0m 66.83 MiB/199.65 MiB\n",
            "\u001b[2mnvidia-cublas-cu12\u001b[0m \u001b[32m------\u001b[2m------------------------\u001b[0m\u001b[0m 66.09 MiB/391.57 MiB\n",
            "\u001b[2mnvidia-cudnn-cu12\u001b[0m \u001b[32m----\u001b[2m--------------------------\u001b[0m\u001b[0m 64.59 MiB/633.96 MiB\n",
            "\u001b[2K\u001b[9A\u001b[37m⠼\u001b[0m \u001b[2mPreparing packages...\u001b[0m (123/132)\n",
            "\u001b[2mpyarrow   \u001b[0m \u001b[32m------------------------------\u001b[2m\u001b[0m\u001b[0m 35.47 MiB/36.64 MiB\n",
            "\u001b[2mnvidia-cufft-cu12\u001b[0m \u001b[32m------------------\u001b[2m------------\u001b[0m\u001b[0m 66.86 MiB/116.00 MiB\n",
            "\u001b[2mnvidia-cusolver-cu12\u001b[0m \u001b[32m-----------------\u001b[2m-------------\u001b[0m\u001b[0m 66.76 MiB/118.41 MiB\n",
            "\u001b[2mnvidia-nccl-cu12\u001b[0m \u001b[32m------------\u001b[2m------------------\u001b[0m\u001b[0m 66.28 MiB/168.08 MiB\n",
            "\u001b[2mnvidia-cusparse-cu12\u001b[0m \u001b[32m-----------\u001b[2m-------------------\u001b[0m\u001b[0m 66.97 MiB/186.88 MiB\n",
            "\u001b[2mtriton    \u001b[0m \u001b[32m-----------\u001b[2m-------------------\u001b[0m\u001b[0m 67.04 MiB/199.65 MiB\n",
            "\u001b[2mnvidia-cublas-cu12\u001b[0m \u001b[32m------\u001b[2m------------------------\u001b[0m\u001b[0m 66.33 MiB/391.57 MiB\n",
            "\u001b[2mnvidia-cudnn-cu12\u001b[0m \u001b[32m----\u001b[2m--------------------------\u001b[0m\u001b[0m 65.29 MiB/633.96 MiB\n",
            "\u001b[2K\u001b[9A\u001b[37m⠼\u001b[0m \u001b[2mPreparing packages...\u001b[0m (123/132)\n",
            "\u001b[2mpyarrow   \u001b[0m \u001b[32m------------------------------\u001b[2m\u001b[0m\u001b[0m 35.47 MiB/36.64 MiB\n",
            "\u001b[2mnvidia-cufft-cu12\u001b[0m \u001b[32m------------------\u001b[2m------------\u001b[0m\u001b[0m 67.11 MiB/116.00 MiB\n",
            "\u001b[2mnvidia-cusolver-cu12\u001b[0m \u001b[32m------------------\u001b[2m------------\u001b[0m\u001b[0m 67.27 MiB/118.41 MiB\n",
            "\u001b[2mnvidia-nccl-cu12\u001b[0m \u001b[32m------------\u001b[2m------------------\u001b[0m\u001b[0m 66.83 MiB/168.08 MiB\n",
            "\u001b[2mnvidia-cusparse-cu12\u001b[0m \u001b[32m-----------\u001b[2m-------------------\u001b[0m\u001b[0m 67.42 MiB/186.88 MiB\n",
            "\u001b[2mtriton    \u001b[0m \u001b[32m-----------\u001b[2m-------------------\u001b[0m\u001b[0m 67.50 MiB/199.65 MiB\n",
            "\u001b[2mnvidia-cublas-cu12\u001b[0m \u001b[32m------\u001b[2m------------------------\u001b[0m\u001b[0m 66.80 MiB/391.57 MiB\n",
            "\u001b[2mnvidia-cudnn-cu12\u001b[0m \u001b[32m----\u001b[2m--------------------------\u001b[0m\u001b[0m 65.56 MiB/633.96 MiB\n",
            "\u001b[2K\u001b[9A\u001b[37m⠴\u001b[0m \u001b[2mPreparing packages...\u001b[0m (123/132)\n",
            "\u001b[2mpyarrow   \u001b[0m \u001b[32m------------------------------\u001b[2m\u001b[0m\u001b[0m 35.48 MiB/36.64 MiB\n",
            "\u001b[2mnvidia-cufft-cu12\u001b[0m \u001b[32m------------------\u001b[2m------------\u001b[0m\u001b[0m 67.61 MiB/116.00 MiB\n",
            "\u001b[2mnvidia-cusolver-cu12\u001b[0m \u001b[32m------------------\u001b[2m------------\u001b[0m\u001b[0m 67.49 MiB/118.41 MiB\n",
            "\u001b[2mnvidia-nccl-cu12\u001b[0m \u001b[32m-------------\u001b[2m-----------------\u001b[0m\u001b[0m 67.31 MiB/168.08 MiB\n",
            "\u001b[2mnvidia-cusparse-cu12\u001b[0m \u001b[32m-----------\u001b[2m-------------------\u001b[0m\u001b[0m 67.70 MiB/186.88 MiB\n",
            "\u001b[2mtriton    \u001b[0m \u001b[32m-----------\u001b[2m-------------------\u001b[0m\u001b[0m 68.00 MiB/199.65 MiB\n",
            "\u001b[2mnvidia-cublas-cu12\u001b[0m \u001b[32m------\u001b[2m------------------------\u001b[0m\u001b[0m 67.27 MiB/391.57 MiB\n",
            "\u001b[2mnvidia-cudnn-cu12\u001b[0m \u001b[32m----\u001b[2m--------------------------\u001b[0m\u001b[0m 65.98 MiB/633.96 MiB\n",
            "\u001b[2K\u001b[9A\u001b[37m⠴\u001b[0m \u001b[2mPreparing packages...\u001b[0m (123/132)\n",
            "\u001b[2mpyarrow   \u001b[0m \u001b[32m------------------------------\u001b[2m\u001b[0m\u001b[0m 35.48 MiB/36.64 MiB\n",
            "\u001b[2mnvidia-cufft-cu12\u001b[0m \u001b[32m------------------\u001b[2m------------\u001b[0m\u001b[0m 67.85 MiB/116.00 MiB\n",
            "\u001b[2mnvidia-cusolver-cu12\u001b[0m \u001b[32m------------------\u001b[2m------------\u001b[0m\u001b[0m 67.97 MiB/118.41 MiB\n",
            "\u001b[2mnvidia-nccl-cu12\u001b[0m \u001b[32m-------------\u001b[2m-----------------\u001b[0m\u001b[0m 67.77 MiB/168.08 MiB\n",
            "\u001b[2mnvidia-cusparse-cu12\u001b[0m \u001b[32m-----------\u001b[2m-------------------\u001b[0m\u001b[0m 68.43 MiB/186.88 MiB\n",
            "\u001b[2mtriton    \u001b[0m \u001b[32m-----------\u001b[2m-------------------\u001b[0m\u001b[0m 68.19 MiB/199.65 MiB\n",
            "\u001b[2mnvidia-cublas-cu12\u001b[0m \u001b[32m------\u001b[2m------------------------\u001b[0m\u001b[0m 67.35 MiB/391.57 MiB\n",
            "\u001b[2mnvidia-cudnn-cu12\u001b[0m \u001b[32m----\u001b[2m--------------------------\u001b[0m\u001b[0m 66.22 MiB/633.96 MiB\n",
            "\u001b[2K\u001b[9A\u001b[37m⠴\u001b[0m \u001b[2mPreparing packages...\u001b[0m (123/132)\n",
            "\u001b[2mpyarrow   \u001b[0m \u001b[32m------------------------------\u001b[2m\u001b[0m\u001b[0m 35.48 MiB/36.64 MiB\n",
            "\u001b[2mnvidia-cufft-cu12\u001b[0m \u001b[32m------------------\u001b[2m------------\u001b[0m\u001b[0m 68.32 MiB/116.00 MiB\n",
            "\u001b[2mnvidia-cusolver-cu12\u001b[0m \u001b[32m------------------\u001b[2m------------\u001b[0m\u001b[0m 68.44 MiB/118.41 MiB\n",
            "\u001b[2mnvidia-nccl-cu12\u001b[0m \u001b[32m-------------\u001b[2m-----------------\u001b[0m\u001b[0m 67.99 MiB/168.08 MiB\n",
            "\u001b[2mnvidia-cusparse-cu12\u001b[0m \u001b[32m------------\u001b[2m------------------\u001b[0m\u001b[0m 68.67 MiB/186.88 MiB\n",
            "\u001b[2mtriton    \u001b[0m \u001b[32m-----------\u001b[2m-------------------\u001b[0m\u001b[0m 68.67 MiB/199.65 MiB\n",
            "\u001b[2mnvidia-cublas-cu12\u001b[0m \u001b[32m------\u001b[2m------------------------\u001b[0m\u001b[0m 67.97 MiB/391.57 MiB\n",
            "\u001b[2mnvidia-cudnn-cu12\u001b[0m \u001b[32m----\u001b[2m--------------------------\u001b[0m\u001b[0m 66.69 MiB/633.96 MiB\n",
            "\u001b[2K\u001b[9A\u001b[37m⠴\u001b[0m \u001b[2mPreparing packages...\u001b[0m (123/132)\n",
            "\u001b[2mpyarrow   \u001b[0m \u001b[32m------------------------------\u001b[2m\u001b[0m\u001b[0m 35.48 MiB/36.64 MiB\n",
            "\u001b[2mnvidia-cufft-cu12\u001b[0m \u001b[32m------------------\u001b[2m------------\u001b[0m\u001b[0m 68.58 MiB/116.00 MiB\n",
            "\u001b[2mnvidia-cusolver-cu12\u001b[0m \u001b[32m------------------\u001b[2m------------\u001b[0m\u001b[0m 68.70 MiB/118.41 MiB\n",
            "\u001b[2mnvidia-nccl-cu12\u001b[0m \u001b[32m-------------\u001b[2m-----------------\u001b[0m\u001b[0m 68.47 MiB/168.08 MiB\n",
            "\u001b[2mnvidia-cusparse-cu12\u001b[0m \u001b[32m------------\u001b[2m------------------\u001b[0m\u001b[0m 69.15 MiB/186.88 MiB\n",
            "\u001b[2mtriton    \u001b[0m \u001b[32m-----------\u001b[2m-------------------\u001b[0m\u001b[0m 69.18 MiB/199.65 MiB\n",
            "\u001b[2mnvidia-cublas-cu12\u001b[0m \u001b[32m------\u001b[2m------------------------\u001b[0m\u001b[0m 68.28 MiB/391.57 MiB\n",
            "\u001b[2mnvidia-cudnn-cu12\u001b[0m \u001b[32m----\u001b[2m--------------------------\u001b[0m\u001b[0m 66.95 MiB/633.96 MiB\n",
            "\u001b[2K\u001b[9A\u001b[37m⠦\u001b[0m \u001b[2mPreparing packages...\u001b[0m (123/132)\n",
            "\u001b[2mpyarrow   \u001b[0m \u001b[32m------------------------------\u001b[2m\u001b[0m\u001b[0m 35.50 MiB/36.64 MiB\n",
            "\u001b[2mnvidia-cufft-cu12\u001b[0m \u001b[32m------------------\u001b[2m------------\u001b[0m\u001b[0m 69.05 MiB/116.00 MiB\n",
            "\u001b[2mnvidia-cusolver-cu12\u001b[0m \u001b[32m------------------\u001b[2m------------\u001b[0m\u001b[0m 69.21 MiB/118.41 MiB\n",
            "\u001b[2mnvidia-nccl-cu12\u001b[0m \u001b[32m-------------\u001b[2m-----------------\u001b[0m\u001b[0m 68.70 MiB/168.08 MiB\n",
            "\u001b[2mnvidia-cusparse-cu12\u001b[0m \u001b[32m------------\u001b[2m------------------\u001b[0m\u001b[0m 69.42 MiB/186.88 MiB\n",
            "\u001b[2mtriton    \u001b[0m \u001b[32m-----------\u001b[2m-------------------\u001b[0m\u001b[0m 69.42 MiB/199.65 MiB\n",
            "\u001b[2mnvidia-cublas-cu12\u001b[0m \u001b[32m------\u001b[2m------------------------\u001b[0m\u001b[0m 68.68 MiB/391.57 MiB\n",
            "\u001b[2mnvidia-cudnn-cu12\u001b[0m \u001b[32m----\u001b[2m--------------------------\u001b[0m\u001b[0m 67.34 MiB/633.96 MiB\n",
            "\u001b[2K\u001b[9A\u001b[37m⠦\u001b[0m \u001b[2mPreparing packages...\u001b[0m (123/132)\n",
            "\u001b[2mpyarrow   \u001b[0m \u001b[32m------------------------------\u001b[2m\u001b[0m\u001b[0m 35.50 MiB/36.64 MiB\n",
            "\u001b[2mnvidia-cufft-cu12\u001b[0m \u001b[32m------------------\u001b[2m------------\u001b[0m\u001b[0m 69.59 MiB/116.00 MiB\n",
            "\u001b[2mnvidia-cusolver-cu12\u001b[0m \u001b[32m------------------\u001b[2m------------\u001b[0m\u001b[0m 69.70 MiB/118.41 MiB\n",
            "\u001b[2mnvidia-nccl-cu12\u001b[0m \u001b[32m-------------\u001b[2m-----------------\u001b[0m\u001b[0m 69.21 MiB/168.08 MiB\n",
            "\u001b[2mnvidia-cusparse-cu12\u001b[0m \u001b[32m------------\u001b[2m------------------\u001b[0m\u001b[0m 69.60 MiB/186.88 MiB\n",
            "\u001b[2mtriton    \u001b[0m \u001b[32m-----------\u001b[2m-------------------\u001b[0m\u001b[0m 69.72 MiB/199.65 MiB\n",
            "\u001b[2mnvidia-cublas-cu12\u001b[0m \u001b[32m------\u001b[2m------------------------\u001b[0m\u001b[0m 68.95 MiB/391.57 MiB\n",
            "\u001b[2mnvidia-cudnn-cu12\u001b[0m \u001b[32m----\u001b[2m--------------------------\u001b[0m\u001b[0m 67.53 MiB/633.96 MiB\n",
            "\u001b[2K\u001b[9A\u001b[37m⠦\u001b[0m \u001b[2mPreparing packages...\u001b[0m (123/132)\n",
            "\u001b[2mpyarrow   \u001b[0m \u001b[32m------------------------------\u001b[2m\u001b[0m\u001b[0m 35.50 MiB/36.64 MiB\n",
            "\u001b[2mnvidia-cufft-cu12\u001b[0m \u001b[32m-------------------\u001b[2m-----------\u001b[0m\u001b[0m 69.78 MiB/116.00 MiB\n",
            "\u001b[2mnvidia-cusolver-cu12\u001b[0m \u001b[32m------------------\u001b[2m------------\u001b[0m\u001b[0m 69.93 MiB/118.41 MiB\n",
            "\u001b[2mnvidia-nccl-cu12\u001b[0m \u001b[32m-------------\u001b[2m-----------------\u001b[0m\u001b[0m 69.42 MiB/168.08 MiB\n",
            "\u001b[2mnvidia-cusparse-cu12\u001b[0m \u001b[32m------------\u001b[2m------------------\u001b[0m\u001b[0m 70.12 MiB/186.88 MiB\n",
            "\u001b[2mtriton    \u001b[0m \u001b[32m-----------\u001b[2m-------------------\u001b[0m\u001b[0m 70.14 MiB/199.65 MiB\n",
            "\u001b[2mnvidia-cublas-cu12\u001b[0m \u001b[32m------\u001b[2m------------------------\u001b[0m\u001b[0m 69.42 MiB/391.57 MiB\n",
            "\u001b[2mnvidia-cudnn-cu12\u001b[0m \u001b[32m----\u001b[2m--------------------------\u001b[0m\u001b[0m 68.02 MiB/633.96 MiB\n",
            "\u001b[2K\u001b[9A\u001b[37m⠦\u001b[0m \u001b[2mPreparing packages...\u001b[0m (123/132)\n",
            "\u001b[2mpyarrow   \u001b[0m \u001b[32m------------------------------\u001b[2m\u001b[0m\u001b[0m 35.50 MiB/36.64 MiB\n",
            "\u001b[2mnvidia-cufft-cu12\u001b[0m \u001b[32m-------------------\u001b[2m-----------\u001b[0m\u001b[0m 69.98 MiB/116.00 MiB\n",
            "\u001b[2mnvidia-cusolver-cu12\u001b[0m \u001b[32m------------------\u001b[2m------------\u001b[0m\u001b[0m 70.32 MiB/118.41 MiB\n",
            "\u001b[2mnvidia-nccl-cu12\u001b[0m \u001b[32m-------------\u001b[2m-----------------\u001b[0m\u001b[0m 69.93 MiB/168.08 MiB\n",
            "\u001b[2mnvidia-cusparse-cu12\u001b[0m \u001b[32m------------\u001b[2m------------------\u001b[0m\u001b[0m 70.60 MiB/186.88 MiB\n",
            "\u001b[2mtriton    \u001b[0m \u001b[32m-----------\u001b[2m-------------------\u001b[0m\u001b[0m 70.69 MiB/199.65 MiB\n",
            "\u001b[2mnvidia-cublas-cu12\u001b[0m \u001b[32m------\u001b[2m------------------------\u001b[0m\u001b[0m 69.89 MiB/391.57 MiB\n",
            "\u001b[2mnvidia-cudnn-cu12\u001b[0m \u001b[32m----\u001b[2m--------------------------\u001b[0m\u001b[0m 68.31 MiB/633.96 MiB\n",
            "\u001b[2K\u001b[9A\u001b[37m⠧\u001b[0m \u001b[2mPreparing packages...\u001b[0m (123/132)\n",
            "\u001b[2mpyarrow   \u001b[0m \u001b[32m------------------------------\u001b[2m\u001b[0m\u001b[0m 35.50 MiB/36.64 MiB\n",
            "\u001b[2mnvidia-cufft-cu12\u001b[0m \u001b[32m-------------------\u001b[2m-----------\u001b[0m\u001b[0m 70.46 MiB/116.00 MiB\n",
            "\u001b[2mnvidia-cusolver-cu12\u001b[0m \u001b[32m------------------\u001b[2m------------\u001b[0m\u001b[0m 70.70 MiB/118.41 MiB\n",
            "\u001b[2mnvidia-nccl-cu12\u001b[0m \u001b[32m-------------\u001b[2m-----------------\u001b[0m\u001b[0m 70.18 MiB/168.08 MiB\n",
            "\u001b[2mnvidia-cusparse-cu12\u001b[0m \u001b[32m------------\u001b[2m------------------\u001b[0m\u001b[0m 70.83 MiB/186.88 MiB\n",
            "\u001b[2mtriton    \u001b[0m \u001b[32m-----------\u001b[2m-------------------\u001b[0m\u001b[0m 70.95 MiB/199.65 MiB\n",
            "\u001b[2mnvidia-cublas-cu12\u001b[0m \u001b[32m------\u001b[2m------------------------\u001b[0m\u001b[0m 70.21 MiB/391.57 MiB\n",
            "\u001b[2mnvidia-cudnn-cu12\u001b[0m \u001b[32m----\u001b[2m--------------------------\u001b[0m\u001b[0m 68.72 MiB/633.96 MiB\n",
            "\u001b[2K\u001b[9A\u001b[37m⠧\u001b[0m \u001b[2mPreparing packages...\u001b[0m (123/132)\n",
            "\u001b[2mpyarrow   \u001b[0m \u001b[32m------------------------------\u001b[2m\u001b[0m\u001b[0m 35.50 MiB/36.64 MiB\n",
            "\u001b[2mnvidia-cufft-cu12\u001b[0m \u001b[32m-------------------\u001b[2m-----------\u001b[0m\u001b[0m 70.90 MiB/116.00 MiB\n",
            "\u001b[2mnvidia-cusolver-cu12\u001b[0m \u001b[32m-------------------\u001b[2m-----------\u001b[0m\u001b[0m 71.15 MiB/118.41 MiB\n",
            "\u001b[2mnvidia-nccl-cu12\u001b[0m \u001b[32m-------------\u001b[2m-----------------\u001b[0m\u001b[0m 70.43 MiB/168.08 MiB\n",
            "\u001b[2mnvidia-cusparse-cu12\u001b[0m \u001b[32m------------\u001b[2m------------------\u001b[0m\u001b[0m 71.36 MiB/186.88 MiB\n",
            "\u001b[2mtriton    \u001b[0m \u001b[32m-----------\u001b[2m-------------------\u001b[0m\u001b[0m 71.39 MiB/199.65 MiB\n",
            "\u001b[2mnvidia-cublas-cu12\u001b[0m \u001b[32m------\u001b[2m------------------------\u001b[0m\u001b[0m 70.66 MiB/391.57 MiB\n",
            "\u001b[2mnvidia-cudnn-cu12\u001b[0m \u001b[32m----\u001b[2m--------------------------\u001b[0m\u001b[0m 68.97 MiB/633.96 MiB\n",
            "\u001b[2K\u001b[9A\u001b[37m⠧\u001b[0m \u001b[2mPreparing packages...\u001b[0m (123/132)\n",
            "\u001b[2mpyarrow   \u001b[0m \u001b[32m------------------------------\u001b[2m\u001b[0m\u001b[0m 35.50 MiB/36.64 MiB\n",
            "\u001b[2mnvidia-cufft-cu12\u001b[0m \u001b[32m-------------------\u001b[2m-----------\u001b[0m\u001b[0m 71.41 MiB/116.00 MiB\n",
            "\u001b[2mnvidia-cusolver-cu12\u001b[0m \u001b[32m-------------------\u001b[2m-----------\u001b[0m\u001b[0m 71.33 MiB/118.41 MiB\n",
            "\u001b[2mnvidia-nccl-cu12\u001b[0m \u001b[32m-------------\u001b[2m-----------------\u001b[0m\u001b[0m 70.93 MiB/168.08 MiB\n",
            "\u001b[2mnvidia-cusparse-cu12\u001b[0m \u001b[32m------------\u001b[2m------------------\u001b[0m\u001b[0m 71.60 MiB/186.88 MiB\n",
            "\u001b[2mtriton    \u001b[0m \u001b[32m-----------\u001b[2m-------------------\u001b[0m\u001b[0m 71.62 MiB/199.65 MiB\n",
            "\u001b[2mnvidia-cublas-cu12\u001b[0m \u001b[32m------\u001b[2m------------------------\u001b[0m\u001b[0m 70.88 MiB/391.57 MiB\n",
            "\u001b[2mnvidia-cudnn-cu12\u001b[0m \u001b[32m----\u001b[2m--------------------------\u001b[0m\u001b[0m 69.43 MiB/633.96 MiB\n",
            "\u001b[2K\u001b[9A\u001b[37m⠧\u001b[0m \u001b[2mPreparing packages...\u001b[0m (123/132)\n",
            "\u001b[2mpyarrow   \u001b[0m \u001b[32m------------------------------\u001b[2m\u001b[0m\u001b[0m 35.50 MiB/36.64 MiB\n",
            "\u001b[2mnvidia-cufft-cu12\u001b[0m \u001b[32m-------------------\u001b[2m-----------\u001b[0m\u001b[0m 71.61 MiB/116.00 MiB\n",
            "\u001b[2mnvidia-cusolver-cu12\u001b[0m \u001b[32m-------------------\u001b[2m-----------\u001b[0m\u001b[0m 71.78 MiB/118.41 MiB\n",
            "\u001b[2mnvidia-nccl-cu12\u001b[0m \u001b[32m-------------\u001b[2m-----------------\u001b[0m\u001b[0m 71.29 MiB/168.08 MiB\n",
            "\u001b[2mnvidia-cusparse-cu12\u001b[0m \u001b[32m------------\u001b[2m------------------\u001b[0m\u001b[0m 71.88 MiB/186.88 MiB\n",
            "\u001b[2mtriton    \u001b[0m \u001b[32m-----------\u001b[2m-------------------\u001b[0m\u001b[0m 71.89 MiB/199.65 MiB\n",
            "\u001b[2mnvidia-cublas-cu12\u001b[0m \u001b[32m------\u001b[2m------------------------\u001b[0m\u001b[0m 71.36 MiB/391.57 MiB\n",
            "\u001b[2mnvidia-cudnn-cu12\u001b[0m \u001b[32m----\u001b[2m--------------------------\u001b[0m\u001b[0m 69.90 MiB/633.96 MiB\n",
            "\u001b[2K\u001b[9A\u001b[37m⠇\u001b[0m \u001b[2mPreparing packages...\u001b[0m (123/132)\n",
            "\u001b[2mpyarrow   \u001b[0m \u001b[32m------------------------------\u001b[2m\u001b[0m\u001b[0m 35.52 MiB/36.64 MiB\n",
            "\u001b[2mnvidia-cufft-cu12\u001b[0m \u001b[32m-------------------\u001b[2m-----------\u001b[0m\u001b[0m 72.09 MiB/116.00 MiB\n",
            "\u001b[2mnvidia-cusolver-cu12\u001b[0m \u001b[32m-------------------\u001b[2m-----------\u001b[0m\u001b[0m 72.00 MiB/118.41 MiB\n",
            "\u001b[2mnvidia-nccl-cu12\u001b[0m \u001b[32m-------------\u001b[2m-----------------\u001b[0m\u001b[0m 71.71 MiB/168.08 MiB\n",
            "\u001b[2mnvidia-cusparse-cu12\u001b[0m \u001b[32m------------\u001b[2m------------------\u001b[0m\u001b[0m 72.36 MiB/186.88 MiB\n",
            "\u001b[2mtriton    \u001b[0m \u001b[32m-----------\u001b[2m-------------------\u001b[0m\u001b[0m 72.56 MiB/199.65 MiB\n",
            "\u001b[2mnvidia-cublas-cu12\u001b[0m \u001b[32m------\u001b[2m------------------------\u001b[0m\u001b[0m 71.61 MiB/391.57 MiB\n",
            "\u001b[2mnvidia-cudnn-cu12\u001b[0m \u001b[32m----\u001b[2m--------------------------\u001b[0m\u001b[0m 70.11 MiB/633.96 MiB\n",
            "\u001b[2K\u001b[9A\u001b[37m⠇\u001b[0m \u001b[2mPreparing packages...\u001b[0m (123/132)\n",
            "\u001b[2mpyarrow   \u001b[0m \u001b[32m------------------------------\u001b[2m\u001b[0m\u001b[0m 35.52 MiB/36.64 MiB\n",
            "\u001b[2mnvidia-cufft-cu12\u001b[0m \u001b[32m-------------------\u001b[2m-----------\u001b[0m\u001b[0m 72.34 MiB/116.00 MiB\n",
            "\u001b[2mnvidia-cusolver-cu12\u001b[0m \u001b[32m-------------------\u001b[2m-----------\u001b[0m\u001b[0m 72.23 MiB/118.41 MiB\n",
            "\u001b[2mnvidia-nccl-cu12\u001b[0m \u001b[32m-------------\u001b[2m-----------------\u001b[0m\u001b[0m 72.00 MiB/168.08 MiB\n",
            "\u001b[2mnvidia-cusparse-cu12\u001b[0m \u001b[32m------------\u001b[2m------------------\u001b[0m\u001b[0m 72.83 MiB/186.88 MiB\n",
            "\u001b[2mtriton    \u001b[0m \u001b[32m-----------\u001b[2m-------------------\u001b[0m\u001b[0m 72.78 MiB/199.65 MiB\n",
            "\u001b[2mnvidia-cublas-cu12\u001b[0m \u001b[32m------\u001b[2m------------------------\u001b[0m\u001b[0m 72.10 MiB/391.57 MiB\n",
            "\u001b[2mnvidia-cudnn-cu12\u001b[0m \u001b[32m----\u001b[2m--------------------------\u001b[0m\u001b[0m 70.58 MiB/633.96 MiB\n",
            "\u001b[2K\u001b[9A\u001b[37m⠇\u001b[0m \u001b[2mPreparing packages...\u001b[0m (123/132)\n",
            "\u001b[2mpyarrow   \u001b[0m \u001b[32m------------------------------\u001b[2m\u001b[0m\u001b[0m 35.52 MiB/36.64 MiB\n",
            "\u001b[2mnvidia-cufft-cu12\u001b[0m \u001b[32m-------------------\u001b[2m-----------\u001b[0m\u001b[0m 72.90 MiB/116.00 MiB\n",
            "\u001b[2mnvidia-cusolver-cu12\u001b[0m \u001b[32m-------------------\u001b[2m-----------\u001b[0m\u001b[0m 72.71 MiB/118.41 MiB\n",
            "\u001b[2mnvidia-nccl-cu12\u001b[0m \u001b[32m-------------\u001b[2m-----------------\u001b[0m\u001b[0m 72.44 MiB/168.08 MiB\n",
            "\u001b[2mnvidia-cusparse-cu12\u001b[0m \u001b[32m------------\u001b[2m------------------\u001b[0m\u001b[0m 73.05 MiB/186.88 MiB\n",
            "\u001b[2mtriton    \u001b[0m \u001b[32m------------\u001b[2m------------------\u001b[0m\u001b[0m 73.22 MiB/199.65 MiB\n",
            "\u001b[2mnvidia-cublas-cu12\u001b[0m \u001b[32m------\u001b[2m------------------------\u001b[0m\u001b[0m 72.33 MiB/391.57 MiB\n",
            "\u001b[2mnvidia-cudnn-cu12\u001b[0m \u001b[32m----\u001b[2m--------------------------\u001b[0m\u001b[0m 70.83 MiB/633.96 MiB\n",
            "\u001b[2K\u001b[9A\u001b[37m⠇\u001b[0m \u001b[2mPreparing packages...\u001b[0m (123/132)\n",
            "\u001b[2mpyarrow   \u001b[0m \u001b[32m------------------------------\u001b[2m\u001b[0m\u001b[0m 35.52 MiB/36.64 MiB\n",
            "\u001b[2mnvidia-cufft-cu12\u001b[0m \u001b[32m-------------------\u001b[2m-----------\u001b[0m\u001b[0m 73.04 MiB/116.00 MiB\n",
            "\u001b[2mnvidia-cusolver-cu12\u001b[0m \u001b[32m-------------------\u001b[2m-----------\u001b[0m\u001b[0m 73.21 MiB/118.41 MiB\n",
            "\u001b[2mnvidia-nccl-cu12\u001b[0m \u001b[32m--------------\u001b[2m----------------\u001b[0m\u001b[0m 72.88 MiB/168.08 MiB\n",
            "\u001b[2mnvidia-cusparse-cu12\u001b[0m \u001b[32m------------\u001b[2m------------------\u001b[0m\u001b[0m 73.27 MiB/186.88 MiB\n",
            "\u001b[2mtriton    \u001b[0m \u001b[32m------------\u001b[2m------------------\u001b[0m\u001b[0m 73.52 MiB/199.65 MiB\n",
            "\u001b[2mnvidia-cublas-cu12\u001b[0m \u001b[32m------\u001b[2m------------------------\u001b[0m\u001b[0m 72.82 MiB/391.57 MiB\n",
            "\u001b[2mnvidia-cudnn-cu12\u001b[0m \u001b[32m----\u001b[2m--------------------------\u001b[0m\u001b[0m 71.03 MiB/633.96 MiB\n",
            "\u001b[2K\u001b[9A\u001b[37m⠋\u001b[0m \u001b[2mPreparing packages...\u001b[0m (123/132)\n",
            "\u001b[2mpyarrow   \u001b[0m \u001b[32m------------------------------\u001b[2m\u001b[0m\u001b[0m 35.53 MiB/36.64 MiB\n",
            "\u001b[2mnvidia-cufft-cu12\u001b[0m \u001b[32m-------------------\u001b[2m-----------\u001b[0m\u001b[0m 73.31 MiB/116.00 MiB\n",
            "\u001b[2mnvidia-cusolver-cu12\u001b[0m \u001b[32m-------------------\u001b[2m-----------\u001b[0m\u001b[0m 73.49 MiB/118.41 MiB\n",
            "\u001b[2mnvidia-nccl-cu12\u001b[0m \u001b[32m--------------\u001b[2m----------------\u001b[0m\u001b[0m 73.16 MiB/168.08 MiB\n",
            "\u001b[2mnvidia-cusparse-cu12\u001b[0m \u001b[32m------------\u001b[2m------------------\u001b[0m\u001b[0m 73.78 MiB/186.88 MiB\n",
            "\u001b[2mtriton    \u001b[0m \u001b[32m------------\u001b[2m------------------\u001b[0m\u001b[0m 73.74 MiB/199.65 MiB\n",
            "\u001b[2mnvidia-cublas-cu12\u001b[0m \u001b[32m------\u001b[2m------------------------\u001b[0m\u001b[0m 73.00 MiB/391.57 MiB\n",
            "\u001b[2mnvidia-cudnn-cu12\u001b[0m \u001b[32m----\u001b[2m--------------------------\u001b[0m\u001b[0m 71.76 MiB/633.96 MiB\n",
            "\u001b[2K\u001b[9A\u001b[37m⠋\u001b[0m \u001b[2mPreparing packages...\u001b[0m (123/132)\n",
            "\u001b[2mpyarrow   \u001b[0m \u001b[32m------------------------------\u001b[2m\u001b[0m\u001b[0m 35.53 MiB/36.64 MiB\n",
            "\u001b[2mnvidia-cufft-cu12\u001b[0m \u001b[32m--------------------\u001b[2m----------\u001b[0m\u001b[0m 73.85 MiB/116.00 MiB\n",
            "\u001b[2mnvidia-cusolver-cu12\u001b[0m \u001b[32m-------------------\u001b[2m-----------\u001b[0m\u001b[0m 73.98 MiB/118.41 MiB\n",
            "\u001b[2mnvidia-nccl-cu12\u001b[0m \u001b[32m--------------\u001b[2m----------------\u001b[0m\u001b[0m 73.64 MiB/168.08 MiB\n",
            "\u001b[2mnvidia-cusparse-cu12\u001b[0m \u001b[32m------------\u001b[2m------------------\u001b[0m\u001b[0m 73.98 MiB/186.88 MiB\n",
            "\u001b[2mtriton    \u001b[0m \u001b[32m------------\u001b[2m------------------\u001b[0m\u001b[0m 74.27 MiB/199.65 MiB\n",
            "\u001b[2mnvidia-cublas-cu12\u001b[0m \u001b[32m------\u001b[2m------------------------\u001b[0m\u001b[0m 73.48 MiB/391.57 MiB\n",
            "\u001b[2mnvidia-cudnn-cu12\u001b[0m \u001b[32m----\u001b[2m--------------------------\u001b[0m\u001b[0m 71.97 MiB/633.96 MiB\n",
            "\u001b[2K\u001b[9A\u001b[37m⠋\u001b[0m \u001b[2mPreparing packages...\u001b[0m (123/132)\n",
            "\u001b[2mpyarrow   \u001b[0m \u001b[32m------------------------------\u001b[2m\u001b[0m\u001b[0m 35.53 MiB/36.64 MiB\n",
            "\u001b[2mnvidia-cufft-cu12\u001b[0m \u001b[32m--------------------\u001b[2m----------\u001b[0m\u001b[0m 74.06 MiB/116.00 MiB\n",
            "\u001b[2mnvidia-cusolver-cu12\u001b[0m \u001b[32m-------------------\u001b[2m-----------\u001b[0m\u001b[0m 74.34 MiB/118.41 MiB\n",
            "\u001b[2mnvidia-nccl-cu12\u001b[0m \u001b[32m--------------\u001b[2m----------------\u001b[0m\u001b[0m 73.84 MiB/168.08 MiB\n",
            "\u001b[2mnvidia-cusparse-cu12\u001b[0m \u001b[32m------------\u001b[2m------------------\u001b[0m\u001b[0m 74.49 MiB/186.88 MiB\n",
            "\u001b[2mtriton    \u001b[0m \u001b[32m------------\u001b[2m------------------\u001b[0m\u001b[0m 74.55 MiB/199.65 MiB\n",
            "\u001b[2mnvidia-cublas-cu12\u001b[0m \u001b[32m------\u001b[2m------------------------\u001b[0m\u001b[0m 73.73 MiB/391.57 MiB\n",
            "\u001b[2mnvidia-cudnn-cu12\u001b[0m \u001b[32m----\u001b[2m--------------------------\u001b[0m\u001b[0m 72.24 MiB/633.96 MiB\n",
            "\u001b[2K\u001b[9A\u001b[37m⠋\u001b[0m \u001b[2mPreparing packages...\u001b[0m (123/132)\n",
            "\u001b[2mpyarrow   \u001b[0m \u001b[32m------------------------------\u001b[2m\u001b[0m\u001b[0m 35.53 MiB/36.64 MiB\n",
            "\u001b[2mnvidia-cufft-cu12\u001b[0m \u001b[32m--------------------\u001b[2m----------\u001b[0m\u001b[0m 74.60 MiB/116.00 MiB\n",
            "\u001b[2mnvidia-cusolver-cu12\u001b[0m \u001b[32m-------------------\u001b[2m-----------\u001b[0m\u001b[0m 74.71 MiB/118.41 MiB\n",
            "\u001b[2mnvidia-nccl-cu12\u001b[0m \u001b[32m--------------\u001b[2m----------------\u001b[0m\u001b[0m 74.33 MiB/168.08 MiB\n",
            "\u001b[2mnvidia-cusparse-cu12\u001b[0m \u001b[32m------------\u001b[2m------------------\u001b[0m\u001b[0m 74.70 MiB/186.88 MiB\n",
            "\u001b[2mtriton    \u001b[0m \u001b[32m------------\u001b[2m------------------\u001b[0m\u001b[0m 74.93 MiB/199.65 MiB\n",
            "\u001b[2mnvidia-cublas-cu12\u001b[0m \u001b[32m------\u001b[2m------------------------\u001b[0m\u001b[0m 73.96 MiB/391.57 MiB\n",
            "\u001b[2mnvidia-cudnn-cu12\u001b[0m \u001b[32m----\u001b[2m--------------------------\u001b[0m\u001b[0m 72.72 MiB/633.96 MiB\n",
            "\u001b[2K\u001b[9A\u001b[37m⠙\u001b[0m \u001b[2mPreparing packages...\u001b[0m (123/132)\n",
            "\u001b[2mpyarrow   \u001b[0m \u001b[32m------------------------------\u001b[2m\u001b[0m\u001b[0m 35.53 MiB/36.64 MiB\n",
            "\u001b[2mnvidia-cufft-cu12\u001b[0m \u001b[32m--------------------\u001b[2m----------\u001b[0m\u001b[0m 74.80 MiB/116.00 MiB\n",
            "\u001b[2mnvidia-cusolver-cu12\u001b[0m \u001b[32m--------------------\u001b[2m----------\u001b[0m\u001b[0m 75.21 MiB/118.41 MiB\n",
            "\u001b[2mnvidia-nccl-cu12\u001b[0m \u001b[32m--------------\u001b[2m----------------\u001b[0m\u001b[0m 74.60 MiB/168.08 MiB\n",
            "\u001b[2mnvidia-cusparse-cu12\u001b[0m \u001b[32m-------------\u001b[2m-----------------\u001b[0m\u001b[0m 75.22 MiB/186.88 MiB\n",
            "\u001b[2mtriton    \u001b[0m \u001b[32m------------\u001b[2m------------------\u001b[0m\u001b[0m 75.52 MiB/199.65 MiB\n",
            "\u001b[2mnvidia-cublas-cu12\u001b[0m \u001b[32m------\u001b[2m------------------------\u001b[0m\u001b[0m 74.44 MiB/391.57 MiB\n",
            "\u001b[2mnvidia-cudnn-cu12\u001b[0m \u001b[32m----\u001b[2m--------------------------\u001b[0m\u001b[0m 72.95 MiB/633.96 MiB\n",
            "\u001b[2K\u001b[9A\u001b[37m⠙\u001b[0m \u001b[2mPreparing packages...\u001b[0m (123/132)\n",
            "\u001b[2mpyarrow   \u001b[0m \u001b[32m------------------------------\u001b[2m\u001b[0m\u001b[0m 35.53 MiB/36.64 MiB\n",
            "\u001b[2mnvidia-cufft-cu12\u001b[0m \u001b[32m--------------------\u001b[2m----------\u001b[0m\u001b[0m 75.28 MiB/116.00 MiB\n",
            "\u001b[2mnvidia-cusolver-cu12\u001b[0m \u001b[32m--------------------\u001b[2m----------\u001b[0m\u001b[0m 75.43 MiB/118.41 MiB\n",
            "\u001b[2mnvidia-nccl-cu12\u001b[0m \u001b[32m--------------\u001b[2m----------------\u001b[0m\u001b[0m 74.98 MiB/168.08 MiB\n",
            "\u001b[2mnvidia-cusparse-cu12\u001b[0m \u001b[32m-------------\u001b[2m-----------------\u001b[0m\u001b[0m 75.75 MiB/186.88 MiB\n",
            "\u001b[2mtriton    \u001b[0m \u001b[32m------------\u001b[2m------------------\u001b[0m\u001b[0m 75.79 MiB/199.65 MiB\n",
            "\u001b[2mnvidia-cublas-cu12\u001b[0m \u001b[32m------\u001b[2m------------------------\u001b[0m\u001b[0m 74.90 MiB/391.57 MiB\n",
            "\u001b[2mnvidia-cudnn-cu12\u001b[0m \u001b[32m----\u001b[2m--------------------------\u001b[0m\u001b[0m 73.41 MiB/633.96 MiB\n",
            "\u001b[2K\u001b[9A\u001b[37m⠙\u001b[0m \u001b[2mPreparing packages...\u001b[0m (123/132)\n",
            "\u001b[2mpyarrow   \u001b[0m \u001b[32m------------------------------\u001b[2m\u001b[0m\u001b[0m 35.55 MiB/36.64 MiB\n",
            "\u001b[2mnvidia-cufft-cu12\u001b[0m \u001b[32m--------------------\u001b[2m----------\u001b[0m\u001b[0m 75.53 MiB/116.00 MiB\n",
            "\u001b[2mnvidia-cusolver-cu12\u001b[0m \u001b[32m--------------------\u001b[2m----------\u001b[0m\u001b[0m 75.67 MiB/118.41 MiB\n",
            "\u001b[2mnvidia-nccl-cu12\u001b[0m \u001b[32m--------------\u001b[2m----------------\u001b[0m\u001b[0m 75.48 MiB/168.08 MiB\n",
            "\u001b[2mnvidia-cusparse-cu12\u001b[0m \u001b[32m-------------\u001b[2m-----------------\u001b[0m\u001b[0m 76.24 MiB/186.88 MiB\n",
            "\u001b[2mtriton    \u001b[0m \u001b[32m------------\u001b[2m------------------\u001b[0m\u001b[0m 76.26 MiB/199.65 MiB\n",
            "\u001b[2mnvidia-cublas-cu12\u001b[0m \u001b[32m------\u001b[2m------------------------\u001b[0m\u001b[0m 75.44 MiB/391.57 MiB\n",
            "\u001b[2mnvidia-cudnn-cu12\u001b[0m \u001b[32m----\u001b[2m--------------------------\u001b[0m\u001b[0m 73.86 MiB/633.96 MiB\n",
            "\u001b[2K\u001b[9A\u001b[37m⠙\u001b[0m \u001b[2mPreparing packages...\u001b[0m (123/132)\n",
            "\u001b[2mpyarrow   \u001b[0m \u001b[32m------------------------------\u001b[2m\u001b[0m\u001b[0m 35.55 MiB/36.64 MiB\n",
            "\u001b[2mnvidia-cufft-cu12\u001b[0m \u001b[32m--------------------\u001b[2m----------\u001b[0m\u001b[0m 76.27 MiB/116.00 MiB\n",
            "\u001b[2mnvidia-cusolver-cu12\u001b[0m \u001b[32m--------------------\u001b[2m----------\u001b[0m\u001b[0m 76.21 MiB/118.41 MiB\n",
            "\u001b[2mnvidia-nccl-cu12\u001b[0m \u001b[32m--------------\u001b[2m----------------\u001b[0m\u001b[0m 75.75 MiB/168.08 MiB\n",
            "\u001b[2mnvidia-cusparse-cu12\u001b[0m \u001b[32m-------------\u001b[2m-----------------\u001b[0m\u001b[0m 76.45 MiB/186.88 MiB\n",
            "\u001b[2mtriton    \u001b[0m \u001b[32m------------\u001b[2m------------------\u001b[0m\u001b[0m 76.57 MiB/199.65 MiB\n",
            "\u001b[2mnvidia-cublas-cu12\u001b[0m \u001b[32m------\u001b[2m------------------------\u001b[0m\u001b[0m 75.68 MiB/391.57 MiB\n",
            "\u001b[2mnvidia-cudnn-cu12\u001b[0m \u001b[32m----\u001b[2m--------------------------\u001b[0m\u001b[0m 74.11 MiB/633.96 MiB\n",
            "\u001b[2K\u001b[9A\u001b[37m⠹\u001b[0m \u001b[2mPreparing packages...\u001b[0m (123/132)\n",
            "\u001b[2mpyarrow   \u001b[0m \u001b[32m------------------------------\u001b[2m\u001b[0m\u001b[0m 35.55 MiB/36.64 MiB\n",
            "\u001b[2mnvidia-cufft-cu12\u001b[0m \u001b[32m--------------------\u001b[2m----------\u001b[0m\u001b[0m 76.55 MiB/116.00 MiB\n",
            "\u001b[2mnvidia-cusolver-cu12\u001b[0m \u001b[32m--------------------\u001b[2m----------\u001b[0m\u001b[0m 76.71 MiB/118.41 MiB\n",
            "\u001b[2mnvidia-nccl-cu12\u001b[0m \u001b[32m--------------\u001b[2m----------------\u001b[0m\u001b[0m 75.95 MiB/168.08 MiB\n",
            "\u001b[2mnvidia-cusparse-cu12\u001b[0m \u001b[32m-------------\u001b[2m-----------------\u001b[0m\u001b[0m 76.95 MiB/186.88 MiB\n",
            "\u001b[2mtriton    \u001b[0m \u001b[32m------------\u001b[2m------------------\u001b[0m\u001b[0m 76.98 MiB/199.65 MiB\n",
            "\u001b[2mnvidia-cublas-cu12\u001b[0m \u001b[32m------\u001b[2m------------------------\u001b[0m\u001b[0m 76.13 MiB/391.57 MiB\n",
            "\u001b[2mnvidia-cudnn-cu12\u001b[0m \u001b[32m----\u001b[2m--------------------------\u001b[0m\u001b[0m 74.62 MiB/633.96 MiB\n",
            "\u001b[2K\u001b[9A\u001b[37m⠹\u001b[0m \u001b[2mPreparing packages...\u001b[0m (123/132)\n",
            "\u001b[2mpyarrow   \u001b[0m \u001b[32m------------------------------\u001b[2m\u001b[0m\u001b[0m 35.55 MiB/36.64 MiB\n",
            "\u001b[2mnvidia-cufft-cu12\u001b[0m \u001b[32m--------------------\u001b[2m----------\u001b[0m\u001b[0m 76.98 MiB/116.00 MiB\n",
            "\u001b[2mnvidia-cusolver-cu12\u001b[0m \u001b[32m--------------------\u001b[2m----------\u001b[0m\u001b[0m 76.95 MiB/118.41 MiB\n",
            "\u001b[2mnvidia-nccl-cu12\u001b[0m \u001b[32m--------------\u001b[2m----------------\u001b[0m\u001b[0m 76.47 MiB/168.08 MiB\n",
            "\u001b[2mnvidia-cusparse-cu12\u001b[0m \u001b[32m-------------\u001b[2m-----------------\u001b[0m\u001b[0m 77.42 MiB/186.88 MiB\n",
            "\u001b[2mtriton    \u001b[0m \u001b[32m------------\u001b[2m------------------\u001b[0m\u001b[0m 77.48 MiB/199.65 MiB\n",
            "\u001b[2mnvidia-cublas-cu12\u001b[0m \u001b[32m------\u001b[2m------------------------\u001b[0m\u001b[0m 76.40 MiB/391.57 MiB\n",
            "\u001b[2mnvidia-cudnn-cu12\u001b[0m \u001b[32m----\u001b[2m--------------------------\u001b[0m\u001b[0m 75.11 MiB/633.96 MiB\n",
            "\u001b[2K\u001b[9A\u001b[37m⠹\u001b[0m \u001b[2mPreparing packages...\u001b[0m (123/132)\n",
            "\u001b[2mpyarrow   \u001b[0m \u001b[32m------------------------------\u001b[2m\u001b[0m\u001b[0m 35.56 MiB/36.64 MiB\n",
            "\u001b[2mnvidia-cufft-cu12\u001b[0m \u001b[32m--------------------\u001b[2m----------\u001b[0m\u001b[0m 77.20 MiB/116.00 MiB\n",
            "\u001b[2mnvidia-cusolver-cu12\u001b[0m \u001b[32m--------------------\u001b[2m----------\u001b[0m\u001b[0m 77.50 MiB/118.41 MiB\n",
            "\u001b[2mnvidia-nccl-cu12\u001b[0m \u001b[32m--------------\u001b[2m----------------\u001b[0m\u001b[0m 77.00 MiB/168.08 MiB\n",
            "\u001b[2mnvidia-cusparse-cu12\u001b[0m \u001b[32m-------------\u001b[2m-----------------\u001b[0m\u001b[0m 77.71 MiB/186.88 MiB\n",
            "\u001b[2mtriton    \u001b[0m \u001b[32m------------\u001b[2m------------------\u001b[0m\u001b[0m 78.00 MiB/199.65 MiB\n",
            "\u001b[2mnvidia-cublas-cu12\u001b[0m \u001b[32m------\u001b[2m------------------------\u001b[0m\u001b[0m 76.87 MiB/391.57 MiB\n",
            "\u001b[2mnvidia-cudnn-cu12\u001b[0m \u001b[32m----\u001b[2m--------------------------\u001b[0m\u001b[0m 75.31 MiB/633.96 MiB\n",
            "\u001b[2K\u001b[9A\u001b[37m⠹\u001b[0m \u001b[2mPreparing packages...\u001b[0m (123/132)\n",
            "\u001b[2mpyarrow   \u001b[0m \u001b[32m------------------------------\u001b[2m\u001b[0m\u001b[0m 35.56 MiB/36.64 MiB\n",
            "\u001b[2mnvidia-cufft-cu12\u001b[0m \u001b[32m---------------------\u001b[2m---------\u001b[0m\u001b[0m 77.71 MiB/116.00 MiB\n",
            "\u001b[2mnvidia-cusolver-cu12\u001b[0m \u001b[32m--------------------\u001b[2m----------\u001b[0m\u001b[0m 78.00 MiB/118.41 MiB\n",
            "\u001b[2mnvidia-nccl-cu12\u001b[0m \u001b[32m--------------\u001b[2m----------------\u001b[0m\u001b[0m 77.47 MiB/168.08 MiB\n",
            "\u001b[2mnvidia-cusparse-cu12\u001b[0m \u001b[32m-------------\u001b[2m-----------------\u001b[0m\u001b[0m 78.04 MiB/186.88 MiB\n",
            "\u001b[2mtriton    \u001b[0m \u001b[32m------------\u001b[2m------------------\u001b[0m\u001b[0m 78.27 MiB/199.65 MiB\n",
            "\u001b[2mnvidia-cublas-cu12\u001b[0m \u001b[32m------\u001b[2m------------------------\u001b[0m\u001b[0m 77.38 MiB/391.57 MiB\n",
            "\u001b[2mnvidia-cudnn-cu12\u001b[0m \u001b[32m----\u001b[2m--------------------------\u001b[0m\u001b[0m 75.83 MiB/633.96 MiB\n",
            "\u001b[2K\u001b[9A\u001b[37m⠸\u001b[0m \u001b[2mPreparing packages...\u001b[0m (123/132)\n",
            "\u001b[2mpyarrow   \u001b[0m \u001b[32m------------------------------\u001b[2m\u001b[0m\u001b[0m 35.58 MiB/36.64 MiB\n",
            "\u001b[2mnvidia-cufft-cu12\u001b[0m \u001b[32m---------------------\u001b[2m---------\u001b[0m\u001b[0m 78.17 MiB/116.00 MiB\n",
            "\u001b[2mnvidia-cusolver-cu12\u001b[0m \u001b[32m--------------------\u001b[2m----------\u001b[0m\u001b[0m 78.22 MiB/118.41 MiB\n",
            "\u001b[2mnvidia-nccl-cu12\u001b[0m \u001b[32m--------------\u001b[2m----------------\u001b[0m\u001b[0m 77.79 MiB/168.08 MiB\n",
            "\u001b[2mnvidia-cusparse-cu12\u001b[0m \u001b[32m-------------\u001b[2m-----------------\u001b[0m\u001b[0m 78.65 MiB/186.88 MiB\n",
            "\u001b[2mtriton    \u001b[0m \u001b[32m------------\u001b[2m------------------\u001b[0m\u001b[0m 78.73 MiB/199.65 MiB\n",
            "\u001b[2mnvidia-cublas-cu12\u001b[0m \u001b[32m------\u001b[2m------------------------\u001b[0m\u001b[0m 77.62 MiB/391.57 MiB\n",
            "\u001b[2mnvidia-cudnn-cu12\u001b[0m \u001b[32m----\u001b[2m--------------------------\u001b[0m\u001b[0m 76.06 MiB/633.96 MiB\n",
            "\u001b[2K\u001b[9A\u001b[37m⠸\u001b[0m \u001b[2mPreparing packages...\u001b[0m (123/132)\n",
            "\u001b[2mpyarrow   \u001b[0m \u001b[32m------------------------------\u001b[2m\u001b[0m\u001b[0m 35.58 MiB/36.64 MiB\n",
            "\u001b[2mnvidia-cufft-cu12\u001b[0m \u001b[32m---------------------\u001b[2m---------\u001b[0m\u001b[0m 78.40 MiB/116.00 MiB\n",
            "\u001b[2mnvidia-cusolver-cu12\u001b[0m \u001b[32m--------------------\u001b[2m----------\u001b[0m\u001b[0m 78.68 MiB/118.41 MiB\n",
            "\u001b[2mnvidia-nccl-cu12\u001b[0m \u001b[32m--------------\u001b[2m----------------\u001b[0m\u001b[0m 78.20 MiB/168.08 MiB\n",
            "\u001b[2mnvidia-cusparse-cu12\u001b[0m \u001b[32m-------------\u001b[2m-----------------\u001b[0m\u001b[0m 78.93 MiB/186.88 MiB\n",
            "\u001b[2mtriton    \u001b[0m \u001b[32m------------\u001b[2m------------------\u001b[0m\u001b[0m 78.96 MiB/199.65 MiB\n",
            "\u001b[2mnvidia-cublas-cu12\u001b[0m \u001b[32m------\u001b[2m------------------------\u001b[0m\u001b[0m 78.09 MiB/391.57 MiB\n",
            "\u001b[2mnvidia-cudnn-cu12\u001b[0m \u001b[32m----\u001b[2m--------------------------\u001b[0m\u001b[0m 76.56 MiB/633.96 MiB\n",
            "\u001b[2K\u001b[9A\u001b[37m⠸\u001b[0m \u001b[2mPreparing packages...\u001b[0m (123/132)\n",
            "\u001b[2mpyarrow   \u001b[0m \u001b[32m------------------------------\u001b[2m\u001b[0m\u001b[0m 35.58 MiB/36.64 MiB\n",
            "\u001b[2mnvidia-cufft-cu12\u001b[0m \u001b[32m---------------------\u001b[2m---------\u001b[0m\u001b[0m 78.90 MiB/116.00 MiB\n",
            "\u001b[2mnvidia-cusolver-cu12\u001b[0m \u001b[32m---------------------\u001b[2m---------\u001b[0m\u001b[0m 79.05 MiB/118.41 MiB\n",
            "\u001b[2mnvidia-nccl-cu12\u001b[0m \u001b[32m---------------\u001b[2m---------------\u001b[0m\u001b[0m 78.67 MiB/168.08 MiB\n",
            "\u001b[2mnvidia-cusparse-cu12\u001b[0m \u001b[32m-------------\u001b[2m-----------------\u001b[0m\u001b[0m 79.39 MiB/186.88 MiB\n",
            "\u001b[2mtriton    \u001b[0m \u001b[32m------------\u001b[2m------------------\u001b[0m\u001b[0m 79.44 MiB/199.65 MiB\n",
            "\u001b[2mnvidia-cublas-cu12\u001b[0m \u001b[32m-------\u001b[2m-----------------------\u001b[0m\u001b[0m 78.58 MiB/391.57 MiB\n",
            "\u001b[2mnvidia-cudnn-cu12\u001b[0m \u001b[32m----\u001b[2m--------------------------\u001b[0m\u001b[0m 76.80 MiB/633.96 MiB\n",
            "\u001b[2K\u001b[9A\u001b[37m⠸\u001b[0m \u001b[2mPreparing packages...\u001b[0m (123/132)\n",
            "\u001b[2mpyarrow   \u001b[0m \u001b[32m------------------------------\u001b[2m\u001b[0m\u001b[0m 35.58 MiB/36.64 MiB\n",
            "\u001b[2mnvidia-cufft-cu12\u001b[0m \u001b[32m---------------------\u001b[2m---------\u001b[0m\u001b[0m 79.15 MiB/116.00 MiB\n",
            "\u001b[2mnvidia-cusolver-cu12\u001b[0m \u001b[32m---------------------\u001b[2m---------\u001b[0m\u001b[0m 79.44 MiB/118.41 MiB\n",
            "\u001b[2mnvidia-nccl-cu12\u001b[0m \u001b[32m---------------\u001b[2m---------------\u001b[0m\u001b[0m 78.90 MiB/168.08 MiB\n",
            "\u001b[2mnvidia-cusparse-cu12\u001b[0m \u001b[32m-------------\u001b[2m-----------------\u001b[0m\u001b[0m 79.65 MiB/186.88 MiB\n",
            "\u001b[2mtriton    \u001b[0m \u001b[32m-------------\u001b[2m-----------------\u001b[0m\u001b[0m 79.92 MiB/199.65 MiB\n",
            "\u001b[2mnvidia-cublas-cu12\u001b[0m \u001b[32m-------\u001b[2m-----------------------\u001b[0m\u001b[0m 78.87 MiB/391.57 MiB\n",
            "\u001b[2mnvidia-cudnn-cu12\u001b[0m \u001b[32m----\u001b[2m--------------------------\u001b[0m\u001b[0m 77.28 MiB/633.96 MiB\n",
            "\u001b[2K\u001b[9A\u001b[37m⠼\u001b[0m \u001b[2mPreparing packages...\u001b[0m (123/132)\n",
            "\u001b[2mpyarrow   \u001b[0m \u001b[32m------------------------------\u001b[2m\u001b[0m\u001b[0m 35.58 MiB/36.64 MiB\n",
            "\u001b[2mnvidia-cufft-cu12\u001b[0m \u001b[32m---------------------\u001b[2m---------\u001b[0m\u001b[0m 79.68 MiB/116.00 MiB\n",
            "\u001b[2mnvidia-cusolver-cu12\u001b[0m \u001b[32m---------------------\u001b[2m---------\u001b[0m\u001b[0m 79.98 MiB/118.41 MiB\n",
            "\u001b[2mnvidia-nccl-cu12\u001b[0m \u001b[32m---------------\u001b[2m---------------\u001b[0m\u001b[0m 79.39 MiB/168.08 MiB\n",
            "\u001b[2mnvidia-cusparse-cu12\u001b[0m \u001b[32m-------------\u001b[2m-----------------\u001b[0m\u001b[0m 80.18 MiB/186.88 MiB\n",
            "\u001b[2mtriton    \u001b[0m \u001b[32m-------------\u001b[2m-----------------\u001b[0m\u001b[0m 80.20 MiB/199.65 MiB\n",
            "\u001b[2mnvidia-cublas-cu12\u001b[0m \u001b[32m-------\u001b[2m-----------------------\u001b[0m\u001b[0m 79.37 MiB/391.57 MiB\n",
            "\u001b[2mnvidia-cudnn-cu12\u001b[0m \u001b[32m----\u001b[2m--------------------------\u001b[0m\u001b[0m 77.83 MiB/633.96 MiB\n",
            "\u001b[2K\u001b[9A\u001b[37m⠼\u001b[0m \u001b[2mPreparing packages...\u001b[0m (123/132)\n",
            "\u001b[2mpyarrow   \u001b[0m \u001b[32m------------------------------\u001b[2m\u001b[0m\u001b[0m 35.58 MiB/36.64 MiB\n",
            "\u001b[2mnvidia-cufft-cu12\u001b[0m \u001b[32m---------------------\u001b[2m---------\u001b[0m\u001b[0m 80.17 MiB/116.00 MiB\n",
            "\u001b[2mnvidia-cusolver-cu12\u001b[0m \u001b[32m---------------------\u001b[2m---------\u001b[0m\u001b[0m 80.41 MiB/118.41 MiB\n",
            "\u001b[2mnvidia-nccl-cu12\u001b[0m \u001b[32m---------------\u001b[2m---------------\u001b[0m\u001b[0m 79.87 MiB/168.08 MiB\n",
            "\u001b[2mnvidia-cusparse-cu12\u001b[0m \u001b[32m-------------\u001b[2m-----------------\u001b[0m\u001b[0m 80.66 MiB/186.88 MiB\n",
            "\u001b[2mtriton    \u001b[0m \u001b[32m-------------\u001b[2m-----------------\u001b[0m\u001b[0m 80.61 MiB/199.65 MiB\n",
            "\u001b[2mnvidia-cublas-cu12\u001b[0m \u001b[32m-------\u001b[2m-----------------------\u001b[0m\u001b[0m 79.84 MiB/391.57 MiB\n",
            "\u001b[2mnvidia-cudnn-cu12\u001b[0m \u001b[32m----\u001b[2m--------------------------\u001b[0m\u001b[0m 78.21 MiB/633.96 MiB\n",
            "\u001b[2K\u001b[9A\u001b[37m⠼\u001b[0m \u001b[2mPreparing packages...\u001b[0m (123/132)\n",
            "\u001b[2mpyarrow   \u001b[0m \u001b[32m------------------------------\u001b[2m\u001b[0m\u001b[0m 35.59 MiB/36.64 MiB\n",
            "\u001b[2mnvidia-cufft-cu12\u001b[0m \u001b[32m---------------------\u001b[2m---------\u001b[0m\u001b[0m 80.54 MiB/116.00 MiB\n",
            "\u001b[2mnvidia-cusolver-cu12\u001b[0m \u001b[32m---------------------\u001b[2m---------\u001b[0m\u001b[0m 80.84 MiB/118.41 MiB\n",
            "\u001b[2mnvidia-nccl-cu12\u001b[0m \u001b[32m---------------\u001b[2m---------------\u001b[0m\u001b[0m 80.32 MiB/168.08 MiB\n",
            "\u001b[2mnvidia-cusparse-cu12\u001b[0m \u001b[32m--------------\u001b[2m----------------\u001b[0m\u001b[0m 81.06 MiB/186.88 MiB\n",
            "\u001b[2mtriton    \u001b[0m \u001b[32m-------------\u001b[2m-----------------\u001b[0m\u001b[0m 80.98 MiB/199.65 MiB\n",
            "\u001b[2mnvidia-cublas-cu12\u001b[0m \u001b[32m-------\u001b[2m-----------------------\u001b[0m\u001b[0m 80.24 MiB/391.57 MiB\n",
            "\u001b[2mnvidia-cudnn-cu12\u001b[0m \u001b[32m----\u001b[2m--------------------------\u001b[0m\u001b[0m 78.81 MiB/633.96 MiB\n",
            "\u001b[2K\u001b[9A\u001b[37m⠼\u001b[0m \u001b[2mPreparing packages...\u001b[0m (123/132)\n",
            "\u001b[2mpyarrow   \u001b[0m \u001b[32m------------------------------\u001b[2m\u001b[0m\u001b[0m 35.59 MiB/36.64 MiB\n",
            "\u001b[2mnvidia-cufft-cu12\u001b[0m \u001b[32m---------------------\u001b[2m---------\u001b[0m\u001b[0m 81.03 MiB/116.00 MiB\n",
            "\u001b[2mnvidia-cusolver-cu12\u001b[0m \u001b[32m---------------------\u001b[2m---------\u001b[0m\u001b[0m 81.19 MiB/118.41 MiB\n",
            "\u001b[2mnvidia-nccl-cu12\u001b[0m \u001b[32m---------------\u001b[2m---------------\u001b[0m\u001b[0m 80.80 MiB/168.08 MiB\n",
            "\u001b[2mnvidia-cusparse-cu12\u001b[0m \u001b[32m--------------\u001b[2m----------------\u001b[0m\u001b[0m 81.55 MiB/186.88 MiB\n",
            "\u001b[2mtriton    \u001b[0m \u001b[32m-------------\u001b[2m-----------------\u001b[0m\u001b[0m 81.51 MiB/199.65 MiB\n",
            "\u001b[2mnvidia-cublas-cu12\u001b[0m \u001b[32m-------\u001b[2m-----------------------\u001b[0m\u001b[0m 80.75 MiB/391.57 MiB\n",
            "\u001b[2mnvidia-cudnn-cu12\u001b[0m \u001b[32m----\u001b[2m--------------------------\u001b[0m\u001b[0m 79.17 MiB/633.96 MiB\n",
            "\u001b[2K\u001b[9A\u001b[37m⠴\u001b[0m \u001b[2mPreparing packages...\u001b[0m (123/132)\n",
            "\u001b[2mpyarrow   \u001b[0m \u001b[32m------------------------------\u001b[2m\u001b[0m\u001b[0m 35.59 MiB/36.64 MiB\n",
            "\u001b[2mnvidia-cufft-cu12\u001b[0m \u001b[32m----------------------\u001b[2m--------\u001b[0m\u001b[0m 81.23 MiB/116.00 MiB\n",
            "\u001b[2mnvidia-cusolver-cu12\u001b[0m \u001b[32m---------------------\u001b[2m---------\u001b[0m\u001b[0m 81.48 MiB/118.41 MiB\n",
            "\u001b[2mnvidia-nccl-cu12\u001b[0m \u001b[32m---------------\u001b[2m---------------\u001b[0m\u001b[0m 80.94 MiB/168.08 MiB\n",
            "\u001b[2mnvidia-cusparse-cu12\u001b[0m \u001b[32m--------------\u001b[2m----------------\u001b[0m\u001b[0m 81.72 MiB/186.88 MiB\n",
            "\u001b[2mtriton    \u001b[0m \u001b[32m-------------\u001b[2m-----------------\u001b[0m\u001b[0m 81.64 MiB/199.65 MiB\n",
            "\u001b[2mnvidia-cublas-cu12\u001b[0m \u001b[32m-------\u001b[2m-----------------------\u001b[0m\u001b[0m 80.91 MiB/391.57 MiB\n",
            "\u001b[2mnvidia-cudnn-cu12\u001b[0m \u001b[32m----\u001b[2m--------------------------\u001b[0m\u001b[0m 79.31 MiB/633.96 MiB\n",
            "\u001b[2K\u001b[9A\u001b[37m⠴\u001b[0m \u001b[2mPreparing packages...\u001b[0m (123/132)\n",
            "\u001b[2mpyarrow   \u001b[0m \u001b[32m------------------------------\u001b[2m\u001b[0m\u001b[0m 35.59 MiB/36.64 MiB\n",
            "\u001b[2mnvidia-cufft-cu12\u001b[0m \u001b[32m----------------------\u001b[2m--------\u001b[0m\u001b[0m 81.66 MiB/116.00 MiB\n",
            "\u001b[2mnvidia-cusolver-cu12\u001b[0m \u001b[32m---------------------\u001b[2m---------\u001b[0m\u001b[0m 81.62 MiB/118.41 MiB\n",
            "\u001b[2mnvidia-nccl-cu12\u001b[0m \u001b[32m---------------\u001b[2m---------------\u001b[0m\u001b[0m 81.43 MiB/168.08 MiB\n",
            "\u001b[2mnvidia-cusparse-cu12\u001b[0m \u001b[32m--------------\u001b[2m----------------\u001b[0m\u001b[0m 81.86 MiB/186.88 MiB\n",
            "\u001b[2mtriton    \u001b[0m \u001b[32m-------------\u001b[2m-----------------\u001b[0m\u001b[0m 81.81 MiB/199.65 MiB\n",
            "\u001b[2mnvidia-cublas-cu12\u001b[0m \u001b[32m-------\u001b[2m-----------------------\u001b[0m\u001b[0m 81.38 MiB/391.57 MiB\n",
            "\u001b[2mnvidia-cudnn-cu12\u001b[0m \u001b[32m----\u001b[2m--------------------------\u001b[0m\u001b[0m 79.80 MiB/633.96 MiB\n",
            "\u001b[2K\u001b[9A\u001b[37m⠴\u001b[0m \u001b[2mPreparing packages...\u001b[0m (123/132)\n",
            "\u001b[2mpyarrow   \u001b[0m \u001b[32m------------------------------\u001b[2m\u001b[0m\u001b[0m 35.61 MiB/36.64 MiB\n",
            "\u001b[2mnvidia-cufft-cu12\u001b[0m \u001b[32m----------------------\u001b[2m--------\u001b[0m\u001b[0m 82.24 MiB/116.00 MiB\n",
            "\u001b[2mnvidia-cusolver-cu12\u001b[0m \u001b[32m---------------------\u001b[2m---------\u001b[0m\u001b[0m 82.12 MiB/118.41 MiB\n",
            "\u001b[2mnvidia-nccl-cu12\u001b[0m \u001b[32m---------------\u001b[2m---------------\u001b[0m\u001b[0m 81.78 MiB/168.08 MiB\n",
            "\u001b[2mnvidia-cusparse-cu12\u001b[0m \u001b[32m--------------\u001b[2m----------------\u001b[0m\u001b[0m 82.38 MiB/186.88 MiB\n",
            "\u001b[2mtriton    \u001b[0m \u001b[32m-------------\u001b[2m-----------------\u001b[0m\u001b[0m 82.14 MiB/199.65 MiB\n",
            "\u001b[2mnvidia-cublas-cu12\u001b[0m \u001b[32m-------\u001b[2m-----------------------\u001b[0m\u001b[0m 81.56 MiB/391.57 MiB\n",
            "\u001b[2mnvidia-cudnn-cu12\u001b[0m \u001b[32m----\u001b[2m--------------------------\u001b[0m\u001b[0m 79.96 MiB/633.96 MiB\n",
            "\u001b[2K\u001b[9A\u001b[37m⠴\u001b[0m \u001b[2mPreparing packages...\u001b[0m (123/132)\n",
            "\u001b[2mpyarrow   \u001b[0m \u001b[32m------------------------------\u001b[2m\u001b[0m\u001b[0m 35.61 MiB/36.64 MiB\n",
            "\u001b[2mnvidia-cufft-cu12\u001b[0m \u001b[32m----------------------\u001b[2m--------\u001b[0m\u001b[0m 82.35 MiB/116.00 MiB\n",
            "\u001b[2mnvidia-cusolver-cu12\u001b[0m \u001b[32m---------------------\u001b[2m---------\u001b[0m\u001b[0m 82.33 MiB/118.41 MiB\n",
            "\u001b[2mnvidia-nccl-cu12\u001b[0m \u001b[32m---------------\u001b[2m---------------\u001b[0m\u001b[0m 81.96 MiB/168.08 MiB\n",
            "\u001b[2mnvidia-cusparse-cu12\u001b[0m \u001b[32m--------------\u001b[2m----------------\u001b[0m\u001b[0m 82.74 MiB/186.88 MiB\n",
            "\u001b[2mtriton    \u001b[0m \u001b[32m-------------\u001b[2m-----------------\u001b[0m\u001b[0m 82.69 MiB/199.65 MiB\n",
            "\u001b[2mnvidia-cublas-cu12\u001b[0m \u001b[32m-------\u001b[2m-----------------------\u001b[0m\u001b[0m 81.89 MiB/391.57 MiB\n",
            "\u001b[2mnvidia-cudnn-cu12\u001b[0m \u001b[32m----\u001b[2m--------------------------\u001b[0m\u001b[0m 80.28 MiB/633.96 MiB\n",
            "\u001b[2K\u001b[9A\u001b[37m⠦\u001b[0m \u001b[2mPreparing packages...\u001b[0m (123/132)\n",
            "\u001b[2mpyarrow   \u001b[0m \u001b[32m------------------------------\u001b[2m\u001b[0m\u001b[0m 35.61 MiB/36.64 MiB\n",
            "\u001b[2mnvidia-cufft-cu12\u001b[0m \u001b[32m----------------------\u001b[2m--------\u001b[0m\u001b[0m 82.69 MiB/116.00 MiB\n",
            "\u001b[2mnvidia-cusolver-cu12\u001b[0m \u001b[32m---------------------\u001b[2m---------\u001b[0m\u001b[0m 82.81 MiB/118.41 MiB\n",
            "\u001b[2mnvidia-nccl-cu12\u001b[0m \u001b[32m---------------\u001b[2m---------------\u001b[0m\u001b[0m 82.42 MiB/168.08 MiB\n",
            "\u001b[2mnvidia-cusparse-cu12\u001b[0m \u001b[32m--------------\u001b[2m----------------\u001b[0m\u001b[0m 82.89 MiB/186.88 MiB\n",
            "\u001b[2mtriton    \u001b[0m \u001b[32m-------------\u001b[2m-----------------\u001b[0m\u001b[0m 83.03 MiB/199.65 MiB\n",
            "\u001b[2mnvidia-cublas-cu12\u001b[0m \u001b[32m-------\u001b[2m-----------------------\u001b[0m\u001b[0m 82.43 MiB/391.57 MiB\n",
            "\u001b[2mnvidia-cudnn-cu12\u001b[0m \u001b[32m----\u001b[2m--------------------------\u001b[0m\u001b[0m 80.75 MiB/633.96 MiB\n",
            "\u001b[2K\u001b[9A\u001b[37m⠦\u001b[0m \u001b[2mPreparing packages...\u001b[0m (123/132)\n",
            "\u001b[2mpyarrow   \u001b[0m \u001b[32m------------------------------\u001b[2m\u001b[0m\u001b[0m 35.62 MiB/36.64 MiB\n",
            "\u001b[2mnvidia-cufft-cu12\u001b[0m \u001b[32m----------------------\u001b[2m--------\u001b[0m\u001b[0m 83.19 MiB/116.00 MiB\n",
            "\u001b[2mnvidia-cusolver-cu12\u001b[0m \u001b[32m----------------------\u001b[2m--------\u001b[0m\u001b[0m 83.05 MiB/118.41 MiB\n",
            "\u001b[2mnvidia-nccl-cu12\u001b[0m \u001b[32m---------------\u001b[2m---------------\u001b[0m\u001b[0m 82.96 MiB/168.08 MiB\n",
            "\u001b[2mnvidia-cusparse-cu12\u001b[0m \u001b[32m--------------\u001b[2m----------------\u001b[0m\u001b[0m 83.40 MiB/186.88 MiB\n",
            "\u001b[2mtriton    \u001b[0m \u001b[32m-------------\u001b[2m-----------------\u001b[0m\u001b[0m 83.47 MiB/199.65 MiB\n",
            "\u001b[2mnvidia-cublas-cu12\u001b[0m \u001b[32m-------\u001b[2m-----------------------\u001b[0m\u001b[0m 82.85 MiB/391.57 MiB\n",
            "\u001b[2mnvidia-cudnn-cu12\u001b[0m \u001b[32m----\u001b[2m--------------------------\u001b[0m\u001b[0m 81.08 MiB/633.96 MiB\n",
            "\u001b[2K\u001b[9A\u001b[37m⠦\u001b[0m \u001b[2mPreparing packages...\u001b[0m (123/132)\n",
            "\u001b[2mpyarrow   \u001b[0m \u001b[32m------------------------------\u001b[2m\u001b[0m\u001b[0m 35.62 MiB/36.64 MiB\n",
            "\u001b[2mnvidia-cufft-cu12\u001b[0m \u001b[32m----------------------\u001b[2m--------\u001b[0m\u001b[0m 83.36 MiB/116.00 MiB\n",
            "\u001b[2mnvidia-cusolver-cu12\u001b[0m \u001b[32m----------------------\u001b[2m--------\u001b[0m\u001b[0m 83.55 MiB/118.41 MiB\n",
            "\u001b[2mnvidia-nccl-cu12\u001b[0m \u001b[32m---------------\u001b[2m---------------\u001b[0m\u001b[0m 83.12 MiB/168.08 MiB\n",
            "\u001b[2mnvidia-cusparse-cu12\u001b[0m \u001b[32m--------------\u001b[2m----------------\u001b[0m\u001b[0m 83.86 MiB/186.88 MiB\n",
            "\u001b[2mtriton    \u001b[0m \u001b[32m-------------\u001b[2m-----------------\u001b[0m\u001b[0m 83.70 MiB/199.65 MiB\n",
            "\u001b[2mnvidia-cublas-cu12\u001b[0m \u001b[32m-------\u001b[2m-----------------------\u001b[0m\u001b[0m 83.05 MiB/391.57 MiB\n",
            "\u001b[2mnvidia-cudnn-cu12\u001b[0m \u001b[32m----\u001b[2m--------------------------\u001b[0m\u001b[0m 81.75 MiB/633.96 MiB\n",
            "\u001b[2K\u001b[9A\u001b[37m⠦\u001b[0m \u001b[2mPreparing packages...\u001b[0m (123/132)\n",
            "\u001b[2mpyarrow   \u001b[0m \u001b[32m------------------------------\u001b[2m\u001b[0m\u001b[0m 35.62 MiB/36.64 MiB\n",
            "\u001b[2mnvidia-cufft-cu12\u001b[0m \u001b[32m----------------------\u001b[2m--------\u001b[0m\u001b[0m 83.71 MiB/116.00 MiB\n",
            "\u001b[2mnvidia-cusolver-cu12\u001b[0m \u001b[32m----------------------\u001b[2m--------\u001b[0m\u001b[0m 84.04 MiB/118.41 MiB\n",
            "\u001b[2mnvidia-nccl-cu12\u001b[0m \u001b[32m---------------\u001b[2m---------------\u001b[0m\u001b[0m 83.62 MiB/168.08 MiB\n",
            "\u001b[2mnvidia-cusparse-cu12\u001b[0m \u001b[32m--------------\u001b[2m----------------\u001b[0m\u001b[0m 84.36 MiB/186.88 MiB\n",
            "\u001b[2mtriton    \u001b[0m \u001b[32m-------------\u001b[2m-----------------\u001b[0m\u001b[0m 84.07 MiB/199.65 MiB\n",
            "\u001b[2mnvidia-cublas-cu12\u001b[0m \u001b[32m-------\u001b[2m-----------------------\u001b[0m\u001b[0m 83.53 MiB/391.57 MiB\n",
            "\u001b[2mnvidia-cudnn-cu12\u001b[0m \u001b[32m----\u001b[2m--------------------------\u001b[0m\u001b[0m 81.94 MiB/633.96 MiB\n",
            "\u001b[2K\u001b[9A\u001b[37m⠧\u001b[0m \u001b[2mPreparing packages...\u001b[0m (123/132)\n",
            "\u001b[2mpyarrow   \u001b[0m \u001b[32m------------------------------\u001b[2m\u001b[0m\u001b[0m 35.62 MiB/36.64 MiB\n",
            "\u001b[2mnvidia-cufft-cu12\u001b[0m \u001b[32m----------------------\u001b[2m--------\u001b[0m\u001b[0m 84.11 MiB/116.00 MiB\n",
            "\u001b[2mnvidia-cusolver-cu12\u001b[0m \u001b[32m----------------------\u001b[2m--------\u001b[0m\u001b[0m 84.37 MiB/118.41 MiB\n",
            "\u001b[2mnvidia-nccl-cu12\u001b[0m \u001b[32m---------------\u001b[2m---------------\u001b[0m\u001b[0m 83.96 MiB/168.08 MiB\n",
            "\u001b[2mnvidia-cusparse-cu12\u001b[0m \u001b[32m--------------\u001b[2m----------------\u001b[0m\u001b[0m 84.72 MiB/186.88 MiB\n",
            "\u001b[2mtriton    \u001b[0m \u001b[32m-------------\u001b[2m-----------------\u001b[0m\u001b[0m 84.52 MiB/199.65 MiB\n",
            "\u001b[2mnvidia-cublas-cu12\u001b[0m \u001b[32m-------\u001b[2m-----------------------\u001b[0m\u001b[0m 83.85 MiB/391.57 MiB\n",
            "\u001b[2mnvidia-cudnn-cu12\u001b[0m \u001b[32m----\u001b[2m--------------------------\u001b[0m\u001b[0m 82.27 MiB/633.96 MiB\n",
            "\u001b[2K\u001b[9A\u001b[37m⠧\u001b[0m \u001b[2mPreparing packages...\u001b[0m (123/132)\n",
            "\u001b[2mpyarrow   \u001b[0m \u001b[32m------------------------------\u001b[2m\u001b[0m\u001b[0m 35.64 MiB/36.64 MiB\n",
            "\u001b[2mnvidia-cufft-cu12\u001b[0m \u001b[32m----------------------\u001b[2m--------\u001b[0m\u001b[0m 84.71 MiB/116.00 MiB\n",
            "\u001b[2mnvidia-cusolver-cu12\u001b[0m \u001b[32m----------------------\u001b[2m--------\u001b[0m\u001b[0m 84.88 MiB/118.41 MiB\n",
            "\u001b[2mnvidia-nccl-cu12\u001b[0m \u001b[32m----------------\u001b[2m--------------\u001b[0m\u001b[0m 84.12 MiB/168.08 MiB\n",
            "\u001b[2mnvidia-cusparse-cu12\u001b[0m \u001b[32m--------------\u001b[2m----------------\u001b[0m\u001b[0m 85.24 MiB/186.88 MiB\n",
            "\u001b[2mtriton    \u001b[0m \u001b[32m-------------\u001b[2m-----------------\u001b[0m\u001b[0m 84.94 MiB/199.65 MiB\n",
            "\u001b[2mnvidia-cublas-cu12\u001b[0m \u001b[32m-------\u001b[2m-----------------------\u001b[0m\u001b[0m 84.35 MiB/391.57 MiB\n",
            "\u001b[2mnvidia-cudnn-cu12\u001b[0m \u001b[32m----\u001b[2m--------------------------\u001b[0m\u001b[0m 82.45 MiB/633.96 MiB\n",
            "\u001b[2K\u001b[9A\u001b[37m⠧\u001b[0m \u001b[2mPreparing packages...\u001b[0m (123/132)\n",
            "\u001b[2mpyarrow   \u001b[0m \u001b[32m------------------------------\u001b[2m\u001b[0m\u001b[0m 35.64 MiB/36.64 MiB\n",
            "\u001b[2mnvidia-cufft-cu12\u001b[0m \u001b[32m-----------------------\u001b[2m-------\u001b[0m\u001b[0m 85.27 MiB/116.00 MiB\n",
            "\u001b[2mnvidia-cusolver-cu12\u001b[0m \u001b[32m----------------------\u001b[2m--------\u001b[0m\u001b[0m 85.39 MiB/118.41 MiB\n",
            "\u001b[2mnvidia-nccl-cu12\u001b[0m \u001b[32m----------------\u001b[2m--------------\u001b[0m\u001b[0m 84.59 MiB/168.08 MiB\n",
            "\u001b[2mnvidia-cusparse-cu12\u001b[0m \u001b[32m--------------\u001b[2m----------------\u001b[0m\u001b[0m 85.39 MiB/186.88 MiB\n",
            "\u001b[2mtriton    \u001b[0m \u001b[32m-------------\u001b[2m-----------------\u001b[0m\u001b[0m 85.25 MiB/199.65 MiB\n",
            "\u001b[2mnvidia-cublas-cu12\u001b[0m \u001b[32m-------\u001b[2m-----------------------\u001b[0m\u001b[0m 84.55 MiB/391.57 MiB\n",
            "\u001b[2mnvidia-cudnn-cu12\u001b[0m \u001b[32m----\u001b[2m--------------------------\u001b[0m\u001b[0m 82.92 MiB/633.96 MiB\n",
            "\u001b[2K\u001b[9A\u001b[37m⠧\u001b[0m \u001b[2mPreparing packages...\u001b[0m (123/132)\n",
            "\u001b[2mpyarrow   \u001b[0m \u001b[32m------------------------------\u001b[2m\u001b[0m\u001b[0m 35.64 MiB/36.64 MiB\n",
            "\u001b[2mnvidia-cufft-cu12\u001b[0m \u001b[32m-----------------------\u001b[2m-------\u001b[0m\u001b[0m 85.43 MiB/116.00 MiB\n",
            "\u001b[2mnvidia-cusolver-cu12\u001b[0m \u001b[32m----------------------\u001b[2m--------\u001b[0m\u001b[0m 85.58 MiB/118.41 MiB\n",
            "\u001b[2mnvidia-nccl-cu12\u001b[0m \u001b[32m----------------\u001b[2m--------------\u001b[0m\u001b[0m 85.12 MiB/168.08 MiB\n",
            "\u001b[2mnvidia-cusparse-cu12\u001b[0m \u001b[32m--------------\u001b[2m----------------\u001b[0m\u001b[0m 85.88 MiB/186.88 MiB\n",
            "\u001b[2mtriton    \u001b[0m \u001b[32m-------------\u001b[2m-----------------\u001b[0m\u001b[0m 85.65 MiB/199.65 MiB\n",
            "\u001b[2mnvidia-cublas-cu12\u001b[0m \u001b[32m-------\u001b[2m-----------------------\u001b[0m\u001b[0m 85.05 MiB/391.57 MiB\n",
            "\u001b[2mnvidia-cudnn-cu12\u001b[0m \u001b[32m----\u001b[2m--------------------------\u001b[0m\u001b[0m 83.40 MiB/633.96 MiB\n",
            "\u001b[2K\u001b[9A\u001b[37m⠇\u001b[0m \u001b[2mPreparing packages...\u001b[0m (123/132)\n",
            "\u001b[2mpyarrow   \u001b[0m \u001b[32m------------------------------\u001b[2m\u001b[0m\u001b[0m 35.66 MiB/36.64 MiB\n",
            "\u001b[2mnvidia-cufft-cu12\u001b[0m \u001b[32m-----------------------\u001b[2m-------\u001b[0m\u001b[0m 85.89 MiB/116.00 MiB\n",
            "\u001b[2mnvidia-cusolver-cu12\u001b[0m \u001b[32m----------------------\u001b[2m--------\u001b[0m\u001b[0m 86.09 MiB/118.41 MiB\n",
            "\u001b[2mnvidia-nccl-cu12\u001b[0m \u001b[32m----------------\u001b[2m--------------\u001b[0m\u001b[0m 85.47 MiB/168.08 MiB\n",
            "\u001b[2mnvidia-cusparse-cu12\u001b[0m \u001b[32m--------------\u001b[2m----------------\u001b[0m\u001b[0m 86.21 MiB/186.88 MiB\n",
            "\u001b[2mtriton    \u001b[0m \u001b[32m-------------\u001b[2m-----------------\u001b[0m\u001b[0m 85.95 MiB/199.65 MiB\n",
            "\u001b[2mnvidia-cublas-cu12\u001b[0m \u001b[32m-------\u001b[2m-----------------------\u001b[0m\u001b[0m 85.38 MiB/391.57 MiB\n",
            "\u001b[2mnvidia-cudnn-cu12\u001b[0m \u001b[32m----\u001b[2m--------------------------\u001b[0m\u001b[0m 83.70 MiB/633.96 MiB\n",
            "\u001b[2K\u001b[9A\u001b[37m⠇\u001b[0m \u001b[2mPreparing packages...\u001b[0m (123/132)\n",
            "\u001b[2mpyarrow   \u001b[0m \u001b[32m------------------------------\u001b[2m\u001b[0m\u001b[0m 35.66 MiB/36.64 MiB\n",
            "\u001b[2mnvidia-cufft-cu12\u001b[0m \u001b[32m-----------------------\u001b[2m-------\u001b[0m\u001b[0m 86.28 MiB/116.00 MiB\n",
            "\u001b[2mnvidia-cusolver-cu12\u001b[0m \u001b[32m----------------------\u001b[2m--------\u001b[0m\u001b[0m 86.38 MiB/118.41 MiB\n",
            "\u001b[2mnvidia-nccl-cu12\u001b[0m \u001b[32m----------------\u001b[2m--------------\u001b[0m\u001b[0m 85.62 MiB/168.08 MiB\n",
            "\u001b[2mnvidia-cusparse-cu12\u001b[0m \u001b[32m--------------\u001b[2m----------------\u001b[0m\u001b[0m 86.50 MiB/186.88 MiB\n",
            "\u001b[2mtriton    \u001b[0m \u001b[32m-------------\u001b[2m-----------------\u001b[0m\u001b[0m 86.47 MiB/199.65 MiB\n",
            "\u001b[2mnvidia-cublas-cu12\u001b[0m \u001b[32m-------\u001b[2m-----------------------\u001b[0m\u001b[0m 85.86 MiB/391.57 MiB\n",
            "\u001b[2mnvidia-cudnn-cu12\u001b[0m \u001b[32m----\u001b[2m--------------------------\u001b[0m\u001b[0m 84.20 MiB/633.96 MiB\n",
            "\u001b[2K\u001b[9A\u001b[37m⠇\u001b[0m \u001b[2mPreparing packages...\u001b[0m (123/132)\n",
            "\u001b[2mpyarrow   \u001b[0m \u001b[32m------------------------------\u001b[2m\u001b[0m\u001b[0m 35.66 MiB/36.64 MiB\n",
            "\u001b[2mnvidia-cufft-cu12\u001b[0m \u001b[32m-----------------------\u001b[2m-------\u001b[0m\u001b[0m 86.43 MiB/116.00 MiB\n",
            "\u001b[2mnvidia-cusolver-cu12\u001b[0m \u001b[32m----------------------\u001b[2m--------\u001b[0m\u001b[0m 86.58 MiB/118.41 MiB\n",
            "\u001b[2mnvidia-nccl-cu12\u001b[0m \u001b[32m----------------\u001b[2m--------------\u001b[0m\u001b[0m 86.43 MiB/168.08 MiB\n",
            "\u001b[2mnvidia-cusparse-cu12\u001b[0m \u001b[32m---------------\u001b[2m---------------\u001b[0m\u001b[0m 87.25 MiB/186.88 MiB\n",
            "\u001b[2mtriton    \u001b[0m \u001b[32m--------------\u001b[2m----------------\u001b[0m\u001b[0m 86.94 MiB/199.65 MiB\n",
            "\u001b[2mnvidia-cublas-cu12\u001b[0m \u001b[32m-------\u001b[2m-----------------------\u001b[0m\u001b[0m 86.10 MiB/391.57 MiB\n",
            "\u001b[2mnvidia-cudnn-cu12\u001b[0m \u001b[32m-----\u001b[2m-------------------------\u001b[0m\u001b[0m 84.68 MiB/633.96 MiB\n",
            "\u001b[2K\u001b[9A\u001b[37m⠇\u001b[0m \u001b[2mPreparing packages...\u001b[0m (123/132)\n",
            "\u001b[2mpyarrow   \u001b[0m \u001b[32m------------------------------\u001b[2m\u001b[0m\u001b[0m 35.66 MiB/36.64 MiB\n",
            "\u001b[2mnvidia-cufft-cu12\u001b[0m \u001b[32m-----------------------\u001b[2m-------\u001b[0m\u001b[0m 87.03 MiB/116.00 MiB\n",
            "\u001b[2mnvidia-cusolver-cu12\u001b[0m \u001b[32m-----------------------\u001b[2m-------\u001b[0m\u001b[0m 87.09 MiB/118.41 MiB\n",
            "\u001b[2mnvidia-nccl-cu12\u001b[0m \u001b[32m----------------\u001b[2m--------------\u001b[0m\u001b[0m 86.60 MiB/168.08 MiB\n",
            "\u001b[2mnvidia-cusparse-cu12\u001b[0m \u001b[32m---------------\u001b[2m---------------\u001b[0m\u001b[0m 87.71 MiB/186.88 MiB\n",
            "\u001b[2mtriton    \u001b[0m \u001b[32m--------------\u001b[2m----------------\u001b[0m\u001b[0m 87.12 MiB/199.65 MiB\n",
            "\u001b[2mnvidia-cublas-cu12\u001b[0m \u001b[32m-------\u001b[2m-----------------------\u001b[0m\u001b[0m 86.55 MiB/391.57 MiB\n",
            "\u001b[2mnvidia-cudnn-cu12\u001b[0m \u001b[32m-----\u001b[2m-------------------------\u001b[0m\u001b[0m 84.90 MiB/633.96 MiB\n",
            "\u001b[2K\u001b[9A\u001b[37m⠋\u001b[0m \u001b[2mPreparing packages...\u001b[0m (123/132)\n",
            "\u001b[2mpyarrow   \u001b[0m \u001b[32m------------------------------\u001b[2m\u001b[0m\u001b[0m 35.67 MiB/36.64 MiB\n",
            "\u001b[2mnvidia-cufft-cu12\u001b[0m \u001b[32m-----------------------\u001b[2m-------\u001b[0m\u001b[0m 87.21 MiB/116.00 MiB\n",
            "\u001b[2mnvidia-cusolver-cu12\u001b[0m \u001b[32m-----------------------\u001b[2m-------\u001b[0m\u001b[0m 87.42 MiB/118.41 MiB\n",
            "\u001b[2mnvidia-nccl-cu12\u001b[0m \u001b[32m----------------\u001b[2m--------------\u001b[0m\u001b[0m 87.14 MiB/168.08 MiB\n",
            "\u001b[2mnvidia-cusparse-cu12\u001b[0m \u001b[32m---------------\u001b[2m---------------\u001b[0m\u001b[0m 87.92 MiB/186.88 MiB\n",
            "\u001b[2mtriton    \u001b[0m \u001b[32m--------------\u001b[2m----------------\u001b[0m\u001b[0m 87.52 MiB/199.65 MiB\n",
            "\u001b[2mnvidia-cublas-cu12\u001b[0m \u001b[32m-------\u001b[2m-----------------------\u001b[0m\u001b[0m 87.06 MiB/391.57 MiB\n",
            "\u001b[2mnvidia-cudnn-cu12\u001b[0m \u001b[32m-----\u001b[2m-------------------------\u001b[0m\u001b[0m 85.37 MiB/633.96 MiB\n",
            "\u001b[2K\u001b[9A\u001b[37m⠋\u001b[0m \u001b[2mPreparing packages...\u001b[0m (123/132)\n",
            "\u001b[2mpyarrow   \u001b[0m \u001b[32m------------------------------\u001b[2m\u001b[0m\u001b[0m 35.67 MiB/36.64 MiB\n",
            "\u001b[2mnvidia-cufft-cu12\u001b[0m \u001b[32m-----------------------\u001b[2m-------\u001b[0m\u001b[0m 87.76 MiB/116.00 MiB\n",
            "\u001b[2mnvidia-cusolver-cu12\u001b[0m \u001b[32m-----------------------\u001b[2m-------\u001b[0m\u001b[0m 87.90 MiB/118.41 MiB\n",
            "\u001b[2mnvidia-nccl-cu12\u001b[0m \u001b[32m----------------\u001b[2m--------------\u001b[0m\u001b[0m 87.48 MiB/168.08 MiB\n",
            "\u001b[2mnvidia-cusparse-cu12\u001b[0m \u001b[32m---------------\u001b[2m---------------\u001b[0m\u001b[0m 88.21 MiB/186.88 MiB\n",
            "\u001b[2mtriton    \u001b[0m \u001b[32m--------------\u001b[2m----------------\u001b[0m\u001b[0m 87.97 MiB/199.65 MiB\n",
            "\u001b[2mnvidia-cublas-cu12\u001b[0m \u001b[32m-------\u001b[2m-----------------------\u001b[0m\u001b[0m 87.40 MiB/391.57 MiB\n",
            "\u001b[2mnvidia-cudnn-cu12\u001b[0m \u001b[32m-----\u001b[2m-------------------------\u001b[0m\u001b[0m 85.72 MiB/633.96 MiB\n",
            "\u001b[2K\u001b[9A\u001b[37m⠋\u001b[0m \u001b[2mPreparing packages...\u001b[0m (123/132)\n",
            "\u001b[2mpyarrow   \u001b[0m \u001b[32m------------------------------\u001b[2m\u001b[0m\u001b[0m 35.67 MiB/36.64 MiB\n",
            "\u001b[2mnvidia-cufft-cu12\u001b[0m \u001b[32m-----------------------\u001b[2m-------\u001b[0m\u001b[0m 88.30 MiB/116.00 MiB\n",
            "\u001b[2mnvidia-cusolver-cu12\u001b[0m \u001b[32m-----------------------\u001b[2m-------\u001b[0m\u001b[0m 88.39 MiB/118.41 MiB\n",
            "\u001b[2mnvidia-nccl-cu12\u001b[0m \u001b[32m----------------\u001b[2m--------------\u001b[0m\u001b[0m 88.00 MiB/168.08 MiB\n",
            "\u001b[2mnvidia-cusparse-cu12\u001b[0m \u001b[32m---------------\u001b[2m---------------\u001b[0m\u001b[0m 88.39 MiB/186.88 MiB\n",
            "\u001b[2mtriton    \u001b[0m \u001b[32m--------------\u001b[2m----------------\u001b[0m\u001b[0m 88.12 MiB/199.65 MiB\n",
            "\u001b[2mnvidia-cublas-cu12\u001b[0m \u001b[32m-------\u001b[2m-----------------------\u001b[0m\u001b[0m 87.94 MiB/391.57 MiB\n",
            "\u001b[2mnvidia-cudnn-cu12\u001b[0m \u001b[32m-----\u001b[2m-------------------------\u001b[0m\u001b[0m 85.87 MiB/633.96 MiB\n",
            "\u001b[2K\u001b[9A\u001b[37m⠋\u001b[0m \u001b[2mPreparing packages...\u001b[0m (123/132)\n",
            "\u001b[2mpyarrow   \u001b[0m \u001b[32m------------------------------\u001b[2m\u001b[0m\u001b[0m 35.67 MiB/36.64 MiB\n",
            "\u001b[2mnvidia-cufft-cu12\u001b[0m \u001b[32m-----------------------\u001b[2m-------\u001b[0m\u001b[0m 88.46 MiB/116.00 MiB\n",
            "\u001b[2mnvidia-cusolver-cu12\u001b[0m \u001b[32m-----------------------\u001b[2m-------\u001b[0m\u001b[0m 88.87 MiB/118.41 MiB\n",
            "\u001b[2mnvidia-nccl-cu12\u001b[0m \u001b[32m----------------\u001b[2m--------------\u001b[0m\u001b[0m 88.14 MiB/168.08 MiB\n",
            "\u001b[2mnvidia-cusparse-cu12\u001b[0m \u001b[32m---------------\u001b[2m---------------\u001b[0m\u001b[0m 88.89 MiB/186.88 MiB\n",
            "\u001b[2mtriton    \u001b[0m \u001b[32m--------------\u001b[2m----------------\u001b[0m\u001b[0m 88.64 MiB/199.65 MiB\n",
            "\u001b[2mnvidia-cublas-cu12\u001b[0m \u001b[32m-------\u001b[2m-----------------------\u001b[0m\u001b[0m 88.10 MiB/391.57 MiB\n",
            "\u001b[2mnvidia-cudnn-cu12\u001b[0m \u001b[32m-----\u001b[2m-------------------------\u001b[0m\u001b[0m 86.39 MiB/633.96 MiB\n",
            "\u001b[2K\u001b[9A\u001b[37m⠙\u001b[0m \u001b[2mPreparing packages...\u001b[0m (123/132)\n",
            "\u001b[2mpyarrow   \u001b[0m \u001b[32m------------------------------\u001b[2m\u001b[0m\u001b[0m 35.69 MiB/36.64 MiB\n",
            "\u001b[2mnvidia-cufft-cu12\u001b[0m \u001b[32m------------------------\u001b[2m------\u001b[0m\u001b[0m 88.96 MiB/116.00 MiB\n",
            "\u001b[2mnvidia-cusolver-cu12\u001b[0m \u001b[32m-----------------------\u001b[2m-------\u001b[0m\u001b[0m 89.09 MiB/118.41 MiB\n",
            "\u001b[2mnvidia-nccl-cu12\u001b[0m \u001b[32m----------------\u001b[2m--------------\u001b[0m\u001b[0m 88.64 MiB/168.08 MiB\n",
            "\u001b[2mnvidia-cusparse-cu12\u001b[0m \u001b[32m---------------\u001b[2m---------------\u001b[0m\u001b[0m 89.39 MiB/186.88 MiB\n",
            "\u001b[2mtriton    \u001b[0m \u001b[32m--------------\u001b[2m----------------\u001b[0m\u001b[0m 88.97 MiB/199.65 MiB\n",
            "\u001b[2mnvidia-cublas-cu12\u001b[0m \u001b[32m-------\u001b[2m-----------------------\u001b[0m\u001b[0m 88.63 MiB/391.57 MiB\n",
            "\u001b[2mnvidia-cudnn-cu12\u001b[0m \u001b[32m-----\u001b[2m-------------------------\u001b[0m\u001b[0m 86.76 MiB/633.96 MiB\n",
            "\u001b[2K\u001b[9A\u001b[37m⠙\u001b[0m \u001b[2mPreparing packages...\u001b[0m (123/132)\n",
            "\u001b[2mpyarrow   \u001b[0m \u001b[32m------------------------------\u001b[2m\u001b[0m\u001b[0m 35.69 MiB/36.64 MiB\n",
            "\u001b[2mnvidia-cufft-cu12\u001b[0m \u001b[32m------------------------\u001b[2m------\u001b[0m\u001b[0m 89.28 MiB/116.00 MiB\n",
            "\u001b[2mnvidia-cusolver-cu12\u001b[0m \u001b[32m-----------------------\u001b[2m-------\u001b[0m\u001b[0m 89.42 MiB/118.41 MiB\n",
            "\u001b[2mnvidia-nccl-cu12\u001b[0m \u001b[32m----------------\u001b[2m--------------\u001b[0m\u001b[0m 89.00 MiB/168.08 MiB\n",
            "\u001b[2mnvidia-cusparse-cu12\u001b[0m \u001b[32m---------------\u001b[2m---------------\u001b[0m\u001b[0m 89.71 MiB/186.88 MiB\n",
            "\u001b[2mtriton    \u001b[0m \u001b[32m--------------\u001b[2m----------------\u001b[0m\u001b[0m 89.48 MiB/199.65 MiB\n",
            "\u001b[2mnvidia-cublas-cu12\u001b[0m \u001b[32m-------\u001b[2m-----------------------\u001b[0m\u001b[0m 88.98 MiB/391.57 MiB\n",
            "\u001b[2mnvidia-cudnn-cu12\u001b[0m \u001b[32m-----\u001b[2m-------------------------\u001b[0m\u001b[0m 87.23 MiB/633.96 MiB\n",
            "\u001b[2K\u001b[9A\u001b[37m⠙\u001b[0m \u001b[2mPreparing packages...\u001b[0m (123/132)\n",
            "\u001b[2mpyarrow   \u001b[0m \u001b[32m------------------------------\u001b[2m\u001b[0m\u001b[0m 35.69 MiB/36.64 MiB\n",
            "\u001b[2mnvidia-cufft-cu12\u001b[0m \u001b[32m------------------------\u001b[2m------\u001b[0m\u001b[0m 89.81 MiB/116.00 MiB\n",
            "\u001b[2mnvidia-cusolver-cu12\u001b[0m \u001b[32m-----------------------\u001b[2m-------\u001b[0m\u001b[0m 89.98 MiB/118.41 MiB\n",
            "\u001b[2mnvidia-nccl-cu12\u001b[0m \u001b[32m----------------\u001b[2m--------------\u001b[0m\u001b[0m 89.28 MiB/168.08 MiB\n",
            "\u001b[2mnvidia-cusparse-cu12\u001b[0m \u001b[32m---------------\u001b[2m---------------\u001b[0m\u001b[0m 90.25 MiB/186.88 MiB\n",
            "\u001b[2mtriton    \u001b[0m \u001b[32m--------------\u001b[2m----------------\u001b[0m\u001b[0m 89.94 MiB/199.65 MiB\n",
            "\u001b[2mnvidia-cublas-cu12\u001b[0m \u001b[32m-------\u001b[2m-----------------------\u001b[0m\u001b[0m 89.12 MiB/391.57 MiB\n",
            "\u001b[2mnvidia-cudnn-cu12\u001b[0m \u001b[32m-----\u001b[2m-------------------------\u001b[0m\u001b[0m 87.39 MiB/633.96 MiB\n",
            "\u001b[2K\u001b[9A\u001b[37m⠙\u001b[0m \u001b[2mPreparing packages...\u001b[0m (123/132)\n",
            "\u001b[2mpyarrow   \u001b[0m \u001b[32m------------------------------\u001b[2m\u001b[0m\u001b[0m 35.69 MiB/36.64 MiB\n",
            "\u001b[2mnvidia-cufft-cu12\u001b[0m \u001b[32m------------------------\u001b[2m------\u001b[0m\u001b[0m 89.96 MiB/116.00 MiB\n",
            "\u001b[2mnvidia-cusolver-cu12\u001b[0m \u001b[32m-----------------------\u001b[2m-------\u001b[0m\u001b[0m 90.14 MiB/118.41 MiB\n",
            "\u001b[2mnvidia-nccl-cu12\u001b[0m \u001b[32m-----------------\u001b[2m-------------\u001b[0m\u001b[0m 89.67 MiB/168.08 MiB\n",
            "\u001b[2mnvidia-cusparse-cu12\u001b[0m \u001b[32m---------------\u001b[2m---------------\u001b[0m\u001b[0m 90.43 MiB/186.88 MiB\n",
            "\u001b[2mtriton    \u001b[0m \u001b[32m--------------\u001b[2m----------------\u001b[0m\u001b[0m 90.45 MiB/199.65 MiB\n",
            "\u001b[2mnvidia-cublas-cu12\u001b[0m \u001b[32m-------\u001b[2m-----------------------\u001b[0m\u001b[0m 90.00 MiB/391.57 MiB\n",
            "\u001b[2mnvidia-cudnn-cu12\u001b[0m \u001b[32m-----\u001b[2m-------------------------\u001b[0m\u001b[0m 87.88 MiB/633.96 MiB\n",
            "\u001b[2K\u001b[9A\u001b[37m⠹\u001b[0m \u001b[2mPreparing packages...\u001b[0m (123/132)\n",
            "\u001b[2mpyarrow   \u001b[0m \u001b[32m------------------------------\u001b[2m\u001b[0m\u001b[0m 35.69 MiB/36.64 MiB\n",
            "\u001b[2mnvidia-cufft-cu12\u001b[0m \u001b[32m------------------------\u001b[2m------\u001b[0m\u001b[0m 90.46 MiB/116.00 MiB\n",
            "\u001b[2mnvidia-cusolver-cu12\u001b[0m \u001b[32m-----------------------\u001b[2m-------\u001b[0m\u001b[0m 90.65 MiB/118.41 MiB\n",
            "\u001b[2mnvidia-nccl-cu12\u001b[0m \u001b[32m-----------------\u001b[2m-------------\u001b[0m\u001b[0m 90.03 MiB/168.08 MiB\n",
            "\u001b[2mnvidia-cusparse-cu12\u001b[0m \u001b[32m---------------\u001b[2m---------------\u001b[0m\u001b[0m 90.91 MiB/186.88 MiB\n",
            "\u001b[2mtriton    \u001b[0m \u001b[32m--------------\u001b[2m----------------\u001b[0m\u001b[0m 90.62 MiB/199.65 MiB\n",
            "\u001b[2mnvidia-cublas-cu12\u001b[0m \u001b[32m-------\u001b[2m-----------------------\u001b[0m\u001b[0m 90.14 MiB/391.57 MiB\n",
            "\u001b[2mnvidia-cudnn-cu12\u001b[0m \u001b[32m-----\u001b[2m-------------------------\u001b[0m\u001b[0m 88.38 MiB/633.96 MiB\n",
            "\u001b[2K\u001b[9A\u001b[37m⠹\u001b[0m \u001b[2mPreparing packages...\u001b[0m (123/132)\n",
            "\u001b[2mpyarrow   \u001b[0m \u001b[32m------------------------------\u001b[2m\u001b[0m\u001b[0m 35.69 MiB/36.64 MiB\n",
            "\u001b[2mnvidia-cufft-cu12\u001b[0m \u001b[32m------------------------\u001b[2m------\u001b[0m\u001b[0m 90.81 MiB/116.00 MiB\n",
            "\u001b[2mnvidia-cusolver-cu12\u001b[0m \u001b[32m------------------------\u001b[2m------\u001b[0m\u001b[0m 91.13 MiB/118.41 MiB\n",
            "\u001b[2mnvidia-nccl-cu12\u001b[0m \u001b[32m-----------------\u001b[2m-------------\u001b[0m\u001b[0m 90.59 MiB/168.08 MiB\n",
            "\u001b[2mnvidia-cusparse-cu12\u001b[0m \u001b[32m---------------\u001b[2m---------------\u001b[0m\u001b[0m 91.32 MiB/186.88 MiB\n",
            "\u001b[2mtriton    \u001b[0m \u001b[32m--------------\u001b[2m----------------\u001b[0m\u001b[0m 90.95 MiB/199.65 MiB\n",
            "\u001b[2mnvidia-cublas-cu12\u001b[0m \u001b[32m-------\u001b[2m-----------------------\u001b[0m\u001b[0m 90.48 MiB/391.57 MiB\n",
            "\u001b[2mnvidia-cudnn-cu12\u001b[0m \u001b[32m-----\u001b[2m-------------------------\u001b[0m\u001b[0m 88.70 MiB/633.96 MiB\n",
            "\u001b[2K\u001b[9A\u001b[37m⠹\u001b[0m \u001b[2mPreparing packages...\u001b[0m (123/132)\n",
            "\u001b[2mpyarrow   \u001b[0m \u001b[32m------------------------------\u001b[2m\u001b[0m\u001b[0m 35.69 MiB/36.64 MiB\n",
            "\u001b[2mnvidia-cufft-cu12\u001b[0m \u001b[32m------------------------\u001b[2m------\u001b[0m\u001b[0m 91.28 MiB/116.00 MiB\n",
            "\u001b[2mnvidia-cusolver-cu12\u001b[0m \u001b[32m------------------------\u001b[2m------\u001b[0m\u001b[0m 91.44 MiB/118.41 MiB\n",
            "\u001b[2mnvidia-nccl-cu12\u001b[0m \u001b[32m-----------------\u001b[2m-------------\u001b[0m\u001b[0m 91.00 MiB/168.08 MiB\n",
            "\u001b[2mnvidia-cusparse-cu12\u001b[0m \u001b[32m---------------\u001b[2m---------------\u001b[0m\u001b[0m 91.86 MiB/186.88 MiB\n",
            "\u001b[2mtriton    \u001b[0m \u001b[32m--------------\u001b[2m----------------\u001b[0m\u001b[0m 91.27 MiB/199.65 MiB\n",
            "\u001b[2mnvidia-cublas-cu12\u001b[0m \u001b[32m-------\u001b[2m-----------------------\u001b[0m\u001b[0m 90.98 MiB/391.57 MiB\n",
            "\u001b[2mnvidia-cudnn-cu12\u001b[0m \u001b[32m-----\u001b[2m-------------------------\u001b[0m\u001b[0m 89.20 MiB/633.96 MiB\n",
            "\u001b[2K\u001b[9A\u001b[37m⠹\u001b[0m \u001b[2mPreparing packages...\u001b[0m (123/132)\n",
            "\u001b[2mpyarrow   \u001b[0m \u001b[32m------------------------------\u001b[2m\u001b[0m\u001b[0m 35.69 MiB/36.64 MiB\n",
            "\u001b[2mnvidia-cufft-cu12\u001b[0m \u001b[32m------------------------\u001b[2m------\u001b[0m\u001b[0m 91.79 MiB/116.00 MiB\n",
            "\u001b[2mnvidia-cusolver-cu12\u001b[0m \u001b[32m------------------------\u001b[2m------\u001b[0m\u001b[0m 91.64 MiB/118.41 MiB\n",
            "\u001b[2mnvidia-nccl-cu12\u001b[0m \u001b[32m-----------------\u001b[2m-------------\u001b[0m\u001b[0m 91.47 MiB/168.08 MiB\n",
            "\u001b[2mnvidia-cusparse-cu12\u001b[0m \u001b[32m---------------\u001b[2m---------------\u001b[0m\u001b[0m 92.04 MiB/186.88 MiB\n",
            "\u001b[2mtriton    \u001b[0m \u001b[32m--------------\u001b[2m----------------\u001b[0m\u001b[0m 92.00 MiB/199.65 MiB\n",
            "\u001b[2mnvidia-cublas-cu12\u001b[0m \u001b[32m-------\u001b[2m-----------------------\u001b[0m\u001b[0m 91.36 MiB/391.57 MiB\n",
            "\u001b[2mnvidia-cudnn-cu12\u001b[0m \u001b[32m-----\u001b[2m-------------------------\u001b[0m\u001b[0m 89.39 MiB/633.96 MiB\n",
            "\u001b[2K\u001b[9A\u001b[37m⠸\u001b[0m \u001b[2mPreparing packages...\u001b[0m (123/132)\n",
            "\u001b[2mpyarrow   \u001b[0m \u001b[32m------------------------------\u001b[2m\u001b[0m\u001b[0m 35.71 MiB/36.64 MiB\n",
            "\u001b[2mnvidia-cufft-cu12\u001b[0m \u001b[32m------------------------\u001b[2m------\u001b[0m\u001b[0m 92.00 MiB/116.00 MiB\n",
            "\u001b[2mnvidia-cusolver-cu12\u001b[0m \u001b[32m------------------------\u001b[2m------\u001b[0m\u001b[0m 92.16 MiB/118.41 MiB\n",
            "\u001b[2mnvidia-nccl-cu12\u001b[0m \u001b[32m-----------------\u001b[2m-------------\u001b[0m\u001b[0m 91.65 MiB/168.08 MiB\n",
            "\u001b[2mnvidia-cusparse-cu12\u001b[0m \u001b[32m---------------\u001b[2m---------------\u001b[0m\u001b[0m 92.56 MiB/186.88 MiB\n",
            "\u001b[2mtriton    \u001b[0m \u001b[32m--------------\u001b[2m----------------\u001b[0m\u001b[0m 92.22 MiB/199.65 MiB\n",
            "\u001b[2mnvidia-cublas-cu12\u001b[0m \u001b[32m--------\u001b[2m----------------------\u001b[0m\u001b[0m 91.98 MiB/391.57 MiB\n",
            "\u001b[2mnvidia-cudnn-cu12\u001b[0m \u001b[32m-----\u001b[2m-------------------------\u001b[0m\u001b[0m 89.90 MiB/633.96 MiB\n",
            "\u001b[2K\u001b[9A\u001b[37m⠸\u001b[0m \u001b[2mPreparing packages...\u001b[0m (123/132)\n",
            "\u001b[2mpyarrow   \u001b[0m \u001b[32m------------------------------\u001b[2m\u001b[0m\u001b[0m 35.71 MiB/36.64 MiB\n",
            "\u001b[2mnvidia-cufft-cu12\u001b[0m \u001b[32m------------------------\u001b[2m------\u001b[0m\u001b[0m 92.30 MiB/116.00 MiB\n",
            "\u001b[2mnvidia-cusolver-cu12\u001b[0m \u001b[32m------------------------\u001b[2m------\u001b[0m\u001b[0m 92.70 MiB/118.41 MiB\n",
            "\u001b[2mnvidia-nccl-cu12\u001b[0m \u001b[32m-----------------\u001b[2m-------------\u001b[0m\u001b[0m 91.96 MiB/168.08 MiB\n",
            "\u001b[2mnvidia-cusparse-cu12\u001b[0m \u001b[32m---------------\u001b[2m---------------\u001b[0m\u001b[0m 93.07 MiB/186.88 MiB\n",
            "\u001b[2mtriton    \u001b[0m \u001b[32m--------------\u001b[2m----------------\u001b[0m\u001b[0m 92.62 MiB/199.65 MiB\n",
            "\u001b[2mnvidia-cublas-cu12\u001b[0m \u001b[32m--------\u001b[2m----------------------\u001b[0m\u001b[0m 92.14 MiB/391.57 MiB\n",
            "\u001b[2mnvidia-cudnn-cu12\u001b[0m \u001b[32m-----\u001b[2m-------------------------\u001b[0m\u001b[0m 90.40 MiB/633.96 MiB\n",
            "\u001b[2K\u001b[9A\u001b[37m⠸\u001b[0m \u001b[2mPreparing packages...\u001b[0m (123/132)\n",
            "\u001b[2mpyarrow   \u001b[0m \u001b[32m------------------------------\u001b[2m\u001b[0m\u001b[0m 35.71 MiB/36.64 MiB\n",
            "\u001b[2mnvidia-cufft-cu12\u001b[0m \u001b[32m-------------------------\u001b[2m-----\u001b[0m\u001b[0m 92.84 MiB/116.00 MiB\n",
            "\u001b[2mnvidia-cusolver-cu12\u001b[0m \u001b[32m------------------------\u001b[2m------\u001b[0m\u001b[0m 92.96 MiB/118.41 MiB\n",
            "\u001b[2mnvidia-nccl-cu12\u001b[0m \u001b[32m-----------------\u001b[2m-------------\u001b[0m\u001b[0m 92.49 MiB/168.08 MiB\n",
            "\u001b[2mnvidia-cusparse-cu12\u001b[0m \u001b[32m----------------\u001b[2m--------------\u001b[0m\u001b[0m 93.45 MiB/186.88 MiB\n",
            "\u001b[2mtriton    \u001b[0m \u001b[32m--------------\u001b[2m----------------\u001b[0m\u001b[0m 92.95 MiB/199.65 MiB\n",
            "\u001b[2mnvidia-cublas-cu12\u001b[0m \u001b[32m--------\u001b[2m----------------------\u001b[0m\u001b[0m 92.50 MiB/391.57 MiB\n",
            "\u001b[2mnvidia-cudnn-cu12\u001b[0m \u001b[32m-----\u001b[2m-------------------------\u001b[0m\u001b[0m 90.68 MiB/633.96 MiB\n",
            "\u001b[2K\u001b[9A\u001b[37m⠸\u001b[0m \u001b[2mPreparing packages...\u001b[0m (123/132)\n",
            "\u001b[2mpyarrow   \u001b[0m \u001b[32m------------------------------\u001b[2m\u001b[0m\u001b[0m 35.71 MiB/36.64 MiB\n",
            "\u001b[2mnvidia-cufft-cu12\u001b[0m \u001b[32m-------------------------\u001b[2m-----\u001b[0m\u001b[0m 93.35 MiB/116.00 MiB\n",
            "\u001b[2mnvidia-cusolver-cu12\u001b[0m \u001b[32m------------------------\u001b[2m------\u001b[0m\u001b[0m 93.53 MiB/118.41 MiB\n",
            "\u001b[2mnvidia-nccl-cu12\u001b[0m \u001b[32m-----------------\u001b[2m-------------\u001b[0m\u001b[0m 92.67 MiB/168.08 MiB\n",
            "\u001b[2mnvidia-cusparse-cu12\u001b[0m \u001b[32m----------------\u001b[2m--------------\u001b[0m\u001b[0m 93.98 MiB/186.88 MiB\n",
            "\u001b[2mtriton    \u001b[0m \u001b[32m--------------\u001b[2m----------------\u001b[0m\u001b[0m 93.14 MiB/199.65 MiB\n",
            "\u001b[2mnvidia-cublas-cu12\u001b[0m \u001b[32m--------\u001b[2m----------------------\u001b[0m\u001b[0m 92.81 MiB/391.57 MiB\n",
            "\u001b[2mnvidia-cudnn-cu12\u001b[0m \u001b[32m-----\u001b[2m-------------------------\u001b[0m\u001b[0m 91.16 MiB/633.96 MiB\n",
            "\u001b[2K\u001b[9A\u001b[37m⠼\u001b[0m \u001b[2mPreparing packages...\u001b[0m (123/132)\n",
            "\u001b[2mpyarrow   \u001b[0m \u001b[32m------------------------------\u001b[2m\u001b[0m\u001b[0m 35.71 MiB/36.64 MiB\n",
            "\u001b[2mnvidia-cufft-cu12\u001b[0m \u001b[32m-------------------------\u001b[2m-----\u001b[0m\u001b[0m 93.57 MiB/116.00 MiB\n",
            "\u001b[2mnvidia-cusolver-cu12\u001b[0m \u001b[32m------------------------\u001b[2m------\u001b[0m\u001b[0m 93.68 MiB/118.41 MiB\n",
            "\u001b[2mnvidia-nccl-cu12\u001b[0m \u001b[32m-----------------\u001b[2m-------------\u001b[0m\u001b[0m 93.49 MiB/168.08 MiB\n",
            "\u001b[2mnvidia-cusparse-cu12\u001b[0m \u001b[32m----------------\u001b[2m--------------\u001b[0m\u001b[0m 94.49 MiB/186.88 MiB\n",
            "\u001b[2mtriton    \u001b[0m \u001b[32m---------------\u001b[2m---------------\u001b[0m\u001b[0m 93.97 MiB/199.65 MiB\n",
            "\u001b[2mnvidia-cublas-cu12\u001b[0m \u001b[32m--------\u001b[2m----------------------\u001b[0m\u001b[0m 93.16 MiB/391.57 MiB\n",
            "\u001b[2mnvidia-cudnn-cu12\u001b[0m \u001b[32m-----\u001b[2m-------------------------\u001b[0m\u001b[0m 91.36 MiB/633.96 MiB\n",
            "\u001b[2K\u001b[9A\u001b[37m⠼\u001b[0m \u001b[2mPreparing packages...\u001b[0m (123/132)\n",
            "\u001b[2mpyarrow   \u001b[0m \u001b[32m------------------------------\u001b[2m\u001b[0m\u001b[0m 35.72 MiB/36.64 MiB\n",
            "\u001b[2mnvidia-cufft-cu12\u001b[0m \u001b[32m-------------------------\u001b[2m-----\u001b[0m\u001b[0m 94.08 MiB/116.00 MiB\n",
            "\u001b[2mnvidia-cusolver-cu12\u001b[0m \u001b[32m------------------------\u001b[2m------\u001b[0m\u001b[0m 94.12 MiB/118.41 MiB\n",
            "\u001b[2mnvidia-nccl-cu12\u001b[0m \u001b[32m-----------------\u001b[2m-------------\u001b[0m\u001b[0m 93.78 MiB/168.08 MiB\n",
            "\u001b[2mnvidia-cusparse-cu12\u001b[0m \u001b[32m----------------\u001b[2m--------------\u001b[0m\u001b[0m 94.68 MiB/186.88 MiB\n",
            "\u001b[2mtriton    \u001b[0m \u001b[32m---------------\u001b[2m---------------\u001b[0m\u001b[0m 94.14 MiB/199.65 MiB\n",
            "\u001b[2mnvidia-cublas-cu12\u001b[0m \u001b[32m--------\u001b[2m----------------------\u001b[0m\u001b[0m 93.65 MiB/391.57 MiB\n",
            "\u001b[2mnvidia-cudnn-cu12\u001b[0m \u001b[32m-----\u001b[2m-------------------------\u001b[0m\u001b[0m 91.88 MiB/633.96 MiB\n",
            "\u001b[2K\u001b[9A\u001b[37m⠼\u001b[0m \u001b[2mPreparing packages...\u001b[0m (123/132)\n",
            "\u001b[2mpyarrow   \u001b[0m \u001b[32m------------------------------\u001b[2m\u001b[0m\u001b[0m 35.72 MiB/36.64 MiB\n",
            "\u001b[2mnvidia-cufft-cu12\u001b[0m \u001b[32m-------------------------\u001b[2m-----\u001b[0m\u001b[0m 94.61 MiB/116.00 MiB\n",
            "\u001b[2mnvidia-cusolver-cu12\u001b[0m \u001b[32m------------------------\u001b[2m------\u001b[0m\u001b[0m 94.65 MiB/118.41 MiB\n",
            "\u001b[2mnvidia-nccl-cu12\u001b[0m \u001b[32m-----------------\u001b[2m-------------\u001b[0m\u001b[0m 93.97 MiB/168.08 MiB\n",
            "\u001b[2mnvidia-cusparse-cu12\u001b[0m \u001b[32m----------------\u001b[2m--------------\u001b[0m\u001b[0m 94.99 MiB/186.88 MiB\n",
            "\u001b[2mtriton    \u001b[0m \u001b[32m---------------\u001b[2m---------------\u001b[0m\u001b[0m 94.52 MiB/199.65 MiB\n",
            "\u001b[2mnvidia-cublas-cu12\u001b[0m \u001b[32m--------\u001b[2m----------------------\u001b[0m\u001b[0m 93.98 MiB/391.57 MiB\n",
            "\u001b[2mnvidia-cudnn-cu12\u001b[0m \u001b[32m-----\u001b[2m-------------------------\u001b[0m\u001b[0m 92.37 MiB/633.96 MiB\n",
            "\u001b[2K\u001b[9A\u001b[37m⠼\u001b[0m \u001b[2mPreparing packages...\u001b[0m (123/132)\n",
            "\u001b[2mpyarrow   \u001b[0m \u001b[32m------------------------------\u001b[2m\u001b[0m\u001b[0m 35.72 MiB/36.64 MiB\n",
            "\u001b[2mnvidia-cufft-cu12\u001b[0m \u001b[32m-------------------------\u001b[2m-----\u001b[0m\u001b[0m 94.98 MiB/116.00 MiB\n",
            "\u001b[2mnvidia-cusolver-cu12\u001b[0m \u001b[32m-------------------------\u001b[2m-----\u001b[0m\u001b[0m 94.96 MiB/118.41 MiB\n",
            "\u001b[2mnvidia-nccl-cu12\u001b[0m \u001b[32m-----------------\u001b[2m-------------\u001b[0m\u001b[0m 94.45 MiB/168.08 MiB\n",
            "\u001b[2mnvidia-cusparse-cu12\u001b[0m \u001b[32m----------------\u001b[2m--------------\u001b[0m\u001b[0m 95.46 MiB/186.88 MiB\n",
            "\u001b[2mtriton    \u001b[0m \u001b[32m---------------\u001b[2m---------------\u001b[0m\u001b[0m 95.00 MiB/199.65 MiB\n",
            "\u001b[2mnvidia-cublas-cu12\u001b[0m \u001b[32m--------\u001b[2m----------------------\u001b[0m\u001b[0m 94.50 MiB/391.57 MiB\n",
            "\u001b[2mnvidia-cudnn-cu12\u001b[0m \u001b[32m-----\u001b[2m-------------------------\u001b[0m\u001b[0m 92.72 MiB/633.96 MiB\n",
            "\u001b[2K\u001b[9A\u001b[37m⠴\u001b[0m \u001b[2mPreparing packages...\u001b[0m (123/132)\n",
            "\u001b[2mpyarrow   \u001b[0m \u001b[32m------------------------------\u001b[2m\u001b[0m\u001b[0m 35.72 MiB/36.64 MiB\n",
            "\u001b[2mnvidia-cufft-cu12\u001b[0m \u001b[32m-------------------------\u001b[2m-----\u001b[0m\u001b[0m 95.12 MiB/116.00 MiB\n",
            "\u001b[2mnvidia-cusolver-cu12\u001b[0m \u001b[32m-------------------------\u001b[2m-----\u001b[0m\u001b[0m 95.53 MiB/118.41 MiB\n",
            "\u001b[2mnvidia-nccl-cu12\u001b[0m \u001b[32m-----------------\u001b[2m-------------\u001b[0m\u001b[0m 94.99 MiB/168.08 MiB\n",
            "\u001b[2mnvidia-cusparse-cu12\u001b[0m \u001b[32m----------------\u001b[2m--------------\u001b[0m\u001b[0m 95.68 MiB/186.88 MiB\n",
            "\u001b[2mtriton    \u001b[0m \u001b[32m---------------\u001b[2m---------------\u001b[0m\u001b[0m 95.19 MiB/199.65 MiB\n",
            "\u001b[2mnvidia-cublas-cu12\u001b[0m \u001b[32m--------\u001b[2m----------------------\u001b[0m\u001b[0m 94.97 MiB/391.57 MiB\n",
            "\u001b[2mnvidia-cudnn-cu12\u001b[0m \u001b[32m-----\u001b[2m-------------------------\u001b[0m\u001b[0m 93.28 MiB/633.96 MiB\n",
            "\u001b[2K\u001b[9A\u001b[37m⠴\u001b[0m \u001b[2mPreparing packages...\u001b[0m (123/132)\n",
            "\u001b[2mpyarrow   \u001b[0m \u001b[32m------------------------------\u001b[2m\u001b[0m\u001b[0m 35.74 MiB/36.64 MiB\n",
            "\u001b[2mnvidia-cufft-cu12\u001b[0m \u001b[32m-------------------------\u001b[2m-----\u001b[0m\u001b[0m 95.63 MiB/116.00 MiB\n",
            "\u001b[2mnvidia-cusolver-cu12\u001b[0m \u001b[32m-------------------------\u001b[2m-----\u001b[0m\u001b[0m 95.67 MiB/118.41 MiB\n",
            "\u001b[2mnvidia-nccl-cu12\u001b[0m \u001b[32m------------------\u001b[2m------------\u001b[0m\u001b[0m 95.46 MiB/168.08 MiB\n",
            "\u001b[2mnvidia-cusparse-cu12\u001b[0m \u001b[32m----------------\u001b[2m--------------\u001b[0m\u001b[0m 96.19 MiB/186.88 MiB\n",
            "\u001b[2mtriton    \u001b[0m \u001b[32m---------------\u001b[2m---------------\u001b[0m\u001b[0m 95.69 MiB/199.65 MiB\n",
            "\u001b[2mnvidia-cublas-cu12\u001b[0m \u001b[32m--------\u001b[2m----------------------\u001b[0m\u001b[0m 95.32 MiB/391.57 MiB\n",
            "\u001b[2mnvidia-cudnn-cu12\u001b[0m \u001b[32m-----\u001b[2m-------------------------\u001b[0m\u001b[0m 93.59 MiB/633.96 MiB\n",
            "\u001b[2K\u001b[9A\u001b[37m⠴\u001b[0m \u001b[2mPreparing packages...\u001b[0m (123/132)\n",
            "\u001b[2mpyarrow   \u001b[0m \u001b[32m------------------------------\u001b[2m\u001b[0m\u001b[0m 35.74 MiB/36.64 MiB\n",
            "\u001b[2mnvidia-cufft-cu12\u001b[0m \u001b[32m-------------------------\u001b[2m-----\u001b[0m\u001b[0m 96.15 MiB/116.00 MiB\n",
            "\u001b[2mnvidia-cusolver-cu12\u001b[0m \u001b[32m-------------------------\u001b[2m-----\u001b[0m\u001b[0m 96.00 MiB/118.41 MiB\n",
            "\u001b[2mnvidia-nccl-cu12\u001b[0m \u001b[32m------------------\u001b[2m------------\u001b[0m\u001b[0m 95.68 MiB/168.08 MiB\n",
            "\u001b[2mnvidia-cusparse-cu12\u001b[0m \u001b[32m----------------\u001b[2m--------------\u001b[0m\u001b[0m 96.61 MiB/186.88 MiB\n",
            "\u001b[2mtriton    \u001b[0m \u001b[32m---------------\u001b[2m---------------\u001b[0m\u001b[0m 96.19 MiB/199.65 MiB\n",
            "\u001b[2mnvidia-cublas-cu12\u001b[0m \u001b[32m--------\u001b[2m----------------------\u001b[0m\u001b[0m 95.68 MiB/391.57 MiB\n",
            "\u001b[2mnvidia-cudnn-cu12\u001b[0m \u001b[32m-----\u001b[2m-------------------------\u001b[0m\u001b[0m 93.94 MiB/633.96 MiB\n",
            "\u001b[2K\u001b[9A\u001b[37m⠴\u001b[0m \u001b[2mPreparing packages...\u001b[0m (123/132)\n",
            "\u001b[2mpyarrow   \u001b[0m \u001b[32m------------------------------\u001b[2m\u001b[0m\u001b[0m 35.74 MiB/36.64 MiB\n",
            "\u001b[2mnvidia-cufft-cu12\u001b[0m \u001b[32m-------------------------\u001b[2m-----\u001b[0m\u001b[0m 96.48 MiB/116.00 MiB\n",
            "\u001b[2mnvidia-cusolver-cu12\u001b[0m \u001b[32m-------------------------\u001b[2m-----\u001b[0m\u001b[0m 96.64 MiB/118.41 MiB\n",
            "\u001b[2mnvidia-nccl-cu12\u001b[0m \u001b[32m------------------\u001b[2m------------\u001b[0m\u001b[0m 95.97 MiB/168.08 MiB\n",
            "\u001b[2mnvidia-cusparse-cu12\u001b[0m \u001b[32m----------------\u001b[2m--------------\u001b[0m\u001b[0m 96.93 MiB/186.88 MiB\n",
            "\u001b[2mtriton    \u001b[0m \u001b[32m---------------\u001b[2m---------------\u001b[0m\u001b[0m 96.52 MiB/199.65 MiB\n",
            "\u001b[2mnvidia-cublas-cu12\u001b[0m \u001b[32m--------\u001b[2m----------------------\u001b[0m\u001b[0m 96.00 MiB/391.57 MiB\n",
            "\u001b[2mnvidia-cudnn-cu12\u001b[0m \u001b[32m-----\u001b[2m-------------------------\u001b[0m\u001b[0m 94.31 MiB/633.96 MiB\n",
            "\u001b[2K\u001b[9A\u001b[37m⠦\u001b[0m \u001b[2mPreparing packages...\u001b[0m (123/132)\n",
            "\u001b[2mpyarrow   \u001b[0m \u001b[32m------------------------------\u001b[2m\u001b[0m\u001b[0m 35.74 MiB/36.64 MiB\n",
            "\u001b[2mnvidia-cufft-cu12\u001b[0m \u001b[32m--------------------------\u001b[2m----\u001b[0m\u001b[0m 97.03 MiB/116.00 MiB\n",
            "\u001b[2mnvidia-cusolver-cu12\u001b[0m \u001b[32m-------------------------\u001b[2m-----\u001b[0m\u001b[0m 96.95 MiB/118.41 MiB\n",
            "\u001b[2mnvidia-nccl-cu12\u001b[0m \u001b[32m------------------\u001b[2m------------\u001b[0m\u001b[0m 96.19 MiB/168.08 MiB\n",
            "\u001b[2mnvidia-cusparse-cu12\u001b[0m \u001b[32m----------------\u001b[2m--------------\u001b[0m\u001b[0m 97.46 MiB/186.88 MiB\n",
            "\u001b[2mtriton    \u001b[0m \u001b[32m---------------\u001b[2m---------------\u001b[0m\u001b[0m 97.03 MiB/199.65 MiB\n",
            "\u001b[2mnvidia-cublas-cu12\u001b[0m \u001b[32m--------\u001b[2m----------------------\u001b[0m\u001b[0m 96.19 MiB/391.57 MiB\n",
            "\u001b[2mnvidia-cudnn-cu12\u001b[0m \u001b[32m-----\u001b[2m-------------------------\u001b[0m\u001b[0m 94.75 MiB/633.96 MiB\n",
            "\u001b[2K\u001b[9A\u001b[37m⠦\u001b[0m \u001b[2mPreparing packages...\u001b[0m (123/132)\n",
            "\u001b[2mpyarrow   \u001b[0m \u001b[32m------------------------------\u001b[2m\u001b[0m\u001b[0m 35.75 MiB/36.64 MiB\n",
            "\u001b[2mnvidia-cufft-cu12\u001b[0m \u001b[32m--------------------------\u001b[2m----\u001b[0m\u001b[0m 97.21 MiB/116.00 MiB\n",
            "\u001b[2mnvidia-cusolver-cu12\u001b[0m \u001b[32m-------------------------\u001b[2m-----\u001b[0m\u001b[0m 97.47 MiB/118.41 MiB\n",
            "\u001b[2mnvidia-nccl-cu12\u001b[0m \u001b[32m------------------\u001b[2m------------\u001b[0m\u001b[0m 96.70 MiB/168.08 MiB\n",
            "\u001b[2mnvidia-cusparse-cu12\u001b[0m \u001b[32m----------------\u001b[2m--------------\u001b[0m\u001b[0m 97.71 MiB/186.88 MiB\n",
            "\u001b[2mtriton    \u001b[0m \u001b[32m---------------\u001b[2m---------------\u001b[0m\u001b[0m 97.25 MiB/199.65 MiB\n",
            "\u001b[2mnvidia-cublas-cu12\u001b[0m \u001b[32m--------\u001b[2m----------------------\u001b[0m\u001b[0m 96.70 MiB/391.57 MiB\n",
            "\u001b[2mnvidia-cudnn-cu12\u001b[0m \u001b[32m-----\u001b[2m-------------------------\u001b[0m\u001b[0m 95.12 MiB/633.96 MiB\n",
            "\u001b[2K\u001b[9A\u001b[37m⠦\u001b[0m \u001b[2mPreparing packages...\u001b[0m (123/132)\n",
            "\u001b[2mpyarrow   \u001b[0m \u001b[32m------------------------------\u001b[2m\u001b[0m\u001b[0m 35.75 MiB/36.64 MiB\n",
            "\u001b[2mnvidia-cufft-cu12\u001b[0m \u001b[32m--------------------------\u001b[2m----\u001b[0m\u001b[0m 97.76 MiB/116.00 MiB\n",
            "\u001b[2mnvidia-cusolver-cu12\u001b[0m \u001b[32m-------------------------\u001b[2m-----\u001b[0m\u001b[0m 97.70 MiB/118.41 MiB\n",
            "\u001b[2mnvidia-nccl-cu12\u001b[0m \u001b[32m------------------\u001b[2m------------\u001b[0m\u001b[0m 97.18 MiB/168.08 MiB\n",
            "\u001b[2mnvidia-cusparse-cu12\u001b[0m \u001b[32m----------------\u001b[2m--------------\u001b[0m\u001b[0m 98.17 MiB/186.88 MiB\n",
            "\u001b[2mtriton    \u001b[0m \u001b[32m---------------\u001b[2m---------------\u001b[0m\u001b[0m 97.72 MiB/199.65 MiB\n",
            "\u001b[2mnvidia-cublas-cu12\u001b[0m \u001b[32m--------\u001b[2m----------------------\u001b[0m\u001b[0m 97.19 MiB/391.57 MiB\n",
            "\u001b[2mnvidia-cudnn-cu12\u001b[0m \u001b[32m-----\u001b[2m-------------------------\u001b[0m\u001b[0m 95.45 MiB/633.96 MiB\n",
            "\u001b[2K\u001b[9A\u001b[37m⠦\u001b[0m \u001b[2mPreparing packages...\u001b[0m (123/132)\n",
            "\u001b[2mpyarrow   \u001b[0m \u001b[32m------------------------------\u001b[2m\u001b[0m\u001b[0m 35.75 MiB/36.64 MiB\n",
            "\u001b[2mnvidia-cufft-cu12\u001b[0m \u001b[32m--------------------------\u001b[2m----\u001b[0m\u001b[0m 98.00 MiB/116.00 MiB\n",
            "\u001b[2mnvidia-cusolver-cu12\u001b[0m \u001b[32m-------------------------\u001b[2m-----\u001b[0m\u001b[0m 97.95 MiB/118.41 MiB\n",
            "\u001b[2mnvidia-nccl-cu12\u001b[0m \u001b[32m------------------\u001b[2m------------\u001b[0m\u001b[0m 97.55 MiB/168.08 MiB\n",
            "\u001b[2mnvidia-cusparse-cu12\u001b[0m \u001b[32m----------------\u001b[2m--------------\u001b[0m\u001b[0m 98.68 MiB/186.88 MiB\n",
            "\u001b[2mtriton    \u001b[0m \u001b[32m---------------\u001b[2m---------------\u001b[0m\u001b[0m 98.02 MiB/199.65 MiB\n",
            "\u001b[2mnvidia-cublas-cu12\u001b[0m \u001b[32m--------\u001b[2m----------------------\u001b[0m\u001b[0m 97.76 MiB/391.57 MiB\n",
            "\u001b[2mnvidia-cudnn-cu12\u001b[0m \u001b[32m-----\u001b[2m-------------------------\u001b[0m\u001b[0m 95.98 MiB/633.96 MiB\n",
            "\u001b[2K\u001b[9A\u001b[37m⠧\u001b[0m \u001b[2mPreparing packages...\u001b[0m (123/132)\n",
            "\u001b[2mpyarrow   \u001b[0m \u001b[32m------------------------------\u001b[2m\u001b[0m\u001b[0m 35.75 MiB/36.64 MiB\n",
            "\u001b[2mnvidia-cufft-cu12\u001b[0m \u001b[32m--------------------------\u001b[2m----\u001b[0m\u001b[0m 98.55 MiB/116.00 MiB\n",
            "\u001b[2mnvidia-cusolver-cu12\u001b[0m \u001b[32m-------------------------\u001b[2m-----\u001b[0m\u001b[0m 98.20 MiB/118.41 MiB\n",
            "\u001b[2mnvidia-nccl-cu12\u001b[0m \u001b[32m------------------\u001b[2m------------\u001b[0m\u001b[0m 97.95 MiB/168.08 MiB\n",
            "\u001b[2mnvidia-cusparse-cu12\u001b[0m \u001b[32m----------------\u001b[2m--------------\u001b[0m\u001b[0m 98.99 MiB/186.88 MiB\n",
            "\u001b[2mtriton    \u001b[0m \u001b[32m---------------\u001b[2m---------------\u001b[0m\u001b[0m 98.62 MiB/199.65 MiB\n",
            "\u001b[2mnvidia-cublas-cu12\u001b[0m \u001b[32m--------\u001b[2m----------------------\u001b[0m\u001b[0m 97.99 MiB/391.57 MiB\n",
            "\u001b[2mnvidia-cudnn-cu12\u001b[0m \u001b[32m-----\u001b[2m-------------------------\u001b[0m\u001b[0m 96.30 MiB/633.96 MiB\n",
            "\u001b[2K\u001b[9A\u001b[37m⠧\u001b[0m \u001b[2mPreparing packages...\u001b[0m (123/132)\n",
            "\u001b[2mpyarrow   \u001b[0m \u001b[32m------------------------------\u001b[2m\u001b[0m\u001b[0m 35.77 MiB/36.64 MiB\n",
            "\u001b[2mnvidia-cufft-cu12\u001b[0m \u001b[32m--------------------------\u001b[2m----\u001b[0m\u001b[0m 98.98 MiB/116.00 MiB\n",
            "\u001b[2mnvidia-cusolver-cu12\u001b[0m \u001b[32m--------------------------\u001b[2m----\u001b[0m\u001b[0m 98.78 MiB/118.41 MiB\n",
            "\u001b[2mnvidia-nccl-cu12\u001b[0m \u001b[32m------------------\u001b[2m------------\u001b[0m\u001b[0m 98.48 MiB/168.08 MiB\n",
            "\u001b[2mnvidia-cusparse-cu12\u001b[0m \u001b[32m----------------\u001b[2m--------------\u001b[0m\u001b[0m 99.19 MiB/186.88 MiB\n",
            "\u001b[2mtriton    \u001b[0m \u001b[32m---------------\u001b[2m---------------\u001b[0m\u001b[0m 99.20 MiB/199.65 MiB\n",
            "\u001b[2mnvidia-cublas-cu12\u001b[0m \u001b[32m--------\u001b[2m----------------------\u001b[0m\u001b[0m 98.19 MiB/391.57 MiB\n",
            "\u001b[2mnvidia-cudnn-cu12\u001b[0m \u001b[32m-----\u001b[2m-------------------------\u001b[0m\u001b[0m 96.84 MiB/633.96 MiB\n",
            "\u001b[2K\u001b[9A\u001b[37m⠧\u001b[0m \u001b[2mPreparing packages...\u001b[0m (123/132)\n",
            "\u001b[2mpyarrow   \u001b[0m \u001b[32m------------------------------\u001b[2m\u001b[0m\u001b[0m 35.77 MiB/36.64 MiB\n",
            "\u001b[2mnvidia-cufft-cu12\u001b[0m \u001b[32m--------------------------\u001b[2m----\u001b[0m\u001b[0m 99.19 MiB/116.00 MiB\n",
            "\u001b[2mnvidia-cusolver-cu12\u001b[0m \u001b[32m--------------------------\u001b[2m----\u001b[0m\u001b[0m 99.58 MiB/118.41 MiB\n",
            "\u001b[2mnvidia-nccl-cu12\u001b[0m \u001b[32m------------------\u001b[2m------------\u001b[0m\u001b[0m 98.71 MiB/168.08 MiB\n",
            "\u001b[2mnvidia-cusparse-cu12\u001b[0m \u001b[32m-----------------\u001b[2m-------------\u001b[0m\u001b[0m 99.74 MiB/186.88 MiB\n",
            "\u001b[2mtriton    \u001b[0m \u001b[32m---------------\u001b[2m---------------\u001b[0m\u001b[0m 99.39 MiB/199.65 MiB\n",
            "\u001b[2mnvidia-cublas-cu12\u001b[0m \u001b[32m--------\u001b[2m----------------------\u001b[0m\u001b[0m 98.71 MiB/391.57 MiB\n",
            "\u001b[2mnvidia-cudnn-cu12\u001b[0m \u001b[32m-----\u001b[2m-------------------------\u001b[0m\u001b[0m 97.00 MiB/633.96 MiB\n",
            "\u001b[2K\u001b[9A\u001b[37m⠧\u001b[0m \u001b[2mPreparing packages...\u001b[0m (123/132)\n",
            "\u001b[2mpyarrow   \u001b[0m \u001b[32m------------------------------\u001b[2m\u001b[0m\u001b[0m 35.77 MiB/36.64 MiB\n",
            "\u001b[2mnvidia-cufft-cu12\u001b[0m \u001b[32m--------------------------\u001b[2m----\u001b[0m\u001b[0m 99.74 MiB/116.00 MiB\n",
            "\u001b[2mnvidia-cusolver-cu12\u001b[0m \u001b[32m--------------------------\u001b[2m----\u001b[0m\u001b[0m 99.78 MiB/118.41 MiB\n",
            "\u001b[2mnvidia-nccl-cu12\u001b[0m \u001b[32m------------------\u001b[2m------------\u001b[0m\u001b[0m 99.00 MiB/168.08 MiB\n",
            "\u001b[2mnvidia-cusparse-cu12\u001b[0m \u001b[32m-----------------\u001b[2m-------------\u001b[0m\u001b[0m 100.29 MiB/186.88 MiB\n",
            "\u001b[2mtriton    \u001b[0m \u001b[32m----------------\u001b[2m--------------\u001b[0m\u001b[0m 100.00 MiB/199.65 MiB\n",
            "\u001b[2mnvidia-cublas-cu12\u001b[0m \u001b[32m--------\u001b[2m----------------------\u001b[0m\u001b[0m 98.97 MiB/391.57 MiB\n",
            "\u001b[2mnvidia-cudnn-cu12\u001b[0m \u001b[32m-----\u001b[2m-------------------------\u001b[0m\u001b[0m 97.50 MiB/633.96 MiB\n",
            "\u001b[2K\u001b[9A\u001b[37m⠇\u001b[0m \u001b[2mPreparing packages...\u001b[0m (123/132)\n",
            "\u001b[2mpyarrow   \u001b[0m \u001b[32m------------------------------\u001b[2m\u001b[0m\u001b[0m 35.77 MiB/36.64 MiB\n",
            "\u001b[2mnvidia-cufft-cu12\u001b[0m \u001b[32m--------------------------\u001b[2m----\u001b[0m\u001b[0m 100.03 MiB/116.00 MiB\n",
            "\u001b[2mnvidia-cusolver-cu12\u001b[0m \u001b[32m--------------------------\u001b[2m----\u001b[0m\u001b[0m 100.11 MiB/118.41 MiB\n",
            "\u001b[2mnvidia-nccl-cu12\u001b[0m \u001b[32m------------------\u001b[2m------------\u001b[0m\u001b[0m 99.53 MiB/168.08 MiB\n",
            "\u001b[2mnvidia-cusparse-cu12\u001b[0m \u001b[32m-----------------\u001b[2m-------------\u001b[0m\u001b[0m 100.61 MiB/186.88 MiB\n",
            "\u001b[2mtriton    \u001b[0m \u001b[32m----------------\u001b[2m--------------\u001b[0m\u001b[0m 100.32 MiB/199.65 MiB\n",
            "\u001b[2mnvidia-cublas-cu12\u001b[0m \u001b[32m--------\u001b[2m----------------------\u001b[0m\u001b[0m 99.48 MiB/391.57 MiB\n",
            "\u001b[2mnvidia-cudnn-cu12\u001b[0m \u001b[32m-----\u001b[2m-------------------------\u001b[0m\u001b[0m 97.80 MiB/633.96 MiB\n",
            "\u001b[2K\u001b[9A\u001b[37m⠇\u001b[0m \u001b[2mPreparing packages...\u001b[0m (123/132)\n",
            "\u001b[2mpyarrow   \u001b[0m \u001b[32m------------------------------\u001b[2m\u001b[0m\u001b[0m 35.77 MiB/36.64 MiB\n",
            "\u001b[2mnvidia-cufft-cu12\u001b[0m \u001b[32m---------------------------\u001b[2m---\u001b[0m\u001b[0m 100.63 MiB/116.00 MiB\n",
            "\u001b[2mnvidia-cusolver-cu12\u001b[0m \u001b[32m--------------------------\u001b[2m----\u001b[0m\u001b[0m 100.63 MiB/118.41 MiB\n",
            "\u001b[2mnvidia-nccl-cu12\u001b[0m \u001b[32m------------------\u001b[2m------------\u001b[0m\u001b[0m 99.96 MiB/168.08 MiB\n",
            "\u001b[2mnvidia-cusparse-cu12\u001b[0m \u001b[32m-----------------\u001b[2m-------------\u001b[0m\u001b[0m 100.98 MiB/186.88 MiB\n",
            "\u001b[2mtriton    \u001b[0m \u001b[32m----------------\u001b[2m--------------\u001b[0m\u001b[0m 100.62 MiB/199.65 MiB\n",
            "\u001b[2mnvidia-cublas-cu12\u001b[0m \u001b[32m--------\u001b[2m----------------------\u001b[0m\u001b[0m 99.99 MiB/391.57 MiB\n",
            "\u001b[2mnvidia-cudnn-cu12\u001b[0m \u001b[32m-----\u001b[2m-------------------------\u001b[0m\u001b[0m 98.00 MiB/633.96 MiB\n",
            "\u001b[2K\u001b[9A\u001b[37m⠇\u001b[0m \u001b[2mPreparing packages...\u001b[0m (123/132)\n",
            "\u001b[2mpyarrow   \u001b[0m \u001b[32m------------------------------\u001b[2m\u001b[0m\u001b[0m 35.77 MiB/36.64 MiB\n",
            "\u001b[2mnvidia-cufft-cu12\u001b[0m \u001b[32m---------------------------\u001b[2m---\u001b[0m\u001b[0m 100.84 MiB/116.00 MiB\n",
            "\u001b[2mnvidia-cusolver-cu12\u001b[0m \u001b[32m--------------------------\u001b[2m----\u001b[0m\u001b[0m 101.05 MiB/118.41 MiB\n",
            "\u001b[2mnvidia-nccl-cu12\u001b[0m \u001b[32m------------------\u001b[2m------------\u001b[0m\u001b[0m 100.50 MiB/168.08 MiB\n",
            "\u001b[2mnvidia-cusparse-cu12\u001b[0m \u001b[32m-----------------\u001b[2m-------------\u001b[0m\u001b[0m 101.19 MiB/186.88 MiB\n",
            "\u001b[2mtriton    \u001b[0m \u001b[32m----------------\u001b[2m--------------\u001b[0m\u001b[0m 101.12 MiB/199.65 MiB\n",
            "\u001b[2mnvidia-cublas-cu12\u001b[0m \u001b[32m--------\u001b[2m----------------------\u001b[0m\u001b[0m 100.19 MiB/391.57 MiB\n",
            "\u001b[2mnvidia-cudnn-cu12\u001b[0m \u001b[32m-----\u001b[2m-------------------------\u001b[0m\u001b[0m 98.54 MiB/633.96 MiB\n",
            "\u001b[2K\u001b[9A\u001b[37m⠇\u001b[0m \u001b[2mPreparing packages...\u001b[0m (123/132)\n",
            "\u001b[2mpyarrow   \u001b[0m \u001b[32m------------------------------\u001b[2m\u001b[0m\u001b[0m 35.77 MiB/36.64 MiB\n",
            "\u001b[2mnvidia-cufft-cu12\u001b[0m \u001b[32m---------------------------\u001b[2m---\u001b[0m\u001b[0m 101.00 MiB/116.00 MiB\n",
            "\u001b[2mnvidia-cusolver-cu12\u001b[0m \u001b[32m--------------------------\u001b[2m----\u001b[0m\u001b[0m 101.22 MiB/118.41 MiB\n",
            "\u001b[2mnvidia-nccl-cu12\u001b[0m \u001b[32m------------------\u001b[2m------------\u001b[0m\u001b[0m 100.73 MiB/168.08 MiB\n",
            "\u001b[2mnvidia-cusparse-cu12\u001b[0m \u001b[32m-----------------\u001b[2m-------------\u001b[0m\u001b[0m 101.74 MiB/186.88 MiB\n",
            "\u001b[2mtriton    \u001b[0m \u001b[32m----------------\u001b[2m--------------\u001b[0m\u001b[0m 101.67 MiB/199.65 MiB\n",
            "\u001b[2mnvidia-cublas-cu12\u001b[0m \u001b[32m--------\u001b[2m----------------------\u001b[0m\u001b[0m 100.73 MiB/391.57 MiB\n",
            "\u001b[2mnvidia-cudnn-cu12\u001b[0m \u001b[32m-----\u001b[2m-------------------------\u001b[0m\u001b[0m 99.09 MiB/633.96 MiB\n",
            "\u001b[2K\u001b[9A\u001b[37m⠋\u001b[0m \u001b[2mPreparing packages...\u001b[0m (123/132)\n",
            "\u001b[2mpyarrow   \u001b[0m \u001b[32m------------------------------\u001b[2m\u001b[0m\u001b[0m 35.78 MiB/36.64 MiB\n",
            "\u001b[2mnvidia-cufft-cu12\u001b[0m \u001b[32m---------------------------\u001b[2m---\u001b[0m\u001b[0m 101.53 MiB/116.00 MiB\n",
            "\u001b[2mnvidia-cusolver-cu12\u001b[0m \u001b[32m--------------------------\u001b[2m----\u001b[0m\u001b[0m 101.69 MiB/118.41 MiB\n",
            "\u001b[2mnvidia-nccl-cu12\u001b[0m \u001b[32m-------------------\u001b[2m-----------\u001b[0m\u001b[0m 100.98 MiB/168.08 MiB\n",
            "\u001b[2mnvidia-cusparse-cu12\u001b[0m \u001b[32m-----------------\u001b[2m-------------\u001b[0m\u001b[0m 102.18 MiB/186.88 MiB\n",
            "\u001b[2mtriton    \u001b[0m \u001b[32m----------------\u001b[2m--------------\u001b[0m\u001b[0m 102.00 MiB/199.65 MiB\n",
            "\u001b[2mnvidia-cublas-cu12\u001b[0m \u001b[32m--------\u001b[2m----------------------\u001b[0m\u001b[0m 101.02 MiB/391.57 MiB\n",
            "\u001b[2mnvidia-cudnn-cu12\u001b[0m \u001b[32m-----\u001b[2m-------------------------\u001b[0m\u001b[0m 99.40 MiB/633.96 MiB\n",
            "\u001b[2K\u001b[9A\u001b[37m⠋\u001b[0m \u001b[2mPreparing packages...\u001b[0m (123/132)\n",
            "\u001b[2mpyarrow   \u001b[0m \u001b[32m------------------------------\u001b[2m\u001b[0m\u001b[0m 35.78 MiB/36.64 MiB\n",
            "\u001b[2mnvidia-cufft-cu12\u001b[0m \u001b[32m---------------------------\u001b[2m---\u001b[0m\u001b[0m 101.74 MiB/116.00 MiB\n",
            "\u001b[2mnvidia-cusolver-cu12\u001b[0m \u001b[32m--------------------------\u001b[2m----\u001b[0m\u001b[0m 102.05 MiB/118.41 MiB\n",
            "\u001b[2mnvidia-nccl-cu12\u001b[0m \u001b[32m-------------------\u001b[2m-----------\u001b[0m\u001b[0m 101.48 MiB/168.08 MiB\n",
            "\u001b[2mnvidia-cusparse-cu12\u001b[0m \u001b[32m-----------------\u001b[2m-------------\u001b[0m\u001b[0m 102.59 MiB/186.88 MiB\n",
            "\u001b[2mtriton    \u001b[0m \u001b[32m----------------\u001b[2m--------------\u001b[0m\u001b[0m 102.52 MiB/199.65 MiB\n",
            "\u001b[2mnvidia-cublas-cu12\u001b[0m \u001b[32m--------\u001b[2m----------------------\u001b[0m\u001b[0m 101.57 MiB/391.57 MiB\n",
            "\u001b[2mnvidia-cudnn-cu12\u001b[0m \u001b[32m-----\u001b[2m-------------------------\u001b[0m\u001b[0m 99.94 MiB/633.96 MiB\n",
            "\u001b[2K\u001b[9A\u001b[37m⠋\u001b[0m \u001b[2mPreparing packages...\u001b[0m (123/132)\n",
            "\u001b[2mpyarrow   \u001b[0m \u001b[32m------------------------------\u001b[2m\u001b[0m\u001b[0m 35.81 MiB/36.64 MiB\n",
            "\u001b[2mnvidia-cufft-cu12\u001b[0m \u001b[32m---------------------------\u001b[2m---\u001b[0m\u001b[0m 102.36 MiB/116.00 MiB\n",
            "\u001b[2mnvidia-cusolver-cu12\u001b[0m \u001b[32m--------------------------\u001b[2m----\u001b[0m\u001b[0m 102.46 MiB/118.41 MiB\n",
            "\u001b[2mnvidia-nccl-cu12\u001b[0m \u001b[32m-------------------\u001b[2m-----------\u001b[0m\u001b[0m 102.00 MiB/168.08 MiB\n",
            "\u001b[2mnvidia-cusparse-cu12\u001b[0m \u001b[32m-----------------\u001b[2m-------------\u001b[0m\u001b[0m 102.80 MiB/186.88 MiB\n",
            "\u001b[2mtriton    \u001b[0m \u001b[32m----------------\u001b[2m--------------\u001b[0m\u001b[0m 102.73 MiB/199.65 MiB\n",
            "\u001b[2mnvidia-cublas-cu12\u001b[0m \u001b[32m--------\u001b[2m----------------------\u001b[0m\u001b[0m 101.75 MiB/391.57 MiB\n",
            "\u001b[2mnvidia-cudnn-cu12\u001b[0m \u001b[32m-----\u001b[2m-------------------------\u001b[0m\u001b[0m 100.14 MiB/633.96 MiB\n",
            "\u001b[2K\u001b[9A\u001b[37m⠋\u001b[0m \u001b[2mPreparing packages...\u001b[0m (123/132)\n",
            "\u001b[2mpyarrow   \u001b[0m \u001b[32m------------------------------\u001b[2m\u001b[0m\u001b[0m 35.81 MiB/36.64 MiB\n",
            "\u001b[2mnvidia-cufft-cu12\u001b[0m \u001b[32m---------------------------\u001b[2m---\u001b[0m\u001b[0m 102.90 MiB/116.00 MiB\n",
            "\u001b[2mnvidia-cusolver-cu12\u001b[0m \u001b[32m---------------------------\u001b[2m---\u001b[0m\u001b[0m 103.08 MiB/118.41 MiB\n",
            "\u001b[2mnvidia-nccl-cu12\u001b[0m \u001b[32m-------------------\u001b[2m-----------\u001b[0m\u001b[0m 102.19 MiB/168.08 MiB\n",
            "\u001b[2mnvidia-cusparse-cu12\u001b[0m \u001b[32m-----------------\u001b[2m-------------\u001b[0m\u001b[0m 103.14 MiB/186.88 MiB\n",
            "\u001b[2mtriton    \u001b[0m \u001b[32m----------------\u001b[2m--------------\u001b[0m\u001b[0m 103.13 MiB/199.65 MiB\n",
            "\u001b[2mnvidia-cublas-cu12\u001b[0m \u001b[32m--------\u001b[2m----------------------\u001b[0m\u001b[0m 102.19 MiB/391.57 MiB\n",
            "\u001b[2mnvidia-cudnn-cu12\u001b[0m \u001b[32m-----\u001b[2m-------------------------\u001b[0m\u001b[0m 100.75 MiB/633.96 MiB\n",
            "\u001b[2K\u001b[9A\u001b[37m⠙\u001b[0m \u001b[2mPreparing packages...\u001b[0m (123/132)\n",
            "\u001b[2mpyarrow   \u001b[0m \u001b[32m------------------------------\u001b[2m\u001b[0m\u001b[0m 35.84 MiB/36.64 MiB\n",
            "\u001b[2mnvidia-cufft-cu12\u001b[0m \u001b[32m---------------------------\u001b[2m---\u001b[0m\u001b[0m 103.23 MiB/116.00 MiB\n",
            "\u001b[2mnvidia-cusolver-cu12\u001b[0m \u001b[32m---------------------------\u001b[2m---\u001b[0m\u001b[0m 103.39 MiB/118.41 MiB\n",
            "\u001b[2mnvidia-nccl-cu12\u001b[0m \u001b[32m-------------------\u001b[2m-----------\u001b[0m\u001b[0m 102.47 MiB/168.08 MiB\n",
            "\u001b[2mnvidia-cusparse-cu12\u001b[0m \u001b[32m-----------------\u001b[2m-------------\u001b[0m\u001b[0m 103.49 MiB/186.88 MiB\n",
            "\u001b[2mtriton    \u001b[0m \u001b[32m----------------\u001b[2m--------------\u001b[0m\u001b[0m 103.50 MiB/199.65 MiB\n",
            "\u001b[2mnvidia-cublas-cu12\u001b[0m \u001b[32m--------\u001b[2m----------------------\u001b[0m\u001b[0m 102.53 MiB/391.57 MiB\n",
            "\u001b[2mnvidia-cudnn-cu12\u001b[0m \u001b[32m-----\u001b[2m-------------------------\u001b[0m\u001b[0m 101.17 MiB/633.96 MiB\n",
            "\u001b[2K\u001b[9A\u001b[37m⠙\u001b[0m \u001b[2mPreparing packages...\u001b[0m (123/132)\n",
            "\u001b[2mpyarrow   \u001b[0m \u001b[32m------------------------------\u001b[2m\u001b[0m\u001b[0m 35.84 MiB/36.64 MiB\n",
            "\u001b[2mnvidia-cufft-cu12\u001b[0m \u001b[32m---------------------------\u001b[2m---\u001b[0m\u001b[0m 103.44 MiB/116.00 MiB\n",
            "\u001b[2mnvidia-cusolver-cu12\u001b[0m \u001b[32m---------------------------\u001b[2m---\u001b[0m\u001b[0m 103.99 MiB/118.41 MiB\n",
            "\u001b[2mnvidia-nccl-cu12\u001b[0m \u001b[32m-------------------\u001b[2m-----------\u001b[0m\u001b[0m 103.00 MiB/168.08 MiB\n",
            "\u001b[2mnvidia-cusparse-cu12\u001b[0m \u001b[32m-----------------\u001b[2m-------------\u001b[0m\u001b[0m 103.73 MiB/186.88 MiB\n",
            "\u001b[2mtriton    \u001b[0m \u001b[32m----------------\u001b[2m--------------\u001b[0m\u001b[0m 103.86 MiB/199.65 MiB\n",
            "\u001b[2mnvidia-cublas-cu12\u001b[0m \u001b[32m--------\u001b[2m----------------------\u001b[0m\u001b[0m 102.99 MiB/391.57 MiB\n",
            "\u001b[2mnvidia-cudnn-cu12\u001b[0m \u001b[32m-----\u001b[2m-------------------------\u001b[0m\u001b[0m 101.59 MiB/633.96 MiB\n",
            "\u001b[2K\u001b[9A\u001b[37m⠙\u001b[0m \u001b[2mPreparing packages...\u001b[0m (123/132)\n",
            "\u001b[2mpyarrow   \u001b[0m \u001b[32m------------------------------\u001b[2m\u001b[0m\u001b[0m 35.84 MiB/36.64 MiB\n",
            "\u001b[2mnvidia-cufft-cu12\u001b[0m \u001b[32m---------------------------\u001b[2m---\u001b[0m\u001b[0m 104.14 MiB/116.00 MiB\n",
            "\u001b[2mnvidia-cusolver-cu12\u001b[0m \u001b[32m---------------------------\u001b[2m---\u001b[0m\u001b[0m 104.19 MiB/118.41 MiB\n",
            "\u001b[2mnvidia-nccl-cu12\u001b[0m \u001b[32m-------------------\u001b[2m-----------\u001b[0m\u001b[0m 103.22 MiB/168.08 MiB\n",
            "\u001b[2mnvidia-cusparse-cu12\u001b[0m \u001b[32m-----------------\u001b[2m-------------\u001b[0m\u001b[0m 104.35 MiB/186.88 MiB\n",
            "\u001b[2mtriton    \u001b[0m \u001b[32m----------------\u001b[2m--------------\u001b[0m\u001b[0m 104.19 MiB/199.65 MiB\n",
            "\u001b[2mnvidia-cublas-cu12\u001b[0m \u001b[32m--------\u001b[2m----------------------\u001b[0m\u001b[0m 103.16 MiB/391.57 MiB\n",
            "\u001b[2mnvidia-cudnn-cu12\u001b[0m \u001b[32m-----\u001b[2m-------------------------\u001b[0m\u001b[0m 101.80 MiB/633.96 MiB\n",
            "\u001b[2K\u001b[9A\u001b[37m⠙\u001b[0m \u001b[2mPreparing packages...\u001b[0m (123/132)\n",
            "\u001b[2mpyarrow   \u001b[0m \u001b[32m------------------------------\u001b[2m\u001b[0m\u001b[0m 35.84 MiB/36.64 MiB\n",
            "\u001b[2mnvidia-cufft-cu12\u001b[0m \u001b[32m----------------------------\u001b[2m--\u001b[0m\u001b[0m 104.62 MiB/116.00 MiB\n",
            "\u001b[2mnvidia-cusolver-cu12\u001b[0m \u001b[32m---------------------------\u001b[2m---\u001b[0m\u001b[0m 104.49 MiB/118.41 MiB\n",
            "\u001b[2mnvidia-nccl-cu12\u001b[0m \u001b[32m-------------------\u001b[2m-----------\u001b[0m\u001b[0m 103.73 MiB/168.08 MiB\n",
            "\u001b[2mnvidia-cusparse-cu12\u001b[0m \u001b[32m-----------------\u001b[2m-------------\u001b[0m\u001b[0m 104.74 MiB/186.88 MiB\n",
            "\u001b[2mtriton    \u001b[0m \u001b[32m----------------\u001b[2m--------------\u001b[0m\u001b[0m 104.73 MiB/199.65 MiB\n",
            "\u001b[2mnvidia-cublas-cu12\u001b[0m \u001b[32m--------\u001b[2m----------------------\u001b[0m\u001b[0m 103.49 MiB/391.57 MiB\n",
            "\u001b[2mnvidia-cudnn-cu12\u001b[0m \u001b[32m-----\u001b[2m-------------------------\u001b[0m\u001b[0m 102.30 MiB/633.96 MiB\n",
            "\u001b[2K\u001b[9A\u001b[37m⠹\u001b[0m \u001b[2mPreparing packages...\u001b[0m (123/132)\n",
            "\u001b[2mpyarrow   \u001b[0m \u001b[32m------------------------------\u001b[2m\u001b[0m\u001b[0m 35.84 MiB/36.64 MiB\n",
            "\u001b[2mnvidia-cufft-cu12\u001b[0m \u001b[32m----------------------------\u001b[2m--\u001b[0m\u001b[0m 105.00 MiB/116.00 MiB\n",
            "\u001b[2mnvidia-cusolver-cu12\u001b[0m \u001b[32m---------------------------\u001b[2m---\u001b[0m\u001b[0m 104.96 MiB/118.41 MiB\n",
            "\u001b[2mnvidia-nccl-cu12\u001b[0m \u001b[32m-------------------\u001b[2m-----------\u001b[0m\u001b[0m 104.00 MiB/168.08 MiB\n",
            "\u001b[2mnvidia-cusparse-cu12\u001b[0m \u001b[32m-----------------\u001b[2m-------------\u001b[0m\u001b[0m 104.96 MiB/186.88 MiB\n",
            "\u001b[2mtriton    \u001b[0m \u001b[32m----------------\u001b[2m--------------\u001b[0m\u001b[0m 104.89 MiB/199.65 MiB\n",
            "\u001b[2mnvidia-cublas-cu12\u001b[0m \u001b[32m--------\u001b[2m----------------------\u001b[0m\u001b[0m 103.97 MiB/391.57 MiB\n",
            "\u001b[2mnvidia-cudnn-cu12\u001b[0m \u001b[32m-----\u001b[2m-------------------------\u001b[0m\u001b[0m 102.91 MiB/633.96 MiB\n",
            "\u001b[2K\u001b[9A\u001b[37m⠹\u001b[0m \u001b[2mPreparing packages...\u001b[0m (123/132)\n",
            "\u001b[2mpyarrow   \u001b[0m \u001b[32m------------------------------\u001b[2m\u001b[0m\u001b[0m 35.86 MiB/36.64 MiB\n",
            "\u001b[2mnvidia-cufft-cu12\u001b[0m \u001b[32m----------------------------\u001b[2m--\u001b[0m\u001b[0m 105.35 MiB/116.00 MiB\n",
            "\u001b[2mnvidia-cusolver-cu12\u001b[0m \u001b[32m---------------------------\u001b[2m---\u001b[0m\u001b[0m 105.21 MiB/118.41 MiB\n",
            "\u001b[2mnvidia-nccl-cu12\u001b[0m \u001b[32m-------------------\u001b[2m-----------\u001b[0m\u001b[0m 104.19 MiB/168.08 MiB\n",
            "\u001b[2mnvidia-cusparse-cu12\u001b[0m \u001b[32m-----------------\u001b[2m-------------\u001b[0m\u001b[0m 105.52 MiB/186.88 MiB\n",
            "\u001b[2mtriton    \u001b[0m \u001b[32m----------------\u001b[2m--------------\u001b[0m\u001b[0m 105.22 MiB/199.65 MiB\n",
            "\u001b[2mnvidia-cublas-cu12\u001b[0m \u001b[32m--------\u001b[2m----------------------\u001b[0m\u001b[0m 104.18 MiB/391.57 MiB\n",
            "\u001b[2mnvidia-cudnn-cu12\u001b[0m \u001b[32m-----\u001b[2m-------------------------\u001b[0m\u001b[0m 103.40 MiB/633.96 MiB\n",
            "\u001b[2K\u001b[9A\u001b[37m⠹\u001b[0m \u001b[2mPreparing packages...\u001b[0m (123/132)\n",
            "\u001b[2mpyarrow   \u001b[0m \u001b[32m------------------------------\u001b[2m\u001b[0m\u001b[0m 35.86 MiB/36.64 MiB\n",
            "\u001b[2mnvidia-cufft-cu12\u001b[0m \u001b[32m----------------------------\u001b[2m--\u001b[0m\u001b[0m 105.73 MiB/116.00 MiB\n",
            "\u001b[2mnvidia-cusolver-cu12\u001b[0m \u001b[32m---------------------------\u001b[2m---\u001b[0m\u001b[0m 105.67 MiB/118.41 MiB\n",
            "\u001b[2mnvidia-nccl-cu12\u001b[0m \u001b[32m-------------------\u001b[2m-----------\u001b[0m\u001b[0m 104.80 MiB/168.08 MiB\n",
            "\u001b[2mnvidia-cusparse-cu12\u001b[0m \u001b[32m-----------------\u001b[2m-------------\u001b[0m\u001b[0m 105.72 MiB/186.88 MiB\n",
            "\u001b[2mtriton    \u001b[0m \u001b[32m----------------\u001b[2m--------------\u001b[0m\u001b[0m 105.75 MiB/199.65 MiB\n",
            "\u001b[2mnvidia-cublas-cu12\u001b[0m \u001b[32m---------\u001b[2m---------------------\u001b[0m\u001b[0m 104.74 MiB/391.57 MiB\n",
            "\u001b[2mnvidia-cudnn-cu12\u001b[0m \u001b[32m-----\u001b[2m-------------------------\u001b[0m\u001b[0m 103.62 MiB/633.96 MiB\n",
            "\u001b[2K\u001b[9A\u001b[37m⠹\u001b[0m \u001b[2mPreparing packages...\u001b[0m (123/132)\n",
            "\u001b[2mpyarrow   \u001b[0m \u001b[32m------------------------------\u001b[2m\u001b[0m\u001b[0m 35.86 MiB/36.64 MiB\n",
            "\u001b[2mnvidia-cufft-cu12\u001b[0m \u001b[32m----------------------------\u001b[2m--\u001b[0m\u001b[0m 106.18 MiB/116.00 MiB\n",
            "\u001b[2mnvidia-cusolver-cu12\u001b[0m \u001b[32m---------------------------\u001b[2m---\u001b[0m\u001b[0m 106.11 MiB/118.41 MiB\n",
            "\u001b[2mnvidia-nccl-cu12\u001b[0m \u001b[32m-------------------\u001b[2m-----------\u001b[0m\u001b[0m 104.95 MiB/168.08 MiB\n",
            "\u001b[2mnvidia-cusparse-cu12\u001b[0m \u001b[32m------------------\u001b[2m------------\u001b[0m\u001b[0m 105.97 MiB/186.88 MiB\n",
            "\u001b[2mtriton    \u001b[0m \u001b[32m----------------\u001b[2m--------------\u001b[0m\u001b[0m 106.00 MiB/199.65 MiB\n",
            "\u001b[2mnvidia-cublas-cu12\u001b[0m \u001b[32m---------\u001b[2m---------------------\u001b[0m\u001b[0m 105.00 MiB/391.57 MiB\n",
            "\u001b[2mnvidia-cudnn-cu12\u001b[0m \u001b[32m-----\u001b[2m-------------------------\u001b[0m\u001b[0m 104.00 MiB/633.96 MiB\n",
            "\u001b[2K\u001b[9A\u001b[37m⠸\u001b[0m \u001b[2mPreparing packages...\u001b[0m (123/132)\n",
            "\u001b[2mpyarrow   \u001b[0m \u001b[32m------------------------------\u001b[2m\u001b[0m\u001b[0m 35.86 MiB/36.64 MiB\n",
            "\u001b[2mnvidia-cufft-cu12\u001b[0m \u001b[32m----------------------------\u001b[2m--\u001b[0m\u001b[0m 106.35 MiB/116.00 MiB\n",
            "\u001b[2mnvidia-cusolver-cu12\u001b[0m \u001b[32m----------------------------\u001b[2m--\u001b[0m\u001b[0m 106.58 MiB/118.41 MiB\n",
            "\u001b[2mnvidia-nccl-cu12\u001b[0m \u001b[32m-------------------\u001b[2m-----------\u001b[0m\u001b[0m 105.52 MiB/168.08 MiB\n",
            "\u001b[2mnvidia-cusparse-cu12\u001b[0m \u001b[32m------------------\u001b[2m------------\u001b[0m\u001b[0m 106.50 MiB/186.88 MiB\n",
            "\u001b[2mtriton    \u001b[0m \u001b[32m----------------\u001b[2m--------------\u001b[0m\u001b[0m 106.20 MiB/199.65 MiB\n",
            "\u001b[2mnvidia-cublas-cu12\u001b[0m \u001b[32m---------\u001b[2m---------------------\u001b[0m\u001b[0m 105.19 MiB/391.57 MiB\n",
            "\u001b[2mnvidia-cudnn-cu12\u001b[0m \u001b[32m-----\u001b[2m-------------------------\u001b[0m\u001b[0m 104.52 MiB/633.96 MiB\n",
            "\u001b[2K\u001b[9A\u001b[37m⠸\u001b[0m \u001b[2mPreparing packages...\u001b[0m (123/132)\n",
            "\u001b[2mpyarrow   \u001b[0m \u001b[32m------------------------------\u001b[2m\u001b[0m\u001b[0m 35.93 MiB/36.64 MiB\n",
            "\u001b[2mnvidia-cufft-cu12\u001b[0m \u001b[32m----------------------------\u001b[2m--\u001b[0m\u001b[0m 106.87 MiB/116.00 MiB\n",
            "\u001b[2mnvidia-cusolver-cu12\u001b[0m \u001b[32m----------------------------\u001b[2m--\u001b[0m\u001b[0m 106.75 MiB/118.41 MiB\n",
            "\u001b[2mnvidia-nccl-cu12\u001b[0m \u001b[32m-------------------\u001b[2m-----------\u001b[0m\u001b[0m 105.95 MiB/168.08 MiB\n",
            "\u001b[2mnvidia-cusparse-cu12\u001b[0m \u001b[32m------------------\u001b[2m------------\u001b[0m\u001b[0m 106.85 MiB/186.88 MiB\n",
            "\u001b[2mtriton    \u001b[0m \u001b[32m-----------------\u001b[2m-------------\u001b[0m\u001b[0m 106.77 MiB/199.65 MiB\n",
            "\u001b[2mnvidia-cublas-cu12\u001b[0m \u001b[32m---------\u001b[2m---------------------\u001b[0m\u001b[0m 105.72 MiB/391.57 MiB\n",
            "\u001b[2mnvidia-cudnn-cu12\u001b[0m \u001b[32m-----\u001b[2m-------------------------\u001b[0m\u001b[0m 104.70 MiB/633.96 MiB\n",
            "\u001b[2K\u001b[9A\u001b[37m⠸\u001b[0m \u001b[2mPreparing packages...\u001b[0m (123/132)\n",
            "\u001b[2mpyarrow   \u001b[0m \u001b[32m------------------------------\u001b[2m\u001b[0m\u001b[0m 35.93 MiB/36.64 MiB\n",
            "\u001b[2mnvidia-cufft-cu12\u001b[0m \u001b[32m----------------------------\u001b[2m--\u001b[0m\u001b[0m 107.43 MiB/116.00 MiB\n",
            "\u001b[2mnvidia-cusolver-cu12\u001b[0m \u001b[32m----------------------------\u001b[2m--\u001b[0m\u001b[0m 107.00 MiB/118.41 MiB\n",
            "\u001b[2mnvidia-nccl-cu12\u001b[0m \u001b[32m-------------------\u001b[2m-----------\u001b[0m\u001b[0m 106.06 MiB/168.08 MiB\n",
            "\u001b[2mnvidia-cusparse-cu12\u001b[0m \u001b[32m------------------\u001b[2m------------\u001b[0m\u001b[0m 106.96 MiB/186.88 MiB\n",
            "\u001b[2mtriton    \u001b[0m \u001b[32m-----------------\u001b[2m-------------\u001b[0m\u001b[0m 107.43 MiB/199.65 MiB\n",
            "\u001b[2mnvidia-cublas-cu12\u001b[0m \u001b[32m---------\u001b[2m---------------------\u001b[0m\u001b[0m 106.19 MiB/391.57 MiB\n",
            "\u001b[2mnvidia-cudnn-cu12\u001b[0m \u001b[32m-----\u001b[2m-------------------------\u001b[0m\u001b[0m 105.57 MiB/633.96 MiB\n",
            "\u001b[2K\u001b[9A\u001b[37m⠸\u001b[0m \u001b[2mPreparing packages...\u001b[0m (123/132)\n",
            "\u001b[2mpyarrow   \u001b[0m \u001b[32m------------------------------\u001b[2m\u001b[0m\u001b[0m 35.93 MiB/36.64 MiB\n",
            "\u001b[2mnvidia-cufft-cu12\u001b[0m \u001b[32m----------------------------\u001b[2m--\u001b[0m\u001b[0m 107.75 MiB/116.00 MiB\n",
            "\u001b[2mnvidia-cusolver-cu12\u001b[0m \u001b[32m----------------------------\u001b[2m--\u001b[0m\u001b[0m 107.45 MiB/118.41 MiB\n",
            "\u001b[2mnvidia-nccl-cu12\u001b[0m \u001b[32m--------------------\u001b[2m----------\u001b[0m\u001b[0m 106.51 MiB/168.08 MiB\n",
            "\u001b[2mnvidia-cusparse-cu12\u001b[0m \u001b[32m------------------\u001b[2m------------\u001b[0m\u001b[0m 107.53 MiB/186.88 MiB\n",
            "\u001b[2mtriton    \u001b[0m \u001b[32m-----------------\u001b[2m-------------\u001b[0m\u001b[0m 107.73 MiB/199.65 MiB\n",
            "\u001b[2mnvidia-cublas-cu12\u001b[0m \u001b[32m---------\u001b[2m---------------------\u001b[0m\u001b[0m 106.45 MiB/391.57 MiB\n",
            "\u001b[2mnvidia-cudnn-cu12\u001b[0m \u001b[32m------\u001b[2m------------------------\u001b[0m\u001b[0m 105.93 MiB/633.96 MiB\n",
            "\u001b[2K\u001b[9A\u001b[37m⠼\u001b[0m \u001b[2mPreparing packages...\u001b[0m (123/132)\n",
            "\u001b[2mpyarrow   \u001b[0m \u001b[32m------------------------------\u001b[2m\u001b[0m\u001b[0m 35.93 MiB/36.64 MiB\n",
            "\u001b[2mnvidia-cufft-cu12\u001b[0m \u001b[32m-----------------------------\u001b[2m-\u001b[0m\u001b[0m 108.38 MiB/116.00 MiB\n",
            "\u001b[2mnvidia-cusolver-cu12\u001b[0m \u001b[32m----------------------------\u001b[2m--\u001b[0m\u001b[0m 107.99 MiB/118.41 MiB\n",
            "\u001b[2mnvidia-nccl-cu12\u001b[0m \u001b[32m--------------------\u001b[2m----------\u001b[0m\u001b[0m 107.08 MiB/168.08 MiB\n",
            "\u001b[2mnvidia-cusparse-cu12\u001b[0m \u001b[32m------------------\u001b[2m------------\u001b[0m\u001b[0m 108.13 MiB/186.88 MiB\n",
            "\u001b[2mtriton    \u001b[0m \u001b[32m-----------------\u001b[2m-------------\u001b[0m\u001b[0m 107.93 MiB/199.65 MiB\n",
            "\u001b[2mnvidia-cublas-cu12\u001b[0m \u001b[32m---------\u001b[2m---------------------\u001b[0m\u001b[0m 106.68 MiB/391.57 MiB\n",
            "\u001b[2mnvidia-cudnn-cu12\u001b[0m \u001b[32m------\u001b[2m------------------------\u001b[0m\u001b[0m 106.33 MiB/633.96 MiB\n",
            "\u001b[2K\u001b[9A\u001b[37m⠼\u001b[0m \u001b[2mPreparing packages...\u001b[0m (123/132)\n",
            "\u001b[2mpyarrow   \u001b[0m \u001b[32m------------------------------\u001b[2m\u001b[0m\u001b[0m 35.94 MiB/36.64 MiB\n",
            "\u001b[2mnvidia-cufft-cu12\u001b[0m \u001b[32m-----------------------------\u001b[2m-\u001b[0m\u001b[0m 108.54 MiB/116.00 MiB\n",
            "\u001b[2mnvidia-cusolver-cu12\u001b[0m \u001b[32m----------------------------\u001b[2m--\u001b[0m\u001b[0m 108.51 MiB/118.41 MiB\n",
            "\u001b[2mnvidia-nccl-cu12\u001b[0m \u001b[32m--------------------\u001b[2m----------\u001b[0m\u001b[0m 107.28 MiB/168.08 MiB\n",
            "\u001b[2mnvidia-cusparse-cu12\u001b[0m \u001b[32m------------------\u001b[2m------------\u001b[0m\u001b[0m 108.35 MiB/186.88 MiB\n",
            "\u001b[2mtriton    \u001b[0m \u001b[32m-----------------\u001b[2m-------------\u001b[0m\u001b[0m 108.45 MiB/199.65 MiB\n",
            "\u001b[2mnvidia-cublas-cu12\u001b[0m \u001b[32m---------\u001b[2m---------------------\u001b[0m\u001b[0m 107.19 MiB/391.57 MiB\n",
            "\u001b[2mnvidia-cudnn-cu12\u001b[0m \u001b[32m------\u001b[2m------------------------\u001b[0m\u001b[0m 106.54 MiB/633.96 MiB\n",
            "\u001b[2K\u001b[9A\u001b[37m⠼\u001b[0m \u001b[2mPreparing packages...\u001b[0m (123/132)\n",
            "\u001b[2mpyarrow   \u001b[0m \u001b[32m------------------------------\u001b[2m\u001b[0m\u001b[0m 35.94 MiB/36.64 MiB\n",
            "\u001b[2mnvidia-cufft-cu12\u001b[0m \u001b[32m-----------------------------\u001b[2m-\u001b[0m\u001b[0m 108.92 MiB/116.00 MiB\n",
            "\u001b[2mnvidia-cusolver-cu12\u001b[0m \u001b[32m----------------------------\u001b[2m--\u001b[0m\u001b[0m 108.51 MiB/118.41 MiB\n",
            "\u001b[2mnvidia-nccl-cu12\u001b[0m \u001b[32m--------------------\u001b[2m----------\u001b[0m\u001b[0m 107.84 MiB/168.08 MiB\n",
            "\u001b[2mnvidia-cusparse-cu12\u001b[0m \u001b[32m------------------\u001b[2m------------\u001b[0m\u001b[0m 108.65 MiB/186.88 MiB\n",
            "\u001b[2mtriton    \u001b[0m \u001b[32m-----------------\u001b[2m-------------\u001b[0m\u001b[0m 109.00 MiB/199.65 MiB\n",
            "\u001b[2mnvidia-cublas-cu12\u001b[0m \u001b[32m---------\u001b[2m---------------------\u001b[0m\u001b[0m 107.71 MiB/391.57 MiB\n",
            "\u001b[2mnvidia-cudnn-cu12\u001b[0m \u001b[32m------\u001b[2m------------------------\u001b[0m\u001b[0m 107.05 MiB/633.96 MiB\n",
            "\u001b[2K\u001b[9A\u001b[37m⠼\u001b[0m \u001b[2mPreparing packages...\u001b[0m (123/132)\n",
            "\u001b[2mpyarrow   \u001b[0m \u001b[32m------------------------------\u001b[2m\u001b[0m\u001b[0m 35.94 MiB/36.64 MiB\n",
            "\u001b[2mnvidia-cufft-cu12\u001b[0m \u001b[32m-----------------------------\u001b[2m-\u001b[0m\u001b[0m 109.47 MiB/116.00 MiB\n",
            "\u001b[2mnvidia-cusolver-cu12\u001b[0m \u001b[32m----------------------------\u001b[2m--\u001b[0m\u001b[0m 109.08 MiB/118.41 MiB\n",
            "\u001b[2mnvidia-nccl-cu12\u001b[0m \u001b[32m--------------------\u001b[2m----------\u001b[0m\u001b[0m 108.00 MiB/168.08 MiB\n",
            "\u001b[2mnvidia-cusparse-cu12\u001b[0m \u001b[32m------------------\u001b[2m------------\u001b[0m\u001b[0m 109.23 MiB/186.88 MiB\n",
            "\u001b[2mtriton    \u001b[0m \u001b[32m-----------------\u001b[2m-------------\u001b[0m\u001b[0m 109.12 MiB/199.65 MiB\n",
            "\u001b[2mnvidia-cublas-cu12\u001b[0m \u001b[32m---------\u001b[2m---------------------\u001b[0m\u001b[0m 107.97 MiB/391.57 MiB\n",
            "\u001b[2mnvidia-cudnn-cu12\u001b[0m \u001b[32m------\u001b[2m------------------------\u001b[0m\u001b[0m 107.43 MiB/633.96 MiB\n",
            "\u001b[2K\u001b[9A\u001b[37m⠴\u001b[0m \u001b[2mPreparing packages...\u001b[0m (123/132)\n",
            "\u001b[2mpyarrow   \u001b[0m \u001b[32m------------------------------\u001b[2m\u001b[0m\u001b[0m 35.94 MiB/36.64 MiB\n",
            "\u001b[2mnvidia-cufft-cu12\u001b[0m \u001b[32m-----------------------------\u001b[2m-\u001b[0m\u001b[0m 109.98 MiB/116.00 MiB\n",
            "\u001b[2mnvidia-cusolver-cu12\u001b[0m \u001b[32m----------------------------\u001b[2m--\u001b[0m\u001b[0m 109.62 MiB/118.41 MiB\n",
            "\u001b[2mnvidia-nccl-cu12\u001b[0m \u001b[32m--------------------\u001b[2m----------\u001b[0m\u001b[0m 108.22 MiB/168.08 MiB\n",
            "\u001b[2mnvidia-cusparse-cu12\u001b[0m \u001b[32m------------------\u001b[2m------------\u001b[0m\u001b[0m 109.73 MiB/186.88 MiB\n",
            "\u001b[2mtriton    \u001b[0m \u001b[32m-----------------\u001b[2m-------------\u001b[0m\u001b[0m 109.55 MiB/199.65 MiB\n",
            "\u001b[2mnvidia-cublas-cu12\u001b[0m \u001b[32m---------\u001b[2m---------------------\u001b[0m\u001b[0m 108.51 MiB/391.57 MiB\n",
            "\u001b[2mnvidia-cudnn-cu12\u001b[0m \u001b[32m------\u001b[2m------------------------\u001b[0m\u001b[0m 107.61 MiB/633.96 MiB\n",
            "\u001b[2K\u001b[9A\u001b[37m⠴\u001b[0m \u001b[2mPreparing packages...\u001b[0m (123/132)\n",
            "\u001b[2mpyarrow   \u001b[0m \u001b[32m------------------------------\u001b[2m\u001b[0m\u001b[0m 35.94 MiB/36.64 MiB\n",
            "\u001b[2mnvidia-cufft-cu12\u001b[0m \u001b[32m-----------------------------\u001b[2m-\u001b[0m\u001b[0m 110.19 MiB/116.00 MiB\n",
            "\u001b[2mnvidia-cusolver-cu12\u001b[0m \u001b[32m----------------------------\u001b[2m--\u001b[0m\u001b[0m 109.84 MiB/118.41 MiB\n",
            "\u001b[2mnvidia-nccl-cu12\u001b[0m \u001b[32m--------------------\u001b[2m----------\u001b[0m\u001b[0m 108.74 MiB/168.08 MiB\n",
            "\u001b[2mnvidia-cusparse-cu12\u001b[0m \u001b[32m------------------\u001b[2m------------\u001b[0m\u001b[0m 109.99 MiB/186.88 MiB\n",
            "\u001b[2mtriton    \u001b[0m \u001b[32m-----------------\u001b[2m-------------\u001b[0m\u001b[0m 110.08 MiB/199.65 MiB\n",
            "\u001b[2mnvidia-cublas-cu12\u001b[0m \u001b[32m---------\u001b[2m---------------------\u001b[0m\u001b[0m 108.76 MiB/391.57 MiB\n",
            "\u001b[2mnvidia-cudnn-cu12\u001b[0m \u001b[32m------\u001b[2m------------------------\u001b[0m\u001b[0m 108.37 MiB/633.96 MiB\n",
            "\u001b[2K\u001b[9A\u001b[37m⠴\u001b[0m \u001b[2mPreparing packages...\u001b[0m (123/132)\n",
            "\u001b[2mpyarrow   \u001b[0m \u001b[32m------------------------------\u001b[2m\u001b[0m\u001b[0m 35.94 MiB/36.64 MiB\n",
            "\u001b[2mnvidia-cufft-cu12\u001b[0m \u001b[32m-----------------------------\u001b[2m-\u001b[0m\u001b[0m 110.79 MiB/116.00 MiB\n",
            "\u001b[2mnvidia-cusolver-cu12\u001b[0m \u001b[32m----------------------------\u001b[2m--\u001b[0m\u001b[0m 110.00 MiB/118.41 MiB\n",
            "\u001b[2mnvidia-nccl-cu12\u001b[0m \u001b[32m--------------------\u001b[2m----------\u001b[0m\u001b[0m 109.10 MiB/168.08 MiB\n",
            "\u001b[2mnvidia-cusparse-cu12\u001b[0m \u001b[32m------------------\u001b[2m------------\u001b[0m\u001b[0m 110.29 MiB/186.88 MiB\n",
            "\u001b[2mtriton    \u001b[0m \u001b[32m-----------------\u001b[2m-------------\u001b[0m\u001b[0m 110.61 MiB/199.65 MiB\n",
            "\u001b[2mnvidia-cublas-cu12\u001b[0m \u001b[32m---------\u001b[2m---------------------\u001b[0m\u001b[0m 109.35 MiB/391.57 MiB\n",
            "\u001b[2mnvidia-cudnn-cu12\u001b[0m \u001b[32m------\u001b[2m------------------------\u001b[0m\u001b[0m 108.72 MiB/633.96 MiB\n",
            "\u001b[2K\u001b[9A\u001b[37m⠴\u001b[0m \u001b[2mPreparing packages...\u001b[0m (123/132)\n",
            "\u001b[2mpyarrow   \u001b[0m \u001b[32m------------------------------\u001b[2m\u001b[0m\u001b[0m 35.94 MiB/36.64 MiB\n",
            "\u001b[2mnvidia-cufft-cu12\u001b[0m \u001b[32m-----------------------------\u001b[2m-\u001b[0m\u001b[0m 111.08 MiB/116.00 MiB\n",
            "\u001b[2mnvidia-cusolver-cu12\u001b[0m \u001b[32m-----------------------------\u001b[2m-\u001b[0m\u001b[0m 110.53 MiB/118.41 MiB\n",
            "\u001b[2mnvidia-nccl-cu12\u001b[0m \u001b[32m--------------------\u001b[2m----------\u001b[0m\u001b[0m 109.64 MiB/168.08 MiB\n",
            "\u001b[2mnvidia-cusparse-cu12\u001b[0m \u001b[32m------------------\u001b[2m------------\u001b[0m\u001b[0m 110.87 MiB/186.88 MiB\n",
            "\u001b[2mtriton    \u001b[0m \u001b[32m-----------------\u001b[2m-------------\u001b[0m\u001b[0m 110.75 MiB/199.65 MiB\n",
            "\u001b[2mnvidia-cublas-cu12\u001b[0m \u001b[32m---------\u001b[2m---------------------\u001b[0m\u001b[0m 109.65 MiB/391.57 MiB\n",
            "\u001b[2mnvidia-cudnn-cu12\u001b[0m \u001b[32m------\u001b[2m------------------------\u001b[0m\u001b[0m 109.05 MiB/633.96 MiB\n",
            "\u001b[2K\u001b[9A\u001b[37m⠦\u001b[0m \u001b[2mPreparing packages...\u001b[0m (123/132)\n",
            "\u001b[2mpyarrow   \u001b[0m \u001b[32m------------------------------\u001b[2m\u001b[0m\u001b[0m 35.95 MiB/36.64 MiB\n",
            "\u001b[2mnvidia-cufft-cu12\u001b[0m \u001b[32m-----------------------------\u001b[2m-\u001b[0m\u001b[0m 111.76 MiB/116.00 MiB\n",
            "\u001b[2mnvidia-cusolver-cu12\u001b[0m \u001b[32m-----------------------------\u001b[2m-\u001b[0m\u001b[0m 110.96 MiB/118.41 MiB\n",
            "\u001b[2mnvidia-nccl-cu12\u001b[0m \u001b[32m--------------------\u001b[2m----------\u001b[0m\u001b[0m 110.00 MiB/168.08 MiB\n",
            "\u001b[2mnvidia-cusparse-cu12\u001b[0m \u001b[32m------------------\u001b[2m------------\u001b[0m\u001b[0m 111.09 MiB/186.88 MiB\n",
            "\u001b[2mtriton    \u001b[0m \u001b[32m-----------------\u001b[2m-------------\u001b[0m\u001b[0m 111.58 MiB/199.65 MiB\n",
            "\u001b[2mnvidia-cublas-cu12\u001b[0m \u001b[32m---------\u001b[2m---------------------\u001b[0m\u001b[0m 109.87 MiB/391.57 MiB\n",
            "\u001b[2mnvidia-cudnn-cu12\u001b[0m \u001b[32m------\u001b[2m------------------------\u001b[0m\u001b[0m 109.23 MiB/633.96 MiB\n",
            "\u001b[2K\u001b[9A\u001b[37m⠦\u001b[0m \u001b[2mPreparing packages...\u001b[0m (123/132)\n",
            "\u001b[2mpyarrow   \u001b[0m \u001b[32m------------------------------\u001b[2m\u001b[0m\u001b[0m 35.95 MiB/36.64 MiB\n",
            "\u001b[2mnvidia-cufft-cu12\u001b[0m \u001b[32m-----------------------------\u001b[2m-\u001b[0m\u001b[0m 111.96 MiB/116.00 MiB\n",
            "\u001b[2mnvidia-cusolver-cu12\u001b[0m \u001b[32m-----------------------------\u001b[2m-\u001b[0m\u001b[0m 111.22 MiB/118.41 MiB\n",
            "\u001b[2mnvidia-nccl-cu12\u001b[0m \u001b[32m--------------------\u001b[2m----------\u001b[0m\u001b[0m 110.20 MiB/168.08 MiB\n",
            "\u001b[2mnvidia-cusparse-cu12\u001b[0m \u001b[32m------------------\u001b[2m------------\u001b[0m\u001b[0m 111.74 MiB/186.88 MiB\n",
            "\u001b[2mtriton    \u001b[0m \u001b[32m-----------------\u001b[2m-------------\u001b[0m\u001b[0m 111.78 MiB/199.65 MiB\n",
            "\u001b[2mnvidia-cublas-cu12\u001b[0m \u001b[32m---------\u001b[2m---------------------\u001b[0m\u001b[0m 110.24 MiB/391.57 MiB\n",
            "\u001b[2mnvidia-cudnn-cu12\u001b[0m \u001b[32m------\u001b[2m------------------------\u001b[0m\u001b[0m 109.86 MiB/633.96 MiB\n",
            "\u001b[2K\u001b[9A\u001b[37m⠦\u001b[0m \u001b[2mPreparing packages...\u001b[0m (123/132)\n",
            "\u001b[2mpyarrow   \u001b[0m \u001b[32m------------------------------\u001b[2m\u001b[0m\u001b[0m 35.95 MiB/36.64 MiB\n",
            "\u001b[2mnvidia-cufft-cu12\u001b[0m \u001b[32m------------------------------\u001b[2m\u001b[0m\u001b[0m 112.30 MiB/116.00 MiB\n",
            "\u001b[2mnvidia-cusolver-cu12\u001b[0m \u001b[32m-----------------------------\u001b[2m-\u001b[0m\u001b[0m 111.74 MiB/118.41 MiB\n",
            "\u001b[2mnvidia-nccl-cu12\u001b[0m \u001b[32m--------------------\u001b[2m----------\u001b[0m\u001b[0m 110.74 MiB/168.08 MiB\n",
            "\u001b[2mnvidia-cusparse-cu12\u001b[0m \u001b[32m------------------\u001b[2m------------\u001b[0m\u001b[0m 112.00 MiB/186.88 MiB\n",
            "\u001b[2mtriton    \u001b[0m \u001b[32m-----------------\u001b[2m-------------\u001b[0m\u001b[0m 112.12 MiB/199.65 MiB\n",
            "\u001b[2mnvidia-cublas-cu12\u001b[0m \u001b[32m---------\u001b[2m---------------------\u001b[0m\u001b[0m 110.56 MiB/391.57 MiB\n",
            "\u001b[2mnvidia-cudnn-cu12\u001b[0m \u001b[32m------\u001b[2m------------------------\u001b[0m\u001b[0m 110.40 MiB/633.96 MiB\n",
            "\u001b[2K\u001b[9A\u001b[37m⠦\u001b[0m \u001b[2mPreparing packages...\u001b[0m (123/132)\n",
            "\u001b[2mpyarrow   \u001b[0m \u001b[32m------------------------------\u001b[2m\u001b[0m\u001b[0m 35.95 MiB/36.64 MiB\n",
            "\u001b[2mnvidia-cufft-cu12\u001b[0m \u001b[32m------------------------------\u001b[2m\u001b[0m\u001b[0m 112.79 MiB/116.00 MiB\n",
            "\u001b[2mnvidia-cusolver-cu12\u001b[0m \u001b[32m-----------------------------\u001b[2m-\u001b[0m\u001b[0m 111.99 MiB/118.41 MiB\n",
            "\u001b[2mnvidia-nccl-cu12\u001b[0m \u001b[32m--------------------\u001b[2m----------\u001b[0m\u001b[0m 111.11 MiB/168.08 MiB\n",
            "\u001b[2mnvidia-cusparse-cu12\u001b[0m \u001b[32m-------------------\u001b[2m-----------\u001b[0m\u001b[0m 112.51 MiB/186.88 MiB\n",
            "\u001b[2mtriton    \u001b[0m \u001b[32m-----------------\u001b[2m-------------\u001b[0m\u001b[0m 112.65 MiB/199.65 MiB\n",
            "\u001b[2mnvidia-cublas-cu12\u001b[0m \u001b[32m---------\u001b[2m---------------------\u001b[0m\u001b[0m 110.80 MiB/391.57 MiB\n",
            "\u001b[2mnvidia-cudnn-cu12\u001b[0m \u001b[32m------\u001b[2m------------------------\u001b[0m\u001b[0m 110.72 MiB/633.96 MiB\n",
            "\u001b[2K\u001b[9A\u001b[37m⠧\u001b[0m \u001b[2mPreparing packages...\u001b[0m (123/132)\n",
            "\u001b[2mpyarrow   \u001b[0m \u001b[32m------------------------------\u001b[2m\u001b[0m\u001b[0m 35.95 MiB/36.64 MiB\n",
            "\u001b[2mnvidia-cufft-cu12\u001b[0m \u001b[32m------------------------------\u001b[2m\u001b[0m\u001b[0m 113.07 MiB/116.00 MiB\n",
            "\u001b[2mnvidia-cusolver-cu12\u001b[0m \u001b[32m-----------------------------\u001b[2m-\u001b[0m\u001b[0m 112.28 MiB/118.41 MiB\n",
            "\u001b[2mnvidia-nccl-cu12\u001b[0m \u001b[32m--------------------\u001b[2m----------\u001b[0m\u001b[0m 111.30 MiB/168.08 MiB\n",
            "\u001b[2mnvidia-cusparse-cu12\u001b[0m \u001b[32m-------------------\u001b[2m-----------\u001b[0m\u001b[0m 112.96 MiB/186.88 MiB\n",
            "\u001b[2mtriton    \u001b[0m \u001b[32m-----------------\u001b[2m-------------\u001b[0m\u001b[0m 112.87 MiB/199.65 MiB\n",
            "\u001b[2mnvidia-cublas-cu12\u001b[0m \u001b[32m---------\u001b[2m---------------------\u001b[0m\u001b[0m 111.85 MiB/391.57 MiB\n",
            "\u001b[2mnvidia-cudnn-cu12\u001b[0m \u001b[32m------\u001b[2m------------------------\u001b[0m\u001b[0m 110.95 MiB/633.96 MiB\n",
            "\u001b[2K\u001b[9A\u001b[37m⠧\u001b[0m \u001b[2mPreparing packages...\u001b[0m (123/132)\n",
            "\u001b[2mpyarrow   \u001b[0m \u001b[32m------------------------------\u001b[2m\u001b[0m\u001b[0m 35.95 MiB/36.64 MiB\n",
            "\u001b[2mnvidia-cufft-cu12\u001b[0m \u001b[32m------------------------------\u001b[2m\u001b[0m\u001b[0m 113.62 MiB/116.00 MiB\n",
            "\u001b[2mnvidia-cusolver-cu12\u001b[0m \u001b[32m-----------------------------\u001b[2m-\u001b[0m\u001b[0m 112.96 MiB/118.41 MiB\n",
            "\u001b[2mnvidia-nccl-cu12\u001b[0m \u001b[32m--------------------\u001b[2m----------\u001b[0m\u001b[0m 111.96 MiB/168.08 MiB\n",
            "\u001b[2mnvidia-cusparse-cu12\u001b[0m \u001b[32m-------------------\u001b[2m-----------\u001b[0m\u001b[0m 113.18 MiB/186.88 MiB\n",
            "\u001b[2mtriton    \u001b[0m \u001b[32m-----------------\u001b[2m-------------\u001b[0m\u001b[0m 113.08 MiB/199.65 MiB\n",
            "\u001b[2mnvidia-cublas-cu12\u001b[0m \u001b[32m---------\u001b[2m---------------------\u001b[0m\u001b[0m 112.00 MiB/391.57 MiB\n",
            "\u001b[2mnvidia-cudnn-cu12\u001b[0m \u001b[32m------\u001b[2m------------------------\u001b[0m\u001b[0m 111.53 MiB/633.96 MiB\n",
            "\u001b[2K\u001b[9A\u001b[37m⠧\u001b[0m \u001b[2mPreparing packages...\u001b[0m (123/132)\n",
            "\u001b[2mpyarrow   \u001b[0m \u001b[32m------------------------------\u001b[2m\u001b[0m\u001b[0m 35.97 MiB/36.64 MiB\n",
            "\u001b[2mnvidia-cufft-cu12\u001b[0m \u001b[32m------------------------------\u001b[2m\u001b[0m\u001b[0m 114.05 MiB/116.00 MiB\n",
            "\u001b[2mnvidia-cusolver-cu12\u001b[0m \u001b[32m-----------------------------\u001b[2m-\u001b[0m\u001b[0m 113.48 MiB/118.41 MiB\n",
            "\u001b[2mnvidia-nccl-cu12\u001b[0m \u001b[32m---------------------\u001b[2m---------\u001b[0m\u001b[0m 112.31 MiB/168.08 MiB\n",
            "\u001b[2mnvidia-cusparse-cu12\u001b[0m \u001b[32m-------------------\u001b[2m-----------\u001b[0m\u001b[0m 113.51 MiB/186.88 MiB\n",
            "\u001b[2mtriton    \u001b[0m \u001b[32m------------------\u001b[2m------------\u001b[0m\u001b[0m 113.50 MiB/199.65 MiB\n",
            "\u001b[2mnvidia-cublas-cu12\u001b[0m \u001b[32m---------\u001b[2m---------------------\u001b[0m\u001b[0m 112.29 MiB/391.57 MiB\n",
            "\u001b[2mnvidia-cudnn-cu12\u001b[0m \u001b[32m------\u001b[2m------------------------\u001b[0m\u001b[0m 111.89 MiB/633.96 MiB\n",
            "\u001b[2K\u001b[9A\u001b[37m⠧\u001b[0m \u001b[2mPreparing packages...\u001b[0m (123/132)\n",
            "\u001b[2mpyarrow   \u001b[0m \u001b[32m------------------------------\u001b[2m\u001b[0m\u001b[0m 35.97 MiB/36.64 MiB\n",
            "\u001b[2mnvidia-cufft-cu12\u001b[0m \u001b[32m------------------------------\u001b[2m\u001b[0m\u001b[0m 114.53 MiB/116.00 MiB\n",
            "\u001b[2mnvidia-cusolver-cu12\u001b[0m \u001b[32m-----------------------------\u001b[2m-\u001b[0m\u001b[0m 113.80 MiB/118.41 MiB\n",
            "\u001b[2mnvidia-nccl-cu12\u001b[0m \u001b[32m---------------------\u001b[2m---------\u001b[0m\u001b[0m 112.93 MiB/168.08 MiB\n",
            "\u001b[2mnvidia-cusparse-cu12\u001b[0m \u001b[32m-------------------\u001b[2m-----------\u001b[0m\u001b[0m 113.96 MiB/186.88 MiB\n",
            "\u001b[2mtriton    \u001b[0m \u001b[32m------------------\u001b[2m------------\u001b[0m\u001b[0m 113.75 MiB/199.65 MiB\n",
            "\u001b[2mnvidia-cublas-cu12\u001b[0m \u001b[32m---------\u001b[2m---------------------\u001b[0m\u001b[0m 112.63 MiB/391.57 MiB\n",
            "\u001b[2mnvidia-cudnn-cu12\u001b[0m \u001b[32m------\u001b[2m------------------------\u001b[0m\u001b[0m 112.42 MiB/633.96 MiB\n",
            "\u001b[2K\u001b[9A\u001b[37m⠇\u001b[0m \u001b[2mPreparing packages...\u001b[0m (123/132)\n",
            "\u001b[2mpyarrow   \u001b[0m \u001b[32m------------------------------\u001b[2m\u001b[0m\u001b[0m 35.97 MiB/36.64 MiB\n",
            "\u001b[2mnvidia-cufft-cu12\u001b[0m \u001b[32m------------------------------\u001b[2m\u001b[0m\u001b[0m 114.76 MiB/116.00 MiB\n",
            "\u001b[2mnvidia-cusolver-cu12\u001b[0m \u001b[32m-----------------------------\u001b[2m-\u001b[0m\u001b[0m 114.07 MiB/118.41 MiB\n",
            "\u001b[2mnvidia-nccl-cu12\u001b[0m \u001b[32m---------------------\u001b[2m---------\u001b[0m\u001b[0m 113.15 MiB/168.08 MiB\n",
            "\u001b[2mnvidia-cusparse-cu12\u001b[0m \u001b[32m-------------------\u001b[2m-----------\u001b[0m\u001b[0m 114.19 MiB/186.88 MiB\n",
            "\u001b[2mtriton    \u001b[0m \u001b[32m------------------\u001b[2m------------\u001b[0m\u001b[0m 114.25 MiB/199.65 MiB\n",
            "\u001b[2mnvidia-cublas-cu12\u001b[0m \u001b[32m---------\u001b[2m---------------------\u001b[0m\u001b[0m 113.18 MiB/391.57 MiB\n",
            "\u001b[2mnvidia-cudnn-cu12\u001b[0m \u001b[32m------\u001b[2m------------------------\u001b[0m\u001b[0m 113.00 MiB/633.96 MiB\n",
            "\u001b[2K\u001b[9A\u001b[37m⠇\u001b[0m \u001b[2mPreparing packages...\u001b[0m (123/132)\n",
            "\u001b[2mpyarrow   \u001b[0m \u001b[32m------------------------------\u001b[2m\u001b[0m\u001b[0m 35.97 MiB/36.64 MiB\n",
            "\u001b[2mnvidia-cufft-cu12\u001b[0m \u001b[32m------------------------------\u001b[2m\u001b[0m\u001b[0m 114.99 MiB/116.00 MiB\n",
            "\u001b[2mnvidia-cusolver-cu12\u001b[0m \u001b[32m------------------------------\u001b[2m\u001b[0m\u001b[0m 114.63 MiB/118.41 MiB\n",
            "\u001b[2mnvidia-nccl-cu12\u001b[0m \u001b[32m---------------------\u001b[2m---------\u001b[0m\u001b[0m 113.73 MiB/168.08 MiB\n",
            "\u001b[2mnvidia-cusparse-cu12\u001b[0m \u001b[32m-------------------\u001b[2m-----------\u001b[0m\u001b[0m 114.70 MiB/186.88 MiB\n",
            "\u001b[2mtriton    \u001b[0m \u001b[32m------------------\u001b[2m------------\u001b[0m\u001b[0m 114.80 MiB/199.65 MiB\n",
            "\u001b[2mnvidia-cublas-cu12\u001b[0m \u001b[32m---------\u001b[2m---------------------\u001b[0m\u001b[0m 113.66 MiB/391.57 MiB\n",
            "\u001b[2mnvidia-cudnn-cu12\u001b[0m \u001b[32m------\u001b[2m------------------------\u001b[0m\u001b[0m 113.14 MiB/633.96 MiB\n",
            "\u001b[2K\u001b[9A\u001b[37m⠇\u001b[0m \u001b[2mPreparing packages...\u001b[0m (123/132)\n",
            "\u001b[2mpyarrow   \u001b[0m \u001b[32m------------------------------\u001b[2m\u001b[0m\u001b[0m 35.97 MiB/36.64 MiB\n",
            "\u001b[2mnvidia-cufft-cu12\u001b[0m \u001b[32m------------------------------\u001b[2m\u001b[0m\u001b[0m 115.53 MiB/116.00 MiB\n",
            "\u001b[2mnvidia-cusolver-cu12\u001b[0m \u001b[32m------------------------------\u001b[2m\u001b[0m\u001b[0m 115.00 MiB/118.41 MiB\n",
            "\u001b[2mnvidia-nccl-cu12\u001b[0m \u001b[32m---------------------\u001b[2m---------\u001b[0m\u001b[0m 114.00 MiB/168.08 MiB\n",
            "\u001b[2mnvidia-cusparse-cu12\u001b[0m \u001b[32m-------------------\u001b[2m-----------\u001b[0m\u001b[0m 114.99 MiB/186.88 MiB\n",
            "\u001b[2mtriton    \u001b[0m \u001b[32m------------------\u001b[2m------------\u001b[0m\u001b[0m 115.03 MiB/199.65 MiB\n",
            "\u001b[2mnvidia-cublas-cu12\u001b[0m \u001b[32m---------\u001b[2m---------------------\u001b[0m\u001b[0m 114.00 MiB/391.57 MiB\n",
            "\u001b[2mnvidia-cudnn-cu12\u001b[0m \u001b[32m------\u001b[2m------------------------\u001b[0m\u001b[0m 113.78 MiB/633.96 MiB\n",
            "\u001b[2K\u001b[9A\u001b[37m⠇\u001b[0m \u001b[2mPreparing packages...\u001b[0m (123/132)\n",
            "\u001b[2mpyarrow   \u001b[0m \u001b[32m------------------------------\u001b[2m\u001b[0m\u001b[0m 35.97 MiB/36.64 MiB\n",
            "\u001b[2mnvidia-cufft-cu12\u001b[0m \u001b[32m------------------------------\u001b[2m\u001b[0m\u001b[0m 116.00 MiB/116.00 MiB\n",
            "\u001b[2mnvidia-cusolver-cu12\u001b[0m \u001b[32m------------------------------\u001b[2m\u001b[0m\u001b[0m 115.35 MiB/118.41 MiB\n",
            "\u001b[2mnvidia-nccl-cu12\u001b[0m \u001b[32m---------------------\u001b[2m---------\u001b[0m\u001b[0m 114.54 MiB/168.08 MiB\n",
            "\u001b[2mnvidia-cusparse-cu12\u001b[0m \u001b[32m-------------------\u001b[2m-----------\u001b[0m\u001b[0m 115.47 MiB/186.88 MiB\n",
            "\u001b[2mtriton    \u001b[0m \u001b[32m------------------\u001b[2m------------\u001b[0m\u001b[0m 115.28 MiB/199.65 MiB\n",
            "\u001b[2mnvidia-cublas-cu12\u001b[0m \u001b[32m---------\u001b[2m---------------------\u001b[0m\u001b[0m 114.54 MiB/391.57 MiB\n",
            "\u001b[2mnvidia-cudnn-cu12\u001b[0m \u001b[32m------\u001b[2m------------------------\u001b[0m\u001b[0m 114.07 MiB/633.96 MiB\n",
            "\u001b[2K\u001b[9A\u001b[37m⠋\u001b[0m \u001b[2mPreparing packages...\u001b[0m (123/132)\n",
            "\u001b[2mpyarrow   \u001b[0m \u001b[32m------------------------------\u001b[2m\u001b[0m\u001b[0m 35.97 MiB/36.64 MiB\n",
            "\u001b[2mnvidia-cufft-cu12\u001b[0m \u001b[32m------------------------------\u001b[2m\u001b[0m\u001b[0m 116.00 MiB/116.00 MiB\n",
            "\u001b[2mnvidia-cusolver-cu12\u001b[0m \u001b[32m------------------------------\u001b[2m\u001b[0m\u001b[0m 116.11 MiB/118.41 MiB\n",
            "\u001b[2mnvidia-nccl-cu12\u001b[0m \u001b[32m---------------------\u001b[2m---------\u001b[0m\u001b[0m 114.76 MiB/168.08 MiB\n",
            "\u001b[2mnvidia-cusparse-cu12\u001b[0m \u001b[32m-------------------\u001b[2m-----------\u001b[0m\u001b[0m 115.74 MiB/186.88 MiB\n",
            "\u001b[2mtriton    \u001b[0m \u001b[32m------------------\u001b[2m------------\u001b[0m\u001b[0m 116.17 MiB/199.65 MiB\n",
            "\u001b[2mnvidia-cublas-cu12\u001b[0m \u001b[32m---------\u001b[2m---------------------\u001b[0m\u001b[0m 114.79 MiB/391.57 MiB\n",
            "\u001b[2mnvidia-cudnn-cu12\u001b[0m \u001b[32m------\u001b[2m------------------------\u001b[0m\u001b[0m 114.31 MiB/633.96 MiB\n",
            "\u001b[2K\u001b[9A\u001b[37m⠋\u001b[0m \u001b[2mPreparing packages...\u001b[0m (123/132)\n",
            "\u001b[2mpyarrow   \u001b[0m \u001b[32m------------------------------\u001b[2m\u001b[0m\u001b[0m 35.97 MiB/36.64 MiB\n",
            "\u001b[2mnvidia-cufft-cu12\u001b[0m \u001b[32m------------------------------\u001b[2m\u001b[0m\u001b[0m 116.00 MiB/116.00 MiB\n",
            "\u001b[2mnvidia-cusolver-cu12\u001b[0m \u001b[32m------------------------------\u001b[2m\u001b[0m\u001b[0m 116.18 MiB/118.41 MiB\n",
            "\u001b[2mnvidia-nccl-cu12\u001b[0m \u001b[32m---------------------\u001b[2m---------\u001b[0m\u001b[0m 115.20 MiB/168.08 MiB\n",
            "\u001b[2mnvidia-cusparse-cu12\u001b[0m \u001b[32m-------------------\u001b[2m-----------\u001b[0m\u001b[0m 116.38 MiB/186.88 MiB\n",
            "\u001b[2mtriton    \u001b[0m \u001b[32m------------------\u001b[2m------------\u001b[0m\u001b[0m 116.50 MiB/199.65 MiB\n",
            "\u001b[2mnvidia-cublas-cu12\u001b[0m \u001b[32m---------\u001b[2m---------------------\u001b[0m\u001b[0m 115.43 MiB/391.57 MiB\n",
            "\u001b[2mnvidia-cudnn-cu12\u001b[0m \u001b[32m------\u001b[2m------------------------\u001b[0m\u001b[0m 114.87 MiB/633.96 MiB\n",
            "\u001b[2K\u001b[9A\u001b[37m⠋\u001b[0m \u001b[2mPreparing packages...\u001b[0m (123/132)\n",
            "\u001b[2mpyarrow   \u001b[0m \u001b[32m------------------------------\u001b[2m\u001b[0m\u001b[0m 35.98 MiB/36.64 MiB\n",
            "\u001b[2mnvidia-cufft-cu12\u001b[0m \u001b[32m------------------------------\u001b[2m\u001b[0m\u001b[0m 116.00 MiB/116.00 MiB\n",
            "\u001b[2mnvidia-cusolver-cu12\u001b[0m \u001b[32m------------------------------\u001b[2m\u001b[0m\u001b[0m 116.75 MiB/118.41 MiB\n",
            "\u001b[2mnvidia-nccl-cu12\u001b[0m \u001b[32m---------------------\u001b[2m---------\u001b[0m\u001b[0m 115.81 MiB/168.08 MiB\n",
            "\u001b[2mnvidia-cusparse-cu12\u001b[0m \u001b[32m-------------------\u001b[2m-----------\u001b[0m\u001b[0m 116.78 MiB/186.88 MiB\n",
            "\u001b[2mtriton    \u001b[0m \u001b[32m------------------\u001b[2m------------\u001b[0m\u001b[0m 116.91 MiB/199.65 MiB\n",
            "\u001b[2mnvidia-cublas-cu12\u001b[0m \u001b[32m---------\u001b[2m---------------------\u001b[0m\u001b[0m 115.76 MiB/391.57 MiB\n",
            "\u001b[2mnvidia-cudnn-cu12\u001b[0m \u001b[32m------\u001b[2m------------------------\u001b[0m\u001b[0m 115.24 MiB/633.96 MiB\n",
            "\u001b[2K\u001b[9A\u001b[37m⠋\u001b[0m \u001b[2mPreparing packages...\u001b[0m (123/132)\n",
            "\u001b[2mpyarrow   \u001b[0m \u001b[32m------------------------------\u001b[2m\u001b[0m\u001b[0m 35.98 MiB/36.64 MiB\n",
            "\u001b[2mnvidia-cusolver-cu12\u001b[0m \u001b[32m------------------------------\u001b[2m\u001b[0m\u001b[0m 116.96 MiB/118.41 MiB\n",
            "\u001b[2mnvidia-nccl-cu12\u001b[0m \u001b[32m---------------------\u001b[2m---------\u001b[0m\u001b[0m 116.00 MiB/168.08 MiB\n",
            "\u001b[2mnvidia-cusparse-cu12\u001b[0m \u001b[32m-------------------\u001b[2m-----------\u001b[0m\u001b[0m 117.00 MiB/186.88 MiB\n",
            "\u001b[2mtriton    \u001b[0m \u001b[32m------------------\u001b[2m------------\u001b[0m\u001b[0m 117.59 MiB/199.65 MiB\n",
            "\u001b[2mnvidia-cublas-cu12\u001b[0m \u001b[32m---------\u001b[2m---------------------\u001b[0m\u001b[0m 115.95 MiB/391.57 MiB\n",
            "\u001b[2mnvidia-cudnn-cu12\u001b[0m \u001b[32m------\u001b[2m------------------------\u001b[0m\u001b[0m 115.91 MiB/633.96 MiB\n",
            "\u001b[2K\u001b[8A\u001b[37m⠋\u001b[0m \u001b[2mPreparing packages...\u001b[0m (123/132)\n",
            "\u001b[2mpyarrow   \u001b[0m \u001b[32m------------------------------\u001b[2m\u001b[0m\u001b[0m 35.98 MiB/36.64 MiB\n",
            "\u001b[2mnvidia-cusolver-cu12\u001b[0m \u001b[32m------------------------------\u001b[2m\u001b[0m\u001b[0m 116.96 MiB/118.41 MiB\n",
            "\u001b[2mnvidia-nccl-cu12\u001b[0m \u001b[32m---------------------\u001b[2m---------\u001b[0m\u001b[0m 116.16 MiB/168.08 MiB\n",
            "\u001b[2mnvidia-cusparse-cu12\u001b[0m \u001b[32m-------------------\u001b[2m-----------\u001b[0m\u001b[0m 117.00 MiB/186.88 MiB\n",
            "\u001b[2mtriton    \u001b[0m \u001b[32m------------------\u001b[2m------------\u001b[0m\u001b[0m 117.59 MiB/199.65 MiB\n",
            "\u001b[2mnvidia-cublas-cu12\u001b[0m \u001b[32m---------\u001b[2m---------------------\u001b[0m\u001b[0m 115.95 MiB/391.57 MiB\n",
            "\u001b[2mnvidia-cudnn-cu12\u001b[0m \u001b[32m------\u001b[2m------------------------\u001b[0m\u001b[0m 115.91 MiB/633.96 MiB\n",
            "\u001b[2K\u001b[8A\u001b[37m⠙\u001b[0m \u001b[2mPreparing packages...\u001b[0m (124/132)\n",
            "\u001b[2mpyarrow   \u001b[0m \u001b[32m------------------------------\u001b[2m\u001b[0m\u001b[0m 35.98 MiB/36.64 MiB\n",
            "\u001b[2mnvidia-cusolver-cu12\u001b[0m \u001b[32m------------------------------\u001b[2m\u001b[0m\u001b[0m 117.62 MiB/118.41 MiB\n",
            "\u001b[2mnvidia-nccl-cu12\u001b[0m \u001b[32m---------------------\u001b[2m---------\u001b[0m\u001b[0m 116.60 MiB/168.08 MiB\n",
            "\u001b[2mnvidia-cusparse-cu12\u001b[0m \u001b[32m-------------------\u001b[2m-----------\u001b[0m\u001b[0m 117.60 MiB/186.88 MiB\n",
            "\u001b[2mtriton    \u001b[0m \u001b[32m------------------\u001b[2m------------\u001b[0m\u001b[0m 117.81 MiB/199.65 MiB\n",
            "\u001b[2mnvidia-cublas-cu12\u001b[0m \u001b[32m---------\u001b[2m---------------------\u001b[0m\u001b[0m 116.62 MiB/391.57 MiB\n",
            "\u001b[2mnvidia-cudnn-cu12\u001b[0m \u001b[32m------\u001b[2m------------------------\u001b[0m\u001b[0m 116.16 MiB/633.96 MiB\n",
            "\u001b[2K\u001b[8A\u001b[37m⠙\u001b[0m \u001b[2mPreparing packages...\u001b[0m (124/132)\n",
            "\u001b[2mpyarrow   \u001b[0m \u001b[32m------------------------------\u001b[2m\u001b[0m\u001b[0m 35.98 MiB/36.64 MiB\n",
            "\u001b[2mnvidia-cusolver-cu12\u001b[0m \u001b[32m------------------------------\u001b[2m\u001b[0m\u001b[0m 117.96 MiB/118.41 MiB\n",
            "\u001b[2mnvidia-nccl-cu12\u001b[0m \u001b[32m---------------------\u001b[2m---------\u001b[0m\u001b[0m 116.96 MiB/168.08 MiB\n",
            "\u001b[2mnvidia-cusparse-cu12\u001b[0m \u001b[32m-------------------\u001b[2m-----------\u001b[0m\u001b[0m 117.96 MiB/186.88 MiB\n",
            "\u001b[2mtriton    \u001b[0m \u001b[32m------------------\u001b[2m------------\u001b[0m\u001b[0m 118.20 MiB/199.65 MiB\n",
            "\u001b[2mnvidia-cublas-cu12\u001b[0m \u001b[32m---------\u001b[2m---------------------\u001b[0m\u001b[0m 116.96 MiB/391.57 MiB\n",
            "\u001b[2mnvidia-cudnn-cu12\u001b[0m \u001b[32m------\u001b[2m------------------------\u001b[0m\u001b[0m 116.44 MiB/633.96 MiB\n",
            "\u001b[2K\u001b[8A\u001b[37m⠙\u001b[0m \u001b[2mPreparing packages...\u001b[0m (124/132)\n",
            "\u001b[2mpyarrow   \u001b[0m \u001b[32m------------------------------\u001b[2m\u001b[0m\u001b[0m 35.98 MiB/36.64 MiB\n",
            "\u001b[2mnvidia-cusolver-cu12\u001b[0m \u001b[32m------------------------------\u001b[2m\u001b[0m\u001b[0m 118.37 MiB/118.41 MiB\n",
            "\u001b[2mnvidia-nccl-cu12\u001b[0m \u001b[32m---------------------\u001b[2m---------\u001b[0m\u001b[0m 117.25 MiB/168.08 MiB\n",
            "\u001b[2mnvidia-cusparse-cu12\u001b[0m \u001b[32m--------------------\u001b[2m----------\u001b[0m\u001b[0m 118.63 MiB/186.88 MiB\n",
            "\u001b[2mtriton    \u001b[0m \u001b[32m------------------\u001b[2m------------\u001b[0m\u001b[0m 118.50 MiB/199.65 MiB\n",
            "\u001b[2mnvidia-cublas-cu12\u001b[0m \u001b[32m----------\u001b[2m--------------------\u001b[0m\u001b[0m 117.63 MiB/391.57 MiB\n",
            "\u001b[2mnvidia-cudnn-cu12\u001b[0m \u001b[32m------\u001b[2m------------------------\u001b[0m\u001b[0m 116.84 MiB/633.96 MiB\n",
            "\u001b[2K\u001b[8A\u001b[37m⠙\u001b[0m \u001b[2mPreparing packages...\u001b[0m (124/132)\n",
            "\u001b[2mpyarrow   \u001b[0m \u001b[32m------------------------------\u001b[2m\u001b[0m\u001b[0m 35.98 MiB/36.64 MiB\n",
            "\u001b[2mnvidia-cusolver-cu12\u001b[0m \u001b[32m------------------------------\u001b[2m\u001b[0m\u001b[0m 118.37 MiB/118.41 MiB\n",
            "\u001b[2mnvidia-nccl-cu12\u001b[0m \u001b[32m----------------------\u001b[2m--------\u001b[0m\u001b[0m 117.89 MiB/168.08 MiB\n",
            "\u001b[2mnvidia-cusparse-cu12\u001b[0m \u001b[32m--------------------\u001b[2m----------\u001b[0m\u001b[0m 118.97 MiB/186.88 MiB\n",
            "\u001b[2mtriton    \u001b[0m \u001b[32m------------------\u001b[2m------------\u001b[0m\u001b[0m 119.37 MiB/199.65 MiB\n",
            "\u001b[2mnvidia-cublas-cu12\u001b[0m \u001b[32m----------\u001b[2m--------------------\u001b[0m\u001b[0m 117.90 MiB/391.57 MiB\n",
            "\u001b[2mnvidia-cudnn-cu12\u001b[0m \u001b[32m------\u001b[2m------------------------\u001b[0m\u001b[0m 117.34 MiB/633.96 MiB\n",
            "\u001b[2K\u001b[8A\u001b[37m⠹\u001b[0m \u001b[2mPreparing packages...\u001b[0m (124/132)\n",
            "\u001b[2mpyarrow   \u001b[0m \u001b[32m------------------------------\u001b[2m\u001b[0m\u001b[0m 35.98 MiB/36.64 MiB\n",
            "\u001b[2mnvidia-cusolver-cu12\u001b[0m \u001b[32m------------------------------\u001b[2m\u001b[0m\u001b[0m 118.41 MiB/118.41 MiB\n",
            "\u001b[2mnvidia-nccl-cu12\u001b[0m \u001b[32m----------------------\u001b[2m--------\u001b[0m\u001b[0m 118.36 MiB/168.08 MiB\n",
            "\u001b[2mnvidia-cusparse-cu12\u001b[0m \u001b[32m--------------------\u001b[2m----------\u001b[0m\u001b[0m 119.61 MiB/186.88 MiB\n",
            "\u001b[2mtriton    \u001b[0m \u001b[32m------------------\u001b[2m------------\u001b[0m\u001b[0m 119.67 MiB/199.65 MiB\n",
            "\u001b[2mnvidia-cublas-cu12\u001b[0m \u001b[32m----------\u001b[2m--------------------\u001b[0m\u001b[0m 118.33 MiB/391.57 MiB\n",
            "\u001b[2mnvidia-cudnn-cu12\u001b[0m \u001b[32m------\u001b[2m------------------------\u001b[0m\u001b[0m 118.09 MiB/633.96 MiB\n",
            "\u001b[2K\u001b[8A\u001b[37m⠹\u001b[0m \u001b[2mPreparing packages...\u001b[0m (124/132)\n",
            "\u001b[2mpyarrow   \u001b[0m \u001b[32m------------------------------\u001b[2m\u001b[0m\u001b[0m 36.00 MiB/36.64 MiB\n",
            "\u001b[2mnvidia-cusolver-cu12\u001b[0m \u001b[32m------------------------------\u001b[2m\u001b[0m\u001b[0m 118.41 MiB/118.41 MiB\n",
            "\u001b[2mnvidia-nccl-cu12\u001b[0m \u001b[32m----------------------\u001b[2m--------\u001b[0m\u001b[0m 118.94 MiB/168.08 MiB\n",
            "\u001b[2mnvidia-cusparse-cu12\u001b[0m \u001b[32m--------------------\u001b[2m----------\u001b[0m\u001b[0m 119.95 MiB/186.88 MiB\n",
            "\u001b[2mtriton    \u001b[0m \u001b[32m-------------------\u001b[2m-----------\u001b[0m\u001b[0m 120.00 MiB/199.65 MiB\n",
            "\u001b[2mnvidia-cublas-cu12\u001b[0m \u001b[32m----------\u001b[2m--------------------\u001b[0m\u001b[0m 118.95 MiB/391.57 MiB\n",
            "\u001b[2mnvidia-cudnn-cu12\u001b[0m \u001b[32m------\u001b[2m------------------------\u001b[0m\u001b[0m 118.66 MiB/633.96 MiB\n",
            "\u001b[2K\u001b[8A\u001b[37m⠹\u001b[0m \u001b[2mPreparing packages...\u001b[0m (124/132)\n",
            "\u001b[2mpyarrow   \u001b[0m \u001b[32m------------------------------\u001b[2m\u001b[0m\u001b[0m 36.00 MiB/36.64 MiB\n",
            "\u001b[2mnvidia-cusolver-cu12\u001b[0m \u001b[32m------------------------------\u001b[2m\u001b[0m\u001b[0m 118.41 MiB/118.41 MiB\n",
            "\u001b[2mnvidia-nccl-cu12\u001b[0m \u001b[32m----------------------\u001b[2m--------\u001b[0m\u001b[0m 119.28 MiB/168.08 MiB\n",
            "\u001b[2mnvidia-cusparse-cu12\u001b[0m \u001b[32m--------------------\u001b[2m----------\u001b[0m\u001b[0m 120.34 MiB/186.88 MiB\n",
            "\u001b[2mtriton    \u001b[0m \u001b[32m-------------------\u001b[2m-----------\u001b[0m\u001b[0m 120.79 MiB/199.65 MiB\n",
            "\u001b[2mnvidia-cublas-cu12\u001b[0m \u001b[32m----------\u001b[2m--------------------\u001b[0m\u001b[0m 119.72 MiB/391.57 MiB\n",
            "\u001b[2mnvidia-cudnn-cu12\u001b[0m \u001b[32m------\u001b[2m------------------------\u001b[0m\u001b[0m 119.33 MiB/633.96 MiB\n",
            "\u001b[2K\u001b[8A\u001b[37m⠹\u001b[0m \u001b[2mPreparing packages...\u001b[0m (124/132)\n",
            "\u001b[2mpyarrow   \u001b[0m \u001b[32m------------------------------\u001b[2m\u001b[0m\u001b[0m 36.00 MiB/36.64 MiB\n",
            "\u001b[2mnvidia-nccl-cu12\u001b[0m \u001b[32m----------------------\u001b[2m--------\u001b[0m\u001b[0m 119.73 MiB/168.08 MiB\n",
            "\u001b[2mnvidia-cusparse-cu12\u001b[0m \u001b[32m--------------------\u001b[2m----------\u001b[0m\u001b[0m 120.80 MiB/186.88 MiB\n",
            "\u001b[2mtriton    \u001b[0m \u001b[32m-------------------\u001b[2m-----------\u001b[0m\u001b[0m 120.79 MiB/199.65 MiB\n",
            "\u001b[2mnvidia-cublas-cu12\u001b[0m \u001b[32m----------\u001b[2m--------------------\u001b[0m\u001b[0m 119.72 MiB/391.57 MiB\n",
            "\u001b[2mnvidia-cudnn-cu12\u001b[0m \u001b[32m------\u001b[2m------------------------\u001b[0m\u001b[0m 119.33 MiB/633.96 MiB\n",
            "\u001b[2K\u001b[7A\u001b[37m⠹\u001b[0m \u001b[2mPreparing packages...\u001b[0m (124/132)\n",
            "\u001b[2mpyarrow   \u001b[0m \u001b[32m------------------------------\u001b[2m\u001b[0m\u001b[0m 36.00 MiB/36.64 MiB\n",
            "\u001b[2mnvidia-nccl-cu12\u001b[0m \u001b[32m----------------------\u001b[2m--------\u001b[0m\u001b[0m 119.73 MiB/168.08 MiB\n",
            "\u001b[2mnvidia-cusparse-cu12\u001b[0m \u001b[32m--------------------\u001b[2m----------\u001b[0m\u001b[0m 121.16 MiB/186.88 MiB\n",
            "\u001b[2mtriton    \u001b[0m \u001b[32m-------------------\u001b[2m-----------\u001b[0m\u001b[0m 121.06 MiB/199.65 MiB\n",
            "\u001b[2mnvidia-cublas-cu12\u001b[0m \u001b[32m----------\u001b[2m--------------------\u001b[0m\u001b[0m 120.00 MiB/391.57 MiB\n",
            "\u001b[2mnvidia-cudnn-cu12\u001b[0m \u001b[32m------\u001b[2m------------------------\u001b[0m\u001b[0m 119.72 MiB/633.96 MiB\n",
            "\u001b[2K\u001b[7A\u001b[37m⠸\u001b[0m \u001b[2mPreparing packages...\u001b[0m (125/132)\n",
            "\u001b[2mpyarrow   \u001b[0m \u001b[32m------------------------------\u001b[2m\u001b[0m\u001b[0m 36.00 MiB/36.64 MiB\n",
            "\u001b[2mnvidia-nccl-cu12\u001b[0m \u001b[32m----------------------\u001b[2m--------\u001b[0m\u001b[0m 120.41 MiB/168.08 MiB\n",
            "\u001b[2mnvidia-cusparse-cu12\u001b[0m \u001b[32m--------------------\u001b[2m----------\u001b[0m\u001b[0m 121.59 MiB/186.88 MiB\n",
            "\u001b[2mtriton    \u001b[0m \u001b[32m-------------------\u001b[2m-----------\u001b[0m\u001b[0m 121.47 MiB/199.65 MiB\n",
            "\u001b[2mnvidia-cublas-cu12\u001b[0m \u001b[32m----------\u001b[2m--------------------\u001b[0m\u001b[0m 120.40 MiB/391.57 MiB\n",
            "\u001b[2mnvidia-cudnn-cu12\u001b[0m \u001b[32m------\u001b[2m------------------------\u001b[0m\u001b[0m 120.12 MiB/633.96 MiB\n",
            "\u001b[2K\u001b[7A\u001b[37m⠸\u001b[0m \u001b[2mPreparing packages...\u001b[0m (125/132)\n",
            "\u001b[2mpyarrow   \u001b[0m \u001b[32m------------------------------\u001b[2m\u001b[0m\u001b[0m 36.00 MiB/36.64 MiB\n",
            "\u001b[2mnvidia-nccl-cu12\u001b[0m \u001b[32m----------------------\u001b[2m--------\u001b[0m\u001b[0m 120.71 MiB/168.08 MiB\n",
            "\u001b[2mnvidia-cusparse-cu12\u001b[0m \u001b[32m--------------------\u001b[2m----------\u001b[0m\u001b[0m 122.00 MiB/186.88 MiB\n",
            "\u001b[2mtriton    \u001b[0m \u001b[32m-------------------\u001b[2m-----------\u001b[0m\u001b[0m 122.10 MiB/199.65 MiB\n",
            "\u001b[2mnvidia-cublas-cu12\u001b[0m \u001b[32m----------\u001b[2m--------------------\u001b[0m\u001b[0m 121.36 MiB/391.57 MiB\n",
            "\u001b[2mnvidia-cudnn-cu12\u001b[0m \u001b[32m------\u001b[2m------------------------\u001b[0m\u001b[0m 120.38 MiB/633.96 MiB\n",
            "\u001b[2K\u001b[7A\u001b[37m⠸\u001b[0m \u001b[2mPreparing packages...\u001b[0m (125/132)\n",
            "\u001b[2mpyarrow   \u001b[0m \u001b[32m------------------------------\u001b[2m\u001b[0m\u001b[0m 36.00 MiB/36.64 MiB\n",
            "\u001b[2mnvidia-nccl-cu12\u001b[0m \u001b[32m----------------------\u001b[2m--------\u001b[0m\u001b[0m 121.06 MiB/168.08 MiB\n",
            "\u001b[2mnvidia-cusparse-cu12\u001b[0m \u001b[32m--------------------\u001b[2m----------\u001b[0m\u001b[0m 122.28 MiB/186.88 MiB\n",
            "\u001b[2mtriton    \u001b[0m \u001b[32m-------------------\u001b[2m-----------\u001b[0m\u001b[0m 122.59 MiB/199.65 MiB\n",
            "\u001b[2mnvidia-cublas-cu12\u001b[0m \u001b[32m----------\u001b[2m--------------------\u001b[0m\u001b[0m 121.65 MiB/391.57 MiB\n",
            "\u001b[2mnvidia-cudnn-cu12\u001b[0m \u001b[32m------\u001b[2m------------------------\u001b[0m\u001b[0m 121.23 MiB/633.96 MiB\n",
            "\u001b[2K\u001b[7A\u001b[37m⠸\u001b[0m \u001b[2mPreparing packages...\u001b[0m (125/132)\n",
            "\u001b[2mpyarrow   \u001b[0m \u001b[32m------------------------------\u001b[2m\u001b[0m\u001b[0m 36.00 MiB/36.64 MiB\n",
            "\u001b[2mnvidia-nccl-cu12\u001b[0m \u001b[32m----------------------\u001b[2m--------\u001b[0m\u001b[0m 122.00 MiB/168.08 MiB\n",
            "\u001b[2mnvidia-cusparse-cu12\u001b[0m \u001b[32m--------------------\u001b[2m----------\u001b[0m\u001b[0m 122.75 MiB/186.88 MiB\n",
            "\u001b[2mtriton    \u001b[0m \u001b[32m-------------------\u001b[2m-----------\u001b[0m\u001b[0m 123.00 MiB/199.65 MiB\n",
            "\u001b[2mnvidia-cublas-cu12\u001b[0m \u001b[32m----------\u001b[2m--------------------\u001b[0m\u001b[0m 121.97 MiB/391.57 MiB\n",
            "\u001b[2mnvidia-cudnn-cu12\u001b[0m \u001b[32m------\u001b[2m------------------------\u001b[0m\u001b[0m 121.68 MiB/633.96 MiB\n",
            "\u001b[2K\u001b[7A\u001b[37m⠼\u001b[0m \u001b[2mPreparing packages...\u001b[0m (125/132)\n",
            "\u001b[2mpyarrow   \u001b[0m \u001b[32m------------------------------\u001b[2m\u001b[0m\u001b[0m 36.00 MiB/36.64 MiB\n",
            "\u001b[2mnvidia-nccl-cu12\u001b[0m \u001b[32m----------------------\u001b[2m--------\u001b[0m\u001b[0m 122.00 MiB/168.08 MiB\n",
            "\u001b[2mnvidia-cusparse-cu12\u001b[0m \u001b[32m--------------------\u001b[2m----------\u001b[0m\u001b[0m 123.00 MiB/186.88 MiB\n",
            "\u001b[2mtriton    \u001b[0m \u001b[32m-------------------\u001b[2m-----------\u001b[0m\u001b[0m 123.77 MiB/199.65 MiB\n",
            "\u001b[2mnvidia-cublas-cu12\u001b[0m \u001b[32m----------\u001b[2m--------------------\u001b[0m\u001b[0m 122.74 MiB/391.57 MiB\n",
            "\u001b[2mnvidia-cudnn-cu12\u001b[0m \u001b[32m------\u001b[2m------------------------\u001b[0m\u001b[0m 122.40 MiB/633.96 MiB\n",
            "\u001b[2K\u001b[7A\u001b[37m⠼\u001b[0m \u001b[2mPreparing packages...\u001b[0m (125/132)\n",
            "\u001b[2mpyarrow   \u001b[0m \u001b[32m------------------------------\u001b[2m\u001b[0m\u001b[0m 36.02 MiB/36.64 MiB\n",
            "\u001b[2mnvidia-nccl-cu12\u001b[0m \u001b[32m----------------------\u001b[2m--------\u001b[0m\u001b[0m 122.73 MiB/168.08 MiB\n",
            "\u001b[2mnvidia-cusparse-cu12\u001b[0m \u001b[32m--------------------\u001b[2m----------\u001b[0m\u001b[0m 123.71 MiB/186.88 MiB\n",
            "\u001b[2mtriton    \u001b[0m \u001b[32m-------------------\u001b[2m-----------\u001b[0m\u001b[0m 124.08 MiB/199.65 MiB\n",
            "\u001b[2mnvidia-cublas-cu12\u001b[0m \u001b[32m----------\u001b[2m--------------------\u001b[0m\u001b[0m 123.03 MiB/391.57 MiB\n",
            "\u001b[2mnvidia-cudnn-cu12\u001b[0m \u001b[32m------\u001b[2m------------------------\u001b[0m\u001b[0m 122.71 MiB/633.96 MiB\n",
            "\u001b[2K\u001b[7A\u001b[37m⠼\u001b[0m \u001b[2mPreparing packages...\u001b[0m (125/132)\n",
            "\u001b[2mpyarrow   \u001b[0m \u001b[32m------------------------------\u001b[2m\u001b[0m\u001b[0m 36.02 MiB/36.64 MiB\n",
            "\u001b[2mnvidia-nccl-cu12\u001b[0m \u001b[32m----------------------\u001b[2m--------\u001b[0m\u001b[0m 123.22 MiB/168.08 MiB\n",
            "\u001b[2mnvidia-cusparse-cu12\u001b[0m \u001b[32m--------------------\u001b[2m----------\u001b[0m\u001b[0m 123.96 MiB/186.88 MiB\n",
            "\u001b[2mtriton    \u001b[0m \u001b[32m-------------------\u001b[2m-----------\u001b[0m\u001b[0m 124.89 MiB/199.65 MiB\n",
            "\u001b[2mnvidia-cublas-cu12\u001b[0m \u001b[32m----------\u001b[2m--------------------\u001b[0m\u001b[0m 123.57 MiB/391.57 MiB\n",
            "\u001b[2mnvidia-cudnn-cu12\u001b[0m \u001b[32m------\u001b[2m------------------------\u001b[0m\u001b[0m 123.58 MiB/633.96 MiB\n",
            "\u001b[2K\u001b[7A\u001b[37m⠼\u001b[0m \u001b[2mPreparing packages...\u001b[0m (125/132)\n",
            "\u001b[2mpyarrow   \u001b[0m \u001b[32m------------------------------\u001b[2m\u001b[0m\u001b[0m 36.02 MiB/36.64 MiB\n",
            "\u001b[2mnvidia-nccl-cu12\u001b[0m \u001b[32m-----------------------\u001b[2m-------\u001b[0m\u001b[0m 124.00 MiB/168.08 MiB\n",
            "\u001b[2mnvidia-cusparse-cu12\u001b[0m \u001b[32m---------------------\u001b[2m---------\u001b[0m\u001b[0m 124.85 MiB/186.88 MiB\n",
            "\u001b[2mtriton    \u001b[0m \u001b[32m-------------------\u001b[2m-----------\u001b[0m\u001b[0m 124.93 MiB/199.65 MiB\n",
            "\u001b[2mnvidia-cublas-cu12\u001b[0m \u001b[32m----------\u001b[2m--------------------\u001b[0m\u001b[0m 124.00 MiB/391.57 MiB\n",
            "\u001b[2mnvidia-cudnn-cu12\u001b[0m \u001b[32m------\u001b[2m------------------------\u001b[0m\u001b[0m 124.00 MiB/633.96 MiB\n",
            "\u001b[2K\u001b[7A\u001b[37m⠴\u001b[0m \u001b[2mPreparing packages...\u001b[0m (125/132)\n",
            "\u001b[2mpyarrow   \u001b[0m \u001b[32m------------------------------\u001b[2m\u001b[0m\u001b[0m 36.02 MiB/36.64 MiB\n",
            "\u001b[2mnvidia-nccl-cu12\u001b[0m \u001b[32m-----------------------\u001b[2m-------\u001b[0m\u001b[0m 124.28 MiB/168.08 MiB\n",
            "\u001b[2mnvidia-cusparse-cu12\u001b[0m \u001b[32m---------------------\u001b[2m---------\u001b[0m\u001b[0m 125.50 MiB/186.88 MiB\n",
            "\u001b[2mtriton    \u001b[0m \u001b[32m-------------------\u001b[2m-----------\u001b[0m\u001b[0m 125.72 MiB/199.65 MiB\n",
            "\u001b[2mnvidia-cublas-cu12\u001b[0m \u001b[32m----------\u001b[2m--------------------\u001b[0m\u001b[0m 124.31 MiB/391.57 MiB\n",
            "\u001b[2mnvidia-cudnn-cu12\u001b[0m \u001b[32m------\u001b[2m------------------------\u001b[0m\u001b[0m 124.47 MiB/633.96 MiB\n",
            "\u001b[2K\u001b[7A\u001b[37m⠴\u001b[0m \u001b[2mPreparing packages...\u001b[0m (125/132)\n",
            "\u001b[2mpyarrow   \u001b[0m \u001b[32m------------------------------\u001b[2m\u001b[0m\u001b[0m 36.02 MiB/36.64 MiB\n",
            "\u001b[2mnvidia-nccl-cu12\u001b[0m \u001b[32m-----------------------\u001b[2m-------\u001b[0m\u001b[0m 124.99 MiB/168.08 MiB\n",
            "\u001b[2mnvidia-cusparse-cu12\u001b[0m \u001b[32m---------------------\u001b[2m---------\u001b[0m\u001b[0m 125.50 MiB/186.88 MiB\n",
            "\u001b[2mtriton    \u001b[0m \u001b[32m--------------------\u001b[2m----------\u001b[0m\u001b[0m 126.48 MiB/199.65 MiB\n",
            "\u001b[2mnvidia-cublas-cu12\u001b[0m \u001b[32m----------\u001b[2m--------------------\u001b[0m\u001b[0m 124.98 MiB/391.57 MiB\n",
            "\u001b[2mnvidia-cudnn-cu12\u001b[0m \u001b[32m------\u001b[2m------------------------\u001b[0m\u001b[0m 124.97 MiB/633.96 MiB\n",
            "\u001b[2K\u001b[7A\u001b[37m⠴\u001b[0m \u001b[2mPreparing packages...\u001b[0m (125/132)\n",
            "\u001b[2mpyarrow   \u001b[0m \u001b[32m------------------------------\u001b[2m\u001b[0m\u001b[0m 36.02 MiB/36.64 MiB\n",
            "\u001b[2mnvidia-nccl-cu12\u001b[0m \u001b[32m-----------------------\u001b[2m-------\u001b[0m\u001b[0m 125.50 MiB/168.08 MiB\n",
            "\u001b[2mnvidia-cusparse-cu12\u001b[0m \u001b[32m---------------------\u001b[2m---------\u001b[0m\u001b[0m 126.00 MiB/186.88 MiB\n",
            "\u001b[2mtriton    \u001b[0m \u001b[32m--------------------\u001b[2m----------\u001b[0m\u001b[0m 126.97 MiB/199.65 MiB\n",
            "\u001b[2mnvidia-cublas-cu12\u001b[0m \u001b[32m----------\u001b[2m--------------------\u001b[0m\u001b[0m 125.34 MiB/391.57 MiB\n",
            "\u001b[2mnvidia-cudnn-cu12\u001b[0m \u001b[32m------\u001b[2m------------------------\u001b[0m\u001b[0m 125.44 MiB/633.96 MiB\n",
            "\u001b[2K\u001b[7A\u001b[37m⠴\u001b[0m \u001b[2mPreparing packages...\u001b[0m (125/132)\n",
            "\u001b[2mpyarrow   \u001b[0m \u001b[32m------------------------------\u001b[2m\u001b[0m\u001b[0m 36.03 MiB/36.64 MiB\n",
            "\u001b[2mnvidia-nccl-cu12\u001b[0m \u001b[32m-----------------------\u001b[2m-------\u001b[0m\u001b[0m 126.00 MiB/168.08 MiB\n",
            "\u001b[2mnvidia-cusparse-cu12\u001b[0m \u001b[32m---------------------\u001b[2m---------\u001b[0m\u001b[0m 126.29 MiB/186.88 MiB\n",
            "\u001b[2mtriton    \u001b[0m \u001b[32m--------------------\u001b[2m----------\u001b[0m\u001b[0m 127.29 MiB/199.65 MiB\n",
            "\u001b[2mnvidia-cublas-cu12\u001b[0m \u001b[32m----------\u001b[2m--------------------\u001b[0m\u001b[0m 126.24 MiB/391.57 MiB\n",
            "\u001b[2mnvidia-cudnn-cu12\u001b[0m \u001b[32m------\u001b[2m------------------------\u001b[0m\u001b[0m 126.19 MiB/633.96 MiB\n",
            "\u001b[2K\u001b[7A\u001b[37m⠦\u001b[0m \u001b[2mPreparing packages...\u001b[0m (125/132)\n",
            "\u001b[2mpyarrow   \u001b[0m \u001b[32m------------------------------\u001b[2m\u001b[0m\u001b[0m 36.03 MiB/36.64 MiB\n",
            "\u001b[2mnvidia-nccl-cu12\u001b[0m \u001b[32m-----------------------\u001b[2m-------\u001b[0m\u001b[0m 126.24 MiB/168.08 MiB\n",
            "\u001b[2mnvidia-cusparse-cu12\u001b[0m \u001b[32m---------------------\u001b[2m---------\u001b[0m\u001b[0m 127.15 MiB/186.88 MiB\n",
            "\u001b[2mtriton    \u001b[0m \u001b[32m--------------------\u001b[2m----------\u001b[0m\u001b[0m 128.11 MiB/199.65 MiB\n",
            "\u001b[2mnvidia-cublas-cu12\u001b[0m \u001b[32m----------\u001b[2m--------------------\u001b[0m\u001b[0m 126.57 MiB/391.57 MiB\n",
            "\u001b[2mnvidia-cudnn-cu12\u001b[0m \u001b[32m------\u001b[2m------------------------\u001b[0m\u001b[0m 126.58 MiB/633.96 MiB\n",
            "\u001b[2K\u001b[7A\u001b[37m⠦\u001b[0m \u001b[2mPreparing packages...\u001b[0m (125/132)\n",
            "\u001b[2mpyarrow   \u001b[0m \u001b[32m------------------------------\u001b[2m\u001b[0m\u001b[0m 36.03 MiB/36.64 MiB\n",
            "\u001b[2mnvidia-nccl-cu12\u001b[0m \u001b[32m-----------------------\u001b[2m-------\u001b[0m\u001b[0m 126.75 MiB/168.08 MiB\n",
            "\u001b[2mnvidia-cusparse-cu12\u001b[0m \u001b[32m---------------------\u001b[2m---------\u001b[0m\u001b[0m 127.89 MiB/186.88 MiB\n",
            "\u001b[2mtriton    \u001b[0m \u001b[32m--------------------\u001b[2m----------\u001b[0m\u001b[0m 128.53 MiB/199.65 MiB\n",
            "\u001b[2mnvidia-cublas-cu12\u001b[0m \u001b[32m----------\u001b[2m--------------------\u001b[0m\u001b[0m 126.95 MiB/391.57 MiB\n",
            "\u001b[2mnvidia-cudnn-cu12\u001b[0m \u001b[32m-------\u001b[2m-----------------------\u001b[0m\u001b[0m 126.97 MiB/633.96 MiB\n",
            "\u001b[2K\u001b[7A\u001b[37m⠦\u001b[0m \u001b[2mPreparing packages...\u001b[0m (125/132)\n",
            "\u001b[2mpyarrow   \u001b[0m \u001b[32m------------------------------\u001b[2m\u001b[0m\u001b[0m 36.05 MiB/36.64 MiB\n",
            "\u001b[2mnvidia-nccl-cu12\u001b[0m \u001b[32m-----------------------\u001b[2m-------\u001b[0m\u001b[0m 127.07 MiB/168.08 MiB\n",
            "\u001b[2mnvidia-cusparse-cu12\u001b[0m \u001b[32m---------------------\u001b[2m---------\u001b[0m\u001b[0m 127.89 MiB/186.88 MiB\n",
            "\u001b[2mtriton    \u001b[0m \u001b[32m--------------------\u001b[2m----------\u001b[0m\u001b[0m 129.26 MiB/199.65 MiB\n",
            "\u001b[2mnvidia-cublas-cu12\u001b[0m \u001b[32m----------\u001b[2m--------------------\u001b[0m\u001b[0m 127.70 MiB/391.57 MiB\n",
            "\u001b[2mnvidia-cudnn-cu12\u001b[0m \u001b[32m-------\u001b[2m-----------------------\u001b[0m\u001b[0m 127.69 MiB/633.96 MiB\n",
            "\u001b[2K\u001b[7A\u001b[37m⠦\u001b[0m \u001b[2mPreparing packages...\u001b[0m (125/132)\n",
            "\u001b[2mpyarrow   \u001b[0m \u001b[32m------------------------------\u001b[2m\u001b[0m\u001b[0m 36.05 MiB/36.64 MiB\n",
            "\u001b[2mnvidia-nccl-cu12\u001b[0m \u001b[32m-----------------------\u001b[2m-------\u001b[0m\u001b[0m 127.83 MiB/168.08 MiB\n",
            "\u001b[2mnvidia-cusparse-cu12\u001b[0m \u001b[32m---------------------\u001b[2m---------\u001b[0m\u001b[0m 128.78 MiB/186.88 MiB\n",
            "\u001b[2mtriton    \u001b[0m \u001b[32m--------------------\u001b[2m----------\u001b[0m\u001b[0m 129.57 MiB/199.65 MiB\n",
            "\u001b[2mnvidia-cublas-cu12\u001b[0m \u001b[32m----------\u001b[2m--------------------\u001b[0m\u001b[0m 128.00 MiB/391.57 MiB\n",
            "\u001b[2mnvidia-cudnn-cu12\u001b[0m \u001b[32m-------\u001b[2m-----------------------\u001b[0m\u001b[0m 127.98 MiB/633.96 MiB\n",
            "\u001b[2K\u001b[7A\u001b[37m⠧\u001b[0m \u001b[2mPreparing packages...\u001b[0m (125/132)\n",
            "\u001b[2mpyarrow   \u001b[0m \u001b[32m------------------------------\u001b[2m\u001b[0m\u001b[0m 36.05 MiB/36.64 MiB\n",
            "\u001b[2mnvidia-nccl-cu12\u001b[0m \u001b[32m-----------------------\u001b[2m-------\u001b[0m\u001b[0m 128.67 MiB/168.08 MiB\n",
            "\u001b[2mnvidia-cusparse-cu12\u001b[0m \u001b[32m---------------------\u001b[2m---------\u001b[0m\u001b[0m 129.00 MiB/186.88 MiB\n",
            "\u001b[2mtriton    \u001b[0m \u001b[32m--------------------\u001b[2m----------\u001b[0m\u001b[0m 130.14 MiB/199.65 MiB\n",
            "\u001b[2mnvidia-cublas-cu12\u001b[0m \u001b[32m----------\u001b[2m--------------------\u001b[0m\u001b[0m 128.48 MiB/391.57 MiB\n",
            "\u001b[2mnvidia-cudnn-cu12\u001b[0m \u001b[32m-------\u001b[2m-----------------------\u001b[0m\u001b[0m 128.83 MiB/633.96 MiB\n",
            "\u001b[2K\u001b[7A\u001b[37m⠧\u001b[0m \u001b[2mPreparing packages...\u001b[0m (125/132)\n",
            "\u001b[2mpyarrow   \u001b[0m \u001b[32m------------------------------\u001b[2m\u001b[0m\u001b[0m 36.05 MiB/36.64 MiB\n",
            "\u001b[2mnvidia-nccl-cu12\u001b[0m \u001b[32m-----------------------\u001b[2m-------\u001b[0m\u001b[0m 128.67 MiB/168.08 MiB\n",
            "\u001b[2mnvidia-cusparse-cu12\u001b[0m \u001b[32m---------------------\u001b[2m---------\u001b[0m\u001b[0m 129.70 MiB/186.88 MiB\n",
            "\u001b[2mtriton    \u001b[0m \u001b[32m--------------------\u001b[2m----------\u001b[0m\u001b[0m 130.28 MiB/199.65 MiB\n",
            "\u001b[2mnvidia-cublas-cu12\u001b[0m \u001b[32m----------\u001b[2m--------------------\u001b[0m\u001b[0m 129.27 MiB/391.57 MiB\n",
            "\u001b[2mnvidia-cudnn-cu12\u001b[0m \u001b[32m-------\u001b[2m-----------------------\u001b[0m\u001b[0m 128.83 MiB/633.96 MiB\n",
            "\u001b[2K\u001b[7A\u001b[37m⠧\u001b[0m \u001b[2mPreparing packages...\u001b[0m (125/132)\n",
            "\u001b[2mpyarrow   \u001b[0m \u001b[32m------------------------------\u001b[2m\u001b[0m\u001b[0m 36.05 MiB/36.64 MiB\n",
            "\u001b[2mnvidia-nccl-cu12\u001b[0m \u001b[32m------------------------\u001b[2m------\u001b[0m\u001b[0m 129.12 MiB/168.08 MiB\n",
            "\u001b[2mnvidia-cusparse-cu12\u001b[0m \u001b[32m---------------------\u001b[2m---------\u001b[0m\u001b[0m 130.07 MiB/186.88 MiB\n",
            "\u001b[2mtriton    \u001b[0m \u001b[32m--------------------\u001b[2m----------\u001b[0m\u001b[0m 131.00 MiB/199.65 MiB\n",
            "\u001b[2mnvidia-cublas-cu12\u001b[0m \u001b[32m----------\u001b[2m--------------------\u001b[0m\u001b[0m 129.62 MiB/391.57 MiB\n",
            "\u001b[2mnvidia-cudnn-cu12\u001b[0m \u001b[32m-------\u001b[2m-----------------------\u001b[0m\u001b[0m 129.60 MiB/633.96 MiB\n",
            "\u001b[2K\u001b[7A\u001b[37m⠧\u001b[0m \u001b[2mPreparing packages...\u001b[0m (125/132)\n",
            "\u001b[2mpyarrow   \u001b[0m \u001b[32m------------------------------\u001b[2m\u001b[0m\u001b[0m 36.05 MiB/36.64 MiB\n",
            "\u001b[2mnvidia-nccl-cu12\u001b[0m \u001b[32m------------------------\u001b[2m------\u001b[0m\u001b[0m 129.73 MiB/168.08 MiB\n",
            "\u001b[2mnvidia-cusparse-cu12\u001b[0m \u001b[32m---------------------\u001b[2m---------\u001b[0m\u001b[0m 130.50 MiB/186.88 MiB\n",
            "\u001b[2mtriton    \u001b[0m \u001b[32m--------------------\u001b[2m----------\u001b[0m\u001b[0m 131.61 MiB/199.65 MiB\n",
            "\u001b[2mnvidia-cublas-cu12\u001b[0m \u001b[32m----------\u001b[2m--------------------\u001b[0m\u001b[0m 129.99 MiB/391.57 MiB\n",
            "\u001b[2mnvidia-cudnn-cu12\u001b[0m \u001b[32m-------\u001b[2m-----------------------\u001b[0m\u001b[0m 130.03 MiB/633.96 MiB\n",
            "\u001b[2K\u001b[7A\u001b[37m⠇\u001b[0m \u001b[2mPreparing packages...\u001b[0m (125/132)\n",
            "\u001b[2mpyarrow   \u001b[0m \u001b[32m------------------------------\u001b[2m\u001b[0m\u001b[0m 36.06 MiB/36.64 MiB\n",
            "\u001b[2mnvidia-nccl-cu12\u001b[0m \u001b[32m------------------------\u001b[2m------\u001b[0m\u001b[0m 130.03 MiB/168.08 MiB\n",
            "\u001b[2mnvidia-cusparse-cu12\u001b[0m \u001b[32m----------------------\u001b[2m--------\u001b[0m\u001b[0m 131.00 MiB/186.88 MiB\n",
            "\u001b[2mtriton    \u001b[0m \u001b[32m--------------------\u001b[2m----------\u001b[0m\u001b[0m 132.00 MiB/199.65 MiB\n",
            "\u001b[2mnvidia-cublas-cu12\u001b[0m \u001b[32m----------\u001b[2m--------------------\u001b[0m\u001b[0m 130.29 MiB/391.57 MiB\n",
            "\u001b[2mnvidia-cudnn-cu12\u001b[0m \u001b[32m-------\u001b[2m-----------------------\u001b[0m\u001b[0m 130.97 MiB/633.96 MiB\n",
            "\u001b[2K\u001b[7A\u001b[37m⠇\u001b[0m \u001b[2mPreparing packages...\u001b[0m (125/132)\n",
            "\u001b[2mpyarrow   \u001b[0m \u001b[32m------------------------------\u001b[2m\u001b[0m\u001b[0m 36.06 MiB/36.64 MiB\n",
            "\u001b[2mnvidia-nccl-cu12\u001b[0m \u001b[32m------------------------\u001b[2m------\u001b[0m\u001b[0m 130.95 MiB/168.08 MiB\n",
            "\u001b[2mnvidia-cusparse-cu12\u001b[0m \u001b[32m----------------------\u001b[2m--------\u001b[0m\u001b[0m 131.35 MiB/186.88 MiB\n",
            "\u001b[2mtriton    \u001b[0m \u001b[32m--------------------\u001b[2m----------\u001b[0m\u001b[0m 132.31 MiB/199.65 MiB\n",
            "\u001b[2mnvidia-cublas-cu12\u001b[0m \u001b[32m-----------\u001b[2m-------------------\u001b[0m\u001b[0m 131.25 MiB/391.57 MiB\n",
            "\u001b[2mnvidia-cudnn-cu12\u001b[0m \u001b[32m-------\u001b[2m-----------------------\u001b[0m\u001b[0m 131.32 MiB/633.96 MiB\n",
            "\u001b[2K\u001b[7A\u001b[37m⠇\u001b[0m \u001b[2mPreparing packages...\u001b[0m (125/132)\n",
            "\u001b[2mpyarrow   \u001b[0m \u001b[32m------------------------------\u001b[2m\u001b[0m\u001b[0m 36.08 MiB/36.64 MiB\n",
            "\u001b[2mnvidia-nccl-cu12\u001b[0m \u001b[32m------------------------\u001b[2m------\u001b[0m\u001b[0m 131.43 MiB/168.08 MiB\n",
            "\u001b[2mnvidia-cusparse-cu12\u001b[0m \u001b[32m----------------------\u001b[2m--------\u001b[0m\u001b[0m 131.76 MiB/186.88 MiB\n",
            "\u001b[2mtriton    \u001b[0m \u001b[32m--------------------\u001b[2m----------\u001b[0m\u001b[0m 132.76 MiB/199.65 MiB\n",
            "\u001b[2mnvidia-cublas-cu12\u001b[0m \u001b[32m-----------\u001b[2m-------------------\u001b[0m\u001b[0m 131.61 MiB/391.57 MiB\n",
            "\u001b[2mnvidia-cudnn-cu12\u001b[0m \u001b[32m-------\u001b[2m-----------------------\u001b[0m\u001b[0m 131.72 MiB/633.96 MiB\n",
            "\u001b[2K\u001b[7A\u001b[37m⠇\u001b[0m \u001b[2mPreparing packages...\u001b[0m (125/132)\n",
            "\u001b[2mpyarrow   \u001b[0m \u001b[32m------------------------------\u001b[2m\u001b[0m\u001b[0m 36.08 MiB/36.64 MiB\n",
            "\u001b[2mnvidia-nccl-cu12\u001b[0m \u001b[32m------------------------\u001b[2m------\u001b[0m\u001b[0m 132.17 MiB/168.08 MiB\n",
            "\u001b[2mnvidia-cusparse-cu12\u001b[0m \u001b[32m----------------------\u001b[2m--------\u001b[0m\u001b[0m 132.52 MiB/186.88 MiB\n",
            "\u001b[2mtriton    \u001b[0m \u001b[32m---------------------\u001b[2m---------\u001b[0m\u001b[0m 133.20 MiB/199.65 MiB\n",
            "\u001b[2mnvidia-cublas-cu12\u001b[0m \u001b[32m-----------\u001b[2m-------------------\u001b[0m\u001b[0m 131.95 MiB/391.57 MiB\n",
            "\u001b[2mnvidia-cudnn-cu12\u001b[0m \u001b[32m-------\u001b[2m-----------------------\u001b[0m\u001b[0m 132.34 MiB/633.96 MiB\n",
            "\u001b[2K\u001b[7A\u001b[37m⠋\u001b[0m \u001b[2mPreparing packages...\u001b[0m (125/132)\n",
            "\u001b[2mpyarrow   \u001b[0m \u001b[32m------------------------------\u001b[2m\u001b[0m\u001b[0m 36.08 MiB/36.64 MiB\n",
            "\u001b[2mnvidia-nccl-cu12\u001b[0m \u001b[32m------------------------\u001b[2m------\u001b[0m\u001b[0m 132.50 MiB/168.08 MiB\n",
            "\u001b[2mnvidia-cusparse-cu12\u001b[0m \u001b[32m----------------------\u001b[2m--------\u001b[0m\u001b[0m 132.89 MiB/186.88 MiB\n",
            "\u001b[2mtriton    \u001b[0m \u001b[32m---------------------\u001b[2m---------\u001b[0m\u001b[0m 133.68 MiB/199.65 MiB\n",
            "\u001b[2mnvidia-cublas-cu12\u001b[0m \u001b[32m-----------\u001b[2m-------------------\u001b[0m\u001b[0m 132.68 MiB/391.57 MiB\n",
            "\u001b[2mnvidia-cudnn-cu12\u001b[0m \u001b[32m-------\u001b[2m-----------------------\u001b[0m\u001b[0m 132.73 MiB/633.96 MiB\n",
            "\u001b[2K\u001b[7A\u001b[37m⠋\u001b[0m \u001b[2mPreparing packages...\u001b[0m (125/132)\n",
            "\u001b[2mpyarrow   \u001b[0m \u001b[32m------------------------------\u001b[2m\u001b[0m\u001b[0m 36.08 MiB/36.64 MiB\n",
            "\u001b[2mnvidia-nccl-cu12\u001b[0m \u001b[32m------------------------\u001b[2m------\u001b[0m\u001b[0m 133.29 MiB/168.08 MiB\n",
            "\u001b[2mnvidia-cusparse-cu12\u001b[0m \u001b[32m----------------------\u001b[2m--------\u001b[0m\u001b[0m 133.40 MiB/186.88 MiB\n",
            "\u001b[2mtriton    \u001b[0m \u001b[32m---------------------\u001b[2m---------\u001b[0m\u001b[0m 134.00 MiB/199.65 MiB\n",
            "\u001b[2mnvidia-cublas-cu12\u001b[0m \u001b[32m-----------\u001b[2m-------------------\u001b[0m\u001b[0m 132.94 MiB/391.57 MiB\n",
            "\u001b[2mnvidia-cudnn-cu12\u001b[0m \u001b[32m-------\u001b[2m-----------------------\u001b[0m\u001b[0m 133.15 MiB/633.96 MiB\n",
            "\u001b[2K\u001b[7A\u001b[37m⠋\u001b[0m \u001b[2mPreparing packages...\u001b[0m (125/132)\n",
            "\u001b[2mpyarrow   \u001b[0m \u001b[32m------------------------------\u001b[2m\u001b[0m\u001b[0m 36.09 MiB/36.64 MiB\n",
            "\u001b[2mnvidia-nccl-cu12\u001b[0m \u001b[32m------------------------\u001b[2m------\u001b[0m\u001b[0m 133.66 MiB/168.08 MiB\n",
            "\u001b[2mnvidia-cusparse-cu12\u001b[0m \u001b[32m----------------------\u001b[2m--------\u001b[0m\u001b[0m 133.80 MiB/186.88 MiB\n",
            "\u001b[2mtriton    \u001b[0m \u001b[32m---------------------\u001b[2m---------\u001b[0m\u001b[0m 134.77 MiB/199.65 MiB\n",
            "\u001b[2mnvidia-cublas-cu12\u001b[0m \u001b[32m-----------\u001b[2m-------------------\u001b[0m\u001b[0m 133.32 MiB/391.57 MiB\n",
            "\u001b[2mnvidia-cudnn-cu12\u001b[0m \u001b[32m-------\u001b[2m-----------------------\u001b[0m\u001b[0m 133.86 MiB/633.96 MiB\n",
            "\u001b[2K\u001b[7A\u001b[37m⠋\u001b[0m \u001b[2mPreparing packages...\u001b[0m (125/132)\n",
            "\u001b[2mpyarrow   \u001b[0m \u001b[32m------------------------------\u001b[2m\u001b[0m\u001b[0m 36.09 MiB/36.64 MiB\n",
            "\u001b[2mnvidia-nccl-cu12\u001b[0m \u001b[32m------------------------\u001b[2m------\u001b[0m\u001b[0m 133.95 MiB/168.08 MiB\n",
            "\u001b[2mnvidia-cusparse-cu12\u001b[0m \u001b[32m----------------------\u001b[2m--------\u001b[0m\u001b[0m 134.41 MiB/186.88 MiB\n",
            "\u001b[2mtriton    \u001b[0m \u001b[32m---------------------\u001b[2m---------\u001b[0m\u001b[0m 135.16 MiB/199.65 MiB\n",
            "\u001b[2mnvidia-cublas-cu12\u001b[0m \u001b[32m-----------\u001b[2m-------------------\u001b[0m\u001b[0m 134.44 MiB/391.57 MiB\n",
            "\u001b[2mnvidia-cudnn-cu12\u001b[0m \u001b[32m-------\u001b[2m-----------------------\u001b[0m\u001b[0m 134.24 MiB/633.96 MiB\n",
            "\u001b[2K\u001b[7A\u001b[37m⠙\u001b[0m \u001b[2mPreparing packages...\u001b[0m (125/132)\n",
            "\u001b[2mpyarrow   \u001b[0m \u001b[32m------------------------------\u001b[2m\u001b[0m\u001b[0m 36.09 MiB/36.64 MiB\n",
            "\u001b[2mnvidia-nccl-cu12\u001b[0m \u001b[32m-------------------------\u001b[2m-----\u001b[0m\u001b[0m 134.56 MiB/168.08 MiB\n",
            "\u001b[2mnvidia-cusparse-cu12\u001b[0m \u001b[32m----------------------\u001b[2m--------\u001b[0m\u001b[0m 135.07 MiB/186.88 MiB\n",
            "\u001b[2mtriton    \u001b[0m \u001b[32m---------------------\u001b[2m---------\u001b[0m\u001b[0m 135.91 MiB/199.65 MiB\n",
            "\u001b[2mnvidia-cublas-cu12\u001b[0m \u001b[32m-----------\u001b[2m-------------------\u001b[0m\u001b[0m 134.52 MiB/391.57 MiB\n",
            "\u001b[2mnvidia-cudnn-cu12\u001b[0m \u001b[32m-------\u001b[2m-----------------------\u001b[0m\u001b[0m 135.00 MiB/633.96 MiB\n",
            "\u001b[2K\u001b[7A\u001b[37m⠙\u001b[0m \u001b[2mPreparing packages...\u001b[0m (125/132)\n",
            "\u001b[2mpyarrow   \u001b[0m \u001b[32m------------------------------\u001b[2m\u001b[0m\u001b[0m 36.09 MiB/36.64 MiB\n",
            "\u001b[2mnvidia-nccl-cu12\u001b[0m \u001b[32m-------------------------\u001b[2m-----\u001b[0m\u001b[0m 135.18 MiB/168.08 MiB\n",
            "\u001b[2mnvidia-cusparse-cu12\u001b[0m \u001b[32m----------------------\u001b[2m--------\u001b[0m\u001b[0m 135.49 MiB/186.88 MiB\n",
            "\u001b[2mtriton    \u001b[0m \u001b[32m---------------------\u001b[2m---------\u001b[0m\u001b[0m 136.27 MiB/199.65 MiB\n",
            "\u001b[2mnvidia-cublas-cu12\u001b[0m \u001b[32m-----------\u001b[2m-------------------\u001b[0m\u001b[0m 135.26 MiB/391.57 MiB\n",
            "\u001b[2mnvidia-cudnn-cu12\u001b[0m \u001b[32m-------\u001b[2m-----------------------\u001b[0m\u001b[0m 135.36 MiB/633.96 MiB\n",
            "\u001b[2K\u001b[7A\u001b[37m⠙\u001b[0m \u001b[2mPreparing packages...\u001b[0m (125/132)\n",
            "\u001b[2mpyarrow   \u001b[0m \u001b[32m------------------------------\u001b[2m\u001b[0m\u001b[0m 36.09 MiB/36.64 MiB\n",
            "\u001b[2mnvidia-nccl-cu12\u001b[0m \u001b[32m-------------------------\u001b[2m-----\u001b[0m\u001b[0m 135.54 MiB/168.08 MiB\n",
            "\u001b[2mnvidia-cusparse-cu12\u001b[0m \u001b[32m----------------------\u001b[2m--------\u001b[0m\u001b[0m 135.83 MiB/186.88 MiB\n",
            "\u001b[2mtriton    \u001b[0m \u001b[32m---------------------\u001b[2m---------\u001b[0m\u001b[0m 137.00 MiB/199.65 MiB\n",
            "\u001b[2mnvidia-cublas-cu12\u001b[0m \u001b[32m-----------\u001b[2m-------------------\u001b[0m\u001b[0m 135.76 MiB/391.57 MiB\n",
            "\u001b[2mnvidia-cudnn-cu12\u001b[0m \u001b[32m-------\u001b[2m-----------------------\u001b[0m\u001b[0m 135.65 MiB/633.96 MiB\n",
            "\u001b[2K\u001b[7A\u001b[37m⠙\u001b[0m \u001b[2mPreparing packages...\u001b[0m (125/132)\n",
            "\u001b[2mpyarrow   \u001b[0m \u001b[32m------------------------------\u001b[2m\u001b[0m\u001b[0m 36.09 MiB/36.64 MiB\n",
            "\u001b[2mnvidia-nccl-cu12\u001b[0m \u001b[32m-------------------------\u001b[2m-----\u001b[0m\u001b[0m 136.00 MiB/168.08 MiB\n",
            "\u001b[2mnvidia-cusparse-cu12\u001b[0m \u001b[32m----------------------\u001b[2m--------\u001b[0m\u001b[0m 136.37 MiB/186.88 MiB\n",
            "\u001b[2mtriton    \u001b[0m \u001b[32m---------------------\u001b[2m---------\u001b[0m\u001b[0m 137.34 MiB/199.65 MiB\n",
            "\u001b[2mnvidia-cublas-cu12\u001b[0m \u001b[32m-----------\u001b[2m-------------------\u001b[0m\u001b[0m 136.38 MiB/391.57 MiB\n",
            "\u001b[2mnvidia-cudnn-cu12\u001b[0m \u001b[32m-------\u001b[2m-----------------------\u001b[0m\u001b[0m 136.81 MiB/633.96 MiB\n",
            "\u001b[2K\u001b[7A\u001b[37m⠹\u001b[0m \u001b[2mPreparing packages...\u001b[0m (125/132)\n",
            "\u001b[2mpyarrow   \u001b[0m \u001b[32m------------------------------\u001b[2m\u001b[0m\u001b[0m 36.09 MiB/36.64 MiB\n",
            "\u001b[2mnvidia-nccl-cu12\u001b[0m \u001b[32m-------------------------\u001b[2m-----\u001b[0m\u001b[0m 136.68 MiB/168.08 MiB\n",
            "\u001b[2mnvidia-cusparse-cu12\u001b[0m \u001b[32m----------------------\u001b[2m--------\u001b[0m\u001b[0m 136.68 MiB/186.88 MiB\n",
            "\u001b[2mtriton    \u001b[0m \u001b[32m---------------------\u001b[2m---------\u001b[0m\u001b[0m 137.70 MiB/199.65 MiB\n",
            "\u001b[2mnvidia-cublas-cu12\u001b[0m \u001b[32m-----------\u001b[2m-------------------\u001b[0m\u001b[0m 136.94 MiB/391.57 MiB\n",
            "\u001b[2mnvidia-cudnn-cu12\u001b[0m \u001b[32m-------\u001b[2m-----------------------\u001b[0m\u001b[0m 137.22 MiB/633.96 MiB\n",
            "\u001b[2K\u001b[7A\u001b[37m⠹\u001b[0m \u001b[2mPreparing packages...\u001b[0m (125/132)\n",
            "\u001b[2mpyarrow   \u001b[0m \u001b[32m------------------------------\u001b[2m\u001b[0m\u001b[0m 36.09 MiB/36.64 MiB\n",
            "\u001b[2mnvidia-nccl-cu12\u001b[0m \u001b[32m-------------------------\u001b[2m-----\u001b[0m\u001b[0m 136.94 MiB/168.08 MiB\n",
            "\u001b[2mnvidia-cusparse-cu12\u001b[0m \u001b[32m-----------------------\u001b[2m-------\u001b[0m\u001b[0m 137.16 MiB/186.88 MiB\n",
            "\u001b[2mtriton    \u001b[0m \u001b[32m---------------------\u001b[2m---------\u001b[0m\u001b[0m 138.42 MiB/199.65 MiB\n",
            "\u001b[2mnvidia-cublas-cu12\u001b[0m \u001b[32m-----------\u001b[2m-------------------\u001b[0m\u001b[0m 136.99 MiB/391.57 MiB\n",
            "\u001b[2mnvidia-cudnn-cu12\u001b[0m \u001b[32m-------\u001b[2m-----------------------\u001b[0m\u001b[0m 137.95 MiB/633.96 MiB\n",
            "\u001b[2K\u001b[7A\u001b[37m⠹\u001b[0m \u001b[2mPreparing packages...\u001b[0m (125/132)\n",
            "\u001b[2mpyarrow   \u001b[0m \u001b[32m------------------------------\u001b[2m\u001b[0m\u001b[0m 36.11 MiB/36.64 MiB\n",
            "\u001b[2mnvidia-nccl-cu12\u001b[0m \u001b[32m-------------------------\u001b[2m-----\u001b[0m\u001b[0m 137.74 MiB/168.08 MiB\n",
            "\u001b[2mnvidia-cusparse-cu12\u001b[0m \u001b[32m-----------------------\u001b[2m-------\u001b[0m\u001b[0m 137.95 MiB/186.88 MiB\n",
            "\u001b[2mtriton    \u001b[0m \u001b[32m---------------------\u001b[2m---------\u001b[0m\u001b[0m 138.88 MiB/199.65 MiB\n",
            "\u001b[2mnvidia-cublas-cu12\u001b[0m \u001b[32m-----------\u001b[2m-------------------\u001b[0m\u001b[0m 137.68 MiB/391.57 MiB\n",
            "\u001b[2mnvidia-cudnn-cu12\u001b[0m \u001b[32m-------\u001b[2m-----------------------\u001b[0m\u001b[0m 138.31 MiB/633.96 MiB\n",
            "\u001b[2K\u001b[7A\u001b[37m⠹\u001b[0m \u001b[2mPreparing packages...\u001b[0m (125/132)\n",
            "\u001b[2mpyarrow   \u001b[0m \u001b[32m------------------------------\u001b[2m\u001b[0m\u001b[0m 36.11 MiB/36.64 MiB\n",
            "\u001b[2mnvidia-nccl-cu12\u001b[0m \u001b[32m-------------------------\u001b[2m-----\u001b[0m\u001b[0m 138.27 MiB/168.08 MiB\n",
            "\u001b[2mnvidia-cusparse-cu12\u001b[0m \u001b[32m-----------------------\u001b[2m-------\u001b[0m\u001b[0m 138.65 MiB/186.88 MiB\n",
            "\u001b[2mtriton    \u001b[0m \u001b[32m---------------------\u001b[2m---------\u001b[0m\u001b[0m 139.23 MiB/199.65 MiB\n",
            "\u001b[2mnvidia-cublas-cu12\u001b[0m \u001b[32m-----------\u001b[2m-------------------\u001b[0m\u001b[0m 138.05 MiB/391.57 MiB\n",
            "\u001b[2mnvidia-cudnn-cu12\u001b[0m \u001b[32m-------\u001b[2m-----------------------\u001b[0m\u001b[0m 138.62 MiB/633.96 MiB\n",
            "\u001b[2K\u001b[7A\u001b[37m⠸\u001b[0m \u001b[2mPreparing packages...\u001b[0m (125/132)\n",
            "\u001b[2mpyarrow   \u001b[0m \u001b[32m------------------------------\u001b[2m\u001b[0m\u001b[0m 36.11 MiB/36.64 MiB\n",
            "\u001b[2mnvidia-nccl-cu12\u001b[0m \u001b[32m-------------------------\u001b[2m-----\u001b[0m\u001b[0m 138.90 MiB/168.08 MiB\n",
            "\u001b[2mnvidia-cusparse-cu12\u001b[0m \u001b[32m-----------------------\u001b[2m-------\u001b[0m\u001b[0m 138.91 MiB/186.88 MiB\n",
            "\u001b[2mtriton    \u001b[0m \u001b[32m----------------------\u001b[2m--------\u001b[0m\u001b[0m 140.00 MiB/199.65 MiB\n",
            "\u001b[2mnvidia-cublas-cu12\u001b[0m \u001b[32m-----------\u001b[2m-------------------\u001b[0m\u001b[0m 138.44 MiB/391.57 MiB\n",
            "\u001b[2mnvidia-cudnn-cu12\u001b[0m \u001b[32m-------\u001b[2m-----------------------\u001b[0m\u001b[0m 138.98 MiB/633.96 MiB\n",
            "\u001b[2K\u001b[7A\u001b[37m⠸\u001b[0m \u001b[2mPreparing packages...\u001b[0m (125/132)\n",
            "\u001b[2mpyarrow   \u001b[0m \u001b[32m------------------------------\u001b[2m\u001b[0m\u001b[0m 36.11 MiB/36.64 MiB\n",
            "\u001b[2mnvidia-nccl-cu12\u001b[0m \u001b[32m-------------------------\u001b[2m-----\u001b[0m\u001b[0m 139.30 MiB/168.08 MiB\n",
            "\u001b[2mnvidia-cusparse-cu12\u001b[0m \u001b[32m-----------------------\u001b[2m-------\u001b[0m\u001b[0m 139.38 MiB/186.88 MiB\n",
            "\u001b[2mtriton    \u001b[0m \u001b[32m----------------------\u001b[2m--------\u001b[0m\u001b[0m 140.23 MiB/199.65 MiB\n",
            "\u001b[2mnvidia-cublas-cu12\u001b[0m \u001b[32m-----------\u001b[2m-------------------\u001b[0m\u001b[0m 139.30 MiB/391.57 MiB\n",
            "\u001b[2mnvidia-cudnn-cu12\u001b[0m \u001b[32m-------\u001b[2m-----------------------\u001b[0m\u001b[0m 139.73 MiB/633.96 MiB\n",
            "\u001b[2K\u001b[7A\u001b[37m⠸\u001b[0m \u001b[2mPreparing packages...\u001b[0m (125/132)\n",
            "\u001b[2mpyarrow   \u001b[0m \u001b[32m------------------------------\u001b[2m\u001b[0m\u001b[0m 36.11 MiB/36.64 MiB\n",
            "\u001b[2mnvidia-nccl-cu12\u001b[0m \u001b[32m-------------------------\u001b[2m-----\u001b[0m\u001b[0m 140.00 MiB/168.08 MiB\n",
            "\u001b[2mnvidia-cusparse-cu12\u001b[0m \u001b[32m-----------------------\u001b[2m-------\u001b[0m\u001b[0m 139.98 MiB/186.88 MiB\n",
            "\u001b[2mtriton    \u001b[0m \u001b[32m----------------------\u001b[2m--------\u001b[0m\u001b[0m 140.23 MiB/199.65 MiB\n",
            "\u001b[2mnvidia-cublas-cu12\u001b[0m \u001b[32m-----------\u001b[2m-------------------\u001b[0m\u001b[0m 139.97 MiB/391.57 MiB\n",
            "\u001b[2mnvidia-cudnn-cu12\u001b[0m \u001b[32m-------\u001b[2m-----------------------\u001b[0m\u001b[0m 140.21 MiB/633.96 MiB\n",
            "\u001b[2K\u001b[7A\u001b[37m⠸\u001b[0m \u001b[2mPreparing packages...\u001b[0m (125/132)\n",
            "\u001b[2mpyarrow   \u001b[0m \u001b[32m------------------------------\u001b[2m\u001b[0m\u001b[0m 36.12 MiB/36.64 MiB\n",
            "\u001b[2mnvidia-nccl-cu12\u001b[0m \u001b[32m--------------------------\u001b[2m----\u001b[0m\u001b[0m 140.59 MiB/168.08 MiB\n",
            "\u001b[2mnvidia-cusparse-cu12\u001b[0m \u001b[32m-----------------------\u001b[2m-------\u001b[0m\u001b[0m 140.55 MiB/186.88 MiB\n",
            "\u001b[2mtriton    \u001b[0m \u001b[32m----------------------\u001b[2m--------\u001b[0m\u001b[0m 140.23 MiB/199.65 MiB\n",
            "\u001b[2mnvidia-cublas-cu12\u001b[0m \u001b[32m-----------\u001b[2m-------------------\u001b[0m\u001b[0m 140.55 MiB/391.57 MiB\n",
            "\u001b[2mnvidia-cudnn-cu12\u001b[0m \u001b[32m-------\u001b[2m-----------------------\u001b[0m\u001b[0m 141.18 MiB/633.96 MiB\n",
            "\u001b[2K\u001b[7A\u001b[37m⠼\u001b[0m \u001b[2mPreparing packages...\u001b[0m (125/132)\n",
            "\u001b[2mpyarrow   \u001b[0m \u001b[32m------------------------------\u001b[2m\u001b[0m\u001b[0m 36.12 MiB/36.64 MiB\n",
            "\u001b[2mnvidia-nccl-cu12\u001b[0m \u001b[32m--------------------------\u001b[2m----\u001b[0m\u001b[0m 141.25 MiB/168.08 MiB\n",
            "\u001b[2mnvidia-cusparse-cu12\u001b[0m \u001b[32m-----------------------\u001b[2m-------\u001b[0m\u001b[0m 141.17 MiB/186.88 MiB\n",
            "\u001b[2mtriton    \u001b[0m \u001b[32m----------------------\u001b[2m--------\u001b[0m\u001b[0m 140.23 MiB/199.65 MiB\n",
            "\u001b[2mnvidia-cublas-cu12\u001b[0m \u001b[32m-----------\u001b[2m-------------------\u001b[0m\u001b[0m 141.10 MiB/391.57 MiB\n",
            "\u001b[2mnvidia-cudnn-cu12\u001b[0m \u001b[32m-------\u001b[2m-----------------------\u001b[0m\u001b[0m 141.81 MiB/633.96 MiB\n",
            "\u001b[2K\u001b[7A\u001b[37m⠼\u001b[0m \u001b[2mPreparing packages...\u001b[0m (125/132)\n",
            "\u001b[2mpyarrow   \u001b[0m \u001b[32m------------------------------\u001b[2m\u001b[0m\u001b[0m 36.12 MiB/36.64 MiB\n",
            "\u001b[2mnvidia-nccl-cu12\u001b[0m \u001b[32m--------------------------\u001b[2m----\u001b[0m\u001b[0m 141.83 MiB/168.08 MiB\n",
            "\u001b[2mnvidia-cusparse-cu12\u001b[0m \u001b[32m-----------------------\u001b[2m-------\u001b[0m\u001b[0m 141.77 MiB/186.88 MiB\n",
            "\u001b[2mtriton    \u001b[0m \u001b[32m----------------------\u001b[2m--------\u001b[0m\u001b[0m 140.23 MiB/199.65 MiB\n",
            "\u001b[2mnvidia-cublas-cu12\u001b[0m \u001b[32m-----------\u001b[2m-------------------\u001b[0m\u001b[0m 141.88 MiB/391.57 MiB\n",
            "\u001b[2mnvidia-cudnn-cu12\u001b[0m \u001b[32m-------\u001b[2m-----------------------\u001b[0m\u001b[0m 142.42 MiB/633.96 MiB\n",
            "\u001b[2K\u001b[7A\u001b[37m⠼\u001b[0m \u001b[2mPreparing packages...\u001b[0m (125/132)\n",
            "\u001b[2mpyarrow   \u001b[0m \u001b[32m------------------------------\u001b[2m\u001b[0m\u001b[0m 36.14 MiB/36.64 MiB\n",
            "\u001b[2mnvidia-nccl-cu12\u001b[0m \u001b[32m--------------------------\u001b[2m----\u001b[0m\u001b[0m 142.47 MiB/168.08 MiB\n",
            "\u001b[2mnvidia-cusparse-cu12\u001b[0m \u001b[32m-----------------------\u001b[2m-------\u001b[0m\u001b[0m 142.39 MiB/186.88 MiB\n",
            "\u001b[2mtriton    \u001b[0m \u001b[32m----------------------\u001b[2m--------\u001b[0m\u001b[0m 140.27 MiB/199.65 MiB\n",
            "\u001b[2mnvidia-cublas-cu12\u001b[0m \u001b[32m-----------\u001b[2m-------------------\u001b[0m\u001b[0m 142.49 MiB/391.57 MiB\n",
            "\u001b[2mnvidia-cudnn-cu12\u001b[0m \u001b[32m-------\u001b[2m-----------------------\u001b[0m\u001b[0m 143.07 MiB/633.96 MiB\n",
            "\u001b[2K\u001b[7A\u001b[37m⠼\u001b[0m \u001b[2mPreparing packages...\u001b[0m (125/132)\n",
            "\u001b[2mpyarrow   \u001b[0m \u001b[32m------------------------------\u001b[2m\u001b[0m\u001b[0m 36.14 MiB/36.64 MiB\n",
            "\u001b[2mnvidia-nccl-cu12\u001b[0m \u001b[32m--------------------------\u001b[2m----\u001b[0m\u001b[0m 143.00 MiB/168.08 MiB\n",
            "\u001b[2mnvidia-cusparse-cu12\u001b[0m \u001b[32m-----------------------\u001b[2m-------\u001b[0m\u001b[0m 142.97 MiB/186.88 MiB\n",
            "\u001b[2mtriton    \u001b[0m \u001b[32m----------------------\u001b[2m--------\u001b[0m\u001b[0m 140.28 MiB/199.65 MiB\n",
            "\u001b[2mnvidia-cublas-cu12\u001b[0m \u001b[32m-----------\u001b[2m-------------------\u001b[0m\u001b[0m 142.99 MiB/391.57 MiB\n",
            "\u001b[2mnvidia-cudnn-cu12\u001b[0m \u001b[32m-------\u001b[2m-----------------------\u001b[0m\u001b[0m 143.62 MiB/633.96 MiB\n",
            "\u001b[2K\u001b[7A\u001b[37m⠴\u001b[0m \u001b[2mPreparing packages...\u001b[0m (125/132)\n",
            "\u001b[2mpyarrow   \u001b[0m \u001b[32m------------------------------\u001b[2m\u001b[0m\u001b[0m 36.14 MiB/36.64 MiB\n",
            "\u001b[2mnvidia-nccl-cu12\u001b[0m \u001b[32m--------------------------\u001b[2m----\u001b[0m\u001b[0m 143.67 MiB/168.08 MiB\n",
            "\u001b[2mnvidia-cusparse-cu12\u001b[0m \u001b[32m------------------------\u001b[2m------\u001b[0m\u001b[0m 143.48 MiB/186.88 MiB\n",
            "\u001b[2mtriton    \u001b[0m \u001b[32m----------------------\u001b[2m--------\u001b[0m\u001b[0m 140.28 MiB/199.65 MiB\n",
            "\u001b[2mnvidia-cublas-cu12\u001b[0m \u001b[32m-----------\u001b[2m-------------------\u001b[0m\u001b[0m 143.49 MiB/391.57 MiB\n",
            "\u001b[2mnvidia-cudnn-cu12\u001b[0m \u001b[32m-------\u001b[2m-----------------------\u001b[0m\u001b[0m 144.36 MiB/633.96 MiB\n",
            "\u001b[2K\u001b[7A\u001b[37m⠴\u001b[0m \u001b[2mPreparing packages...\u001b[0m (125/132)\n",
            "\u001b[2mpyarrow   \u001b[0m \u001b[32m------------------------------\u001b[2m\u001b[0m\u001b[0m 36.16 MiB/36.64 MiB\n",
            "\u001b[2mnvidia-nccl-cu12\u001b[0m \u001b[32m--------------------------\u001b[2m----\u001b[0m\u001b[0m 144.27 MiB/168.08 MiB\n",
            "\u001b[2mnvidia-cusparse-cu12\u001b[0m \u001b[32m------------------------\u001b[2m------\u001b[0m\u001b[0m 144.27 MiB/186.88 MiB\n",
            "\u001b[2mtriton    \u001b[0m \u001b[32m----------------------\u001b[2m--------\u001b[0m\u001b[0m 140.28 MiB/199.65 MiB\n",
            "\u001b[2mnvidia-cublas-cu12\u001b[0m \u001b[32m------------\u001b[2m------------------\u001b[0m\u001b[0m 144.39 MiB/391.57 MiB\n",
            "\u001b[2mnvidia-cudnn-cu12\u001b[0m \u001b[32m-------\u001b[2m-----------------------\u001b[0m\u001b[0m 144.89 MiB/633.96 MiB\n",
            "\u001b[2K\u001b[7A\u001b[37m⠴\u001b[0m \u001b[2mPreparing packages...\u001b[0m (125/132)\n",
            "\u001b[2mpyarrow   \u001b[0m \u001b[32m------------------------------\u001b[2m\u001b[0m\u001b[0m 36.16 MiB/36.64 MiB\n",
            "\u001b[2mnvidia-nccl-cu12\u001b[0m \u001b[32m--------------------------\u001b[2m----\u001b[0m\u001b[0m 145.00 MiB/168.08 MiB\n",
            "\u001b[2mnvidia-cusparse-cu12\u001b[0m \u001b[32m------------------------\u001b[2m------\u001b[0m\u001b[0m 145.00 MiB/186.88 MiB\n",
            "\u001b[2mtriton    \u001b[0m \u001b[32m----------------------\u001b[2m--------\u001b[0m\u001b[0m 140.28 MiB/199.65 MiB\n",
            "\u001b[2mnvidia-cublas-cu12\u001b[0m \u001b[32m------------\u001b[2m------------------\u001b[0m\u001b[0m 144.78 MiB/391.57 MiB\n",
            "\u001b[2mnvidia-cudnn-cu12\u001b[0m \u001b[32m-------\u001b[2m-----------------------\u001b[0m\u001b[0m 145.71 MiB/633.96 MiB\n",
            "\u001b[2K\u001b[7A\u001b[37m⠴\u001b[0m \u001b[2mPreparing packages...\u001b[0m (125/132)\n",
            "\u001b[2mpyarrow   \u001b[0m \u001b[32m------------------------------\u001b[2m\u001b[0m\u001b[0m 36.16 MiB/36.64 MiB\n",
            "\u001b[2mnvidia-nccl-cu12\u001b[0m \u001b[32m--------------------------\u001b[2m----\u001b[0m\u001b[0m 145.53 MiB/168.08 MiB\n",
            "\u001b[2mnvidia-cusparse-cu12\u001b[0m \u001b[32m------------------------\u001b[2m------\u001b[0m\u001b[0m 145.47 MiB/186.88 MiB\n",
            "\u001b[2mtriton    \u001b[0m \u001b[32m----------------------\u001b[2m--------\u001b[0m\u001b[0m 140.28 MiB/199.65 MiB\n",
            "\u001b[2mnvidia-cublas-cu12\u001b[0m \u001b[32m------------\u001b[2m------------------\u001b[0m\u001b[0m 145.50 MiB/391.57 MiB\n",
            "\u001b[2mnvidia-cudnn-cu12\u001b[0m \u001b[32m-------\u001b[2m-----------------------\u001b[0m\u001b[0m 146.19 MiB/633.96 MiB\n",
            "\u001b[2K\u001b[7A\u001b[37m⠦\u001b[0m \u001b[2mPreparing packages...\u001b[0m (125/132)\n",
            "\u001b[2mpyarrow   \u001b[0m \u001b[32m------------------------------\u001b[2m\u001b[0m\u001b[0m 36.17 MiB/36.64 MiB\n",
            "\u001b[2mnvidia-nccl-cu12\u001b[0m \u001b[32m---------------------------\u001b[2m---\u001b[0m\u001b[0m 146.29 MiB/168.08 MiB\n",
            "\u001b[2mnvidia-cusparse-cu12\u001b[0m \u001b[32m------------------------\u001b[2m------\u001b[0m\u001b[0m 146.02 MiB/186.88 MiB\n",
            "\u001b[2mtriton    \u001b[0m \u001b[32m----------------------\u001b[2m--------\u001b[0m\u001b[0m 140.34 MiB/199.65 MiB\n",
            "\u001b[2mnvidia-cublas-cu12\u001b[0m \u001b[32m------------\u001b[2m------------------\u001b[0m\u001b[0m 146.00 MiB/391.57 MiB\n",
            "\u001b[2mnvidia-cudnn-cu12\u001b[0m \u001b[32m-------\u001b[2m-----------------------\u001b[0m\u001b[0m 146.96 MiB/633.96 MiB\n",
            "\u001b[2K\u001b[7A\u001b[37m⠦\u001b[0m \u001b[2mPreparing packages...\u001b[0m (125/132)\n",
            "\u001b[2mpyarrow   \u001b[0m \u001b[32m------------------------------\u001b[2m\u001b[0m\u001b[0m 36.17 MiB/36.64 MiB\n",
            "\u001b[2mnvidia-nccl-cu12\u001b[0m \u001b[32m---------------------------\u001b[2m---\u001b[0m\u001b[0m 146.78 MiB/168.08 MiB\n",
            "\u001b[2mnvidia-cusparse-cu12\u001b[0m \u001b[32m------------------------\u001b[2m------\u001b[0m\u001b[0m 146.78 MiB/186.88 MiB\n",
            "\u001b[2mtriton    \u001b[0m \u001b[32m----------------------\u001b[2m--------\u001b[0m\u001b[0m 140.36 MiB/199.65 MiB\n",
            "\u001b[2mnvidia-cublas-cu12\u001b[0m \u001b[32m------------\u001b[2m------------------\u001b[0m\u001b[0m 146.69 MiB/391.57 MiB\n",
            "\u001b[2mnvidia-cudnn-cu12\u001b[0m \u001b[32m-------\u001b[2m-----------------------\u001b[0m\u001b[0m 147.43 MiB/633.96 MiB\n",
            "\u001b[2K\u001b[7A\u001b[37m⠦\u001b[0m \u001b[2mPreparing packages...\u001b[0m (125/132)\n",
            "\u001b[2mpyarrow   \u001b[0m \u001b[32m------------------------------\u001b[2m\u001b[0m\u001b[0m 36.17 MiB/36.64 MiB\n",
            "\u001b[2mnvidia-nccl-cu12\u001b[0m \u001b[32m---------------------------\u001b[2m---\u001b[0m\u001b[0m 147.22 MiB/168.08 MiB\n",
            "\u001b[2mnvidia-cusparse-cu12\u001b[0m \u001b[32m------------------------\u001b[2m------\u001b[0m\u001b[0m 147.46 MiB/186.88 MiB\n",
            "\u001b[2mtriton    \u001b[0m \u001b[32m----------------------\u001b[2m--------\u001b[0m\u001b[0m 140.36 MiB/199.65 MiB\n",
            "\u001b[2mnvidia-cublas-cu12\u001b[0m \u001b[32m------------\u001b[2m------------------\u001b[0m\u001b[0m 147.30 MiB/391.57 MiB\n",
            "\u001b[2mnvidia-cudnn-cu12\u001b[0m \u001b[32m--------\u001b[2m----------------------\u001b[0m\u001b[0m 148.01 MiB/633.96 MiB\n",
            "\u001b[2K\u001b[7A\u001b[37m⠦\u001b[0m \u001b[2mPreparing packages...\u001b[0m (125/132)\n",
            "\u001b[2mpyarrow   \u001b[0m \u001b[32m------------------------------\u001b[2m\u001b[0m\u001b[0m 36.17 MiB/36.64 MiB\n",
            "\u001b[2mnvidia-nccl-cu12\u001b[0m \u001b[32m---------------------------\u001b[2m---\u001b[0m\u001b[0m 148.02 MiB/168.08 MiB\n",
            "\u001b[2mnvidia-cusparse-cu12\u001b[0m \u001b[32m------------------------\u001b[2m------\u001b[0m\u001b[0m 148.03 MiB/186.88 MiB\n",
            "\u001b[2mtriton    \u001b[0m \u001b[32m----------------------\u001b[2m--------\u001b[0m\u001b[0m 140.36 MiB/199.65 MiB\n",
            "\u001b[2mnvidia-cublas-cu12\u001b[0m \u001b[32m------------\u001b[2m------------------\u001b[0m\u001b[0m 148.00 MiB/391.57 MiB\n",
            "\u001b[2mnvidia-cudnn-cu12\u001b[0m \u001b[32m--------\u001b[2m----------------------\u001b[0m\u001b[0m 148.77 MiB/633.96 MiB\n",
            "\u001b[2K\u001b[7A\u001b[37m⠧\u001b[0m \u001b[2mPreparing packages...\u001b[0m (125/132)\n",
            "\u001b[2mpyarrow   \u001b[0m \u001b[32m------------------------------\u001b[2m\u001b[0m\u001b[0m 36.19 MiB/36.64 MiB\n",
            "\u001b[2mnvidia-nccl-cu12\u001b[0m \u001b[32m---------------------------\u001b[2m---\u001b[0m\u001b[0m 148.90 MiB/168.08 MiB\n",
            "\u001b[2mnvidia-cusparse-cu12\u001b[0m \u001b[32m------------------------\u001b[2m------\u001b[0m\u001b[0m 148.52 MiB/186.88 MiB\n",
            "\u001b[2mtriton    \u001b[0m \u001b[32m----------------------\u001b[2m--------\u001b[0m\u001b[0m 140.36 MiB/199.65 MiB\n",
            "\u001b[2mnvidia-cublas-cu12\u001b[0m \u001b[32m------------\u001b[2m------------------\u001b[0m\u001b[0m 148.67 MiB/391.57 MiB\n",
            "\u001b[2mnvidia-cudnn-cu12\u001b[0m \u001b[32m--------\u001b[2m----------------------\u001b[0m\u001b[0m 149.29 MiB/633.96 MiB\n",
            "\u001b[2K\u001b[7A\u001b[37m⠧\u001b[0m \u001b[2mPreparing packages...\u001b[0m (125/132)\n",
            "\u001b[2mpyarrow   \u001b[0m \u001b[32m------------------------------\u001b[2m\u001b[0m\u001b[0m 36.19 MiB/36.64 MiB\n",
            "\u001b[2mnvidia-nccl-cu12\u001b[0m \u001b[32m---------------------------\u001b[2m---\u001b[0m\u001b[0m 149.39 MiB/168.08 MiB\n",
            "\u001b[2mnvidia-cusparse-cu12\u001b[0m \u001b[32m------------------------\u001b[2m------\u001b[0m\u001b[0m 149.12 MiB/186.88 MiB\n",
            "\u001b[2mtriton    \u001b[0m \u001b[32m----------------------\u001b[2m--------\u001b[0m\u001b[0m 140.38 MiB/199.65 MiB\n",
            "\u001b[2mnvidia-cublas-cu12\u001b[0m \u001b[32m------------\u001b[2m------------------\u001b[0m\u001b[0m 149.23 MiB/391.57 MiB\n",
            "\u001b[2mnvidia-cudnn-cu12\u001b[0m \u001b[32m--------\u001b[2m----------------------\u001b[0m\u001b[0m 150.00 MiB/633.96 MiB\n",
            "\u001b[2K\u001b[7A\u001b[37m⠧\u001b[0m \u001b[2mPreparing packages...\u001b[0m (125/132)\n",
            "\u001b[2mpyarrow   \u001b[0m \u001b[32m------------------------------\u001b[2m\u001b[0m\u001b[0m 36.20 MiB/36.64 MiB\n",
            "\u001b[2mnvidia-nccl-cu12\u001b[0m \u001b[32m---------------------------\u001b[2m---\u001b[0m\u001b[0m 149.91 MiB/168.08 MiB\n",
            "\u001b[2mnvidia-cusparse-cu12\u001b[0m \u001b[32m-------------------------\u001b[2m-----\u001b[0m\u001b[0m 150.04 MiB/186.88 MiB\n",
            "\u001b[2mtriton    \u001b[0m \u001b[32m----------------------\u001b[2m--------\u001b[0m\u001b[0m 140.38 MiB/199.65 MiB\n",
            "\u001b[2mnvidia-cublas-cu12\u001b[0m \u001b[32m------------\u001b[2m------------------\u001b[0m\u001b[0m 149.96 MiB/391.57 MiB\n",
            "\u001b[2mnvidia-cudnn-cu12\u001b[0m \u001b[32m--------\u001b[2m----------------------\u001b[0m\u001b[0m 150.51 MiB/633.96 MiB\n",
            "\u001b[2K\u001b[7A\u001b[37m⠧\u001b[0m \u001b[2mPreparing packages...\u001b[0m (125/132)\n",
            "\u001b[2mpyarrow   \u001b[0m \u001b[32m------------------------------\u001b[2m\u001b[0m\u001b[0m 36.20 MiB/36.64 MiB\n",
            "\u001b[2mnvidia-nccl-cu12\u001b[0m \u001b[32m---------------------------\u001b[2m---\u001b[0m\u001b[0m 150.70 MiB/168.08 MiB\n",
            "\u001b[2mnvidia-cusparse-cu12\u001b[0m \u001b[32m-------------------------\u001b[2m-----\u001b[0m\u001b[0m 150.61 MiB/186.88 MiB\n",
            "\u001b[2mtriton    \u001b[0m \u001b[32m----------------------\u001b[2m--------\u001b[0m\u001b[0m 140.39 MiB/199.65 MiB\n",
            "\u001b[2mnvidia-cublas-cu12\u001b[0m \u001b[32m------------\u001b[2m------------------\u001b[0m\u001b[0m 150.47 MiB/391.57 MiB\n",
            "\u001b[2mnvidia-cudnn-cu12\u001b[0m \u001b[32m--------\u001b[2m----------------------\u001b[0m\u001b[0m 151.31 MiB/633.96 MiB\n",
            "\u001b[2K\u001b[7A\u001b[37m⠇\u001b[0m \u001b[2mPreparing packages...\u001b[0m (125/132)\n",
            "\u001b[2mpyarrow   \u001b[0m \u001b[32m------------------------------\u001b[2m\u001b[0m\u001b[0m 36.22 MiB/36.64 MiB\n",
            "\u001b[2mnvidia-nccl-cu12\u001b[0m \u001b[32m----------------------------\u001b[2m--\u001b[0m\u001b[0m 151.47 MiB/168.08 MiB\n",
            "\u001b[2mnvidia-cusparse-cu12\u001b[0m \u001b[32m-------------------------\u001b[2m-----\u001b[0m\u001b[0m 151.24 MiB/186.88 MiB\n",
            "\u001b[2mtriton    \u001b[0m \u001b[32m----------------------\u001b[2m--------\u001b[0m\u001b[0m 140.41 MiB/199.65 MiB\n",
            "\u001b[2mnvidia-cublas-cu12\u001b[0m \u001b[32m------------\u001b[2m------------------\u001b[0m\u001b[0m 151.00 MiB/391.57 MiB\n",
            "\u001b[2mnvidia-cudnn-cu12\u001b[0m \u001b[32m--------\u001b[2m----------------------\u001b[0m\u001b[0m 151.76 MiB/633.96 MiB\n",
            "\u001b[2K\u001b[7A\u001b[37m⠇\u001b[0m \u001b[2mPreparing packages...\u001b[0m (125/132)\n",
            "\u001b[2mpyarrow   \u001b[0m \u001b[32m------------------------------\u001b[2m\u001b[0m\u001b[0m 36.22 MiB/36.64 MiB\n",
            "\u001b[2mnvidia-nccl-cu12\u001b[0m \u001b[32m----------------------------\u001b[2m--\u001b[0m\u001b[0m 151.95 MiB/168.08 MiB\n",
            "\u001b[2mnvidia-cusparse-cu12\u001b[0m \u001b[32m-------------------------\u001b[2m-----\u001b[0m\u001b[0m 152.00 MiB/186.88 MiB\n",
            "\u001b[2mtriton    \u001b[0m \u001b[32m----------------------\u001b[2m--------\u001b[0m\u001b[0m 140.41 MiB/199.65 MiB\n",
            "\u001b[2mnvidia-cublas-cu12\u001b[0m \u001b[32m------------\u001b[2m------------------\u001b[0m\u001b[0m 151.46 MiB/391.57 MiB\n",
            "\u001b[2mnvidia-cudnn-cu12\u001b[0m \u001b[32m--------\u001b[2m----------------------\u001b[0m\u001b[0m 152.56 MiB/633.96 MiB\n",
            "\u001b[2K\u001b[7A\u001b[37m⠇\u001b[0m \u001b[2mPreparing packages...\u001b[0m (125/132)\n",
            "\u001b[2mpyarrow   \u001b[0m \u001b[32m------------------------------\u001b[2m\u001b[0m\u001b[0m 36.22 MiB/36.64 MiB\n",
            "\u001b[2mnvidia-nccl-cu12\u001b[0m \u001b[32m----------------------------\u001b[2m--\u001b[0m\u001b[0m 152.74 MiB/168.08 MiB\n",
            "\u001b[2mnvidia-cusparse-cu12\u001b[0m \u001b[32m-------------------------\u001b[2m-----\u001b[0m\u001b[0m 152.53 MiB/186.88 MiB\n",
            "\u001b[2mtriton    \u001b[0m \u001b[32m----------------------\u001b[2m--------\u001b[0m\u001b[0m 140.42 MiB/199.65 MiB\n",
            "\u001b[2mnvidia-cublas-cu12\u001b[0m \u001b[32m------------\u001b[2m------------------\u001b[0m\u001b[0m 152.30 MiB/391.57 MiB\n",
            "\u001b[2mnvidia-cudnn-cu12\u001b[0m \u001b[32m--------\u001b[2m----------------------\u001b[0m\u001b[0m 153.04 MiB/633.96 MiB\n",
            "\u001b[2K\u001b[7A\u001b[37m⠇\u001b[0m \u001b[2mPreparing packages...\u001b[0m (125/132)\n",
            "\u001b[2mpyarrow   \u001b[0m \u001b[32m------------------------------\u001b[2m\u001b[0m\u001b[0m 36.23 MiB/36.64 MiB\n",
            "\u001b[2mnvidia-nccl-cu12\u001b[0m \u001b[32m----------------------------\u001b[2m--\u001b[0m\u001b[0m 153.01 MiB/168.08 MiB\n",
            "\u001b[2mnvidia-cusparse-cu12\u001b[0m \u001b[32m-------------------------\u001b[2m-----\u001b[0m\u001b[0m 153.35 MiB/186.88 MiB\n",
            "\u001b[2mtriton    \u001b[0m \u001b[32m----------------------\u001b[2m--------\u001b[0m\u001b[0m 140.42 MiB/199.65 MiB\n",
            "\u001b[2mnvidia-cublas-cu12\u001b[0m \u001b[32m------------\u001b[2m------------------\u001b[0m\u001b[0m 152.79 MiB/391.57 MiB\n",
            "\u001b[2mnvidia-cudnn-cu12\u001b[0m \u001b[32m--------\u001b[2m----------------------\u001b[0m\u001b[0m 153.78 MiB/633.96 MiB\n",
            "\u001b[2K\u001b[7A\u001b[37m⠋\u001b[0m \u001b[2mPreparing packages...\u001b[0m (125/132)\n",
            "\u001b[2mpyarrow   \u001b[0m \u001b[32m------------------------------\u001b[2m\u001b[0m\u001b[0m 36.25 MiB/36.64 MiB\n",
            "\u001b[2mnvidia-nccl-cu12\u001b[0m \u001b[32m----------------------------\u001b[2m--\u001b[0m\u001b[0m 153.81 MiB/168.08 MiB\n",
            "\u001b[2mnvidia-cusparse-cu12\u001b[0m \u001b[32m-------------------------\u001b[2m-----\u001b[0m\u001b[0m 153.86 MiB/186.88 MiB\n",
            "\u001b[2mtriton    \u001b[0m \u001b[32m----------------------\u001b[2m--------\u001b[0m\u001b[0m 140.42 MiB/199.65 MiB\n",
            "\u001b[2mnvidia-cublas-cu12\u001b[0m \u001b[32m------------\u001b[2m------------------\u001b[0m\u001b[0m 153.55 MiB/391.57 MiB\n",
            "\u001b[2mnvidia-cudnn-cu12\u001b[0m \u001b[32m--------\u001b[2m----------------------\u001b[0m\u001b[0m 154.25 MiB/633.96 MiB\n",
            "\u001b[2K\u001b[7A\u001b[37m⠋\u001b[0m \u001b[2mPreparing packages...\u001b[0m (125/132)\n",
            "\u001b[2mpyarrow   \u001b[0m \u001b[32m------------------------------\u001b[2m\u001b[0m\u001b[0m 36.25 MiB/36.64 MiB\n",
            "\u001b[2mnvidia-nccl-cu12\u001b[0m \u001b[32m----------------------------\u001b[2m--\u001b[0m\u001b[0m 154.24 MiB/168.08 MiB\n",
            "\u001b[2mnvidia-cusparse-cu12\u001b[0m \u001b[32m-------------------------\u001b[2m-----\u001b[0m\u001b[0m 154.33 MiB/186.88 MiB\n",
            "\u001b[2mtriton    \u001b[0m \u001b[32m----------------------\u001b[2m--------\u001b[0m\u001b[0m 140.42 MiB/199.65 MiB\n",
            "\u001b[2mnvidia-cublas-cu12\u001b[0m \u001b[32m------------\u001b[2m------------------\u001b[0m\u001b[0m 154.51 MiB/391.57 MiB\n",
            "\u001b[2mnvidia-cudnn-cu12\u001b[0m \u001b[32m--------\u001b[2m----------------------\u001b[0m\u001b[0m 154.93 MiB/633.96 MiB\n",
            "\u001b[2K\u001b[7A\u001b[37m⠋\u001b[0m \u001b[2mPreparing packages...\u001b[0m (125/132)\n",
            "\u001b[2mpyarrow   \u001b[0m \u001b[32m------------------------------\u001b[2m\u001b[0m\u001b[0m 36.25 MiB/36.64 MiB\n",
            "\u001b[2mnvidia-nccl-cu12\u001b[0m \u001b[32m----------------------------\u001b[2m--\u001b[0m\u001b[0m 155.05 MiB/168.08 MiB\n",
            "\u001b[2mnvidia-cusparse-cu12\u001b[0m \u001b[32m-------------------------\u001b[2m-----\u001b[0m\u001b[0m 155.10 MiB/186.88 MiB\n",
            "\u001b[2mtriton    \u001b[0m \u001b[32m----------------------\u001b[2m--------\u001b[0m\u001b[0m 140.44 MiB/199.65 MiB\n",
            "\u001b[2mnvidia-cublas-cu12\u001b[0m \u001b[32m------------\u001b[2m------------------\u001b[0m\u001b[0m 155.10 MiB/391.57 MiB\n",
            "\u001b[2mnvidia-cudnn-cu12\u001b[0m \u001b[32m--------\u001b[2m----------------------\u001b[0m\u001b[0m 155.56 MiB/633.96 MiB\n",
            "\u001b[2K\u001b[7A\u001b[37m⠋\u001b[0m \u001b[2mPreparing packages...\u001b[0m (125/132)\n",
            "\u001b[2mpyarrow   \u001b[0m \u001b[32m------------------------------\u001b[2m\u001b[0m\u001b[0m 36.25 MiB/36.64 MiB\n",
            "\u001b[2mnvidia-nccl-cu12\u001b[0m \u001b[32m----------------------------\u001b[2m--\u001b[0m\u001b[0m 155.80 MiB/168.08 MiB\n",
            "\u001b[2mnvidia-cusparse-cu12\u001b[0m \u001b[32m--------------------------\u001b[2m----\u001b[0m\u001b[0m 155.80 MiB/186.88 MiB\n",
            "\u001b[2mtriton    \u001b[0m \u001b[32m----------------------\u001b[2m--------\u001b[0m\u001b[0m 140.44 MiB/199.65 MiB\n",
            "\u001b[2mnvidia-cublas-cu12\u001b[0m \u001b[32m------------\u001b[2m------------------\u001b[0m\u001b[0m 155.58 MiB/391.57 MiB\n",
            "\u001b[2mnvidia-cudnn-cu12\u001b[0m \u001b[32m--------\u001b[2m----------------------\u001b[0m\u001b[0m 156.20 MiB/633.96 MiB\n",
            "\u001b[2K\u001b[7A\u001b[37m⠙\u001b[0m \u001b[2mPreparing packages...\u001b[0m (125/132)\n",
            "\u001b[2mpyarrow   \u001b[0m \u001b[32m------------------------------\u001b[2m\u001b[0m\u001b[0m 36.25 MiB/36.64 MiB\n",
            "\u001b[2mnvidia-nccl-cu12\u001b[0m \u001b[32m----------------------------\u001b[2m--\u001b[0m\u001b[0m 156.51 MiB/168.08 MiB\n",
            "\u001b[2mnvidia-cusparse-cu12\u001b[0m \u001b[32m--------------------------\u001b[2m----\u001b[0m\u001b[0m 156.00 MiB/186.88 MiB\n",
            "\u001b[2mtriton    \u001b[0m \u001b[32m----------------------\u001b[2m--------\u001b[0m\u001b[0m 140.50 MiB/199.65 MiB\n",
            "\u001b[2mnvidia-cublas-cu12\u001b[0m \u001b[32m------------\u001b[2m------------------\u001b[0m\u001b[0m 156.34 MiB/391.57 MiB\n",
            "\u001b[2mnvidia-cudnn-cu12\u001b[0m \u001b[32m--------\u001b[2m----------------------\u001b[0m\u001b[0m 156.95 MiB/633.96 MiB\n",
            "\u001b[2K\u001b[7A\u001b[37m⠙\u001b[0m \u001b[2mPreparing packages...\u001b[0m (125/132)\n",
            "\u001b[2mpyarrow   \u001b[0m \u001b[32m------------------------------\u001b[2m\u001b[0m\u001b[0m 36.25 MiB/36.64 MiB\n",
            "\u001b[2mnvidia-nccl-cu12\u001b[0m \u001b[32m-----------------------------\u001b[2m-\u001b[0m\u001b[0m 156.99 MiB/168.08 MiB\n",
            "\u001b[2mnvidia-cusparse-cu12\u001b[0m \u001b[32m--------------------------\u001b[2m----\u001b[0m\u001b[0m 156.86 MiB/186.88 MiB\n",
            "\u001b[2mtriton    \u001b[0m \u001b[32m----------------------\u001b[2m--------\u001b[0m\u001b[0m 140.50 MiB/199.65 MiB\n",
            "\u001b[2mnvidia-cublas-cu12\u001b[0m \u001b[32m-------------\u001b[2m-----------------\u001b[0m\u001b[0m 156.86 MiB/391.57 MiB\n",
            "\u001b[2mnvidia-cudnn-cu12\u001b[0m \u001b[32m--------\u001b[2m----------------------\u001b[0m\u001b[0m 157.49 MiB/633.96 MiB\n",
            "\u001b[2K\u001b[7A\u001b[37m⠙\u001b[0m \u001b[2mPreparing packages...\u001b[0m (125/132)\n",
            "\u001b[2mpyarrow   \u001b[0m \u001b[32m------------------------------\u001b[2m\u001b[0m\u001b[0m 36.27 MiB/36.64 MiB\n",
            "\u001b[2mnvidia-nccl-cu12\u001b[0m \u001b[32m-----------------------------\u001b[2m-\u001b[0m\u001b[0m 157.55 MiB/168.08 MiB\n",
            "\u001b[2mnvidia-cusparse-cu12\u001b[0m \u001b[32m--------------------------\u001b[2m----\u001b[0m\u001b[0m 157.38 MiB/186.88 MiB\n",
            "\u001b[2mtriton    \u001b[0m \u001b[32m----------------------\u001b[2m--------\u001b[0m\u001b[0m 140.52 MiB/199.65 MiB\n",
            "\u001b[2mnvidia-cublas-cu12\u001b[0m \u001b[32m-------------\u001b[2m-----------------\u001b[0m\u001b[0m 157.70 MiB/391.57 MiB\n",
            "\u001b[2mnvidia-cudnn-cu12\u001b[0m \u001b[32m--------\u001b[2m----------------------\u001b[0m\u001b[0m 158.31 MiB/633.96 MiB\n",
            "\u001b[2K\u001b[7A\u001b[37m⠙\u001b[0m \u001b[2mPreparing packages...\u001b[0m (125/132)\n",
            "\u001b[2mpyarrow   \u001b[0m \u001b[32m------------------------------\u001b[2m\u001b[0m\u001b[0m 36.27 MiB/36.64 MiB\n",
            "\u001b[2mnvidia-nccl-cu12\u001b[0m \u001b[32m-----------------------------\u001b[2m-\u001b[0m\u001b[0m 158.11 MiB/168.08 MiB\n",
            "\u001b[2mnvidia-cusparse-cu12\u001b[0m \u001b[32m--------------------------\u001b[2m----\u001b[0m\u001b[0m 158.17 MiB/186.88 MiB\n",
            "\u001b[2mtriton    \u001b[0m \u001b[32m----------------------\u001b[2m--------\u001b[0m\u001b[0m 140.52 MiB/199.65 MiB\n",
            "\u001b[2mnvidia-cublas-cu12\u001b[0m \u001b[32m-------------\u001b[2m-----------------\u001b[0m\u001b[0m 158.28 MiB/391.57 MiB\n",
            "\u001b[2mnvidia-cudnn-cu12\u001b[0m \u001b[32m--------\u001b[2m----------------------\u001b[0m\u001b[0m 158.85 MiB/633.96 MiB\n",
            "\u001b[2K\u001b[7A\u001b[37m⠹\u001b[0m \u001b[2mPreparing packages...\u001b[0m (125/132)\n",
            "\u001b[2mpyarrow   \u001b[0m \u001b[32m------------------------------\u001b[2m\u001b[0m\u001b[0m 36.27 MiB/36.64 MiB\n",
            "\u001b[2mnvidia-nccl-cu12\u001b[0m \u001b[32m-----------------------------\u001b[2m-\u001b[0m\u001b[0m 158.97 MiB/168.08 MiB\n",
            "\u001b[2mnvidia-cusparse-cu12\u001b[0m \u001b[32m--------------------------\u001b[2m----\u001b[0m\u001b[0m 158.96 MiB/186.88 MiB\n",
            "\u001b[2mtriton    \u001b[0m \u001b[32m----------------------\u001b[2m--------\u001b[0m\u001b[0m 140.52 MiB/199.65 MiB\n",
            "\u001b[2mnvidia-cublas-cu12\u001b[0m \u001b[32m-------------\u001b[2m-----------------\u001b[0m\u001b[0m 158.83 MiB/391.57 MiB\n",
            "\u001b[2mnvidia-cudnn-cu12\u001b[0m \u001b[32m--------\u001b[2m----------------------\u001b[0m\u001b[0m 159.32 MiB/633.96 MiB\n",
            "\u001b[2K\u001b[7A\u001b[37m⠹\u001b[0m \u001b[2mPreparing packages...\u001b[0m (125/132)\n",
            "\u001b[2mpyarrow   \u001b[0m \u001b[32m------------------------------\u001b[2m\u001b[0m\u001b[0m 36.27 MiB/36.64 MiB\n",
            "\u001b[2mnvidia-nccl-cu12\u001b[0m \u001b[32m-----------------------------\u001b[2m-\u001b[0m\u001b[0m 159.67 MiB/168.08 MiB\n",
            "\u001b[2mnvidia-cusparse-cu12\u001b[0m \u001b[32m--------------------------\u001b[2m----\u001b[0m\u001b[0m 159.49 MiB/186.88 MiB\n",
            "\u001b[2mtriton    \u001b[0m \u001b[32m----------------------\u001b[2m--------\u001b[0m\u001b[0m 140.53 MiB/199.65 MiB\n",
            "\u001b[2mnvidia-cublas-cu12\u001b[0m \u001b[32m-------------\u001b[2m-----------------\u001b[0m\u001b[0m 159.53 MiB/391.57 MiB\n",
            "\u001b[2mnvidia-cudnn-cu12\u001b[0m \u001b[32m--------\u001b[2m----------------------\u001b[0m\u001b[0m 160.10 MiB/633.96 MiB\n",
            "\u001b[2K\u001b[7A\u001b[37m⠹\u001b[0m \u001b[2mPreparing packages...\u001b[0m (125/132)\n",
            "\u001b[2mpyarrow   \u001b[0m \u001b[32m------------------------------\u001b[2m\u001b[0m\u001b[0m 36.29 MiB/36.64 MiB\n",
            "\u001b[2mnvidia-nccl-cu12\u001b[0m \u001b[32m-----------------------------\u001b[2m-\u001b[0m\u001b[0m 160.16 MiB/168.08 MiB\n",
            "\u001b[2mnvidia-cusparse-cu12\u001b[0m \u001b[32m--------------------------\u001b[2m----\u001b[0m\u001b[0m 159.99 MiB/186.88 MiB\n",
            "\u001b[2mtriton    \u001b[0m \u001b[32m----------------------\u001b[2m--------\u001b[0m\u001b[0m 140.53 MiB/199.65 MiB\n",
            "\u001b[2mnvidia-cublas-cu12\u001b[0m \u001b[32m-------------\u001b[2m-----------------\u001b[0m\u001b[0m 160.24 MiB/391.57 MiB\n",
            "\u001b[2mnvidia-cudnn-cu12\u001b[0m \u001b[32m--------\u001b[2m----------------------\u001b[0m\u001b[0m 160.70 MiB/633.96 MiB\n",
            "\u001b[2K\u001b[7A\u001b[37m⠹\u001b[0m \u001b[2mPreparing packages...\u001b[0m (125/132)\n",
            "\u001b[2mpyarrow   \u001b[0m \u001b[32m------------------------------\u001b[2m\u001b[0m\u001b[0m 36.29 MiB/36.64 MiB\n",
            "\u001b[2mnvidia-nccl-cu12\u001b[0m \u001b[32m-----------------------------\u001b[2m-\u001b[0m\u001b[0m 160.95 MiB/168.08 MiB\n",
            "\u001b[2mnvidia-cusparse-cu12\u001b[0m \u001b[32m--------------------------\u001b[2m----\u001b[0m\u001b[0m 160.84 MiB/186.88 MiB\n",
            "\u001b[2mtriton    \u001b[0m \u001b[32m----------------------\u001b[2m--------\u001b[0m\u001b[0m 140.56 MiB/199.65 MiB\n",
            "\u001b[2mnvidia-cublas-cu12\u001b[0m \u001b[32m-------------\u001b[2m-----------------\u001b[0m\u001b[0m 160.81 MiB/391.57 MiB\n",
            "\u001b[2mnvidia-cudnn-cu12\u001b[0m \u001b[32m--------\u001b[2m----------------------\u001b[0m\u001b[0m 161.12 MiB/633.96 MiB\n",
            "\u001b[2K\u001b[7A\u001b[37m⠸\u001b[0m \u001b[2mPreparing packages...\u001b[0m (125/132)\n",
            "\u001b[2mpyarrow   \u001b[0m \u001b[32m------------------------------\u001b[2m\u001b[0m\u001b[0m 36.29 MiB/36.64 MiB\n",
            "\u001b[2mnvidia-nccl-cu12\u001b[0m \u001b[32m-----------------------------\u001b[2m-\u001b[0m\u001b[0m 161.52 MiB/168.08 MiB\n",
            "\u001b[2mnvidia-cusparse-cu12\u001b[0m \u001b[32m--------------------------\u001b[2m----\u001b[0m\u001b[0m 161.20 MiB/186.88 MiB\n",
            "\u001b[2mtriton    \u001b[0m \u001b[32m----------------------\u001b[2m--------\u001b[0m\u001b[0m 140.61 MiB/199.65 MiB\n",
            "\u001b[2mnvidia-cublas-cu12\u001b[0m \u001b[32m-------------\u001b[2m-----------------\u001b[0m\u001b[0m 161.17 MiB/391.57 MiB\n",
            "\u001b[2mnvidia-cudnn-cu12\u001b[0m \u001b[32m--------\u001b[2m----------------------\u001b[0m\u001b[0m 161.97 MiB/633.96 MiB\n",
            "\u001b[2K\u001b[7A\u001b[37m⠸\u001b[0m \u001b[2mPreparing packages...\u001b[0m (125/132)\n",
            "\u001b[2mpyarrow   \u001b[0m \u001b[32m------------------------------\u001b[2m\u001b[0m\u001b[0m 36.30 MiB/36.64 MiB\n",
            "\u001b[2mnvidia-nccl-cu12\u001b[0m \u001b[32m-----------------------------\u001b[2m-\u001b[0m\u001b[0m 162.00 MiB/168.08 MiB\n",
            "\u001b[2mnvidia-cusparse-cu12\u001b[0m \u001b[32m---------------------------\u001b[2m---\u001b[0m\u001b[0m 162.13 MiB/186.88 MiB\n",
            "\u001b[2mtriton    \u001b[0m \u001b[32m----------------------\u001b[2m--------\u001b[0m\u001b[0m 140.61 MiB/199.65 MiB\n",
            "\u001b[2mnvidia-cublas-cu12\u001b[0m \u001b[32m-------------\u001b[2m-----------------\u001b[0m\u001b[0m 162.03 MiB/391.57 MiB\n",
            "\u001b[2mnvidia-cudnn-cu12\u001b[0m \u001b[32m--------\u001b[2m----------------------\u001b[0m\u001b[0m 162.54 MiB/633.96 MiB\n",
            "\u001b[2K\u001b[7A\u001b[37m⠸\u001b[0m \u001b[2mPreparing packages...\u001b[0m (125/132)\n",
            "\u001b[2mpyarrow   \u001b[0m \u001b[32m------------------------------\u001b[2m\u001b[0m\u001b[0m 36.30 MiB/36.64 MiB\n",
            "\u001b[2mnvidia-nccl-cu12\u001b[0m \u001b[32m------------------------------\u001b[2m\u001b[0m\u001b[0m 162.83 MiB/168.08 MiB\n",
            "\u001b[2mnvidia-cusparse-cu12\u001b[0m \u001b[32m---------------------------\u001b[2m---\u001b[0m\u001b[0m 162.70 MiB/186.88 MiB\n",
            "\u001b[2mtriton    \u001b[0m \u001b[32m----------------------\u001b[2m--------\u001b[0m\u001b[0m 140.62 MiB/199.65 MiB\n",
            "\u001b[2mnvidia-cublas-cu12\u001b[0m \u001b[32m-------------\u001b[2m-----------------\u001b[0m\u001b[0m 162.25 MiB/391.57 MiB\n",
            "\u001b[2mnvidia-cudnn-cu12\u001b[0m \u001b[32m--------\u001b[2m----------------------\u001b[0m\u001b[0m 163.39 MiB/633.96 MiB\n",
            "\u001b[2K\u001b[7A\u001b[37m⠸\u001b[0m \u001b[2mPreparing packages...\u001b[0m (125/132)\n",
            "\u001b[2mpyarrow   \u001b[0m \u001b[32m------------------------------\u001b[2m\u001b[0m\u001b[0m 36.30 MiB/36.64 MiB\n",
            "\u001b[2mnvidia-nccl-cu12\u001b[0m \u001b[32m------------------------------\u001b[2m\u001b[0m\u001b[0m 163.43 MiB/168.08 MiB\n",
            "\u001b[2mnvidia-cusparse-cu12\u001b[0m \u001b[32m---------------------------\u001b[2m---\u001b[0m\u001b[0m 163.24 MiB/186.88 MiB\n",
            "\u001b[2mtriton    \u001b[0m \u001b[32m----------------------\u001b[2m--------\u001b[0m\u001b[0m 140.66 MiB/199.65 MiB\n",
            "\u001b[2mnvidia-cublas-cu12\u001b[0m \u001b[32m-------------\u001b[2m-----------------\u001b[0m\u001b[0m 163.00 MiB/391.57 MiB\n",
            "\u001b[2mnvidia-cudnn-cu12\u001b[0m \u001b[32m--------\u001b[2m----------------------\u001b[0m\u001b[0m 163.86 MiB/633.96 MiB\n",
            "\u001b[2K\u001b[7A\u001b[37m⠼\u001b[0m \u001b[2mPreparing packages...\u001b[0m (125/132)\n",
            "\u001b[2mpyarrow   \u001b[0m \u001b[32m------------------------------\u001b[2m\u001b[0m\u001b[0m 36.31 MiB/36.64 MiB\n",
            "\u001b[2mnvidia-nccl-cu12\u001b[0m \u001b[32m------------------------------\u001b[2m\u001b[0m\u001b[0m 163.96 MiB/168.08 MiB\n",
            "\u001b[2mnvidia-cusparse-cu12\u001b[0m \u001b[32m---------------------------\u001b[2m---\u001b[0m\u001b[0m 163.95 MiB/186.88 MiB\n",
            "\u001b[2mtriton    \u001b[0m \u001b[32m----------------------\u001b[2m--------\u001b[0m\u001b[0m 140.66 MiB/199.65 MiB\n",
            "\u001b[2mnvidia-cublas-cu12\u001b[0m \u001b[32m-------------\u001b[2m-----------------\u001b[0m\u001b[0m 163.54 MiB/391.57 MiB\n",
            "\u001b[2mnvidia-cudnn-cu12\u001b[0m \u001b[32m--------\u001b[2m----------------------\u001b[0m\u001b[0m 164.59 MiB/633.96 MiB\n",
            "\u001b[2K\u001b[7A\u001b[37m⠼\u001b[0m \u001b[2mPreparing packages...\u001b[0m (125/132)\n",
            "\u001b[2mpyarrow   \u001b[0m \u001b[32m------------------------------\u001b[2m\u001b[0m\u001b[0m 36.31 MiB/36.64 MiB\n",
            "\u001b[2mnvidia-nccl-cu12\u001b[0m \u001b[32m------------------------------\u001b[2m\u001b[0m\u001b[0m 164.76 MiB/168.08 MiB\n",
            "\u001b[2mnvidia-cusparse-cu12\u001b[0m \u001b[32m---------------------------\u001b[2m---\u001b[0m\u001b[0m 164.20 MiB/186.88 MiB\n",
            "\u001b[2mtriton    \u001b[0m \u001b[32m----------------------\u001b[2m--------\u001b[0m\u001b[0m 140.66 MiB/199.65 MiB\n",
            "\u001b[2mnvidia-cublas-cu12\u001b[0m \u001b[32m-------------\u001b[2m-----------------\u001b[0m\u001b[0m 164.35 MiB/391.57 MiB\n",
            "\u001b[2mnvidia-cudnn-cu12\u001b[0m \u001b[32m--------\u001b[2m----------------------\u001b[0m\u001b[0m 164.87 MiB/633.96 MiB\n",
            "\u001b[2K\u001b[7A\u001b[37m⠼\u001b[0m \u001b[2mPreparing packages...\u001b[0m (125/132)\n",
            "\u001b[2mpyarrow   \u001b[0m \u001b[32m------------------------------\u001b[2m\u001b[0m\u001b[0m 36.33 MiB/36.64 MiB\n",
            "\u001b[2mnvidia-nccl-cu12\u001b[0m \u001b[32m------------------------------\u001b[2m\u001b[0m\u001b[0m 165.05 MiB/168.08 MiB\n",
            "\u001b[2mnvidia-cusparse-cu12\u001b[0m \u001b[32m---------------------------\u001b[2m---\u001b[0m\u001b[0m 165.00 MiB/186.88 MiB\n",
            "\u001b[2mtriton    \u001b[0m \u001b[32m----------------------\u001b[2m--------\u001b[0m\u001b[0m 140.66 MiB/199.65 MiB\n",
            "\u001b[2mnvidia-cublas-cu12\u001b[0m \u001b[32m-------------\u001b[2m-----------------\u001b[0m\u001b[0m 164.89 MiB/391.57 MiB\n",
            "\u001b[2mnvidia-cudnn-cu12\u001b[0m \u001b[32m--------\u001b[2m----------------------\u001b[0m\u001b[0m 165.65 MiB/633.96 MiB\n",
            "\u001b[2K\u001b[7A\u001b[37m⠼\u001b[0m \u001b[2mPreparing packages...\u001b[0m (125/132)\n",
            "\u001b[2mpyarrow   \u001b[0m \u001b[32m------------------------------\u001b[2m\u001b[0m\u001b[0m 36.34 MiB/36.64 MiB\n",
            "\u001b[2mnvidia-nccl-cu12\u001b[0m \u001b[32m------------------------------\u001b[2m\u001b[0m\u001b[0m 165.80 MiB/168.08 MiB\n",
            "\u001b[2mnvidia-cusparse-cu12\u001b[0m \u001b[32m---------------------------\u001b[2m---\u001b[0m\u001b[0m 165.53 MiB/186.88 MiB\n",
            "\u001b[2mtriton    \u001b[0m \u001b[32m----------------------\u001b[2m--------\u001b[0m\u001b[0m 140.69 MiB/199.65 MiB\n",
            "\u001b[2mnvidia-cublas-cu12\u001b[0m \u001b[32m-------------\u001b[2m-----------------\u001b[0m\u001b[0m 165.47 MiB/391.57 MiB\n",
            "\u001b[2mnvidia-cudnn-cu12\u001b[0m \u001b[32m--------\u001b[2m----------------------\u001b[0m\u001b[0m 166.15 MiB/633.96 MiB\n",
            "\u001b[2K\u001b[7A\u001b[37m⠴\u001b[0m \u001b[2mPreparing packages...\u001b[0m (125/132)\n",
            "\u001b[2mpyarrow   \u001b[0m \u001b[32m------------------------------\u001b[2m\u001b[0m\u001b[0m 36.34 MiB/36.64 MiB\n",
            "\u001b[2mnvidia-nccl-cu12\u001b[0m \u001b[32m------------------------------\u001b[2m\u001b[0m\u001b[0m 166.36 MiB/168.08 MiB\n",
            "\u001b[2mnvidia-cusparse-cu12\u001b[0m \u001b[32m---------------------------\u001b[2m---\u001b[0m\u001b[0m 166.04 MiB/186.88 MiB\n",
            "\u001b[2mtriton    \u001b[0m \u001b[32m----------------------\u001b[2m--------\u001b[0m\u001b[0m 140.84 MiB/199.65 MiB\n",
            "\u001b[2mnvidia-cublas-cu12\u001b[0m \u001b[32m-------------\u001b[2m-----------------\u001b[0m\u001b[0m 166.00 MiB/391.57 MiB\n",
            "\u001b[2mnvidia-cudnn-cu12\u001b[0m \u001b[32m--------\u001b[2m----------------------\u001b[0m\u001b[0m 166.89 MiB/633.96 MiB\n",
            "\u001b[2K\u001b[7A\u001b[37m⠴\u001b[0m \u001b[2mPreparing packages...\u001b[0m (125/132)\n",
            "\u001b[2mpyarrow   \u001b[0m \u001b[32m------------------------------\u001b[2m\u001b[0m\u001b[0m 36.36 MiB/36.64 MiB\n",
            "\u001b[2mnvidia-nccl-cu12\u001b[0m \u001b[32m------------------------------\u001b[2m\u001b[0m\u001b[0m 166.92 MiB/168.08 MiB\n",
            "\u001b[2mnvidia-cusparse-cu12\u001b[0m \u001b[32m---------------------------\u001b[2m---\u001b[0m\u001b[0m 166.57 MiB/186.88 MiB\n",
            "\u001b[2mtriton    \u001b[0m \u001b[32m----------------------\u001b[2m--------\u001b[0m\u001b[0m 140.86 MiB/199.65 MiB\n",
            "\u001b[2mnvidia-cublas-cu12\u001b[0m \u001b[32m-------------\u001b[2m-----------------\u001b[0m\u001b[0m 166.56 MiB/391.57 MiB\n",
            "\u001b[2mnvidia-cudnn-cu12\u001b[0m \u001b[32m--------\u001b[2m----------------------\u001b[0m\u001b[0m 167.51 MiB/633.96 MiB\n",
            "\u001b[2K\u001b[7A\u001b[37m⠴\u001b[0m \u001b[2mPreparing packages...\u001b[0m (125/132)\n",
            "\u001b[2mpyarrow   \u001b[0m \u001b[32m------------------------------\u001b[2m\u001b[0m\u001b[0m 36.36 MiB/36.64 MiB\n",
            "\u001b[2mnvidia-nccl-cu12\u001b[0m \u001b[32m------------------------------\u001b[2m\u001b[0m\u001b[0m 167.49 MiB/168.08 MiB\n",
            "\u001b[2mnvidia-cusparse-cu12\u001b[0m \u001b[32m---------------------------\u001b[2m---\u001b[0m\u001b[0m 167.37 MiB/186.88 MiB\n",
            "\u001b[2mtriton    \u001b[0m \u001b[32m----------------------\u001b[2m--------\u001b[0m\u001b[0m 140.86 MiB/199.65 MiB\n",
            "\u001b[2mnvidia-cublas-cu12\u001b[0m \u001b[32m-------------\u001b[2m-----------------\u001b[0m\u001b[0m 167.04 MiB/391.57 MiB\n",
            "\u001b[2mnvidia-cudnn-cu12\u001b[0m \u001b[32m--------\u001b[2m----------------------\u001b[0m\u001b[0m 167.81 MiB/633.96 MiB\n",
            "\u001b[2K\u001b[7A\u001b[37m⠴\u001b[0m \u001b[2mPreparing packages...\u001b[0m (125/132)\n",
            "\u001b[2mpyarrow   \u001b[0m \u001b[32m------------------------------\u001b[2m\u001b[0m\u001b[0m 36.38 MiB/36.64 MiB\n",
            "\u001b[2mnvidia-nccl-cu12\u001b[0m \u001b[32m------------------------------\u001b[2m\u001b[0m\u001b[0m 168.06 MiB/168.08 MiB\n",
            "\u001b[2mnvidia-cusparse-cu12\u001b[0m \u001b[32m---------------------------\u001b[2m---\u001b[0m\u001b[0m 167.61 MiB/186.88 MiB\n",
            "\u001b[2mtriton    \u001b[0m \u001b[32m----------------------\u001b[2m--------\u001b[0m\u001b[0m 141.50 MiB/199.65 MiB\n",
            "\u001b[2mnvidia-cublas-cu12\u001b[0m \u001b[32m-------------\u001b[2m-----------------\u001b[0m\u001b[0m 167.54 MiB/391.57 MiB\n",
            "\u001b[2mnvidia-cudnn-cu12\u001b[0m \u001b[32m--------\u001b[2m----------------------\u001b[0m\u001b[0m 168.34 MiB/633.96 MiB\n",
            "\u001b[2K\u001b[7A\u001b[37m⠦\u001b[0m \u001b[2mPreparing packages...\u001b[0m (125/132)\n",
            "\u001b[2mpyarrow   \u001b[0m \u001b[32m------------------------------\u001b[2m\u001b[0m\u001b[0m 36.38 MiB/36.64 MiB\n",
            "\u001b[2mnvidia-nccl-cu12\u001b[0m \u001b[32m------------------------------\u001b[2m\u001b[0m\u001b[0m 168.08 MiB/168.08 MiB\n",
            "\u001b[2mnvidia-cusparse-cu12\u001b[0m \u001b[32m---------------------------\u001b[2m---\u001b[0m\u001b[0m 167.69 MiB/186.88 MiB\n",
            "\u001b[2mtriton    \u001b[0m \u001b[32m----------------------\u001b[2m--------\u001b[0m\u001b[0m 142.86 MiB/199.65 MiB\n",
            "\u001b[2mnvidia-cublas-cu12\u001b[0m \u001b[32m-------------\u001b[2m-----------------\u001b[0m\u001b[0m 168.28 MiB/391.57 MiB\n",
            "\u001b[2mnvidia-cudnn-cu12\u001b[0m \u001b[32m---------\u001b[2m---------------------\u001b[0m\u001b[0m 169.15 MiB/633.96 MiB\n",
            "\u001b[2K\u001b[7A\u001b[37m⠦\u001b[0m \u001b[2mPreparing packages...\u001b[0m (125/132)\n",
            "\u001b[2mpyarrow   \u001b[0m \u001b[32m------------------------------\u001b[2m\u001b[0m\u001b[0m 36.38 MiB/36.64 MiB\n",
            "\u001b[2mnvidia-nccl-cu12\u001b[0m \u001b[32m------------------------------\u001b[2m\u001b[0m\u001b[0m 168.08 MiB/168.08 MiB\n",
            "\u001b[2mnvidia-cusparse-cu12\u001b[0m \u001b[32m----------------------------\u001b[2m--\u001b[0m\u001b[0m 168.64 MiB/186.88 MiB\n",
            "\u001b[2mtriton    \u001b[0m \u001b[32m----------------------\u001b[2m--------\u001b[0m\u001b[0m 144.25 MiB/199.65 MiB\n",
            "\u001b[2mnvidia-cublas-cu12\u001b[0m \u001b[32m-------------\u001b[2m-----------------\u001b[0m\u001b[0m 168.57 MiB/391.57 MiB\n",
            "\u001b[2mnvidia-cudnn-cu12\u001b[0m \u001b[32m---------\u001b[2m---------------------\u001b[0m\u001b[0m 169.73 MiB/633.96 MiB\n",
            "\u001b[2K\u001b[7A\u001b[37m⠦\u001b[0m \u001b[2mPreparing packages...\u001b[0m (125/132)\n",
            "\u001b[2mpyarrow   \u001b[0m \u001b[32m------------------------------\u001b[2m\u001b[0m\u001b[0m 36.38 MiB/36.64 MiB\n",
            "\u001b[2mnvidia-nccl-cu12\u001b[0m \u001b[32m------------------------------\u001b[2m\u001b[0m\u001b[0m 168.08 MiB/168.08 MiB\n",
            "\u001b[2mnvidia-cusparse-cu12\u001b[0m \u001b[32m----------------------------\u001b[2m--\u001b[0m\u001b[0m 169.34 MiB/186.88 MiB\n",
            "\u001b[2mtriton    \u001b[0m \u001b[32m----------------------\u001b[2m--------\u001b[0m\u001b[0m 144.62 MiB/199.65 MiB\n",
            "\u001b[2mnvidia-cublas-cu12\u001b[0m \u001b[32m-------------\u001b[2m-----------------\u001b[0m\u001b[0m 168.99 MiB/391.57 MiB\n",
            "\u001b[2mnvidia-cudnn-cu12\u001b[0m \u001b[32m---------\u001b[2m---------------------\u001b[0m\u001b[0m 170.92 MiB/633.96 MiB\n",
            "\u001b[2K\u001b[7A\u001b[37m⠦\u001b[0m \u001b[2mPreparing packages...\u001b[0m (125/132)\n",
            "\u001b[2mpyarrow   \u001b[0m \u001b[32m------------------------------\u001b[2m\u001b[0m\u001b[0m 36.38 MiB/36.64 MiB\n",
            "\u001b[2mnvidia-nccl-cu12\u001b[0m \u001b[32m------------------------------\u001b[2m\u001b[0m\u001b[0m 168.08 MiB/168.08 MiB\n",
            "\u001b[2mnvidia-cusparse-cu12\u001b[0m \u001b[32m----------------------------\u001b[2m--\u001b[0m\u001b[0m 169.99 MiB/186.88 MiB\n",
            "\u001b[2mtriton    \u001b[0m \u001b[32m----------------------\u001b[2m--------\u001b[0m\u001b[0m 144.62 MiB/199.65 MiB\n",
            "\u001b[2mnvidia-cublas-cu12\u001b[0m \u001b[32m--------------\u001b[2m----------------\u001b[0m\u001b[0m 169.98 MiB/391.57 MiB\n",
            "\u001b[2mnvidia-cudnn-cu12\u001b[0m \u001b[32m---------\u001b[2m---------------------\u001b[0m\u001b[0m 171.62 MiB/633.96 MiB\n",
            "\u001b[2K\u001b[7A\u001b[37m⠧\u001b[0m \u001b[2mPreparing packages...\u001b[0m (125/132)\n",
            "\u001b[2mpyarrow   \u001b[0m \u001b[32m------------------------------\u001b[2m\u001b[0m\u001b[0m 36.38 MiB/36.64 MiB\n",
            "\u001b[2mnvidia-nccl-cu12\u001b[0m \u001b[32m------------------------------\u001b[2m\u001b[0m\u001b[0m 168.08 MiB/168.08 MiB\n",
            "\u001b[2mnvidia-cusparse-cu12\u001b[0m \u001b[32m----------------------------\u001b[2m--\u001b[0m\u001b[0m 170.33 MiB/186.88 MiB\n",
            "\u001b[2mtriton    \u001b[0m \u001b[32m----------------------\u001b[2m--------\u001b[0m\u001b[0m 145.33 MiB/199.65 MiB\n",
            "\u001b[2mnvidia-cublas-cu12\u001b[0m \u001b[32m--------------\u001b[2m----------------\u001b[0m\u001b[0m 170.32 MiB/391.57 MiB\n",
            "\u001b[2mnvidia-cudnn-cu12\u001b[0m \u001b[32m---------\u001b[2m---------------------\u001b[0m\u001b[0m 172.53 MiB/633.96 MiB\n",
            "\u001b[2K\u001b[7A\u001b[37m⠧\u001b[0m \u001b[2mPreparing packages...\u001b[0m (125/132)\n",
            "\u001b[2mpyarrow   \u001b[0m \u001b[32m------------------------------\u001b[2m\u001b[0m\u001b[0m 36.38 MiB/36.64 MiB\n",
            "\u001b[2mnvidia-cusparse-cu12\u001b[0m \u001b[32m----------------------------\u001b[2m--\u001b[0m\u001b[0m 170.93 MiB/186.88 MiB\n",
            "\u001b[2mtriton    \u001b[0m \u001b[32m----------------------\u001b[2m--------\u001b[0m\u001b[0m 145.94 MiB/199.65 MiB\n",
            "\u001b[2mnvidia-cublas-cu12\u001b[0m \u001b[32m--------------\u001b[2m----------------\u001b[0m\u001b[0m 170.90 MiB/391.57 MiB\n",
            "\u001b[2mnvidia-cudnn-cu12\u001b[0m \u001b[32m---------\u001b[2m---------------------\u001b[0m\u001b[0m 172.53 MiB/633.96 MiB\n",
            "\u001b[2K\u001b[6A\u001b[37m⠧\u001b[0m \u001b[2mPreparing packages...\u001b[0m (125/132)\n",
            "\u001b[2mpyarrow   \u001b[0m \u001b[32m------------------------------\u001b[2m\u001b[0m\u001b[0m 36.38 MiB/36.64 MiB\n",
            "\u001b[2mnvidia-cusparse-cu12\u001b[0m \u001b[32m----------------------------\u001b[2m--\u001b[0m\u001b[0m 171.23 MiB/186.88 MiB\n",
            "\u001b[2mtriton    \u001b[0m \u001b[32m----------------------\u001b[2m--------\u001b[0m\u001b[0m 146.37 MiB/199.65 MiB\n",
            "\u001b[2mnvidia-cublas-cu12\u001b[0m \u001b[32m--------------\u001b[2m----------------\u001b[0m\u001b[0m 171.30 MiB/391.57 MiB\n",
            "\u001b[2mnvidia-cudnn-cu12\u001b[0m \u001b[32m---------\u001b[2m---------------------\u001b[0m\u001b[0m 172.84 MiB/633.96 MiB\n",
            "\u001b[2K\u001b[6A\u001b[37m⠧\u001b[0m \u001b[2mPreparing packages...\u001b[0m (125/132)\n",
            "\u001b[2mpyarrow   \u001b[0m \u001b[32m------------------------------\u001b[2m\u001b[0m\u001b[0m 36.39 MiB/36.64 MiB\n",
            "\u001b[2mnvidia-cusparse-cu12\u001b[0m \u001b[32m----------------------------\u001b[2m--\u001b[0m\u001b[0m 172.27 MiB/186.88 MiB\n",
            "\u001b[2mtriton    \u001b[0m \u001b[32m-----------------------\u001b[2m-------\u001b[0m\u001b[0m 146.88 MiB/199.65 MiB\n",
            "\u001b[2mnvidia-cublas-cu12\u001b[0m \u001b[32m--------------\u001b[2m----------------\u001b[0m\u001b[0m 171.83 MiB/391.57 MiB\n",
            "\u001b[2mnvidia-cudnn-cu12\u001b[0m \u001b[32m---------\u001b[2m---------------------\u001b[0m\u001b[0m 173.42 MiB/633.96 MiB\n",
            "\u001b[2K\u001b[6A\u001b[37m⠧\u001b[0m \u001b[2mPreparing packages...\u001b[0m (125/132)\n",
            "\u001b[2mpyarrow   \u001b[0m \u001b[32m------------------------------\u001b[2m\u001b[0m\u001b[0m 36.39 MiB/36.64 MiB\n",
            "\u001b[2mnvidia-cusparse-cu12\u001b[0m \u001b[32m----------------------------\u001b[2m--\u001b[0m\u001b[0m 172.32 MiB/186.88 MiB\n",
            "\u001b[2mtriton    \u001b[0m \u001b[32m-----------------------\u001b[2m-------\u001b[0m\u001b[0m 147.80 MiB/199.65 MiB\n",
            "\u001b[2mnvidia-cublas-cu12\u001b[0m \u001b[32m--------------\u001b[2m----------------\u001b[0m\u001b[0m 172.85 MiB/391.57 MiB\n",
            "\u001b[2mnvidia-cudnn-cu12\u001b[0m \u001b[32m---------\u001b[2m---------------------\u001b[0m\u001b[0m 174.36 MiB/633.96 MiB\n",
            "\u001b[2K\u001b[6A\u001b[37m⠇\u001b[0m \u001b[2mPreparing packages...\u001b[0m (126/132)\n",
            "\u001b[2mpyarrow   \u001b[0m \u001b[32m------------------------------\u001b[2m\u001b[0m\u001b[0m 36.39 MiB/36.64 MiB\n",
            "\u001b[2mnvidia-cusparse-cu12\u001b[0m \u001b[32m----------------------------\u001b[2m--\u001b[0m\u001b[0m 173.44 MiB/186.88 MiB\n",
            "\u001b[2mtriton    \u001b[0m \u001b[32m-----------------------\u001b[2m-------\u001b[0m\u001b[0m 148.19 MiB/199.65 MiB\n",
            "\u001b[2mnvidia-cublas-cu12\u001b[0m \u001b[32m--------------\u001b[2m----------------\u001b[0m\u001b[0m 173.22 MiB/391.57 MiB\n",
            "\u001b[2mnvidia-cudnn-cu12\u001b[0m \u001b[32m---------\u001b[2m---------------------\u001b[0m\u001b[0m 174.67 MiB/633.96 MiB\n",
            "\u001b[2K\u001b[6A\u001b[37m⠇\u001b[0m \u001b[2mPreparing packages...\u001b[0m (126/132)\n",
            "\u001b[2mpyarrow   \u001b[0m \u001b[32m------------------------------\u001b[2m\u001b[0m\u001b[0m 36.41 MiB/36.64 MiB\n",
            "\u001b[2mnvidia-cusparse-cu12\u001b[0m \u001b[32m----------------------------\u001b[2m--\u001b[0m\u001b[0m 173.83 MiB/186.88 MiB\n",
            "\u001b[2mtriton    \u001b[0m \u001b[32m-----------------------\u001b[2m-------\u001b[0m\u001b[0m 148.80 MiB/199.65 MiB\n",
            "\u001b[2mnvidia-cublas-cu12\u001b[0m \u001b[32m--------------\u001b[2m----------------\u001b[0m\u001b[0m 174.00 MiB/391.57 MiB\n",
            "\u001b[2mnvidia-cudnn-cu12\u001b[0m \u001b[32m---------\u001b[2m---------------------\u001b[0m\u001b[0m 175.34 MiB/633.96 MiB\n",
            "\u001b[2K\u001b[6A\u001b[37m⠇\u001b[0m \u001b[2mPreparing packages...\u001b[0m (126/132)\n",
            "\u001b[2mpyarrow   \u001b[0m \u001b[32m------------------------------\u001b[2m\u001b[0m\u001b[0m 36.41 MiB/36.64 MiB\n",
            "\u001b[2mnvidia-cusparse-cu12\u001b[0m \u001b[32m-----------------------------\u001b[2m-\u001b[0m\u001b[0m 174.82 MiB/186.88 MiB\n",
            "\u001b[2mtriton    \u001b[0m \u001b[32m-----------------------\u001b[2m-------\u001b[0m\u001b[0m 149.70 MiB/199.65 MiB\n",
            "\u001b[2mnvidia-cublas-cu12\u001b[0m \u001b[32m--------------\u001b[2m----------------\u001b[0m\u001b[0m 174.00 MiB/391.57 MiB\n",
            "\u001b[2mnvidia-cudnn-cu12\u001b[0m \u001b[32m---------\u001b[2m---------------------\u001b[0m\u001b[0m 175.76 MiB/633.96 MiB\n",
            "\u001b[2K\u001b[6A\u001b[37m⠇\u001b[0m \u001b[2mPreparing packages...\u001b[0m (126/132)\n",
            "\u001b[2mpyarrow   \u001b[0m \u001b[32m------------------------------\u001b[2m\u001b[0m\u001b[0m 36.41 MiB/36.64 MiB\n",
            "\u001b[2mnvidia-cusparse-cu12\u001b[0m \u001b[32m-----------------------------\u001b[2m-\u001b[0m\u001b[0m 175.26 MiB/186.88 MiB\n",
            "\u001b[2mtriton    \u001b[0m \u001b[32m-----------------------\u001b[2m-------\u001b[0m\u001b[0m 149.95 MiB/199.65 MiB\n",
            "\u001b[2mnvidia-cublas-cu12\u001b[0m \u001b[32m--------------\u001b[2m----------------\u001b[0m\u001b[0m 174.98 MiB/391.57 MiB\n",
            "\u001b[2mnvidia-cudnn-cu12\u001b[0m \u001b[32m---------\u001b[2m---------------------\u001b[0m\u001b[0m 176.61 MiB/633.96 MiB\n",
            "\u001b[2K\u001b[6A\u001b[37m⠋\u001b[0m \u001b[2mPreparing packages...\u001b[0m (126/132)\n",
            "\u001b[2mpyarrow   \u001b[0m \u001b[32m------------------------------\u001b[2m\u001b[0m\u001b[0m 36.41 MiB/36.64 MiB\n",
            "\u001b[2mnvidia-cusparse-cu12\u001b[0m \u001b[32m-----------------------------\u001b[2m-\u001b[0m\u001b[0m 175.87 MiB/186.88 MiB\n",
            "\u001b[2mtriton    \u001b[0m \u001b[32m-----------------------\u001b[2m-------\u001b[0m\u001b[0m 150.83 MiB/199.65 MiB\n",
            "\u001b[2mnvidia-cublas-cu12\u001b[0m \u001b[32m--------------\u001b[2m----------------\u001b[0m\u001b[0m 175.92 MiB/391.57 MiB\n",
            "\u001b[2mnvidia-cudnn-cu12\u001b[0m \u001b[32m---------\u001b[2m---------------------\u001b[0m\u001b[0m 177.19 MiB/633.96 MiB\n",
            "\u001b[2K\u001b[6A\u001b[37m⠋\u001b[0m \u001b[2mPreparing packages...\u001b[0m (126/132)\n",
            "\u001b[2mpyarrow   \u001b[0m \u001b[32m------------------------------\u001b[2m\u001b[0m\u001b[0m 36.41 MiB/36.64 MiB\n",
            "\u001b[2mnvidia-cusparse-cu12\u001b[0m \u001b[32m-----------------------------\u001b[2m-\u001b[0m\u001b[0m 176.76 MiB/186.88 MiB\n",
            "\u001b[2mtriton    \u001b[0m \u001b[32m-----------------------\u001b[2m-------\u001b[0m\u001b[0m 151.45 MiB/199.65 MiB\n",
            "\u001b[2mnvidia-cublas-cu12\u001b[0m \u001b[32m--------------\u001b[2m----------------\u001b[0m\u001b[0m 176.15 MiB/391.57 MiB\n",
            "\u001b[2mnvidia-cudnn-cu12\u001b[0m \u001b[32m---------\u001b[2m---------------------\u001b[0m\u001b[0m 178.12 MiB/633.96 MiB\n",
            "\u001b[2K\u001b[6A\u001b[37m⠋\u001b[0m \u001b[2mPreparing packages...\u001b[0m (126/132)\n",
            "\u001b[2mpyarrow   \u001b[0m \u001b[32m------------------------------\u001b[2m\u001b[0m\u001b[0m 36.41 MiB/36.64 MiB\n",
            "\u001b[2mnvidia-cusparse-cu12\u001b[0m \u001b[32m-----------------------------\u001b[2m-\u001b[0m\u001b[0m 176.98 MiB/186.88 MiB\n",
            "\u001b[2mtriton    \u001b[0m \u001b[32m-----------------------\u001b[2m-------\u001b[0m\u001b[0m 152.44 MiB/199.65 MiB\n",
            "\u001b[2mnvidia-cublas-cu12\u001b[0m \u001b[32m--------------\u001b[2m----------------\u001b[0m\u001b[0m 176.93 MiB/391.57 MiB\n",
            "\u001b[2mnvidia-cudnn-cu12\u001b[0m \u001b[32m---------\u001b[2m---------------------\u001b[0m\u001b[0m 178.86 MiB/633.96 MiB\n",
            "\u001b[2K\u001b[6A\u001b[37m⠋\u001b[0m \u001b[2mPreparing packages...\u001b[0m (126/132)\n",
            "\u001b[2mpyarrow   \u001b[0m \u001b[32m------------------------------\u001b[2m\u001b[0m\u001b[0m 36.42 MiB/36.64 MiB\n",
            "\u001b[2mnvidia-cusparse-cu12\u001b[0m \u001b[32m-----------------------------\u001b[2m-\u001b[0m\u001b[0m 177.97 MiB/186.88 MiB\n",
            "\u001b[2mtriton    \u001b[0m \u001b[32m-----------------------\u001b[2m-------\u001b[0m\u001b[0m 152.94 MiB/199.65 MiB\n",
            "\u001b[2mnvidia-cublas-cu12\u001b[0m \u001b[32m--------------\u001b[2m----------------\u001b[0m\u001b[0m 178.04 MiB/391.57 MiB\n",
            "\u001b[2mnvidia-cudnn-cu12\u001b[0m \u001b[32m---------\u001b[2m---------------------\u001b[0m\u001b[0m 179.49 MiB/633.96 MiB\n",
            "\u001b[2K\u001b[6A\u001b[37m⠙\u001b[0m \u001b[2mPreparing packages...\u001b[0m (126/132)\n",
            "\u001b[2mpyarrow   \u001b[0m \u001b[32m------------------------------\u001b[2m\u001b[0m\u001b[0m 36.42 MiB/36.64 MiB\n",
            "\u001b[2mnvidia-cusparse-cu12\u001b[0m \u001b[32m-----------------------------\u001b[2m-\u001b[0m\u001b[0m 178.94 MiB/186.88 MiB\n",
            "\u001b[2mtriton    \u001b[0m \u001b[32m------------------------\u001b[2m------\u001b[0m\u001b[0m 153.84 MiB/199.65 MiB\n",
            "\u001b[2mnvidia-cublas-cu12\u001b[0m \u001b[32m--------------\u001b[2m----------------\u001b[0m\u001b[0m 178.88 MiB/391.57 MiB\n",
            "\u001b[2mnvidia-cudnn-cu12\u001b[0m \u001b[32m---------\u001b[2m---------------------\u001b[0m\u001b[0m 180.11 MiB/633.96 MiB\n",
            "\u001b[2K\u001b[6A\u001b[37m⠙\u001b[0m \u001b[2mPreparing packages...\u001b[0m (126/132)\n",
            "\u001b[2mpyarrow   \u001b[0m \u001b[32m------------------------------\u001b[2m\u001b[0m\u001b[0m 36.44 MiB/36.64 MiB\n",
            "\u001b[2mnvidia-cusparse-cu12\u001b[0m \u001b[32m-----------------------------\u001b[2m-\u001b[0m\u001b[0m 179.58 MiB/186.88 MiB\n",
            "\u001b[2mtriton    \u001b[0m \u001b[32m------------------------\u001b[2m------\u001b[0m\u001b[0m 154.58 MiB/199.65 MiB\n",
            "\u001b[2mnvidia-cublas-cu12\u001b[0m \u001b[32m--------------\u001b[2m----------------\u001b[0m\u001b[0m 179.47 MiB/391.57 MiB\n",
            "\u001b[2mnvidia-cudnn-cu12\u001b[0m \u001b[32m---------\u001b[2m---------------------\u001b[0m\u001b[0m 180.97 MiB/633.96 MiB\n",
            "\u001b[2K\u001b[6A\u001b[37m⠙\u001b[0m \u001b[2mPreparing packages...\u001b[0m (126/132)\n",
            "\u001b[2mpyarrow   \u001b[0m \u001b[32m------------------------------\u001b[2m\u001b[0m\u001b[0m 36.44 MiB/36.64 MiB\n",
            "\u001b[2mnvidia-cusparse-cu12\u001b[0m \u001b[32m-----------------------------\u001b[2m-\u001b[0m\u001b[0m 180.54 MiB/186.88 MiB\n",
            "\u001b[2mtriton    \u001b[0m \u001b[32m------------------------\u001b[2m------\u001b[0m\u001b[0m 155.58 MiB/199.65 MiB\n",
            "\u001b[2mnvidia-cublas-cu12\u001b[0m \u001b[32m--------------\u001b[2m----------------\u001b[0m\u001b[0m 179.86 MiB/391.57 MiB\n",
            "\u001b[2mnvidia-cudnn-cu12\u001b[0m \u001b[32m---------\u001b[2m---------------------\u001b[0m\u001b[0m 181.39 MiB/633.96 MiB\n",
            "\u001b[2K\u001b[6A\u001b[37m⠙\u001b[0m \u001b[2mPreparing packages...\u001b[0m (126/132)\n",
            "\u001b[2mpyarrow   \u001b[0m \u001b[32m------------------------------\u001b[2m\u001b[0m\u001b[0m 36.44 MiB/36.64 MiB\n",
            "\u001b[2mnvidia-cusparse-cu12\u001b[0m \u001b[32m------------------------------\u001b[2m\u001b[0m\u001b[0m 180.93 MiB/186.88 MiB\n",
            "\u001b[2mtriton    \u001b[0m \u001b[32m------------------------\u001b[2m------\u001b[0m\u001b[0m 155.92 MiB/199.65 MiB\n",
            "\u001b[2mnvidia-cublas-cu12\u001b[0m \u001b[32m--------------\u001b[2m----------------\u001b[0m\u001b[0m 180.70 MiB/391.57 MiB\n",
            "\u001b[2mnvidia-cudnn-cu12\u001b[0m \u001b[32m---------\u001b[2m---------------------\u001b[0m\u001b[0m 182.81 MiB/633.96 MiB\n",
            "\u001b[2K\u001b[6A\u001b[37m⠹\u001b[0m \u001b[2mPreparing packages...\u001b[0m (126/132)\n",
            "\u001b[2mpyarrow   \u001b[0m \u001b[32m------------------------------\u001b[2m\u001b[0m\u001b[0m 36.44 MiB/36.64 MiB\n",
            "\u001b[2mnvidia-cusparse-cu12\u001b[0m \u001b[32m------------------------------\u001b[2m\u001b[0m\u001b[0m 181.95 MiB/186.88 MiB\n",
            "\u001b[2mtriton    \u001b[0m \u001b[32m------------------------\u001b[2m------\u001b[0m\u001b[0m 156.89 MiB/199.65 MiB\n",
            "\u001b[2mnvidia-cublas-cu12\u001b[0m \u001b[32m--------------\u001b[2m----------------\u001b[0m\u001b[0m 181.05 MiB/391.57 MiB\n",
            "\u001b[2mnvidia-cudnn-cu12\u001b[0m \u001b[32m---------\u001b[2m---------------------\u001b[0m\u001b[0m 183.28 MiB/633.96 MiB\n",
            "\u001b[2K\u001b[6A\u001b[37m⠹\u001b[0m \u001b[2mPreparing packages...\u001b[0m (126/132)\n",
            "\u001b[2mpyarrow   \u001b[0m \u001b[32m------------------------------\u001b[2m\u001b[0m\u001b[0m 36.44 MiB/36.64 MiB\n",
            "\u001b[2mnvidia-cusparse-cu12\u001b[0m \u001b[32m------------------------------\u001b[2m\u001b[0m\u001b[0m 182.56 MiB/186.88 MiB\n",
            "\u001b[2mtriton    \u001b[0m \u001b[32m------------------------\u001b[2m------\u001b[0m\u001b[0m 157.80 MiB/199.65 MiB\n",
            "\u001b[2mnvidia-cublas-cu12\u001b[0m \u001b[32m--------------\u001b[2m----------------\u001b[0m\u001b[0m 181.94 MiB/391.57 MiB\n",
            "\u001b[2mnvidia-cudnn-cu12\u001b[0m \u001b[32m---------\u001b[2m---------------------\u001b[0m\u001b[0m 183.98 MiB/633.96 MiB\n",
            "\u001b[2K\u001b[6A\u001b[37m⠹\u001b[0m \u001b[2mPreparing packages...\u001b[0m (126/132)\n",
            "\u001b[2mpyarrow   \u001b[0m \u001b[32m------------------------------\u001b[2m\u001b[0m\u001b[0m 36.46 MiB/36.64 MiB\n",
            "\u001b[2mnvidia-cusparse-cu12\u001b[0m \u001b[32m------------------------------\u001b[2m\u001b[0m\u001b[0m 183.57 MiB/186.88 MiB\n",
            "\u001b[2mtriton    \u001b[0m \u001b[32m------------------------\u001b[2m------\u001b[0m\u001b[0m 158.44 MiB/199.65 MiB\n",
            "\u001b[2mnvidia-cublas-cu12\u001b[0m \u001b[32m--------------\u001b[2m----------------\u001b[0m\u001b[0m 182.61 MiB/391.57 MiB\n",
            "\u001b[2mnvidia-cudnn-cu12\u001b[0m \u001b[32m---------\u001b[2m---------------------\u001b[0m\u001b[0m 184.81 MiB/633.96 MiB\n",
            "\u001b[2K\u001b[6A\u001b[37m⠹\u001b[0m \u001b[2mPreparing packages...\u001b[0m (126/132)\n",
            "\u001b[2mpyarrow   \u001b[0m \u001b[32m------------------------------\u001b[2m\u001b[0m\u001b[0m 36.46 MiB/36.64 MiB\n",
            "\u001b[2mnvidia-cusparse-cu12\u001b[0m \u001b[32m------------------------------\u001b[2m\u001b[0m\u001b[0m 183.87 MiB/186.88 MiB\n",
            "\u001b[2mtriton    \u001b[0m \u001b[32m------------------------\u001b[2m------\u001b[0m\u001b[0m 158.83 MiB/199.65 MiB\n",
            "\u001b[2mnvidia-cublas-cu12\u001b[0m \u001b[32m---------------\u001b[2m---------------\u001b[0m\u001b[0m 183.92 MiB/391.57 MiB\n",
            "\u001b[2mnvidia-cudnn-cu12\u001b[0m \u001b[32m---------\u001b[2m---------------------\u001b[0m\u001b[0m 185.12 MiB/633.96 MiB\n",
            "\u001b[2K\u001b[6A\u001b[37m⠸\u001b[0m \u001b[2mPreparing packages...\u001b[0m (126/132)\n",
            "\u001b[2mpyarrow   \u001b[0m \u001b[32m------------------------------\u001b[2m\u001b[0m\u001b[0m 36.46 MiB/36.64 MiB\n",
            "\u001b[2mnvidia-cusparse-cu12\u001b[0m \u001b[32m------------------------------\u001b[2m\u001b[0m\u001b[0m 184.83 MiB/186.88 MiB\n",
            "\u001b[2mtriton    \u001b[0m \u001b[32m-------------------------\u001b[2m-----\u001b[0m\u001b[0m 159.78 MiB/199.65 MiB\n",
            "\u001b[2mnvidia-cublas-cu12\u001b[0m \u001b[32m---------------\u001b[2m---------------\u001b[0m\u001b[0m 184.27 MiB/391.57 MiB\n",
            "\u001b[2mnvidia-cudnn-cu12\u001b[0m \u001b[32m---------\u001b[2m---------------------\u001b[0m\u001b[0m 186.08 MiB/633.96 MiB\n",
            "\u001b[2K\u001b[6A\u001b[37m⠸\u001b[0m \u001b[2mPreparing packages...\u001b[0m (126/132)\n",
            "\u001b[2mpyarrow   \u001b[0m \u001b[32m------------------------------\u001b[2m\u001b[0m\u001b[0m 36.46 MiB/36.64 MiB\n",
            "\u001b[2mnvidia-cusparse-cu12\u001b[0m \u001b[32m------------------------------\u001b[2m\u001b[0m\u001b[0m 185.02 MiB/186.88 MiB\n",
            "\u001b[2mtriton    \u001b[0m \u001b[32m-------------------------\u001b[2m-----\u001b[0m\u001b[0m 160.03 MiB/199.65 MiB\n",
            "\u001b[2mnvidia-cublas-cu12\u001b[0m \u001b[32m---------------\u001b[2m---------------\u001b[0m\u001b[0m 184.99 MiB/391.57 MiB\n",
            "\u001b[2mnvidia-cudnn-cu12\u001b[0m \u001b[32m---------\u001b[2m---------------------\u001b[0m\u001b[0m 187.47 MiB/633.96 MiB\n",
            "\u001b[2K\u001b[6A\u001b[37m⠸\u001b[0m \u001b[2mPreparing packages...\u001b[0m (126/132)\n",
            "\u001b[2mpyarrow   \u001b[0m \u001b[32m------------------------------\u001b[2m\u001b[0m\u001b[0m 36.46 MiB/36.64 MiB\n",
            "\u001b[2mnvidia-cusparse-cu12\u001b[0m \u001b[32m------------------------------\u001b[2m\u001b[0m\u001b[0m 185.97 MiB/186.88 MiB\n",
            "\u001b[2mtriton    \u001b[0m \u001b[32m-------------------------\u001b[2m-----\u001b[0m\u001b[0m 161.14 MiB/199.65 MiB\n",
            "\u001b[2mnvidia-cublas-cu12\u001b[0m \u001b[32m---------------\u001b[2m---------------\u001b[0m\u001b[0m 185.99 MiB/391.57 MiB\n",
            "\u001b[2mnvidia-cudnn-cu12\u001b[0m \u001b[32m---------\u001b[2m---------------------\u001b[0m\u001b[0m 188.06 MiB/633.96 MiB\n",
            "\u001b[2K\u001b[6A\u001b[37m⠸\u001b[0m \u001b[2mPreparing packages...\u001b[0m (126/132)\n",
            "\u001b[2mpyarrow   \u001b[0m \u001b[32m------------------------------\u001b[2m\u001b[0m\u001b[0m 36.48 MiB/36.64 MiB\n",
            "\u001b[2mnvidia-cusparse-cu12\u001b[0m \u001b[32m------------------------------\u001b[2m\u001b[0m\u001b[0m 186.86 MiB/186.88 MiB\n",
            "\u001b[2mtriton    \u001b[0m \u001b[32m-------------------------\u001b[2m-----\u001b[0m\u001b[0m 161.56 MiB/199.65 MiB\n",
            "\u001b[2mnvidia-cublas-cu12\u001b[0m \u001b[32m---------------\u001b[2m---------------\u001b[0m\u001b[0m 186.99 MiB/391.57 MiB\n",
            "\u001b[2mnvidia-cudnn-cu12\u001b[0m \u001b[32m---------\u001b[2m---------------------\u001b[0m\u001b[0m 188.39 MiB/633.96 MiB\n",
            "\u001b[2K\u001b[6A\u001b[37m⠼\u001b[0m \u001b[2mPreparing packages...\u001b[0m (126/132)\n",
            "\u001b[2mpyarrow   \u001b[0m \u001b[32m------------------------------\u001b[2m\u001b[0m\u001b[0m 36.48 MiB/36.64 MiB\n",
            "\u001b[2mnvidia-cusparse-cu12\u001b[0m \u001b[32m------------------------------\u001b[2m\u001b[0m\u001b[0m 186.88 MiB/186.88 MiB\n",
            "\u001b[2mtriton    \u001b[0m \u001b[32m-------------------------\u001b[2m-----\u001b[0m\u001b[0m 162.64 MiB/199.65 MiB\n",
            "\u001b[2mnvidia-cublas-cu12\u001b[0m \u001b[32m---------------\u001b[2m---------------\u001b[0m\u001b[0m 187.46 MiB/391.57 MiB\n",
            "\u001b[2mnvidia-cudnn-cu12\u001b[0m \u001b[32m---------\u001b[2m---------------------\u001b[0m\u001b[0m 189.87 MiB/633.96 MiB\n",
            "\u001b[2K\u001b[6A\u001b[37m⠼\u001b[0m \u001b[2mPreparing packages...\u001b[0m (126/132)\n",
            "\u001b[2mpyarrow   \u001b[0m \u001b[32m------------------------------\u001b[2m\u001b[0m\u001b[0m 36.48 MiB/36.64 MiB\n",
            "\u001b[2mnvidia-cusparse-cu12\u001b[0m \u001b[32m------------------------------\u001b[2m\u001b[0m\u001b[0m 186.88 MiB/186.88 MiB\n",
            "\u001b[2mtriton    \u001b[0m \u001b[32m-------------------------\u001b[2m-----\u001b[0m\u001b[0m 163.62 MiB/199.65 MiB\n",
            "\u001b[2mnvidia-cublas-cu12\u001b[0m \u001b[32m---------------\u001b[2m---------------\u001b[0m\u001b[0m 188.10 MiB/391.57 MiB\n",
            "\u001b[2mnvidia-cudnn-cu12\u001b[0m \u001b[32m----------\u001b[2m--------------------\u001b[0m\u001b[0m 190.85 MiB/633.96 MiB\n",
            "\u001b[2K\u001b[6A\u001b[37m⠼\u001b[0m \u001b[2mPreparing packages...\u001b[0m (126/132)\n",
            "\u001b[2mpyarrow   \u001b[0m \u001b[32m------------------------------\u001b[2m\u001b[0m\u001b[0m 36.48 MiB/36.64 MiB\n",
            "\u001b[2mnvidia-cusparse-cu12\u001b[0m \u001b[32m------------------------------\u001b[2m\u001b[0m\u001b[0m 186.88 MiB/186.88 MiB\n",
            "\u001b[2mtriton    \u001b[0m \u001b[32m-------------------------\u001b[2m-----\u001b[0m\u001b[0m 164.58 MiB/199.65 MiB\n",
            "\u001b[2mnvidia-cublas-cu12\u001b[0m \u001b[32m---------------\u001b[2m---------------\u001b[0m\u001b[0m 189.00 MiB/391.57 MiB\n",
            "\u001b[2mnvidia-cudnn-cu12\u001b[0m \u001b[32m----------\u001b[2m--------------------\u001b[0m\u001b[0m 192.25 MiB/633.96 MiB\n",
            "\u001b[2K\u001b[6A\u001b[37m⠼\u001b[0m \u001b[2mPreparing packages...\u001b[0m (126/132)\n",
            "\u001b[2mpyarrow   \u001b[0m \u001b[32m------------------------------\u001b[2m\u001b[0m\u001b[0m 36.49 MiB/36.64 MiB\n",
            "\u001b[2mtriton    \u001b[0m \u001b[32m-------------------------\u001b[2m-----\u001b[0m\u001b[0m 165.94 MiB/199.65 MiB\n",
            "\u001b[2mnvidia-cublas-cu12\u001b[0m \u001b[32m---------------\u001b[2m---------------\u001b[0m\u001b[0m 189.45 MiB/391.57 MiB\n",
            "\u001b[2mnvidia-cudnn-cu12\u001b[0m \u001b[32m----------\u001b[2m--------------------\u001b[0m\u001b[0m 193.31 MiB/633.96 MiB\n",
            "\u001b[2K\u001b[5A\u001b[37m⠼\u001b[0m \u001b[2mPreparing packages...\u001b[0m (126/132)\n",
            "\u001b[2mpyarrow   \u001b[0m \u001b[32m------------------------------\u001b[2m\u001b[0m\u001b[0m 36.49 MiB/36.64 MiB\n",
            "\u001b[2mtriton    \u001b[0m \u001b[32m-------------------------\u001b[2m-----\u001b[0m\u001b[0m 165.94 MiB/199.65 MiB\n",
            "\u001b[2mnvidia-cublas-cu12\u001b[0m \u001b[32m---------------\u001b[2m---------------\u001b[0m\u001b[0m 189.96 MiB/391.57 MiB\n",
            "\u001b[2mnvidia-cudnn-cu12\u001b[0m \u001b[32m----------\u001b[2m--------------------\u001b[0m\u001b[0m 193.31 MiB/633.96 MiB\n",
            "\u001b[2K\u001b[5A\u001b[37m⠴\u001b[0m \u001b[2mPreparing packages...\u001b[0m (127/132)\n",
            "\u001b[2mpyarrow   \u001b[0m \u001b[32m------------------------------\u001b[2m\u001b[0m\u001b[0m 36.49 MiB/36.64 MiB\n",
            "\u001b[2mtriton    \u001b[0m \u001b[32m--------------------------\u001b[2m----\u001b[0m\u001b[0m 167.00 MiB/199.65 MiB\n",
            "\u001b[2mnvidia-cublas-cu12\u001b[0m \u001b[32m---------------\u001b[2m---------------\u001b[0m\u001b[0m 190.96 MiB/391.57 MiB\n",
            "\u001b[2mnvidia-cudnn-cu12\u001b[0m \u001b[32m----------\u001b[2m--------------------\u001b[0m\u001b[0m 193.76 MiB/633.96 MiB\n",
            "\u001b[2K\u001b[5A\u001b[37m⠴\u001b[0m \u001b[2mPreparing packages...\u001b[0m (127/132)\n",
            "\u001b[2mpyarrow   \u001b[0m \u001b[32m------------------------------\u001b[2m\u001b[0m\u001b[0m 36.49 MiB/36.64 MiB\n",
            "\u001b[2mtriton    \u001b[0m \u001b[32m--------------------------\u001b[2m----\u001b[0m\u001b[0m 167.43 MiB/199.65 MiB\n",
            "\u001b[2mnvidia-cublas-cu12\u001b[0m \u001b[32m---------------\u001b[2m---------------\u001b[0m\u001b[0m 191.63 MiB/391.57 MiB\n",
            "\u001b[2mnvidia-cudnn-cu12\u001b[0m \u001b[32m----------\u001b[2m--------------------\u001b[0m\u001b[0m 195.33 MiB/633.96 MiB\n",
            "\u001b[2K\u001b[5A\u001b[37m⠴\u001b[0m \u001b[2mPreparing packages...\u001b[0m (127/132)\n",
            "\u001b[2mpyarrow   \u001b[0m \u001b[32m------------------------------\u001b[2m\u001b[0m\u001b[0m 36.49 MiB/36.64 MiB\n",
            "\u001b[2mtriton    \u001b[0m \u001b[32m--------------------------\u001b[2m----\u001b[0m\u001b[0m 167.90 MiB/199.65 MiB\n",
            "\u001b[2mnvidia-cublas-cu12\u001b[0m \u001b[32m---------------\u001b[2m---------------\u001b[0m\u001b[0m 192.17 MiB/391.57 MiB\n",
            "\u001b[2mnvidia-cudnn-cu12\u001b[0m \u001b[32m----------\u001b[2m--------------------\u001b[0m\u001b[0m 196.98 MiB/633.96 MiB\n",
            "\u001b[2K\u001b[5A\u001b[37m⠴\u001b[0m \u001b[2mPreparing packages...\u001b[0m (127/132)\n",
            "\u001b[2mpyarrow   \u001b[0m \u001b[32m------------------------------\u001b[2m\u001b[0m\u001b[0m 36.49 MiB/36.64 MiB\n",
            "\u001b[2mtriton    \u001b[0m \u001b[32m--------------------------\u001b[2m----\u001b[0m\u001b[0m 168.93 MiB/199.65 MiB\n",
            "\u001b[2mnvidia-cublas-cu12\u001b[0m \u001b[32m---------------\u001b[2m---------------\u001b[0m\u001b[0m 193.08 MiB/391.57 MiB\n",
            "\u001b[2mnvidia-cudnn-cu12\u001b[0m \u001b[32m----------\u001b[2m--------------------\u001b[0m\u001b[0m 198.47 MiB/633.96 MiB\n",
            "\u001b[2K\u001b[5A\u001b[37m⠦\u001b[0m \u001b[2mPreparing packages...\u001b[0m (127/132)\n",
            "\u001b[2mpyarrow   \u001b[0m \u001b[32m------------------------------\u001b[2m\u001b[0m\u001b[0m 36.50 MiB/36.64 MiB\n",
            "\u001b[2mtriton    \u001b[0m \u001b[32m--------------------------\u001b[2m----\u001b[0m\u001b[0m 169.88 MiB/199.65 MiB\n",
            "\u001b[2mnvidia-cublas-cu12\u001b[0m \u001b[32m---------------\u001b[2m---------------\u001b[0m\u001b[0m 194.31 MiB/391.57 MiB\n",
            "\u001b[2mnvidia-cudnn-cu12\u001b[0m \u001b[32m----------\u001b[2m--------------------\u001b[0m\u001b[0m 198.84 MiB/633.96 MiB\n",
            "\u001b[2K\u001b[5A\u001b[37m⠦\u001b[0m \u001b[2mPreparing packages...\u001b[0m (127/132)\n",
            "\u001b[2mpyarrow   \u001b[0m \u001b[32m------------------------------\u001b[2m\u001b[0m\u001b[0m 36.50 MiB/36.64 MiB\n",
            "\u001b[2mtriton    \u001b[0m \u001b[32m--------------------------\u001b[2m----\u001b[0m\u001b[0m 170.37 MiB/199.65 MiB\n",
            "\u001b[2mnvidia-cublas-cu12\u001b[0m \u001b[32m---------------\u001b[2m---------------\u001b[0m\u001b[0m 194.85 MiB/391.57 MiB\n",
            "\u001b[2mnvidia-cudnn-cu12\u001b[0m \u001b[32m----------\u001b[2m--------------------\u001b[0m\u001b[0m 200.84 MiB/633.96 MiB\n",
            "\u001b[2K\u001b[5A\u001b[37m⠦\u001b[0m \u001b[2mPreparing packages...\u001b[0m (127/132)\n",
            "\u001b[2mpyarrow   \u001b[0m \u001b[32m------------------------------\u001b[2m\u001b[0m\u001b[0m 36.50 MiB/36.64 MiB\n",
            "\u001b[2mtriton    \u001b[0m \u001b[32m--------------------------\u001b[2m----\u001b[0m\u001b[0m 170.90 MiB/199.65 MiB\n",
            "\u001b[2mnvidia-cublas-cu12\u001b[0m \u001b[32m----------------\u001b[2m--------------\u001b[0m\u001b[0m 195.99 MiB/391.57 MiB\n",
            "\u001b[2mnvidia-cudnn-cu12\u001b[0m \u001b[32m----------\u001b[2m--------------------\u001b[0m\u001b[0m 202.11 MiB/633.96 MiB\n",
            "\u001b[2K\u001b[5A\u001b[37m⠦\u001b[0m \u001b[2mPreparing packages...\u001b[0m (127/132)\n",
            "\u001b[2mpyarrow   \u001b[0m \u001b[32m------------------------------\u001b[2m\u001b[0m\u001b[0m 36.50 MiB/36.64 MiB\n",
            "\u001b[2mtriton    \u001b[0m \u001b[32m--------------------------\u001b[2m----\u001b[0m\u001b[0m 172.00 MiB/199.65 MiB\n",
            "\u001b[2mnvidia-cublas-cu12\u001b[0m \u001b[32m----------------\u001b[2m--------------\u001b[0m\u001b[0m 196.57 MiB/391.57 MiB\n",
            "\u001b[2mnvidia-cudnn-cu12\u001b[0m \u001b[32m----------\u001b[2m--------------------\u001b[0m\u001b[0m 203.50 MiB/633.96 MiB\n",
            "\u001b[2K\u001b[5A\u001b[37m⠧\u001b[0m \u001b[2mPreparing packages...\u001b[0m (127/132)\n",
            "\u001b[2mpyarrow   \u001b[0m \u001b[32m------------------------------\u001b[2m\u001b[0m\u001b[0m 36.50 MiB/36.64 MiB\n",
            "\u001b[2mtriton    \u001b[0m \u001b[32m--------------------------\u001b[2m----\u001b[0m\u001b[0m 172.93 MiB/199.65 MiB\n",
            "\u001b[2mnvidia-cublas-cu12\u001b[0m \u001b[32m----------------\u001b[2m--------------\u001b[0m\u001b[0m 198.00 MiB/391.57 MiB\n",
            "\u001b[2mnvidia-cudnn-cu12\u001b[0m \u001b[32m----------\u001b[2m--------------------\u001b[0m\u001b[0m 203.65 MiB/633.96 MiB\n",
            "\u001b[2K\u001b[5A\u001b[37m⠧\u001b[0m \u001b[2mPreparing packages...\u001b[0m (127/132)\n",
            "\u001b[2mpyarrow   \u001b[0m \u001b[32m------------------------------\u001b[2m\u001b[0m\u001b[0m 36.52 MiB/36.64 MiB\n",
            "\u001b[2mtriton    \u001b[0m \u001b[32m---------------------------\u001b[2m---\u001b[0m\u001b[0m 173.44 MiB/199.65 MiB\n",
            "\u001b[2mnvidia-cublas-cu12\u001b[0m \u001b[32m----------------\u001b[2m--------------\u001b[0m\u001b[0m 198.62 MiB/391.57 MiB\n",
            "\u001b[2mnvidia-cudnn-cu12\u001b[0m \u001b[32m----------\u001b[2m--------------------\u001b[0m\u001b[0m 205.47 MiB/633.96 MiB\n",
            "\u001b[2K\u001b[5A\u001b[37m⠧\u001b[0m \u001b[2mPreparing packages...\u001b[0m (127/132)\n",
            "\u001b[2mpyarrow   \u001b[0m \u001b[32m------------------------------\u001b[2m\u001b[0m\u001b[0m 36.52 MiB/36.64 MiB\n",
            "\u001b[2mtriton    \u001b[0m \u001b[32m---------------------------\u001b[2m---\u001b[0m\u001b[0m 174.00 MiB/199.65 MiB\n",
            "\u001b[2mnvidia-cublas-cu12\u001b[0m \u001b[32m----------------\u001b[2m--------------\u001b[0m\u001b[0m 199.06 MiB/391.57 MiB\n",
            "\u001b[2mnvidia-cudnn-cu12\u001b[0m \u001b[32m----------\u001b[2m--------------------\u001b[0m\u001b[0m 207.11 MiB/633.96 MiB\n",
            "\u001b[2K\u001b[5A\u001b[37m⠧\u001b[0m \u001b[2mPreparing packages...\u001b[0m (127/132)\n",
            "\u001b[2mpyarrow   \u001b[0m \u001b[32m------------------------------\u001b[2m\u001b[0m\u001b[0m 36.53 MiB/36.64 MiB\n",
            "\u001b[2mtriton    \u001b[0m \u001b[32m---------------------------\u001b[2m---\u001b[0m\u001b[0m 174.86 MiB/199.65 MiB\n",
            "\u001b[2mnvidia-cublas-cu12\u001b[0m \u001b[32m----------------\u001b[2m--------------\u001b[0m\u001b[0m 199.99 MiB/391.57 MiB\n",
            "\u001b[2mnvidia-cudnn-cu12\u001b[0m \u001b[32m----------\u001b[2m--------------------\u001b[0m\u001b[0m 207.97 MiB/633.96 MiB\n",
            "\u001b[2K\u001b[5A\u001b[37m⠇\u001b[0m \u001b[2mPreparing packages...\u001b[0m (127/132)\n",
            "\u001b[2mpyarrow   \u001b[0m \u001b[32m------------------------------\u001b[2m\u001b[0m\u001b[0m 36.53 MiB/36.64 MiB\n",
            "\u001b[2mtriton    \u001b[0m \u001b[32m---------------------------\u001b[2m---\u001b[0m\u001b[0m 175.38 MiB/199.65 MiB\n",
            "\u001b[2mnvidia-cublas-cu12\u001b[0m \u001b[32m----------------\u001b[2m--------------\u001b[0m\u001b[0m 200.57 MiB/391.57 MiB\n",
            "\u001b[2mnvidia-cudnn-cu12\u001b[0m \u001b[32m----------\u001b[2m--------------------\u001b[0m\u001b[0m 209.97 MiB/633.96 MiB\n",
            "\u001b[2K\u001b[5A\u001b[37m⠇\u001b[0m \u001b[2mPreparing packages...\u001b[0m (127/132)\n",
            "\u001b[2mpyarrow   \u001b[0m \u001b[32m------------------------------\u001b[2m\u001b[0m\u001b[0m 36.55 MiB/36.64 MiB\n",
            "\u001b[2mtriton    \u001b[0m \u001b[32m---------------------------\u001b[2m---\u001b[0m\u001b[0m 176.59 MiB/199.65 MiB\n",
            "\u001b[2mnvidia-cublas-cu12\u001b[0m \u001b[32m----------------\u001b[2m--------------\u001b[0m\u001b[0m 201.75 MiB/391.57 MiB\n",
            "\u001b[2mnvidia-cudnn-cu12\u001b[0m \u001b[32m----------\u001b[2m--------------------\u001b[0m\u001b[0m 210.12 MiB/633.96 MiB\n",
            "\u001b[2K\u001b[5A\u001b[37m⠇\u001b[0m \u001b[2mPreparing packages...\u001b[0m (127/132)\n",
            "\u001b[2mpyarrow   \u001b[0m \u001b[32m------------------------------\u001b[2m\u001b[0m\u001b[0m 36.58 MiB/36.64 MiB\n",
            "\u001b[2mtriton    \u001b[0m \u001b[32m---------------------------\u001b[2m---\u001b[0m\u001b[0m 177.79 MiB/199.65 MiB\n",
            "\u001b[2mnvidia-cublas-cu12\u001b[0m \u001b[32m----------------\u001b[2m--------------\u001b[0m\u001b[0m 201.96 MiB/391.57 MiB\n",
            "\u001b[2mnvidia-cudnn-cu12\u001b[0m \u001b[32m-----------\u001b[2m-------------------\u001b[0m\u001b[0m 211.92 MiB/633.96 MiB\n",
            "\u001b[2K\u001b[5A\u001b[37m⠇\u001b[0m \u001b[2mPreparing packages...\u001b[0m (127/132)\n",
            "\u001b[2mpyarrow   \u001b[0m \u001b[32m------------------------------\u001b[2m\u001b[0m\u001b[0m 36.58 MiB/36.64 MiB\n",
            "\u001b[2mtriton    \u001b[0m \u001b[32m---------------------------\u001b[2m---\u001b[0m\u001b[0m 179.36 MiB/199.65 MiB\n",
            "\u001b[2mnvidia-cublas-cu12\u001b[0m \u001b[32m----------------\u001b[2m--------------\u001b[0m\u001b[0m 203.00 MiB/391.57 MiB\n",
            "\u001b[2mnvidia-cudnn-cu12\u001b[0m \u001b[32m-----------\u001b[2m-------------------\u001b[0m\u001b[0m 212.92 MiB/633.96 MiB\n",
            "\u001b[2K\u001b[5A\u001b[37m⠋\u001b[0m \u001b[2mPreparing packages...\u001b[0m (127/132)\n",
            "\u001b[2mpyarrow   \u001b[0m \u001b[32m------------------------------\u001b[2m\u001b[0m\u001b[0m 36.58 MiB/36.64 MiB\n",
            "\u001b[2mtriton    \u001b[0m \u001b[32m---------------------------\u001b[2m---\u001b[0m\u001b[0m 179.36 MiB/199.65 MiB\n",
            "\u001b[2mnvidia-cublas-cu12\u001b[0m \u001b[32m----------------\u001b[2m--------------\u001b[0m\u001b[0m 203.42 MiB/391.57 MiB\n",
            "\u001b[2mnvidia-cudnn-cu12\u001b[0m \u001b[32m-----------\u001b[2m-------------------\u001b[0m\u001b[0m 214.79 MiB/633.96 MiB\n",
            "\u001b[2K\u001b[5A\u001b[37m⠋\u001b[0m \u001b[2mPreparing packages...\u001b[0m (127/132)\n",
            "\u001b[2mpyarrow   \u001b[0m \u001b[32m------------------------------\u001b[2m\u001b[0m\u001b[0m 36.58 MiB/36.64 MiB\n",
            "\u001b[2mtriton    \u001b[0m \u001b[32m----------------------------\u001b[2m--\u001b[0m\u001b[0m 181.08 MiB/199.65 MiB\n",
            "\u001b[2mnvidia-cublas-cu12\u001b[0m \u001b[32m----------------\u001b[2m--------------\u001b[0m\u001b[0m 204.67 MiB/391.57 MiB\n",
            "\u001b[2mnvidia-cudnn-cu12\u001b[0m \u001b[32m-----------\u001b[2m-------------------\u001b[0m\u001b[0m 214.97 MiB/633.96 MiB\n",
            "\u001b[2K\u001b[5A\u001b[37m⠋\u001b[0m \u001b[2mPreparing packages...\u001b[0m (127/132)\n",
            "\u001b[2mpyarrow   \u001b[0m \u001b[32m------------------------------\u001b[2m\u001b[0m\u001b[0m 36.58 MiB/36.64 MiB\n",
            "\u001b[2mtriton    \u001b[0m \u001b[32m----------------------------\u001b[2m--\u001b[0m\u001b[0m 181.67 MiB/199.65 MiB\n",
            "\u001b[2mnvidia-cublas-cu12\u001b[0m \u001b[32m----------------\u001b[2m--------------\u001b[0m\u001b[0m 205.48 MiB/391.57 MiB\n",
            "\u001b[2mnvidia-cudnn-cu12\u001b[0m \u001b[32m-----------\u001b[2m-------------------\u001b[0m\u001b[0m 216.75 MiB/633.96 MiB\n",
            "\u001b[2K\u001b[5A\u001b[37m⠋\u001b[0m \u001b[2mPreparing packages...\u001b[0m (127/132)\n",
            "\u001b[2mpyarrow   \u001b[0m \u001b[32m------------------------------\u001b[2m\u001b[0m\u001b[0m 36.58 MiB/36.64 MiB\n",
            "\u001b[2mtriton    \u001b[0m \u001b[32m----------------------------\u001b[2m--\u001b[0m\u001b[0m 182.70 MiB/199.65 MiB\n",
            "\u001b[2mnvidia-cublas-cu12\u001b[0m \u001b[32m----------------\u001b[2m--------------\u001b[0m\u001b[0m 206.29 MiB/391.57 MiB\n",
            "\u001b[2mnvidia-cudnn-cu12\u001b[0m \u001b[32m-----------\u001b[2m-------------------\u001b[0m\u001b[0m 218.06 MiB/633.96 MiB\n",
            "\u001b[2K\u001b[5A\u001b[37m⠙\u001b[0m \u001b[2mPreparing packages...\u001b[0m (127/132)\n",
            "\u001b[2mpyarrow   \u001b[0m \u001b[32m------------------------------\u001b[2m\u001b[0m\u001b[0m 36.58 MiB/36.64 MiB\n",
            "\u001b[2mtriton    \u001b[0m \u001b[32m----------------------------\u001b[2m--\u001b[0m\u001b[0m 182.70 MiB/199.65 MiB\n",
            "\u001b[2mnvidia-cublas-cu12\u001b[0m \u001b[32m----------------\u001b[2m--------------\u001b[0m\u001b[0m 207.35 MiB/391.57 MiB\n",
            "\u001b[2mnvidia-cudnn-cu12\u001b[0m \u001b[32m-----------\u001b[2m-------------------\u001b[0m\u001b[0m 219.37 MiB/633.96 MiB\n",
            "\u001b[2K\u001b[5A\u001b[37m⠙\u001b[0m \u001b[2mPreparing packages...\u001b[0m (127/132)\n",
            "\u001b[2mpyarrow   \u001b[0m \u001b[32m------------------------------\u001b[2m\u001b[0m\u001b[0m 36.58 MiB/36.64 MiB\n",
            "\u001b[2mtriton    \u001b[0m \u001b[32m----------------------------\u001b[2m--\u001b[0m\u001b[0m 183.87 MiB/199.65 MiB\n",
            "\u001b[2mnvidia-cublas-cu12\u001b[0m \u001b[32m----------------\u001b[2m--------------\u001b[0m\u001b[0m 207.98 MiB/391.57 MiB\n",
            "\u001b[2mnvidia-cudnn-cu12\u001b[0m \u001b[32m-----------\u001b[2m-------------------\u001b[0m\u001b[0m 220.18 MiB/633.96 MiB\n",
            "\u001b[2K\u001b[5A\u001b[37m⠙\u001b[0m \u001b[2mPreparing packages...\u001b[0m (127/132)\n",
            "\u001b[2mpyarrow   \u001b[0m \u001b[32m------------------------------\u001b[2m\u001b[0m\u001b[0m 36.58 MiB/36.64 MiB\n",
            "\u001b[2mtriton    \u001b[0m \u001b[32m----------------------------\u001b[2m--\u001b[0m\u001b[0m 185.28 MiB/199.65 MiB\n",
            "\u001b[2mnvidia-cublas-cu12\u001b[0m \u001b[32m-----------------\u001b[2m-------------\u001b[0m\u001b[0m 209.24 MiB/391.57 MiB\n",
            "\u001b[2mnvidia-cudnn-cu12\u001b[0m \u001b[32m-----------\u001b[2m-------------------\u001b[0m\u001b[0m 221.11 MiB/633.96 MiB\n",
            "\u001b[2K\u001b[5A\u001b[37m⠙\u001b[0m \u001b[2mPreparing packages...\u001b[0m (127/132)\n",
            "\u001b[2mpyarrow   \u001b[0m \u001b[32m------------------------------\u001b[2m\u001b[0m\u001b[0m 36.58 MiB/36.64 MiB\n",
            "\u001b[2mtriton    \u001b[0m \u001b[32m----------------------------\u001b[2m--\u001b[0m\u001b[0m 186.00 MiB/199.65 MiB\n",
            "\u001b[2mnvidia-cublas-cu12\u001b[0m \u001b[32m-----------------\u001b[2m-------------\u001b[0m\u001b[0m 210.40 MiB/391.57 MiB\n",
            "\u001b[2mnvidia-cudnn-cu12\u001b[0m \u001b[32m-----------\u001b[2m-------------------\u001b[0m\u001b[0m 222.23 MiB/633.96 MiB\n",
            "\u001b[2K\u001b[5A\u001b[37m⠹\u001b[0m \u001b[2mPreparing packages...\u001b[0m (127/132)\n",
            "\u001b[2mpyarrow   \u001b[0m \u001b[32m------------------------------\u001b[2m\u001b[0m\u001b[0m 36.58 MiB/36.64 MiB\n",
            "\u001b[2mtriton    \u001b[0m \u001b[32m-----------------------------\u001b[2m-\u001b[0m\u001b[0m 187.22 MiB/199.65 MiB\n",
            "\u001b[2mnvidia-cublas-cu12\u001b[0m \u001b[32m-----------------\u001b[2m-------------\u001b[0m\u001b[0m 211.28 MiB/391.57 MiB\n",
            "\u001b[2mnvidia-cudnn-cu12\u001b[0m \u001b[32m-----------\u001b[2m-------------------\u001b[0m\u001b[0m 223.00 MiB/633.96 MiB\n",
            "\u001b[2K\u001b[5A\u001b[37m⠹\u001b[0m \u001b[2mPreparing packages...\u001b[0m (127/132)\n",
            "\u001b[2mpyarrow   \u001b[0m \u001b[32m------------------------------\u001b[2m\u001b[0m\u001b[0m 36.58 MiB/36.64 MiB\n",
            "\u001b[2mtriton    \u001b[0m \u001b[32m-----------------------------\u001b[2m-\u001b[0m\u001b[0m 187.73 MiB/199.65 MiB\n",
            "\u001b[2mnvidia-cublas-cu12\u001b[0m \u001b[32m-----------------\u001b[2m-------------\u001b[0m\u001b[0m 211.82 MiB/391.57 MiB\n",
            "\u001b[2mnvidia-cudnn-cu12\u001b[0m \u001b[32m-----------\u001b[2m-------------------\u001b[0m\u001b[0m 223.96 MiB/633.96 MiB\n",
            "\u001b[2K\u001b[5A\u001b[37m⠹\u001b[0m \u001b[2mPreparing packages...\u001b[0m (127/132)\n",
            "\u001b[2mpyarrow   \u001b[0m \u001b[32m------------------------------\u001b[2m\u001b[0m\u001b[0m 36.59 MiB/36.64 MiB\n",
            "\u001b[2mtriton    \u001b[0m \u001b[32m-----------------------------\u001b[2m-\u001b[0m\u001b[0m 188.73 MiB/199.65 MiB\n",
            "\u001b[2mnvidia-cublas-cu12\u001b[0m \u001b[32m-----------------\u001b[2m-------------\u001b[0m\u001b[0m 212.75 MiB/391.57 MiB\n",
            "\u001b[2mnvidia-cudnn-cu12\u001b[0m \u001b[32m-----------\u001b[2m-------------------\u001b[0m\u001b[0m 225.51 MiB/633.96 MiB\n",
            "\u001b[2K\u001b[5A\u001b[37m⠹\u001b[0m \u001b[2mPreparing packages...\u001b[0m (127/132)\n",
            "\u001b[2mpyarrow   \u001b[0m \u001b[32m------------------------------\u001b[2m\u001b[0m\u001b[0m 36.59 MiB/36.64 MiB\n",
            "\u001b[2mtriton    \u001b[0m \u001b[32m-----------------------------\u001b[2m-\u001b[0m\u001b[0m 190.00 MiB/199.65 MiB\n",
            "\u001b[2mnvidia-cublas-cu12\u001b[0m \u001b[32m-----------------\u001b[2m-------------\u001b[0m\u001b[0m 213.03 MiB/391.57 MiB\n",
            "\u001b[2mnvidia-cudnn-cu12\u001b[0m \u001b[32m-----------\u001b[2m-------------------\u001b[0m\u001b[0m 226.37 MiB/633.96 MiB\n",
            "\u001b[2K\u001b[5A\u001b[37m⠸\u001b[0m \u001b[2mPreparing packages...\u001b[0m (127/132)\n",
            "\u001b[2mpyarrow   \u001b[0m \u001b[32m------------------------------\u001b[2m\u001b[0m\u001b[0m 36.59 MiB/36.64 MiB\n",
            "\u001b[2mtriton    \u001b[0m \u001b[32m-----------------------------\u001b[2m-\u001b[0m\u001b[0m 190.38 MiB/199.65 MiB\n",
            "\u001b[2mnvidia-cublas-cu12\u001b[0m \u001b[32m-----------------\u001b[2m-------------\u001b[0m\u001b[0m 214.00 MiB/391.57 MiB\n",
            "\u001b[2mnvidia-cudnn-cu12\u001b[0m \u001b[32m-----------\u001b[2m-------------------\u001b[0m\u001b[0m 227.66 MiB/633.96 MiB\n",
            "\u001b[2K\u001b[5A\u001b[37m⠸\u001b[0m \u001b[2mPreparing packages...\u001b[0m (127/132)\n",
            "\u001b[2mpyarrow   \u001b[0m \u001b[32m------------------------------\u001b[2m\u001b[0m\u001b[0m 36.59 MiB/36.64 MiB\n",
            "\u001b[2mtriton    \u001b[0m \u001b[32m-----------------------------\u001b[2m-\u001b[0m\u001b[0m 191.68 MiB/199.65 MiB\n",
            "\u001b[2mnvidia-cublas-cu12\u001b[0m \u001b[32m-----------------\u001b[2m-------------\u001b[0m\u001b[0m 214.20 MiB/391.57 MiB\n",
            "\u001b[2mnvidia-cudnn-cu12\u001b[0m \u001b[32m-----------\u001b[2m-------------------\u001b[0m\u001b[0m 228.30 MiB/633.96 MiB\n",
            "\u001b[2K\u001b[5A\u001b[37m⠸\u001b[0m \u001b[2mPreparing packages...\u001b[0m (127/132)\n",
            "\u001b[2mpyarrow   \u001b[0m \u001b[32m------------------------------\u001b[2m\u001b[0m\u001b[0m 36.59 MiB/36.64 MiB\n",
            "\u001b[2mtriton    \u001b[0m \u001b[32m------------------------------\u001b[2m\u001b[0m\u001b[0m 193.00 MiB/199.65 MiB\n",
            "\u001b[2mnvidia-cublas-cu12\u001b[0m \u001b[32m-----------------\u001b[2m-------------\u001b[0m\u001b[0m 214.96 MiB/391.57 MiB\n",
            "\u001b[2mnvidia-cudnn-cu12\u001b[0m \u001b[32m-----------\u001b[2m-------------------\u001b[0m\u001b[0m 229.03 MiB/633.96 MiB\n",
            "\u001b[2K\u001b[5A\u001b[37m⠸\u001b[0m \u001b[2mPreparing packages...\u001b[0m (127/132)\n",
            "\u001b[2mpyarrow   \u001b[0m \u001b[32m------------------------------\u001b[2m\u001b[0m\u001b[0m 36.59 MiB/36.64 MiB\n",
            "\u001b[2mtriton    \u001b[0m \u001b[32m------------------------------\u001b[2m\u001b[0m\u001b[0m 193.31 MiB/199.65 MiB\n",
            "\u001b[2mnvidia-cublas-cu12\u001b[0m \u001b[32m-----------------\u001b[2m-------------\u001b[0m\u001b[0m 215.38 MiB/391.57 MiB\n",
            "\u001b[2mnvidia-cudnn-cu12\u001b[0m \u001b[32m-----------\u001b[2m-------------------\u001b[0m\u001b[0m 230.91 MiB/633.96 MiB\n",
            "\u001b[2K\u001b[5A\u001b[37m⠼\u001b[0m \u001b[2mPreparing packages...\u001b[0m (127/132)\n",
            "\u001b[2mpyarrow   \u001b[0m \u001b[32m------------------------------\u001b[2m\u001b[0m\u001b[0m 36.59 MiB/36.64 MiB\n",
            "\u001b[2mtriton    \u001b[0m \u001b[32m------------------------------\u001b[2m\u001b[0m\u001b[0m 194.52 MiB/199.65 MiB\n",
            "\u001b[2mnvidia-cublas-cu12\u001b[0m \u001b[32m-----------------\u001b[2m-------------\u001b[0m\u001b[0m 216.03 MiB/391.57 MiB\n",
            "\u001b[2mnvidia-cudnn-cu12\u001b[0m \u001b[32m-----------\u001b[2m-------------------\u001b[0m\u001b[0m 231.25 MiB/633.96 MiB\n",
            "\u001b[2K\u001b[5A\u001b[37m⠼\u001b[0m \u001b[2mPreparing packages...\u001b[0m (127/132)\n",
            "\u001b[2mpyarrow   \u001b[0m \u001b[32m------------------------------\u001b[2m\u001b[0m\u001b[0m 36.64 MiB/36.64 MiB\n",
            "\u001b[2mtriton    \u001b[0m \u001b[32m------------------------------\u001b[2m\u001b[0m\u001b[0m 194.97 MiB/199.65 MiB\n",
            "\u001b[2mnvidia-cublas-cu12\u001b[0m \u001b[32m-----------------\u001b[2m-------------\u001b[0m\u001b[0m 217.09 MiB/391.57 MiB\n",
            "\u001b[2mnvidia-cudnn-cu12\u001b[0m \u001b[32m------------\u001b[2m------------------\u001b[0m\u001b[0m 232.52 MiB/633.96 MiB\n",
            "\u001b[2K\u001b[5A\u001b[37m⠼\u001b[0m \u001b[2mPreparing packages...\u001b[0m (127/132)\n",
            "\u001b[2mtriton    \u001b[0m \u001b[32m------------------------------\u001b[2m\u001b[0m\u001b[0m 194.97 MiB/199.65 MiB\n",
            "\u001b[2mnvidia-cublas-cu12\u001b[0m \u001b[32m-----------------\u001b[2m-------------\u001b[0m\u001b[0m 217.09 MiB/391.57 MiB\n",
            "\u001b[2mnvidia-cudnn-cu12\u001b[0m \u001b[32m------------\u001b[2m------------------\u001b[0m\u001b[0m 233.06 MiB/633.96 MiB\n",
            "\u001b[2K\u001b[4A\u001b[37m⠼\u001b[0m \u001b[2mPreparing packages...\u001b[0m (127/132)\n",
            "\u001b[2mtriton    \u001b[0m \u001b[32m------------------------------\u001b[2m\u001b[0m\u001b[0m 195.43 MiB/199.65 MiB\n",
            "\u001b[2mnvidia-cublas-cu12\u001b[0m \u001b[32m-----------------\u001b[2m-------------\u001b[0m\u001b[0m 218.06 MiB/391.57 MiB\n",
            "\u001b[2mnvidia-cudnn-cu12\u001b[0m \u001b[32m------------\u001b[2m------------------\u001b[0m\u001b[0m 233.22 MiB/633.96 MiB\n",
            "\u001b[2K\u001b[4A\u001b[37m⠼\u001b[0m \u001b[2mPreparing packages...\u001b[0m (127/132)\n",
            "\u001b[2mtriton    \u001b[0m \u001b[32m------------------------------\u001b[2m\u001b[0m\u001b[0m 196.32 MiB/199.65 MiB\n",
            "\u001b[2mnvidia-cublas-cu12\u001b[0m \u001b[32m-----------------\u001b[2m-------------\u001b[0m\u001b[0m 218.50 MiB/391.57 MiB\n",
            "\u001b[2mnvidia-cudnn-cu12\u001b[0m \u001b[32m------------\u001b[2m------------------\u001b[0m\u001b[0m 235.03 MiB/633.96 MiB\n",
            "\u001b[2K\u001b[4A\u001b[37m⠴\u001b[0m \u001b[2mPreparing packages...\u001b[0m (128/132)\n",
            "\u001b[2mtriton    \u001b[0m \u001b[32m------------------------------\u001b[2m\u001b[0m\u001b[0m 196.99 MiB/199.65 MiB\n",
            "\u001b[2mnvidia-cublas-cu12\u001b[0m \u001b[32m-----------------\u001b[2m-------------\u001b[0m\u001b[0m 219.00 MiB/391.57 MiB\n",
            "\u001b[2mnvidia-cudnn-cu12\u001b[0m \u001b[32m------------\u001b[2m------------------\u001b[0m\u001b[0m 236.37 MiB/633.96 MiB\n",
            "\u001b[2K\u001b[4A\u001b[37m⠴\u001b[0m \u001b[2mPreparing packages...\u001b[0m (128/132)\n",
            "\u001b[2mtriton    \u001b[0m \u001b[32m------------------------------\u001b[2m\u001b[0m\u001b[0m 197.96 MiB/199.65 MiB\n",
            "\u001b[2mnvidia-cublas-cu12\u001b[0m \u001b[32m-----------------\u001b[2m-------------\u001b[0m\u001b[0m 219.95 MiB/391.57 MiB\n",
            "\u001b[2mnvidia-cudnn-cu12\u001b[0m \u001b[32m------------\u001b[2m------------------\u001b[0m\u001b[0m 236.59 MiB/633.96 MiB\n",
            "\u001b[2K\u001b[4A\u001b[37m⠴\u001b[0m \u001b[2mPreparing packages...\u001b[0m (128/132)\n",
            "\u001b[2mtriton    \u001b[0m \u001b[32m------------------------------\u001b[2m\u001b[0m\u001b[0m 198.31 MiB/199.65 MiB\n",
            "\u001b[2mnvidia-cublas-cu12\u001b[0m \u001b[32m-----------------\u001b[2m-------------\u001b[0m\u001b[0m 220.53 MiB/391.57 MiB\n",
            "\u001b[2mnvidia-cudnn-cu12\u001b[0m \u001b[32m------------\u001b[2m------------------\u001b[0m\u001b[0m 238.16 MiB/633.96 MiB\n",
            "\u001b[2K\u001b[4A\u001b[37m⠴\u001b[0m \u001b[2mPreparing packages...\u001b[0m (128/132)\n",
            "\u001b[2mtriton    \u001b[0m \u001b[32m------------------------------\u001b[2m\u001b[0m\u001b[0m 198.31 MiB/199.65 MiB\n",
            "\u001b[2mnvidia-cublas-cu12\u001b[0m \u001b[32m-----------------\u001b[2m-------------\u001b[0m\u001b[0m 221.09 MiB/391.57 MiB\n",
            "\u001b[2mnvidia-cudnn-cu12\u001b[0m \u001b[32m------------\u001b[2m------------------\u001b[0m\u001b[0m 240.14 MiB/633.96 MiB\n",
            "\u001b[2K\u001b[4A\u001b[37m⠦\u001b[0m \u001b[2mPreparing packages...\u001b[0m (128/132)\n",
            "\u001b[2mtriton    \u001b[0m \u001b[32m------------------------------\u001b[2m\u001b[0m\u001b[0m 198.31 MiB/199.65 MiB\n",
            "\u001b[2mnvidia-cublas-cu12\u001b[0m \u001b[32m------------------\u001b[2m------------\u001b[0m\u001b[0m 222.03 MiB/391.57 MiB\n",
            "\u001b[2mnvidia-cudnn-cu12\u001b[0m \u001b[32m------------\u001b[2m------------------\u001b[0m\u001b[0m 241.89 MiB/633.96 MiB\n",
            "\u001b[2K\u001b[4A\u001b[37m⠦\u001b[0m \u001b[2mPreparing packages...\u001b[0m (128/132)\n",
            "\u001b[2mtriton    \u001b[0m \u001b[32m------------------------------\u001b[2m\u001b[0m\u001b[0m 198.36 MiB/199.65 MiB\n",
            "\u001b[2mnvidia-cublas-cu12\u001b[0m \u001b[32m------------------\u001b[2m------------\u001b[0m\u001b[0m 223.00 MiB/391.57 MiB\n",
            "\u001b[2mnvidia-cudnn-cu12\u001b[0m \u001b[32m------------\u001b[2m------------------\u001b[0m\u001b[0m 243.19 MiB/633.96 MiB\n",
            "\u001b[2K\u001b[4A\u001b[37m⠦\u001b[0m \u001b[2mPreparing packages...\u001b[0m (128/132)\n",
            "\u001b[2mtriton    \u001b[0m \u001b[32m------------------------------\u001b[2m\u001b[0m\u001b[0m 198.36 MiB/199.65 MiB\n",
            "\u001b[2mnvidia-cublas-cu12\u001b[0m \u001b[32m------------------\u001b[2m------------\u001b[0m\u001b[0m 223.99 MiB/391.57 MiB\n",
            "\u001b[2mnvidia-cudnn-cu12\u001b[0m \u001b[32m------------\u001b[2m------------------\u001b[0m\u001b[0m 244.53 MiB/633.96 MiB\n",
            "\u001b[2K\u001b[4A\u001b[37m⠦\u001b[0m \u001b[2mPreparing packages...\u001b[0m (128/132)\n",
            "\u001b[2mtriton    \u001b[0m \u001b[32m------------------------------\u001b[2m\u001b[0m\u001b[0m 198.53 MiB/199.65 MiB\n",
            "\u001b[2mnvidia-cublas-cu12\u001b[0m \u001b[32m------------------\u001b[2m------------\u001b[0m\u001b[0m 224.96 MiB/391.57 MiB\n",
            "\u001b[2mnvidia-cudnn-cu12\u001b[0m \u001b[32m------------\u001b[2m------------------\u001b[0m\u001b[0m 245.42 MiB/633.96 MiB\n",
            "\u001b[2K\u001b[4A\u001b[37m⠧\u001b[0m \u001b[2mPreparing packages...\u001b[0m (128/132)\n",
            "\u001b[2mtriton    \u001b[0m \u001b[32m------------------------------\u001b[2m\u001b[0m\u001b[0m 198.53 MiB/199.65 MiB\n",
            "\u001b[2mnvidia-cublas-cu12\u001b[0m \u001b[32m------------------\u001b[2m------------\u001b[0m\u001b[0m 226.00 MiB/391.57 MiB\n",
            "\u001b[2mnvidia-cudnn-cu12\u001b[0m \u001b[32m------------\u001b[2m------------------\u001b[0m\u001b[0m 246.64 MiB/633.96 MiB\n",
            "\u001b[2K\u001b[4A\u001b[37m⠧\u001b[0m \u001b[2mPreparing packages...\u001b[0m (128/132)\n",
            "\u001b[2mtriton    \u001b[0m \u001b[32m------------------------------\u001b[2m\u001b[0m\u001b[0m 198.55 MiB/199.65 MiB\n",
            "\u001b[2mnvidia-cublas-cu12\u001b[0m \u001b[32m------------------\u001b[2m------------\u001b[0m\u001b[0m 226.85 MiB/391.57 MiB\n",
            "\u001b[2mnvidia-cudnn-cu12\u001b[0m \u001b[32m------------\u001b[2m------------------\u001b[0m\u001b[0m 248.23 MiB/633.96 MiB\n",
            "\u001b[2K\u001b[4A\u001b[37m⠧\u001b[0m \u001b[2mPreparing packages...\u001b[0m (128/132)\n",
            "\u001b[2mtriton    \u001b[0m \u001b[32m------------------------------\u001b[2m\u001b[0m\u001b[0m 198.55 MiB/199.65 MiB\n",
            "\u001b[2mnvidia-cublas-cu12\u001b[0m \u001b[32m------------------\u001b[2m------------\u001b[0m\u001b[0m 227.77 MiB/391.57 MiB\n",
            "\u001b[2mnvidia-cudnn-cu12\u001b[0m \u001b[32m------------\u001b[2m------------------\u001b[0m\u001b[0m 249.98 MiB/633.96 MiB\n",
            "\u001b[2K\u001b[4A\u001b[37m⠧\u001b[0m \u001b[2mPreparing packages...\u001b[0m (128/132)\n",
            "\u001b[2mtriton    \u001b[0m \u001b[32m------------------------------\u001b[2m\u001b[0m\u001b[0m 198.56 MiB/199.65 MiB\n",
            "\u001b[2mnvidia-cublas-cu12\u001b[0m \u001b[32m------------------\u001b[2m------------\u001b[0m\u001b[0m 228.69 MiB/391.57 MiB\n",
            "\u001b[2mnvidia-cudnn-cu12\u001b[0m \u001b[32m------------\u001b[2m------------------\u001b[0m\u001b[0m 250.90 MiB/633.96 MiB\n",
            "\u001b[2K\u001b[4A\u001b[37m⠇\u001b[0m \u001b[2mPreparing packages...\u001b[0m (128/132)\n",
            "\u001b[2mtriton    \u001b[0m \u001b[32m------------------------------\u001b[2m\u001b[0m\u001b[0m 198.57 MiB/199.65 MiB\n",
            "\u001b[2mnvidia-cublas-cu12\u001b[0m \u001b[32m------------------\u001b[2m------------\u001b[0m\u001b[0m 229.70 MiB/391.57 MiB\n",
            "\u001b[2mnvidia-cudnn-cu12\u001b[0m \u001b[32m------------\u001b[2m------------------\u001b[0m\u001b[0m 252.42 MiB/633.96 MiB\n",
            "\u001b[2K\u001b[4A\u001b[37m⠇\u001b[0m \u001b[2mPreparing packages...\u001b[0m (128/132)\n",
            "\u001b[2mtriton    \u001b[0m \u001b[32m------------------------------\u001b[2m\u001b[0m\u001b[0m 198.57 MiB/199.65 MiB\n",
            "\u001b[2mnvidia-cublas-cu12\u001b[0m \u001b[32m------------------\u001b[2m------------\u001b[0m\u001b[0m 230.78 MiB/391.57 MiB\n",
            "\u001b[2mnvidia-cudnn-cu12\u001b[0m \u001b[32m-------------\u001b[2m-----------------\u001b[0m\u001b[0m 253.75 MiB/633.96 MiB\n",
            "\u001b[2K\u001b[4A\u001b[37m⠇\u001b[0m \u001b[2mPreparing packages...\u001b[0m (128/132)\n",
            "\u001b[2mtriton    \u001b[0m \u001b[32m------------------------------\u001b[2m\u001b[0m\u001b[0m 198.57 MiB/199.65 MiB\n",
            "\u001b[2mnvidia-cublas-cu12\u001b[0m \u001b[32m------------------\u001b[2m------------\u001b[0m\u001b[0m 231.00 MiB/391.57 MiB\n",
            "\u001b[2mnvidia-cudnn-cu12\u001b[0m \u001b[32m-------------\u001b[2m-----------------\u001b[0m\u001b[0m 255.58 MiB/633.96 MiB\n",
            "\u001b[2K\u001b[4A\u001b[37m⠇\u001b[0m \u001b[2mPreparing packages...\u001b[0m (128/132)\n",
            "\u001b[2mtriton    \u001b[0m \u001b[32m------------------------------\u001b[2m\u001b[0m\u001b[0m 198.57 MiB/199.65 MiB\n",
            "\u001b[2mnvidia-cublas-cu12\u001b[0m \u001b[32m------------------\u001b[2m------------\u001b[0m\u001b[0m 232.65 MiB/391.57 MiB\n",
            "\u001b[2mnvidia-cudnn-cu12\u001b[0m \u001b[32m-------------\u001b[2m-----------------\u001b[0m\u001b[0m 255.81 MiB/633.96 MiB\n",
            "\u001b[2K\u001b[4A\u001b[37m⠋\u001b[0m \u001b[2mPreparing packages...\u001b[0m (128/132)\n",
            "\u001b[2mtriton    \u001b[0m \u001b[32m------------------------------\u001b[2m\u001b[0m\u001b[0m 198.60 MiB/199.65 MiB\n",
            "\u001b[2mnvidia-cublas-cu12\u001b[0m \u001b[32m------------------\u001b[2m------------\u001b[0m\u001b[0m 233.05 MiB/391.57 MiB\n",
            "\u001b[2mnvidia-cudnn-cu12\u001b[0m \u001b[32m-------------\u001b[2m-----------------\u001b[0m\u001b[0m 257.47 MiB/633.96 MiB\n",
            "\u001b[2K\u001b[4A\u001b[37m⠋\u001b[0m \u001b[2mPreparing packages...\u001b[0m (128/132)\n",
            "\u001b[2mtriton    \u001b[0m \u001b[32m------------------------------\u001b[2m\u001b[0m\u001b[0m 198.60 MiB/199.65 MiB\n",
            "\u001b[2mnvidia-cublas-cu12\u001b[0m \u001b[32m------------------\u001b[2m------------\u001b[0m\u001b[0m 234.53 MiB/391.57 MiB\n",
            "\u001b[2mnvidia-cudnn-cu12\u001b[0m \u001b[32m-------------\u001b[2m-----------------\u001b[0m\u001b[0m 258.23 MiB/633.96 MiB\n",
            "\u001b[2K\u001b[4A\u001b[37m⠋\u001b[0m \u001b[2mPreparing packages...\u001b[0m (128/132)\n",
            "\u001b[2mtriton    \u001b[0m \u001b[32m------------------------------\u001b[2m\u001b[0m\u001b[0m 198.62 MiB/199.65 MiB\n",
            "\u001b[2mnvidia-cublas-cu12\u001b[0m \u001b[32m-------------------\u001b[2m-----------\u001b[0m\u001b[0m 234.95 MiB/391.57 MiB\n",
            "\u001b[2mnvidia-cudnn-cu12\u001b[0m \u001b[32m-------------\u001b[2m-----------------\u001b[0m\u001b[0m 259.69 MiB/633.96 MiB\n",
            "\u001b[2K\u001b[4A\u001b[37m⠋\u001b[0m \u001b[2mPreparing packages...\u001b[0m (128/132)\n",
            "\u001b[2mtriton    \u001b[0m \u001b[32m------------------------------\u001b[2m\u001b[0m\u001b[0m 198.65 MiB/199.65 MiB\n",
            "\u001b[2mnvidia-cublas-cu12\u001b[0m \u001b[32m-------------------\u001b[2m-----------\u001b[0m\u001b[0m 236.39 MiB/391.57 MiB\n",
            "\u001b[2mnvidia-cudnn-cu12\u001b[0m \u001b[32m-------------\u001b[2m-----------------\u001b[0m\u001b[0m 260.22 MiB/633.96 MiB\n",
            "\u001b[2K\u001b[4A\u001b[37m⠙\u001b[0m \u001b[2mPreparing packages...\u001b[0m (128/132)\n",
            "\u001b[2mtriton    \u001b[0m \u001b[32m------------------------------\u001b[2m\u001b[0m\u001b[0m 198.65 MiB/199.65 MiB\n",
            "\u001b[2mnvidia-cublas-cu12\u001b[0m \u001b[32m-------------------\u001b[2m-----------\u001b[0m\u001b[0m 236.97 MiB/391.57 MiB\n",
            "\u001b[2mnvidia-cudnn-cu12\u001b[0m \u001b[32m-------------\u001b[2m-----------------\u001b[0m\u001b[0m 261.65 MiB/633.96 MiB\n",
            "\u001b[2K\u001b[4A\u001b[37m⠙\u001b[0m \u001b[2mPreparing packages...\u001b[0m (128/132)\n",
            "\u001b[2mtriton    \u001b[0m \u001b[32m------------------------------\u001b[2m\u001b[0m\u001b[0m 198.67 MiB/199.65 MiB\n",
            "\u001b[2mnvidia-cublas-cu12\u001b[0m \u001b[32m-------------------\u001b[2m-----------\u001b[0m\u001b[0m 237.97 MiB/391.57 MiB\n",
            "\u001b[2mnvidia-cudnn-cu12\u001b[0m \u001b[32m-------------\u001b[2m-----------------\u001b[0m\u001b[0m 263.44 MiB/633.96 MiB\n",
            "\u001b[2K\u001b[4A\u001b[37m⠙\u001b[0m \u001b[2mPreparing packages...\u001b[0m (128/132)\n",
            "\u001b[2mtriton    \u001b[0m \u001b[32m------------------------------\u001b[2m\u001b[0m\u001b[0m 198.67 MiB/199.65 MiB\n",
            "\u001b[2mnvidia-cublas-cu12\u001b[0m \u001b[32m-------------------\u001b[2m-----------\u001b[0m\u001b[0m 239.71 MiB/391.57 MiB\n",
            "\u001b[2mnvidia-cudnn-cu12\u001b[0m \u001b[32m-------------\u001b[2m-----------------\u001b[0m\u001b[0m 264.15 MiB/633.96 MiB\n",
            "\u001b[2K\u001b[4A\u001b[37m⠙\u001b[0m \u001b[2mPreparing packages...\u001b[0m (128/132)\n",
            "\u001b[2mtriton    \u001b[0m \u001b[32m------------------------------\u001b[2m\u001b[0m\u001b[0m 198.68 MiB/199.65 MiB\n",
            "\u001b[2mnvidia-cublas-cu12\u001b[0m \u001b[32m-------------------\u001b[2m-----------\u001b[0m\u001b[0m 239.97 MiB/391.57 MiB\n",
            "\u001b[2mnvidia-cudnn-cu12\u001b[0m \u001b[32m-------------\u001b[2m-----------------\u001b[0m\u001b[0m 265.42 MiB/633.96 MiB\n",
            "\u001b[2K\u001b[4A\u001b[37m⠹\u001b[0m \u001b[2mPreparing packages...\u001b[0m (128/132)\n",
            "\u001b[2mtriton    \u001b[0m \u001b[32m------------------------------\u001b[2m\u001b[0m\u001b[0m 198.68 MiB/199.65 MiB\n",
            "\u001b[2mnvidia-cublas-cu12\u001b[0m \u001b[32m-------------------\u001b[2m-----------\u001b[0m\u001b[0m 240.96 MiB/391.57 MiB\n",
            "\u001b[2mnvidia-cudnn-cu12\u001b[0m \u001b[32m-------------\u001b[2m-----------------\u001b[0m\u001b[0m 267.25 MiB/633.96 MiB\n",
            "\u001b[2K\u001b[4A\u001b[37m⠹\u001b[0m \u001b[2mPreparing packages...\u001b[0m (128/132)\n",
            "\u001b[2mtriton    \u001b[0m \u001b[32m------------------------------\u001b[2m\u001b[0m\u001b[0m 198.70 MiB/199.65 MiB\n",
            "\u001b[2mnvidia-cublas-cu12\u001b[0m \u001b[32m-------------------\u001b[2m-----------\u001b[0m\u001b[0m 241.97 MiB/391.57 MiB\n",
            "\u001b[2mnvidia-cudnn-cu12\u001b[0m \u001b[32m-------------\u001b[2m-----------------\u001b[0m\u001b[0m 268.45 MiB/633.96 MiB\n",
            "\u001b[2K\u001b[4A\u001b[37m⠹\u001b[0m \u001b[2mPreparing packages...\u001b[0m (128/132)\n",
            "\u001b[2mtriton    \u001b[0m \u001b[32m------------------------------\u001b[2m\u001b[0m\u001b[0m 198.79 MiB/199.65 MiB\n",
            "\u001b[2mnvidia-cublas-cu12\u001b[0m \u001b[32m-------------------\u001b[2m-----------\u001b[0m\u001b[0m 242.70 MiB/391.57 MiB\n",
            "\u001b[2mnvidia-cudnn-cu12\u001b[0m \u001b[32m-------------\u001b[2m-----------------\u001b[0m\u001b[0m 270.04 MiB/633.96 MiB\n",
            "\u001b[2K\u001b[4A\u001b[37m⠹\u001b[0m \u001b[2mPreparing packages...\u001b[0m (128/132)\n",
            "\u001b[2mtriton    \u001b[0m \u001b[32m------------------------------\u001b[2m\u001b[0m\u001b[0m 198.79 MiB/199.65 MiB\n",
            "\u001b[2mnvidia-cublas-cu12\u001b[0m \u001b[32m-------------------\u001b[2m-----------\u001b[0m\u001b[0m 243.56 MiB/391.57 MiB\n",
            "\u001b[2mnvidia-cudnn-cu12\u001b[0m \u001b[32m-------------\u001b[2m-----------------\u001b[0m\u001b[0m 271.68 MiB/633.96 MiB\n",
            "\u001b[2K\u001b[4A\u001b[37m⠸\u001b[0m \u001b[2mPreparing packages...\u001b[0m (128/132)\n",
            "\u001b[2mtriton    \u001b[0m \u001b[32m------------------------------\u001b[2m\u001b[0m\u001b[0m 198.79 MiB/199.65 MiB\n",
            "\u001b[2mnvidia-cublas-cu12\u001b[0m \u001b[32m-------------------\u001b[2m-----------\u001b[0m\u001b[0m 244.62 MiB/391.57 MiB\n",
            "\u001b[2mnvidia-cudnn-cu12\u001b[0m \u001b[32m-------------\u001b[2m-----------------\u001b[0m\u001b[0m 272.37 MiB/633.96 MiB\n",
            "\u001b[2K\u001b[4A\u001b[37m⠸\u001b[0m \u001b[2mPreparing packages...\u001b[0m (128/132)\n",
            "\u001b[2mtriton    \u001b[0m \u001b[32m------------------------------\u001b[2m\u001b[0m\u001b[0m 198.81 MiB/199.65 MiB\n",
            "\u001b[2mnvidia-cublas-cu12\u001b[0m \u001b[32m-------------------\u001b[2m-----------\u001b[0m\u001b[0m 245.11 MiB/391.57 MiB\n",
            "\u001b[2mnvidia-cudnn-cu12\u001b[0m \u001b[32m-------------\u001b[2m-----------------\u001b[0m\u001b[0m 273.71 MiB/633.96 MiB\n",
            "\u001b[2K\u001b[4A\u001b[37m⠸\u001b[0m \u001b[2mPreparing packages...\u001b[0m (128/132)\n",
            "\u001b[2mtriton    \u001b[0m \u001b[32m------------------------------\u001b[2m\u001b[0m\u001b[0m 198.81 MiB/199.65 MiB\n",
            "\u001b[2mnvidia-cublas-cu12\u001b[0m \u001b[32m-------------------\u001b[2m-----------\u001b[0m\u001b[0m 246.63 MiB/391.57 MiB\n",
            "\u001b[2mnvidia-cudnn-cu12\u001b[0m \u001b[32m--------------\u001b[2m----------------\u001b[0m\u001b[0m 274.78 MiB/633.96 MiB\n",
            "\u001b[2K\u001b[4A\u001b[37m⠸\u001b[0m \u001b[2mPreparing packages...\u001b[0m (128/132)\n",
            "\u001b[2mtriton    \u001b[0m \u001b[32m------------------------------\u001b[2m\u001b[0m\u001b[0m 198.84 MiB/199.65 MiB\n",
            "\u001b[2mnvidia-cublas-cu12\u001b[0m \u001b[32m-------------------\u001b[2m-----------\u001b[0m\u001b[0m 247.88 MiB/391.57 MiB\n",
            "\u001b[2mnvidia-cudnn-cu12\u001b[0m \u001b[32m--------------\u001b[2m----------------\u001b[0m\u001b[0m 275.71 MiB/633.96 MiB\n",
            "\u001b[2K\u001b[4A\u001b[37m⠼\u001b[0m \u001b[2mPreparing packages...\u001b[0m (128/132)\n",
            "\u001b[2mtriton    \u001b[0m \u001b[32m------------------------------\u001b[2m\u001b[0m\u001b[0m 198.85 MiB/199.65 MiB\n",
            "\u001b[2mnvidia-cublas-cu12\u001b[0m \u001b[32m--------------------\u001b[2m----------\u001b[0m\u001b[0m 248.56 MiB/391.57 MiB\n",
            "\u001b[2mnvidia-cudnn-cu12\u001b[0m \u001b[32m--------------\u001b[2m----------------\u001b[0m\u001b[0m 277.23 MiB/633.96 MiB\n",
            "\u001b[2K\u001b[4A\u001b[37m⠼\u001b[0m \u001b[2mPreparing packages...\u001b[0m (128/132)\n",
            "\u001b[2mtriton    \u001b[0m \u001b[32m------------------------------\u001b[2m\u001b[0m\u001b[0m 198.85 MiB/199.65 MiB\n",
            "\u001b[2mnvidia-cublas-cu12\u001b[0m \u001b[32m--------------------\u001b[2m----------\u001b[0m\u001b[0m 249.95 MiB/391.57 MiB\n",
            "\u001b[2mnvidia-cudnn-cu12\u001b[0m \u001b[32m--------------\u001b[2m----------------\u001b[0m\u001b[0m 278.45 MiB/633.96 MiB\n",
            "\u001b[2K\u001b[4A\u001b[37m⠼\u001b[0m \u001b[2mPreparing packages...\u001b[0m (128/132)\n",
            "\u001b[2mtriton    \u001b[0m \u001b[32m------------------------------\u001b[2m\u001b[0m\u001b[0m 198.85 MiB/199.65 MiB\n",
            "\u001b[2mnvidia-cublas-cu12\u001b[0m \u001b[32m--------------------\u001b[2m----------\u001b[0m\u001b[0m 250.51 MiB/391.57 MiB\n",
            "\u001b[2mnvidia-cudnn-cu12\u001b[0m \u001b[32m--------------\u001b[2m----------------\u001b[0m\u001b[0m 279.96 MiB/633.96 MiB\n",
            "\u001b[2K\u001b[4A\u001b[37m⠼\u001b[0m \u001b[2mPreparing packages...\u001b[0m (128/132)\n",
            "\u001b[2mtriton    \u001b[0m \u001b[32m------------------------------\u001b[2m\u001b[0m\u001b[0m 198.87 MiB/199.65 MiB\n",
            "\u001b[2mnvidia-cublas-cu12\u001b[0m \u001b[32m--------------------\u001b[2m----------\u001b[0m\u001b[0m 251.85 MiB/391.57 MiB\n",
            "\u001b[2mnvidia-cudnn-cu12\u001b[0m \u001b[32m--------------\u001b[2m----------------\u001b[0m\u001b[0m 280.29 MiB/633.96 MiB\n",
            "\u001b[2K\u001b[4A\u001b[37m⠴\u001b[0m \u001b[2mPreparing packages...\u001b[0m (128/132)\n",
            "\u001b[2mtriton    \u001b[0m \u001b[32m------------------------------\u001b[2m\u001b[0m\u001b[0m 198.89 MiB/199.65 MiB\n",
            "\u001b[2mnvidia-cublas-cu12\u001b[0m \u001b[32m--------------------\u001b[2m----------\u001b[0m\u001b[0m 252.53 MiB/391.57 MiB\n",
            "\u001b[2mnvidia-cudnn-cu12\u001b[0m \u001b[32m--------------\u001b[2m----------------\u001b[0m\u001b[0m 281.79 MiB/633.96 MiB\n",
            "\u001b[2K\u001b[4A\u001b[37m⠴\u001b[0m \u001b[2mPreparing packages...\u001b[0m (128/132)\n",
            "\u001b[2mtriton    \u001b[0m \u001b[32m------------------------------\u001b[2m\u001b[0m\u001b[0m 198.89 MiB/199.65 MiB\n",
            "\u001b[2mnvidia-cublas-cu12\u001b[0m \u001b[32m--------------------\u001b[2m----------\u001b[0m\u001b[0m 253.17 MiB/391.57 MiB\n",
            "\u001b[2mnvidia-cudnn-cu12\u001b[0m \u001b[32m--------------\u001b[2m----------------\u001b[0m\u001b[0m 283.01 MiB/633.96 MiB\n",
            "\u001b[2K\u001b[4A\u001b[37m⠴\u001b[0m \u001b[2mPreparing packages...\u001b[0m (128/132)\n",
            "\u001b[2mtriton    \u001b[0m \u001b[32m------------------------------\u001b[2m\u001b[0m\u001b[0m 198.89 MiB/199.65 MiB\n",
            "\u001b[2mnvidia-cublas-cu12\u001b[0m \u001b[32m--------------------\u001b[2m----------\u001b[0m\u001b[0m 254.94 MiB/391.57 MiB\n",
            "\u001b[2mnvidia-cudnn-cu12\u001b[0m \u001b[32m--------------\u001b[2m----------------\u001b[0m\u001b[0m 284.18 MiB/633.96 MiB\n",
            "\u001b[2K\u001b[4A\u001b[37m⠴\u001b[0m \u001b[2mPreparing packages...\u001b[0m (128/132)\n",
            "\u001b[2mtriton    \u001b[0m \u001b[32m------------------------------\u001b[2m\u001b[0m\u001b[0m 198.90 MiB/199.65 MiB\n",
            "\u001b[2mnvidia-cublas-cu12\u001b[0m \u001b[32m--------------------\u001b[2m----------\u001b[0m\u001b[0m 256.62 MiB/391.57 MiB\n",
            "\u001b[2mnvidia-cudnn-cu12\u001b[0m \u001b[32m--------------\u001b[2m----------------\u001b[0m\u001b[0m 284.66 MiB/633.96 MiB\n",
            "\u001b[2K\u001b[4A\u001b[37m⠦\u001b[0m \u001b[2mPreparing packages...\u001b[0m (128/132)\n",
            "\u001b[2mtriton    \u001b[0m \u001b[32m------------------------------\u001b[2m\u001b[0m\u001b[0m 198.90 MiB/199.65 MiB\n",
            "\u001b[2mnvidia-cublas-cu12\u001b[0m \u001b[32m--------------------\u001b[2m----------\u001b[0m\u001b[0m 257.29 MiB/391.57 MiB\n",
            "\u001b[2mnvidia-cudnn-cu12\u001b[0m \u001b[32m--------------\u001b[2m----------------\u001b[0m\u001b[0m 286.09 MiB/633.96 MiB\n",
            "\u001b[2K\u001b[4A\u001b[37m⠦\u001b[0m \u001b[2mPreparing packages...\u001b[0m (128/132)\n",
            "\u001b[2mtriton    \u001b[0m \u001b[32m------------------------------\u001b[2m\u001b[0m\u001b[0m 198.90 MiB/199.65 MiB\n",
            "\u001b[2mnvidia-cublas-cu12\u001b[0m \u001b[32m--------------------\u001b[2m----------\u001b[0m\u001b[0m 257.78 MiB/391.57 MiB\n",
            "\u001b[2mnvidia-cudnn-cu12\u001b[0m \u001b[32m--------------\u001b[2m----------------\u001b[0m\u001b[0m 287.56 MiB/633.96 MiB\n",
            "\u001b[2K\u001b[4A\u001b[37m⠦\u001b[0m \u001b[2mPreparing packages...\u001b[0m (128/132)\n",
            "\u001b[2mtriton    \u001b[0m \u001b[32m------------------------------\u001b[2m\u001b[0m\u001b[0m 198.92 MiB/199.65 MiB\n",
            "\u001b[2mnvidia-cublas-cu12\u001b[0m \u001b[32m--------------------\u001b[2m----------\u001b[0m\u001b[0m 258.99 MiB/391.57 MiB\n",
            "\u001b[2mnvidia-cudnn-cu12\u001b[0m \u001b[32m--------------\u001b[2m----------------\u001b[0m\u001b[0m 288.88 MiB/633.96 MiB\n",
            "\u001b[2K\u001b[4A\u001b[37m⠦\u001b[0m \u001b[2mPreparing packages...\u001b[0m (128/132)\n",
            "\u001b[2mtriton    \u001b[0m \u001b[32m------------------------------\u001b[2m\u001b[0m\u001b[0m 198.92 MiB/199.65 MiB\n",
            "\u001b[2mnvidia-cublas-cu12\u001b[0m \u001b[32m--------------------\u001b[2m----------\u001b[0m\u001b[0m 259.78 MiB/391.57 MiB\n",
            "\u001b[2mnvidia-cudnn-cu12\u001b[0m \u001b[32m--------------\u001b[2m----------------\u001b[0m\u001b[0m 289.79 MiB/633.96 MiB\n",
            "\u001b[2K\u001b[4A\u001b[37m⠧\u001b[0m \u001b[2mPreparing packages...\u001b[0m (128/132)\n",
            "\u001b[2mtriton    \u001b[0m \u001b[32m------------------------------\u001b[2m\u001b[0m\u001b[0m 198.92 MiB/199.65 MiB\n",
            "\u001b[2mnvidia-cublas-cu12\u001b[0m \u001b[32m--------------------\u001b[2m----------\u001b[0m\u001b[0m 260.96 MiB/391.57 MiB\n",
            "\u001b[2mnvidia-cudnn-cu12\u001b[0m \u001b[32m--------------\u001b[2m----------------\u001b[0m\u001b[0m 290.82 MiB/633.96 MiB\n",
            "\u001b[2K\u001b[4A\u001b[37m⠧\u001b[0m \u001b[2mPreparing packages...\u001b[0m (128/132)\n",
            "\u001b[2mtriton    \u001b[0m \u001b[32m------------------------------\u001b[2m\u001b[0m\u001b[0m 198.92 MiB/199.65 MiB\n",
            "\u001b[2mnvidia-cublas-cu12\u001b[0m \u001b[32m---------------------\u001b[2m---------\u001b[0m\u001b[0m 262.49 MiB/391.57 MiB\n",
            "\u001b[2mnvidia-cudnn-cu12\u001b[0m \u001b[32m--------------\u001b[2m----------------\u001b[0m\u001b[0m 292.25 MiB/633.96 MiB\n",
            "\u001b[2K\u001b[4A\u001b[37m⠧\u001b[0m \u001b[2mPreparing packages...\u001b[0m (128/132)\n",
            "\u001b[2mtriton    \u001b[0m \u001b[32m------------------------------\u001b[2m\u001b[0m\u001b[0m 198.92 MiB/199.65 MiB\n",
            "\u001b[2mnvidia-cublas-cu12\u001b[0m \u001b[32m---------------------\u001b[2m---------\u001b[0m\u001b[0m 262.97 MiB/391.57 MiB\n",
            "\u001b[2mnvidia-cudnn-cu12\u001b[0m \u001b[32m--------------\u001b[2m----------------\u001b[0m\u001b[0m 293.62 MiB/633.96 MiB\n",
            "\u001b[2K\u001b[4A\u001b[37m⠧\u001b[0m \u001b[2mPreparing packages...\u001b[0m (128/132)\n",
            "\u001b[2mtriton    \u001b[0m \u001b[32m------------------------------\u001b[2m\u001b[0m\u001b[0m 198.92 MiB/199.65 MiB\n",
            "\u001b[2mnvidia-cublas-cu12\u001b[0m \u001b[32m---------------------\u001b[2m---------\u001b[0m\u001b[0m 263.86 MiB/391.57 MiB\n",
            "\u001b[2mnvidia-cudnn-cu12\u001b[0m \u001b[32m--------------\u001b[2m----------------\u001b[0m\u001b[0m 294.87 MiB/633.96 MiB\n",
            "\u001b[2K\u001b[4A\u001b[37m⠇\u001b[0m \u001b[2mPreparing packages...\u001b[0m (128/132)\n",
            "\u001b[2mtriton    \u001b[0m \u001b[32m------------------------------\u001b[2m\u001b[0m\u001b[0m 198.93 MiB/199.65 MiB\n",
            "\u001b[2mnvidia-cublas-cu12\u001b[0m \u001b[32m---------------------\u001b[2m---------\u001b[0m\u001b[0m 265.54 MiB/391.57 MiB\n",
            "\u001b[2mnvidia-cudnn-cu12\u001b[0m \u001b[32m--------------\u001b[2m----------------\u001b[0m\u001b[0m 295.44 MiB/633.96 MiB\n",
            "\u001b[2K\u001b[4A\u001b[37m⠇\u001b[0m \u001b[2mPreparing packages...\u001b[0m (128/132)\n",
            "\u001b[2mtriton    \u001b[0m \u001b[32m------------------------------\u001b[2m\u001b[0m\u001b[0m 198.96 MiB/199.65 MiB\n",
            "\u001b[2mnvidia-cublas-cu12\u001b[0m \u001b[32m---------------------\u001b[2m---------\u001b[0m\u001b[0m 266.00 MiB/391.57 MiB\n",
            "\u001b[2mnvidia-cudnn-cu12\u001b[0m \u001b[32m---------------\u001b[2m---------------\u001b[0m\u001b[0m 296.91 MiB/633.96 MiB\n",
            "\u001b[2K\u001b[4A\u001b[37m⠇\u001b[0m \u001b[2mPreparing packages...\u001b[0m (128/132)\n",
            "\u001b[2mtriton    \u001b[0m \u001b[32m------------------------------\u001b[2m\u001b[0m\u001b[0m 198.96 MiB/199.65 MiB\n",
            "\u001b[2mnvidia-cublas-cu12\u001b[0m \u001b[32m---------------------\u001b[2m---------\u001b[0m\u001b[0m 267.02 MiB/391.57 MiB\n",
            "\u001b[2mnvidia-cudnn-cu12\u001b[0m \u001b[32m---------------\u001b[2m---------------\u001b[0m\u001b[0m 297.76 MiB/633.96 MiB\n",
            "\u001b[2K\u001b[4A\u001b[37m⠇\u001b[0m \u001b[2mPreparing packages...\u001b[0m (128/132)\n",
            "\u001b[2mtriton    \u001b[0m \u001b[32m------------------------------\u001b[2m\u001b[0m\u001b[0m 198.96 MiB/199.65 MiB\n",
            "\u001b[2mnvidia-cublas-cu12\u001b[0m \u001b[32m---------------------\u001b[2m---------\u001b[0m\u001b[0m 268.96 MiB/391.57 MiB\n",
            "\u001b[2mnvidia-cudnn-cu12\u001b[0m \u001b[32m---------------\u001b[2m---------------\u001b[0m\u001b[0m 298.56 MiB/633.96 MiB\n",
            "\u001b[2K\u001b[4A\u001b[37m⠋\u001b[0m \u001b[2mPreparing packages...\u001b[0m (128/132)\n",
            "\u001b[2mtriton    \u001b[0m \u001b[32m------------------------------\u001b[2m\u001b[0m\u001b[0m 198.96 MiB/199.65 MiB\n",
            "\u001b[2mnvidia-cublas-cu12\u001b[0m \u001b[32m---------------------\u001b[2m---------\u001b[0m\u001b[0m 268.96 MiB/391.57 MiB\n",
            "\u001b[2mnvidia-cudnn-cu12\u001b[0m \u001b[32m---------------\u001b[2m---------------\u001b[0m\u001b[0m 300.29 MiB/633.96 MiB\n",
            "\u001b[2K\u001b[4A\u001b[37m⠋\u001b[0m \u001b[2mPreparing packages...\u001b[0m (128/132)\n",
            "\u001b[2mtriton    \u001b[0m \u001b[32m------------------------------\u001b[2m\u001b[0m\u001b[0m 198.96 MiB/199.65 MiB\n",
            "\u001b[2mnvidia-cublas-cu12\u001b[0m \u001b[32m---------------------\u001b[2m---------\u001b[0m\u001b[0m 270.12 MiB/391.57 MiB\n",
            "\u001b[2mnvidia-cudnn-cu12\u001b[0m \u001b[32m---------------\u001b[2m---------------\u001b[0m\u001b[0m 301.75 MiB/633.96 MiB\n",
            "\u001b[2K\u001b[4A\u001b[37m⠋\u001b[0m \u001b[2mPreparing packages...\u001b[0m (128/132)\n",
            "\u001b[2mtriton    \u001b[0m \u001b[32m------------------------------\u001b[2m\u001b[0m\u001b[0m 198.98 MiB/199.65 MiB\n",
            "\u001b[2mnvidia-cublas-cu12\u001b[0m \u001b[32m---------------------\u001b[2m---------\u001b[0m\u001b[0m 271.62 MiB/391.57 MiB\n",
            "\u001b[2mnvidia-cudnn-cu12\u001b[0m \u001b[32m---------------\u001b[2m---------------\u001b[0m\u001b[0m 302.73 MiB/633.96 MiB\n",
            "\u001b[2K\u001b[4A\u001b[37m⠋\u001b[0m \u001b[2mPreparing packages...\u001b[0m (128/132)\n",
            "\u001b[2mtriton    \u001b[0m \u001b[32m------------------------------\u001b[2m\u001b[0m\u001b[0m 198.98 MiB/199.65 MiB\n",
            "\u001b[2mnvidia-cublas-cu12\u001b[0m \u001b[32m---------------------\u001b[2m---------\u001b[0m\u001b[0m 271.99 MiB/391.57 MiB\n",
            "\u001b[2mnvidia-cudnn-cu12\u001b[0m \u001b[32m---------------\u001b[2m---------------\u001b[0m\u001b[0m 303.65 MiB/633.96 MiB\n",
            "\u001b[2K\u001b[4A\u001b[37m⠙\u001b[0m \u001b[2mPreparing packages...\u001b[0m (128/132)\n",
            "\u001b[2mtriton    \u001b[0m \u001b[32m------------------------------\u001b[2m\u001b[0m\u001b[0m 198.98 MiB/199.65 MiB\n",
            "\u001b[2mnvidia-cublas-cu12\u001b[0m \u001b[32m---------------------\u001b[2m---------\u001b[0m\u001b[0m 272.96 MiB/391.57 MiB\n",
            "\u001b[2mnvidia-cudnn-cu12\u001b[0m \u001b[32m---------------\u001b[2m---------------\u001b[0m\u001b[0m 304.77 MiB/633.96 MiB\n",
            "\u001b[2K\u001b[4A\u001b[37m⠙\u001b[0m \u001b[2mPreparing packages...\u001b[0m (128/132)\n",
            "\u001b[2mtriton    \u001b[0m \u001b[32m------------------------------\u001b[2m\u001b[0m\u001b[0m 198.98 MiB/199.65 MiB\n",
            "\u001b[2mnvidia-cublas-cu12\u001b[0m \u001b[32m----------------------\u001b[2m--------\u001b[0m\u001b[0m 274.71 MiB/391.57 MiB\n",
            "\u001b[2mnvidia-cudnn-cu12\u001b[0m \u001b[32m---------------\u001b[2m---------------\u001b[0m\u001b[0m 305.50 MiB/633.96 MiB\n",
            "\u001b[2K\u001b[4A\u001b[37m⠙\u001b[0m \u001b[2mPreparing packages...\u001b[0m (128/132)\n",
            "\u001b[2mtriton    \u001b[0m \u001b[32m------------------------------\u001b[2m\u001b[0m\u001b[0m 199.00 MiB/199.65 MiB\n",
            "\u001b[2mnvidia-cublas-cu12\u001b[0m \u001b[32m----------------------\u001b[2m--------\u001b[0m\u001b[0m 275.38 MiB/391.57 MiB\n",
            "\u001b[2mnvidia-cudnn-cu12\u001b[0m \u001b[32m---------------\u001b[2m---------------\u001b[0m\u001b[0m 306.69 MiB/633.96 MiB\n",
            "\u001b[2K\u001b[4A\u001b[37m⠙\u001b[0m \u001b[2mPreparing packages...\u001b[0m (128/132)\n",
            "\u001b[2mtriton    \u001b[0m \u001b[32m------------------------------\u001b[2m\u001b[0m\u001b[0m 199.00 MiB/199.65 MiB\n",
            "\u001b[2mnvidia-cublas-cu12\u001b[0m \u001b[32m----------------------\u001b[2m--------\u001b[0m\u001b[0m 276.47 MiB/391.57 MiB\n",
            "\u001b[2mnvidia-cudnn-cu12\u001b[0m \u001b[32m---------------\u001b[2m---------------\u001b[0m\u001b[0m 308.09 MiB/633.96 MiB\n",
            "\u001b[2K\u001b[4A\u001b[37m⠹\u001b[0m \u001b[2mPreparing packages...\u001b[0m (128/132)\n",
            "\u001b[2mtriton    \u001b[0m \u001b[32m------------------------------\u001b[2m\u001b[0m\u001b[0m 199.00 MiB/199.65 MiB\n",
            "\u001b[2mnvidia-cublas-cu12\u001b[0m \u001b[32m----------------------\u001b[2m--------\u001b[0m\u001b[0m 277.14 MiB/391.57 MiB\n",
            "\u001b[2mnvidia-cudnn-cu12\u001b[0m \u001b[32m---------------\u001b[2m---------------\u001b[0m\u001b[0m 309.46 MiB/633.96 MiB\n",
            "\u001b[2K\u001b[4A\u001b[37m⠹\u001b[0m \u001b[2mPreparing packages...\u001b[0m (128/132)\n",
            "\u001b[2mtriton    \u001b[0m \u001b[32m------------------------------\u001b[2m\u001b[0m\u001b[0m 199.00 MiB/199.65 MiB\n",
            "\u001b[2mnvidia-cublas-cu12\u001b[0m \u001b[32m----------------------\u001b[2m--------\u001b[0m\u001b[0m 278.57 MiB/391.57 MiB\n",
            "\u001b[2mnvidia-cudnn-cu12\u001b[0m \u001b[32m---------------\u001b[2m---------------\u001b[0m\u001b[0m 310.78 MiB/633.96 MiB\n",
            "\u001b[2K\u001b[4A\u001b[37m⠹\u001b[0m \u001b[2mPreparing packages...\u001b[0m (128/132)\n",
            "\u001b[2mtriton    \u001b[0m \u001b[32m------------------------------\u001b[2m\u001b[0m\u001b[0m 199.00 MiB/199.65 MiB\n",
            "\u001b[2mnvidia-cublas-cu12\u001b[0m \u001b[32m----------------------\u001b[2m--------\u001b[0m\u001b[0m 279.71 MiB/391.57 MiB\n",
            "\u001b[2mnvidia-cudnn-cu12\u001b[0m \u001b[32m---------------\u001b[2m---------------\u001b[0m\u001b[0m 311.58 MiB/633.96 MiB\n",
            "\u001b[2K\u001b[4A\u001b[37m⠹\u001b[0m \u001b[2mPreparing packages...\u001b[0m (128/132)\n",
            "\u001b[2mtriton    \u001b[0m \u001b[32m------------------------------\u001b[2m\u001b[0m\u001b[0m 199.00 MiB/199.65 MiB\n",
            "\u001b[2mnvidia-cublas-cu12\u001b[0m \u001b[32m----------------------\u001b[2m--------\u001b[0m\u001b[0m 279.94 MiB/391.57 MiB\n",
            "\u001b[2mnvidia-cudnn-cu12\u001b[0m \u001b[32m---------------\u001b[2m---------------\u001b[0m\u001b[0m 313.42 MiB/633.96 MiB\n",
            "\u001b[2K\u001b[4A\u001b[37m⠸\u001b[0m \u001b[2mPreparing packages...\u001b[0m (128/132)\n",
            "\u001b[2mtriton    \u001b[0m \u001b[32m------------------------------\u001b[2m\u001b[0m\u001b[0m 199.00 MiB/199.65 MiB\n",
            "\u001b[2mnvidia-cublas-cu12\u001b[0m \u001b[32m----------------------\u001b[2m--------\u001b[0m\u001b[0m 281.22 MiB/391.57 MiB\n",
            "\u001b[2mnvidia-cudnn-cu12\u001b[0m \u001b[32m---------------\u001b[2m---------------\u001b[0m\u001b[0m 314.45 MiB/633.96 MiB\n",
            "\u001b[2K\u001b[4A\u001b[37m⠸\u001b[0m \u001b[2mPreparing packages...\u001b[0m (128/132)\n",
            "\u001b[2mtriton    \u001b[0m \u001b[32m------------------------------\u001b[2m\u001b[0m\u001b[0m 199.02 MiB/199.65 MiB\n",
            "\u001b[2mnvidia-cublas-cu12\u001b[0m \u001b[32m----------------------\u001b[2m--------\u001b[0m\u001b[0m 281.94 MiB/391.57 MiB\n",
            "\u001b[2mnvidia-cudnn-cu12\u001b[0m \u001b[32m---------------\u001b[2m---------------\u001b[0m\u001b[0m 315.80 MiB/633.96 MiB\n",
            "\u001b[2K\u001b[4A\u001b[37m⠸\u001b[0m \u001b[2mPreparing packages...\u001b[0m (128/132)\n",
            "\u001b[2mtriton    \u001b[0m \u001b[32m------------------------------\u001b[2m\u001b[0m\u001b[0m 199.02 MiB/199.65 MiB\n",
            "\u001b[2mnvidia-cublas-cu12\u001b[0m \u001b[32m----------------------\u001b[2m--------\u001b[0m\u001b[0m 282.70 MiB/391.57 MiB\n",
            "\u001b[2mnvidia-cudnn-cu12\u001b[0m \u001b[32m----------------\u001b[2m--------------\u001b[0m\u001b[0m 317.64 MiB/633.96 MiB\n",
            "\u001b[2K\u001b[4A\u001b[37m⠸\u001b[0m \u001b[2mPreparing packages...\u001b[0m (128/132)\n",
            "\u001b[2mtriton    \u001b[0m \u001b[32m------------------------------\u001b[2m\u001b[0m\u001b[0m 199.02 MiB/199.65 MiB\n",
            "\u001b[2mnvidia-cublas-cu12\u001b[0m \u001b[32m----------------------\u001b[2m--------\u001b[0m\u001b[0m 283.76 MiB/391.57 MiB\n",
            "\u001b[2mnvidia-cudnn-cu12\u001b[0m \u001b[32m----------------\u001b[2m--------------\u001b[0m\u001b[0m 317.91 MiB/633.96 MiB\n",
            "\u001b[2K\u001b[4A\u001b[37m⠼\u001b[0m \u001b[2mPreparing packages...\u001b[0m (128/132)\n",
            "\u001b[2mtriton    \u001b[0m \u001b[32m------------------------------\u001b[2m\u001b[0m\u001b[0m 199.03 MiB/199.65 MiB\n",
            "\u001b[2mnvidia-cublas-cu12\u001b[0m \u001b[32m----------------------\u001b[2m--------\u001b[0m\u001b[0m 284.69 MiB/391.57 MiB\n",
            "\u001b[2mnvidia-cudnn-cu12\u001b[0m \u001b[32m----------------\u001b[2m--------------\u001b[0m\u001b[0m 319.88 MiB/633.96 MiB\n",
            "\u001b[2K\u001b[4A\u001b[37m⠼\u001b[0m \u001b[2mPreparing packages...\u001b[0m (128/132)\n",
            "\u001b[2mtriton    \u001b[0m \u001b[32m------------------------------\u001b[2m\u001b[0m\u001b[0m 199.03 MiB/199.65 MiB\n",
            "\u001b[2mnvidia-cublas-cu12\u001b[0m \u001b[32m----------------------\u001b[2m--------\u001b[0m\u001b[0m 285.70 MiB/391.57 MiB\n",
            "\u001b[2mnvidia-cudnn-cu12\u001b[0m \u001b[32m----------------\u001b[2m--------------\u001b[0m\u001b[0m 321.18 MiB/633.96 MiB\n",
            "\u001b[2K\u001b[4A\u001b[37m⠼\u001b[0m \u001b[2mPreparing packages...\u001b[0m (128/132)\n",
            "\u001b[2mtriton    \u001b[0m \u001b[32m------------------------------\u001b[2m\u001b[0m\u001b[0m 199.03 MiB/199.65 MiB\n",
            "\u001b[2mnvidia-cublas-cu12\u001b[0m \u001b[32m----------------------\u001b[2m--------\u001b[0m\u001b[0m 286.99 MiB/391.57 MiB\n",
            "\u001b[2mnvidia-cudnn-cu12\u001b[0m \u001b[32m----------------\u001b[2m--------------\u001b[0m\u001b[0m 322.37 MiB/633.96 MiB\n",
            "\u001b[2K\u001b[4A\u001b[37m⠼\u001b[0m \u001b[2mPreparing packages...\u001b[0m (128/132)\n",
            "\u001b[2mtriton    \u001b[0m \u001b[32m------------------------------\u001b[2m\u001b[0m\u001b[0m 199.03 MiB/199.65 MiB\n",
            "\u001b[2mnvidia-cublas-cu12\u001b[0m \u001b[32m-----------------------\u001b[2m-------\u001b[0m\u001b[0m 287.56 MiB/391.57 MiB\n",
            "\u001b[2mnvidia-cudnn-cu12\u001b[0m \u001b[32m----------------\u001b[2m--------------\u001b[0m\u001b[0m 324.22 MiB/633.96 MiB\n",
            "\u001b[2K\u001b[4A\u001b[37m⠴\u001b[0m \u001b[2mPreparing packages...\u001b[0m (128/132)\n",
            "\u001b[2mtriton    \u001b[0m \u001b[32m------------------------------\u001b[2m\u001b[0m\u001b[0m 199.05 MiB/199.65 MiB\n",
            "\u001b[2mnvidia-cublas-cu12\u001b[0m \u001b[32m-----------------------\u001b[2m-------\u001b[0m\u001b[0m 288.53 MiB/391.57 MiB\n",
            "\u001b[2mnvidia-cudnn-cu12\u001b[0m \u001b[32m----------------\u001b[2m--------------\u001b[0m\u001b[0m 325.00 MiB/633.96 MiB\n",
            "\u001b[2K\u001b[4A\u001b[37m⠴\u001b[0m \u001b[2mPreparing packages...\u001b[0m (128/132)\n",
            "\u001b[2mtriton    \u001b[0m \u001b[32m------------------------------\u001b[2m\u001b[0m\u001b[0m 199.05 MiB/199.65 MiB\n",
            "\u001b[2mnvidia-cublas-cu12\u001b[0m \u001b[32m-----------------------\u001b[2m-------\u001b[0m\u001b[0m 289.30 MiB/391.57 MiB\n",
            "\u001b[2mnvidia-cudnn-cu12\u001b[0m \u001b[32m----------------\u001b[2m--------------\u001b[0m\u001b[0m 326.73 MiB/633.96 MiB\n",
            "\u001b[2K\u001b[4A\u001b[37m⠴\u001b[0m \u001b[2mPreparing packages...\u001b[0m (128/132)\n",
            "\u001b[2mtriton    \u001b[0m \u001b[32m------------------------------\u001b[2m\u001b[0m\u001b[0m 199.05 MiB/199.65 MiB\n",
            "\u001b[2mnvidia-cublas-cu12\u001b[0m \u001b[32m-----------------------\u001b[2m-------\u001b[0m\u001b[0m 290.65 MiB/391.57 MiB\n",
            "\u001b[2mnvidia-cudnn-cu12\u001b[0m \u001b[32m----------------\u001b[2m--------------\u001b[0m\u001b[0m 327.50 MiB/633.96 MiB\n",
            "\u001b[2K\u001b[4A\u001b[37m⠴\u001b[0m \u001b[2mPreparing packages...\u001b[0m (128/132)\n",
            "\u001b[2mtriton    \u001b[0m \u001b[32m------------------------------\u001b[2m\u001b[0m\u001b[0m 199.05 MiB/199.65 MiB\n",
            "\u001b[2mnvidia-cublas-cu12\u001b[0m \u001b[32m-----------------------\u001b[2m-------\u001b[0m\u001b[0m 291.48 MiB/391.57 MiB\n",
            "\u001b[2mnvidia-cudnn-cu12\u001b[0m \u001b[32m----------------\u001b[2m--------------\u001b[0m\u001b[0m 329.35 MiB/633.96 MiB\n",
            "\u001b[2K\u001b[4A\u001b[37m⠦\u001b[0m \u001b[2mPreparing packages...\u001b[0m (128/132)\n",
            "\u001b[2mtriton    \u001b[0m \u001b[32m------------------------------\u001b[2m\u001b[0m\u001b[0m 199.05 MiB/199.65 MiB\n",
            "\u001b[2mnvidia-cublas-cu12\u001b[0m \u001b[32m-----------------------\u001b[2m-------\u001b[0m\u001b[0m 292.70 MiB/391.57 MiB\n",
            "\u001b[2mnvidia-cudnn-cu12\u001b[0m \u001b[32m----------------\u001b[2m--------------\u001b[0m\u001b[0m 330.02 MiB/633.96 MiB\n",
            "\u001b[2K\u001b[4A\u001b[37m⠦\u001b[0m \u001b[2mPreparing packages...\u001b[0m (128/132)\n",
            "\u001b[2mtriton    \u001b[0m \u001b[32m------------------------------\u001b[2m\u001b[0m\u001b[0m 199.06 MiB/199.65 MiB\n",
            "\u001b[2mnvidia-cublas-cu12\u001b[0m \u001b[32m-----------------------\u001b[2m-------\u001b[0m\u001b[0m 293.60 MiB/391.57 MiB\n",
            "\u001b[2mnvidia-cudnn-cu12\u001b[0m \u001b[32m----------------\u001b[2m--------------\u001b[0m\u001b[0m 331.87 MiB/633.96 MiB\n",
            "\u001b[2K\u001b[4A\u001b[37m⠦\u001b[0m \u001b[2mPreparing packages...\u001b[0m (128/132)\n",
            "\u001b[2mtriton    \u001b[0m \u001b[32m------------------------------\u001b[2m\u001b[0m\u001b[0m 199.06 MiB/199.65 MiB\n",
            "\u001b[2mnvidia-cublas-cu12\u001b[0m \u001b[32m-----------------------\u001b[2m-------\u001b[0m\u001b[0m 294.67 MiB/391.57 MiB\n",
            "\u001b[2mnvidia-cudnn-cu12\u001b[0m \u001b[32m----------------\u001b[2m--------------\u001b[0m\u001b[0m 332.87 MiB/633.96 MiB\n",
            "\u001b[2K\u001b[4A\u001b[37m⠦\u001b[0m \u001b[2mPreparing packages...\u001b[0m (128/132)\n",
            "\u001b[2mtriton    \u001b[0m \u001b[32m------------------------------\u001b[2m\u001b[0m\u001b[0m 199.06 MiB/199.65 MiB\n",
            "\u001b[2mnvidia-cublas-cu12\u001b[0m \u001b[32m-----------------------\u001b[2m-------\u001b[0m\u001b[0m 295.82 MiB/391.57 MiB\n",
            "\u001b[2mnvidia-cudnn-cu12\u001b[0m \u001b[32m----------------\u001b[2m--------------\u001b[0m\u001b[0m 333.92 MiB/633.96 MiB\n",
            "\u001b[2K\u001b[4A\u001b[37m⠧\u001b[0m \u001b[2mPreparing packages...\u001b[0m (128/132)\n",
            "\u001b[2mtriton    \u001b[0m \u001b[32m------------------------------\u001b[2m\u001b[0m\u001b[0m 199.06 MiB/199.65 MiB\n",
            "\u001b[2mnvidia-cublas-cu12\u001b[0m \u001b[32m-----------------------\u001b[2m-------\u001b[0m\u001b[0m 296.74 MiB/391.57 MiB\n",
            "\u001b[2mnvidia-cudnn-cu12\u001b[0m \u001b[32m----------------\u001b[2m--------------\u001b[0m\u001b[0m 335.45 MiB/633.96 MiB\n",
            "\u001b[2K\u001b[4A\u001b[37m⠧\u001b[0m \u001b[2mPreparing packages...\u001b[0m (128/132)\n",
            "\u001b[2mtriton    \u001b[0m \u001b[32m------------------------------\u001b[2m\u001b[0m\u001b[0m 199.06 MiB/199.65 MiB\n",
            "\u001b[2mnvidia-cublas-cu12\u001b[0m \u001b[32m-----------------------\u001b[2m-------\u001b[0m\u001b[0m 297.35 MiB/391.57 MiB\n",
            "\u001b[2mnvidia-cudnn-cu12\u001b[0m \u001b[32m----------------\u001b[2m--------------\u001b[0m\u001b[0m 336.70 MiB/633.96 MiB\n",
            "\u001b[2K\u001b[4A\u001b[37m⠧\u001b[0m \u001b[2mPreparing packages...\u001b[0m (128/132)\n",
            "\u001b[2mtriton    \u001b[0m \u001b[32m------------------------------\u001b[2m\u001b[0m\u001b[0m 199.08 MiB/199.65 MiB\n",
            "\u001b[2mnvidia-cublas-cu12\u001b[0m \u001b[32m-----------------------\u001b[2m-------\u001b[0m\u001b[0m 298.74 MiB/391.57 MiB\n",
            "\u001b[2mnvidia-cudnn-cu12\u001b[0m \u001b[32m----------------\u001b[2m--------------\u001b[0m\u001b[0m 337.86 MiB/633.96 MiB\n",
            "\u001b[2K\u001b[4A\u001b[37m⠧\u001b[0m \u001b[2mPreparing packages...\u001b[0m (128/132)\n",
            "\u001b[2mtriton    \u001b[0m \u001b[32m------------------------------\u001b[2m\u001b[0m\u001b[0m 199.08 MiB/199.65 MiB\n",
            "\u001b[2mnvidia-cublas-cu12\u001b[0m \u001b[32m------------------------\u001b[2m------\u001b[0m\u001b[0m 300.25 MiB/391.57 MiB\n",
            "\u001b[2mnvidia-cudnn-cu12\u001b[0m \u001b[32m-----------------\u001b[2m-------------\u001b[0m\u001b[0m 338.65 MiB/633.96 MiB\n",
            "\u001b[2K\u001b[4A\u001b[37m⠇\u001b[0m \u001b[2mPreparing packages...\u001b[0m (128/132)\n",
            "\u001b[2mtriton    \u001b[0m \u001b[32m------------------------------\u001b[2m\u001b[0m\u001b[0m 199.08 MiB/199.65 MiB\n",
            "\u001b[2mnvidia-cublas-cu12\u001b[0m \u001b[32m------------------------\u001b[2m------\u001b[0m\u001b[0m 300.83 MiB/391.57 MiB\n",
            "\u001b[2mnvidia-cudnn-cu12\u001b[0m \u001b[32m-----------------\u001b[2m-------------\u001b[0m\u001b[0m 339.98 MiB/633.96 MiB\n",
            "\u001b[2K\u001b[4A\u001b[37m⠇\u001b[0m \u001b[2mPreparing packages...\u001b[0m (128/132)\n",
            "\u001b[2mtriton    \u001b[0m \u001b[32m------------------------------\u001b[2m\u001b[0m\u001b[0m 199.08 MiB/199.65 MiB\n",
            "\u001b[2mnvidia-cublas-cu12\u001b[0m \u001b[32m------------------------\u001b[2m------\u001b[0m\u001b[0m 301.93 MiB/391.57 MiB\n",
            "\u001b[2mnvidia-cudnn-cu12\u001b[0m \u001b[32m-----------------\u001b[2m-------------\u001b[0m\u001b[0m 341.98 MiB/633.96 MiB\n",
            "\u001b[2K\u001b[4A\u001b[37m⠇\u001b[0m \u001b[2mPreparing packages...\u001b[0m (128/132)\n",
            "\u001b[2mtriton    \u001b[0m \u001b[32m------------------------------\u001b[2m\u001b[0m\u001b[0m 199.08 MiB/199.65 MiB\n",
            "\u001b[2mnvidia-cublas-cu12\u001b[0m \u001b[32m------------------------\u001b[2m------\u001b[0m\u001b[0m 303.00 MiB/391.57 MiB\n",
            "\u001b[2mnvidia-cudnn-cu12\u001b[0m \u001b[32m-----------------\u001b[2m-------------\u001b[0m\u001b[0m 342.61 MiB/633.96 MiB\n",
            "\u001b[2K\u001b[4A\u001b[37m⠇\u001b[0m \u001b[2mPreparing packages...\u001b[0m (128/132)\n",
            "\u001b[2mtriton    \u001b[0m \u001b[32m------------------------------\u001b[2m\u001b[0m\u001b[0m 199.08 MiB/199.65 MiB\n",
            "\u001b[2mnvidia-cublas-cu12\u001b[0m \u001b[32m------------------------\u001b[2m------\u001b[0m\u001b[0m 303.98 MiB/391.57 MiB\n",
            "\u001b[2mnvidia-cudnn-cu12\u001b[0m \u001b[32m-----------------\u001b[2m-------------\u001b[0m\u001b[0m 344.61 MiB/633.96 MiB\n",
            "\u001b[2K\u001b[4A\u001b[37m⠋\u001b[0m \u001b[2mPreparing packages...\u001b[0m (128/132)\n",
            "\u001b[2mtriton    \u001b[0m \u001b[32m------------------------------\u001b[2m\u001b[0m\u001b[0m 199.09 MiB/199.65 MiB\n",
            "\u001b[2mnvidia-cublas-cu12\u001b[0m \u001b[32m------------------------\u001b[2m------\u001b[0m\u001b[0m 304.66 MiB/391.57 MiB\n",
            "\u001b[2mnvidia-cudnn-cu12\u001b[0m \u001b[32m-----------------\u001b[2m-------------\u001b[0m\u001b[0m 345.68 MiB/633.96 MiB\n",
            "\u001b[2K\u001b[4A\u001b[37m⠋\u001b[0m \u001b[2mPreparing packages...\u001b[0m (128/132)\n",
            "\u001b[2mtriton    \u001b[0m \u001b[32m------------------------------\u001b[2m\u001b[0m\u001b[0m 199.09 MiB/199.65 MiB\n",
            "\u001b[2mnvidia-cublas-cu12\u001b[0m \u001b[32m------------------------\u001b[2m------\u001b[0m\u001b[0m 306.15 MiB/391.57 MiB\n",
            "\u001b[2mnvidia-cudnn-cu12\u001b[0m \u001b[32m-----------------\u001b[2m-------------\u001b[0m\u001b[0m 346.53 MiB/633.96 MiB\n",
            "\u001b[2K\u001b[4A\u001b[37m⠋\u001b[0m \u001b[2mPreparing packages...\u001b[0m (128/132)\n",
            "\u001b[2mtriton    \u001b[0m \u001b[32m------------------------------\u001b[2m\u001b[0m\u001b[0m 199.09 MiB/199.65 MiB\n",
            "\u001b[2mnvidia-cublas-cu12\u001b[0m \u001b[32m------------------------\u001b[2m------\u001b[0m\u001b[0m 306.65 MiB/391.57 MiB\n",
            "\u001b[2mnvidia-cudnn-cu12\u001b[0m \u001b[32m-----------------\u001b[2m-------------\u001b[0m\u001b[0m 348.41 MiB/633.96 MiB\n",
            "\u001b[2K\u001b[4A\u001b[37m⠋\u001b[0m \u001b[2mPreparing packages...\u001b[0m (128/132)\n",
            "\u001b[2mtriton    \u001b[0m \u001b[32m------------------------------\u001b[2m\u001b[0m\u001b[0m 199.09 MiB/199.65 MiB\n",
            "\u001b[2mnvidia-cublas-cu12\u001b[0m \u001b[32m------------------------\u001b[2m------\u001b[0m\u001b[0m 307.94 MiB/391.57 MiB\n",
            "\u001b[2mnvidia-cudnn-cu12\u001b[0m \u001b[32m-----------------\u001b[2m-------------\u001b[0m\u001b[0m 349.26 MiB/633.96 MiB\n",
            "\u001b[2K\u001b[4A\u001b[37m⠙\u001b[0m \u001b[2mPreparing packages...\u001b[0m (128/132)\n",
            "\u001b[2mtriton    \u001b[0m \u001b[32m------------------------------\u001b[2m\u001b[0m\u001b[0m 199.09 MiB/199.65 MiB\n",
            "\u001b[2mnvidia-cublas-cu12\u001b[0m \u001b[32m------------------------\u001b[2m------\u001b[0m\u001b[0m 308.78 MiB/391.57 MiB\n",
            "\u001b[2mnvidia-cudnn-cu12\u001b[0m \u001b[32m-----------------\u001b[2m-------------\u001b[0m\u001b[0m 351.03 MiB/633.96 MiB\n",
            "\u001b[2K\u001b[4A\u001b[37m⠙\u001b[0m \u001b[2mPreparing packages...\u001b[0m (128/132)\n",
            "\u001b[2mtriton    \u001b[0m \u001b[32m------------------------------\u001b[2m\u001b[0m\u001b[0m 199.09 MiB/199.65 MiB\n",
            "\u001b[2mnvidia-cublas-cu12\u001b[0m \u001b[32m------------------------\u001b[2m------\u001b[0m\u001b[0m 309.79 MiB/391.57 MiB\n",
            "\u001b[2mnvidia-cudnn-cu12\u001b[0m \u001b[32m-----------------\u001b[2m-------------\u001b[0m\u001b[0m 351.97 MiB/633.96 MiB\n",
            "\u001b[2K\u001b[4A\u001b[37m⠙\u001b[0m \u001b[2mPreparing packages...\u001b[0m (128/132)\n",
            "\u001b[2mtriton    \u001b[0m \u001b[32m------------------------------\u001b[2m\u001b[0m\u001b[0m 199.11 MiB/199.65 MiB\n",
            "\u001b[2mnvidia-cublas-cu12\u001b[0m \u001b[32m------------------------\u001b[2m------\u001b[0m\u001b[0m 310.67 MiB/391.57 MiB\n",
            "\u001b[2mnvidia-cudnn-cu12\u001b[0m \u001b[32m-----------------\u001b[2m-------------\u001b[0m\u001b[0m 353.12 MiB/633.96 MiB\n",
            "\u001b[2K\u001b[4A\u001b[37m⠙\u001b[0m \u001b[2mPreparing packages...\u001b[0m (128/132)\n",
            "\u001b[2mtriton    \u001b[0m \u001b[32m------------------------------\u001b[2m\u001b[0m\u001b[0m 199.11 MiB/199.65 MiB\n",
            "\u001b[2mnvidia-cublas-cu12\u001b[0m \u001b[32m------------------------\u001b[2m------\u001b[0m\u001b[0m 311.97 MiB/391.57 MiB\n",
            "\u001b[2mnvidia-cudnn-cu12\u001b[0m \u001b[32m-----------------\u001b[2m-------------\u001b[0m\u001b[0m 354.44 MiB/633.96 MiB\n",
            "\u001b[2K\u001b[4A\u001b[37m⠹\u001b[0m \u001b[2mPreparing packages...\u001b[0m (128/132)\n",
            "\u001b[2mtriton    \u001b[0m \u001b[32m------------------------------\u001b[2m\u001b[0m\u001b[0m 199.11 MiB/199.65 MiB\n",
            "\u001b[2mnvidia-cublas-cu12\u001b[0m \u001b[32m------------------------\u001b[2m------\u001b[0m\u001b[0m 312.65 MiB/391.57 MiB\n",
            "\u001b[2mnvidia-cudnn-cu12\u001b[0m \u001b[32m-----------------\u001b[2m-------------\u001b[0m\u001b[0m 356.05 MiB/633.96 MiB\n",
            "\u001b[2K\u001b[4A\u001b[37m⠹\u001b[0m \u001b[2mPreparing packages...\u001b[0m (128/132)\n",
            "\u001b[2mtriton    \u001b[0m \u001b[32m------------------------------\u001b[2m\u001b[0m\u001b[0m 199.11 MiB/199.65 MiB\n",
            "\u001b[2mnvidia-cublas-cu12\u001b[0m \u001b[32m-------------------------\u001b[2m-----\u001b[0m\u001b[0m 313.93 MiB/391.57 MiB\n",
            "\u001b[2mnvidia-cudnn-cu12\u001b[0m \u001b[32m-----------------\u001b[2m-------------\u001b[0m\u001b[0m 356.87 MiB/633.96 MiB\n",
            "\u001b[2K\u001b[4A\u001b[37m⠹\u001b[0m \u001b[2mPreparing packages...\u001b[0m (128/132)\n",
            "\u001b[2mtriton    \u001b[0m \u001b[32m------------------------------\u001b[2m\u001b[0m\u001b[0m 199.12 MiB/199.65 MiB\n",
            "\u001b[2mnvidia-cublas-cu12\u001b[0m \u001b[32m-------------------------\u001b[2m-----\u001b[0m\u001b[0m 314.66 MiB/391.57 MiB\n",
            "\u001b[2mnvidia-cudnn-cu12\u001b[0m \u001b[32m-----------------\u001b[2m-------------\u001b[0m\u001b[0m 358.54 MiB/633.96 MiB\n",
            "\u001b[2K\u001b[4A\u001b[37m⠹\u001b[0m \u001b[2mPreparing packages...\u001b[0m (128/132)\n",
            "\u001b[2mtriton    \u001b[0m \u001b[32m------------------------------\u001b[2m\u001b[0m\u001b[0m 199.12 MiB/199.65 MiB\n",
            "\u001b[2mnvidia-cublas-cu12\u001b[0m \u001b[32m-------------------------\u001b[2m-----\u001b[0m\u001b[0m 315.97 MiB/391.57 MiB\n",
            "\u001b[2mnvidia-cudnn-cu12\u001b[0m \u001b[32m------------------\u001b[2m------------\u001b[0m\u001b[0m 359.40 MiB/633.96 MiB\n",
            "\u001b[2K\u001b[4A\u001b[37m⠸\u001b[0m \u001b[2mPreparing packages...\u001b[0m (128/132)\n",
            "\u001b[2mtriton    \u001b[0m \u001b[32m------------------------------\u001b[2m\u001b[0m\u001b[0m 199.12 MiB/199.65 MiB\n",
            "\u001b[2mnvidia-cublas-cu12\u001b[0m \u001b[32m-------------------------\u001b[2m-----\u001b[0m\u001b[0m 316.68 MiB/391.57 MiB\n",
            "\u001b[2mnvidia-cudnn-cu12\u001b[0m \u001b[32m------------------\u001b[2m------------\u001b[0m\u001b[0m 361.09 MiB/633.96 MiB\n",
            "\u001b[2K\u001b[4A\u001b[37m⠸\u001b[0m \u001b[2mPreparing packages...\u001b[0m (128/132)\n",
            "\u001b[2mtriton    \u001b[0m \u001b[32m------------------------------\u001b[2m\u001b[0m\u001b[0m 199.12 MiB/199.65 MiB\n",
            "\u001b[2mnvidia-cublas-cu12\u001b[0m \u001b[32m-------------------------\u001b[2m-----\u001b[0m\u001b[0m 317.99 MiB/391.57 MiB\n",
            "\u001b[2mnvidia-cudnn-cu12\u001b[0m \u001b[32m------------------\u001b[2m------------\u001b[0m\u001b[0m 362.14 MiB/633.96 MiB\n",
            "\u001b[2K\u001b[4A\u001b[37m⠸\u001b[0m \u001b[2mPreparing packages...\u001b[0m (128/132)\n",
            "\u001b[2mtriton    \u001b[0m \u001b[32m------------------------------\u001b[2m\u001b[0m\u001b[0m 199.14 MiB/199.65 MiB\n",
            "\u001b[2mnvidia-cublas-cu12\u001b[0m \u001b[32m-------------------------\u001b[2m-----\u001b[0m\u001b[0m 318.65 MiB/391.57 MiB\n",
            "\u001b[2mnvidia-cudnn-cu12\u001b[0m \u001b[32m------------------\u001b[2m------------\u001b[0m\u001b[0m 364.17 MiB/633.96 MiB\n",
            "\u001b[2K\u001b[4A\u001b[37m⠸\u001b[0m \u001b[2mPreparing packages...\u001b[0m (128/132)\n",
            "\u001b[2mtriton    \u001b[0m \u001b[32m------------------------------\u001b[2m\u001b[0m\u001b[0m 199.14 MiB/199.65 MiB\n",
            "\u001b[2mnvidia-cublas-cu12\u001b[0m \u001b[32m-------------------------\u001b[2m-----\u001b[0m\u001b[0m 319.88 MiB/391.57 MiB\n",
            "\u001b[2mnvidia-cudnn-cu12\u001b[0m \u001b[32m------------------\u001b[2m------------\u001b[0m\u001b[0m 364.84 MiB/633.96 MiB\n",
            "\u001b[2K\u001b[4A\u001b[37m⠼\u001b[0m \u001b[2mPreparing packages...\u001b[0m (128/132)\n",
            "\u001b[2mtriton    \u001b[0m \u001b[32m------------------------------\u001b[2m\u001b[0m\u001b[0m 199.14 MiB/199.65 MiB\n",
            "\u001b[2mnvidia-cublas-cu12\u001b[0m \u001b[32m-------------------------\u001b[2m-----\u001b[0m\u001b[0m 320.61 MiB/391.57 MiB\n",
            "\u001b[2mnvidia-cudnn-cu12\u001b[0m \u001b[32m------------------\u001b[2m------------\u001b[0m\u001b[0m 366.37 MiB/633.96 MiB\n",
            "\u001b[2K\u001b[4A\u001b[37m⠼\u001b[0m \u001b[2mPreparing packages...\u001b[0m (128/132)\n",
            "\u001b[2mtriton    \u001b[0m \u001b[32m------------------------------\u001b[2m\u001b[0m\u001b[0m 199.14 MiB/199.65 MiB\n",
            "\u001b[2mnvidia-cublas-cu12\u001b[0m \u001b[32m-------------------------\u001b[2m-----\u001b[0m\u001b[0m 321.19 MiB/391.57 MiB\n",
            "\u001b[2mnvidia-cudnn-cu12\u001b[0m \u001b[32m------------------\u001b[2m------------\u001b[0m\u001b[0m 367.61 MiB/633.96 MiB\n",
            "\u001b[2K\u001b[4A\u001b[37m⠼\u001b[0m \u001b[2mPreparing packages...\u001b[0m (128/132)\n",
            "\u001b[2mtriton    \u001b[0m \u001b[32m------------------------------\u001b[2m\u001b[0m\u001b[0m 199.16 MiB/199.65 MiB\n",
            "\u001b[2mnvidia-cublas-cu12\u001b[0m \u001b[32m-------------------------\u001b[2m-----\u001b[0m\u001b[0m 322.55 MiB/391.57 MiB\n",
            "\u001b[2mnvidia-cudnn-cu12\u001b[0m \u001b[32m------------------\u001b[2m------------\u001b[0m\u001b[0m 369.08 MiB/633.96 MiB\n",
            "\u001b[2K\u001b[4A\u001b[37m⠼\u001b[0m \u001b[2mPreparing packages...\u001b[0m (128/132)\n",
            "\u001b[2mtriton    \u001b[0m \u001b[32m------------------------------\u001b[2m\u001b[0m\u001b[0m 199.16 MiB/199.65 MiB\n",
            "\u001b[2mnvidia-cublas-cu12\u001b[0m \u001b[32m-------------------------\u001b[2m-----\u001b[0m\u001b[0m 323.92 MiB/391.57 MiB\n",
            "\u001b[2mnvidia-cudnn-cu12\u001b[0m \u001b[32m------------------\u001b[2m------------\u001b[0m\u001b[0m 370.05 MiB/633.96 MiB\n",
            "\u001b[2K\u001b[4A\u001b[37m⠴\u001b[0m \u001b[2mPreparing packages...\u001b[0m (128/132)\n",
            "\u001b[2mtriton    \u001b[0m \u001b[32m------------------------------\u001b[2m\u001b[0m\u001b[0m 199.16 MiB/199.65 MiB\n",
            "\u001b[2mnvidia-cublas-cu12\u001b[0m \u001b[32m-------------------------\u001b[2m-----\u001b[0m\u001b[0m 324.09 MiB/391.57 MiB\n",
            "\u001b[2mnvidia-cudnn-cu12\u001b[0m \u001b[32m------------------\u001b[2m------------\u001b[0m\u001b[0m 371.62 MiB/633.96 MiB\n",
            "\u001b[2K\u001b[4A\u001b[37m⠴\u001b[0m \u001b[2mPreparing packages...\u001b[0m (128/132)\n",
            "\u001b[2mtriton    \u001b[0m \u001b[32m------------------------------\u001b[2m\u001b[0m\u001b[0m 199.16 MiB/199.65 MiB\n",
            "\u001b[2mnvidia-cublas-cu12\u001b[0m \u001b[32m-------------------------\u001b[2m-----\u001b[0m\u001b[0m 325.41 MiB/391.57 MiB\n",
            "\u001b[2mnvidia-cudnn-cu12\u001b[0m \u001b[32m------------------\u001b[2m------------\u001b[0m\u001b[0m 372.76 MiB/633.96 MiB\n",
            "\u001b[2K\u001b[4A\u001b[37m⠴\u001b[0m \u001b[2mPreparing packages...\u001b[0m (128/132)\n",
            "\u001b[2mtriton    \u001b[0m \u001b[32m------------------------------\u001b[2m\u001b[0m\u001b[0m 199.19 MiB/199.65 MiB\n",
            "\u001b[2mnvidia-cublas-cu12\u001b[0m \u001b[32m-------------------------\u001b[2m-----\u001b[0m\u001b[0m 325.99 MiB/391.57 MiB\n",
            "\u001b[2mnvidia-cudnn-cu12\u001b[0m \u001b[32m------------------\u001b[2m------------\u001b[0m\u001b[0m 374.24 MiB/633.96 MiB\n",
            "\u001b[2K\u001b[4A\u001b[37m⠴\u001b[0m \u001b[2mPreparing packages...\u001b[0m (128/132)\n",
            "\u001b[2mtriton    \u001b[0m \u001b[32m------------------------------\u001b[2m\u001b[0m\u001b[0m 199.22 MiB/199.65 MiB\n",
            "\u001b[2mnvidia-cublas-cu12\u001b[0m \u001b[32m--------------------------\u001b[2m----\u001b[0m\u001b[0m 327.88 MiB/391.57 MiB\n",
            "\u001b[2mnvidia-cudnn-cu12\u001b[0m \u001b[32m------------------\u001b[2m------------\u001b[0m\u001b[0m 375.16 MiB/633.96 MiB\n",
            "\u001b[2K\u001b[4A\u001b[37m⠦\u001b[0m \u001b[2mPreparing packages...\u001b[0m (128/132)\n",
            "\u001b[2mtriton    \u001b[0m \u001b[32m------------------------------\u001b[2m\u001b[0m\u001b[0m 199.22 MiB/199.65 MiB\n",
            "\u001b[2mnvidia-cublas-cu12\u001b[0m \u001b[32m--------------------------\u001b[2m----\u001b[0m\u001b[0m 328.56 MiB/391.57 MiB\n",
            "\u001b[2mnvidia-cudnn-cu12\u001b[0m \u001b[32m------------------\u001b[2m------------\u001b[0m\u001b[0m 376.95 MiB/633.96 MiB\n",
            "\u001b[2K\u001b[4A\u001b[37m⠦\u001b[0m \u001b[2mPreparing packages...\u001b[0m (128/132)\n",
            "\u001b[2mtriton    \u001b[0m \u001b[32m------------------------------\u001b[2m\u001b[0m\u001b[0m 199.22 MiB/199.65 MiB\n",
            "\u001b[2mnvidia-cublas-cu12\u001b[0m \u001b[32m--------------------------\u001b[2m----\u001b[0m\u001b[0m 329.91 MiB/391.57 MiB\n",
            "\u001b[2mnvidia-cudnn-cu12\u001b[0m \u001b[32m------------------\u001b[2m------------\u001b[0m\u001b[0m 377.73 MiB/633.96 MiB\n",
            "\u001b[2K\u001b[4A\u001b[37m⠦\u001b[0m \u001b[2mPreparing packages...\u001b[0m (128/132)\n",
            "\u001b[2mtriton    \u001b[0m \u001b[32m------------------------------\u001b[2m\u001b[0m\u001b[0m 199.22 MiB/199.65 MiB\n",
            "\u001b[2mnvidia-cublas-cu12\u001b[0m \u001b[32m--------------------------\u001b[2m----\u001b[0m\u001b[0m 330.60 MiB/391.57 MiB\n",
            "\u001b[2mnvidia-cudnn-cu12\u001b[0m \u001b[32m------------------\u001b[2m------------\u001b[0m\u001b[0m 379.31 MiB/633.96 MiB\n",
            "\u001b[2K\u001b[4A\u001b[37m⠦\u001b[0m \u001b[2mPreparing packages...\u001b[0m (128/132)\n",
            "\u001b[2mtriton    \u001b[0m \u001b[32m------------------------------\u001b[2m\u001b[0m\u001b[0m 199.22 MiB/199.65 MiB\n",
            "\u001b[2mnvidia-cublas-cu12\u001b[0m \u001b[32m--------------------------\u001b[2m----\u001b[0m\u001b[0m 331.91 MiB/391.57 MiB\n",
            "\u001b[2mnvidia-cudnn-cu12\u001b[0m \u001b[32m-------------------\u001b[2m-----------\u001b[0m\u001b[0m 380.70 MiB/633.96 MiB\n",
            "\u001b[2K\u001b[4A\u001b[37m⠧\u001b[0m \u001b[2mPreparing packages...\u001b[0m (128/132)\n",
            "\u001b[2mtriton    \u001b[0m \u001b[32m------------------------------\u001b[2m\u001b[0m\u001b[0m 199.22 MiB/199.65 MiB\n",
            "\u001b[2mnvidia-cublas-cu12\u001b[0m \u001b[32m--------------------------\u001b[2m----\u001b[0m\u001b[0m 332.58 MiB/391.57 MiB\n",
            "\u001b[2mnvidia-cudnn-cu12\u001b[0m \u001b[32m-------------------\u001b[2m-----------\u001b[0m\u001b[0m 381.80 MiB/633.96 MiB\n",
            "\u001b[2K\u001b[4A\u001b[37m⠧\u001b[0m \u001b[2mPreparing packages...\u001b[0m (128/132)\n",
            "\u001b[2mtriton    \u001b[0m \u001b[32m------------------------------\u001b[2m\u001b[0m\u001b[0m 199.23 MiB/199.65 MiB\n",
            "\u001b[2mnvidia-cublas-cu12\u001b[0m \u001b[32m--------------------------\u001b[2m----\u001b[0m\u001b[0m 334.00 MiB/391.57 MiB\n",
            "\u001b[2mnvidia-cudnn-cu12\u001b[0m \u001b[32m-------------------\u001b[2m-----------\u001b[0m\u001b[0m 382.70 MiB/633.96 MiB\n",
            "\u001b[2K\u001b[4A\u001b[37m⠧\u001b[0m \u001b[2mPreparing packages...\u001b[0m (128/132)\n",
            "\u001b[2mtriton    \u001b[0m \u001b[32m------------------------------\u001b[2m\u001b[0m\u001b[0m 199.23 MiB/199.65 MiB\n",
            "\u001b[2mnvidia-cublas-cu12\u001b[0m \u001b[32m--------------------------\u001b[2m----\u001b[0m\u001b[0m 334.81 MiB/391.57 MiB\n",
            "\u001b[2mnvidia-cudnn-cu12\u001b[0m \u001b[32m-------------------\u001b[2m-----------\u001b[0m\u001b[0m 384.26 MiB/633.96 MiB\n",
            "\u001b[2K\u001b[4A\u001b[37m⠧\u001b[0m \u001b[2mPreparing packages...\u001b[0m (128/132)\n",
            "\u001b[2mtriton    \u001b[0m \u001b[32m------------------------------\u001b[2m\u001b[0m\u001b[0m 199.23 MiB/199.65 MiB\n",
            "\u001b[2mnvidia-cublas-cu12\u001b[0m \u001b[32m--------------------------\u001b[2m----\u001b[0m\u001b[0m 335.00 MiB/391.57 MiB\n",
            "\u001b[2mnvidia-cudnn-cu12\u001b[0m \u001b[32m-------------------\u001b[2m-----------\u001b[0m\u001b[0m 386.06 MiB/633.96 MiB\n",
            "\u001b[2K\u001b[4A\u001b[37m⠇\u001b[0m \u001b[2mPreparing packages...\u001b[0m (128/132)\n",
            "\u001b[2mtriton    \u001b[0m \u001b[32m------------------------------\u001b[2m\u001b[0m\u001b[0m 199.48 MiB/199.65 MiB\n",
            "\u001b[2mnvidia-cublas-cu12\u001b[0m \u001b[32m--------------------------\u001b[2m----\u001b[0m\u001b[0m 336.80 MiB/391.57 MiB\n",
            "\u001b[2mnvidia-cudnn-cu12\u001b[0m \u001b[32m-------------------\u001b[2m-----------\u001b[0m\u001b[0m 386.68 MiB/633.96 MiB\n",
            "\u001b[2K\u001b[4A\u001b[37m⠇\u001b[0m \u001b[2mPreparing packages...\u001b[0m (128/132)\n",
            "\u001b[2mtriton    \u001b[0m \u001b[32m------------------------------\u001b[2m\u001b[0m\u001b[0m 199.48 MiB/199.65 MiB\n",
            "\u001b[2mnvidia-cublas-cu12\u001b[0m \u001b[32m--------------------------\u001b[2m----\u001b[0m\u001b[0m 337.49 MiB/391.57 MiB\n",
            "\u001b[2mnvidia-cudnn-cu12\u001b[0m \u001b[32m-------------------\u001b[2m-----------\u001b[0m\u001b[0m 388.06 MiB/633.96 MiB\n",
            "\u001b[2K\u001b[4A\u001b[37m⠇\u001b[0m \u001b[2mPreparing packages...\u001b[0m (128/132)\n",
            "\u001b[2mtriton    \u001b[0m \u001b[32m------------------------------\u001b[2m\u001b[0m\u001b[0m 199.51 MiB/199.65 MiB\n",
            "\u001b[2mnvidia-cublas-cu12\u001b[0m \u001b[32m--------------------------\u001b[2m----\u001b[0m\u001b[0m 338.19 MiB/391.57 MiB\n",
            "\u001b[2mnvidia-cudnn-cu12\u001b[0m \u001b[32m-------------------\u001b[2m-----------\u001b[0m\u001b[0m 389.75 MiB/633.96 MiB\n",
            "\u001b[2K\u001b[4A\u001b[37m⠇\u001b[0m \u001b[2mPreparing packages...\u001b[0m (128/132)\n",
            "\u001b[2mtriton    \u001b[0m \u001b[32m------------------------------\u001b[2m\u001b[0m\u001b[0m 199.51 MiB/199.65 MiB\n",
            "\u001b[2mnvidia-cublas-cu12\u001b[0m \u001b[32m---------------------------\u001b[2m---\u001b[0m\u001b[0m 339.53 MiB/391.57 MiB\n",
            "\u001b[2mnvidia-cudnn-cu12\u001b[0m \u001b[32m-------------------\u001b[2m-----------\u001b[0m\u001b[0m 390.36 MiB/633.96 MiB\n",
            "\u001b[2K\u001b[4A\u001b[37m⠋\u001b[0m \u001b[2mPreparing packages...\u001b[0m (128/132)\n",
            "\u001b[2mtriton    \u001b[0m \u001b[32m------------------------------\u001b[2m\u001b[0m\u001b[0m 199.51 MiB/199.65 MiB\n",
            "\u001b[2mnvidia-cublas-cu12\u001b[0m \u001b[32m---------------------------\u001b[2m---\u001b[0m\u001b[0m 340.67 MiB/391.57 MiB\n",
            "\u001b[2mnvidia-cudnn-cu12\u001b[0m \u001b[32m-------------------\u001b[2m-----------\u001b[0m\u001b[0m 391.71 MiB/633.96 MiB\n",
            "\u001b[2K\u001b[4A\u001b[37m⠋\u001b[0m \u001b[2mPreparing packages...\u001b[0m (128/132)\n",
            "\u001b[2mtriton    \u001b[0m \u001b[32m------------------------------\u001b[2m\u001b[0m\u001b[0m 199.51 MiB/199.65 MiB\n",
            "\u001b[2mnvidia-cublas-cu12\u001b[0m \u001b[32m---------------------------\u001b[2m---\u001b[0m\u001b[0m 340.95 MiB/391.57 MiB\n",
            "\u001b[2mnvidia-cudnn-cu12\u001b[0m \u001b[32m-------------------\u001b[2m-----------\u001b[0m\u001b[0m 393.55 MiB/633.96 MiB\n",
            "\u001b[2K\u001b[4A\u001b[37m⠋\u001b[0m \u001b[2mPreparing packages...\u001b[0m (128/132)\n",
            "\u001b[2mtriton    \u001b[0m \u001b[32m------------------------------\u001b[2m\u001b[0m\u001b[0m 199.53 MiB/199.65 MiB\n",
            "\u001b[2mnvidia-cublas-cu12\u001b[0m \u001b[32m---------------------------\u001b[2m---\u001b[0m\u001b[0m 342.73 MiB/391.57 MiB\n",
            "\u001b[2mnvidia-cudnn-cu12\u001b[0m \u001b[32m-------------------\u001b[2m-----------\u001b[0m\u001b[0m 394.38 MiB/633.96 MiB\n",
            "\u001b[2K\u001b[4A\u001b[37m⠋\u001b[0m \u001b[2mPreparing packages...\u001b[0m (128/132)\n",
            "\u001b[2mtriton    \u001b[0m \u001b[32m------------------------------\u001b[2m\u001b[0m\u001b[0m 199.53 MiB/199.65 MiB\n",
            "\u001b[2mnvidia-cublas-cu12\u001b[0m \u001b[32m---------------------------\u001b[2m---\u001b[0m\u001b[0m 344.08 MiB/391.57 MiB\n",
            "\u001b[2mnvidia-cudnn-cu12\u001b[0m \u001b[32m-------------------\u001b[2m-----------\u001b[0m\u001b[0m 395.60 MiB/633.96 MiB\n",
            "\u001b[2K\u001b[4A\u001b[37m⠙\u001b[0m \u001b[2mPreparing packages...\u001b[0m (128/132)\n",
            "\u001b[2mtriton    \u001b[0m \u001b[32m------------------------------\u001b[2m\u001b[0m\u001b[0m 199.54 MiB/199.65 MiB\n",
            "\u001b[2mnvidia-cublas-cu12\u001b[0m \u001b[32m---------------------------\u001b[2m---\u001b[0m\u001b[0m 344.99 MiB/391.57 MiB\n",
            "\u001b[2mnvidia-cudnn-cu12\u001b[0m \u001b[32m-------------------\u001b[2m-----------\u001b[0m\u001b[0m 396.45 MiB/633.96 MiB\n",
            "\u001b[2K\u001b[4A\u001b[37m⠙\u001b[0m \u001b[2mPreparing packages...\u001b[0m (128/132)\n",
            "\u001b[2mtriton    \u001b[0m \u001b[32m------------------------------\u001b[2m\u001b[0m\u001b[0m 199.54 MiB/199.65 MiB\n",
            "\u001b[2mnvidia-cublas-cu12\u001b[0m \u001b[32m---------------------------\u001b[2m---\u001b[0m\u001b[0m 345.85 MiB/391.57 MiB\n",
            "\u001b[2mnvidia-cudnn-cu12\u001b[0m \u001b[32m-------------------\u001b[2m-----------\u001b[0m\u001b[0m 398.14 MiB/633.96 MiB\n",
            "\u001b[2K\u001b[4A\u001b[37m⠙\u001b[0m \u001b[2mPreparing packages...\u001b[0m (128/132)\n",
            "\u001b[2mtriton    \u001b[0m \u001b[32m------------------------------\u001b[2m\u001b[0m\u001b[0m 199.56 MiB/199.65 MiB\n",
            "\u001b[2mnvidia-cublas-cu12\u001b[0m \u001b[32m---------------------------\u001b[2m---\u001b[0m\u001b[0m 346.36 MiB/391.57 MiB\n",
            "\u001b[2mnvidia-cudnn-cu12\u001b[0m \u001b[32m-------------------\u001b[2m-----------\u001b[0m\u001b[0m 399.37 MiB/633.96 MiB\n",
            "\u001b[2K\u001b[4A\u001b[37m⠙\u001b[0m \u001b[2mPreparing packages...\u001b[0m (128/132)\n",
            "\u001b[2mtriton    \u001b[0m \u001b[32m------------------------------\u001b[2m\u001b[0m\u001b[0m 199.56 MiB/199.65 MiB\n",
            "\u001b[2mnvidia-cublas-cu12\u001b[0m \u001b[32m---------------------------\u001b[2m---\u001b[0m\u001b[0m 347.85 MiB/391.57 MiB\n",
            "\u001b[2mnvidia-cudnn-cu12\u001b[0m \u001b[32m-------------------\u001b[2m-----------\u001b[0m\u001b[0m 400.65 MiB/633.96 MiB\n",
            "\u001b[2K\u001b[4A\u001b[37m⠹\u001b[0m \u001b[2mPreparing packages...\u001b[0m (128/132)\n",
            "\u001b[2mtriton    \u001b[0m \u001b[32m------------------------------\u001b[2m\u001b[0m\u001b[0m 199.56 MiB/199.65 MiB\n",
            "\u001b[2mnvidia-cublas-cu12\u001b[0m \u001b[32m---------------------------\u001b[2m---\u001b[0m\u001b[0m 348.95 MiB/391.57 MiB\n",
            "\u001b[2mnvidia-cudnn-cu12\u001b[0m \u001b[32m--------------------\u001b[2m----------\u001b[0m\u001b[0m 402.14 MiB/633.96 MiB\n",
            "\u001b[2K\u001b[4A\u001b[37m⠹\u001b[0m \u001b[2mPreparing packages...\u001b[0m (128/132)\n",
            "\u001b[2mtriton    \u001b[0m \u001b[32m------------------------------\u001b[2m\u001b[0m\u001b[0m 199.56 MiB/199.65 MiB\n",
            "\u001b[2mnvidia-cublas-cu12\u001b[0m \u001b[32m---------------------------\u001b[2m---\u001b[0m\u001b[0m 349.84 MiB/391.57 MiB\n",
            "\u001b[2mnvidia-cudnn-cu12\u001b[0m \u001b[32m--------------------\u001b[2m----------\u001b[0m\u001b[0m 403.86 MiB/633.96 MiB\n",
            "\u001b[2K\u001b[4A\u001b[37m⠹\u001b[0m \u001b[2mPreparing packages...\u001b[0m (128/132)\n",
            "\u001b[2mtriton    \u001b[0m \u001b[32m------------------------------\u001b[2m\u001b[0m\u001b[0m 199.56 MiB/199.65 MiB\n",
            "\u001b[2mnvidia-cublas-cu12\u001b[0m \u001b[32m---------------------------\u001b[2m---\u001b[0m\u001b[0m 351.73 MiB/391.57 MiB\n",
            "\u001b[2mnvidia-cudnn-cu12\u001b[0m \u001b[32m--------------------\u001b[2m----------\u001b[0m\u001b[0m 404.39 MiB/633.96 MiB\n",
            "\u001b[2K\u001b[4A\u001b[37m⠹\u001b[0m \u001b[2mPreparing packages...\u001b[0m (128/132)\n",
            "\u001b[2mtriton    \u001b[0m \u001b[32m------------------------------\u001b[2m\u001b[0m\u001b[0m 199.56 MiB/199.65 MiB\n",
            "\u001b[2mnvidia-cublas-cu12\u001b[0m \u001b[32m----------------------------\u001b[2m--\u001b[0m\u001b[0m 352.49 MiB/391.57 MiB\n",
            "\u001b[2mnvidia-cudnn-cu12\u001b[0m \u001b[32m--------------------\u001b[2m----------\u001b[0m\u001b[0m 405.89 MiB/633.96 MiB\n",
            "\u001b[2K\u001b[4A\u001b[37m⠸\u001b[0m \u001b[2mPreparing packages...\u001b[0m (128/132)\n",
            "\u001b[2mtriton    \u001b[0m \u001b[32m------------------------------\u001b[2m\u001b[0m\u001b[0m 199.56 MiB/199.65 MiB\n",
            "\u001b[2mnvidia-cublas-cu12\u001b[0m \u001b[32m----------------------------\u001b[2m--\u001b[0m\u001b[0m 353.22 MiB/391.57 MiB\n",
            "\u001b[2mnvidia-cudnn-cu12\u001b[0m \u001b[32m--------------------\u001b[2m----------\u001b[0m\u001b[0m 407.67 MiB/633.96 MiB\n",
            "\u001b[2K\u001b[4A\u001b[37m⠸\u001b[0m \u001b[2mPreparing packages...\u001b[0m (128/132)\n",
            "\u001b[2mtriton    \u001b[0m \u001b[32m------------------------------\u001b[2m\u001b[0m\u001b[0m 199.56 MiB/199.65 MiB\n",
            "\u001b[2mnvidia-cublas-cu12\u001b[0m \u001b[32m----------------------------\u001b[2m--\u001b[0m\u001b[0m 354.16 MiB/391.57 MiB\n",
            "\u001b[2mnvidia-cudnn-cu12\u001b[0m \u001b[32m--------------------\u001b[2m----------\u001b[0m\u001b[0m 408.69 MiB/633.96 MiB\n",
            "\u001b[2K\u001b[4A\u001b[37m⠸\u001b[0m \u001b[2mPreparing packages...\u001b[0m (128/132)\n",
            "\u001b[2mtriton    \u001b[0m \u001b[32m------------------------------\u001b[2m\u001b[0m\u001b[0m 199.56 MiB/199.65 MiB\n",
            "\u001b[2mnvidia-cublas-cu12\u001b[0m \u001b[32m----------------------------\u001b[2m--\u001b[0m\u001b[0m 355.43 MiB/391.57 MiB\n",
            "\u001b[2mnvidia-cudnn-cu12\u001b[0m \u001b[32m--------------------\u001b[2m----------\u001b[0m\u001b[0m 409.68 MiB/633.96 MiB\n",
            "\u001b[2K\u001b[4A\u001b[37m⠸\u001b[0m \u001b[2mPreparing packages...\u001b[0m (128/132)\n",
            "\u001b[2mtriton    \u001b[0m \u001b[32m------------------------------\u001b[2m\u001b[0m\u001b[0m 199.56 MiB/199.65 MiB\n",
            "\u001b[2mnvidia-cublas-cu12\u001b[0m \u001b[32m----------------------------\u001b[2m--\u001b[0m\u001b[0m 356.86 MiB/391.57 MiB\n",
            "\u001b[2mnvidia-cudnn-cu12\u001b[0m \u001b[32m--------------------\u001b[2m----------\u001b[0m\u001b[0m 411.14 MiB/633.96 MiB\n",
            "\u001b[2K\u001b[4A\u001b[37m⠼\u001b[0m \u001b[2mPreparing packages...\u001b[0m (128/132)\n",
            "\u001b[2mtriton    \u001b[0m \u001b[32m------------------------------\u001b[2m\u001b[0m\u001b[0m 199.56 MiB/199.65 MiB\n",
            "\u001b[2mnvidia-cublas-cu12\u001b[0m \u001b[32m----------------------------\u001b[2m--\u001b[0m\u001b[0m 357.59 MiB/391.57 MiB\n",
            "\u001b[2mnvidia-cudnn-cu12\u001b[0m \u001b[32m--------------------\u001b[2m----------\u001b[0m\u001b[0m 412.29 MiB/633.96 MiB\n",
            "\u001b[2K\u001b[4A\u001b[37m⠼\u001b[0m \u001b[2mPreparing packages...\u001b[0m (128/132)\n",
            "\u001b[2mtriton    \u001b[0m \u001b[32m------------------------------\u001b[2m\u001b[0m\u001b[0m 199.56 MiB/199.65 MiB\n",
            "\u001b[2mnvidia-cublas-cu12\u001b[0m \u001b[32m----------------------------\u001b[2m--\u001b[0m\u001b[0m 358.42 MiB/391.57 MiB\n",
            "\u001b[2mnvidia-cudnn-cu12\u001b[0m \u001b[32m--------------------\u001b[2m----------\u001b[0m\u001b[0m 413.69 MiB/633.96 MiB\n",
            "\u001b[2K\u001b[4A\u001b[37m⠼\u001b[0m \u001b[2mPreparing packages...\u001b[0m (128/132)\n",
            "\u001b[2mtriton    \u001b[0m \u001b[32m------------------------------\u001b[2m\u001b[0m\u001b[0m 199.56 MiB/199.65 MiB\n",
            "\u001b[2mnvidia-cublas-cu12\u001b[0m \u001b[32m----------------------------\u001b[2m--\u001b[0m\u001b[0m 359.64 MiB/391.57 MiB\n",
            "\u001b[2mnvidia-cudnn-cu12\u001b[0m \u001b[32m--------------------\u001b[2m----------\u001b[0m\u001b[0m 415.59 MiB/633.96 MiB\n",
            "\u001b[2K\u001b[4A\u001b[37m⠼\u001b[0m \u001b[2mPreparing packages...\u001b[0m (128/132)\n",
            "\u001b[2mtriton    \u001b[0m \u001b[32m------------------------------\u001b[2m\u001b[0m\u001b[0m 199.56 MiB/199.65 MiB\n",
            "\u001b[2mnvidia-cublas-cu12\u001b[0m \u001b[32m----------------------------\u001b[2m--\u001b[0m\u001b[0m 360.45 MiB/391.57 MiB\n",
            "\u001b[2mnvidia-cudnn-cu12\u001b[0m \u001b[32m--------------------\u001b[2m----------\u001b[0m\u001b[0m 416.50 MiB/633.96 MiB\n",
            "\u001b[2K\u001b[4A\u001b[37m⠴\u001b[0m \u001b[2mPreparing packages...\u001b[0m (128/132)\n",
            "\u001b[2mtriton    \u001b[0m \u001b[32m------------------------------\u001b[2m\u001b[0m\u001b[0m 199.56 MiB/199.65 MiB\n",
            "\u001b[2mnvidia-cublas-cu12\u001b[0m \u001b[32m----------------------------\u001b[2m--\u001b[0m\u001b[0m 361.05 MiB/391.57 MiB\n",
            "\u001b[2mnvidia-cudnn-cu12\u001b[0m \u001b[32m--------------------\u001b[2m----------\u001b[0m\u001b[0m 417.69 MiB/633.96 MiB\n",
            "\u001b[2K\u001b[4A\u001b[37m⠴\u001b[0m \u001b[2mPreparing packages...\u001b[0m (128/132)\n",
            "\u001b[2mtriton    \u001b[0m \u001b[32m------------------------------\u001b[2m\u001b[0m\u001b[0m 199.56 MiB/199.65 MiB\n",
            "\u001b[2mnvidia-cublas-cu12\u001b[0m \u001b[32m----------------------------\u001b[2m--\u001b[0m\u001b[0m 362.42 MiB/391.57 MiB\n",
            "\u001b[2mnvidia-cudnn-cu12\u001b[0m \u001b[32m--------------------\u001b[2m----------\u001b[0m\u001b[0m 419.68 MiB/633.96 MiB\n",
            "\u001b[2K\u001b[4A\u001b[37m⠴\u001b[0m \u001b[2mPreparing packages...\u001b[0m (128/132)\n",
            "\u001b[2mtriton    \u001b[0m \u001b[32m------------------------------\u001b[2m\u001b[0m\u001b[0m 199.56 MiB/199.65 MiB\n",
            "\u001b[2mnvidia-cublas-cu12\u001b[0m \u001b[32m----------------------------\u001b[2m--\u001b[0m\u001b[0m 363.32 MiB/391.57 MiB\n",
            "\u001b[2mnvidia-cudnn-cu12\u001b[0m \u001b[32m--------------------\u001b[2m----------\u001b[0m\u001b[0m 420.15 MiB/633.96 MiB\n",
            "\u001b[2K\u001b[4A\u001b[37m⠴\u001b[0m \u001b[2mPreparing packages...\u001b[0m (128/132)\n",
            "\u001b[2mtriton    \u001b[0m \u001b[32m------------------------------\u001b[2m\u001b[0m\u001b[0m 199.58 MiB/199.65 MiB\n",
            "\u001b[2mnvidia-cublas-cu12\u001b[0m \u001b[32m----------------------------\u001b[2m--\u001b[0m\u001b[0m 363.96 MiB/391.57 MiB\n",
            "\u001b[2mnvidia-cudnn-cu12\u001b[0m \u001b[32m--------------------\u001b[2m----------\u001b[0m\u001b[0m 421.51 MiB/633.96 MiB\n",
            "\u001b[2K\u001b[4A\u001b[37m⠦\u001b[0m \u001b[2mPreparing packages...\u001b[0m (128/132)\n",
            "\u001b[2mtriton    \u001b[0m \u001b[32m------------------------------\u001b[2m\u001b[0m\u001b[0m 199.58 MiB/199.65 MiB\n",
            "\u001b[2mnvidia-cublas-cu12\u001b[0m \u001b[32m----------------------------\u001b[2m--\u001b[0m\u001b[0m 364.97 MiB/391.57 MiB\n",
            "\u001b[2mnvidia-cudnn-cu12\u001b[0m \u001b[32m---------------------\u001b[2m---------\u001b[0m\u001b[0m 422.73 MiB/633.96 MiB\n",
            "\u001b[2K\u001b[4A\u001b[37m⠦\u001b[0m \u001b[2mPreparing packages...\u001b[0m (128/132)\n",
            "\u001b[2mtriton    \u001b[0m \u001b[32m------------------------------\u001b[2m\u001b[0m\u001b[0m 199.58 MiB/199.65 MiB\n",
            "\u001b[2mnvidia-cublas-cu12\u001b[0m \u001b[32m----------------------------\u001b[2m--\u001b[0m\u001b[0m 365.31 MiB/391.57 MiB\n",
            "\u001b[2mnvidia-cudnn-cu12\u001b[0m \u001b[32m---------------------\u001b[2m---------\u001b[0m\u001b[0m 424.12 MiB/633.96 MiB\n",
            "\u001b[2K\u001b[4A\u001b[37m⠦\u001b[0m \u001b[2mPreparing packages...\u001b[0m (128/132)\n",
            "\u001b[2mtriton    \u001b[0m \u001b[32m------------------------------\u001b[2m\u001b[0m\u001b[0m 199.58 MiB/199.65 MiB\n",
            "\u001b[2mnvidia-cublas-cu12\u001b[0m \u001b[32m-----------------------------\u001b[2m-\u001b[0m\u001b[0m 367.00 MiB/391.57 MiB\n",
            "\u001b[2mnvidia-cudnn-cu12\u001b[0m \u001b[32m---------------------\u001b[2m---------\u001b[0m\u001b[0m 425.44 MiB/633.96 MiB\n",
            "\u001b[2K\u001b[4A\u001b[37m⠦\u001b[0m \u001b[2mPreparing packages...\u001b[0m (128/132)\n",
            "\u001b[2mtriton    \u001b[0m \u001b[32m------------------------------\u001b[2m\u001b[0m\u001b[0m 199.58 MiB/199.65 MiB\n",
            "\u001b[2mnvidia-cublas-cu12\u001b[0m \u001b[32m-----------------------------\u001b[2m-\u001b[0m\u001b[0m 367.96 MiB/391.57 MiB\n",
            "\u001b[2mnvidia-cudnn-cu12\u001b[0m \u001b[32m---------------------\u001b[2m---------\u001b[0m\u001b[0m 426.56 MiB/633.96 MiB\n",
            "\u001b[2K\u001b[4A\u001b[37m⠧\u001b[0m \u001b[2mPreparing packages...\u001b[0m (128/132)\n",
            "\u001b[2mtriton    \u001b[0m \u001b[32m------------------------------\u001b[2m\u001b[0m\u001b[0m 199.58 MiB/199.65 MiB\n",
            "\u001b[2mnvidia-cublas-cu12\u001b[0m \u001b[32m-----------------------------\u001b[2m-\u001b[0m\u001b[0m 369.33 MiB/391.57 MiB\n",
            "\u001b[2mnvidia-cudnn-cu12\u001b[0m \u001b[32m---------------------\u001b[2m---------\u001b[0m\u001b[0m 428.09 MiB/633.96 MiB\n",
            "\u001b[2K\u001b[4A\u001b[37m⠧\u001b[0m \u001b[2mPreparing packages...\u001b[0m (128/132)\n",
            "\u001b[2mtriton    \u001b[0m \u001b[32m------------------------------\u001b[2m\u001b[0m\u001b[0m 199.58 MiB/199.65 MiB\n",
            "\u001b[2mnvidia-cublas-cu12\u001b[0m \u001b[32m-----------------------------\u001b[2m-\u001b[0m\u001b[0m 369.74 MiB/391.57 MiB\n",
            "\u001b[2mnvidia-cudnn-cu12\u001b[0m \u001b[32m---------------------\u001b[2m---------\u001b[0m\u001b[0m 429.00 MiB/633.96 MiB\n",
            "\u001b[2K\u001b[4A\u001b[37m⠧\u001b[0m \u001b[2mPreparing packages...\u001b[0m (128/132)\n",
            "\u001b[2mtriton    \u001b[0m \u001b[32m------------------------------\u001b[2m\u001b[0m\u001b[0m 199.58 MiB/199.65 MiB\n",
            "\u001b[2mnvidia-cublas-cu12\u001b[0m \u001b[32m-----------------------------\u001b[2m-\u001b[0m\u001b[0m 370.83 MiB/391.57 MiB\n",
            "\u001b[2mnvidia-cudnn-cu12\u001b[0m \u001b[32m---------------------\u001b[2m---------\u001b[0m\u001b[0m 429.89 MiB/633.96 MiB\n",
            "\u001b[2K\u001b[4A\u001b[37m⠧\u001b[0m \u001b[2mPreparing packages...\u001b[0m (128/132)\n",
            "\u001b[2mtriton    \u001b[0m \u001b[32m------------------------------\u001b[2m\u001b[0m\u001b[0m 199.58 MiB/199.65 MiB\n",
            "\u001b[2mnvidia-cublas-cu12\u001b[0m \u001b[32m-----------------------------\u001b[2m-\u001b[0m\u001b[0m 371.78 MiB/391.57 MiB\n",
            "\u001b[2mnvidia-cudnn-cu12\u001b[0m \u001b[32m---------------------\u001b[2m---------\u001b[0m\u001b[0m 431.08 MiB/633.96 MiB\n",
            "\u001b[2K\u001b[4A\u001b[37m⠇\u001b[0m \u001b[2mPreparing packages...\u001b[0m (128/132)\n",
            "\u001b[2mtriton    \u001b[0m \u001b[32m------------------------------\u001b[2m\u001b[0m\u001b[0m 199.58 MiB/199.65 MiB\n",
            "\u001b[2mnvidia-cublas-cu12\u001b[0m \u001b[32m-----------------------------\u001b[2m-\u001b[0m\u001b[0m 373.02 MiB/391.57 MiB\n",
            "\u001b[2mnvidia-cudnn-cu12\u001b[0m \u001b[32m---------------------\u001b[2m---------\u001b[0m\u001b[0m 431.90 MiB/633.96 MiB\n",
            "\u001b[2K\u001b[4A\u001b[37m⠇\u001b[0m \u001b[2mPreparing packages...\u001b[0m (128/132)\n",
            "\u001b[2mtriton    \u001b[0m \u001b[32m------------------------------\u001b[2m\u001b[0m\u001b[0m 199.60 MiB/199.65 MiB\n",
            "\u001b[2mnvidia-cublas-cu12\u001b[0m \u001b[32m-----------------------------\u001b[2m-\u001b[0m\u001b[0m 374.00 MiB/391.57 MiB\n",
            "\u001b[2mnvidia-cudnn-cu12\u001b[0m \u001b[32m---------------------\u001b[2m---------\u001b[0m\u001b[0m 433.12 MiB/633.96 MiB\n",
            "\u001b[2K\u001b[4A\u001b[37m⠇\u001b[0m \u001b[2mPreparing packages...\u001b[0m (128/132)\n",
            "\u001b[2mtriton    \u001b[0m \u001b[32m------------------------------\u001b[2m\u001b[0m\u001b[0m 199.60 MiB/199.65 MiB\n",
            "\u001b[2mnvidia-cublas-cu12\u001b[0m \u001b[32m-----------------------------\u001b[2m-\u001b[0m\u001b[0m 374.49 MiB/391.57 MiB\n",
            "\u001b[2mnvidia-cudnn-cu12\u001b[0m \u001b[32m---------------------\u001b[2m---------\u001b[0m\u001b[0m 435.09 MiB/633.96 MiB\n",
            "\u001b[2K\u001b[4A\u001b[37m⠇\u001b[0m \u001b[2mPreparing packages...\u001b[0m (128/132)\n",
            "\u001b[2mtriton    \u001b[0m \u001b[32m------------------------------\u001b[2m\u001b[0m\u001b[0m 199.60 MiB/199.65 MiB\n",
            "\u001b[2mnvidia-cublas-cu12\u001b[0m \u001b[32m-----------------------------\u001b[2m-\u001b[0m\u001b[0m 375.92 MiB/391.57 MiB\n",
            "\u001b[2mnvidia-cudnn-cu12\u001b[0m \u001b[32m---------------------\u001b[2m---------\u001b[0m\u001b[0m 435.95 MiB/633.96 MiB\n",
            "\u001b[2K\u001b[4A\u001b[37m⠋\u001b[0m \u001b[2mPreparing packages...\u001b[0m (128/132)\n",
            "\u001b[2mtriton    \u001b[0m \u001b[32m------------------------------\u001b[2m\u001b[0m\u001b[0m 199.60 MiB/199.65 MiB\n",
            "\u001b[2mnvidia-cublas-cu12\u001b[0m \u001b[32m-----------------------------\u001b[2m-\u001b[0m\u001b[0m 375.98 MiB/391.57 MiB\n",
            "\u001b[2mnvidia-cudnn-cu12\u001b[0m \u001b[32m---------------------\u001b[2m---------\u001b[0m\u001b[0m 437.56 MiB/633.96 MiB\n",
            "\u001b[2K\u001b[4A\u001b[37m⠋\u001b[0m \u001b[2mPreparing packages...\u001b[0m (128/132)\n",
            "\u001b[2mtriton    \u001b[0m \u001b[32m------------------------------\u001b[2m\u001b[0m\u001b[0m 199.60 MiB/199.65 MiB\n",
            "\u001b[2mnvidia-cublas-cu12\u001b[0m \u001b[32m-----------------------------\u001b[2m-\u001b[0m\u001b[0m 376.99 MiB/391.57 MiB\n",
            "\u001b[2mnvidia-cudnn-cu12\u001b[0m \u001b[32m---------------------\u001b[2m---------\u001b[0m\u001b[0m 438.81 MiB/633.96 MiB\n",
            "\u001b[2K\u001b[4A\u001b[37m⠋\u001b[0m \u001b[2mPreparing packages...\u001b[0m (128/132)\n",
            "\u001b[2mtriton    \u001b[0m \u001b[32m------------------------------\u001b[2m\u001b[0m\u001b[0m 199.60 MiB/199.65 MiB\n",
            "\u001b[2mnvidia-cublas-cu12\u001b[0m \u001b[32m-----------------------------\u001b[2m-\u001b[0m\u001b[0m 378.29 MiB/391.57 MiB\n",
            "\u001b[2mnvidia-cudnn-cu12\u001b[0m \u001b[32m---------------------\u001b[2m---------\u001b[0m\u001b[0m 439.57 MiB/633.96 MiB\n",
            "\u001b[2K\u001b[4A\u001b[37m⠋\u001b[0m \u001b[2mPreparing packages...\u001b[0m (128/132)\n",
            "\u001b[2mtriton    \u001b[0m \u001b[32m------------------------------\u001b[2m\u001b[0m\u001b[0m 199.62 MiB/199.65 MiB\n",
            "\u001b[2mnvidia-cublas-cu12\u001b[0m \u001b[32m------------------------------\u001b[2m\u001b[0m\u001b[0m 378.86 MiB/391.57 MiB\n",
            "\u001b[2mnvidia-cudnn-cu12\u001b[0m \u001b[32m---------------------\u001b[2m---------\u001b[0m\u001b[0m 441.59 MiB/633.96 MiB\n",
            "\u001b[2K\u001b[4A\u001b[37m⠙\u001b[0m \u001b[2mPreparing packages...\u001b[0m (128/132)\n",
            "\u001b[2mtriton    \u001b[0m \u001b[32m------------------------------\u001b[2m\u001b[0m\u001b[0m 199.62 MiB/199.65 MiB\n",
            "\u001b[2mnvidia-cublas-cu12\u001b[0m \u001b[32m------------------------------\u001b[2m\u001b[0m\u001b[0m 380.00 MiB/391.57 MiB\n",
            "\u001b[2mnvidia-cudnn-cu12\u001b[0m \u001b[32m---------------------\u001b[2m---------\u001b[0m\u001b[0m 441.73 MiB/633.96 MiB\n",
            "\u001b[2K\u001b[4A\u001b[37m⠙\u001b[0m \u001b[2mPreparing packages...\u001b[0m (128/132)\n",
            "\u001b[2mtriton    \u001b[0m \u001b[32m------------------------------\u001b[2m\u001b[0m\u001b[0m 199.62 MiB/199.65 MiB\n",
            "\u001b[2mnvidia-cublas-cu12\u001b[0m \u001b[32m------------------------------\u001b[2m\u001b[0m\u001b[0m 380.70 MiB/391.57 MiB\n",
            "\u001b[2mnvidia-cudnn-cu12\u001b[0m \u001b[32m---------------------\u001b[2m---------\u001b[0m\u001b[0m 443.45 MiB/633.96 MiB\n",
            "\u001b[2K\u001b[4A\u001b[37m⠙\u001b[0m \u001b[2mPreparing packages...\u001b[0m (128/132)\n",
            "\u001b[2mtriton    \u001b[0m \u001b[32m------------------------------\u001b[2m\u001b[0m\u001b[0m 199.62 MiB/199.65 MiB\n",
            "\u001b[2mnvidia-cublas-cu12\u001b[0m \u001b[32m------------------------------\u001b[2m\u001b[0m\u001b[0m 381.65 MiB/391.57 MiB\n",
            "\u001b[2mnvidia-cudnn-cu12\u001b[0m \u001b[32m----------------------\u001b[2m--------\u001b[0m\u001b[0m 444.57 MiB/633.96 MiB\n",
            "\u001b[2K\u001b[4A\u001b[37m⠙\u001b[0m \u001b[2mPreparing packages...\u001b[0m (128/132)\n",
            "\u001b[2mtriton    \u001b[0m \u001b[32m------------------------------\u001b[2m\u001b[0m\u001b[0m 199.62 MiB/199.65 MiB\n",
            "\u001b[2mnvidia-cublas-cu12\u001b[0m \u001b[32m------------------------------\u001b[2m\u001b[0m\u001b[0m 383.14 MiB/391.57 MiB\n",
            "\u001b[2mnvidia-cudnn-cu12\u001b[0m \u001b[32m----------------------\u001b[2m--------\u001b[0m\u001b[0m 445.47 MiB/633.96 MiB\n",
            "\u001b[2K\u001b[4A\u001b[37m⠹\u001b[0m \u001b[2mPreparing packages...\u001b[0m (128/132)\n",
            "\u001b[2mtriton    \u001b[0m \u001b[32m------------------------------\u001b[2m\u001b[0m\u001b[0m 199.62 MiB/199.65 MiB\n",
            "\u001b[2mnvidia-cublas-cu12\u001b[0m \u001b[32m------------------------------\u001b[2m\u001b[0m\u001b[0m 384.03 MiB/391.57 MiB\n",
            "\u001b[2mnvidia-cudnn-cu12\u001b[0m \u001b[32m----------------------\u001b[2m--------\u001b[0m\u001b[0m 446.60 MiB/633.96 MiB\n",
            "\u001b[2K\u001b[4A\u001b[37m⠹\u001b[0m \u001b[2mPreparing packages...\u001b[0m (128/132)\n",
            "\u001b[2mtriton    \u001b[0m \u001b[32m------------------------------\u001b[2m\u001b[0m\u001b[0m 199.63 MiB/199.65 MiB\n",
            "\u001b[2mnvidia-cublas-cu12\u001b[0m \u001b[32m------------------------------\u001b[2m\u001b[0m\u001b[0m 384.50 MiB/391.57 MiB\n",
            "\u001b[2mnvidia-cudnn-cu12\u001b[0m \u001b[32m----------------------\u001b[2m--------\u001b[0m\u001b[0m 448.45 MiB/633.96 MiB\n",
            "\u001b[2K\u001b[4A\u001b[37m⠹\u001b[0m \u001b[2mPreparing packages...\u001b[0m (128/132)\n",
            "\u001b[2mtriton    \u001b[0m \u001b[32m------------------------------\u001b[2m\u001b[0m\u001b[0m 199.63 MiB/199.65 MiB\n",
            "\u001b[2mnvidia-cublas-cu12\u001b[0m \u001b[32m------------------------------\u001b[2m\u001b[0m\u001b[0m 385.94 MiB/391.57 MiB\n",
            "\u001b[2mnvidia-cudnn-cu12\u001b[0m \u001b[32m----------------------\u001b[2m--------\u001b[0m\u001b[0m 449.48 MiB/633.96 MiB\n",
            "\u001b[2K\u001b[4A\u001b[37m⠹\u001b[0m \u001b[2mPreparing packages...\u001b[0m (128/132)\n",
            "\u001b[2mtriton    \u001b[0m \u001b[32m------------------------------\u001b[2m\u001b[0m\u001b[0m 199.65 MiB/199.65 MiB\n",
            "\u001b[2mnvidia-cublas-cu12\u001b[0m \u001b[32m------------------------------\u001b[2m\u001b[0m\u001b[0m 386.49 MiB/391.57 MiB\n",
            "\u001b[2mnvidia-cudnn-cu12\u001b[0m \u001b[32m----------------------\u001b[2m--------\u001b[0m\u001b[0m 450.62 MiB/633.96 MiB\n",
            "\u001b[2K\u001b[4A\u001b[37m⠸\u001b[0m \u001b[2mPreparing packages...\u001b[0m (128/132)\n",
            "\u001b[2mtriton    \u001b[0m \u001b[32m------------------------------\u001b[2m\u001b[0m\u001b[0m 199.65 MiB/199.65 MiB\n",
            "\u001b[2mnvidia-cublas-cu12\u001b[0m \u001b[32m------------------------------\u001b[2m\u001b[0m\u001b[0m 387.67 MiB/391.57 MiB\n",
            "\u001b[2mnvidia-cudnn-cu12\u001b[0m \u001b[32m----------------------\u001b[2m--------\u001b[0m\u001b[0m 451.78 MiB/633.96 MiB\n",
            "\u001b[2K\u001b[4A\u001b[37m⠸\u001b[0m \u001b[2mPreparing packages...\u001b[0m (128/132)\n",
            "\u001b[2mtriton    \u001b[0m \u001b[32m------------------------------\u001b[2m\u001b[0m\u001b[0m 199.65 MiB/199.65 MiB\n",
            "\u001b[2mnvidia-cublas-cu12\u001b[0m \u001b[32m------------------------------\u001b[2m\u001b[0m\u001b[0m 388.65 MiB/391.57 MiB\n",
            "\u001b[2mnvidia-cudnn-cu12\u001b[0m \u001b[32m----------------------\u001b[2m--------\u001b[0m\u001b[0m 453.32 MiB/633.96 MiB\n",
            "\u001b[2K\u001b[4A\u001b[37m⠸\u001b[0m \u001b[2mPreparing packages...\u001b[0m (128/132)\n",
            "\u001b[2mnvidia-cublas-cu12\u001b[0m \u001b[32m------------------------------\u001b[2m\u001b[0m\u001b[0m 388.96 MiB/391.57 MiB\n",
            "\u001b[2mnvidia-cudnn-cu12\u001b[0m \u001b[32m----------------------\u001b[2m--------\u001b[0m\u001b[0m 454.42 MiB/633.96 MiB\n",
            "\u001b[2K\u001b[3A\u001b[37m⠸\u001b[0m \u001b[2mPreparing packages...\u001b[0m (128/132)\n",
            "\u001b[2mnvidia-cublas-cu12\u001b[0m \u001b[32m------------------------------\u001b[2m\u001b[0m\u001b[0m 388.96 MiB/391.57 MiB\n",
            "\u001b[2mnvidia-cudnn-cu12\u001b[0m \u001b[32m----------------------\u001b[2m--------\u001b[0m\u001b[0m 454.88 MiB/633.96 MiB\n",
            "\u001b[2K\u001b[3A\u001b[37m⠸\u001b[0m \u001b[2mPreparing packages...\u001b[0m (128/132)\n",
            "\u001b[2mnvidia-cublas-cu12\u001b[0m \u001b[32m------------------------------\u001b[2m\u001b[0m\u001b[0m 390.65 MiB/391.57 MiB\n",
            "\u001b[2mnvidia-cudnn-cu12\u001b[0m \u001b[32m----------------------\u001b[2m--------\u001b[0m\u001b[0m 455.44 MiB/633.96 MiB\n",
            "\u001b[2K\u001b[3A\u001b[37m⠼\u001b[0m \u001b[2mPreparing packages...\u001b[0m (129/132)\n",
            "\u001b[2mnvidia-cublas-cu12\u001b[0m \u001b[32m------------------------------\u001b[2m\u001b[0m\u001b[0m 390.68 MiB/391.57 MiB\n",
            "\u001b[2mnvidia-cudnn-cu12\u001b[0m \u001b[32m----------------------\u001b[2m--------\u001b[0m\u001b[0m 457.48 MiB/633.96 MiB\n",
            "\u001b[2K\u001b[3A\u001b[37m⠼\u001b[0m \u001b[2mPreparing packages...\u001b[0m (129/132)\n",
            "\u001b[2mnvidia-cublas-cu12\u001b[0m \u001b[32m------------------------------\u001b[2m\u001b[0m\u001b[0m 391.52 MiB/391.57 MiB\n",
            "\u001b[2mnvidia-cudnn-cu12\u001b[0m \u001b[32m----------------------\u001b[2m--------\u001b[0m\u001b[0m 458.42 MiB/633.96 MiB\n",
            "\u001b[2K\u001b[3A\u001b[37m⠼\u001b[0m \u001b[2mPreparing packages...\u001b[0m (129/132)\n",
            "\u001b[2mnvidia-cublas-cu12\u001b[0m \u001b[32m------------------------------\u001b[2m\u001b[0m\u001b[0m 391.56 MiB/391.57 MiB\n",
            "\u001b[2mnvidia-cudnn-cu12\u001b[0m \u001b[32m----------------------\u001b[2m--------\u001b[0m\u001b[0m 459.72 MiB/633.96 MiB\n",
            "\u001b[2K\u001b[3A\u001b[37m⠼\u001b[0m \u001b[2mPreparing packages...\u001b[0m (129/132)\n",
            "\u001b[2mnvidia-cublas-cu12\u001b[0m \u001b[32m------------------------------\u001b[2m\u001b[0m\u001b[0m 391.57 MiB/391.57 MiB\n",
            "\u001b[2mnvidia-cudnn-cu12\u001b[0m \u001b[32m----------------------\u001b[2m--------\u001b[0m\u001b[0m 461.45 MiB/633.96 MiB\n",
            "\u001b[2K\u001b[3A\u001b[37m⠴\u001b[0m \u001b[2mPreparing packages...\u001b[0m (129/132)\n",
            "\u001b[2mnvidia-cublas-cu12\u001b[0m \u001b[32m------------------------------\u001b[2m\u001b[0m\u001b[0m 391.57 MiB/391.57 MiB\n",
            "\u001b[2mnvidia-cudnn-cu12\u001b[0m \u001b[32m----------------------\u001b[2m--------\u001b[0m\u001b[0m 463.49 MiB/633.96 MiB\n",
            "\u001b[2K\u001b[3A\u001b[37m⠴\u001b[0m \u001b[2mPreparing packages...\u001b[0m (129/132)\n",
            "\u001b[2mnvidia-cublas-cu12\u001b[0m \u001b[32m------------------------------\u001b[2m\u001b[0m\u001b[0m 391.57 MiB/391.57 MiB\n",
            "\u001b[2mnvidia-cudnn-cu12\u001b[0m \u001b[32m----------------------\u001b[2m--------\u001b[0m\u001b[0m 464.81 MiB/633.96 MiB\n",
            "\u001b[2K\u001b[3A\u001b[37m⠴\u001b[0m \u001b[2mPreparing packages...\u001b[0m (129/132)\n",
            "\u001b[2mnvidia-cudnn-cu12\u001b[0m \u001b[32m-----------------------\u001b[2m-------\u001b[0m\u001b[0m 466.40 MiB/633.96 MiB\n",
            "\u001b[2K\u001b[2A\u001b[37m⠴\u001b[0m \u001b[2mPreparing packages...\u001b[0m (129/132)\n",
            "\u001b[2mnvidia-cudnn-cu12\u001b[0m \u001b[32m-----------------------\u001b[2m-------\u001b[0m\u001b[0m 466.40 MiB/633.96 MiB\n",
            "\u001b[2K\u001b[2A\u001b[37m⠴\u001b[0m \u001b[2mPreparing packages...\u001b[0m (129/132)\n",
            "\u001b[2mnvidia-cudnn-cu12\u001b[0m \u001b[32m-----------------------\u001b[2m-------\u001b[0m\u001b[0m 467.92 MiB/633.96 MiB\n",
            "\u001b[2K\u001b[2A\u001b[37m⠦\u001b[0m \u001b[2mPreparing packages...\u001b[0m (130/132)\n",
            "\u001b[2mnvidia-cudnn-cu12\u001b[0m \u001b[32m-----------------------\u001b[2m-------\u001b[0m\u001b[0m 469.49 MiB/633.96 MiB\n",
            "\u001b[2K\u001b[2A\u001b[37m⠦\u001b[0m \u001b[2mPreparing packages...\u001b[0m (130/132)\n",
            "\u001b[2mnvidia-cudnn-cu12\u001b[0m \u001b[32m-----------------------\u001b[2m-------\u001b[0m\u001b[0m 471.44 MiB/633.96 MiB\n",
            "\u001b[2K\u001b[2A\u001b[37m⠦\u001b[0m \u001b[2mPreparing packages...\u001b[0m (130/132)\n",
            "\u001b[2mnvidia-cudnn-cu12\u001b[0m \u001b[32m-----------------------\u001b[2m-------\u001b[0m\u001b[0m 472.86 MiB/633.96 MiB\n",
            "\u001b[2K\u001b[2A\u001b[37m⠦\u001b[0m \u001b[2mPreparing packages...\u001b[0m (130/132)\n",
            "\u001b[2mnvidia-cudnn-cu12\u001b[0m \u001b[32m-----------------------\u001b[2m-------\u001b[0m\u001b[0m 474.43 MiB/633.96 MiB\n",
            "\u001b[2K\u001b[2A\u001b[37m⠧\u001b[0m \u001b[2mPreparing packages...\u001b[0m (130/132)\n",
            "\u001b[2mnvidia-cudnn-cu12\u001b[0m \u001b[32m-----------------------\u001b[2m-------\u001b[0m\u001b[0m 475.97 MiB/633.96 MiB\n",
            "\u001b[2K\u001b[2A\u001b[37m⠧\u001b[0m \u001b[2mPreparing packages...\u001b[0m (130/132)\n",
            "\u001b[2mnvidia-cudnn-cu12\u001b[0m \u001b[32m-----------------------\u001b[2m-------\u001b[0m\u001b[0m 477.43 MiB/633.96 MiB\n",
            "\u001b[2K\u001b[2A\u001b[37m⠧\u001b[0m \u001b[2mPreparing packages...\u001b[0m (130/132)\n",
            "\u001b[2mnvidia-cudnn-cu12\u001b[0m \u001b[32m-----------------------\u001b[2m-------\u001b[0m\u001b[0m 479.48 MiB/633.96 MiB\n",
            "\u001b[2K\u001b[2A\u001b[37m⠧\u001b[0m \u001b[2mPreparing packages...\u001b[0m (130/132)\n",
            "\u001b[2mnvidia-cudnn-cu12\u001b[0m \u001b[32m-----------------------\u001b[2m-------\u001b[0m\u001b[0m 480.94 MiB/633.96 MiB\n",
            "\u001b[2K\u001b[2A\u001b[37m⠇\u001b[0m \u001b[2mPreparing packages...\u001b[0m (130/132)\n",
            "\u001b[2mnvidia-cudnn-cu12\u001b[0m \u001b[32m-----------------------\u001b[2m-------\u001b[0m\u001b[0m 482.43 MiB/633.96 MiB\n",
            "\u001b[2K\u001b[2A\u001b[37m⠇\u001b[0m \u001b[2mPreparing packages...\u001b[0m (130/132)\n",
            "\u001b[2mnvidia-cudnn-cu12\u001b[0m \u001b[32m-----------------------\u001b[2m-------\u001b[0m\u001b[0m 484.15 MiB/633.96 MiB\n",
            "\u001b[2K\u001b[2A\u001b[37m⠇\u001b[0m \u001b[2mPreparing packages...\u001b[0m (130/132)\n",
            "\u001b[2mnvidia-cudnn-cu12\u001b[0m \u001b[32m-----------------------\u001b[2m-------\u001b[0m\u001b[0m 485.49 MiB/633.96 MiB\n",
            "\u001b[2K\u001b[2A\u001b[37m⠇\u001b[0m \u001b[2mPreparing packages...\u001b[0m (130/132)\n",
            "\u001b[2mnvidia-cudnn-cu12\u001b[0m \u001b[32m------------------------\u001b[2m------\u001b[0m\u001b[0m 487.49 MiB/633.96 MiB\n",
            "\u001b[2K\u001b[2A\u001b[37m⠋\u001b[0m \u001b[2mPreparing packages...\u001b[0m (130/132)\n",
            "\u001b[2mnvidia-cudnn-cu12\u001b[0m \u001b[32m------------------------\u001b[2m------\u001b[0m\u001b[0m 489.12 MiB/633.96 MiB\n",
            "\u001b[2K\u001b[2A\u001b[37m⠋\u001b[0m \u001b[2mPreparing packages...\u001b[0m (130/132)\n",
            "\u001b[2mnvidia-cudnn-cu12\u001b[0m \u001b[32m------------------------\u001b[2m------\u001b[0m\u001b[0m 490.39 MiB/633.96 MiB\n",
            "\u001b[2K\u001b[2A\u001b[37m⠋\u001b[0m \u001b[2mPreparing packages...\u001b[0m (130/132)\n",
            "\u001b[2mnvidia-cudnn-cu12\u001b[0m \u001b[32m------------------------\u001b[2m------\u001b[0m\u001b[0m 492.33 MiB/633.96 MiB\n",
            "\u001b[2K\u001b[2A\u001b[37m⠋\u001b[0m \u001b[2mPreparing packages...\u001b[0m (130/132)\n",
            "\u001b[2mnvidia-cudnn-cu12\u001b[0m \u001b[32m------------------------\u001b[2m------\u001b[0m\u001b[0m 493.53 MiB/633.96 MiB\n",
            "\u001b[2K\u001b[2A\u001b[37m⠙\u001b[0m \u001b[2mPreparing packages...\u001b[0m (130/132)\n",
            "\u001b[2mnvidia-cudnn-cu12\u001b[0m \u001b[32m------------------------\u001b[2m------\u001b[0m\u001b[0m 495.48 MiB/633.96 MiB\n",
            "\u001b[2K\u001b[2A\u001b[37m⠙\u001b[0m \u001b[2mPreparing packages...\u001b[0m (130/132)\n",
            "\u001b[2mnvidia-cudnn-cu12\u001b[0m \u001b[32m------------------------\u001b[2m------\u001b[0m\u001b[0m 497.47 MiB/633.96 MiB\n",
            "\u001b[2K\u001b[2A\u001b[37m⠙\u001b[0m \u001b[2mPreparing packages...\u001b[0m (130/132)\n",
            "\u001b[2mnvidia-cudnn-cu12\u001b[0m \u001b[32m------------------------\u001b[2m------\u001b[0m\u001b[0m 498.63 MiB/633.96 MiB\n",
            "\u001b[2K\u001b[2A\u001b[37m⠙\u001b[0m \u001b[2mPreparing packages...\u001b[0m (130/132)\n",
            "\u001b[2mnvidia-cudnn-cu12\u001b[0m \u001b[32m------------------------\u001b[2m------\u001b[0m\u001b[0m 500.42 MiB/633.96 MiB\n",
            "\u001b[2K\u001b[2A\u001b[37m⠹\u001b[0m \u001b[2mPreparing packages...\u001b[0m (130/132)\n",
            "\u001b[2mnvidia-cudnn-cu12\u001b[0m \u001b[32m------------------------\u001b[2m------\u001b[0m\u001b[0m 501.78 MiB/633.96 MiB\n",
            "\u001b[2K\u001b[2A\u001b[37m⠹\u001b[0m \u001b[2mPreparing packages...\u001b[0m (130/132)\n",
            "\u001b[2mnvidia-cudnn-cu12\u001b[0m \u001b[32m------------------------\u001b[2m------\u001b[0m\u001b[0m 503.43 MiB/633.96 MiB\n",
            "\u001b[2K\u001b[2A\u001b[37m⠹\u001b[0m \u001b[2mPreparing packages...\u001b[0m (130/132)\n",
            "\u001b[2mnvidia-cudnn-cu12\u001b[0m \u001b[32m------------------------\u001b[2m------\u001b[0m\u001b[0m 505.49 MiB/633.96 MiB\n",
            "\u001b[2K\u001b[2A\u001b[37m⠹\u001b[0m \u001b[2mPreparing packages...\u001b[0m (130/132)\n",
            "\u001b[2mnvidia-cudnn-cu12\u001b[0m \u001b[32m------------------------\u001b[2m------\u001b[0m\u001b[0m 506.95 MiB/633.96 MiB\n",
            "\u001b[2K\u001b[2A\u001b[37m⠹\u001b[0m \u001b[2mPreparing packages...\u001b[0m (130/132)\n",
            "\u001b[2mnvidia-cudnn-cu12\u001b[0m \u001b[32m-------------------------\u001b[2m-----\u001b[0m\u001b[0m 508.39 MiB/633.96 MiB\n",
            "\u001b[2K\u001b[2A\u001b[37m⠸\u001b[0m \u001b[2mPreparing packages...\u001b[0m (130/132)\n",
            "\u001b[2mnvidia-cudnn-cu12\u001b[0m \u001b[32m-------------------------\u001b[2m-----\u001b[0m\u001b[0m 510.39 MiB/633.96 MiB\n",
            "\u001b[2K\u001b[2A\u001b[37m⠸\u001b[0m \u001b[2mPreparing packages...\u001b[0m (130/132)\n",
            "\u001b[2mnvidia-cudnn-cu12\u001b[0m \u001b[32m-------------------------\u001b[2m-----\u001b[0m\u001b[0m 512.41 MiB/633.96 MiB\n",
            "\u001b[2K\u001b[2A\u001b[37m⠸\u001b[0m \u001b[2mPreparing packages...\u001b[0m (130/132)\n",
            "\u001b[2mnvidia-cudnn-cu12\u001b[0m \u001b[32m-------------------------\u001b[2m-----\u001b[0m\u001b[0m 513.84 MiB/633.96 MiB\n",
            "\u001b[2K\u001b[2A\u001b[37m⠸\u001b[0m \u001b[2mPreparing packages...\u001b[0m (130/132)\n",
            "\u001b[2mnvidia-cudnn-cu12\u001b[0m \u001b[32m-------------------------\u001b[2m-----\u001b[0m\u001b[0m 515.20 MiB/633.96 MiB\n",
            "\u001b[2K\u001b[2A\u001b[37m⠼\u001b[0m \u001b[2mPreparing packages...\u001b[0m (130/132)\n",
            "\u001b[2mnvidia-cudnn-cu12\u001b[0m \u001b[32m-------------------------\u001b[2m-----\u001b[0m\u001b[0m 516.50 MiB/633.96 MiB\n",
            "\u001b[2K\u001b[2A\u001b[37m⠼\u001b[0m \u001b[2mPreparing packages...\u001b[0m (130/132)\n",
            "\u001b[2mnvidia-cudnn-cu12\u001b[0m \u001b[32m-------------------------\u001b[2m-----\u001b[0m\u001b[0m 518.39 MiB/633.96 MiB\n",
            "\u001b[2K\u001b[2A\u001b[37m⠼\u001b[0m \u001b[2mPreparing packages...\u001b[0m (130/132)\n",
            "\u001b[2mnvidia-cudnn-cu12\u001b[0m \u001b[32m-------------------------\u001b[2m-----\u001b[0m\u001b[0m 519.82 MiB/633.96 MiB\n",
            "\u001b[2K\u001b[2A\u001b[37m⠼\u001b[0m \u001b[2mPreparing packages...\u001b[0m (130/132)\n",
            "\u001b[2mnvidia-cudnn-cu12\u001b[0m \u001b[32m-------------------------\u001b[2m-----\u001b[0m\u001b[0m 520.66 MiB/633.96 MiB\n",
            "\u001b[2K\u001b[2A\u001b[37m⠴\u001b[0m \u001b[2mPreparing packages...\u001b[0m (130/132)\n",
            "\u001b[2mnvidia-cudnn-cu12\u001b[0m \u001b[32m-------------------------\u001b[2m-----\u001b[0m\u001b[0m 522.31 MiB/633.96 MiB\n",
            "\u001b[2K\u001b[2A\u001b[37m⠴\u001b[0m \u001b[2mPreparing packages...\u001b[0m (130/132)\n",
            "\u001b[2mnvidia-cudnn-cu12\u001b[0m \u001b[32m-------------------------\u001b[2m-----\u001b[0m\u001b[0m 524.40 MiB/633.96 MiB\n",
            "\u001b[2K\u001b[2A\u001b[37m⠴\u001b[0m \u001b[2mPreparing packages...\u001b[0m (130/132)\n",
            "\u001b[2mnvidia-cudnn-cu12\u001b[0m \u001b[32m-------------------------\u001b[2m-----\u001b[0m\u001b[0m 525.13 MiB/633.96 MiB\n",
            "\u001b[2K\u001b[2A\u001b[37m⠴\u001b[0m \u001b[2mPreparing packages...\u001b[0m (130/132)\n",
            "\u001b[2mnvidia-cudnn-cu12\u001b[0m \u001b[32m-------------------------\u001b[2m-----\u001b[0m\u001b[0m 526.15 MiB/633.96 MiB\n",
            "\u001b[2K\u001b[2A\u001b[37m⠦\u001b[0m \u001b[2mPreparing packages...\u001b[0m (130/132)\n",
            "\u001b[2mnvidia-cudnn-cu12\u001b[0m \u001b[32m-------------------------\u001b[2m-----\u001b[0m\u001b[0m 528.10 MiB/633.96 MiB\n",
            "\u001b[2K\u001b[2A\u001b[37m⠦\u001b[0m \u001b[2mPreparing packages...\u001b[0m (130/132)\n",
            "\u001b[2mnvidia-cudnn-cu12\u001b[0m \u001b[32m--------------------------\u001b[2m----\u001b[0m\u001b[0m 530.13 MiB/633.96 MiB\n",
            "\u001b[2K\u001b[2A\u001b[37m⠦\u001b[0m \u001b[2mPreparing packages...\u001b[0m (130/132)\n",
            "\u001b[2mnvidia-cudnn-cu12\u001b[0m \u001b[32m--------------------------\u001b[2m----\u001b[0m\u001b[0m 531.72 MiB/633.96 MiB\n",
            "\u001b[2K\u001b[2A\u001b[37m⠦\u001b[0m \u001b[2mPreparing packages...\u001b[0m (130/132)\n",
            "\u001b[2mnvidia-cudnn-cu12\u001b[0m \u001b[32m--------------------------\u001b[2m----\u001b[0m\u001b[0m 532.85 MiB/633.96 MiB\n",
            "\u001b[2K\u001b[2A\u001b[37m⠧\u001b[0m \u001b[2mPreparing packages...\u001b[0m (130/132)\n",
            "\u001b[2mnvidia-cudnn-cu12\u001b[0m \u001b[32m--------------------------\u001b[2m----\u001b[0m\u001b[0m 534.18 MiB/633.96 MiB\n",
            "\u001b[2K\u001b[2A\u001b[37m⠧\u001b[0m \u001b[2mPreparing packages...\u001b[0m (130/132)\n",
            "\u001b[2mnvidia-cudnn-cu12\u001b[0m \u001b[32m--------------------------\u001b[2m----\u001b[0m\u001b[0m 536.15 MiB/633.96 MiB\n",
            "\u001b[2K\u001b[2A\u001b[37m⠧\u001b[0m \u001b[2mPreparing packages...\u001b[0m (130/132)\n",
            "\u001b[2mnvidia-cudnn-cu12\u001b[0m \u001b[32m--------------------------\u001b[2m----\u001b[0m\u001b[0m 538.12 MiB/633.96 MiB\n",
            "\u001b[2K\u001b[2A\u001b[37m⠧\u001b[0m \u001b[2mPreparing packages...\u001b[0m (130/132)\n",
            "\u001b[2mnvidia-cudnn-cu12\u001b[0m \u001b[32m--------------------------\u001b[2m----\u001b[0m\u001b[0m 539.64 MiB/633.96 MiB\n",
            "\u001b[2K\u001b[2A\u001b[37m⠇\u001b[0m \u001b[2mPreparing packages...\u001b[0m (130/132)\n",
            "\u001b[2mnvidia-cudnn-cu12\u001b[0m \u001b[32m--------------------------\u001b[2m----\u001b[0m\u001b[0m 540.83 MiB/633.96 MiB\n",
            "\u001b[2K\u001b[2A\u001b[37m⠇\u001b[0m \u001b[2mPreparing packages...\u001b[0m (130/132)\n",
            "\u001b[2mnvidia-cudnn-cu12\u001b[0m \u001b[32m--------------------------\u001b[2m----\u001b[0m\u001b[0m 542.17 MiB/633.96 MiB\n",
            "\u001b[2K\u001b[2A\u001b[37m⠇\u001b[0m \u001b[2mPreparing packages...\u001b[0m (130/132)\n",
            "\u001b[2mnvidia-cudnn-cu12\u001b[0m \u001b[32m--------------------------\u001b[2m----\u001b[0m\u001b[0m 544.12 MiB/633.96 MiB\n",
            "\u001b[2K\u001b[2A\u001b[37m⠇\u001b[0m \u001b[2mPreparing packages...\u001b[0m (130/132)\n",
            "\u001b[2mnvidia-cudnn-cu12\u001b[0m \u001b[32m--------------------------\u001b[2m----\u001b[0m\u001b[0m 546.15 MiB/633.96 MiB\n",
            "\u001b[2K\u001b[2A\u001b[37m⠋\u001b[0m \u001b[2mPreparing packages...\u001b[0m (130/132)\n",
            "\u001b[2mnvidia-cudnn-cu12\u001b[0m \u001b[32m--------------------------\u001b[2m----\u001b[0m\u001b[0m 548.14 MiB/633.96 MiB\n",
            "\u001b[2K\u001b[2A\u001b[37m⠋\u001b[0m \u001b[2mPreparing packages...\u001b[0m (130/132)\n",
            "\u001b[2mnvidia-cudnn-cu12\u001b[0m \u001b[32m---------------------------\u001b[2m---\u001b[0m\u001b[0m 549.47 MiB/633.96 MiB\n",
            "\u001b[2K\u001b[2A\u001b[37m⠋\u001b[0m \u001b[2mPreparing packages...\u001b[0m (130/132)\n",
            "\u001b[2mnvidia-cudnn-cu12\u001b[0m \u001b[32m---------------------------\u001b[2m---\u001b[0m\u001b[0m 550.83 MiB/633.96 MiB\n",
            "\u001b[2K\u001b[2A\u001b[37m⠙\u001b[0m \u001b[2mPreparing packages...\u001b[0m (130/132)\n",
            "\u001b[2mnvidia-cudnn-cu12\u001b[0m \u001b[32m---------------------------\u001b[2m---\u001b[0m\u001b[0m 552.15 MiB/633.96 MiB\n",
            "\u001b[2K\u001b[2A\u001b[37m⠙\u001b[0m \u001b[2mPreparing packages...\u001b[0m (130/132)\n",
            "\u001b[2mnvidia-cudnn-cu12\u001b[0m \u001b[32m---------------------------\u001b[2m---\u001b[0m\u001b[0m 554.12 MiB/633.96 MiB\n",
            "\u001b[2K\u001b[2A\u001b[37m⠙\u001b[0m \u001b[2mPreparing packages...\u001b[0m (130/132)\n",
            "\u001b[2mnvidia-cudnn-cu12\u001b[0m \u001b[32m---------------------------\u001b[2m---\u001b[0m\u001b[0m 556.09 MiB/633.96 MiB\n",
            "\u001b[2K\u001b[2A\u001b[37m⠙\u001b[0m \u001b[2mPreparing packages...\u001b[0m (130/132)\n",
            "\u001b[2mnvidia-cudnn-cu12\u001b[0m \u001b[32m---------------------------\u001b[2m---\u001b[0m\u001b[0m 556.62 MiB/633.96 MiB\n",
            "\u001b[2K\u001b[2A\u001b[37m⠙\u001b[0m \u001b[2mPreparing packages...\u001b[0m (130/132)\n",
            "\u001b[2mnvidia-cudnn-cu12\u001b[0m \u001b[32m---------------------------\u001b[2m---\u001b[0m\u001b[0m 558.64 MiB/633.96 MiB\n",
            "\u001b[2K\u001b[2A\u001b[37m⠹\u001b[0m \u001b[2mPreparing packages...\u001b[0m (130/132)\n",
            "\u001b[2mnvidia-cudnn-cu12\u001b[0m \u001b[32m---------------------------\u001b[2m---\u001b[0m\u001b[0m 560.59 MiB/633.96 MiB\n",
            "\u001b[2K\u001b[2A\u001b[37m⠹\u001b[0m \u001b[2mPreparing packages...\u001b[0m (130/132)\n",
            "\u001b[2mnvidia-cudnn-cu12\u001b[0m \u001b[32m---------------------------\u001b[2m---\u001b[0m\u001b[0m 562.64 MiB/633.96 MiB\n",
            "\u001b[2K\u001b[2A\u001b[37m⠹\u001b[0m \u001b[2mPreparing packages...\u001b[0m (130/132)\n",
            "\u001b[2mnvidia-cudnn-cu12\u001b[0m \u001b[32m---------------------------\u001b[2m---\u001b[0m\u001b[0m 564.12 MiB/633.96 MiB\n",
            "\u001b[2K\u001b[2A\u001b[37m⠹\u001b[0m \u001b[2mPreparing packages...\u001b[0m (130/132)\n",
            "\u001b[2mnvidia-cudnn-cu12\u001b[0m \u001b[32m---------------------------\u001b[2m---\u001b[0m\u001b[0m 565.51 MiB/633.96 MiB\n",
            "\u001b[2K\u001b[2A\u001b[37m⠸\u001b[0m \u001b[2mPreparing packages...\u001b[0m (130/132)\n",
            "\u001b[2mnvidia-cudnn-cu12\u001b[0m \u001b[32m---------------------------\u001b[2m---\u001b[0m\u001b[0m 567.26 MiB/633.96 MiB\n",
            "\u001b[2K\u001b[2A\u001b[37m⠸\u001b[0m \u001b[2mPreparing packages...\u001b[0m (130/132)\n",
            "\u001b[2mnvidia-cudnn-cu12\u001b[0m \u001b[32m---------------------------\u001b[2m---\u001b[0m\u001b[0m 569.11 MiB/633.96 MiB\n",
            "\u001b[2K\u001b[2A\u001b[37m⠸\u001b[0m \u001b[2mPreparing packages...\u001b[0m (130/132)\n",
            "\u001b[2mnvidia-cudnn-cu12\u001b[0m \u001b[32m----------------------------\u001b[2m--\u001b[0m\u001b[0m 570.62 MiB/633.96 MiB\n",
            "\u001b[2K\u001b[2A\u001b[37m⠸\u001b[0m \u001b[2mPreparing packages...\u001b[0m (130/132)\n",
            "\u001b[2mnvidia-cudnn-cu12\u001b[0m \u001b[32m----------------------------\u001b[2m--\u001b[0m\u001b[0m 572.59 MiB/633.96 MiB\n",
            "\u001b[2K\u001b[2A\u001b[37m⠼\u001b[0m \u001b[2mPreparing packages...\u001b[0m (130/132)\n",
            "\u001b[2mnvidia-cudnn-cu12\u001b[0m \u001b[32m----------------------------\u001b[2m--\u001b[0m\u001b[0m 574.44 MiB/633.96 MiB\n",
            "\u001b[2K\u001b[2A\u001b[37m⠼\u001b[0m \u001b[2mPreparing packages...\u001b[0m (130/132)\n",
            "\u001b[2mnvidia-cudnn-cu12\u001b[0m \u001b[32m----------------------------\u001b[2m--\u001b[0m\u001b[0m 575.89 MiB/633.96 MiB\n",
            "\u001b[2K\u001b[2A\u001b[37m⠼\u001b[0m \u001b[2mPreparing packages...\u001b[0m (130/132)\n",
            "\u001b[2mnvidia-cudnn-cu12\u001b[0m \u001b[32m----------------------------\u001b[2m--\u001b[0m\u001b[0m 577.28 MiB/633.96 MiB\n",
            "\u001b[2K\u001b[2A\u001b[37m⠼\u001b[0m \u001b[2mPreparing packages...\u001b[0m (130/132)\n",
            "\u001b[2mnvidia-cudnn-cu12\u001b[0m \u001b[32m----------------------------\u001b[2m--\u001b[0m\u001b[0m 579.31 MiB/633.96 MiB\n",
            "\u001b[2K\u001b[2A\u001b[37m⠴\u001b[0m \u001b[2mPreparing packages...\u001b[0m (130/132)\n",
            "\u001b[2mnvidia-cudnn-cu12\u001b[0m \u001b[32m----------------------------\u001b[2m--\u001b[0m\u001b[0m 581.29 MiB/633.96 MiB\n",
            "\u001b[2K\u001b[2A\u001b[37m⠴\u001b[0m \u001b[2mPreparing packages...\u001b[0m (130/132)\n",
            "\u001b[2mnvidia-cudnn-cu12\u001b[0m \u001b[32m----------------------------\u001b[2m--\u001b[0m\u001b[0m 583.28 MiB/633.96 MiB\n",
            "\u001b[2K\u001b[2A\u001b[37m⠴\u001b[0m \u001b[2mPreparing packages...\u001b[0m (130/132)\n",
            "\u001b[2mnvidia-cudnn-cu12\u001b[0m \u001b[32m----------------------------\u001b[2m--\u001b[0m\u001b[0m 584.64 MiB/633.96 MiB\n",
            "\u001b[2K\u001b[2A\u001b[37m⠴\u001b[0m \u001b[2mPreparing packages...\u001b[0m (130/132)\n",
            "\u001b[2mnvidia-cudnn-cu12\u001b[0m \u001b[32m----------------------------\u001b[2m--\u001b[0m\u001b[0m 586.18 MiB/633.96 MiB\n",
            "\u001b[2K\u001b[2A\u001b[37m⠦\u001b[0m \u001b[2mPreparing packages...\u001b[0m (130/132)\n",
            "\u001b[2mnvidia-cudnn-cu12\u001b[0m \u001b[32m----------------------------\u001b[2m--\u001b[0m\u001b[0m 587.47 MiB/633.96 MiB\n",
            "\u001b[2K\u001b[2A\u001b[37m⠦\u001b[0m \u001b[2mPreparing packages...\u001b[0m (130/132)\n",
            "\u001b[2mnvidia-cudnn-cu12\u001b[0m \u001b[32m----------------------------\u001b[2m--\u001b[0m\u001b[0m 589.30 MiB/633.96 MiB\n",
            "\u001b[2K\u001b[2A\u001b[37m⠦\u001b[0m \u001b[2mPreparing packages...\u001b[0m (130/132)\n",
            "\u001b[2mnvidia-cudnn-cu12\u001b[0m \u001b[32m----------------------------\u001b[2m--\u001b[0m\u001b[0m 591.30 MiB/633.96 MiB\n",
            "\u001b[2K\u001b[2A\u001b[37m⠦\u001b[0m \u001b[2mPreparing packages...\u001b[0m (130/132)\n",
            "\u001b[2mnvidia-cudnn-cu12\u001b[0m \u001b[32m-----------------------------\u001b[2m-\u001b[0m\u001b[0m 593.28 MiB/633.96 MiB\n",
            "\u001b[2K\u001b[2A\u001b[37m⠧\u001b[0m \u001b[2mPreparing packages...\u001b[0m (130/132)\n",
            "\u001b[2mnvidia-cudnn-cu12\u001b[0m \u001b[32m-----------------------------\u001b[2m-\u001b[0m\u001b[0m 594.73 MiB/633.96 MiB\n",
            "\u001b[2K\u001b[2A\u001b[37m⠧\u001b[0m \u001b[2mPreparing packages...\u001b[0m (130/132)\n",
            "\u001b[2mnvidia-cudnn-cu12\u001b[0m \u001b[32m-----------------------------\u001b[2m-\u001b[0m\u001b[0m 596.37 MiB/633.96 MiB\n",
            "\u001b[2K\u001b[2A\u001b[37m⠧\u001b[0m \u001b[2mPreparing packages...\u001b[0m (130/132)\n",
            "\u001b[2mnvidia-cudnn-cu12\u001b[0m \u001b[32m-----------------------------\u001b[2m-\u001b[0m\u001b[0m 598.14 MiB/633.96 MiB\n",
            "\u001b[2K\u001b[2A\u001b[37m⠧\u001b[0m \u001b[2mPreparing packages...\u001b[0m (130/132)\n",
            "\u001b[2mnvidia-cudnn-cu12\u001b[0m \u001b[32m-----------------------------\u001b[2m-\u001b[0m\u001b[0m 599.43 MiB/633.96 MiB\n",
            "\u001b[2K\u001b[2A\u001b[37m⠇\u001b[0m \u001b[2mPreparing packages...\u001b[0m (130/132)\n",
            "\u001b[2mnvidia-cudnn-cu12\u001b[0m \u001b[32m-----------------------------\u001b[2m-\u001b[0m\u001b[0m 601.30 MiB/633.96 MiB\n",
            "\u001b[2K\u001b[2A\u001b[37m⠇\u001b[0m \u001b[2mPreparing packages...\u001b[0m (130/132)\n",
            "\u001b[2mnvidia-cudnn-cu12\u001b[0m \u001b[32m-----------------------------\u001b[2m-\u001b[0m\u001b[0m 603.28 MiB/633.96 MiB\n",
            "\u001b[2K\u001b[2A\u001b[37m⠇\u001b[0m \u001b[2mPreparing packages...\u001b[0m (130/132)\n",
            "\u001b[2mnvidia-cudnn-cu12\u001b[0m \u001b[32m-----------------------------\u001b[2m-\u001b[0m\u001b[0m 604.91 MiB/633.96 MiB\n",
            "\u001b[2K\u001b[2A\u001b[37m⠇\u001b[0m \u001b[2mPreparing packages...\u001b[0m (130/132)\n",
            "\u001b[2mnvidia-cudnn-cu12\u001b[0m \u001b[32m-----------------------------\u001b[2m-\u001b[0m\u001b[0m 606.39 MiB/633.96 MiB\n",
            "\u001b[2K\u001b[2A\u001b[37m⠋\u001b[0m \u001b[2mPreparing packages...\u001b[0m (130/132)\n",
            "\u001b[2mnvidia-cudnn-cu12\u001b[0m \u001b[32m-----------------------------\u001b[2m-\u001b[0m\u001b[0m 607.91 MiB/633.96 MiB\n",
            "\u001b[2K\u001b[2A\u001b[37m⠋\u001b[0m \u001b[2mPreparing packages...\u001b[0m (130/132)\n",
            "\u001b[2mnvidia-cudnn-cu12\u001b[0m \u001b[32m-----------------------------\u001b[2m-\u001b[0m\u001b[0m 609.32 MiB/633.96 MiB\n",
            "\u001b[2K\u001b[2A\u001b[37m⠋\u001b[0m \u001b[2mPreparing packages...\u001b[0m (130/132)\n",
            "\u001b[2mnvidia-cudnn-cu12\u001b[0m \u001b[32m-----------------------------\u001b[2m-\u001b[0m\u001b[0m 611.31 MiB/633.96 MiB\n",
            "\u001b[2K\u001b[2A\u001b[37m⠋\u001b[0m \u001b[2mPreparing packages...\u001b[0m (130/132)\n",
            "\u001b[2mnvidia-cudnn-cu12\u001b[0m \u001b[32m------------------------------\u001b[2m\u001b[0m\u001b[0m 613.26 MiB/633.96 MiB\n",
            "\u001b[2K\u001b[2A\u001b[37m⠙\u001b[0m \u001b[2mPreparing packages...\u001b[0m (130/132)\n",
            "\u001b[2mnvidia-cudnn-cu12\u001b[0m \u001b[32m------------------------------\u001b[2m\u001b[0m\u001b[0m 615.32 MiB/633.96 MiB\n",
            "\u001b[2K\u001b[2A\u001b[37m⠙\u001b[0m \u001b[2mPreparing packages...\u001b[0m (130/132)\n",
            "\u001b[2mnvidia-cudnn-cu12\u001b[0m \u001b[32m------------------------------\u001b[2m\u001b[0m\u001b[0m 617.19 MiB/633.96 MiB\n",
            "\u001b[2K\u001b[2A\u001b[37m⠙\u001b[0m \u001b[2mPreparing packages...\u001b[0m (130/132)\n",
            "\u001b[2mnvidia-cudnn-cu12\u001b[0m \u001b[32m------------------------------\u001b[2m\u001b[0m\u001b[0m 618.32 MiB/633.96 MiB\n",
            "\u001b[2K\u001b[2A\u001b[37m⠙\u001b[0m \u001b[2mPreparing packages...\u001b[0m (130/132)\n",
            "\u001b[2mnvidia-cudnn-cu12\u001b[0m \u001b[32m------------------------------\u001b[2m\u001b[0m\u001b[0m 619.81 MiB/633.96 MiB\n",
            "\u001b[2K\u001b[2A\u001b[37m⠹\u001b[0m \u001b[2mPreparing packages...\u001b[0m (130/132)\n",
            "\u001b[2mnvidia-cudnn-cu12\u001b[0m \u001b[32m------------------------------\u001b[2m\u001b[0m\u001b[0m 621.66 MiB/633.96 MiB\n",
            "\u001b[2K\u001b[2A\u001b[37m⠹\u001b[0m \u001b[2mPreparing packages...\u001b[0m (130/132)\n",
            "\u001b[2mnvidia-cudnn-cu12\u001b[0m \u001b[32m------------------------------\u001b[2m\u001b[0m\u001b[0m 623.32 MiB/633.96 MiB\n",
            "\u001b[2K\u001b[2A\u001b[37m⠹\u001b[0m \u001b[2mPreparing packages...\u001b[0m (130/132)\n",
            "\u001b[2mnvidia-cudnn-cu12\u001b[0m \u001b[32m------------------------------\u001b[2m\u001b[0m\u001b[0m 625.30 MiB/633.96 MiB\n",
            "\u001b[2K\u001b[2A\u001b[37m⠹\u001b[0m \u001b[2mPreparing packages...\u001b[0m (130/132)\n",
            "\u001b[2mnvidia-cudnn-cu12\u001b[0m \u001b[32m------------------------------\u001b[2m\u001b[0m\u001b[0m 627.09 MiB/633.96 MiB\n",
            "\u001b[2K\u001b[2A\u001b[37m⠸\u001b[0m \u001b[2mPreparing packages...\u001b[0m (130/132)\n",
            "\u001b[2mnvidia-cudnn-cu12\u001b[0m \u001b[32m------------------------------\u001b[2m\u001b[0m\u001b[0m 628.80 MiB/633.96 MiB\n",
            "\u001b[2K\u001b[2A\u001b[37m⠸\u001b[0m \u001b[2mPreparing packages...\u001b[0m (130/132)\n",
            "\u001b[2mnvidia-cudnn-cu12\u001b[0m \u001b[32m------------------------------\u001b[2m\u001b[0m\u001b[0m 630.42 MiB/633.96 MiB\n",
            "\u001b[2K\u001b[2A\u001b[37m⠸\u001b[0m \u001b[2mPreparing packages...\u001b[0m (130/132)\n",
            "\u001b[2mnvidia-cudnn-cu12\u001b[0m \u001b[32m------------------------------\u001b[2m\u001b[0m\u001b[0m 633.08 MiB/633.96 MiB\n",
            "\u001b[2K\u001b[2A\u001b[37m⠸\u001b[0m \u001b[2mPreparing packages...\u001b[0m (130/132)\n",
            "\u001b[2mnvidia-cudnn-cu12\u001b[0m \u001b[32m------------------------------\u001b[2m\u001b[0m\u001b[0m 633.94 MiB/633.96 MiB\n",
            "\u001b[2K\u001b[2A\u001b[37m⠼\u001b[0m \u001b[2mPreparing packages...\u001b[0m (130/132)\n",
            "\u001b[2K\u001b[1A\u001b[37m⠼\u001b[0m \u001b[2mPreparing packages...\u001b[0m (130/132)\n",
            "\u001b[2K\u001b[1A\u001b[37m⠼\u001b[0m \u001b[2mPreparing packages...\u001b[0m (130/132)\n",
            "\u001b[2K\u001b[1A\u001b[37m⠼\u001b[0m \u001b[2mPreparing packages...\u001b[0m (130/132)\n",
            "\u001b[2K\u001b[1A\u001b[37m⠼\u001b[0m \u001b[2mPreparing packages...\u001b[0m (130/132)\n",
            "\u001b[2K\u001b[1A\u001b[37m⠴\u001b[0m \u001b[2mPreparing packages...\u001b[0m (131/132)\n",
            "\u001b[2K\u001b[1A\u001b[37m⠴\u001b[0m \u001b[2mPreparing packages...\u001b[0m (131/132)\n",
            "\u001b[2K\u001b[1A\u001b[37m⠴\u001b[0m \u001b[2mPreparing packages...\u001b[0m (131/132)\n",
            "\u001b[2K\u001b[1A\u001b[37m⠴\u001b[0m \u001b[2mPreparing packages...\u001b[0m (131/132)\n",
            "\u001b[2K\u001b[1A\u001b[37m⠦\u001b[0m \u001b[2mPreparing packages...\u001b[0m (131/132)\n",
            "\u001b[2K\u001b[1A\u001b[37m⠦\u001b[0m \u001b[2mPreparing packages...\u001b[0m (131/132)\n",
            "\u001b[2K\u001b[1A\u001b[37m⠦\u001b[0m \u001b[2mPreparing packages...\u001b[0m (131/132)\n",
            "\u001b[2K\u001b[1A\u001b[37m⠦\u001b[0m \u001b[2mPreparing packages...\u001b[0m (131/132)\n",
            "\u001b[2K\u001b[1A\u001b[37m⠧\u001b[0m \u001b[2mPreparing packages...\u001b[0m (131/132)\n",
            "\u001b[2K\u001b[1A\u001b[37m⠧\u001b[0m \u001b[2mPreparing packages...\u001b[0m (131/132)\n",
            "\u001b[2K\u001b[1A\u001b[37m⠧\u001b[0m \u001b[2mPreparing packages...\u001b[0m (131/132)\n",
            "\u001b[2K\u001b[1A\u001b[37m⠧\u001b[0m \u001b[2mPreparing packages...\u001b[0m (131/132)\n",
            "\u001b[2K\u001b[1A\u001b[37m⠇\u001b[0m \u001b[2mPreparing packages...\u001b[0m (131/132)\n",
            "\u001b[2K\u001b[1A\u001b[37m⠇\u001b[0m \u001b[2mPreparing packages...\u001b[0m (131/132)\n",
            "\u001b[2K\u001b[1A\u001b[37m⠇\u001b[0m \u001b[2mPreparing packages...\u001b[0m (131/132)\n",
            "\u001b[2K\u001b[1A\u001b[37m⠇\u001b[0m \u001b[2mPreparing packages...\u001b[0m (131/132)\n",
            "\u001b[2K\u001b[1A\u001b[37m⠋\u001b[0m \u001b[2mPreparing packages...\u001b[0m (131/132)\n",
            "\u001b[2K\u001b[1A\u001b[37m⠋\u001b[0m \u001b[2mPreparing packages...\u001b[0m (131/132)\n",
            "\u001b[2K\u001b[1A\u001b[37m⠋\u001b[0m \u001b[2mPreparing packages...\u001b[0m (131/132)\n",
            "\u001b[2K\u001b[1A\u001b[37m⠋\u001b[0m \u001b[2mPreparing packages...\u001b[0m (131/132)\n",
            "\u001b[2K\u001b[1A\u001b[37m⠙\u001b[0m \u001b[2mPreparing packages...\u001b[0m (131/132)\n",
            "\u001b[2K\u001b[1A\u001b[37m⠙\u001b[0m \u001b[2mPreparing packages...\u001b[0m (131/132)\n",
            "\u001b[2K\u001b[1A\u001b[37m⠙\u001b[0m \u001b[2mPreparing packages...\u001b[0m (131/132)\n",
            "\u001b[2K\u001b[1A\u001b[37m⠙\u001b[0m \u001b[2mPreparing packages...\u001b[0m (131/132)\n",
            "\u001b[2K\u001b[1A\u001b[37m⠹\u001b[0m \u001b[2mPreparing packages...\u001b[0m (131/132)\n",
            "\u001b[2K\u001b[1A\u001b[37m⠹\u001b[0m \u001b[2mPreparing packages...\u001b[0m (131/132)\n",
            "\u001b[2K\u001b[1A\u001b[37m⠹\u001b[0m \u001b[2mPreparing packages...\u001b[0m (131/132)\n",
            "\u001b[2K\u001b[1A\u001b[37m⠹\u001b[0m \u001b[2mPreparing packages...\u001b[0m (131/132)\n",
            "\u001b[2K\u001b[1A\u001b[37m⠸\u001b[0m \u001b[2mPreparing packages...\u001b[0m (131/132)\n",
            "\u001b[2K\u001b[1A\u001b[37m⠸\u001b[0m \u001b[2mPreparing packages...\u001b[0m (131/132)\n",
            "\u001b[2K\u001b[1A\u001b[37m⠸\u001b[0m \u001b[2mPreparing packages...\u001b[0m (131/132)\n",
            "\u001b[2K\u001b[1A\u001b[37m⠸\u001b[0m \u001b[2mPreparing packages...\u001b[0m (131/132)\n",
            "\u001b[2K\u001b[1A\u001b[37m⠼\u001b[0m \u001b[2mPreparing packages...\u001b[0m (131/132)\n",
            "\u001b[2K\u001b[1A\u001b[37m⠼\u001b[0m \u001b[2mPreparing packages...\u001b[0m (131/132)\n",
            "\u001b[2K\u001b[1A\u001b[37m⠼\u001b[0m \u001b[2mPreparing packages...\u001b[0m (131/132)\n",
            "\u001b[2K\u001b[1A\u001b[37m⠼\u001b[0m \u001b[2mPreparing packages...\u001b[0m (131/132)\n",
            "\u001b[2K\u001b[1A\u001b[37m⠴\u001b[0m \u001b[2mPreparing packages...\u001b[0m (131/132)\n",
            "\u001b[2K\u001b[1A\u001b[37m⠴\u001b[0m \u001b[2mPreparing packages...\u001b[0m (131/132)\n",
            "\u001b[2K\u001b[1A\u001b[37m⠴\u001b[0m \u001b[2mPreparing packages...\u001b[0m (131/132)\n",
            "\u001b[2K\u001b[1A\u001b[37m⠴\u001b[0m \u001b[2mPreparing packages...\u001b[0m (131/132)\n",
            "\u001b[2K\u001b[1A\u001b[37m⠦\u001b[0m \u001b[2mPreparing packages...\u001b[0m (131/132)\n",
            "\u001b[2K\u001b[1A\u001b[37m⠦\u001b[0m \u001b[2mPreparing packages...\u001b[0m (131/132)\n",
            "\u001b[2K\u001b[1A\u001b[37m⠦\u001b[0m \u001b[2mPreparing packages...\u001b[0m (131/132)\n",
            "\u001b[2K\u001b[1A\u001b[37m⠦\u001b[0m \u001b[2mPreparing packages...\u001b[0m (131/132)\n",
            "\u001b[2K\u001b[1A\u001b[37m⠧\u001b[0m \u001b[2mPreparing packages...\u001b[0m (131/132)\n",
            "\u001b[2K\u001b[1A\u001b[37m⠧\u001b[0m \u001b[2mPreparing packages...\u001b[0m (131/132)\n",
            "\u001b[2K\u001b[1A\u001b[37m⠧\u001b[0m \u001b[2mPreparing packages...\u001b[0m (131/132)\n",
            "\u001b[2K\u001b[1A\u001b[37m⠧\u001b[0m \u001b[2mPreparing packages...\u001b[0m (131/132)\n",
            "\u001b[2K\u001b[1A\u001b[37m⠇\u001b[0m \u001b[2mPreparing packages...\u001b[0m (131/132)\n",
            "\u001b[2K\u001b[1A\u001b[37m⠇\u001b[0m \u001b[2mPreparing packages...\u001b[0m (131/132)\n",
            "\u001b[2K\u001b[1A\u001b[37m⠇\u001b[0m \u001b[2mPreparing packages...\u001b[0m (131/132)\n",
            "\u001b[2K\u001b[1A\u001b[37m⠇\u001b[0m \u001b[2mPreparing packages...\u001b[0m (131/132)\n",
            "\u001b[2K\u001b[1A\u001b[37m⠋\u001b[0m \u001b[2mPreparing packages...\u001b[0m (131/132)\n",
            "\u001b[2K\u001b[1A\u001b[37m⠋\u001b[0m \u001b[2mPreparing packages...\u001b[0m (131/132)\n",
            "\u001b[2K\u001b[1A\u001b[37m⠋\u001b[0m \u001b[2mPreparing packages...\u001b[0m (131/132)\n",
            "\u001b[2K\u001b[1A\u001b[37m⠋\u001b[0m \u001b[2mPreparing packages...\u001b[0m (131/132)\n",
            "\u001b[2K\u001b[1A\u001b[37m⠙\u001b[0m \u001b[2mPreparing packages...\u001b[0m (131/132)\n",
            "\u001b[2K\u001b[1A\u001b[37m⠙\u001b[0m \u001b[2mPreparing packages...\u001b[0m (131/132)\n",
            "\u001b[2K\u001b[1A\u001b[37m⠙\u001b[0m \u001b[2mPreparing packages...\u001b[0m (131/132)\n",
            "\u001b[2K\u001b[1A\u001b[37m⠙\u001b[0m \u001b[2mPreparing packages...\u001b[0m (131/132)\n",
            "\u001b[2K\u001b[1A\u001b[37m⠹\u001b[0m \u001b[2mPreparing packages...\u001b[0m (131/132)\n",
            "\u001b[2K\u001b[1A\u001b[37m⠹\u001b[0m \u001b[2mPreparing packages...\u001b[0m (131/132)\n",
            "\u001b[2K\u001b[1A\u001b[37m⠹\u001b[0m \u001b[2mPreparing packages...\u001b[0m (131/132)\n",
            "\u001b[2K\u001b[1A\u001b[37m⠹\u001b[0m \u001b[2mPreparing packages...\u001b[0m (131/132)\n",
            "\u001b[2K\u001b[1A\u001b[37m⠸\u001b[0m \u001b[2mPreparing packages...\u001b[0m (131/132)\n",
            "\u001b[2K\u001b[1A\u001b[37m⠸\u001b[0m \u001b[2mPreparing packages...\u001b[0m (131/132)\n",
            "\u001b[2K\u001b[1A\u001b[37m⠸\u001b[0m \u001b[2mPreparing packages...\u001b[0m (131/132)\n",
            "\u001b[2K\u001b[1A\u001b[37m⠸\u001b[0m \u001b[2mPreparing packages...\u001b[0m (131/132)\n",
            "\u001b[2K\u001b[1A\u001b[37m⠼\u001b[0m \u001b[2mPreparing packages...\u001b[0m (131/132)\n",
            "\u001b[2K\u001b[1A\u001b[37m⠼\u001b[0m \u001b[2mPreparing packages...\u001b[0m (131/132)\n",
            "\u001b[2K\u001b[1A\u001b[37m⠼\u001b[0m \u001b[2mPreparing packages...\u001b[0m (131/132)\n",
            "\u001b[2K\u001b[1A\u001b[37m⠼\u001b[0m \u001b[2mPreparing packages...\u001b[0m (131/132)\n",
            "\u001b[2K\u001b[1A\u001b[37m⠴\u001b[0m \u001b[2mPreparing packages...\u001b[0m (131/132)\n",
            "\u001b[2K\u001b[1A\u001b[37m⠴\u001b[0m \u001b[2mPreparing packages...\u001b[0m (131/132)\n",
            "\u001b[2K\u001b[1A\u001b[37m⠴\u001b[0m \u001b[2mPreparing packages...\u001b[0m (131/132)\n",
            "\u001b[2K\u001b[1A\u001b[37m⠴\u001b[0m \u001b[2mPreparing packages...\u001b[0m (131/132)\n",
            "\u001b[2K\u001b[1A\u001b[37m⠦\u001b[0m \u001b[2mPreparing packages...\u001b[0m (131/132)\n",
            "\u001b[2K\u001b[1A\u001b[37m⠦\u001b[0m \u001b[2mPreparing packages...\u001b[0m (131/132)\n",
            "\u001b[2K\u001b[1A\u001b[37m⠦\u001b[0m \u001b[2mPreparing packages...\u001b[0m (131/132)\n",
            "\u001b[2K\u001b[1A\u001b[37m⠦\u001b[0m \u001b[2mPreparing packages...\u001b[0m (131/132)\n",
            "\u001b[2K\u001b[1A\u001b[37m⠧\u001b[0m \u001b[2mPreparing packages...\u001b[0m (131/132)\n",
            "\u001b[2K\u001b[1A\u001b[37m⠧\u001b[0m \u001b[2mPreparing packages...\u001b[0m (131/132)\n",
            "\u001b[2K\u001b[1A\u001b[37m⠧\u001b[0m \u001b[2mPreparing packages...\u001b[0m (131/132)\n",
            "\u001b[2K\u001b[1A\u001b[37m⠧\u001b[0m \u001b[2mPreparing packages...\u001b[0m (131/132)\n",
            "\u001b[2K\u001b[2mPrepared \u001b[1m132 packages\u001b[0m \u001b[2min 51.93s\u001b[0m\u001b[0m\n",
            "\u001b[2K\u001b[2mInstalled \u001b[1m132 packages\u001b[0m \u001b[2min 257ms\u001b[0m\u001b[0m\n",
            " \u001b[32m+\u001b[39m \u001b[1malembic\u001b[0m\u001b[2m==1.13.3\u001b[0m\n",
            " \u001b[32m+\u001b[39m \u001b[1mannotated-types\u001b[0m\u001b[2m==0.7.0\u001b[0m\n",
            " \u001b[32m+\u001b[39m \u001b[1manyio\u001b[0m\u001b[2m==4.5.2\u001b[0m\n",
            " \u001b[32m+\u001b[39m \u001b[1mblinker\u001b[0m\u001b[2m==1.8.2\u001b[0m\n",
            " \u001b[32m+\u001b[39m \u001b[1mcachetools\u001b[0m\u001b[2m==5.5.0\u001b[0m\n",
            " \u001b[32m+\u001b[39m \u001b[1mcertifi\u001b[0m\u001b[2m==2024.8.30\u001b[0m\n",
            " \u001b[32m+\u001b[39m \u001b[1mcffi\u001b[0m\u001b[2m==1.17.1\u001b[0m\n",
            " \u001b[32m+\u001b[39m \u001b[1mcharset-normalizer\u001b[0m\u001b[2m==3.4.0\u001b[0m\n",
            " \u001b[32m+\u001b[39m \u001b[1mclick\u001b[0m\u001b[2m==8.1.7\u001b[0m\n",
            " \u001b[32m+\u001b[39m \u001b[1mcloudpickle\u001b[0m\u001b[2m==3.0.0\u001b[0m\n",
            " \u001b[32m+\u001b[39m \u001b[1mcolorama\u001b[0m\u001b[2m==0.4.6\u001b[0m\n",
            " \u001b[32m+\u001b[39m \u001b[1mcontourpy\u001b[0m\u001b[2m==1.1.1\u001b[0m\n",
            " \u001b[32m+\u001b[39m \u001b[1mcycler\u001b[0m\u001b[2m==0.12.1\u001b[0m\n",
            " \u001b[32m+\u001b[39m \u001b[1mdeprecated\u001b[0m\u001b[2m==1.2.14\u001b[0m\n",
            " \u001b[32m+\u001b[39m \u001b[1mdnspython\u001b[0m\u001b[2m==2.6.1\u001b[0m\n",
            " \u001b[32m+\u001b[39m \u001b[1mdocker\u001b[0m\u001b[2m==7.1.0\u001b[0m\n",
            " \u001b[32m+\u001b[39m \u001b[1meinops\u001b[0m\u001b[2m==0.8.0\u001b[0m\n",
            " \u001b[32m+\u001b[39m \u001b[1memail-validator\u001b[0m\u001b[2m==2.2.0\u001b[0m\n",
            " \u001b[32m+\u001b[39m \u001b[1mentrypoints\u001b[0m\u001b[2m==0.4\u001b[0m\n",
            " \u001b[32m+\u001b[39m \u001b[1mexceptiongroup\u001b[0m\u001b[2m==1.2.2\u001b[0m\n",
            " \u001b[32m+\u001b[39m \u001b[1mfastapi\u001b[0m\u001b[2m==0.115.4\u001b[0m\n",
            " \u001b[32m+\u001b[39m \u001b[1mfastapi-cli\u001b[0m\u001b[2m==0.0.5\u001b[0m\n",
            " \u001b[32m+\u001b[39m \u001b[1mfilelock\u001b[0m\u001b[2m==3.16.1\u001b[0m\n",
            " \u001b[32m+\u001b[39m \u001b[1mflask\u001b[0m\u001b[2m==3.0.3\u001b[0m\n",
            " \u001b[32m+\u001b[39m \u001b[1mfonttools\u001b[0m\u001b[2m==4.54.1\u001b[0m\n",
            " \u001b[32m+\u001b[39m \u001b[1mfsspec\u001b[0m\u001b[2m==2024.10.0\u001b[0m\n",
            " \u001b[32m+\u001b[39m \u001b[1mftfy\u001b[0m\u001b[2m==6.2.3\u001b[0m\n",
            " \u001b[32m+\u001b[39m \u001b[1mfvcore\u001b[0m\u001b[2m==0.1.5.post20221221\u001b[0m\n",
            " \u001b[32m+\u001b[39m \u001b[1mgitdb\u001b[0m\u001b[2m==4.0.11\u001b[0m\n",
            " \u001b[32m+\u001b[39m \u001b[1mgitpython\u001b[0m\u001b[2m==3.1.43\u001b[0m\n",
            " \u001b[32m+\u001b[39m \u001b[1mgraphene\u001b[0m\u001b[2m==3.4\u001b[0m\n",
            " \u001b[32m+\u001b[39m \u001b[1mgraphql-core\u001b[0m\u001b[2m==3.2.5\u001b[0m\n",
            " \u001b[32m+\u001b[39m \u001b[1mgraphql-relay\u001b[0m\u001b[2m==3.2.0\u001b[0m\n",
            " \u001b[32m+\u001b[39m \u001b[1mgreenlet\u001b[0m\u001b[2m==3.1.1\u001b[0m\n",
            " \u001b[32m+\u001b[39m \u001b[1mgunicorn\u001b[0m\u001b[2m==22.0.0\u001b[0m\n",
            " \u001b[32m+\u001b[39m \u001b[1mh11\u001b[0m\u001b[2m==0.14.0\u001b[0m\n",
            " \u001b[32m+\u001b[39m \u001b[1mhttpcore\u001b[0m\u001b[2m==1.0.6\u001b[0m\n",
            " \u001b[32m+\u001b[39m \u001b[1mhttptools\u001b[0m\u001b[2m==0.6.4\u001b[0m\n",
            " \u001b[32m+\u001b[39m \u001b[1mhttpx\u001b[0m\u001b[2m==0.27.2\u001b[0m\n",
            " \u001b[32m+\u001b[39m \u001b[1mhuggingface-hub\u001b[0m\u001b[2m==0.26.1\u001b[0m\n",
            " \u001b[32m+\u001b[39m \u001b[1midna\u001b[0m\u001b[2m==3.10\u001b[0m\n",
            " \u001b[32m+\u001b[39m \u001b[1mimportlib-metadata\u001b[0m\u001b[2m==7.2.1\u001b[0m\n",
            " \u001b[32m+\u001b[39m \u001b[1mimportlib-resources\u001b[0m\u001b[2m==6.4.5\u001b[0m\n",
            " \u001b[32m+\u001b[39m \u001b[1miopath\u001b[0m\u001b[2m==0.1.10\u001b[0m\n",
            " \u001b[32m+\u001b[39m \u001b[1mitsdangerous\u001b[0m\u001b[2m==2.2.0\u001b[0m\n",
            " \u001b[32m+\u001b[39m \u001b[1mjinja2\u001b[0m\u001b[2m==3.1.4\u001b[0m\n",
            " \u001b[32m+\u001b[39m \u001b[1mjoblib\u001b[0m\u001b[2m==1.4.2\u001b[0m\n",
            " \u001b[32m+\u001b[39m \u001b[1mkiwisolver\u001b[0m\u001b[2m==1.4.7\u001b[0m\n",
            " \u001b[32m+\u001b[39m \u001b[1mmako\u001b[0m\u001b[2m==1.3.6\u001b[0m\n",
            " \u001b[32m+\u001b[39m \u001b[1mmarkdown\u001b[0m\u001b[2m==3.7\u001b[0m\n",
            " \u001b[32m+\u001b[39m \u001b[1mmarkdown-it-py\u001b[0m\u001b[2m==3.0.0\u001b[0m\n",
            " \u001b[32m+\u001b[39m \u001b[1mmarkupsafe\u001b[0m\u001b[2m==2.1.5\u001b[0m\n",
            " \u001b[32m+\u001b[39m \u001b[1mmatplotlib\u001b[0m\u001b[2m==3.7.5\u001b[0m\n",
            " \u001b[32m+\u001b[39m \u001b[1mmdurl\u001b[0m\u001b[2m==0.1.2\u001b[0m\n",
            " \u001b[32m+\u001b[39m \u001b[1mmlflow\u001b[0m\u001b[2m==2.14.3\u001b[0m\n",
            " \u001b[32m+\u001b[39m \u001b[1mmpmath\u001b[0m\u001b[2m==1.3.0\u001b[0m\n",
            " \u001b[32m+\u001b[39m \u001b[1mmup\u001b[0m\u001b[2m==1.0.0\u001b[0m\n",
            " \u001b[32m+\u001b[39m \u001b[1mnetworkx\u001b[0m\u001b[2m==3.1\u001b[0m\n",
            " \u001b[32m+\u001b[39m \u001b[1mnumpy\u001b[0m\u001b[2m==1.24.4\u001b[0m\n",
            " \u001b[32m+\u001b[39m \u001b[1mnvidia-cublas-cu12\u001b[0m\u001b[2m==12.1.3.1\u001b[0m\n",
            " \u001b[32m+\u001b[39m \u001b[1mnvidia-cuda-cupti-cu12\u001b[0m\u001b[2m==12.1.105\u001b[0m\n",
            " \u001b[32m+\u001b[39m \u001b[1mnvidia-cuda-nvrtc-cu12\u001b[0m\u001b[2m==12.1.105\u001b[0m\n",
            " \u001b[32m+\u001b[39m \u001b[1mnvidia-cuda-runtime-cu12\u001b[0m\u001b[2m==12.1.105\u001b[0m\n",
            " \u001b[32m+\u001b[39m \u001b[1mnvidia-cudnn-cu12\u001b[0m\u001b[2m==9.1.0.70\u001b[0m\n",
            " \u001b[32m+\u001b[39m \u001b[1mnvidia-cufft-cu12\u001b[0m\u001b[2m==11.0.2.54\u001b[0m\n",
            " \u001b[32m+\u001b[39m \u001b[1mnvidia-curand-cu12\u001b[0m\u001b[2m==10.3.2.106\u001b[0m\n",
            " \u001b[32m+\u001b[39m \u001b[1mnvidia-cusolver-cu12\u001b[0m\u001b[2m==11.4.5.107\u001b[0m\n",
            " \u001b[32m+\u001b[39m \u001b[1mnvidia-cusparse-cu12\u001b[0m\u001b[2m==12.1.0.106\u001b[0m\n",
            " \u001b[32m+\u001b[39m \u001b[1mnvidia-nccl-cu12\u001b[0m\u001b[2m==2.20.5\u001b[0m\n",
            " \u001b[32m+\u001b[39m \u001b[1mnvidia-nvjitlink-cu12\u001b[0m\u001b[2m==12.4.127\u001b[0m\n",
            " \u001b[32m+\u001b[39m \u001b[1mnvidia-nvtx-cu12\u001b[0m\u001b[2m==12.1.105\u001b[0m\n",
            " \u001b[32m+\u001b[39m \u001b[1mopentelemetry-api\u001b[0m\u001b[2m==1.27.0\u001b[0m\n",
            " \u001b[32m+\u001b[39m \u001b[1mopentelemetry-sdk\u001b[0m\u001b[2m==1.27.0\u001b[0m\n",
            " \u001b[32m+\u001b[39m \u001b[1mopentelemetry-semantic-conventions\u001b[0m\u001b[2m==0.48b0\u001b[0m\n",
            " \u001b[32m+\u001b[39m \u001b[1mpackaging\u001b[0m\u001b[2m==24.1\u001b[0m\n",
            " \u001b[32m+\u001b[39m \u001b[1mpandas\u001b[0m\u001b[2m==2.0.3\u001b[0m\n",
            " \u001b[32m+\u001b[39m \u001b[1mpillow\u001b[0m\u001b[2m==10.4.0\u001b[0m\n",
            " \u001b[32m+\u001b[39m \u001b[1mportalocker\u001b[0m\u001b[2m==2.10.1\u001b[0m\n",
            " \u001b[32m+\u001b[39m \u001b[1mprotobuf\u001b[0m\u001b[2m==4.25.5\u001b[0m\n",
            " \u001b[32m+\u001b[39m \u001b[1mpyarrow\u001b[0m\u001b[2m==15.0.2\u001b[0m\n",
            " \u001b[32m+\u001b[39m \u001b[1mpycparser\u001b[0m\u001b[2m==2.22\u001b[0m\n",
            " \u001b[32m+\u001b[39m \u001b[1mpydantic\u001b[0m\u001b[2m==2.9.2\u001b[0m\n",
            " \u001b[32m+\u001b[39m \u001b[1mpydantic-core\u001b[0m\u001b[2m==2.23.4\u001b[0m\n",
            " \u001b[32m+\u001b[39m \u001b[1mpygments\u001b[0m\u001b[2m==2.18.0\u001b[0m\n",
            " \u001b[32m+\u001b[39m \u001b[1mpyparsing\u001b[0m\u001b[2m==3.1.4\u001b[0m\n",
            " \u001b[32m+\u001b[39m \u001b[1mpython-dateutil\u001b[0m\u001b[2m==2.9.0.post0\u001b[0m\n",
            " \u001b[32m+\u001b[39m \u001b[1mpython-dotenv\u001b[0m\u001b[2m==1.0.1\u001b[0m\n",
            " \u001b[32m+\u001b[39m \u001b[1mpython-multipart\u001b[0m\u001b[2m==0.0.17\u001b[0m\n",
            " \u001b[32m+\u001b[39m \u001b[1mpytz\u001b[0m\u001b[2m==2024.2\u001b[0m\n",
            " \u001b[32m+\u001b[39m \u001b[1mpyyaml\u001b[0m\u001b[2m==6.0.2\u001b[0m\n",
            " \u001b[32m+\u001b[39m \u001b[1mquerystring-parser\u001b[0m\u001b[2m==1.2.4\u001b[0m\n",
            " \u001b[32m+\u001b[39m \u001b[1mregex\u001b[0m\u001b[2m==2024.9.11\u001b[0m\n",
            " \u001b[32m+\u001b[39m \u001b[1mrequests\u001b[0m\u001b[2m==2.32.3\u001b[0m\n",
            " \u001b[32m+\u001b[39m \u001b[1mrich\u001b[0m\u001b[2m==13.9.4\u001b[0m\n",
            " \u001b[32m+\u001b[39m \u001b[1msafetensors\u001b[0m\u001b[2m==0.4.5\u001b[0m\n",
            " \u001b[32m+\u001b[39m \u001b[1mscikit-learn\u001b[0m\u001b[2m==1.3.2\u001b[0m\n",
            " \u001b[32m+\u001b[39m \u001b[1mscipy\u001b[0m\u001b[2m==1.10.1\u001b[0m\n",
            " \u001b[32m+\u001b[39m \u001b[1mseaborn\u001b[0m\u001b[2m==0.13.2\u001b[0m\n",
            " \u001b[32m+\u001b[39m \u001b[1msentencepiece\u001b[0m\u001b[2m==0.2.0\u001b[0m\n",
            " \u001b[32m+\u001b[39m \u001b[1mshellingham\u001b[0m\u001b[2m==1.5.4\u001b[0m\n",
            " \u001b[32m+\u001b[39m \u001b[1msix\u001b[0m\u001b[2m==1.16.0\u001b[0m\n",
            " \u001b[32m+\u001b[39m \u001b[1msmmap\u001b[0m\u001b[2m==5.0.1\u001b[0m\n",
            " \u001b[32m+\u001b[39m \u001b[1msniffio\u001b[0m\u001b[2m==1.3.1\u001b[0m\n",
            " \u001b[32m+\u001b[39m \u001b[1msqlalchemy\u001b[0m\u001b[2m==2.0.36\u001b[0m\n",
            " \u001b[32m+\u001b[39m \u001b[1msqlparse\u001b[0m\u001b[2m==0.5.1\u001b[0m\n",
            " \u001b[32m+\u001b[39m \u001b[1mstarlette\u001b[0m\u001b[2m==0.41.2\u001b[0m\n",
            " \u001b[32m+\u001b[39m \u001b[1msympy\u001b[0m\u001b[2m==1.12.1\u001b[0m\n",
            " \u001b[32m+\u001b[39m \u001b[1mtabulate\u001b[0m\u001b[2m==0.9.0\u001b[0m\n",
            " \u001b[32m+\u001b[39m \u001b[1mtenacity\u001b[0m\u001b[2m==9.0.0\u001b[0m\n",
            " \u001b[32m+\u001b[39m \u001b[1mtermcolor\u001b[0m\u001b[2m==2.4.0\u001b[0m\n",
            " \u001b[32m+\u001b[39m \u001b[1mthreadpoolctl\u001b[0m\u001b[2m==3.5.0\u001b[0m\n",
            " \u001b[32m+\u001b[39m \u001b[1mtimm\u001b[0m\u001b[2m==1.0.9\u001b[0m\n",
            " \u001b[32m+\u001b[39m \u001b[1mtokenizers\u001b[0m\u001b[2m==0.20.1\u001b[0m\n",
            " \u001b[32m+\u001b[39m \u001b[1mtorch\u001b[0m\u001b[2m==2.4.1\u001b[0m\n",
            " \u001b[32m+\u001b[39m \u001b[1mtorchvision\u001b[0m\u001b[2m==0.19.1\u001b[0m\n",
            " \u001b[32m+\u001b[39m \u001b[1mtornado\u001b[0m\u001b[2m==6.4.1\u001b[0m\n",
            " \u001b[32m+\u001b[39m \u001b[1mtqdm\u001b[0m\u001b[2m==4.66.5\u001b[0m\n",
            " \u001b[32m+\u001b[39m \u001b[1mtransformers\u001b[0m\u001b[2m==4.46.0\u001b[0m\n",
            " \u001b[32m+\u001b[39m \u001b[1mtriton\u001b[0m\u001b[2m==3.0.0\u001b[0m\n",
            " \u001b[32m+\u001b[39m \u001b[1mtyper\u001b[0m\u001b[2m==0.12.5\u001b[0m\n",
            " \u001b[32m+\u001b[39m \u001b[1mtyping-extensions\u001b[0m\u001b[2m==4.12.2\u001b[0m\n",
            " \u001b[32m+\u001b[39m \u001b[1mtzdata\u001b[0m\u001b[2m==2024.2\u001b[0m\n",
            " \u001b[32m+\u001b[39m \u001b[1murllib3\u001b[0m\u001b[2m==2.2.3\u001b[0m\n",
            " \u001b[32m+\u001b[39m \u001b[1muvicorn\u001b[0m\u001b[2m==0.32.0\u001b[0m\n",
            " \u001b[32m+\u001b[39m \u001b[1muvloop\u001b[0m\u001b[2m==0.21.0\u001b[0m\n",
            " \u001b[32m+\u001b[39m \u001b[1mwatchfiles\u001b[0m\u001b[2m==0.24.0\u001b[0m\n",
            " \u001b[32m+\u001b[39m \u001b[1mwcwidth\u001b[0m\u001b[2m==0.2.13\u001b[0m\n",
            " \u001b[32m+\u001b[39m \u001b[1mwebsockets\u001b[0m\u001b[2m==13.1\u001b[0m\n",
            " \u001b[32m+\u001b[39m \u001b[1mwerkzeug\u001b[0m\u001b[2m==3.0.6\u001b[0m\n",
            " \u001b[32m+\u001b[39m \u001b[1mwrapt\u001b[0m\u001b[2m==1.16.0\u001b[0m\n",
            " \u001b[32m+\u001b[39m \u001b[1myacs\u001b[0m\u001b[2m==0.1.8\u001b[0m\n",
            " \u001b[32m+\u001b[39m \u001b[1mzipp\u001b[0m\u001b[2m==3.20.2\u001b[0m\n"
          ]
        }
      ]
    },
    {
      "cell_type": "code",
      "source": [
        "!pip install mup"
      ],
      "metadata": {
        "colab": {
          "base_uri": "https://localhost:8080/"
        },
        "id": "LsW5Y6RVss5z",
        "outputId": "d31a8caa-70ac-43ec-b2da-37a40d39cc92"
      },
      "execution_count": 6,
      "outputs": [
        {
          "output_type": "stream",
          "name": "stdout",
          "text": [
            "Collecting mup\n",
            "  Downloading mup-1.0.0.tar.gz (28 kB)\n",
            "  Preparing metadata (setup.py) ... \u001b[?25l\u001b[?25hdone\n",
            "Requirement already satisfied: numpy in /usr/local/lib/python3.11/dist-packages (from mup) (2.0.2)\n",
            "Requirement already satisfied: pandas in /usr/local/lib/python3.11/dist-packages (from mup) (2.2.2)\n",
            "Requirement already satisfied: torch in /usr/local/lib/python3.11/dist-packages (from mup) (2.6.0+cu124)\n",
            "Requirement already satisfied: torchvision in /usr/local/lib/python3.11/dist-packages (from mup) (0.21.0+cu124)\n",
            "Requirement already satisfied: seaborn in /usr/local/lib/python3.11/dist-packages (from mup) (0.13.2)\n",
            "Requirement already satisfied: tqdm in /usr/local/lib/python3.11/dist-packages (from mup) (4.67.1)\n",
            "Requirement already satisfied: pyyaml in /usr/local/lib/python3.11/dist-packages (from mup) (6.0.2)\n",
            "Requirement already satisfied: python-dateutil>=2.8.2 in /usr/local/lib/python3.11/dist-packages (from pandas->mup) (2.8.2)\n",
            "Requirement already satisfied: pytz>=2020.1 in /usr/local/lib/python3.11/dist-packages (from pandas->mup) (2025.2)\n",
            "Requirement already satisfied: tzdata>=2022.7 in /usr/local/lib/python3.11/dist-packages (from pandas->mup) (2025.2)\n",
            "Requirement already satisfied: matplotlib!=3.6.1,>=3.4 in /usr/local/lib/python3.11/dist-packages (from seaborn->mup) (3.10.0)\n",
            "Requirement already satisfied: filelock in /usr/local/lib/python3.11/dist-packages (from torch->mup) (3.18.0)\n",
            "Requirement already satisfied: typing-extensions>=4.10.0 in /usr/local/lib/python3.11/dist-packages (from torch->mup) (4.13.0)\n",
            "Requirement already satisfied: networkx in /usr/local/lib/python3.11/dist-packages (from torch->mup) (3.4.2)\n",
            "Requirement already satisfied: jinja2 in /usr/local/lib/python3.11/dist-packages (from torch->mup) (3.1.6)\n",
            "Requirement already satisfied: fsspec in /usr/local/lib/python3.11/dist-packages (from torch->mup) (2025.3.0)\n",
            "Collecting nvidia-cuda-nvrtc-cu12==12.4.127 (from torch->mup)\n",
            "  Downloading nvidia_cuda_nvrtc_cu12-12.4.127-py3-none-manylinux2014_x86_64.whl.metadata (1.5 kB)\n",
            "Collecting nvidia-cuda-runtime-cu12==12.4.127 (from torch->mup)\n",
            "  Downloading nvidia_cuda_runtime_cu12-12.4.127-py3-none-manylinux2014_x86_64.whl.metadata (1.5 kB)\n",
            "Collecting nvidia-cuda-cupti-cu12==12.4.127 (from torch->mup)\n",
            "  Downloading nvidia_cuda_cupti_cu12-12.4.127-py3-none-manylinux2014_x86_64.whl.metadata (1.6 kB)\n",
            "Collecting nvidia-cudnn-cu12==9.1.0.70 (from torch->mup)\n",
            "  Downloading nvidia_cudnn_cu12-9.1.0.70-py3-none-manylinux2014_x86_64.whl.metadata (1.6 kB)\n",
            "Collecting nvidia-cublas-cu12==12.4.5.8 (from torch->mup)\n",
            "  Downloading nvidia_cublas_cu12-12.4.5.8-py3-none-manylinux2014_x86_64.whl.metadata (1.5 kB)\n",
            "Collecting nvidia-cufft-cu12==11.2.1.3 (from torch->mup)\n",
            "  Downloading nvidia_cufft_cu12-11.2.1.3-py3-none-manylinux2014_x86_64.whl.metadata (1.5 kB)\n",
            "Collecting nvidia-curand-cu12==10.3.5.147 (from torch->mup)\n",
            "  Downloading nvidia_curand_cu12-10.3.5.147-py3-none-manylinux2014_x86_64.whl.metadata (1.5 kB)\n",
            "Collecting nvidia-cusolver-cu12==11.6.1.9 (from torch->mup)\n",
            "  Downloading nvidia_cusolver_cu12-11.6.1.9-py3-none-manylinux2014_x86_64.whl.metadata (1.6 kB)\n",
            "Collecting nvidia-cusparse-cu12==12.3.1.170 (from torch->mup)\n",
            "  Downloading nvidia_cusparse_cu12-12.3.1.170-py3-none-manylinux2014_x86_64.whl.metadata (1.6 kB)\n",
            "Requirement already satisfied: nvidia-cusparselt-cu12==0.6.2 in /usr/local/lib/python3.11/dist-packages (from torch->mup) (0.6.2)\n",
            "Requirement already satisfied: nvidia-nccl-cu12==2.21.5 in /usr/local/lib/python3.11/dist-packages (from torch->mup) (2.21.5)\n",
            "Requirement already satisfied: nvidia-nvtx-cu12==12.4.127 in /usr/local/lib/python3.11/dist-packages (from torch->mup) (12.4.127)\n",
            "Collecting nvidia-nvjitlink-cu12==12.4.127 (from torch->mup)\n",
            "  Downloading nvidia_nvjitlink_cu12-12.4.127-py3-none-manylinux2014_x86_64.whl.metadata (1.5 kB)\n",
            "Requirement already satisfied: triton==3.2.0 in /usr/local/lib/python3.11/dist-packages (from torch->mup) (3.2.0)\n",
            "Requirement already satisfied: sympy==1.13.1 in /usr/local/lib/python3.11/dist-packages (from torch->mup) (1.13.1)\n",
            "Requirement already satisfied: mpmath<1.4,>=1.1.0 in /usr/local/lib/python3.11/dist-packages (from sympy==1.13.1->torch->mup) (1.3.0)\n",
            "Requirement already satisfied: pillow!=8.3.*,>=5.3.0 in /usr/local/lib/python3.11/dist-packages (from torchvision->mup) (11.1.0)\n",
            "Requirement already satisfied: contourpy>=1.0.1 in /usr/local/lib/python3.11/dist-packages (from matplotlib!=3.6.1,>=3.4->seaborn->mup) (1.3.1)\n",
            "Requirement already satisfied: cycler>=0.10 in /usr/local/lib/python3.11/dist-packages (from matplotlib!=3.6.1,>=3.4->seaborn->mup) (0.12.1)\n",
            "Requirement already satisfied: fonttools>=4.22.0 in /usr/local/lib/python3.11/dist-packages (from matplotlib!=3.6.1,>=3.4->seaborn->mup) (4.56.0)\n",
            "Requirement already satisfied: kiwisolver>=1.3.1 in /usr/local/lib/python3.11/dist-packages (from matplotlib!=3.6.1,>=3.4->seaborn->mup) (1.4.8)\n",
            "Requirement already satisfied: packaging>=20.0 in /usr/local/lib/python3.11/dist-packages (from matplotlib!=3.6.1,>=3.4->seaborn->mup) (24.2)\n",
            "Requirement already satisfied: pyparsing>=2.3.1 in /usr/local/lib/python3.11/dist-packages (from matplotlib!=3.6.1,>=3.4->seaborn->mup) (3.2.3)\n",
            "Requirement already satisfied: six>=1.5 in /usr/local/lib/python3.11/dist-packages (from python-dateutil>=2.8.2->pandas->mup) (1.17.0)\n",
            "Requirement already satisfied: MarkupSafe>=2.0 in /usr/local/lib/python3.11/dist-packages (from jinja2->torch->mup) (3.0.2)\n",
            "Downloading nvidia_cublas_cu12-12.4.5.8-py3-none-manylinux2014_x86_64.whl (363.4 MB)\n",
            "\u001b[2K   \u001b[90m━━━━━━━━━━━━━━━━━━━━━━━━━━━━━━━━━━━━━━━━\u001b[0m \u001b[32m363.4/363.4 MB\u001b[0m \u001b[31m2.2 MB/s\u001b[0m eta \u001b[36m0:00:00\u001b[0m\n",
            "\u001b[?25hDownloading nvidia_cuda_cupti_cu12-12.4.127-py3-none-manylinux2014_x86_64.whl (13.8 MB)\n",
            "\u001b[2K   \u001b[90m━━━━━━━━━━━━━━━━━━━━━━━━━━━━━━━━━━━━━━━━\u001b[0m \u001b[32m13.8/13.8 MB\u001b[0m \u001b[31m115.3 MB/s\u001b[0m eta \u001b[36m0:00:00\u001b[0m\n",
            "\u001b[?25hDownloading nvidia_cuda_nvrtc_cu12-12.4.127-py3-none-manylinux2014_x86_64.whl (24.6 MB)\n",
            "\u001b[2K   \u001b[90m━━━━━━━━━━━━━━━━━━━━━━━━━━━━━━━━━━━━━━━━\u001b[0m \u001b[32m24.6/24.6 MB\u001b[0m \u001b[31m90.5 MB/s\u001b[0m eta \u001b[36m0:00:00\u001b[0m\n",
            "\u001b[?25hDownloading nvidia_cuda_runtime_cu12-12.4.127-py3-none-manylinux2014_x86_64.whl (883 kB)\n",
            "\u001b[2K   \u001b[90m━━━━━━━━━━━━━━━━━━━━━━━━━━━━━━━━━━━━━━━━\u001b[0m \u001b[32m883.7/883.7 kB\u001b[0m \u001b[31m54.6 MB/s\u001b[0m eta \u001b[36m0:00:00\u001b[0m\n",
            "\u001b[?25hDownloading nvidia_cudnn_cu12-9.1.0.70-py3-none-manylinux2014_x86_64.whl (664.8 MB)\n",
            "\u001b[2K   \u001b[90m━━━━━━━━━━━━━━━━━━━━━━━━━━━━━━━━━━━━━━━━\u001b[0m \u001b[32m664.8/664.8 MB\u001b[0m \u001b[31m1.6 MB/s\u001b[0m eta \u001b[36m0:00:00\u001b[0m\n",
            "\u001b[?25hDownloading nvidia_cufft_cu12-11.2.1.3-py3-none-manylinux2014_x86_64.whl (211.5 MB)\n",
            "\u001b[2K   \u001b[90m━━━━━━━━━━━━━━━━━━━━━━━━━━━━━━━━━━━━━━━━\u001b[0m \u001b[32m211.5/211.5 MB\u001b[0m \u001b[31m10.8 MB/s\u001b[0m eta \u001b[36m0:00:00\u001b[0m\n",
            "\u001b[?25hDownloading nvidia_curand_cu12-10.3.5.147-py3-none-manylinux2014_x86_64.whl (56.3 MB)\n",
            "\u001b[2K   \u001b[90m━━━━━━━━━━━━━━━━━━━━━━━━━━━━━━━━━━━━━━━━\u001b[0m \u001b[32m56.3/56.3 MB\u001b[0m \u001b[31m39.8 MB/s\u001b[0m eta \u001b[36m0:00:00\u001b[0m\n",
            "\u001b[?25hDownloading nvidia_cusolver_cu12-11.6.1.9-py3-none-manylinux2014_x86_64.whl (127.9 MB)\n",
            "\u001b[2K   \u001b[90m━━━━━━━━━━━━━━━━━━━━━━━━━━━━━━━━━━━━━━━━\u001b[0m \u001b[32m127.9/127.9 MB\u001b[0m \u001b[31m18.1 MB/s\u001b[0m eta \u001b[36m0:00:00\u001b[0m\n",
            "\u001b[?25hDownloading nvidia_cusparse_cu12-12.3.1.170-py3-none-manylinux2014_x86_64.whl (207.5 MB)\n",
            "\u001b[2K   \u001b[90m━━━━━━━━━━━━━━━━━━━━━━━━━━━━━━━━━━━━━━━━\u001b[0m \u001b[32m207.5/207.5 MB\u001b[0m \u001b[31m4.6 MB/s\u001b[0m eta \u001b[36m0:00:00\u001b[0m\n",
            "\u001b[?25hDownloading nvidia_nvjitlink_cu12-12.4.127-py3-none-manylinux2014_x86_64.whl (21.1 MB)\n",
            "\u001b[2K   \u001b[90m━━━━━━━━━━━━━━━━━━━━━━━━━━━━━━━━━━━━━━━━\u001b[0m \u001b[32m21.1/21.1 MB\u001b[0m \u001b[31m96.5 MB/s\u001b[0m eta \u001b[36m0:00:00\u001b[0m\n",
            "\u001b[?25hBuilding wheels for collected packages: mup\n",
            "  Building wheel for mup (setup.py) ... \u001b[?25l\u001b[?25hdone\n",
            "  Created wheel for mup: filename=mup-1.0.0-py3-none-any.whl size=23629 sha256=9969e7df13e9f8b34b50399c69fb01ec6684e81767cb532a2151c0d95fe1401b\n",
            "  Stored in directory: /root/.cache/pip/wheels/9a/49/54/315f4097f19b089b6972797d647b830481e4319990e29460b0\n",
            "Successfully built mup\n",
            "Installing collected packages: nvidia-nvjitlink-cu12, nvidia-curand-cu12, nvidia-cufft-cu12, nvidia-cuda-runtime-cu12, nvidia-cuda-nvrtc-cu12, nvidia-cuda-cupti-cu12, nvidia-cublas-cu12, nvidia-cusparse-cu12, nvidia-cudnn-cu12, nvidia-cusolver-cu12, mup\n",
            "  Attempting uninstall: nvidia-nvjitlink-cu12\n",
            "    Found existing installation: nvidia-nvjitlink-cu12 12.5.82\n",
            "    Uninstalling nvidia-nvjitlink-cu12-12.5.82:\n",
            "      Successfully uninstalled nvidia-nvjitlink-cu12-12.5.82\n",
            "  Attempting uninstall: nvidia-curand-cu12\n",
            "    Found existing installation: nvidia-curand-cu12 10.3.6.82\n",
            "    Uninstalling nvidia-curand-cu12-10.3.6.82:\n",
            "      Successfully uninstalled nvidia-curand-cu12-10.3.6.82\n",
            "  Attempting uninstall: nvidia-cufft-cu12\n",
            "    Found existing installation: nvidia-cufft-cu12 11.2.3.61\n",
            "    Uninstalling nvidia-cufft-cu12-11.2.3.61:\n",
            "      Successfully uninstalled nvidia-cufft-cu12-11.2.3.61\n",
            "  Attempting uninstall: nvidia-cuda-runtime-cu12\n",
            "    Found existing installation: nvidia-cuda-runtime-cu12 12.5.82\n",
            "    Uninstalling nvidia-cuda-runtime-cu12-12.5.82:\n",
            "      Successfully uninstalled nvidia-cuda-runtime-cu12-12.5.82\n",
            "  Attempting uninstall: nvidia-cuda-nvrtc-cu12\n",
            "    Found existing installation: nvidia-cuda-nvrtc-cu12 12.5.82\n",
            "    Uninstalling nvidia-cuda-nvrtc-cu12-12.5.82:\n",
            "      Successfully uninstalled nvidia-cuda-nvrtc-cu12-12.5.82\n",
            "  Attempting uninstall: nvidia-cuda-cupti-cu12\n",
            "    Found existing installation: nvidia-cuda-cupti-cu12 12.5.82\n",
            "    Uninstalling nvidia-cuda-cupti-cu12-12.5.82:\n",
            "      Successfully uninstalled nvidia-cuda-cupti-cu12-12.5.82\n",
            "  Attempting uninstall: nvidia-cublas-cu12\n",
            "    Found existing installation: nvidia-cublas-cu12 12.5.3.2\n",
            "    Uninstalling nvidia-cublas-cu12-12.5.3.2:\n",
            "      Successfully uninstalled nvidia-cublas-cu12-12.5.3.2\n",
            "  Attempting uninstall: nvidia-cusparse-cu12\n",
            "    Found existing installation: nvidia-cusparse-cu12 12.5.1.3\n",
            "    Uninstalling nvidia-cusparse-cu12-12.5.1.3:\n",
            "      Successfully uninstalled nvidia-cusparse-cu12-12.5.1.3\n",
            "  Attempting uninstall: nvidia-cudnn-cu12\n",
            "    Found existing installation: nvidia-cudnn-cu12 9.3.0.75\n",
            "    Uninstalling nvidia-cudnn-cu12-9.3.0.75:\n",
            "      Successfully uninstalled nvidia-cudnn-cu12-9.3.0.75\n",
            "  Attempting uninstall: nvidia-cusolver-cu12\n",
            "    Found existing installation: nvidia-cusolver-cu12 11.6.3.83\n",
            "    Uninstalling nvidia-cusolver-cu12-11.6.3.83:\n",
            "      Successfully uninstalled nvidia-cusolver-cu12-11.6.3.83\n",
            "Successfully installed mup-1.0.0 nvidia-cublas-cu12-12.4.5.8 nvidia-cuda-cupti-cu12-12.4.127 nvidia-cuda-nvrtc-cu12-12.4.127 nvidia-cuda-runtime-cu12-12.4.127 nvidia-cudnn-cu12-9.1.0.70 nvidia-cufft-cu12-11.2.1.3 nvidia-curand-cu12-10.3.5.147 nvidia-cusolver-cu12-11.6.1.9 nvidia-cusparse-cu12-12.3.1.170 nvidia-nvjitlink-cu12-12.4.127\n"
          ]
        }
      ]
    },
    {
      "cell_type": "code",
      "source": [
        "!pip install fvcore"
      ],
      "metadata": {
        "colab": {
          "base_uri": "https://localhost:8080/"
        },
        "id": "0FEvMoHwtORF",
        "outputId": "e85e1d37-554d-4d8d-acc9-c92197ffea05"
      },
      "execution_count": 7,
      "outputs": [
        {
          "output_type": "stream",
          "name": "stdout",
          "text": [
            "Collecting fvcore\n",
            "  Downloading fvcore-0.1.5.post20221221.tar.gz (50 kB)\n",
            "\u001b[2K     \u001b[90m━━━━━━━━━━━━━━━━━━━━━━━━━━━━━━━━━━━━━━━━\u001b[0m \u001b[32m50.2/50.2 kB\u001b[0m \u001b[31m2.4 MB/s\u001b[0m eta \u001b[36m0:00:00\u001b[0m\n",
            "\u001b[?25h  Preparing metadata (setup.py) ... \u001b[?25l\u001b[?25hdone\n",
            "Requirement already satisfied: numpy in /usr/local/lib/python3.11/dist-packages (from fvcore) (2.0.2)\n",
            "Collecting yacs>=0.1.6 (from fvcore)\n",
            "  Downloading yacs-0.1.8-py3-none-any.whl.metadata (639 bytes)\n",
            "Requirement already satisfied: pyyaml>=5.1 in /usr/local/lib/python3.11/dist-packages (from fvcore) (6.0.2)\n",
            "Requirement already satisfied: tqdm in /usr/local/lib/python3.11/dist-packages (from fvcore) (4.67.1)\n",
            "Requirement already satisfied: termcolor>=1.1 in /usr/local/lib/python3.11/dist-packages (from fvcore) (2.5.0)\n",
            "Requirement already satisfied: Pillow in /usr/local/lib/python3.11/dist-packages (from fvcore) (11.1.0)\n",
            "Requirement already satisfied: tabulate in /usr/local/lib/python3.11/dist-packages (from fvcore) (0.9.0)\n",
            "Collecting iopath>=0.1.7 (from fvcore)\n",
            "  Downloading iopath-0.1.10.tar.gz (42 kB)\n",
            "\u001b[2K     \u001b[90m━━━━━━━━━━━━━━━━━━━━━━━━━━━━━━━━━━━━━━━━\u001b[0m \u001b[32m42.2/42.2 kB\u001b[0m \u001b[31m3.7 MB/s\u001b[0m eta \u001b[36m0:00:00\u001b[0m\n",
            "\u001b[?25h  Preparing metadata (setup.py) ... \u001b[?25l\u001b[?25hdone\n",
            "Requirement already satisfied: typing_extensions in /usr/local/lib/python3.11/dist-packages (from iopath>=0.1.7->fvcore) (4.13.0)\n",
            "Collecting portalocker (from iopath>=0.1.7->fvcore)\n",
            "  Downloading portalocker-3.1.1-py3-none-any.whl.metadata (8.6 kB)\n",
            "Downloading yacs-0.1.8-py3-none-any.whl (14 kB)\n",
            "Downloading portalocker-3.1.1-py3-none-any.whl (19 kB)\n",
            "Building wheels for collected packages: fvcore, iopath\n",
            "  Building wheel for fvcore (setup.py) ... \u001b[?25l\u001b[?25hdone\n",
            "  Created wheel for fvcore: filename=fvcore-0.1.5.post20221221-py3-none-any.whl size=61397 sha256=1b8408302cab4eced72fdb4b0a65670a3c3c8e476b68a0c2f8ec483b52187961\n",
            "  Stored in directory: /root/.cache/pip/wheels/65/71/95/3b8fde5c65c6e4a806e0867c1651dcc71a1cb2f3430e8f355f\n",
            "  Building wheel for iopath (setup.py) ... \u001b[?25l\u001b[?25hdone\n",
            "  Created wheel for iopath: filename=iopath-0.1.10-py3-none-any.whl size=31527 sha256=88527a2be71b667b878732900908562273ed88ba5b3c64b9912f8d1d4827c006\n",
            "  Stored in directory: /root/.cache/pip/wheels/ba/5e/16/6117f8fe7e9c0c161a795e10d94645ebcf301ccbd01f66d8ec\n",
            "Successfully built fvcore iopath\n",
            "Installing collected packages: yacs, portalocker, iopath, fvcore\n",
            "Successfully installed fvcore-0.1.5.post20221221 iopath-0.1.10 portalocker-3.1.1 yacs-0.1.8\n"
          ]
        }
      ]
    },
    {
      "cell_type": "code",
      "source": [
        "from medimageinsightmodel import MedImageInsight\n",
        "# Initialiser le classificateur\n",
        "classifier = MedImageInsight(\n",
        "    model_dir=\"2024.09.27\",\n",
        "    vision_model_name=\"medimageinsigt-v1.0.0.pt\",\n",
        "    language_model_name=\"language_model.pth\"\n",
        ")\n",
        "\n",
        "# Charger le modèle\n",
        "classifier.load_model()"
      ],
      "metadata": {
        "colab": {
          "base_uri": "https://localhost:8080/"
        },
        "id": "yMJPHikvq51z",
        "outputId": "a54c9552-ad40-4f37-e93b-7cff9363dfa7"
      },
      "execution_count": 8,
      "outputs": [
        {
          "output_type": "stream",
          "name": "stderr",
          "text": [
            "/usr/local/lib/python3.11/dist-packages/timm/models/layers/__init__.py:48: FutureWarning: Importing from timm.models.layers is deprecated, please import via timm.layers\n",
            "  warnings.warn(f\"Importing from {__name__} is deprecated, please import via timm.layers\", FutureWarning)\n"
          ]
        },
        {
          "output_type": "stream",
          "name": "stdout",
          "text": [
            "Model loaded successfully on device: cuda\n"
          ]
        }
      ]
    },
    {
      "cell_type": "code",
      "source": [
        "    import h5py, numpy as np, base64, io\n",
        "    from PIL import Image\n",
        "    from tqdm import tqdm\n",
        "    import matplotlib.pyplot as plt\n",
        "    import pandas as pd"
      ],
      "metadata": {
        "id": "hB4-8Az-gTca"
      },
      "execution_count": 9,
      "outputs": []
    },
    {
      "cell_type": "code",
      "source": [
        "def extract_embeddings_from_h5_batch(h5_path, model, max_images=None, batch_size=32, save_path=None):\n",
        "\n",
        "    image_ids, labels, all_embeddings = [], [], []\n",
        "    batch_b64, batch_ids, batch_labels = [], [], []\n",
        "\n",
        "    with h5py.File(h5_path, 'r') as hdf:\n",
        "        ids = list(hdf.keys())\n",
        "        if max_images is not None:\n",
        "            ids = ids[:max_images]\n",
        "\n",
        "        for i, img_id in enumerate(tqdm(ids)):\n",
        "            img_array = np.array(hdf[img_id]['img'])\n",
        "\n",
        "            if img_array.shape[0] == 3:\n",
        "                img_array = np.transpose(img_array, (1, 2, 0))\n",
        "            if img_array.max() <= 1.0:\n",
        "                img_array = (img_array * 255).astype(np.uint8)\n",
        "            else:\n",
        "                img_array = img_array.astype(np.uint8)\n",
        "\n",
        "\n",
        "            # Encodage base64\n",
        "            buffer = io.BytesIO()\n",
        "            Image.fromarray(img_array).save(buffer, format=\"PNG\")\n",
        "            img_b64 = base64.b64encode(buffer.getvalue()).decode(\"utf-8\")\n",
        "\n",
        "            batch_b64.append(img_b64)\n",
        "            batch_ids.append(img_id)\n",
        "            batch_labels.append(int(np.array(hdf[img_id]['label'])) if 'label' in hdf[img_id] else None)\n",
        "\n",
        "            # Si batch complet → on encode\n",
        "            if len(batch_b64) == batch_size or (i == len(ids) - 1):\n",
        "                try:\n",
        "                    result = model.encode(images=batch_b64)\n",
        "                    embeddings = result[\"image_embeddings\"]\n",
        "                except Exception as e:\n",
        "                    print(f\"⚠️ Erreur batch à {i} : {e}\")\n",
        "                    batch_b64, batch_ids, batch_labels = [], [], []\n",
        "                    continue\n",
        "\n",
        "                all_embeddings.extend(embeddings)\n",
        "                image_ids.extend(batch_ids)\n",
        "                labels.extend(batch_labels)\n",
        "\n",
        "                # Réinitialiser\n",
        "                batch_b64, batch_ids, batch_labels = [], [], []\n",
        "                print(\"batch out model\")\n",
        "\n",
        "    # → DataFrame\n",
        "    df_embed = pd.DataFrame({\n",
        "        \"ID\": image_ids,\n",
        "        \"label\": labels,\n",
        "        \"embedding\": all_embeddings\n",
        "    })\n",
        "\n",
        "    if save_path:\n",
        "        df_embed.to_pickle(save_path)\n",
        "        print(f\"✅ Embeddings saved to {save_path}\")\n",
        "\n",
        "    return df_embed\n"
      ],
      "metadata": {
        "id": "TmEzDMPSfY-c"
      },
      "execution_count": 13,
      "outputs": []
    },
    {
      "cell_type": "code",
      "source": [
        "df = extract_embeddings_from_h5_batch(\n",
        "    h5_path=\"/content/drive/MyDrive/data/test.h5\",\n",
        "    model=classifier,\n",
        "    batch_size=128,\n",
        "    save_path=\"embeddings_final_test.pkl\"\n",
        ")"
      ],
      "metadata": {
        "colab": {
          "base_uri": "https://localhost:8080/"
        },
        "id": "NcJSOa4CfpL6",
        "outputId": "8e99abde-2ea3-4020-907a-71afdcb19b5c"
      },
      "execution_count": 16,
      "outputs": [
        {
          "output_type": "stream",
          "name": "stderr",
          "text": [
            "  0%|          | 179/85054 [00:06<1:04:22, 21.97it/s]"
          ]
        },
        {
          "output_type": "stream",
          "name": "stdout",
          "text": [
            "batch out model\n"
          ]
        },
        {
          "output_type": "stream",
          "name": "stderr",
          "text": [
            "  0%|          | 319/85054 [00:12<1:09:10, 20.41it/s]"
          ]
        },
        {
          "output_type": "stream",
          "name": "stdout",
          "text": [
            "batch out model\n"
          ]
        },
        {
          "output_type": "stream",
          "name": "stderr",
          "text": [
            "  0%|          | 421/85054 [00:19<1:18:03, 18.07it/s]"
          ]
        },
        {
          "output_type": "stream",
          "name": "stdout",
          "text": [
            "batch out model\n"
          ]
        },
        {
          "output_type": "stream",
          "name": "stderr",
          "text": [
            "  1%|          | 561/85054 [00:25<1:11:59, 19.56it/s]"
          ]
        },
        {
          "output_type": "stream",
          "name": "stdout",
          "text": [
            "batch out model\n"
          ]
        },
        {
          "output_type": "stream",
          "name": "stderr",
          "text": [
            "  1%|          | 701/85054 [00:31<1:10:44, 19.87it/s]"
          ]
        },
        {
          "output_type": "stream",
          "name": "stdout",
          "text": [
            "batch out model\n"
          ]
        },
        {
          "output_type": "stream",
          "name": "stderr",
          "text": [
            "  1%|          | 804/85054 [00:38<1:17:49, 18.04it/s]"
          ]
        },
        {
          "output_type": "stream",
          "name": "stdout",
          "text": [
            "batch out model\n"
          ]
        },
        {
          "output_type": "stream",
          "name": "stderr",
          "text": [
            "  1%|          | 943/85054 [00:44<1:12:18, 19.39it/s]"
          ]
        },
        {
          "output_type": "stream",
          "name": "stdout",
          "text": [
            "batch out model\n"
          ]
        },
        {
          "output_type": "stream",
          "name": "stderr",
          "text": [
            "  1%|▏         | 1081/85054 [00:50<1:11:06, 19.68it/s]"
          ]
        },
        {
          "output_type": "stream",
          "name": "stdout",
          "text": [
            "batch out model\n"
          ]
        },
        {
          "output_type": "stream",
          "name": "stderr",
          "text": [
            "  1%|▏         | 1188/85054 [00:57<1:15:58, 18.40it/s]"
          ]
        },
        {
          "output_type": "stream",
          "name": "stdout",
          "text": [
            "batch out model\n"
          ]
        },
        {
          "output_type": "stream",
          "name": "stderr",
          "text": [
            "  2%|▏         | 1329/85054 [01:03<1:11:30, 19.51it/s]"
          ]
        },
        {
          "output_type": "stream",
          "name": "stdout",
          "text": [
            "batch out model\n"
          ]
        },
        {
          "output_type": "stream",
          "name": "stderr",
          "text": [
            "  2%|▏         | 1469/85054 [01:09<1:10:07, 19.86it/s]"
          ]
        },
        {
          "output_type": "stream",
          "name": "stdout",
          "text": [
            "batch out model\n"
          ]
        },
        {
          "output_type": "stream",
          "name": "stderr",
          "text": [
            "  2%|▏         | 1571/85054 [01:16<1:18:32, 17.71it/s]"
          ]
        },
        {
          "output_type": "stream",
          "name": "stdout",
          "text": [
            "batch out model\n"
          ]
        },
        {
          "output_type": "stream",
          "name": "stderr",
          "text": [
            "  2%|▏         | 1707/85054 [01:22<1:13:21, 18.94it/s]"
          ]
        },
        {
          "output_type": "stream",
          "name": "stdout",
          "text": [
            "batch out model\n"
          ]
        },
        {
          "output_type": "stream",
          "name": "stderr",
          "text": [
            "  2%|▏         | 1846/85054 [01:28<1:10:57, 19.54it/s]"
          ]
        },
        {
          "output_type": "stream",
          "name": "stdout",
          "text": [
            "batch out model\n"
          ]
        },
        {
          "output_type": "stream",
          "name": "stderr",
          "text": [
            "  2%|▏         | 1986/85054 [01:35<1:09:23, 19.95it/s]"
          ]
        },
        {
          "output_type": "stream",
          "name": "stdout",
          "text": [
            "batch out model\n"
          ]
        },
        {
          "output_type": "stream",
          "name": "stderr",
          "text": [
            "  2%|▏         | 2087/85054 [01:41<1:17:59, 17.73it/s]"
          ]
        },
        {
          "output_type": "stream",
          "name": "stdout",
          "text": [
            "batch out model\n"
          ]
        },
        {
          "output_type": "stream",
          "name": "stderr",
          "text": [
            "  3%|▎         | 2225/85054 [01:47<1:11:37, 19.27it/s]"
          ]
        },
        {
          "output_type": "stream",
          "name": "stdout",
          "text": [
            "batch out model\n"
          ]
        },
        {
          "output_type": "stream",
          "name": "stderr",
          "text": [
            "  3%|▎         | 2367/85054 [01:54<1:08:48, 20.03it/s]"
          ]
        },
        {
          "output_type": "stream",
          "name": "stdout",
          "text": [
            "batch out model\n"
          ]
        },
        {
          "output_type": "stream",
          "name": "stderr",
          "text": [
            "  3%|▎         | 2470/85054 [02:00<1:16:11, 18.06it/s]"
          ]
        },
        {
          "output_type": "stream",
          "name": "stdout",
          "text": [
            "batch out model\n"
          ]
        },
        {
          "output_type": "stream",
          "name": "stderr",
          "text": [
            "  3%|▎         | 2612/85054 [02:06<1:09:43, 19.70it/s]"
          ]
        },
        {
          "output_type": "stream",
          "name": "stdout",
          "text": [
            "batch out model\n"
          ]
        },
        {
          "output_type": "stream",
          "name": "stderr",
          "text": [
            "  3%|▎         | 2753/85054 [02:13<1:08:28, 20.03it/s]"
          ]
        },
        {
          "output_type": "stream",
          "name": "stdout",
          "text": [
            "batch out model\n"
          ]
        },
        {
          "output_type": "stream",
          "name": "stderr",
          "text": [
            "  3%|▎         | 2854/85054 [02:19<1:16:33, 17.90it/s]"
          ]
        },
        {
          "output_type": "stream",
          "name": "stdout",
          "text": [
            "batch out model\n"
          ]
        },
        {
          "output_type": "stream",
          "name": "stderr",
          "text": [
            "  4%|▎         | 2994/85054 [02:25<1:10:14, 19.47it/s]"
          ]
        },
        {
          "output_type": "stream",
          "name": "stdout",
          "text": [
            "batch out model\n"
          ]
        },
        {
          "output_type": "stream",
          "name": "stderr",
          "text": [
            "  4%|▎         | 3135/85054 [02:32<1:09:28, 19.65it/s]"
          ]
        },
        {
          "output_type": "stream",
          "name": "stdout",
          "text": [
            "batch out model\n"
          ]
        },
        {
          "output_type": "stream",
          "name": "stderr",
          "text": [
            "  4%|▍         | 3236/85054 [02:38<1:16:41, 17.78it/s]"
          ]
        },
        {
          "output_type": "stream",
          "name": "stdout",
          "text": [
            "batch out model\n"
          ]
        },
        {
          "output_type": "stream",
          "name": "stderr",
          "text": [
            "  4%|▍         | 3375/85054 [02:44<1:10:25, 19.33it/s]"
          ]
        },
        {
          "output_type": "stream",
          "name": "stdout",
          "text": [
            "batch out model\n"
          ]
        },
        {
          "output_type": "stream",
          "name": "stderr",
          "text": [
            "  4%|▍         | 3517/85054 [02:51<1:07:33, 20.12it/s]"
          ]
        },
        {
          "output_type": "stream",
          "name": "stdout",
          "text": [
            "batch out model\n"
          ]
        },
        {
          "output_type": "stream",
          "name": "stderr",
          "text": [
            "  4%|▍         | 3620/85054 [02:57<1:14:54, 18.12it/s]"
          ]
        },
        {
          "output_type": "stream",
          "name": "stdout",
          "text": [
            "batch out model\n"
          ]
        },
        {
          "output_type": "stream",
          "name": "stderr",
          "text": [
            "  4%|▍         | 3759/85054 [03:03<1:10:00, 19.35it/s]"
          ]
        },
        {
          "output_type": "stream",
          "name": "stdout",
          "text": [
            "batch out model\n"
          ]
        },
        {
          "output_type": "stream",
          "name": "stderr",
          "text": [
            "  5%|▍         | 3899/85054 [03:10<1:08:12, 19.83it/s]"
          ]
        },
        {
          "output_type": "stream",
          "name": "stdout",
          "text": [
            "batch out model\n"
          ]
        },
        {
          "output_type": "stream",
          "name": "stderr",
          "text": [
            "  5%|▍         | 4004/85054 [03:16<1:14:15, 18.19it/s]"
          ]
        },
        {
          "output_type": "stream",
          "name": "stdout",
          "text": [
            "batch out model\n"
          ]
        },
        {
          "output_type": "stream",
          "name": "stderr",
          "text": [
            "  5%|▍         | 4145/85054 [03:22<1:08:42, 19.63it/s]"
          ]
        },
        {
          "output_type": "stream",
          "name": "stdout",
          "text": [
            "batch out model\n"
          ]
        },
        {
          "output_type": "stream",
          "name": "stderr",
          "text": [
            "  5%|▌         | 4284/85054 [03:28<1:08:02, 19.78it/s]"
          ]
        },
        {
          "output_type": "stream",
          "name": "stdout",
          "text": [
            "batch out model\n"
          ]
        },
        {
          "output_type": "stream",
          "name": "stderr",
          "text": [
            "  5%|▌         | 4387/85054 [03:35<1:14:48, 17.97it/s]"
          ]
        },
        {
          "output_type": "stream",
          "name": "stdout",
          "text": [
            "batch out model\n"
          ]
        },
        {
          "output_type": "stream",
          "name": "stderr",
          "text": [
            "  5%|▌         | 4525/85054 [03:41<1:10:13, 19.11it/s]"
          ]
        },
        {
          "output_type": "stream",
          "name": "stdout",
          "text": [
            "batch out model\n"
          ]
        },
        {
          "output_type": "stream",
          "name": "stderr",
          "text": [
            "  5%|▌         | 4664/85054 [03:48<1:08:11, 19.65it/s]"
          ]
        },
        {
          "output_type": "stream",
          "name": "stdout",
          "text": [
            "batch out model\n"
          ]
        },
        {
          "output_type": "stream",
          "name": "stderr",
          "text": [
            "  6%|▌         | 4802/85054 [03:54<1:07:45, 19.74it/s]"
          ]
        },
        {
          "output_type": "stream",
          "name": "stdout",
          "text": [
            "batch out model\n"
          ]
        },
        {
          "output_type": "stream",
          "name": "stderr",
          "text": [
            "  6%|▌         | 4903/85054 [04:00<1:15:01, 17.81it/s]"
          ]
        },
        {
          "output_type": "stream",
          "name": "stdout",
          "text": [
            "batch out model\n"
          ]
        },
        {
          "output_type": "stream",
          "name": "stderr",
          "text": [
            "  6%|▌         | 5043/85054 [04:06<1:08:37, 19.43it/s]"
          ]
        },
        {
          "output_type": "stream",
          "name": "stdout",
          "text": [
            "batch out model\n"
          ]
        },
        {
          "output_type": "stream",
          "name": "stderr",
          "text": [
            "  6%|▌         | 5183/85054 [04:13<1:07:08, 19.82it/s]"
          ]
        },
        {
          "output_type": "stream",
          "name": "stdout",
          "text": [
            "batch out model\n"
          ]
        },
        {
          "output_type": "stream",
          "name": "stderr",
          "text": [
            "  6%|▌         | 5284/85054 [04:19<1:14:32, 17.84it/s]"
          ]
        },
        {
          "output_type": "stream",
          "name": "stdout",
          "text": [
            "batch out model\n"
          ]
        },
        {
          "output_type": "stream",
          "name": "stderr",
          "text": [
            "  6%|▋         | 5425/85054 [04:25<1:08:04, 19.49it/s]"
          ]
        },
        {
          "output_type": "stream",
          "name": "stdout",
          "text": [
            "batch out model\n"
          ]
        },
        {
          "output_type": "stream",
          "name": "stderr",
          "text": [
            "  7%|▋         | 5566/85054 [04:32<1:06:40, 19.87it/s]"
          ]
        },
        {
          "output_type": "stream",
          "name": "stdout",
          "text": [
            "batch out model\n"
          ]
        },
        {
          "output_type": "stream",
          "name": "stderr",
          "text": [
            "  7%|▋         | 5703/85054 [04:38<52:17, 25.29it/s]  "
          ]
        },
        {
          "output_type": "stream",
          "name": "stdout",
          "text": [
            "batch out model\n"
          ]
        },
        {
          "output_type": "stream",
          "name": "stderr",
          "text": [
            "  7%|▋         | 5806/85054 [04:44<1:08:14, 19.35it/s]"
          ]
        },
        {
          "output_type": "stream",
          "name": "stdout",
          "text": [
            "batch out model\n"
          ]
        },
        {
          "output_type": "stream",
          "name": "stderr",
          "text": [
            "  7%|▋         | 5944/85054 [04:51<1:06:41, 19.77it/s]"
          ]
        },
        {
          "output_type": "stream",
          "name": "stdout",
          "text": [
            "batch out model\n"
          ]
        },
        {
          "output_type": "stream",
          "name": "stderr",
          "text": [
            "  7%|▋         | 6052/85054 [04:57<1:11:00, 18.54it/s]"
          ]
        },
        {
          "output_type": "stream",
          "name": "stdout",
          "text": [
            "batch out model\n"
          ]
        },
        {
          "output_type": "stream",
          "name": "stderr",
          "text": [
            "  7%|▋         | 6191/85054 [05:03<1:07:15, 19.54it/s]"
          ]
        },
        {
          "output_type": "stream",
          "name": "stdout",
          "text": [
            "batch out model\n"
          ]
        },
        {
          "output_type": "stream",
          "name": "stderr",
          "text": [
            "  7%|▋         | 6331/85054 [05:10<1:05:41, 19.97it/s]"
          ]
        },
        {
          "output_type": "stream",
          "name": "stdout",
          "text": [
            "batch out model\n"
          ]
        },
        {
          "output_type": "stream",
          "name": "stderr",
          "text": [
            "  8%|▊         | 6436/85054 [05:16<1:12:10, 18.15it/s]"
          ]
        },
        {
          "output_type": "stream",
          "name": "stdout",
          "text": [
            "batch out model\n"
          ]
        },
        {
          "output_type": "stream",
          "name": "stderr",
          "text": [
            "  8%|▊         | 6575/85054 [05:22<1:07:28, 19.39it/s]"
          ]
        },
        {
          "output_type": "stream",
          "name": "stdout",
          "text": [
            "batch out model\n"
          ]
        },
        {
          "output_type": "stream",
          "name": "stderr",
          "text": [
            "  8%|▊         | 6712/85054 [05:29<1:07:04, 19.47it/s]"
          ]
        },
        {
          "output_type": "stream",
          "name": "stdout",
          "text": [
            "batch out model\n"
          ]
        },
        {
          "output_type": "stream",
          "name": "stderr",
          "text": [
            "  8%|▊         | 6819/85054 [05:35<1:11:24, 18.26it/s]"
          ]
        },
        {
          "output_type": "stream",
          "name": "stdout",
          "text": [
            "batch out model\n"
          ]
        },
        {
          "output_type": "stream",
          "name": "stderr",
          "text": [
            "  8%|▊         | 6957/85054 [05:41<1:07:28, 19.29it/s]"
          ]
        },
        {
          "output_type": "stream",
          "name": "stdout",
          "text": [
            "batch out model\n"
          ]
        },
        {
          "output_type": "stream",
          "name": "stderr",
          "text": [
            "  8%|▊         | 7096/85054 [05:48<1:05:48, 19.74it/s]"
          ]
        },
        {
          "output_type": "stream",
          "name": "stdout",
          "text": [
            "batch out model\n"
          ]
        },
        {
          "output_type": "stream",
          "name": "stderr",
          "text": [
            "  8%|▊         | 7204/85054 [05:54<1:10:20, 18.45it/s]"
          ]
        },
        {
          "output_type": "stream",
          "name": "stdout",
          "text": [
            "batch out model\n"
          ]
        },
        {
          "output_type": "stream",
          "name": "stderr",
          "text": [
            "  9%|▊         | 7344/85054 [06:00<1:06:12, 19.56it/s]"
          ]
        },
        {
          "output_type": "stream",
          "name": "stdout",
          "text": [
            "batch out model\n"
          ]
        },
        {
          "output_type": "stream",
          "name": "stderr",
          "text": [
            "  9%|▉         | 7485/85054 [06:07<1:04:30, 20.04it/s]"
          ]
        },
        {
          "output_type": "stream",
          "name": "stdout",
          "text": [
            "batch out model\n"
          ]
        },
        {
          "output_type": "stream",
          "name": "stderr",
          "text": [
            "  9%|▉         | 7588/85054 [06:13<1:11:18, 18.11it/s]"
          ]
        },
        {
          "output_type": "stream",
          "name": "stdout",
          "text": [
            "batch out model\n"
          ]
        },
        {
          "output_type": "stream",
          "name": "stderr",
          "text": [
            "  9%|▉         | 7716/85054 [06:20<1:10:23, 18.31it/s]"
          ]
        },
        {
          "output_type": "stream",
          "name": "stdout",
          "text": [
            "batch out model\n"
          ]
        },
        {
          "output_type": "stream",
          "name": "stderr",
          "text": [
            "  9%|▉         | 7855/85054 [06:26<1:06:13, 19.43it/s]"
          ]
        },
        {
          "output_type": "stream",
          "name": "stdout",
          "text": [
            "batch out model\n"
          ]
        },
        {
          "output_type": "stream",
          "name": "stderr",
          "text": [
            "  9%|▉         | 7994/85054 [06:32<1:04:56, 19.78it/s]"
          ]
        },
        {
          "output_type": "stream",
          "name": "stdout",
          "text": [
            "batch out model\n"
          ]
        },
        {
          "output_type": "stream",
          "name": "stderr",
          "text": [
            " 10%|▉         | 8100/85054 [06:38<1:09:56, 18.34it/s]"
          ]
        },
        {
          "output_type": "stream",
          "name": "stdout",
          "text": [
            "batch out model\n"
          ]
        },
        {
          "output_type": "stream",
          "name": "stderr",
          "text": [
            " 10%|▉         | 8239/85054 [06:45<1:05:43, 19.48it/s]"
          ]
        },
        {
          "output_type": "stream",
          "name": "stdout",
          "text": [
            "batch out model\n"
          ]
        },
        {
          "output_type": "stream",
          "name": "stderr",
          "text": [
            " 10%|▉         | 8378/85054 [06:51<1:04:37, 19.77it/s]"
          ]
        },
        {
          "output_type": "stream",
          "name": "stdout",
          "text": [
            "batch out model\n"
          ]
        },
        {
          "output_type": "stream",
          "name": "stderr",
          "text": [
            " 10%|▉         | 8484/85054 [06:57<1:09:42, 18.31it/s]"
          ]
        },
        {
          "output_type": "stream",
          "name": "stdout",
          "text": [
            "batch out model\n"
          ]
        },
        {
          "output_type": "stream",
          "name": "stderr",
          "text": [
            " 10%|█         | 8622/85054 [07:04<1:06:01, 19.30it/s]"
          ]
        },
        {
          "output_type": "stream",
          "name": "stdout",
          "text": [
            "batch out model\n"
          ]
        },
        {
          "output_type": "stream",
          "name": "stderr",
          "text": [
            " 10%|█         | 8761/85054 [07:10<1:04:25, 19.74it/s]"
          ]
        },
        {
          "output_type": "stream",
          "name": "stdout",
          "text": [
            "batch out model\n"
          ]
        },
        {
          "output_type": "stream",
          "name": "stderr",
          "text": [
            " 10%|█         | 8868/85054 [07:16<1:09:14, 18.34it/s]"
          ]
        },
        {
          "output_type": "stream",
          "name": "stdout",
          "text": [
            "batch out model\n"
          ]
        },
        {
          "output_type": "stream",
          "name": "stderr",
          "text": [
            " 11%|█         | 9007/85054 [07:23<1:05:29, 19.35it/s]"
          ]
        },
        {
          "output_type": "stream",
          "name": "stdout",
          "text": [
            "batch out model\n"
          ]
        },
        {
          "output_type": "stream",
          "name": "stderr",
          "text": [
            " 11%|█         | 9146/85054 [07:29<1:04:25, 19.64it/s]"
          ]
        },
        {
          "output_type": "stream",
          "name": "stdout",
          "text": [
            "batch out model\n"
          ]
        },
        {
          "output_type": "stream",
          "name": "stderr",
          "text": [
            " 11%|█         | 9287/85054 [07:35<49:21, 25.59it/s]  "
          ]
        },
        {
          "output_type": "stream",
          "name": "stdout",
          "text": [
            "batch out model\n"
          ]
        },
        {
          "output_type": "stream",
          "name": "stderr",
          "text": [
            " 11%|█         | 9390/85054 [07:42<1:06:07, 19.07it/s]"
          ]
        },
        {
          "output_type": "stream",
          "name": "stdout",
          "text": [
            "batch out model\n"
          ]
        },
        {
          "output_type": "stream",
          "name": "stderr",
          "text": [
            " 11%|█         | 9532/85054 [07:48<1:03:11, 19.92it/s]"
          ]
        },
        {
          "output_type": "stream",
          "name": "stdout",
          "text": [
            "batch out model\n"
          ]
        },
        {
          "output_type": "stream",
          "name": "stderr",
          "text": [
            " 11%|█▏        | 9636/85054 [07:54<1:09:17, 18.14it/s]"
          ]
        },
        {
          "output_type": "stream",
          "name": "stdout",
          "text": [
            "batch out model\n"
          ]
        },
        {
          "output_type": "stream",
          "name": "stderr",
          "text": [
            " 11%|█▏        | 9777/85054 [08:01<1:04:09, 19.56it/s]"
          ]
        },
        {
          "output_type": "stream",
          "name": "stdout",
          "text": [
            "batch out model\n"
          ]
        },
        {
          "output_type": "stream",
          "name": "stderr",
          "text": [
            " 12%|█▏        | 9918/85054 [08:07<1:02:37, 19.99it/s]"
          ]
        },
        {
          "output_type": "stream",
          "name": "stdout",
          "text": [
            "batch out model\n"
          ]
        },
        {
          "output_type": "stream",
          "name": "stderr",
          "text": [
            " 12%|█▏        | 10020/85054 [08:13<1:09:33, 17.98it/s]"
          ]
        },
        {
          "output_type": "stream",
          "name": "stdout",
          "text": [
            "batch out model\n"
          ]
        },
        {
          "output_type": "stream",
          "name": "stderr",
          "text": [
            " 12%|█▏        | 10159/85054 [08:20<1:04:26, 19.37it/s]"
          ]
        },
        {
          "output_type": "stream",
          "name": "stdout",
          "text": [
            "batch out model\n"
          ]
        },
        {
          "output_type": "stream",
          "name": "stderr",
          "text": [
            " 12%|█▏        | 10298/85054 [08:26<1:03:05, 19.75it/s]"
          ]
        },
        {
          "output_type": "stream",
          "name": "stdout",
          "text": [
            "batch out model\n"
          ]
        },
        {
          "output_type": "stream",
          "name": "stderr",
          "text": [
            " 12%|█▏        | 10403/85054 [08:32<1:08:37, 18.13it/s]"
          ]
        },
        {
          "output_type": "stream",
          "name": "stdout",
          "text": [
            "batch out model\n"
          ]
        },
        {
          "output_type": "stream",
          "name": "stderr",
          "text": [
            " 12%|█▏        | 10543/85054 [08:39<1:03:51, 19.45it/s]"
          ]
        },
        {
          "output_type": "stream",
          "name": "stdout",
          "text": [
            "batch out model\n"
          ]
        },
        {
          "output_type": "stream",
          "name": "stderr",
          "text": [
            " 13%|█▎        | 10682/85054 [08:45<1:02:44, 19.75it/s]"
          ]
        },
        {
          "output_type": "stream",
          "name": "stdout",
          "text": [
            "batch out model\n"
          ]
        },
        {
          "output_type": "stream",
          "name": "stderr",
          "text": [
            " 13%|█▎        | 10788/85054 [08:51<1:07:35, 18.31it/s]"
          ]
        },
        {
          "output_type": "stream",
          "name": "stdout",
          "text": [
            "batch out model\n"
          ]
        },
        {
          "output_type": "stream",
          "name": "stderr",
          "text": [
            " 13%|█▎        | 10927/85054 [08:58<1:03:33, 19.44it/s]"
          ]
        },
        {
          "output_type": "stream",
          "name": "stdout",
          "text": [
            "batch out model\n"
          ]
        },
        {
          "output_type": "stream",
          "name": "stderr",
          "text": [
            " 13%|█▎        | 11065/85054 [09:04<1:02:39, 19.68it/s]"
          ]
        },
        {
          "output_type": "stream",
          "name": "stdout",
          "text": [
            "batch out model\n"
          ]
        },
        {
          "output_type": "stream",
          "name": "stderr",
          "text": [
            " 13%|█▎        | 11207/85054 [09:10<47:52, 25.71it/s]  "
          ]
        },
        {
          "output_type": "stream",
          "name": "stdout",
          "text": [
            "batch out model\n"
          ]
        },
        {
          "output_type": "stream",
          "name": "stderr",
          "text": [
            " 13%|█▎        | 11310/85054 [09:17<1:03:27, 19.37it/s]"
          ]
        },
        {
          "output_type": "stream",
          "name": "stdout",
          "text": [
            "batch out model\n"
          ]
        },
        {
          "output_type": "stream",
          "name": "stderr",
          "text": [
            " 13%|█▎        | 11448/85054 [09:23<1:02:24, 19.66it/s]"
          ]
        },
        {
          "output_type": "stream",
          "name": "stdout",
          "text": [
            "batch out model\n"
          ]
        },
        {
          "output_type": "stream",
          "name": "stderr",
          "text": [
            " 14%|█▎        | 11556/85054 [09:29<1:06:58, 18.29it/s]"
          ]
        },
        {
          "output_type": "stream",
          "name": "stdout",
          "text": [
            "batch out model\n"
          ]
        },
        {
          "output_type": "stream",
          "name": "stderr",
          "text": [
            " 14%|█▎        | 11694/85054 [09:36<1:03:25, 19.28it/s]"
          ]
        },
        {
          "output_type": "stream",
          "name": "stdout",
          "text": [
            "batch out model\n"
          ]
        },
        {
          "output_type": "stream",
          "name": "stderr",
          "text": [
            " 14%|█▍        | 11833/85054 [09:42<1:02:12, 19.62it/s]"
          ]
        },
        {
          "output_type": "stream",
          "name": "stdout",
          "text": [
            "batch out model\n"
          ]
        },
        {
          "output_type": "stream",
          "name": "stderr",
          "text": [
            " 14%|█▍        | 11940/85054 [09:48<1:06:18, 18.38it/s]"
          ]
        },
        {
          "output_type": "stream",
          "name": "stdout",
          "text": [
            "batch out model\n"
          ]
        },
        {
          "output_type": "stream",
          "name": "stderr",
          "text": [
            " 14%|█▍        | 12081/85054 [09:55<1:02:14, 19.54it/s]"
          ]
        },
        {
          "output_type": "stream",
          "name": "stdout",
          "text": [
            "batch out model\n"
          ]
        },
        {
          "output_type": "stream",
          "name": "stderr",
          "text": [
            " 14%|█▍        | 12222/85054 [10:01<1:00:42, 19.99it/s]"
          ]
        },
        {
          "output_type": "stream",
          "name": "stdout",
          "text": [
            "batch out model\n"
          ]
        },
        {
          "output_type": "stream",
          "name": "stderr",
          "text": [
            " 14%|█▍        | 12324/85054 [10:07<1:07:26, 17.97it/s]"
          ]
        },
        {
          "output_type": "stream",
          "name": "stdout",
          "text": [
            "batch out model\n"
          ]
        },
        {
          "output_type": "stream",
          "name": "stderr",
          "text": [
            " 15%|█▍        | 12465/85054 [10:14<1:01:57, 19.53it/s]"
          ]
        },
        {
          "output_type": "stream",
          "name": "stdout",
          "text": [
            "batch out model\n"
          ]
        },
        {
          "output_type": "stream",
          "name": "stderr",
          "text": [
            " 15%|█▍        | 12604/85054 [10:20<1:01:05, 19.76it/s]"
          ]
        },
        {
          "output_type": "stream",
          "name": "stdout",
          "text": [
            "batch out model\n"
          ]
        },
        {
          "output_type": "stream",
          "name": "stderr",
          "text": [
            " 15%|█▍        | 12708/85054 [10:26<1:06:35, 18.11it/s]"
          ]
        },
        {
          "output_type": "stream",
          "name": "stdout",
          "text": [
            "batch out model\n"
          ]
        },
        {
          "output_type": "stream",
          "name": "stderr",
          "text": [
            " 15%|█▌        | 12849/85054 [10:33<1:01:35, 19.54it/s]"
          ]
        },
        {
          "output_type": "stream",
          "name": "stdout",
          "text": [
            "batch out model\n"
          ]
        },
        {
          "output_type": "stream",
          "name": "stderr",
          "text": [
            " 15%|█▌        | 12988/85054 [10:39<1:00:44, 19.77it/s]"
          ]
        },
        {
          "output_type": "stream",
          "name": "stdout",
          "text": [
            "batch out model\n"
          ]
        },
        {
          "output_type": "stream",
          "name": "stderr",
          "text": [
            " 15%|█▌        | 13092/85054 [10:45<1:07:27, 17.78it/s]"
          ]
        },
        {
          "output_type": "stream",
          "name": "stdout",
          "text": [
            "batch out model\n"
          ]
        },
        {
          "output_type": "stream",
          "name": "stderr",
          "text": [
            " 16%|█▌        | 13231/85054 [10:52<1:01:57, 19.32it/s]"
          ]
        },
        {
          "output_type": "stream",
          "name": "stdout",
          "text": [
            "batch out model\n"
          ]
        },
        {
          "output_type": "stream",
          "name": "stderr",
          "text": [
            " 16%|█▌        | 13372/85054 [10:58<59:45, 19.99it/s]  "
          ]
        },
        {
          "output_type": "stream",
          "name": "stdout",
          "text": [
            "batch out model\n"
          ]
        },
        {
          "output_type": "stream",
          "name": "stderr",
          "text": [
            " 16%|█▌        | 13476/85054 [11:04<1:05:41, 18.16it/s]"
          ]
        },
        {
          "output_type": "stream",
          "name": "stdout",
          "text": [
            "batch out model\n"
          ]
        },
        {
          "output_type": "stream",
          "name": "stderr",
          "text": [
            " 16%|█▌        | 13615/85054 [11:11<1:01:17, 19.43it/s]"
          ]
        },
        {
          "output_type": "stream",
          "name": "stdout",
          "text": [
            "batch out model\n"
          ]
        },
        {
          "output_type": "stream",
          "name": "stderr",
          "text": [
            " 16%|█▌        | 13754/85054 [11:17<1:00:25, 19.67it/s]"
          ]
        },
        {
          "output_type": "stream",
          "name": "stdout",
          "text": [
            "batch out model\n"
          ]
        },
        {
          "output_type": "stream",
          "name": "stderr",
          "text": [
            " 16%|█▋        | 13854/85054 [11:23<1:08:22, 17.36it/s]"
          ]
        },
        {
          "output_type": "stream",
          "name": "stdout",
          "text": [
            "batch out model\n"
          ]
        },
        {
          "output_type": "stream",
          "name": "stderr",
          "text": [
            " 16%|█▋        | 13991/85054 [11:30<1:02:36, 18.92it/s]"
          ]
        },
        {
          "output_type": "stream",
          "name": "stdout",
          "text": [
            "batch out model\n"
          ]
        },
        {
          "output_type": "stream",
          "name": "stderr",
          "text": [
            " 17%|█▋        | 14130/85054 [11:36<1:00:19, 19.59it/s]"
          ]
        },
        {
          "output_type": "stream",
          "name": "stdout",
          "text": [
            "batch out model\n"
          ]
        },
        {
          "output_type": "stream",
          "name": "stderr",
          "text": [
            " 17%|█▋        | 14269/85054 [11:43<1:00:45, 19.42it/s]"
          ]
        },
        {
          "output_type": "stream",
          "name": "stdout",
          "text": [
            "batch out model\n"
          ]
        },
        {
          "output_type": "stream",
          "name": "stderr",
          "text": [
            " 17%|█▋        | 14371/85054 [11:49<1:06:20, 17.76it/s]"
          ]
        },
        {
          "output_type": "stream",
          "name": "stdout",
          "text": [
            "batch out model\n"
          ]
        },
        {
          "output_type": "stream",
          "name": "stderr",
          "text": [
            " 17%|█▋        | 14510/85054 [11:55<1:01:08, 19.23it/s]"
          ]
        },
        {
          "output_type": "stream",
          "name": "stdout",
          "text": [
            "batch out model\n"
          ]
        },
        {
          "output_type": "stream",
          "name": "stderr",
          "text": [
            " 17%|█▋        | 14649/85054 [12:01<59:34, 19.69it/s]  "
          ]
        },
        {
          "output_type": "stream",
          "name": "stdout",
          "text": [
            "batch out model\n"
          ]
        },
        {
          "output_type": "stream",
          "name": "stderr",
          "text": [
            " 17%|█▋        | 14755/85054 [12:08<1:04:14, 18.24it/s]"
          ]
        },
        {
          "output_type": "stream",
          "name": "stdout",
          "text": [
            "batch out model\n"
          ]
        },
        {
          "output_type": "stream",
          "name": "stderr",
          "text": [
            " 18%|█▊        | 14892/85054 [12:14<1:01:05, 19.14it/s]"
          ]
        },
        {
          "output_type": "stream",
          "name": "stdout",
          "text": [
            "batch out model\n"
          ]
        },
        {
          "output_type": "stream",
          "name": "stderr",
          "text": [
            " 18%|█▊        | 15031/85054 [12:20<59:20, 19.67it/s]  "
          ]
        },
        {
          "output_type": "stream",
          "name": "stdout",
          "text": [
            "batch out model\n"
          ]
        },
        {
          "output_type": "stream",
          "name": "stderr",
          "text": [
            " 18%|█▊        | 15169/85054 [12:27<59:03, 19.72it/s]  "
          ]
        },
        {
          "output_type": "stream",
          "name": "stdout",
          "text": [
            "batch out model\n"
          ]
        },
        {
          "output_type": "stream",
          "name": "stderr",
          "text": [
            " 18%|█▊        | 15270/85054 [12:33<1:05:26, 17.77it/s]"
          ]
        },
        {
          "output_type": "stream",
          "name": "stdout",
          "text": [
            "batch out model\n"
          ]
        },
        {
          "output_type": "stream",
          "name": "stderr",
          "text": [
            " 18%|█▊        | 15409/85054 [12:39<1:00:08, 19.30it/s]"
          ]
        },
        {
          "output_type": "stream",
          "name": "stdout",
          "text": [
            "batch out model\n"
          ]
        },
        {
          "output_type": "stream",
          "name": "stderr",
          "text": [
            " 18%|█▊        | 15549/85054 [12:46<58:34, 19.78it/s]  "
          ]
        },
        {
          "output_type": "stream",
          "name": "stdout",
          "text": [
            "batch out model\n"
          ]
        },
        {
          "output_type": "stream",
          "name": "stderr",
          "text": [
            " 18%|█▊        | 15652/85054 [12:52<1:04:13, 18.01it/s]"
          ]
        },
        {
          "output_type": "stream",
          "name": "stdout",
          "text": [
            "batch out model\n"
          ]
        },
        {
          "output_type": "stream",
          "name": "stderr",
          "text": [
            " 19%|█▊        | 15794/85054 [12:58<58:44, 19.65it/s]  "
          ]
        },
        {
          "output_type": "stream",
          "name": "stdout",
          "text": [
            "batch out model\n"
          ]
        },
        {
          "output_type": "stream",
          "name": "stderr",
          "text": [
            " 19%|█▊        | 15934/85054 [13:05<57:58, 19.87it/s]  "
          ]
        },
        {
          "output_type": "stream",
          "name": "stdout",
          "text": [
            "batch out model\n"
          ]
        },
        {
          "output_type": "stream",
          "name": "stderr",
          "text": [
            " 19%|█▉        | 16072/85054 [13:11<45:23, 25.33it/s]  "
          ]
        },
        {
          "output_type": "stream",
          "name": "stdout",
          "text": [
            "batch out model\n"
          ]
        },
        {
          "output_type": "stream",
          "name": "stderr",
          "text": [
            " 19%|█▉        | 16174/85054 [13:17<59:56, 19.15it/s]  "
          ]
        },
        {
          "output_type": "stream",
          "name": "stdout",
          "text": [
            "batch out model\n"
          ]
        },
        {
          "output_type": "stream",
          "name": "stderr",
          "text": [
            " 19%|█▉        | 16314/85054 [13:24<57:59, 19.75it/s]  "
          ]
        },
        {
          "output_type": "stream",
          "name": "stdout",
          "text": [
            "batch out model\n"
          ]
        },
        {
          "output_type": "stream",
          "name": "stderr",
          "text": [
            " 19%|█▉        | 16420/85054 [13:30<1:02:49, 18.21it/s]"
          ]
        },
        {
          "output_type": "stream",
          "name": "stdout",
          "text": [
            "batch out model\n"
          ]
        },
        {
          "output_type": "stream",
          "name": "stderr",
          "text": [
            " 19%|█▉        | 16560/85054 [13:36<58:15, 19.59it/s]  "
          ]
        },
        {
          "output_type": "stream",
          "name": "stdout",
          "text": [
            "batch out model\n"
          ]
        },
        {
          "output_type": "stream",
          "name": "stderr",
          "text": [
            " 20%|█▉        | 16699/85054 [13:43<58:02, 19.63it/s]  "
          ]
        },
        {
          "output_type": "stream",
          "name": "stdout",
          "text": [
            "batch out model\n"
          ]
        },
        {
          "output_type": "stream",
          "name": "stderr",
          "text": [
            " 20%|█▉        | 16804/85054 [13:49<1:02:36, 18.17it/s]"
          ]
        },
        {
          "output_type": "stream",
          "name": "stdout",
          "text": [
            "batch out model\n"
          ]
        },
        {
          "output_type": "stream",
          "name": "stderr",
          "text": [
            " 20%|█▉        | 16945/85054 [13:55<57:45, 19.65it/s]  "
          ]
        },
        {
          "output_type": "stream",
          "name": "stdout",
          "text": [
            "batch out model\n"
          ]
        },
        {
          "output_type": "stream",
          "name": "stderr",
          "text": [
            " 20%|██        | 17087/85054 [14:02<56:32, 20.03it/s]  "
          ]
        },
        {
          "output_type": "stream",
          "name": "stdout",
          "text": [
            "batch out model\n"
          ]
        },
        {
          "output_type": "stream",
          "name": "stderr",
          "text": [
            " 20%|██        | 17188/85054 [14:08<1:03:15, 17.88it/s]"
          ]
        },
        {
          "output_type": "stream",
          "name": "stdout",
          "text": [
            "batch out model\n"
          ]
        },
        {
          "output_type": "stream",
          "name": "stderr",
          "text": [
            " 20%|██        | 17327/85054 [14:14<58:20, 19.35it/s]  "
          ]
        },
        {
          "output_type": "stream",
          "name": "stdout",
          "text": [
            "batch out model\n"
          ]
        },
        {
          "output_type": "stream",
          "name": "stderr",
          "text": [
            " 21%|██        | 17467/85054 [14:21<56:52, 19.80it/s]  "
          ]
        },
        {
          "output_type": "stream",
          "name": "stdout",
          "text": [
            "batch out model\n"
          ]
        },
        {
          "output_type": "stream",
          "name": "stderr",
          "text": [
            " 21%|██        | 17572/85054 [14:27<1:01:45, 18.21it/s]"
          ]
        },
        {
          "output_type": "stream",
          "name": "stdout",
          "text": [
            "batch out model\n"
          ]
        },
        {
          "output_type": "stream",
          "name": "stderr",
          "text": [
            " 21%|██        | 17712/85054 [14:33<57:43, 19.45it/s]  "
          ]
        },
        {
          "output_type": "stream",
          "name": "stdout",
          "text": [
            "batch out model\n"
          ]
        },
        {
          "output_type": "stream",
          "name": "stderr",
          "text": [
            " 21%|██        | 17851/85054 [14:40<56:47, 19.72it/s]  "
          ]
        },
        {
          "output_type": "stream",
          "name": "stdout",
          "text": [
            "batch out model\n"
          ]
        },
        {
          "output_type": "stream",
          "name": "stderr",
          "text": [
            " 21%|██        | 17955/85054 [14:46<1:01:55, 18.06it/s]"
          ]
        },
        {
          "output_type": "stream",
          "name": "stdout",
          "text": [
            "batch out model\n"
          ]
        },
        {
          "output_type": "stream",
          "name": "stderr",
          "text": [
            " 21%|██▏       | 18095/85054 [14:52<57:07, 19.54it/s]  "
          ]
        },
        {
          "output_type": "stream",
          "name": "stdout",
          "text": [
            "batch out model\n"
          ]
        },
        {
          "output_type": "stream",
          "name": "stderr",
          "text": [
            " 21%|██▏       | 18234/85054 [14:59<56:22, 19.75it/s]  "
          ]
        },
        {
          "output_type": "stream",
          "name": "stdout",
          "text": [
            "batch out model\n"
          ]
        },
        {
          "output_type": "stream",
          "name": "stderr",
          "text": [
            " 22%|██▏       | 18340/85054 [15:05<1:01:01, 18.22it/s]"
          ]
        },
        {
          "output_type": "stream",
          "name": "stdout",
          "text": [
            "batch out model\n"
          ]
        },
        {
          "output_type": "stream",
          "name": "stderr",
          "text": [
            " 22%|██▏       | 18481/85054 [15:11<56:45, 19.55it/s]  "
          ]
        },
        {
          "output_type": "stream",
          "name": "stdout",
          "text": [
            "batch out model\n"
          ]
        },
        {
          "output_type": "stream",
          "name": "stderr",
          "text": [
            " 22%|██▏       | 18622/85054 [15:18<55:43, 19.87it/s]  "
          ]
        },
        {
          "output_type": "stream",
          "name": "stdout",
          "text": [
            "batch out model\n"
          ]
        },
        {
          "output_type": "stream",
          "name": "stderr",
          "text": [
            " 22%|██▏       | 18724/85054 [15:24<1:01:41, 17.92it/s]"
          ]
        },
        {
          "output_type": "stream",
          "name": "stdout",
          "text": [
            "batch out model\n"
          ]
        },
        {
          "output_type": "stream",
          "name": "stderr",
          "text": [
            " 22%|██▏       | 18851/85054 [15:31<1:00:55, 18.11it/s]"
          ]
        },
        {
          "output_type": "stream",
          "name": "stdout",
          "text": [
            "batch out model\n"
          ]
        },
        {
          "output_type": "stream",
          "name": "stderr",
          "text": [
            " 22%|██▏       | 18987/85054 [15:37<57:42, 19.08it/s]  "
          ]
        },
        {
          "output_type": "stream",
          "name": "stdout",
          "text": [
            "batch out model\n"
          ]
        },
        {
          "output_type": "stream",
          "name": "stderr",
          "text": [
            " 22%|██▏       | 19127/85054 [15:43<55:45, 19.71it/s]  "
          ]
        },
        {
          "output_type": "stream",
          "name": "stdout",
          "text": [
            "batch out model\n"
          ]
        },
        {
          "output_type": "stream",
          "name": "stderr",
          "text": [
            " 23%|██▎       | 19266/85054 [15:50<55:21, 19.81it/s]  "
          ]
        },
        {
          "output_type": "stream",
          "name": "stdout",
          "text": [
            "batch out model\n"
          ]
        },
        {
          "output_type": "stream",
          "name": "stderr",
          "text": [
            " 23%|██▎       | 19367/85054 [15:56<1:01:31, 17.79it/s]"
          ]
        },
        {
          "output_type": "stream",
          "name": "stdout",
          "text": [
            "batch out model\n"
          ]
        },
        {
          "output_type": "stream",
          "name": "stderr",
          "text": [
            " 23%|██▎       | 19506/85054 [16:02<56:33, 19.32it/s]  "
          ]
        },
        {
          "output_type": "stream",
          "name": "stdout",
          "text": [
            "batch out model\n"
          ]
        },
        {
          "output_type": "stream",
          "name": "stderr",
          "text": [
            " 23%|██▎       | 19646/85054 [16:09<54:50, 19.88it/s]  "
          ]
        },
        {
          "output_type": "stream",
          "name": "stdout",
          "text": [
            "batch out model\n"
          ]
        },
        {
          "output_type": "stream",
          "name": "stderr",
          "text": [
            " 23%|██▎       | 19748/85054 [16:15<1:00:42, 17.93it/s]"
          ]
        },
        {
          "output_type": "stream",
          "name": "stdout",
          "text": [
            "batch out model\n"
          ]
        },
        {
          "output_type": "stream",
          "name": "stderr",
          "text": [
            " 23%|██▎       | 19888/85054 [16:21<55:58, 19.40it/s]  "
          ]
        },
        {
          "output_type": "stream",
          "name": "stdout",
          "text": [
            "batch out model\n"
          ]
        },
        {
          "output_type": "stream",
          "name": "stderr",
          "text": [
            " 24%|██▎       | 20028/85054 [16:28<54:42, 19.81it/s]  "
          ]
        },
        {
          "output_type": "stream",
          "name": "stdout",
          "text": [
            "batch out model\n"
          ]
        },
        {
          "output_type": "stream",
          "name": "stderr",
          "text": [
            " 24%|██▎       | 20131/85054 [16:34<1:00:18, 17.94it/s]"
          ]
        },
        {
          "output_type": "stream",
          "name": "stdout",
          "text": [
            "batch out model\n"
          ]
        },
        {
          "output_type": "stream",
          "name": "stderr",
          "text": [
            " 24%|██▍       | 20269/85054 [16:40<56:08, 19.23it/s]  "
          ]
        },
        {
          "output_type": "stream",
          "name": "stdout",
          "text": [
            "batch out model\n"
          ]
        },
        {
          "output_type": "stream",
          "name": "stderr",
          "text": [
            " 24%|██▍       | 20408/85054 [16:47<54:39, 19.71it/s]  "
          ]
        },
        {
          "output_type": "stream",
          "name": "stdout",
          "text": [
            "batch out model\n"
          ]
        },
        {
          "output_type": "stream",
          "name": "stderr",
          "text": [
            " 24%|██▍       | 20516/85054 [16:53<58:09, 18.50it/s]  "
          ]
        },
        {
          "output_type": "stream",
          "name": "stdout",
          "text": [
            "batch out model\n"
          ]
        },
        {
          "output_type": "stream",
          "name": "stderr",
          "text": [
            " 24%|██▍       | 20655/85054 [16:59<55:02, 19.50it/s]  "
          ]
        },
        {
          "output_type": "stream",
          "name": "stdout",
          "text": [
            "batch out model\n"
          ]
        },
        {
          "output_type": "stream",
          "name": "stderr",
          "text": [
            " 24%|██▍       | 20794/85054 [17:06<54:40, 19.59it/s]  "
          ]
        },
        {
          "output_type": "stream",
          "name": "stdout",
          "text": [
            "batch out model\n"
          ]
        },
        {
          "output_type": "stream",
          "name": "stderr",
          "text": [
            " 25%|██▍       | 20900/85054 [17:12<58:40, 18.22it/s]  "
          ]
        },
        {
          "output_type": "stream",
          "name": "stdout",
          "text": [
            "batch out model\n"
          ]
        },
        {
          "output_type": "stream",
          "name": "stderr",
          "text": [
            " 25%|██▍       | 21039/85054 [17:18<55:18, 19.29it/s]  "
          ]
        },
        {
          "output_type": "stream",
          "name": "stdout",
          "text": [
            "batch out model\n"
          ]
        },
        {
          "output_type": "stream",
          "name": "stderr",
          "text": [
            " 25%|██▍       | 21179/85054 [17:25<53:51, 19.77it/s]  "
          ]
        },
        {
          "output_type": "stream",
          "name": "stdout",
          "text": [
            "batch out model\n"
          ]
        },
        {
          "output_type": "stream",
          "name": "stderr",
          "text": [
            " 25%|██▌       | 21284/85054 [17:31<58:41, 18.11it/s]  "
          ]
        },
        {
          "output_type": "stream",
          "name": "stdout",
          "text": [
            "batch out model\n"
          ]
        },
        {
          "output_type": "stream",
          "name": "stderr",
          "text": [
            " 25%|██▌       | 21423/85054 [17:37<54:48, 19.35it/s]  "
          ]
        },
        {
          "output_type": "stream",
          "name": "stdout",
          "text": [
            "batch out model\n"
          ]
        },
        {
          "output_type": "stream",
          "name": "stderr",
          "text": [
            " 25%|██▌       | 21561/85054 [17:44<54:14, 19.51it/s]  "
          ]
        },
        {
          "output_type": "stream",
          "name": "stdout",
          "text": [
            "batch out model\n"
          ]
        },
        {
          "output_type": "stream",
          "name": "stderr",
          "text": [
            " 25%|██▌       | 21668/85054 [17:50<57:40, 18.32it/s]  "
          ]
        },
        {
          "output_type": "stream",
          "name": "stdout",
          "text": [
            "batch out model\n"
          ]
        },
        {
          "output_type": "stream",
          "name": "stderr",
          "text": [
            " 26%|██▌       | 21807/85054 [17:56<54:17, 19.42it/s]  "
          ]
        },
        {
          "output_type": "stream",
          "name": "stdout",
          "text": [
            "batch out model\n"
          ]
        },
        {
          "output_type": "stream",
          "name": "stderr",
          "text": [
            " 26%|██▌       | 21946/85054 [18:03<53:24, 19.69it/s]  "
          ]
        },
        {
          "output_type": "stream",
          "name": "stdout",
          "text": [
            "batch out model\n"
          ]
        },
        {
          "output_type": "stream",
          "name": "stderr",
          "text": [
            " 26%|██▌       | 22052/85054 [18:09<57:32, 18.25it/s]  "
          ]
        },
        {
          "output_type": "stream",
          "name": "stdout",
          "text": [
            "batch out model\n"
          ]
        },
        {
          "output_type": "stream",
          "name": "stderr",
          "text": [
            " 26%|██▌       | 22191/85054 [18:16<54:02, 19.39it/s]  "
          ]
        },
        {
          "output_type": "stream",
          "name": "stdout",
          "text": [
            "batch out model\n"
          ]
        },
        {
          "output_type": "stream",
          "name": "stderr",
          "text": [
            " 26%|██▋       | 22328/85054 [18:22<53:43, 19.46it/s]  "
          ]
        },
        {
          "output_type": "stream",
          "name": "stdout",
          "text": [
            "batch out model\n"
          ]
        },
        {
          "output_type": "stream",
          "name": "stderr",
          "text": [
            " 26%|██▋       | 22436/85054 [18:28<56:44, 18.39it/s]  "
          ]
        },
        {
          "output_type": "stream",
          "name": "stdout",
          "text": [
            "batch out model\n"
          ]
        },
        {
          "output_type": "stream",
          "name": "stderr",
          "text": [
            " 27%|██▋       | 22576/85054 [18:35<53:23, 19.50it/s]  "
          ]
        },
        {
          "output_type": "stream",
          "name": "stdout",
          "text": [
            "batch out model\n"
          ]
        },
        {
          "output_type": "stream",
          "name": "stderr",
          "text": [
            " 27%|██▋       | 22714/85054 [18:41<52:48, 19.67it/s]  "
          ]
        },
        {
          "output_type": "stream",
          "name": "stdout",
          "text": [
            "batch out model\n"
          ]
        },
        {
          "output_type": "stream",
          "name": "stderr",
          "text": [
            " 27%|██▋       | 22820/85054 [18:47<56:46, 18.27it/s]  "
          ]
        },
        {
          "output_type": "stream",
          "name": "stdout",
          "text": [
            "batch out model\n"
          ]
        },
        {
          "output_type": "stream",
          "name": "stderr",
          "text": [
            " 27%|██▋       | 22960/85054 [18:54<53:23, 19.38it/s]  "
          ]
        },
        {
          "output_type": "stream",
          "name": "stdout",
          "text": [
            "batch out model\n"
          ]
        },
        {
          "output_type": "stream",
          "name": "stderr",
          "text": [
            " 27%|██▋       | 23099/85054 [19:00<52:30, 19.67it/s]  "
          ]
        },
        {
          "output_type": "stream",
          "name": "stdout",
          "text": [
            "batch out model\n"
          ]
        },
        {
          "output_type": "stream",
          "name": "stderr",
          "text": [
            " 27%|██▋       | 23204/85054 [19:06<57:08, 18.04it/s]  "
          ]
        },
        {
          "output_type": "stream",
          "name": "stdout",
          "text": [
            "batch out model\n"
          ]
        },
        {
          "output_type": "stream",
          "name": "stderr",
          "text": [
            " 27%|██▋       | 23340/85054 [19:13<53:47, 19.12it/s]  "
          ]
        },
        {
          "output_type": "stream",
          "name": "stdout",
          "text": [
            "batch out model\n"
          ]
        },
        {
          "output_type": "stream",
          "name": "stderr",
          "text": [
            " 28%|██▊       | 23479/85054 [19:19<52:23, 19.59it/s]  "
          ]
        },
        {
          "output_type": "stream",
          "name": "stdout",
          "text": [
            "batch out model\n"
          ]
        },
        {
          "output_type": "stream",
          "name": "stderr",
          "text": [
            " 28%|██▊       | 23588/85054 [19:25<55:13, 18.55it/s]  "
          ]
        },
        {
          "output_type": "stream",
          "name": "stdout",
          "text": [
            "batch out model\n"
          ]
        },
        {
          "output_type": "stream",
          "name": "stderr",
          "text": [
            " 28%|██▊       | 23728/85054 [19:32<52:27, 19.49it/s]  "
          ]
        },
        {
          "output_type": "stream",
          "name": "stdout",
          "text": [
            "batch out model\n"
          ]
        },
        {
          "output_type": "stream",
          "name": "stderr",
          "text": [
            " 28%|██▊       | 23868/85054 [19:38<51:10, 19.92it/s]  "
          ]
        },
        {
          "output_type": "stream",
          "name": "stdout",
          "text": [
            "batch out model\n"
          ]
        },
        {
          "output_type": "stream",
          "name": "stderr",
          "text": [
            " 28%|██▊       | 23971/85054 [19:44<57:13, 17.79it/s]  "
          ]
        },
        {
          "output_type": "stream",
          "name": "stdout",
          "text": [
            "batch out model\n"
          ]
        },
        {
          "output_type": "stream",
          "name": "stderr",
          "text": [
            " 28%|██▊       | 24107/85054 [19:51<53:23, 19.03it/s]  "
          ]
        },
        {
          "output_type": "stream",
          "name": "stdout",
          "text": [
            "batch out model\n"
          ]
        },
        {
          "output_type": "stream",
          "name": "stderr",
          "text": [
            " 29%|██▊       | 24246/85054 [19:57<51:42, 19.60it/s]  "
          ]
        },
        {
          "output_type": "stream",
          "name": "stdout",
          "text": [
            "batch out model\n"
          ]
        },
        {
          "output_type": "stream",
          "name": "stderr",
          "text": [
            " 29%|██▊       | 24385/85054 [20:03<51:13, 19.74it/s]  "
          ]
        },
        {
          "output_type": "stream",
          "name": "stdout",
          "text": [
            "batch out model\n"
          ]
        },
        {
          "output_type": "stream",
          "name": "stderr",
          "text": [
            " 29%|██▉       | 24486/85054 [20:10<56:52, 17.75it/s]  "
          ]
        },
        {
          "output_type": "stream",
          "name": "stdout",
          "text": [
            "batch out model\n"
          ]
        },
        {
          "output_type": "stream",
          "name": "stderr",
          "text": [
            " 29%|██▉       | 24625/85054 [20:16<52:16, 19.26it/s]  "
          ]
        },
        {
          "output_type": "stream",
          "name": "stdout",
          "text": [
            "batch out model\n"
          ]
        },
        {
          "output_type": "stream",
          "name": "stderr",
          "text": [
            " 29%|██▉       | 24764/85054 [20:22<51:03, 19.68it/s]  "
          ]
        },
        {
          "output_type": "stream",
          "name": "stdout",
          "text": [
            "batch out model\n"
          ]
        },
        {
          "output_type": "stream",
          "name": "stderr",
          "text": [
            " 29%|██▉       | 24868/85054 [20:29<55:27, 18.09it/s]  "
          ]
        },
        {
          "output_type": "stream",
          "name": "stdout",
          "text": [
            "batch out model\n"
          ]
        },
        {
          "output_type": "stream",
          "name": "stderr",
          "text": [
            " 29%|██▉       | 25007/85054 [20:35<51:38, 19.38it/s]  "
          ]
        },
        {
          "output_type": "stream",
          "name": "stdout",
          "text": [
            "batch out model\n"
          ]
        },
        {
          "output_type": "stream",
          "name": "stderr",
          "text": [
            " 30%|██▉       | 25146/85054 [20:42<50:55, 19.60it/s]  "
          ]
        },
        {
          "output_type": "stream",
          "name": "stdout",
          "text": [
            "batch out model\n"
          ]
        },
        {
          "output_type": "stream",
          "name": "stderr",
          "text": [
            " 30%|██▉       | 25251/85054 [20:48<55:02, 18.11it/s]  "
          ]
        },
        {
          "output_type": "stream",
          "name": "stdout",
          "text": [
            "batch out model\n"
          ]
        },
        {
          "output_type": "stream",
          "name": "stderr",
          "text": [
            " 30%|██▉       | 25390/85054 [20:54<51:44, 19.22it/s]  "
          ]
        },
        {
          "output_type": "stream",
          "name": "stdout",
          "text": [
            "batch out model\n"
          ]
        },
        {
          "output_type": "stream",
          "name": "stderr",
          "text": [
            " 30%|███       | 25530/85054 [21:01<50:15, 19.74it/s]  "
          ]
        },
        {
          "output_type": "stream",
          "name": "stdout",
          "text": [
            "batch out model\n"
          ]
        },
        {
          "output_type": "stream",
          "name": "stderr",
          "text": [
            " 30%|███       | 25636/85054 [21:07<54:23, 18.21it/s]  "
          ]
        },
        {
          "output_type": "stream",
          "name": "stdout",
          "text": [
            "batch out model\n"
          ]
        },
        {
          "output_type": "stream",
          "name": "stderr",
          "text": [
            " 30%|███       | 25776/85054 [21:13<50:34, 19.53it/s]  "
          ]
        },
        {
          "output_type": "stream",
          "name": "stdout",
          "text": [
            "batch out model\n"
          ]
        },
        {
          "output_type": "stream",
          "name": "stderr",
          "text": [
            " 30%|███       | 25914/85054 [21:20<50:38, 19.46it/s]  "
          ]
        },
        {
          "output_type": "stream",
          "name": "stdout",
          "text": [
            "batch out model\n"
          ]
        },
        {
          "output_type": "stream",
          "name": "stderr",
          "text": [
            " 31%|███       | 26020/85054 [21:26<54:12, 18.15it/s]  "
          ]
        },
        {
          "output_type": "stream",
          "name": "stdout",
          "text": [
            "batch out model\n"
          ]
        },
        {
          "output_type": "stream",
          "name": "stderr",
          "text": [
            " 31%|███       | 26158/85054 [21:32<51:06, 19.21it/s]  "
          ]
        },
        {
          "output_type": "stream",
          "name": "stdout",
          "text": [
            "batch out model\n"
          ]
        },
        {
          "output_type": "stream",
          "name": "stderr",
          "text": [
            " 31%|███       | 26293/85054 [21:39<51:40, 18.95it/s]  "
          ]
        },
        {
          "output_type": "stream",
          "name": "stdout",
          "text": [
            "batch out model\n"
          ]
        },
        {
          "output_type": "stream",
          "name": "stderr",
          "text": [
            " 31%|███       | 26429/85054 [21:45<50:12, 19.46it/s]  "
          ]
        },
        {
          "output_type": "stream",
          "name": "stdout",
          "text": [
            "batch out model\n"
          ]
        },
        {
          "output_type": "stream",
          "name": "stderr",
          "text": [
            " 31%|███       | 26532/85054 [21:51<54:34, 17.87it/s]  "
          ]
        },
        {
          "output_type": "stream",
          "name": "stdout",
          "text": [
            "batch out model\n"
          ]
        },
        {
          "output_type": "stream",
          "name": "stderr",
          "text": [
            " 31%|███▏      | 26670/85054 [21:58<50:48, 19.15it/s]  "
          ]
        },
        {
          "output_type": "stream",
          "name": "stdout",
          "text": [
            "batch out model\n"
          ]
        },
        {
          "output_type": "stream",
          "name": "stderr",
          "text": [
            " 32%|███▏      | 26807/85054 [22:04<50:02, 19.40it/s]  "
          ]
        },
        {
          "output_type": "stream",
          "name": "stdout",
          "text": [
            "batch out model\n"
          ]
        },
        {
          "output_type": "stream",
          "name": "stderr",
          "text": [
            " 32%|███▏      | 26945/85054 [22:10<49:33, 19.54it/s]  "
          ]
        },
        {
          "output_type": "stream",
          "name": "stdout",
          "text": [
            "batch out model\n"
          ]
        },
        {
          "output_type": "stream",
          "name": "stderr",
          "text": [
            " 32%|███▏      | 27045/85054 [22:17<54:56, 17.60it/s]  "
          ]
        },
        {
          "output_type": "stream",
          "name": "stdout",
          "text": [
            "batch out model\n"
          ]
        },
        {
          "output_type": "stream",
          "name": "stderr",
          "text": [
            " 32%|███▏      | 27184/85054 [22:23<50:07, 19.24it/s]  "
          ]
        },
        {
          "output_type": "stream",
          "name": "stdout",
          "text": [
            "batch out model\n"
          ]
        },
        {
          "output_type": "stream",
          "name": "stderr",
          "text": [
            " 32%|███▏      | 27323/85054 [22:29<49:10, 19.57it/s]  "
          ]
        },
        {
          "output_type": "stream",
          "name": "stdout",
          "text": [
            "batch out model\n"
          ]
        },
        {
          "output_type": "stream",
          "name": "stderr",
          "text": [
            " 32%|███▏      | 27427/85054 [22:36<53:26, 17.97it/s]  "
          ]
        },
        {
          "output_type": "stream",
          "name": "stdout",
          "text": [
            "batch out model\n"
          ]
        },
        {
          "output_type": "stream",
          "name": "stderr",
          "text": [
            " 32%|███▏      | 27567/85054 [22:42<49:26, 19.38it/s]  "
          ]
        },
        {
          "output_type": "stream",
          "name": "stdout",
          "text": [
            "batch out model\n"
          ]
        },
        {
          "output_type": "stream",
          "name": "stderr",
          "text": [
            " 33%|███▎      | 27708/85054 [22:48<47:54, 19.95it/s]  "
          ]
        },
        {
          "output_type": "stream",
          "name": "stdout",
          "text": [
            "batch out model\n"
          ]
        },
        {
          "output_type": "stream",
          "name": "stderr",
          "text": [
            " 33%|███▎      | 27812/85054 [22:55<52:58, 18.01it/s]  "
          ]
        },
        {
          "output_type": "stream",
          "name": "stdout",
          "text": [
            "batch out model\n"
          ]
        },
        {
          "output_type": "stream",
          "name": "stderr",
          "text": [
            " 33%|███▎      | 27951/85054 [23:01<49:09, 19.36it/s]  "
          ]
        },
        {
          "output_type": "stream",
          "name": "stdout",
          "text": [
            "batch out model\n"
          ]
        },
        {
          "output_type": "stream",
          "name": "stderr",
          "text": [
            " 33%|███▎      | 28090/85054 [23:08<48:19, 19.64it/s]  "
          ]
        },
        {
          "output_type": "stream",
          "name": "stdout",
          "text": [
            "batch out model\n"
          ]
        },
        {
          "output_type": "stream",
          "name": "stderr",
          "text": [
            " 33%|███▎      | 28195/85054 [23:14<52:24, 18.08it/s]  "
          ]
        },
        {
          "output_type": "stream",
          "name": "stdout",
          "text": [
            "batch out model\n"
          ]
        },
        {
          "output_type": "stream",
          "name": "stderr",
          "text": [
            " 33%|███▎      | 28334/85054 [23:20<48:53, 19.34it/s]  "
          ]
        },
        {
          "output_type": "stream",
          "name": "stdout",
          "text": [
            "batch out model\n"
          ]
        },
        {
          "output_type": "stream",
          "name": "stderr",
          "text": [
            " 33%|███▎      | 28473/85054 [23:27<48:03, 19.62it/s]  "
          ]
        },
        {
          "output_type": "stream",
          "name": "stdout",
          "text": [
            "batch out model\n"
          ]
        },
        {
          "output_type": "stream",
          "name": "stderr",
          "text": [
            " 34%|███▎      | 28610/85054 [23:33<47:55, 19.63it/s]  "
          ]
        },
        {
          "output_type": "stream",
          "name": "stdout",
          "text": [
            "batch out model\n"
          ]
        },
        {
          "output_type": "stream",
          "name": "stderr",
          "text": [
            " 34%|███▍      | 28712/85054 [23:39<52:34, 17.86it/s]  "
          ]
        },
        {
          "output_type": "stream",
          "name": "stdout",
          "text": [
            "batch out model\n"
          ]
        },
        {
          "output_type": "stream",
          "name": "stderr",
          "text": [
            " 34%|███▍      | 28854/85054 [23:46<47:48, 19.59it/s]  "
          ]
        },
        {
          "output_type": "stream",
          "name": "stdout",
          "text": [
            "batch out model\n"
          ]
        },
        {
          "output_type": "stream",
          "name": "stderr",
          "text": [
            " 34%|███▍      | 28964/85054 [23:52<50:12, 18.62it/s]  "
          ]
        },
        {
          "output_type": "stream",
          "name": "stdout",
          "text": [
            "batch out model\n"
          ]
        },
        {
          "output_type": "stream",
          "name": "stderr",
          "text": [
            " 34%|███▍      | 29106/85054 [23:58<47:06, 19.79it/s]  "
          ]
        },
        {
          "output_type": "stream",
          "name": "stdout",
          "text": [
            "batch out model\n"
          ]
        },
        {
          "output_type": "stream",
          "name": "stderr",
          "text": [
            " 34%|███▍      | 29248/85054 [24:05<46:23, 20.05it/s]  "
          ]
        },
        {
          "output_type": "stream",
          "name": "stdout",
          "text": [
            "batch out model\n"
          ]
        },
        {
          "output_type": "stream",
          "name": "stderr",
          "text": [
            " 35%|███▍      | 29351/85054 [24:11<51:30, 18.03it/s]  "
          ]
        },
        {
          "output_type": "stream",
          "name": "stdout",
          "text": [
            "batch out model\n"
          ]
        },
        {
          "output_type": "stream",
          "name": "stderr",
          "text": [
            " 35%|███▍      | 29491/85054 [24:18<50:28, 18.35it/s]  "
          ]
        },
        {
          "output_type": "stream",
          "name": "stdout",
          "text": [
            "batch out model\n"
          ]
        },
        {
          "output_type": "stream",
          "name": "stderr",
          "text": [
            " 35%|███▍      | 29633/85054 [24:24<46:42, 19.78it/s]  "
          ]
        },
        {
          "output_type": "stream",
          "name": "stdout",
          "text": [
            "batch out model\n"
          ]
        },
        {
          "output_type": "stream",
          "name": "stderr",
          "text": [
            " 35%|███▍      | 29736/85054 [24:30<51:57, 17.74it/s]  "
          ]
        },
        {
          "output_type": "stream",
          "name": "stdout",
          "text": [
            "batch out model\n"
          ]
        },
        {
          "output_type": "stream",
          "name": "stderr",
          "text": [
            " 35%|███▌      | 29877/85054 [24:37<47:15, 19.46it/s]  "
          ]
        },
        {
          "output_type": "stream",
          "name": "stdout",
          "text": [
            "batch out model\n"
          ]
        },
        {
          "output_type": "stream",
          "name": "stderr",
          "text": [
            " 35%|███▌      | 30020/85054 [24:43<45:51, 20.00it/s]  "
          ]
        },
        {
          "output_type": "stream",
          "name": "stdout",
          "text": [
            "batch out model\n"
          ]
        },
        {
          "output_type": "stream",
          "name": "stderr",
          "text": [
            " 35%|███▌      | 30122/85054 [24:50<51:18, 17.84it/s]  "
          ]
        },
        {
          "output_type": "stream",
          "name": "stdout",
          "text": [
            "batch out model\n"
          ]
        },
        {
          "output_type": "stream",
          "name": "stderr",
          "text": [
            " 36%|███▌      | 30261/85054 [24:56<47:19, 19.30it/s]  "
          ]
        },
        {
          "output_type": "stream",
          "name": "stdout",
          "text": [
            "batch out model\n"
          ]
        },
        {
          "output_type": "stream",
          "name": "stderr",
          "text": [
            " 36%|███▌      | 30404/85054 [25:02<45:19, 20.10it/s]  "
          ]
        },
        {
          "output_type": "stream",
          "name": "stdout",
          "text": [
            "batch out model\n"
          ]
        },
        {
          "output_type": "stream",
          "name": "stderr",
          "text": [
            " 36%|███▌      | 30507/85054 [25:09<50:10, 18.12it/s]  "
          ]
        },
        {
          "output_type": "stream",
          "name": "stdout",
          "text": [
            "batch out model\n"
          ]
        },
        {
          "output_type": "stream",
          "name": "stderr",
          "text": [
            " 36%|███▌      | 30649/85054 [25:15<46:06, 19.66it/s]  "
          ]
        },
        {
          "output_type": "stream",
          "name": "stdout",
          "text": [
            "batch out model\n"
          ]
        },
        {
          "output_type": "stream",
          "name": "stderr",
          "text": [
            " 36%|███▌      | 30756/85054 [25:21<49:22, 18.33it/s]  "
          ]
        },
        {
          "output_type": "stream",
          "name": "stdout",
          "text": [
            "batch out model\n"
          ]
        },
        {
          "output_type": "stream",
          "name": "stderr",
          "text": [
            " 36%|███▋      | 30897/85054 [25:28<46:15, 19.51it/s]  "
          ]
        },
        {
          "output_type": "stream",
          "name": "stdout",
          "text": [
            "batch out model\n"
          ]
        },
        {
          "output_type": "stream",
          "name": "stderr",
          "text": [
            " 36%|███▋      | 31038/85054 [25:34<45:08, 19.94it/s]  "
          ]
        },
        {
          "output_type": "stream",
          "name": "stdout",
          "text": [
            "batch out model\n"
          ]
        },
        {
          "output_type": "stream",
          "name": "stderr",
          "text": [
            " 37%|███▋      | 31141/85054 [25:40<49:57, 17.99it/s]  "
          ]
        },
        {
          "output_type": "stream",
          "name": "stdout",
          "text": [
            "batch out model\n"
          ]
        },
        {
          "output_type": "stream",
          "name": "stderr",
          "text": [
            " 37%|███▋      | 31281/85054 [25:47<46:12, 19.39it/s]  "
          ]
        },
        {
          "output_type": "stream",
          "name": "stdout",
          "text": [
            "batch out model\n"
          ]
        },
        {
          "output_type": "stream",
          "name": "stderr",
          "text": [
            " 37%|███▋      | 31423/85054 [25:53<44:35, 20.04it/s]  "
          ]
        },
        {
          "output_type": "stream",
          "name": "stdout",
          "text": [
            "batch out model\n"
          ]
        },
        {
          "output_type": "stream",
          "name": "stderr",
          "text": [
            " 37%|███▋      | 31525/85054 [25:59<49:43, 17.94it/s]  "
          ]
        },
        {
          "output_type": "stream",
          "name": "stdout",
          "text": [
            "batch out model\n"
          ]
        },
        {
          "output_type": "stream",
          "name": "stderr",
          "text": [
            " 37%|███▋      | 31666/85054 [26:06<45:54, 19.38it/s]  "
          ]
        },
        {
          "output_type": "stream",
          "name": "stdout",
          "text": [
            "batch out model\n"
          ]
        },
        {
          "output_type": "stream",
          "name": "stderr",
          "text": [
            " 37%|███▋      | 31804/85054 [26:12<45:29, 19.51it/s]  "
          ]
        },
        {
          "output_type": "stream",
          "name": "stdout",
          "text": [
            "batch out model\n"
          ]
        },
        {
          "output_type": "stream",
          "name": "stderr",
          "text": [
            " 38%|███▊      | 31908/85054 [26:18<49:35, 17.86it/s]  "
          ]
        },
        {
          "output_type": "stream",
          "name": "stdout",
          "text": [
            "batch out model\n"
          ]
        },
        {
          "output_type": "stream",
          "name": "stderr",
          "text": [
            " 38%|███▊      | 32048/85054 [26:25<45:41, 19.33it/s]  "
          ]
        },
        {
          "output_type": "stream",
          "name": "stdout",
          "text": [
            "batch out model\n"
          ]
        },
        {
          "output_type": "stream",
          "name": "stderr",
          "text": [
            " 38%|███▊      | 32189/85054 [26:31<44:28, 19.81it/s]  "
          ]
        },
        {
          "output_type": "stream",
          "name": "stdout",
          "text": [
            "batch out model\n"
          ]
        },
        {
          "output_type": "stream",
          "name": "stderr",
          "text": [
            " 38%|███▊      | 32292/85054 [26:37<49:00, 17.94it/s]  "
          ]
        },
        {
          "output_type": "stream",
          "name": "stdout",
          "text": [
            "batch out model\n"
          ]
        },
        {
          "output_type": "stream",
          "name": "stderr",
          "text": [
            " 38%|███▊      | 32432/85054 [26:44<45:26, 19.30it/s]  "
          ]
        },
        {
          "output_type": "stream",
          "name": "stdout",
          "text": [
            "batch out model\n"
          ]
        },
        {
          "output_type": "stream",
          "name": "stderr",
          "text": [
            " 38%|███▊      | 32575/85054 [26:50<43:33, 20.08it/s]  "
          ]
        },
        {
          "output_type": "stream",
          "name": "stdout",
          "text": [
            "batch out model\n"
          ]
        },
        {
          "output_type": "stream",
          "name": "stderr",
          "text": [
            " 38%|███▊      | 32677/85054 [26:57<48:37, 17.95it/s]  "
          ]
        },
        {
          "output_type": "stream",
          "name": "stdout",
          "text": [
            "batch out model\n"
          ]
        },
        {
          "output_type": "stream",
          "name": "stderr",
          "text": [
            " 39%|███▊      | 32817/85054 [27:03<44:54, 19.39it/s]  "
          ]
        },
        {
          "output_type": "stream",
          "name": "stdout",
          "text": [
            "batch out model\n"
          ]
        },
        {
          "output_type": "stream",
          "name": "stderr",
          "text": [
            " 39%|███▊      | 32958/85054 [27:09<43:40, 19.88it/s]  "
          ]
        },
        {
          "output_type": "stream",
          "name": "stdout",
          "text": [
            "batch out model\n"
          ]
        },
        {
          "output_type": "stream",
          "name": "stderr",
          "text": [
            " 39%|███▉      | 33060/85054 [27:16<48:28, 17.88it/s]  "
          ]
        },
        {
          "output_type": "stream",
          "name": "stdout",
          "text": [
            "batch out model\n"
          ]
        },
        {
          "output_type": "stream",
          "name": "stderr",
          "text": [
            " 39%|███▉      | 33201/85054 [27:22<44:30, 19.42it/s]  "
          ]
        },
        {
          "output_type": "stream",
          "name": "stdout",
          "text": [
            "batch out model\n"
          ]
        },
        {
          "output_type": "stream",
          "name": "stderr",
          "text": [
            " 39%|███▉      | 33342/85054 [27:28<43:28, 19.82it/s]  "
          ]
        },
        {
          "output_type": "stream",
          "name": "stdout",
          "text": [
            "batch out model\n"
          ]
        },
        {
          "output_type": "stream",
          "name": "stderr",
          "text": [
            " 39%|███▉      | 33443/85054 [27:35<48:34, 17.71it/s]  "
          ]
        },
        {
          "output_type": "stream",
          "name": "stdout",
          "text": [
            "batch out model\n"
          ]
        },
        {
          "output_type": "stream",
          "name": "stderr",
          "text": [
            " 39%|███▉      | 33582/85054 [27:41<44:50, 19.13it/s]  "
          ]
        },
        {
          "output_type": "stream",
          "name": "stdout",
          "text": [
            "batch out model\n"
          ]
        },
        {
          "output_type": "stream",
          "name": "stderr",
          "text": [
            " 40%|███▉      | 33722/85054 [27:47<43:21, 19.73it/s]  "
          ]
        },
        {
          "output_type": "stream",
          "name": "stdout",
          "text": [
            "batch out model\n"
          ]
        },
        {
          "output_type": "stream",
          "name": "stderr",
          "text": [
            " 40%|███▉      | 33827/85054 [27:54<47:28, 17.98it/s]  "
          ]
        },
        {
          "output_type": "stream",
          "name": "stdout",
          "text": [
            "batch out model\n"
          ]
        },
        {
          "output_type": "stream",
          "name": "stderr",
          "text": [
            " 40%|███▉      | 33967/85054 [28:00<43:47, 19.44it/s]  "
          ]
        },
        {
          "output_type": "stream",
          "name": "stdout",
          "text": [
            "batch out model\n"
          ]
        },
        {
          "output_type": "stream",
          "name": "stderr",
          "text": [
            " 40%|████      | 34106/85054 [28:07<43:14, 19.64it/s]  "
          ]
        },
        {
          "output_type": "stream",
          "name": "stdout",
          "text": [
            "batch out model\n"
          ]
        },
        {
          "output_type": "stream",
          "name": "stderr",
          "text": [
            " 40%|████      | 34212/85054 [28:13<46:23, 18.27it/s]  "
          ]
        },
        {
          "output_type": "stream",
          "name": "stdout",
          "text": [
            "batch out model\n"
          ]
        },
        {
          "output_type": "stream",
          "name": "stderr",
          "text": [
            " 40%|████      | 34351/85054 [28:19<43:36, 19.38it/s]  "
          ]
        },
        {
          "output_type": "stream",
          "name": "stdout",
          "text": [
            "batch out model\n"
          ]
        },
        {
          "output_type": "stream",
          "name": "stderr",
          "text": [
            " 41%|████      | 34490/85054 [28:26<42:42, 19.74it/s]  "
          ]
        },
        {
          "output_type": "stream",
          "name": "stdout",
          "text": [
            "batch out model\n"
          ]
        },
        {
          "output_type": "stream",
          "name": "stderr",
          "text": [
            " 41%|████      | 34596/85054 [28:32<46:05, 18.25it/s]  "
          ]
        },
        {
          "output_type": "stream",
          "name": "stdout",
          "text": [
            "batch out model\n"
          ]
        },
        {
          "output_type": "stream",
          "name": "stderr",
          "text": [
            " 41%|████      | 34735/85054 [28:38<43:13, 19.40it/s]  "
          ]
        },
        {
          "output_type": "stream",
          "name": "stdout",
          "text": [
            "batch out model\n"
          ]
        },
        {
          "output_type": "stream",
          "name": "stderr",
          "text": [
            " 41%|████      | 34873/85054 [28:45<42:35, 19.64it/s]  "
          ]
        },
        {
          "output_type": "stream",
          "name": "stdout",
          "text": [
            "batch out model\n"
          ]
        },
        {
          "output_type": "stream",
          "name": "stderr",
          "text": [
            " 41%|████      | 34980/85054 [28:51<45:25, 18.38it/s]  "
          ]
        },
        {
          "output_type": "stream",
          "name": "stdout",
          "text": [
            "batch out model\n"
          ]
        },
        {
          "output_type": "stream",
          "name": "stderr",
          "text": [
            " 41%|████▏     | 35119/85054 [28:57<42:44, 19.47it/s]  "
          ]
        },
        {
          "output_type": "stream",
          "name": "stdout",
          "text": [
            "batch out model\n"
          ]
        },
        {
          "output_type": "stream",
          "name": "stderr",
          "text": [
            " 41%|████▏     | 35261/85054 [29:04<41:12, 20.14it/s]"
          ]
        },
        {
          "output_type": "stream",
          "name": "stdout",
          "text": [
            "batch out model\n"
          ]
        },
        {
          "output_type": "stream",
          "name": "stderr",
          "text": [
            " 42%|████▏     | 35364/85054 [29:10<45:40, 18.13it/s]  "
          ]
        },
        {
          "output_type": "stream",
          "name": "stdout",
          "text": [
            "batch out model\n"
          ]
        },
        {
          "output_type": "stream",
          "name": "stderr",
          "text": [
            " 42%|████▏     | 35505/85054 [29:16<42:00, 19.66it/s]  "
          ]
        },
        {
          "output_type": "stream",
          "name": "stdout",
          "text": [
            "batch out model\n"
          ]
        },
        {
          "output_type": "stream",
          "name": "stderr",
          "text": [
            " 42%|████▏     | 35648/85054 [29:22<40:39, 20.25it/s]"
          ]
        },
        {
          "output_type": "stream",
          "name": "stdout",
          "text": [
            "batch out model\n"
          ]
        },
        {
          "output_type": "stream",
          "name": "stderr",
          "text": [
            " 42%|████▏     | 35750/85054 [29:29<45:32, 18.04it/s]  "
          ]
        },
        {
          "output_type": "stream",
          "name": "stdout",
          "text": [
            "batch out model\n"
          ]
        },
        {
          "output_type": "stream",
          "name": "stderr",
          "text": [
            " 42%|████▏     | 35891/85054 [29:35<41:44, 19.63it/s]  "
          ]
        },
        {
          "output_type": "stream",
          "name": "stdout",
          "text": [
            "batch out model\n"
          ]
        },
        {
          "output_type": "stream",
          "name": "stderr",
          "text": [
            " 42%|████▏     | 36032/85054 [29:41<40:50, 20.01it/s]"
          ]
        },
        {
          "output_type": "stream",
          "name": "stdout",
          "text": [
            "batch out model\n"
          ]
        },
        {
          "output_type": "stream",
          "name": "stderr",
          "text": [
            " 42%|████▏     | 36133/85054 [29:48<45:40, 17.85it/s]  "
          ]
        },
        {
          "output_type": "stream",
          "name": "stdout",
          "text": [
            "batch out model\n"
          ]
        },
        {
          "output_type": "stream",
          "name": "stderr",
          "text": [
            " 43%|████▎     | 36263/85054 [29:54<44:33, 18.25it/s]  "
          ]
        },
        {
          "output_type": "stream",
          "name": "stdout",
          "text": [
            "batch out model\n"
          ]
        },
        {
          "output_type": "stream",
          "name": "stderr",
          "text": [
            " 43%|████▎     | 36397/85054 [30:00<42:44, 18.98it/s]  "
          ]
        },
        {
          "output_type": "stream",
          "name": "stdout",
          "text": [
            "batch out model\n"
          ]
        },
        {
          "output_type": "stream",
          "name": "stderr",
          "text": [
            " 43%|████▎     | 36526/85054 [30:07<43:35, 18.56it/s]  "
          ]
        },
        {
          "output_type": "stream",
          "name": "stdout",
          "text": [
            "batch out model\n"
          ]
        },
        {
          "output_type": "stream",
          "name": "stderr",
          "text": [
            " 43%|████▎     | 36658/85054 [30:13<42:48, 18.85it/s]  "
          ]
        },
        {
          "output_type": "stream",
          "name": "stdout",
          "text": [
            "batch out model\n"
          ]
        },
        {
          "output_type": "stream",
          "name": "stderr",
          "text": [
            " 43%|████▎     | 36787/85054 [30:20<43:37, 18.44it/s]  "
          ]
        },
        {
          "output_type": "stream",
          "name": "stdout",
          "text": [
            "batch out model\n"
          ]
        },
        {
          "output_type": "stream",
          "name": "stderr",
          "text": [
            " 43%|████▎     | 36919/85054 [30:26<42:38, 18.81it/s]  "
          ]
        },
        {
          "output_type": "stream",
          "name": "stdout",
          "text": [
            "batch out model\n"
          ]
        },
        {
          "output_type": "stream",
          "name": "stderr",
          "text": [
            " 44%|████▎     | 37051/85054 [30:32<42:51, 18.66it/s]  "
          ]
        },
        {
          "output_type": "stream",
          "name": "stdout",
          "text": [
            "batch out model\n"
          ]
        },
        {
          "output_type": "stream",
          "name": "stderr",
          "text": [
            " 44%|████▎     | 37182/85054 [30:39<42:38, 18.71it/s]  "
          ]
        },
        {
          "output_type": "stream",
          "name": "stdout",
          "text": [
            "batch out model\n"
          ]
        },
        {
          "output_type": "stream",
          "name": "stderr",
          "text": [
            " 44%|████▍     | 37282/85054 [30:45<46:02, 17.29it/s]  "
          ]
        },
        {
          "output_type": "stream",
          "name": "stdout",
          "text": [
            "batch out model\n"
          ]
        },
        {
          "output_type": "stream",
          "name": "stderr",
          "text": [
            " 44%|████▍     | 37413/85054 [30:51<43:13, 18.37it/s]  "
          ]
        },
        {
          "output_type": "stream",
          "name": "stdout",
          "text": [
            "batch out model\n"
          ]
        },
        {
          "output_type": "stream",
          "name": "stderr",
          "text": [
            " 44%|████▍     | 37546/85054 [30:58<41:47, 18.95it/s]  "
          ]
        },
        {
          "output_type": "stream",
          "name": "stdout",
          "text": [
            "batch out model\n"
          ]
        },
        {
          "output_type": "stream",
          "name": "stderr",
          "text": [
            " 44%|████▍     | 37678/85054 [31:04<41:49, 18.88it/s]"
          ]
        },
        {
          "output_type": "stream",
          "name": "stdout",
          "text": [
            "batch out model\n"
          ]
        },
        {
          "output_type": "stream",
          "name": "stderr",
          "text": [
            " 44%|████▍     | 37808/85054 [31:10<42:03, 18.72it/s]  "
          ]
        },
        {
          "output_type": "stream",
          "name": "stdout",
          "text": [
            "batch out model\n"
          ]
        },
        {
          "output_type": "stream",
          "name": "stderr",
          "text": [
            " 45%|████▍     | 37942/85054 [31:17<41:23, 18.97it/s]"
          ]
        },
        {
          "output_type": "stream",
          "name": "stdout",
          "text": [
            "batch out model\n"
          ]
        },
        {
          "output_type": "stream",
          "name": "stderr",
          "text": [
            " 45%|████▍     | 38074/85054 [31:23<41:24, 18.91it/s]"
          ]
        },
        {
          "output_type": "stream",
          "name": "stdout",
          "text": [
            "batch out model\n"
          ]
        },
        {
          "output_type": "stream",
          "name": "stderr",
          "text": [
            " 45%|████▍     | 38203/85054 [31:29<42:23, 18.42it/s]"
          ]
        },
        {
          "output_type": "stream",
          "name": "stdout",
          "text": [
            "batch out model\n"
          ]
        },
        {
          "output_type": "stream",
          "name": "stderr",
          "text": [
            " 45%|████▌     | 38333/85054 [31:36<42:07, 18.48it/s]"
          ]
        },
        {
          "output_type": "stream",
          "name": "stdout",
          "text": [
            "batch out model\n"
          ]
        },
        {
          "output_type": "stream",
          "name": "stderr",
          "text": [
            " 45%|████▌     | 38432/85054 [31:42<45:38, 17.03it/s]  "
          ]
        },
        {
          "output_type": "stream",
          "name": "stdout",
          "text": [
            "batch out model\n"
          ]
        },
        {
          "output_type": "stream",
          "name": "stderr",
          "text": [
            " 45%|████▌     | 38594/85054 [31:48<30:28, 25.41it/s]"
          ]
        },
        {
          "output_type": "stream",
          "name": "stdout",
          "text": [
            "batch out model\n"
          ]
        },
        {
          "output_type": "stream",
          "name": "stderr",
          "text": [
            " 45%|████▌     | 38690/85054 [31:55<42:21, 18.24it/s]  "
          ]
        },
        {
          "output_type": "stream",
          "name": "stdout",
          "text": [
            "batch out model\n"
          ]
        },
        {
          "output_type": "stream",
          "name": "stderr",
          "text": [
            " 46%|████▌     | 38820/85054 [32:01<41:51, 18.41it/s]"
          ]
        },
        {
          "output_type": "stream",
          "name": "stdout",
          "text": [
            "batch out model\n"
          ]
        },
        {
          "output_type": "stream",
          "name": "stderr",
          "text": [
            " 46%|████▌     | 38949/85054 [32:07<42:00, 18.29it/s]"
          ]
        },
        {
          "output_type": "stream",
          "name": "stdout",
          "text": [
            "batch out model\n"
          ]
        },
        {
          "output_type": "stream",
          "name": "stderr",
          "text": [
            " 46%|████▌     | 39079/85054 [32:14<41:32, 18.45it/s]"
          ]
        },
        {
          "output_type": "stream",
          "name": "stdout",
          "text": [
            "batch out model\n"
          ]
        },
        {
          "output_type": "stream",
          "name": "stderr",
          "text": [
            " 46%|████▌     | 39210/85054 [32:20<41:13, 18.53it/s]"
          ]
        },
        {
          "output_type": "stream",
          "name": "stdout",
          "text": [
            "batch out model\n"
          ]
        },
        {
          "output_type": "stream",
          "name": "stderr",
          "text": [
            " 46%|████▋     | 39340/85054 [32:26<40:54, 18.62it/s]"
          ]
        },
        {
          "output_type": "stream",
          "name": "stdout",
          "text": [
            "batch out model\n"
          ]
        },
        {
          "output_type": "stream",
          "name": "stderr",
          "text": [
            " 46%|████▋     | 39469/85054 [32:33<40:57, 18.55it/s]"
          ]
        },
        {
          "output_type": "stream",
          "name": "stdout",
          "text": [
            "batch out model\n"
          ]
        },
        {
          "output_type": "stream",
          "name": "stderr",
          "text": [
            " 47%|████▋     | 39602/85054 [32:39<40:06, 18.89it/s]"
          ]
        },
        {
          "output_type": "stream",
          "name": "stdout",
          "text": [
            "batch out model\n"
          ]
        },
        {
          "output_type": "stream",
          "name": "stderr",
          "text": [
            " 47%|████▋     | 39736/85054 [32:45<39:28, 19.13it/s]"
          ]
        },
        {
          "output_type": "stream",
          "name": "stdout",
          "text": [
            "batch out model\n"
          ]
        },
        {
          "output_type": "stream",
          "name": "stderr",
          "text": [
            " 47%|████▋     | 39865/85054 [32:52<40:33, 18.57it/s]"
          ]
        },
        {
          "output_type": "stream",
          "name": "stdout",
          "text": [
            "batch out model\n"
          ]
        },
        {
          "output_type": "stream",
          "name": "stderr",
          "text": [
            " 47%|████▋     | 39999/85054 [32:58<39:37, 18.95it/s]"
          ]
        },
        {
          "output_type": "stream",
          "name": "stdout",
          "text": [
            "batch out model\n"
          ]
        },
        {
          "output_type": "stream",
          "name": "stderr",
          "text": [
            " 47%|████▋     | 40097/85054 [33:04<43:51, 17.08it/s]  "
          ]
        },
        {
          "output_type": "stream",
          "name": "stdout",
          "text": [
            "batch out model\n"
          ]
        },
        {
          "output_type": "stream",
          "name": "stderr",
          "text": [
            " 47%|████▋     | 40225/85054 [33:11<41:34, 17.97it/s]"
          ]
        },
        {
          "output_type": "stream",
          "name": "stdout",
          "text": [
            "batch out model\n"
          ]
        },
        {
          "output_type": "stream",
          "name": "stderr",
          "text": [
            " 47%|████▋     | 40356/85054 [33:17<40:10, 18.54it/s]"
          ]
        },
        {
          "output_type": "stream",
          "name": "stdout",
          "text": [
            "batch out model\n"
          ]
        },
        {
          "output_type": "stream",
          "name": "stderr",
          "text": [
            " 48%|████▊     | 40486/85054 [33:23<40:01, 18.56it/s]"
          ]
        },
        {
          "output_type": "stream",
          "name": "stdout",
          "text": [
            "batch out model\n"
          ]
        },
        {
          "output_type": "stream",
          "name": "stderr",
          "text": [
            " 48%|████▊     | 40614/85054 [33:30<40:17, 18.38it/s]"
          ]
        },
        {
          "output_type": "stream",
          "name": "stdout",
          "text": [
            "batch out model\n"
          ]
        },
        {
          "output_type": "stream",
          "name": "stderr",
          "text": [
            " 48%|████▊     | 40745/85054 [33:36<39:37, 18.64it/s]"
          ]
        },
        {
          "output_type": "stream",
          "name": "stdout",
          "text": [
            "batch out model\n"
          ]
        },
        {
          "output_type": "stream",
          "name": "stderr",
          "text": [
            " 48%|████▊     | 40875/85054 [33:43<39:46, 18.51it/s]"
          ]
        },
        {
          "output_type": "stream",
          "name": "stdout",
          "text": [
            "batch out model\n"
          ]
        },
        {
          "output_type": "stream",
          "name": "stderr",
          "text": [
            " 48%|████▊     | 41008/85054 [33:49<38:58, 18.83it/s]"
          ]
        },
        {
          "output_type": "stream",
          "name": "stdout",
          "text": [
            "batch out model\n"
          ]
        },
        {
          "output_type": "stream",
          "name": "stderr",
          "text": [
            " 48%|████▊     | 41139/85054 [33:55<38:59, 18.77it/s]"
          ]
        },
        {
          "output_type": "stream",
          "name": "stdout",
          "text": [
            "batch out model\n"
          ]
        },
        {
          "output_type": "stream",
          "name": "stderr",
          "text": [
            " 49%|████▊     | 41271/85054 [34:02<38:44, 18.84it/s]"
          ]
        },
        {
          "output_type": "stream",
          "name": "stdout",
          "text": [
            "batch out model\n"
          ]
        },
        {
          "output_type": "stream",
          "name": "stderr",
          "text": [
            " 49%|████▊     | 41402/85054 [34:08<38:44, 18.78it/s]"
          ]
        },
        {
          "output_type": "stream",
          "name": "stdout",
          "text": [
            "batch out model\n"
          ]
        },
        {
          "output_type": "stream",
          "name": "stderr",
          "text": [
            " 49%|████▉     | 41533/85054 [34:14<38:48, 18.69it/s]"
          ]
        },
        {
          "output_type": "stream",
          "name": "stdout",
          "text": [
            "batch out model\n"
          ]
        },
        {
          "output_type": "stream",
          "name": "stderr",
          "text": [
            " 49%|████▉     | 41633/85054 [34:21<42:08, 17.17it/s]"
          ]
        },
        {
          "output_type": "stream",
          "name": "stdout",
          "text": [
            "batch out model\n"
          ]
        },
        {
          "output_type": "stream",
          "name": "stderr",
          "text": [
            " 49%|████▉     | 41760/85054 [34:27<40:24, 17.86it/s]"
          ]
        },
        {
          "output_type": "stream",
          "name": "stdout",
          "text": [
            "batch out model\n"
          ]
        },
        {
          "output_type": "stream",
          "name": "stderr",
          "text": [
            " 49%|████▉     | 41890/85054 [34:33<38:55, 18.48it/s]"
          ]
        },
        {
          "output_type": "stream",
          "name": "stdout",
          "text": [
            "batch out model\n"
          ]
        },
        {
          "output_type": "stream",
          "name": "stderr",
          "text": [
            " 49%|████▉     | 42022/85054 [34:40<38:18, 18.72it/s]"
          ]
        },
        {
          "output_type": "stream",
          "name": "stdout",
          "text": [
            "batch out model\n"
          ]
        },
        {
          "output_type": "stream",
          "name": "stderr",
          "text": [
            " 50%|████▉     | 42149/85054 [34:46<38:25, 18.61it/s]"
          ]
        },
        {
          "output_type": "stream",
          "name": "stdout",
          "text": [
            "batch out model\n"
          ]
        },
        {
          "output_type": "stream",
          "name": "stderr",
          "text": [
            " 50%|████▉     | 42281/85054 [34:52<38:07, 18.70it/s]"
          ]
        },
        {
          "output_type": "stream",
          "name": "stdout",
          "text": [
            "batch out model\n"
          ]
        },
        {
          "output_type": "stream",
          "name": "stderr",
          "text": [
            " 50%|████▉     | 42410/85054 [34:59<38:25, 18.50it/s]"
          ]
        },
        {
          "output_type": "stream",
          "name": "stdout",
          "text": [
            "batch out model\n"
          ]
        },
        {
          "output_type": "stream",
          "name": "stderr",
          "text": [
            " 50%|█████     | 42541/85054 [35:05<37:57, 18.67it/s]"
          ]
        },
        {
          "output_type": "stream",
          "name": "stdout",
          "text": [
            "batch out model\n"
          ]
        },
        {
          "output_type": "stream",
          "name": "stderr",
          "text": [
            " 50%|█████     | 42673/85054 [35:11<37:33, 18.81it/s]"
          ]
        },
        {
          "output_type": "stream",
          "name": "stdout",
          "text": [
            "batch out model\n"
          ]
        },
        {
          "output_type": "stream",
          "name": "stderr",
          "text": [
            " 50%|█████     | 42787/85054 [35:18<43:09, 16.33it/s]  "
          ]
        },
        {
          "output_type": "stream",
          "name": "stdout",
          "text": [
            "batch out model\n"
          ]
        },
        {
          "output_type": "stream",
          "name": "stderr",
          "text": [
            " 50%|█████     | 42917/85054 [35:24<38:59, 18.01it/s]"
          ]
        },
        {
          "output_type": "stream",
          "name": "stdout",
          "text": [
            "batch out model\n"
          ]
        },
        {
          "output_type": "stream",
          "name": "stderr",
          "text": [
            " 51%|█████     | 43048/85054 [35:31<37:47, 18.53it/s]"
          ]
        },
        {
          "output_type": "stream",
          "name": "stdout",
          "text": [
            "batch out model\n"
          ]
        },
        {
          "output_type": "stream",
          "name": "stderr",
          "text": [
            " 51%|█████     | 43178/85054 [35:37<37:43, 18.50it/s]"
          ]
        },
        {
          "output_type": "stream",
          "name": "stdout",
          "text": [
            "batch out model\n"
          ]
        },
        {
          "output_type": "stream",
          "name": "stderr",
          "text": [
            " 51%|█████     | 43309/85054 [35:43<37:29, 18.56it/s]"
          ]
        },
        {
          "output_type": "stream",
          "name": "stdout",
          "text": [
            "batch out model\n"
          ]
        },
        {
          "output_type": "stream",
          "name": "stderr",
          "text": [
            " 51%|█████     | 43438/85054 [35:50<37:37, 18.44it/s]"
          ]
        },
        {
          "output_type": "stream",
          "name": "stdout",
          "text": [
            "batch out model\n"
          ]
        },
        {
          "output_type": "stream",
          "name": "stderr",
          "text": [
            " 51%|█████     | 43569/85054 [35:56<37:18, 18.53it/s]"
          ]
        },
        {
          "output_type": "stream",
          "name": "stdout",
          "text": [
            "batch out model\n"
          ]
        },
        {
          "output_type": "stream",
          "name": "stderr",
          "text": [
            " 51%|█████▏    | 43700/85054 [36:03<36:55, 18.67it/s]"
          ]
        },
        {
          "output_type": "stream",
          "name": "stdout",
          "text": [
            "batch out model\n"
          ]
        },
        {
          "output_type": "stream",
          "name": "stderr",
          "text": [
            " 52%|█████▏    | 43829/85054 [36:09<37:10, 18.48it/s]"
          ]
        },
        {
          "output_type": "stream",
          "name": "stdout",
          "text": [
            "batch out model\n"
          ]
        },
        {
          "output_type": "stream",
          "name": "stderr",
          "text": [
            " 52%|█████▏    | 43960/85054 [36:15<36:37, 18.70it/s]"
          ]
        },
        {
          "output_type": "stream",
          "name": "stdout",
          "text": [
            "batch out model\n"
          ]
        },
        {
          "output_type": "stream",
          "name": "stderr",
          "text": [
            " 52%|█████▏    | 44082/85054 [36:22<37:32, 18.19it/s]"
          ]
        },
        {
          "output_type": "stream",
          "name": "stdout",
          "text": [
            "batch out model\n"
          ]
        },
        {
          "output_type": "stream",
          "name": "stderr",
          "text": [
            " 52%|█████▏    | 44210/85054 [36:28<37:12, 18.29it/s]"
          ]
        },
        {
          "output_type": "stream",
          "name": "stdout",
          "text": [
            "batch out model\n"
          ]
        },
        {
          "output_type": "stream",
          "name": "stderr",
          "text": [
            " 52%|█████▏    | 44342/85054 [36:34<36:04, 18.81it/s]"
          ]
        },
        {
          "output_type": "stream",
          "name": "stdout",
          "text": [
            "batch out model\n"
          ]
        },
        {
          "output_type": "stream",
          "name": "stderr",
          "text": [
            " 52%|█████▏    | 44474/85054 [36:41<35:51, 18.86it/s]"
          ]
        },
        {
          "output_type": "stream",
          "name": "stdout",
          "text": [
            "batch out model\n"
          ]
        },
        {
          "output_type": "stream",
          "name": "stderr",
          "text": [
            " 52%|█████▏    | 44605/85054 [36:47<35:42, 18.88it/s]"
          ]
        },
        {
          "output_type": "stream",
          "name": "stdout",
          "text": [
            "batch out model\n"
          ]
        },
        {
          "output_type": "stream",
          "name": "stderr",
          "text": [
            " 53%|█████▎    | 44705/85054 [36:53<38:51, 17.30it/s]"
          ]
        },
        {
          "output_type": "stream",
          "name": "stdout",
          "text": [
            "batch out model\n"
          ]
        },
        {
          "output_type": "stream",
          "name": "stderr",
          "text": [
            " 53%|█████▎    | 44835/85054 [37:00<36:39, 18.29it/s]"
          ]
        },
        {
          "output_type": "stream",
          "name": "stdout",
          "text": [
            "batch out model\n"
          ]
        },
        {
          "output_type": "stream",
          "name": "stderr",
          "text": [
            " 53%|█████▎    | 44966/85054 [37:06<35:53, 18.61it/s]"
          ]
        },
        {
          "output_type": "stream",
          "name": "stdout",
          "text": [
            "batch out model\n"
          ]
        },
        {
          "output_type": "stream",
          "name": "stderr",
          "text": [
            " 53%|█████▎    | 45098/85054 [37:12<35:16, 18.88it/s]"
          ]
        },
        {
          "output_type": "stream",
          "name": "stdout",
          "text": [
            "batch out model\n"
          ]
        },
        {
          "output_type": "stream",
          "name": "stderr",
          "text": [
            " 53%|█████▎    | 45231/85054 [37:19<34:49, 19.06it/s]"
          ]
        },
        {
          "output_type": "stream",
          "name": "stdout",
          "text": [
            "batch out model\n"
          ]
        },
        {
          "output_type": "stream",
          "name": "stderr",
          "text": [
            " 53%|█████▎    | 45362/85054 [37:25<34:57, 18.93it/s]"
          ]
        },
        {
          "output_type": "stream",
          "name": "stdout",
          "text": [
            "batch out model\n"
          ]
        },
        {
          "output_type": "stream",
          "name": "stderr",
          "text": [
            " 53%|█████▎    | 45494/85054 [37:31<35:02, 18.81it/s]"
          ]
        },
        {
          "output_type": "stream",
          "name": "stdout",
          "text": [
            "batch out model\n"
          ]
        },
        {
          "output_type": "stream",
          "name": "stderr",
          "text": [
            " 54%|█████▎    | 45625/85054 [37:38<35:06, 18.72it/s]"
          ]
        },
        {
          "output_type": "stream",
          "name": "stdout",
          "text": [
            "batch out model\n"
          ]
        },
        {
          "output_type": "stream",
          "name": "stderr",
          "text": [
            " 54%|█████▍    | 45755/85054 [37:44<35:15, 18.58it/s]"
          ]
        },
        {
          "output_type": "stream",
          "name": "stdout",
          "text": [
            "batch out model\n"
          ]
        },
        {
          "output_type": "stream",
          "name": "stderr",
          "text": [
            " 54%|█████▍    | 45886/85054 [37:50<34:55, 18.69it/s]"
          ]
        },
        {
          "output_type": "stream",
          "name": "stdout",
          "text": [
            "batch out model\n"
          ]
        },
        {
          "output_type": "stream",
          "name": "stderr",
          "text": [
            " 54%|█████▍    | 45986/85054 [37:57<37:44, 17.26it/s]"
          ]
        },
        {
          "output_type": "stream",
          "name": "stdout",
          "text": [
            "batch out model\n"
          ]
        },
        {
          "output_type": "stream",
          "name": "stderr",
          "text": [
            " 54%|█████▍    | 46116/85054 [38:03<35:28, 18.30it/s]"
          ]
        },
        {
          "output_type": "stream",
          "name": "stdout",
          "text": [
            "batch out model\n"
          ]
        },
        {
          "output_type": "stream",
          "name": "stderr",
          "text": [
            " 54%|█████▍    | 46246/85054 [38:09<35:05, 18.43it/s]"
          ]
        },
        {
          "output_type": "stream",
          "name": "stdout",
          "text": [
            "batch out model\n"
          ]
        },
        {
          "output_type": "stream",
          "name": "stderr",
          "text": [
            " 55%|█████▍    | 46377/85054 [38:16<34:37, 18.62it/s]"
          ]
        },
        {
          "output_type": "stream",
          "name": "stdout",
          "text": [
            "batch out model\n"
          ]
        },
        {
          "output_type": "stream",
          "name": "stderr",
          "text": [
            " 55%|█████▍    | 46508/85054 [38:22<34:20, 18.70it/s]"
          ]
        },
        {
          "output_type": "stream",
          "name": "stdout",
          "text": [
            "batch out model\n"
          ]
        },
        {
          "output_type": "stream",
          "name": "stderr",
          "text": [
            " 55%|█████▍    | 46641/85054 [38:28<34:01, 18.82it/s]"
          ]
        },
        {
          "output_type": "stream",
          "name": "stdout",
          "text": [
            "batch out model\n"
          ]
        },
        {
          "output_type": "stream",
          "name": "stderr",
          "text": [
            " 55%|█████▍    | 46773/85054 [38:35<33:48, 18.88it/s]"
          ]
        },
        {
          "output_type": "stream",
          "name": "stdout",
          "text": [
            "batch out model\n"
          ]
        },
        {
          "output_type": "stream",
          "name": "stderr",
          "text": [
            " 55%|█████▌    | 46902/85054 [38:41<34:05, 18.65it/s]"
          ]
        },
        {
          "output_type": "stream",
          "name": "stdout",
          "text": [
            "batch out model\n"
          ]
        },
        {
          "output_type": "stream",
          "name": "stderr",
          "text": [
            " 55%|█████▌    | 47032/85054 [38:47<34:13, 18.52it/s]"
          ]
        },
        {
          "output_type": "stream",
          "name": "stdout",
          "text": [
            "batch out model\n"
          ]
        },
        {
          "output_type": "stream",
          "name": "stderr",
          "text": [
            " 55%|█████▌    | 47161/85054 [38:54<34:15, 18.43it/s]"
          ]
        },
        {
          "output_type": "stream",
          "name": "stdout",
          "text": [
            "batch out model\n"
          ]
        },
        {
          "output_type": "stream",
          "name": "stderr",
          "text": [
            " 56%|█████▌    | 47290/85054 [39:00<34:10, 18.42it/s]"
          ]
        },
        {
          "output_type": "stream",
          "name": "stdout",
          "text": [
            "batch out model\n"
          ]
        },
        {
          "output_type": "stream",
          "name": "stderr",
          "text": [
            " 56%|█████▌    | 47421/85054 [39:06<33:36, 18.66it/s]"
          ]
        },
        {
          "output_type": "stream",
          "name": "stdout",
          "text": [
            "batch out model\n"
          ]
        },
        {
          "output_type": "stream",
          "name": "stderr",
          "text": [
            " 56%|█████▌    | 47521/85054 [39:13<36:16, 17.24it/s]"
          ]
        },
        {
          "output_type": "stream",
          "name": "stdout",
          "text": [
            "batch out model\n"
          ]
        },
        {
          "output_type": "stream",
          "name": "stderr",
          "text": [
            " 56%|█████▌    | 47652/85054 [39:19<33:58, 18.35it/s]"
          ]
        },
        {
          "output_type": "stream",
          "name": "stdout",
          "text": [
            "batch out model\n"
          ]
        },
        {
          "output_type": "stream",
          "name": "stderr",
          "text": [
            " 56%|█████▌    | 47783/85054 [39:25<33:21, 18.62it/s]"
          ]
        },
        {
          "output_type": "stream",
          "name": "stdout",
          "text": [
            "batch out model\n"
          ]
        },
        {
          "output_type": "stream",
          "name": "stderr",
          "text": [
            " 56%|█████▋    | 47916/85054 [39:32<32:55, 18.80it/s]"
          ]
        },
        {
          "output_type": "stream",
          "name": "stdout",
          "text": [
            "batch out model\n"
          ]
        },
        {
          "output_type": "stream",
          "name": "stderr",
          "text": [
            " 56%|█████▋    | 48046/85054 [39:38<33:00, 18.68it/s]"
          ]
        },
        {
          "output_type": "stream",
          "name": "stdout",
          "text": [
            "batch out model\n"
          ]
        },
        {
          "output_type": "stream",
          "name": "stderr",
          "text": [
            " 57%|█████▋    | 48178/85054 [39:45<33:17, 18.46it/s]"
          ]
        },
        {
          "output_type": "stream",
          "name": "stdout",
          "text": [
            "batch out model\n"
          ]
        },
        {
          "output_type": "stream",
          "name": "stderr",
          "text": [
            " 57%|█████▋    | 48307/85054 [39:51<33:02, 18.53it/s]"
          ]
        },
        {
          "output_type": "stream",
          "name": "stdout",
          "text": [
            "batch out model\n"
          ]
        },
        {
          "output_type": "stream",
          "name": "stderr",
          "text": [
            " 57%|█████▋    | 48437/85054 [39:57<32:59, 18.49it/s]"
          ]
        },
        {
          "output_type": "stream",
          "name": "stdout",
          "text": [
            "batch out model\n"
          ]
        },
        {
          "output_type": "stream",
          "name": "stderr",
          "text": [
            " 57%|█████▋    | 48534/85054 [40:04<46:37, 13.05it/s]"
          ]
        },
        {
          "output_type": "stream",
          "name": "stdout",
          "text": [
            "batch out model\n"
          ]
        },
        {
          "output_type": "stream",
          "name": "stderr",
          "text": [
            " 57%|█████▋    | 48682/85054 [40:10<35:09, 17.25it/s]"
          ]
        },
        {
          "output_type": "stream",
          "name": "stdout",
          "text": [
            "batch out model\n"
          ]
        },
        {
          "output_type": "stream",
          "name": "stderr",
          "text": [
            " 57%|█████▋    | 48810/85054 [40:17<33:32, 18.01it/s]"
          ]
        },
        {
          "output_type": "stream",
          "name": "stdout",
          "text": [
            "batch out model\n"
          ]
        },
        {
          "output_type": "stream",
          "name": "stderr",
          "text": [
            " 58%|█████▊    | 48940/85054 [40:23<32:44, 18.38it/s]"
          ]
        },
        {
          "output_type": "stream",
          "name": "stdout",
          "text": [
            "batch out model\n"
          ]
        },
        {
          "output_type": "stream",
          "name": "stderr",
          "text": [
            " 58%|█████▊    | 49071/85054 [40:30<32:12, 18.62it/s]"
          ]
        },
        {
          "output_type": "stream",
          "name": "stdout",
          "text": [
            "batch out model\n"
          ]
        },
        {
          "output_type": "stream",
          "name": "stderr",
          "text": [
            " 58%|█████▊    | 49202/85054 [40:36<32:01, 18.66it/s]"
          ]
        },
        {
          "output_type": "stream",
          "name": "stdout",
          "text": [
            "batch out model\n"
          ]
        },
        {
          "output_type": "stream",
          "name": "stderr",
          "text": [
            " 58%|█████▊    | 49331/85054 [40:42<32:15, 18.45it/s]"
          ]
        },
        {
          "output_type": "stream",
          "name": "stdout",
          "text": [
            "batch out model\n"
          ]
        },
        {
          "output_type": "stream",
          "name": "stderr",
          "text": [
            " 58%|█████▊    | 49461/85054 [40:49<31:52, 18.61it/s]"
          ]
        },
        {
          "output_type": "stream",
          "name": "stdout",
          "text": [
            "batch out model\n"
          ]
        },
        {
          "output_type": "stream",
          "name": "stderr",
          "text": [
            " 58%|█████▊    | 49590/85054 [40:55<31:58, 18.48it/s]"
          ]
        },
        {
          "output_type": "stream",
          "name": "stdout",
          "text": [
            "batch out model\n"
          ]
        },
        {
          "output_type": "stream",
          "name": "stderr",
          "text": [
            " 58%|█████▊    | 49721/85054 [41:01<31:20, 18.79it/s]"
          ]
        },
        {
          "output_type": "stream",
          "name": "stdout",
          "text": [
            "batch out model\n"
          ]
        },
        {
          "output_type": "stream",
          "name": "stderr",
          "text": [
            " 59%|█████▊    | 49853/85054 [41:08<31:10, 18.82it/s]"
          ]
        },
        {
          "output_type": "stream",
          "name": "stdout",
          "text": [
            "batch out model\n"
          ]
        },
        {
          "output_type": "stream",
          "name": "stderr",
          "text": [
            " 59%|█████▊    | 49953/85054 [41:14<33:46, 17.32it/s]"
          ]
        },
        {
          "output_type": "stream",
          "name": "stdout",
          "text": [
            "batch out model\n"
          ]
        },
        {
          "output_type": "stream",
          "name": "stderr",
          "text": [
            " 59%|█████▉    | 50084/85054 [41:20<31:54, 18.26it/s]"
          ]
        },
        {
          "output_type": "stream",
          "name": "stdout",
          "text": [
            "batch out model\n"
          ]
        },
        {
          "output_type": "stream",
          "name": "stderr",
          "text": [
            " 59%|█████▉    | 50214/85054 [41:27<31:29, 18.44it/s]"
          ]
        },
        {
          "output_type": "stream",
          "name": "stdout",
          "text": [
            "batch out model\n"
          ]
        },
        {
          "output_type": "stream",
          "name": "stderr",
          "text": [
            " 59%|█████▉    | 50342/85054 [41:33<31:54, 18.13it/s]"
          ]
        },
        {
          "output_type": "stream",
          "name": "stdout",
          "text": [
            "batch out model\n"
          ]
        },
        {
          "output_type": "stream",
          "name": "stderr",
          "text": [
            " 59%|█████▉    | 50471/85054 [41:39<31:16, 18.43it/s]"
          ]
        },
        {
          "output_type": "stream",
          "name": "stdout",
          "text": [
            "batch out model\n"
          ]
        },
        {
          "output_type": "stream",
          "name": "stderr",
          "text": [
            " 59%|█████▉    | 50602/85054 [41:46<31:05, 18.47it/s]"
          ]
        },
        {
          "output_type": "stream",
          "name": "stdout",
          "text": [
            "batch out model\n"
          ]
        },
        {
          "output_type": "stream",
          "name": "stderr",
          "text": [
            " 60%|█████▉    | 50735/85054 [41:52<30:19, 18.86it/s]"
          ]
        },
        {
          "output_type": "stream",
          "name": "stdout",
          "text": [
            "batch out model\n"
          ]
        },
        {
          "output_type": "stream",
          "name": "stderr",
          "text": [
            " 60%|█████▉    | 50866/85054 [41:58<30:21, 18.77it/s]"
          ]
        },
        {
          "output_type": "stream",
          "name": "stdout",
          "text": [
            "batch out model\n"
          ]
        },
        {
          "output_type": "stream",
          "name": "stderr",
          "text": [
            " 60%|█████▉    | 50998/85054 [42:05<30:15, 18.76it/s]"
          ]
        },
        {
          "output_type": "stream",
          "name": "stdout",
          "text": [
            "batch out model\n"
          ]
        },
        {
          "output_type": "stream",
          "name": "stderr",
          "text": [
            " 60%|██████    | 51128/85054 [42:11<30:29, 18.54it/s]"
          ]
        },
        {
          "output_type": "stream",
          "name": "stdout",
          "text": [
            "batch out model\n"
          ]
        },
        {
          "output_type": "stream",
          "name": "stderr",
          "text": [
            " 60%|██████    | 51260/85054 [42:17<29:59, 18.78it/s]"
          ]
        },
        {
          "output_type": "stream",
          "name": "stdout",
          "text": [
            "batch out model\n"
          ]
        },
        {
          "output_type": "stream",
          "name": "stderr",
          "text": [
            " 60%|██████    | 51389/85054 [42:24<30:19, 18.51it/s]"
          ]
        },
        {
          "output_type": "stream",
          "name": "stdout",
          "text": [
            "batch out model\n"
          ]
        },
        {
          "output_type": "stream",
          "name": "stderr",
          "text": [
            " 61%|██████    | 51489/85054 [42:30<32:32, 17.19it/s]"
          ]
        },
        {
          "output_type": "stream",
          "name": "stdout",
          "text": [
            "batch out model\n"
          ]
        },
        {
          "output_type": "stream",
          "name": "stderr",
          "text": [
            " 61%|██████    | 51617/85054 [42:36<30:53, 18.04it/s]"
          ]
        },
        {
          "output_type": "stream",
          "name": "stdout",
          "text": [
            "batch out model\n"
          ]
        },
        {
          "output_type": "stream",
          "name": "stderr",
          "text": [
            " 61%|██████    | 51748/85054 [42:43<29:53, 18.57it/s]"
          ]
        },
        {
          "output_type": "stream",
          "name": "stdout",
          "text": [
            "batch out model\n"
          ]
        },
        {
          "output_type": "stream",
          "name": "stderr",
          "text": [
            " 61%|██████    | 51878/85054 [42:49<29:40, 18.63it/s]"
          ]
        },
        {
          "output_type": "stream",
          "name": "stdout",
          "text": [
            "batch out model\n"
          ]
        },
        {
          "output_type": "stream",
          "name": "stderr",
          "text": [
            " 61%|██████    | 52009/85054 [42:55<29:15, 18.82it/s]"
          ]
        },
        {
          "output_type": "stream",
          "name": "stdout",
          "text": [
            "batch out model\n"
          ]
        },
        {
          "output_type": "stream",
          "name": "stderr",
          "text": [
            " 61%|██████▏   | 52138/85054 [43:02<29:32, 18.57it/s]"
          ]
        },
        {
          "output_type": "stream",
          "name": "stdout",
          "text": [
            "batch out model\n"
          ]
        },
        {
          "output_type": "stream",
          "name": "stderr",
          "text": [
            " 61%|██████▏   | 52270/85054 [43:08<29:10, 18.73it/s]"
          ]
        },
        {
          "output_type": "stream",
          "name": "stdout",
          "text": [
            "batch out model\n"
          ]
        },
        {
          "output_type": "stream",
          "name": "stderr",
          "text": [
            " 62%|██████▏   | 52401/85054 [43:14<29:06, 18.70it/s]"
          ]
        },
        {
          "output_type": "stream",
          "name": "stdout",
          "text": [
            "batch out model\n"
          ]
        },
        {
          "output_type": "stream",
          "name": "stderr",
          "text": [
            " 62%|██████▏   | 52533/85054 [43:21<29:28, 18.39it/s]"
          ]
        },
        {
          "output_type": "stream",
          "name": "stdout",
          "text": [
            "batch out model\n"
          ]
        },
        {
          "output_type": "stream",
          "name": "stderr",
          "text": [
            " 62%|██████▏   | 52665/85054 [43:27<28:59, 18.62it/s]"
          ]
        },
        {
          "output_type": "stream",
          "name": "stdout",
          "text": [
            "batch out model\n"
          ]
        },
        {
          "output_type": "stream",
          "name": "stderr",
          "text": [
            " 62%|██████▏   | 52796/85054 [43:34<28:44, 18.70it/s]"
          ]
        },
        {
          "output_type": "stream",
          "name": "stdout",
          "text": [
            "batch out model\n"
          ]
        },
        {
          "output_type": "stream",
          "name": "stderr",
          "text": [
            " 62%|██████▏   | 52926/85054 [43:40<28:40, 18.67it/s]"
          ]
        },
        {
          "output_type": "stream",
          "name": "stdout",
          "text": [
            "batch out model\n"
          ]
        },
        {
          "output_type": "stream",
          "name": "stderr",
          "text": [
            " 62%|██████▏   | 53052/85054 [43:46<29:15, 18.23it/s]"
          ]
        },
        {
          "output_type": "stream",
          "name": "stdout",
          "text": [
            "batch out model\n"
          ]
        },
        {
          "output_type": "stream",
          "name": "stderr",
          "text": [
            " 62%|██████▏   | 53153/85054 [43:53<30:54, 17.20it/s]"
          ]
        },
        {
          "output_type": "stream",
          "name": "stdout",
          "text": [
            "batch out model\n"
          ]
        },
        {
          "output_type": "stream",
          "name": "stderr",
          "text": [
            " 63%|██████▎   | 53280/85054 [43:59<29:36, 17.88it/s]"
          ]
        },
        {
          "output_type": "stream",
          "name": "stdout",
          "text": [
            "batch out model\n"
          ]
        },
        {
          "output_type": "stream",
          "name": "stderr",
          "text": [
            " 63%|██████▎   | 53410/85054 [44:05<28:45, 18.34it/s]"
          ]
        },
        {
          "output_type": "stream",
          "name": "stdout",
          "text": [
            "batch out model\n"
          ]
        },
        {
          "output_type": "stream",
          "name": "stderr",
          "text": [
            " 63%|██████▎   | 53541/85054 [44:12<28:10, 18.64it/s]"
          ]
        },
        {
          "output_type": "stream",
          "name": "stdout",
          "text": [
            "batch out model\n"
          ]
        },
        {
          "output_type": "stream",
          "name": "stderr",
          "text": [
            " 63%|██████▎   | 53671/85054 [44:18<28:04, 18.63it/s]"
          ]
        },
        {
          "output_type": "stream",
          "name": "stdout",
          "text": [
            "batch out model\n"
          ]
        },
        {
          "output_type": "stream",
          "name": "stderr",
          "text": [
            " 63%|██████▎   | 53802/85054 [44:24<27:54, 18.67it/s]"
          ]
        },
        {
          "output_type": "stream",
          "name": "stdout",
          "text": [
            "batch out model\n"
          ]
        },
        {
          "output_type": "stream",
          "name": "stderr",
          "text": [
            " 63%|██████▎   | 53932/85054 [44:31<27:49, 18.64it/s]"
          ]
        },
        {
          "output_type": "stream",
          "name": "stdout",
          "text": [
            "batch out model\n"
          ]
        },
        {
          "output_type": "stream",
          "name": "stderr",
          "text": [
            " 64%|██████▎   | 54063/85054 [44:37<27:37, 18.70it/s]"
          ]
        },
        {
          "output_type": "stream",
          "name": "stdout",
          "text": [
            "batch out model\n"
          ]
        },
        {
          "output_type": "stream",
          "name": "stderr",
          "text": [
            " 64%|██████▎   | 54195/85054 [44:43<27:16, 18.85it/s]"
          ]
        },
        {
          "output_type": "stream",
          "name": "stdout",
          "text": [
            "batch out model\n"
          ]
        },
        {
          "output_type": "stream",
          "name": "stderr",
          "text": [
            " 64%|██████▍   | 54328/85054 [44:50<27:00, 18.96it/s]"
          ]
        },
        {
          "output_type": "stream",
          "name": "stdout",
          "text": [
            "batch out model\n"
          ]
        },
        {
          "output_type": "stream",
          "name": "stderr",
          "text": [
            " 64%|██████▍   | 54460/85054 [44:56<26:58, 18.91it/s]"
          ]
        },
        {
          "output_type": "stream",
          "name": "stdout",
          "text": [
            "batch out model\n"
          ]
        },
        {
          "output_type": "stream",
          "name": "stderr",
          "text": [
            " 64%|██████▍   | 54562/85054 [45:02<28:58, 17.54it/s]"
          ]
        },
        {
          "output_type": "stream",
          "name": "stdout",
          "text": [
            "batch out model\n"
          ]
        },
        {
          "output_type": "stream",
          "name": "stderr",
          "text": [
            " 64%|██████▍   | 54692/85054 [45:09<27:45, 18.23it/s]"
          ]
        },
        {
          "output_type": "stream",
          "name": "stdout",
          "text": [
            "batch out model\n"
          ]
        },
        {
          "output_type": "stream",
          "name": "stderr",
          "text": [
            " 64%|██████▍   | 54821/85054 [45:15<27:27, 18.35it/s]"
          ]
        },
        {
          "output_type": "stream",
          "name": "stdout",
          "text": [
            "batch out model\n"
          ]
        },
        {
          "output_type": "stream",
          "name": "stderr",
          "text": [
            " 65%|██████▍   | 54952/85054 [45:22<27:27, 18.27it/s]"
          ]
        },
        {
          "output_type": "stream",
          "name": "stdout",
          "text": [
            "batch out model\n"
          ]
        },
        {
          "output_type": "stream",
          "name": "stderr",
          "text": [
            " 65%|██████▍   | 55081/85054 [45:28<27:10, 18.38it/s]"
          ]
        },
        {
          "output_type": "stream",
          "name": "stdout",
          "text": [
            "batch out model\n"
          ]
        },
        {
          "output_type": "stream",
          "name": "stderr",
          "text": [
            " 65%|██████▍   | 55213/85054 [45:34<26:48, 18.55it/s]"
          ]
        },
        {
          "output_type": "stream",
          "name": "stdout",
          "text": [
            "batch out model\n"
          ]
        },
        {
          "output_type": "stream",
          "name": "stderr",
          "text": [
            " 65%|██████▌   | 55342/85054 [45:41<26:42, 18.54it/s]"
          ]
        },
        {
          "output_type": "stream",
          "name": "stdout",
          "text": [
            "batch out model\n"
          ]
        },
        {
          "output_type": "stream",
          "name": "stderr",
          "text": [
            " 65%|██████▌   | 55471/85054 [45:47<26:45, 18.42it/s]"
          ]
        },
        {
          "output_type": "stream",
          "name": "stdout",
          "text": [
            "batch out model\n"
          ]
        },
        {
          "output_type": "stream",
          "name": "stderr",
          "text": [
            " 65%|██████▌   | 55601/85054 [45:53<26:34, 18.47it/s]"
          ]
        },
        {
          "output_type": "stream",
          "name": "stdout",
          "text": [
            "batch out model\n"
          ]
        },
        {
          "output_type": "stream",
          "name": "stderr",
          "text": [
            " 66%|██████▌   | 55729/85054 [46:00<26:48, 18.24it/s]"
          ]
        },
        {
          "output_type": "stream",
          "name": "stdout",
          "text": [
            "batch out model\n"
          ]
        },
        {
          "output_type": "stream",
          "name": "stderr",
          "text": [
            " 66%|██████▌   | 55859/85054 [46:06<26:14, 18.55it/s]"
          ]
        },
        {
          "output_type": "stream",
          "name": "stdout",
          "text": [
            "batch out model\n"
          ]
        },
        {
          "output_type": "stream",
          "name": "stderr",
          "text": [
            " 66%|██████▌   | 55988/85054 [46:12<26:08, 18.53it/s]"
          ]
        },
        {
          "output_type": "stream",
          "name": "stdout",
          "text": [
            "batch out model\n"
          ]
        },
        {
          "output_type": "stream",
          "name": "stderr",
          "text": [
            " 66%|██████▌   | 56118/85054 [46:19<25:46, 18.71it/s]"
          ]
        },
        {
          "output_type": "stream",
          "name": "stdout",
          "text": [
            "batch out model\n"
          ]
        },
        {
          "output_type": "stream",
          "name": "stderr",
          "text": [
            " 66%|██████▌   | 56249/85054 [46:25<25:47, 18.61it/s]"
          ]
        },
        {
          "output_type": "stream",
          "name": "stdout",
          "text": [
            "batch out model\n"
          ]
        },
        {
          "output_type": "stream",
          "name": "stderr",
          "text": [
            " 66%|██████▋   | 56379/85054 [46:32<25:38, 18.64it/s]"
          ]
        },
        {
          "output_type": "stream",
          "name": "stdout",
          "text": [
            "batch out model\n"
          ]
        },
        {
          "output_type": "stream",
          "name": "stderr",
          "text": [
            " 66%|██████▋   | 56508/85054 [46:38<25:48, 18.43it/s]"
          ]
        },
        {
          "output_type": "stream",
          "name": "stdout",
          "text": [
            "batch out model\n"
          ]
        },
        {
          "output_type": "stream",
          "name": "stderr",
          "text": [
            " 67%|██████▋   | 56639/85054 [46:44<25:14, 18.76it/s]"
          ]
        },
        {
          "output_type": "stream",
          "name": "stdout",
          "text": [
            "batch out model\n"
          ]
        },
        {
          "output_type": "stream",
          "name": "stderr",
          "text": [
            " 67%|██████▋   | 56771/85054 [46:51<19:29, 24.19it/s]"
          ]
        },
        {
          "output_type": "stream",
          "name": "stdout",
          "text": [
            "batch out model\n"
          ]
        },
        {
          "output_type": "stream",
          "name": "stderr",
          "text": [
            " 67%|██████▋   | 56867/85054 [46:57<26:06, 18.00it/s]"
          ]
        },
        {
          "output_type": "stream",
          "name": "stdout",
          "text": [
            "batch out model\n"
          ]
        },
        {
          "output_type": "stream",
          "name": "stderr",
          "text": [
            " 67%|██████▋   | 56995/85054 [47:03<25:32, 18.31it/s]"
          ]
        },
        {
          "output_type": "stream",
          "name": "stdout",
          "text": [
            "batch out model\n"
          ]
        },
        {
          "output_type": "stream",
          "name": "stderr",
          "text": [
            " 67%|██████▋   | 57123/85054 [47:10<25:29, 18.26it/s]"
          ]
        },
        {
          "output_type": "stream",
          "name": "stdout",
          "text": [
            "batch out model\n"
          ]
        },
        {
          "output_type": "stream",
          "name": "stderr",
          "text": [
            " 67%|██████▋   | 57252/85054 [47:16<25:13, 18.37it/s]"
          ]
        },
        {
          "output_type": "stream",
          "name": "stdout",
          "text": [
            "batch out model\n"
          ]
        },
        {
          "output_type": "stream",
          "name": "stderr",
          "text": [
            " 67%|██████▋   | 57380/85054 [47:22<25:26, 18.13it/s]"
          ]
        },
        {
          "output_type": "stream",
          "name": "stdout",
          "text": [
            "batch out model\n"
          ]
        },
        {
          "output_type": "stream",
          "name": "stderr",
          "text": [
            " 68%|██████▊   | 57508/85054 [47:29<25:06, 18.29it/s]"
          ]
        },
        {
          "output_type": "stream",
          "name": "stdout",
          "text": [
            "batch out model\n"
          ]
        },
        {
          "output_type": "stream",
          "name": "stderr",
          "text": [
            " 68%|██████▊   | 57637/85054 [47:35<24:45, 18.46it/s]"
          ]
        },
        {
          "output_type": "stream",
          "name": "stdout",
          "text": [
            "batch out model\n"
          ]
        },
        {
          "output_type": "stream",
          "name": "stderr",
          "text": [
            " 68%|██████▊   | 57767/85054 [47:41<24:28, 18.58it/s]"
          ]
        },
        {
          "output_type": "stream",
          "name": "stdout",
          "text": [
            "batch out model\n"
          ]
        },
        {
          "output_type": "stream",
          "name": "stderr",
          "text": [
            " 68%|██████▊   | 57898/85054 [47:48<24:04, 18.80it/s]"
          ]
        },
        {
          "output_type": "stream",
          "name": "stdout",
          "text": [
            "batch out model\n"
          ]
        },
        {
          "output_type": "stream",
          "name": "stderr",
          "text": [
            " 68%|██████▊   | 58027/85054 [47:54<24:15, 18.57it/s]"
          ]
        },
        {
          "output_type": "stream",
          "name": "stdout",
          "text": [
            "batch out model\n"
          ]
        },
        {
          "output_type": "stream",
          "name": "stderr",
          "text": [
            " 68%|██████▊   | 58156/85054 [48:00<24:24, 18.36it/s]"
          ]
        },
        {
          "output_type": "stream",
          "name": "stdout",
          "text": [
            "batch out model\n"
          ]
        },
        {
          "output_type": "stream",
          "name": "stderr",
          "text": [
            " 69%|██████▊   | 58286/85054 [48:07<24:11, 18.45it/s]"
          ]
        },
        {
          "output_type": "stream",
          "name": "stdout",
          "text": [
            "batch out model\n"
          ]
        },
        {
          "output_type": "stream",
          "name": "stderr",
          "text": [
            " 69%|██████▊   | 58416/85054 [48:13<23:52, 18.59it/s]"
          ]
        },
        {
          "output_type": "stream",
          "name": "stdout",
          "text": [
            "batch out model\n"
          ]
        },
        {
          "output_type": "stream",
          "name": "stderr",
          "text": [
            " 69%|██████▉   | 58545/85054 [48:20<23:49, 18.55it/s]"
          ]
        },
        {
          "output_type": "stream",
          "name": "stdout",
          "text": [
            "batch out model\n"
          ]
        },
        {
          "output_type": "stream",
          "name": "stderr",
          "text": [
            " 69%|██████▉   | 58672/85054 [48:26<24:01, 18.30it/s]"
          ]
        },
        {
          "output_type": "stream",
          "name": "stdout",
          "text": [
            "batch out model\n"
          ]
        },
        {
          "output_type": "stream",
          "name": "stderr",
          "text": [
            " 69%|██████▉   | 58804/85054 [48:32<23:24, 18.68it/s]"
          ]
        },
        {
          "output_type": "stream",
          "name": "stdout",
          "text": [
            "batch out model\n"
          ]
        },
        {
          "output_type": "stream",
          "name": "stderr",
          "text": [
            " 69%|██████▉   | 58933/85054 [48:39<23:26, 18.58it/s]"
          ]
        },
        {
          "output_type": "stream",
          "name": "stdout",
          "text": [
            "batch out model\n"
          ]
        },
        {
          "output_type": "stream",
          "name": "stderr",
          "text": [
            " 69%|██████▉   | 59063/85054 [48:45<23:24, 18.51it/s]"
          ]
        },
        {
          "output_type": "stream",
          "name": "stdout",
          "text": [
            "batch out model\n"
          ]
        },
        {
          "output_type": "stream",
          "name": "stderr",
          "text": [
            " 70%|██████▉   | 59192/85054 [48:51<23:16, 18.52it/s]"
          ]
        },
        {
          "output_type": "stream",
          "name": "stdout",
          "text": [
            "batch out model\n"
          ]
        },
        {
          "output_type": "stream",
          "name": "stderr",
          "text": [
            " 70%|██████▉   | 59321/85054 [48:58<23:19, 18.39it/s]"
          ]
        },
        {
          "output_type": "stream",
          "name": "stdout",
          "text": [
            "batch out model\n"
          ]
        },
        {
          "output_type": "stream",
          "name": "stderr",
          "text": [
            " 70%|██████▉   | 59451/85054 [49:04<22:57, 18.59it/s]"
          ]
        },
        {
          "output_type": "stream",
          "name": "stdout",
          "text": [
            "batch out model\n"
          ]
        },
        {
          "output_type": "stream",
          "name": "stderr",
          "text": [
            " 70%|███████   | 59582/85054 [49:10<22:49, 18.60it/s]"
          ]
        },
        {
          "output_type": "stream",
          "name": "stdout",
          "text": [
            "batch out model\n"
          ]
        },
        {
          "output_type": "stream",
          "name": "stderr",
          "text": [
            " 70%|███████   | 59681/85054 [49:17<24:42, 17.12it/s]"
          ]
        },
        {
          "output_type": "stream",
          "name": "stdout",
          "text": [
            "batch out model\n"
          ]
        },
        {
          "output_type": "stream",
          "name": "stderr",
          "text": [
            " 70%|███████   | 59811/85054 [49:23<23:16, 18.07it/s]"
          ]
        },
        {
          "output_type": "stream",
          "name": "stdout",
          "text": [
            "batch out model\n"
          ]
        },
        {
          "output_type": "stream",
          "name": "stderr",
          "text": [
            " 70%|███████   | 59942/85054 [49:29<22:32, 18.57it/s]"
          ]
        },
        {
          "output_type": "stream",
          "name": "stdout",
          "text": [
            "batch out model\n"
          ]
        },
        {
          "output_type": "stream",
          "name": "stderr",
          "text": [
            " 71%|███████   | 60073/85054 [49:36<22:15, 18.70it/s]"
          ]
        },
        {
          "output_type": "stream",
          "name": "stdout",
          "text": [
            "batch out model\n"
          ]
        },
        {
          "output_type": "stream",
          "name": "stderr",
          "text": [
            " 71%|███████   | 60202/85054 [49:42<22:23, 18.49it/s]"
          ]
        },
        {
          "output_type": "stream",
          "name": "stdout",
          "text": [
            "batch out model\n"
          ]
        },
        {
          "output_type": "stream",
          "name": "stderr",
          "text": [
            " 71%|███████   | 60335/85054 [49:48<21:50, 18.86it/s]"
          ]
        },
        {
          "output_type": "stream",
          "name": "stdout",
          "text": [
            "batch out model\n"
          ]
        },
        {
          "output_type": "stream",
          "name": "stderr",
          "text": [
            " 71%|███████   | 60464/85054 [49:55<22:07, 18.53it/s]"
          ]
        },
        {
          "output_type": "stream",
          "name": "stdout",
          "text": [
            "batch out model\n"
          ]
        },
        {
          "output_type": "stream",
          "name": "stderr",
          "text": [
            " 71%|███████   | 60592/85054 [50:01<22:11, 18.38it/s]"
          ]
        },
        {
          "output_type": "stream",
          "name": "stdout",
          "text": [
            "batch out model\n"
          ]
        },
        {
          "output_type": "stream",
          "name": "stderr",
          "text": [
            " 71%|███████▏  | 60723/85054 [50:07<21:44, 18.65it/s]"
          ]
        },
        {
          "output_type": "stream",
          "name": "stdout",
          "text": [
            "batch out model\n"
          ]
        },
        {
          "output_type": "stream",
          "name": "stderr",
          "text": [
            " 72%|███████▏  | 60850/85054 [50:14<21:53, 18.43it/s]"
          ]
        },
        {
          "output_type": "stream",
          "name": "stdout",
          "text": [
            "batch out model\n"
          ]
        },
        {
          "output_type": "stream",
          "name": "stderr",
          "text": [
            " 72%|███████▏  | 60981/85054 [50:20<21:30, 18.66it/s]"
          ]
        },
        {
          "output_type": "stream",
          "name": "stdout",
          "text": [
            "batch out model\n"
          ]
        },
        {
          "output_type": "stream",
          "name": "stderr",
          "text": [
            " 72%|███████▏  | 61112/85054 [50:26<21:20, 18.70it/s]"
          ]
        },
        {
          "output_type": "stream",
          "name": "stdout",
          "text": [
            "batch out model\n"
          ]
        },
        {
          "output_type": "stream",
          "name": "stderr",
          "text": [
            " 72%|███████▏  | 61242/85054 [50:33<21:23, 18.55it/s]"
          ]
        },
        {
          "output_type": "stream",
          "name": "stdout",
          "text": [
            "batch out model\n"
          ]
        },
        {
          "output_type": "stream",
          "name": "stderr",
          "text": [
            " 72%|███████▏  | 61372/85054 [50:39<21:14, 18.58it/s]"
          ]
        },
        {
          "output_type": "stream",
          "name": "stdout",
          "text": [
            "batch out model\n"
          ]
        },
        {
          "output_type": "stream",
          "name": "stderr",
          "text": [
            " 72%|███████▏  | 61502/85054 [50:46<21:30, 18.25it/s]"
          ]
        },
        {
          "output_type": "stream",
          "name": "stdout",
          "text": [
            "batch out model\n"
          ]
        },
        {
          "output_type": "stream",
          "name": "stderr",
          "text": [
            " 72%|███████▏  | 61601/85054 [50:52<22:58, 17.02it/s]"
          ]
        },
        {
          "output_type": "stream",
          "name": "stdout",
          "text": [
            "batch out model\n"
          ]
        },
        {
          "output_type": "stream",
          "name": "stderr",
          "text": [
            " 73%|███████▎  | 61731/85054 [50:58<21:21, 18.20it/s]"
          ]
        },
        {
          "output_type": "stream",
          "name": "stdout",
          "text": [
            "batch out model\n"
          ]
        },
        {
          "output_type": "stream",
          "name": "stderr",
          "text": [
            " 73%|███████▎  | 61859/85054 [51:05<21:02, 18.38it/s]"
          ]
        },
        {
          "output_type": "stream",
          "name": "stdout",
          "text": [
            "batch out model\n"
          ]
        },
        {
          "output_type": "stream",
          "name": "stderr",
          "text": [
            " 73%|███████▎  | 61990/85054 [51:11<20:56, 18.35it/s]"
          ]
        },
        {
          "output_type": "stream",
          "name": "stdout",
          "text": [
            "batch out model\n"
          ]
        },
        {
          "output_type": "stream",
          "name": "stderr",
          "text": [
            " 73%|███████▎  | 62121/85054 [51:17<20:26, 18.69it/s]"
          ]
        },
        {
          "output_type": "stream",
          "name": "stdout",
          "text": [
            "batch out model\n"
          ]
        },
        {
          "output_type": "stream",
          "name": "stderr",
          "text": [
            " 73%|███████▎  | 62253/85054 [51:24<20:10, 18.83it/s]"
          ]
        },
        {
          "output_type": "stream",
          "name": "stdout",
          "text": [
            "batch out model\n"
          ]
        },
        {
          "output_type": "stream",
          "name": "stderr",
          "text": [
            " 73%|███████▎  | 62382/85054 [51:30<20:18, 18.61it/s]"
          ]
        },
        {
          "output_type": "stream",
          "name": "stdout",
          "text": [
            "batch out model\n"
          ]
        },
        {
          "output_type": "stream",
          "name": "stderr",
          "text": [
            " 73%|███████▎  | 62512/85054 [51:36<20:09, 18.64it/s]"
          ]
        },
        {
          "output_type": "stream",
          "name": "stdout",
          "text": [
            "batch out model\n"
          ]
        },
        {
          "output_type": "stream",
          "name": "stderr",
          "text": [
            " 74%|███████▎  | 62640/85054 [51:43<20:18, 18.39it/s]"
          ]
        },
        {
          "output_type": "stream",
          "name": "stdout",
          "text": [
            "batch out model\n"
          ]
        },
        {
          "output_type": "stream",
          "name": "stderr",
          "text": [
            " 74%|███████▍  | 62770/85054 [51:49<19:59, 18.59it/s]"
          ]
        },
        {
          "output_type": "stream",
          "name": "stdout",
          "text": [
            "batch out model\n"
          ]
        },
        {
          "output_type": "stream",
          "name": "stderr",
          "text": [
            " 74%|███████▍  | 62900/85054 [51:56<19:49, 18.63it/s]"
          ]
        },
        {
          "output_type": "stream",
          "name": "stdout",
          "text": [
            "batch out model\n"
          ]
        },
        {
          "output_type": "stream",
          "name": "stderr",
          "text": [
            " 74%|███████▍  | 63029/85054 [52:02<19:46, 18.56it/s]"
          ]
        },
        {
          "output_type": "stream",
          "name": "stdout",
          "text": [
            "batch out model\n"
          ]
        },
        {
          "output_type": "stream",
          "name": "stderr",
          "text": [
            " 74%|███████▍  | 63161/85054 [52:08<19:24, 18.80it/s]"
          ]
        },
        {
          "output_type": "stream",
          "name": "stdout",
          "text": [
            "batch out model\n"
          ]
        },
        {
          "output_type": "stream",
          "name": "stderr",
          "text": [
            " 74%|███████▍  | 63293/85054 [52:15<19:10, 18.91it/s]"
          ]
        },
        {
          "output_type": "stream",
          "name": "stdout",
          "text": [
            "batch out model\n"
          ]
        },
        {
          "output_type": "stream",
          "name": "stderr",
          "text": [
            " 75%|███████▍  | 63394/85054 [52:21<20:37, 17.50it/s]"
          ]
        },
        {
          "output_type": "stream",
          "name": "stdout",
          "text": [
            "batch out model\n"
          ]
        },
        {
          "output_type": "stream",
          "name": "stderr",
          "text": [
            " 75%|███████▍  | 63524/85054 [52:27<19:39, 18.25it/s]"
          ]
        },
        {
          "output_type": "stream",
          "name": "stdout",
          "text": [
            "batch out model\n"
          ]
        },
        {
          "output_type": "stream",
          "name": "stderr",
          "text": [
            " 75%|███████▍  | 63655/85054 [52:34<19:14, 18.53it/s]"
          ]
        },
        {
          "output_type": "stream",
          "name": "stdout",
          "text": [
            "batch out model\n"
          ]
        },
        {
          "output_type": "stream",
          "name": "stderr",
          "text": [
            " 75%|███████▍  | 63781/85054 [52:40<19:25, 18.25it/s]"
          ]
        },
        {
          "output_type": "stream",
          "name": "stdout",
          "text": [
            "batch out model\n"
          ]
        },
        {
          "output_type": "stream",
          "name": "stderr",
          "text": [
            " 75%|███████▌  | 63910/85054 [52:46<19:14, 18.32it/s]"
          ]
        },
        {
          "output_type": "stream",
          "name": "stdout",
          "text": [
            "batch out model\n"
          ]
        },
        {
          "output_type": "stream",
          "name": "stderr",
          "text": [
            " 75%|███████▌  | 64039/85054 [52:53<19:03, 18.37it/s]"
          ]
        },
        {
          "output_type": "stream",
          "name": "stdout",
          "text": [
            "batch out model\n"
          ]
        },
        {
          "output_type": "stream",
          "name": "stderr",
          "text": [
            " 75%|███████▌  | 64167/85054 [52:59<19:25, 17.93it/s]"
          ]
        },
        {
          "output_type": "stream",
          "name": "stdout",
          "text": [
            "batch out model\n"
          ]
        },
        {
          "output_type": "stream",
          "name": "stderr",
          "text": [
            " 76%|███████▌  | 64295/85054 [53:05<18:58, 18.24it/s]"
          ]
        },
        {
          "output_type": "stream",
          "name": "stdout",
          "text": [
            "batch out model\n"
          ]
        },
        {
          "output_type": "stream",
          "name": "stderr",
          "text": [
            " 76%|███████▌  | 64423/85054 [53:12<18:50, 18.25it/s]"
          ]
        },
        {
          "output_type": "stream",
          "name": "stdout",
          "text": [
            "batch out model\n"
          ]
        },
        {
          "output_type": "stream",
          "name": "stderr",
          "text": [
            " 76%|███████▌  | 64554/85054 [53:18<18:22, 18.60it/s]"
          ]
        },
        {
          "output_type": "stream",
          "name": "stdout",
          "text": [
            "batch out model\n"
          ]
        },
        {
          "output_type": "stream",
          "name": "stderr",
          "text": [
            " 76%|███████▌  | 64684/85054 [53:24<18:16, 18.58it/s]"
          ]
        },
        {
          "output_type": "stream",
          "name": "stdout",
          "text": [
            "batch out model\n"
          ]
        },
        {
          "output_type": "stream",
          "name": "stderr",
          "text": [
            " 76%|███████▌  | 64815/85054 [53:31<18:03, 18.67it/s]"
          ]
        },
        {
          "output_type": "stream",
          "name": "stdout",
          "text": [
            "batch out model\n"
          ]
        },
        {
          "output_type": "stream",
          "name": "stderr",
          "text": [
            " 76%|███████▋  | 64945/85054 [53:37<18:01, 18.60it/s]"
          ]
        },
        {
          "output_type": "stream",
          "name": "stdout",
          "text": [
            "batch out model\n"
          ]
        },
        {
          "output_type": "stream",
          "name": "stderr",
          "text": [
            " 77%|███████▋  | 65075/85054 [53:44<17:54, 18.60it/s]"
          ]
        },
        {
          "output_type": "stream",
          "name": "stdout",
          "text": [
            "batch out model\n"
          ]
        },
        {
          "output_type": "stream",
          "name": "stderr",
          "text": [
            " 77%|███████▋  | 65205/85054 [53:50<17:48, 18.58it/s]"
          ]
        },
        {
          "output_type": "stream",
          "name": "stdout",
          "text": [
            "batch out model\n"
          ]
        },
        {
          "output_type": "stream",
          "name": "stderr",
          "text": [
            " 77%|███████▋  | 65335/85054 [53:56<17:44, 18.53it/s]"
          ]
        },
        {
          "output_type": "stream",
          "name": "stdout",
          "text": [
            "batch out model\n"
          ]
        },
        {
          "output_type": "stream",
          "name": "stderr",
          "text": [
            " 77%|███████▋  | 65463/85054 [54:03<17:40, 18.47it/s]"
          ]
        },
        {
          "output_type": "stream",
          "name": "stdout",
          "text": [
            "batch out model\n"
          ]
        },
        {
          "output_type": "stream",
          "name": "stderr",
          "text": [
            " 77%|███████▋  | 65593/85054 [54:09<17:27, 18.58it/s]"
          ]
        },
        {
          "output_type": "stream",
          "name": "stdout",
          "text": [
            "batch out model\n"
          ]
        },
        {
          "output_type": "stream",
          "name": "stderr",
          "text": [
            " 77%|███████▋  | 65721/85054 [54:15<17:28, 18.45it/s]"
          ]
        },
        {
          "output_type": "stream",
          "name": "stdout",
          "text": [
            "batch out model\n"
          ]
        },
        {
          "output_type": "stream",
          "name": "stderr",
          "text": [
            " 77%|███████▋  | 65852/85054 [54:22<17:13, 18.57it/s]"
          ]
        },
        {
          "output_type": "stream",
          "name": "stdout",
          "text": [
            "batch out model\n"
          ]
        },
        {
          "output_type": "stream",
          "name": "stderr",
          "text": [
            " 78%|███████▊  | 65953/85054 [54:28<18:23, 17.31it/s]"
          ]
        },
        {
          "output_type": "stream",
          "name": "stdout",
          "text": [
            "batch out model\n"
          ]
        },
        {
          "output_type": "stream",
          "name": "stderr",
          "text": [
            " 78%|███████▊  | 66082/85054 [54:34<17:33, 18.01it/s]"
          ]
        },
        {
          "output_type": "stream",
          "name": "stdout",
          "text": [
            "batch out model\n"
          ]
        },
        {
          "output_type": "stream",
          "name": "stderr",
          "text": [
            " 78%|███████▊  | 66212/85054 [54:41<17:05, 18.37it/s]"
          ]
        },
        {
          "output_type": "stream",
          "name": "stdout",
          "text": [
            "batch out model\n"
          ]
        },
        {
          "output_type": "stream",
          "name": "stderr",
          "text": [
            " 78%|███████▊  | 66342/85054 [54:47<16:51, 18.50it/s]"
          ]
        },
        {
          "output_type": "stream",
          "name": "stdout",
          "text": [
            "batch out model\n"
          ]
        },
        {
          "output_type": "stream",
          "name": "stderr",
          "text": [
            " 78%|███████▊  | 66473/85054 [54:53<16:35, 18.66it/s]"
          ]
        },
        {
          "output_type": "stream",
          "name": "stdout",
          "text": [
            "batch out model\n"
          ]
        },
        {
          "output_type": "stream",
          "name": "stderr",
          "text": [
            " 78%|███████▊  | 66603/85054 [55:00<16:41, 18.42it/s]"
          ]
        },
        {
          "output_type": "stream",
          "name": "stdout",
          "text": [
            "batch out model\n"
          ]
        },
        {
          "output_type": "stream",
          "name": "stderr",
          "text": [
            " 78%|███████▊  | 66733/85054 [55:06<16:26, 18.58it/s]"
          ]
        },
        {
          "output_type": "stream",
          "name": "stdout",
          "text": [
            "batch out model\n"
          ]
        },
        {
          "output_type": "stream",
          "name": "stderr",
          "text": [
            " 79%|███████▊  | 66861/85054 [55:12<16:29, 18.38it/s]"
          ]
        },
        {
          "output_type": "stream",
          "name": "stdout",
          "text": [
            "batch out model\n"
          ]
        },
        {
          "output_type": "stream",
          "name": "stderr",
          "text": [
            " 79%|███████▉  | 66990/85054 [55:19<16:22, 18.39it/s]"
          ]
        },
        {
          "output_type": "stream",
          "name": "stdout",
          "text": [
            "batch out model\n"
          ]
        },
        {
          "output_type": "stream",
          "name": "stderr",
          "text": [
            " 79%|███████▉  | 67122/85054 [55:25<15:53, 18.81it/s]"
          ]
        },
        {
          "output_type": "stream",
          "name": "stdout",
          "text": [
            "batch out model\n"
          ]
        },
        {
          "output_type": "stream",
          "name": "stderr",
          "text": [
            " 79%|███████▉  | 67218/85054 [55:31<22:46, 13.06it/s]"
          ]
        },
        {
          "output_type": "stream",
          "name": "stdout",
          "text": [
            "batch out model\n"
          ]
        },
        {
          "output_type": "stream",
          "name": "stderr",
          "text": [
            " 79%|███████▉  | 67366/85054 [55:38<16:42, 17.65it/s]"
          ]
        },
        {
          "output_type": "stream",
          "name": "stdout",
          "text": [
            "batch out model\n"
          ]
        },
        {
          "output_type": "stream",
          "name": "stderr",
          "text": [
            " 79%|███████▉  | 67493/85054 [55:44<16:15, 18.01it/s]"
          ]
        },
        {
          "output_type": "stream",
          "name": "stdout",
          "text": [
            "batch out model\n"
          ]
        },
        {
          "output_type": "stream",
          "name": "stderr",
          "text": [
            " 80%|███████▉  | 67622/85054 [55:51<15:51, 18.33it/s]"
          ]
        },
        {
          "output_type": "stream",
          "name": "stdout",
          "text": [
            "batch out model\n"
          ]
        },
        {
          "output_type": "stream",
          "name": "stderr",
          "text": [
            " 80%|███████▉  | 67752/85054 [55:57<15:31, 18.57it/s]"
          ]
        },
        {
          "output_type": "stream",
          "name": "stdout",
          "text": [
            "batch out model\n"
          ]
        },
        {
          "output_type": "stream",
          "name": "stderr",
          "text": [
            " 80%|███████▉  | 67886/85054 [56:03<15:06, 18.94it/s]"
          ]
        },
        {
          "output_type": "stream",
          "name": "stdout",
          "text": [
            "batch out model\n"
          ]
        },
        {
          "output_type": "stream",
          "name": "stderr",
          "text": [
            " 80%|███████▉  | 68015/85054 [56:10<15:24, 18.43it/s]"
          ]
        },
        {
          "output_type": "stream",
          "name": "stdout",
          "text": [
            "batch out model\n"
          ]
        },
        {
          "output_type": "stream",
          "name": "stderr",
          "text": [
            " 80%|████████  | 68144/85054 [56:16<15:18, 18.40it/s]"
          ]
        },
        {
          "output_type": "stream",
          "name": "stdout",
          "text": [
            "batch out model\n"
          ]
        },
        {
          "output_type": "stream",
          "name": "stderr",
          "text": [
            " 80%|████████  | 68269/85054 [56:23<15:33, 17.97it/s]"
          ]
        },
        {
          "output_type": "stream",
          "name": "stdout",
          "text": [
            "batch out model\n"
          ]
        },
        {
          "output_type": "stream",
          "name": "stderr",
          "text": [
            " 80%|████████  | 68399/85054 [56:29<15:02, 18.45it/s]"
          ]
        },
        {
          "output_type": "stream",
          "name": "stdout",
          "text": [
            "batch out model\n"
          ]
        },
        {
          "output_type": "stream",
          "name": "stderr",
          "text": [
            " 81%|████████  | 68530/85054 [56:35<14:50, 18.56it/s]"
          ]
        },
        {
          "output_type": "stream",
          "name": "stdout",
          "text": [
            "batch out model\n"
          ]
        },
        {
          "output_type": "stream",
          "name": "stderr",
          "text": [
            " 81%|████████  | 68659/85054 [56:42<14:45, 18.52it/s]"
          ]
        },
        {
          "output_type": "stream",
          "name": "stdout",
          "text": [
            "batch out model\n"
          ]
        },
        {
          "output_type": "stream",
          "name": "stderr",
          "text": [
            " 81%|████████  | 68789/85054 [56:48<14:37, 18.53it/s]"
          ]
        },
        {
          "output_type": "stream",
          "name": "stdout",
          "text": [
            "batch out model\n"
          ]
        },
        {
          "output_type": "stream",
          "name": "stderr",
          "text": [
            " 81%|████████  | 68919/85054 [56:54<14:33, 18.48it/s]"
          ]
        },
        {
          "output_type": "stream",
          "name": "stdout",
          "text": [
            "batch out model\n"
          ]
        },
        {
          "output_type": "stream",
          "name": "stderr",
          "text": [
            " 81%|████████  | 69051/85054 [57:01<14:16, 18.68it/s]"
          ]
        },
        {
          "output_type": "stream",
          "name": "stdout",
          "text": [
            "batch out model\n"
          ]
        },
        {
          "output_type": "stream",
          "name": "stderr",
          "text": [
            " 81%|████████▏ | 69182/85054 [57:07<14:08, 18.70it/s]"
          ]
        },
        {
          "output_type": "stream",
          "name": "stdout",
          "text": [
            "batch out model\n"
          ]
        },
        {
          "output_type": "stream",
          "name": "stderr",
          "text": [
            " 81%|████████▏ | 69281/85054 [57:13<15:19, 17.15it/s]"
          ]
        },
        {
          "output_type": "stream",
          "name": "stdout",
          "text": [
            "batch out model\n"
          ]
        },
        {
          "output_type": "stream",
          "name": "stderr",
          "text": [
            " 82%|████████▏ | 69441/85054 [57:20<10:21, 25.11it/s]"
          ]
        },
        {
          "output_type": "stream",
          "name": "stdout",
          "text": [
            "batch out model\n"
          ]
        },
        {
          "output_type": "stream",
          "name": "stderr",
          "text": [
            " 82%|████████▏ | 69537/85054 [57:26<14:08, 18.28it/s]"
          ]
        },
        {
          "output_type": "stream",
          "name": "stdout",
          "text": [
            "batch out model\n"
          ]
        },
        {
          "output_type": "stream",
          "name": "stderr",
          "text": [
            " 82%|████████▏ | 69668/85054 [57:32<13:46, 18.62it/s]"
          ]
        },
        {
          "output_type": "stream",
          "name": "stdout",
          "text": [
            "batch out model\n"
          ]
        },
        {
          "output_type": "stream",
          "name": "stderr",
          "text": [
            " 82%|████████▏ | 69798/85054 [57:39<13:39, 18.62it/s]"
          ]
        },
        {
          "output_type": "stream",
          "name": "stdout",
          "text": [
            "batch out model\n"
          ]
        },
        {
          "output_type": "stream",
          "name": "stderr",
          "text": [
            " 82%|████████▏ | 69927/85054 [57:45<13:38, 18.47it/s]"
          ]
        },
        {
          "output_type": "stream",
          "name": "stdout",
          "text": [
            "batch out model\n"
          ]
        },
        {
          "output_type": "stream",
          "name": "stderr",
          "text": [
            " 82%|████████▏ | 70057/85054 [57:51<13:30, 18.50it/s]"
          ]
        },
        {
          "output_type": "stream",
          "name": "stdout",
          "text": [
            "batch out model\n"
          ]
        },
        {
          "output_type": "stream",
          "name": "stderr",
          "text": [
            " 83%|████████▎ | 70186/85054 [57:58<13:22, 18.53it/s]"
          ]
        },
        {
          "output_type": "stream",
          "name": "stdout",
          "text": [
            "batch out model\n"
          ]
        },
        {
          "output_type": "stream",
          "name": "stderr",
          "text": [
            " 83%|████████▎ | 70315/85054 [58:04<13:14, 18.55it/s]"
          ]
        },
        {
          "output_type": "stream",
          "name": "stdout",
          "text": [
            "batch out model\n"
          ]
        },
        {
          "output_type": "stream",
          "name": "stderr",
          "text": [
            " 83%|████████▎ | 70447/85054 [58:10<13:01, 18.69it/s]"
          ]
        },
        {
          "output_type": "stream",
          "name": "stdout",
          "text": [
            "batch out model\n"
          ]
        },
        {
          "output_type": "stream",
          "name": "stderr",
          "text": [
            " 83%|████████▎ | 70576/85054 [58:17<14:10, 17.02it/s]"
          ]
        },
        {
          "output_type": "stream",
          "name": "stdout",
          "text": [
            "batch out model\n"
          ]
        },
        {
          "output_type": "stream",
          "name": "stderr",
          "text": [
            " 83%|████████▎ | 70709/85054 [58:24<13:01, 18.37it/s]"
          ]
        },
        {
          "output_type": "stream",
          "name": "stdout",
          "text": [
            "batch out model\n"
          ]
        },
        {
          "output_type": "stream",
          "name": "stderr",
          "text": [
            " 83%|████████▎ | 70840/85054 [58:30<12:46, 18.55it/s]"
          ]
        },
        {
          "output_type": "stream",
          "name": "stdout",
          "text": [
            "batch out model\n"
          ]
        },
        {
          "output_type": "stream",
          "name": "stderr",
          "text": [
            " 83%|████████▎ | 70967/85054 [58:37<12:48, 18.32it/s]"
          ]
        },
        {
          "output_type": "stream",
          "name": "stdout",
          "text": [
            "batch out model\n"
          ]
        },
        {
          "output_type": "stream",
          "name": "stderr",
          "text": [
            " 84%|████████▎ | 71097/85054 [58:43<12:31, 18.57it/s]"
          ]
        },
        {
          "output_type": "stream",
          "name": "stdout",
          "text": [
            "batch out model\n"
          ]
        },
        {
          "output_type": "stream",
          "name": "stderr",
          "text": [
            " 84%|████████▎ | 71227/85054 [58:49<12:23, 18.60it/s]"
          ]
        },
        {
          "output_type": "stream",
          "name": "stdout",
          "text": [
            "batch out model\n"
          ]
        },
        {
          "output_type": "stream",
          "name": "stderr",
          "text": [
            " 84%|████████▍ | 71357/85054 [58:56<12:14, 18.64it/s]"
          ]
        },
        {
          "output_type": "stream",
          "name": "stdout",
          "text": [
            "batch out model\n"
          ]
        },
        {
          "output_type": "stream",
          "name": "stderr",
          "text": [
            " 84%|████████▍ | 71457/85054 [59:02<13:09, 17.22it/s]"
          ]
        },
        {
          "output_type": "stream",
          "name": "stdout",
          "text": [
            "batch out model\n"
          ]
        },
        {
          "output_type": "stream",
          "name": "stderr",
          "text": [
            " 84%|████████▍ | 71589/85054 [59:08<12:11, 18.41it/s]"
          ]
        },
        {
          "output_type": "stream",
          "name": "stdout",
          "text": [
            "batch out model\n"
          ]
        },
        {
          "output_type": "stream",
          "name": "stderr",
          "text": [
            " 84%|████████▍ | 71716/85054 [59:15<12:10, 18.26it/s]"
          ]
        },
        {
          "output_type": "stream",
          "name": "stdout",
          "text": [
            "batch out model\n"
          ]
        },
        {
          "output_type": "stream",
          "name": "stderr",
          "text": [
            " 84%|████████▍ | 71845/85054 [59:21<11:55, 18.46it/s]"
          ]
        },
        {
          "output_type": "stream",
          "name": "stdout",
          "text": [
            "batch out model\n"
          ]
        },
        {
          "output_type": "stream",
          "name": "stderr",
          "text": [
            " 85%|████████▍ | 71974/85054 [59:27<11:50, 18.40it/s]"
          ]
        },
        {
          "output_type": "stream",
          "name": "stdout",
          "text": [
            "batch out model\n"
          ]
        },
        {
          "output_type": "stream",
          "name": "stderr",
          "text": [
            " 85%|████████▍ | 72103/85054 [59:34<11:40, 18.49it/s]"
          ]
        },
        {
          "output_type": "stream",
          "name": "stdout",
          "text": [
            "batch out model\n"
          ]
        },
        {
          "output_type": "stream",
          "name": "stderr",
          "text": [
            " 85%|████████▍ | 72234/85054 [59:40<11:26, 18.67it/s]"
          ]
        },
        {
          "output_type": "stream",
          "name": "stdout",
          "text": [
            "batch out model\n"
          ]
        },
        {
          "output_type": "stream",
          "name": "stderr",
          "text": [
            " 85%|████████▌ | 72364/85054 [59:46<11:21, 18.63it/s]"
          ]
        },
        {
          "output_type": "stream",
          "name": "stdout",
          "text": [
            "batch out model\n"
          ]
        },
        {
          "output_type": "stream",
          "name": "stderr",
          "text": [
            " 85%|████████▌ | 72493/85054 [59:53<11:21, 18.42it/s]"
          ]
        },
        {
          "output_type": "stream",
          "name": "stdout",
          "text": [
            "batch out model\n"
          ]
        },
        {
          "output_type": "stream",
          "name": "stderr",
          "text": [
            " 85%|████████▌ | 72623/85054 [59:59<11:17, 18.36it/s]"
          ]
        },
        {
          "output_type": "stream",
          "name": "stdout",
          "text": [
            "batch out model\n"
          ]
        },
        {
          "output_type": "stream",
          "name": "stderr",
          "text": [
            " 86%|████████▌ | 72751/85054 [1:00:05<11:11, 18.31it/s]"
          ]
        },
        {
          "output_type": "stream",
          "name": "stdout",
          "text": [
            "batch out model\n"
          ]
        },
        {
          "output_type": "stream",
          "name": "stderr",
          "text": [
            " 86%|████████▌ | 72880/85054 [1:00:12<11:05, 18.28it/s]"
          ]
        },
        {
          "output_type": "stream",
          "name": "stdout",
          "text": [
            "batch out model\n"
          ]
        },
        {
          "output_type": "stream",
          "name": "stderr",
          "text": [
            " 86%|████████▌ | 73009/85054 [1:00:18<10:55, 18.39it/s]"
          ]
        },
        {
          "output_type": "stream",
          "name": "stdout",
          "text": [
            "batch out model\n"
          ]
        },
        {
          "output_type": "stream",
          "name": "stderr",
          "text": [
            " 86%|████████▌ | 73139/85054 [1:00:24<10:43, 18.52it/s]"
          ]
        },
        {
          "output_type": "stream",
          "name": "stdout",
          "text": [
            "batch out model\n"
          ]
        },
        {
          "output_type": "stream",
          "name": "stderr",
          "text": [
            " 86%|████████▌ | 73269/85054 [1:00:31<10:34, 18.58it/s]"
          ]
        },
        {
          "output_type": "stream",
          "name": "stdout",
          "text": [
            "batch out model\n"
          ]
        },
        {
          "output_type": "stream",
          "name": "stderr",
          "text": [
            " 86%|████████▋ | 73400/85054 [1:00:37<10:23, 18.68it/s]"
          ]
        },
        {
          "output_type": "stream",
          "name": "stdout",
          "text": [
            "batch out model\n"
          ]
        },
        {
          "output_type": "stream",
          "name": "stderr",
          "text": [
            " 86%|████████▋ | 73529/85054 [1:00:44<10:20, 18.57it/s]"
          ]
        },
        {
          "output_type": "stream",
          "name": "stdout",
          "text": [
            "batch out model\n"
          ]
        },
        {
          "output_type": "stream",
          "name": "stderr",
          "text": [
            " 87%|████████▋ | 73659/85054 [1:00:50<10:11, 18.62it/s]"
          ]
        },
        {
          "output_type": "stream",
          "name": "stdout",
          "text": [
            "batch out model\n"
          ]
        },
        {
          "output_type": "stream",
          "name": "stderr",
          "text": [
            " 87%|████████▋ | 73789/85054 [1:00:56<10:09, 18.48it/s]"
          ]
        },
        {
          "output_type": "stream",
          "name": "stdout",
          "text": [
            "batch out model\n"
          ]
        },
        {
          "output_type": "stream",
          "name": "stderr",
          "text": [
            " 87%|████████▋ | 73890/85054 [1:01:02<10:42, 17.37it/s]"
          ]
        },
        {
          "output_type": "stream",
          "name": "stdout",
          "text": [
            "batch out model\n"
          ]
        },
        {
          "output_type": "stream",
          "name": "stderr",
          "text": [
            " 87%|████████▋ | 74020/85054 [1:01:09<10:06, 18.20it/s]"
          ]
        },
        {
          "output_type": "stream",
          "name": "stdout",
          "text": [
            "batch out model\n"
          ]
        },
        {
          "output_type": "stream",
          "name": "stderr",
          "text": [
            " 87%|████████▋ | 74151/85054 [1:01:15<09:46, 18.59it/s]"
          ]
        },
        {
          "output_type": "stream",
          "name": "stdout",
          "text": [
            "batch out model\n"
          ]
        },
        {
          "output_type": "stream",
          "name": "stderr",
          "text": [
            " 87%|████████▋ | 74281/85054 [1:01:22<09:41, 18.53it/s]"
          ]
        },
        {
          "output_type": "stream",
          "name": "stdout",
          "text": [
            "batch out model\n"
          ]
        },
        {
          "output_type": "stream",
          "name": "stderr",
          "text": [
            " 87%|████████▋ | 74411/85054 [1:01:28<09:32, 18.60it/s]"
          ]
        },
        {
          "output_type": "stream",
          "name": "stdout",
          "text": [
            "batch out model\n"
          ]
        },
        {
          "output_type": "stream",
          "name": "stderr",
          "text": [
            " 88%|████████▊ | 74541/85054 [1:01:34<09:26, 18.55it/s]"
          ]
        },
        {
          "output_type": "stream",
          "name": "stdout",
          "text": [
            "batch out model\n"
          ]
        },
        {
          "output_type": "stream",
          "name": "stderr",
          "text": [
            " 88%|████████▊ | 74670/85054 [1:01:41<09:20, 18.51it/s]"
          ]
        },
        {
          "output_type": "stream",
          "name": "stdout",
          "text": [
            "batch out model\n"
          ]
        },
        {
          "output_type": "stream",
          "name": "stderr",
          "text": [
            " 88%|████████▊ | 74798/85054 [1:01:47<09:24, 18.18it/s]"
          ]
        },
        {
          "output_type": "stream",
          "name": "stdout",
          "text": [
            "batch out model\n"
          ]
        },
        {
          "output_type": "stream",
          "name": "stderr",
          "text": [
            " 88%|████████▊ | 74932/85054 [1:01:53<08:57, 18.83it/s]"
          ]
        },
        {
          "output_type": "stream",
          "name": "stdout",
          "text": [
            "batch out model\n"
          ]
        },
        {
          "output_type": "stream",
          "name": "stderr",
          "text": [
            " 88%|████████▊ | 75060/85054 [1:02:00<09:02, 18.41it/s]"
          ]
        },
        {
          "output_type": "stream",
          "name": "stdout",
          "text": [
            "batch out model\n"
          ]
        },
        {
          "output_type": "stream",
          "name": "stderr",
          "text": [
            " 88%|████████▊ | 75189/85054 [1:02:06<08:53, 18.50it/s]"
          ]
        },
        {
          "output_type": "stream",
          "name": "stdout",
          "text": [
            "batch out model\n"
          ]
        },
        {
          "output_type": "stream",
          "name": "stderr",
          "text": [
            " 89%|████████▊ | 75319/85054 [1:02:12<08:49, 18.37it/s]"
          ]
        },
        {
          "output_type": "stream",
          "name": "stdout",
          "text": [
            "batch out model\n"
          ]
        },
        {
          "output_type": "stream",
          "name": "stderr",
          "text": [
            " 89%|████████▊ | 75450/85054 [1:02:19<08:35, 18.63it/s]"
          ]
        },
        {
          "output_type": "stream",
          "name": "stdout",
          "text": [
            "batch out model\n"
          ]
        },
        {
          "output_type": "stream",
          "name": "stderr",
          "text": [
            " 89%|████████▉ | 75580/85054 [1:02:25<08:28, 18.64it/s]"
          ]
        },
        {
          "output_type": "stream",
          "name": "stdout",
          "text": [
            "batch out model\n"
          ]
        },
        {
          "output_type": "stream",
          "name": "stderr",
          "text": [
            " 89%|████████▉ | 75709/85054 [1:02:31<08:25, 18.47it/s]"
          ]
        },
        {
          "output_type": "stream",
          "name": "stdout",
          "text": [
            "batch out model\n"
          ]
        },
        {
          "output_type": "stream",
          "name": "stderr",
          "text": [
            " 89%|████████▉ | 75809/85054 [1:02:38<08:59, 17.13it/s]"
          ]
        },
        {
          "output_type": "stream",
          "name": "stdout",
          "text": [
            "batch out model\n"
          ]
        },
        {
          "output_type": "stream",
          "name": "stderr",
          "text": [
            " 89%|████████▉ | 75938/85054 [1:02:44<08:24, 18.06it/s]"
          ]
        },
        {
          "output_type": "stream",
          "name": "stdout",
          "text": [
            "batch out model\n"
          ]
        },
        {
          "output_type": "stream",
          "name": "stderr",
          "text": [
            " 89%|████████▉ | 76069/85054 [1:02:50<08:04, 18.55it/s]"
          ]
        },
        {
          "output_type": "stream",
          "name": "stdout",
          "text": [
            "batch out model\n"
          ]
        },
        {
          "output_type": "stream",
          "name": "stderr",
          "text": [
            " 90%|████████▉ | 76198/85054 [1:02:57<07:57, 18.56it/s]"
          ]
        },
        {
          "output_type": "stream",
          "name": "stdout",
          "text": [
            "batch out model\n"
          ]
        },
        {
          "output_type": "stream",
          "name": "stderr",
          "text": [
            " 90%|████████▉ | 76327/85054 [1:03:03<07:53, 18.42it/s]"
          ]
        },
        {
          "output_type": "stream",
          "name": "stdout",
          "text": [
            "batch out model\n"
          ]
        },
        {
          "output_type": "stream",
          "name": "stderr",
          "text": [
            " 90%|████████▉ | 76458/85054 [1:03:09<07:39, 18.72it/s]"
          ]
        },
        {
          "output_type": "stream",
          "name": "stdout",
          "text": [
            "batch out model\n"
          ]
        },
        {
          "output_type": "stream",
          "name": "stderr",
          "text": [
            " 90%|█████████ | 76588/85054 [1:03:16<07:33, 18.65it/s]"
          ]
        },
        {
          "output_type": "stream",
          "name": "stdout",
          "text": [
            "batch out model\n"
          ]
        },
        {
          "output_type": "stream",
          "name": "stderr",
          "text": [
            " 90%|█████████ | 76716/85054 [1:03:22<07:33, 18.38it/s]"
          ]
        },
        {
          "output_type": "stream",
          "name": "stdout",
          "text": [
            "batch out model\n"
          ]
        },
        {
          "output_type": "stream",
          "name": "stderr",
          "text": [
            " 90%|█████████ | 76846/85054 [1:03:29<07:21, 18.58it/s]"
          ]
        },
        {
          "output_type": "stream",
          "name": "stdout",
          "text": [
            "batch out model\n"
          ]
        },
        {
          "output_type": "stream",
          "name": "stderr",
          "text": [
            " 91%|█████████ | 76977/85054 [1:03:35<07:15, 18.56it/s]"
          ]
        },
        {
          "output_type": "stream",
          "name": "stdout",
          "text": [
            "batch out model\n"
          ]
        },
        {
          "output_type": "stream",
          "name": "stderr",
          "text": [
            " 91%|█████████ | 77108/85054 [1:03:41<07:03, 18.77it/s]"
          ]
        },
        {
          "output_type": "stream",
          "name": "stdout",
          "text": [
            "batch out model\n"
          ]
        },
        {
          "output_type": "stream",
          "name": "stderr",
          "text": [
            " 91%|█████████ | 77236/85054 [1:03:48<07:07, 18.27it/s]"
          ]
        },
        {
          "output_type": "stream",
          "name": "stdout",
          "text": [
            "batch out model\n"
          ]
        },
        {
          "output_type": "stream",
          "name": "stderr",
          "text": [
            " 91%|█████████ | 77366/85054 [1:03:54<06:54, 18.53it/s]"
          ]
        },
        {
          "output_type": "stream",
          "name": "stdout",
          "text": [
            "batch out model\n"
          ]
        },
        {
          "output_type": "stream",
          "name": "stderr",
          "text": [
            " 91%|█████████ | 77499/85054 [1:04:00<06:41, 18.81it/s]"
          ]
        },
        {
          "output_type": "stream",
          "name": "stdout",
          "text": [
            "batch out model\n"
          ]
        },
        {
          "output_type": "stream",
          "name": "stderr",
          "text": [
            " 91%|█████████▏| 77629/85054 [1:04:07<06:39, 18.57it/s]"
          ]
        },
        {
          "output_type": "stream",
          "name": "stdout",
          "text": [
            "batch out model\n"
          ]
        },
        {
          "output_type": "stream",
          "name": "stderr",
          "text": [
            " 91%|█████████▏| 77729/85054 [1:04:13<07:06, 17.18it/s]"
          ]
        },
        {
          "output_type": "stream",
          "name": "stdout",
          "text": [
            "batch out model\n"
          ]
        },
        {
          "output_type": "stream",
          "name": "stderr",
          "text": [
            " 92%|█████████▏| 77860/85054 [1:04:19<06:35, 18.21it/s]"
          ]
        },
        {
          "output_type": "stream",
          "name": "stdout",
          "text": [
            "batch out model\n"
          ]
        },
        {
          "output_type": "stream",
          "name": "stderr",
          "text": [
            " 92%|█████████▏| 77988/85054 [1:04:26<06:26, 18.28it/s]"
          ]
        },
        {
          "output_type": "stream",
          "name": "stdout",
          "text": [
            "batch out model\n"
          ]
        },
        {
          "output_type": "stream",
          "name": "stderr",
          "text": [
            " 92%|█████████▏| 78120/85054 [1:04:32<06:11, 18.69it/s]"
          ]
        },
        {
          "output_type": "stream",
          "name": "stdout",
          "text": [
            "batch out model\n"
          ]
        },
        {
          "output_type": "stream",
          "name": "stderr",
          "text": [
            " 92%|█████████▏| 78251/85054 [1:04:38<06:03, 18.70it/s]"
          ]
        },
        {
          "output_type": "stream",
          "name": "stdout",
          "text": [
            "batch out model\n"
          ]
        },
        {
          "output_type": "stream",
          "name": "stderr",
          "text": [
            " 92%|█████████▏| 78380/85054 [1:04:45<06:01, 18.47it/s]"
          ]
        },
        {
          "output_type": "stream",
          "name": "stdout",
          "text": [
            "batch out model\n"
          ]
        },
        {
          "output_type": "stream",
          "name": "stderr",
          "text": [
            " 92%|█████████▏| 78475/85054 [1:04:51<08:30, 12.89it/s]"
          ]
        },
        {
          "output_type": "stream",
          "name": "stdout",
          "text": [
            "batch out model\n"
          ]
        },
        {
          "output_type": "stream",
          "name": "stderr",
          "text": [
            " 92%|█████████▏| 78626/85054 [1:04:58<05:58, 17.93it/s]"
          ]
        },
        {
          "output_type": "stream",
          "name": "stdout",
          "text": [
            "batch out model\n"
          ]
        },
        {
          "output_type": "stream",
          "name": "stderr",
          "text": [
            " 93%|█████████▎| 78755/85054 [1:05:04<05:43, 18.32it/s]"
          ]
        },
        {
          "output_type": "stream",
          "name": "stdout",
          "text": [
            "batch out model\n"
          ]
        },
        {
          "output_type": "stream",
          "name": "stderr",
          "text": [
            " 93%|█████████▎| 78886/85054 [1:05:10<05:31, 18.63it/s]"
          ]
        },
        {
          "output_type": "stream",
          "name": "stdout",
          "text": [
            "batch out model\n"
          ]
        },
        {
          "output_type": "stream",
          "name": "stderr",
          "text": [
            " 93%|█████████▎| 79015/85054 [1:05:17<05:25, 18.55it/s]"
          ]
        },
        {
          "output_type": "stream",
          "name": "stdout",
          "text": [
            "batch out model\n"
          ]
        },
        {
          "output_type": "stream",
          "name": "stderr",
          "text": [
            " 93%|█████████▎| 79146/85054 [1:05:23<05:18, 18.56it/s]"
          ]
        },
        {
          "output_type": "stream",
          "name": "stdout",
          "text": [
            "batch out model\n"
          ]
        },
        {
          "output_type": "stream",
          "name": "stderr",
          "text": [
            " 93%|█████████▎| 79278/85054 [1:05:30<05:07, 18.79it/s]"
          ]
        },
        {
          "output_type": "stream",
          "name": "stdout",
          "text": [
            "batch out model\n"
          ]
        },
        {
          "output_type": "stream",
          "name": "stderr",
          "text": [
            " 93%|█████████▎| 79408/85054 [1:05:36<05:06, 18.45it/s]"
          ]
        },
        {
          "output_type": "stream",
          "name": "stdout",
          "text": [
            "batch out model\n"
          ]
        },
        {
          "output_type": "stream",
          "name": "stderr",
          "text": [
            " 94%|█████████▎| 79538/85054 [1:05:42<04:57, 18.56it/s]"
          ]
        },
        {
          "output_type": "stream",
          "name": "stdout",
          "text": [
            "batch out model\n"
          ]
        },
        {
          "output_type": "stream",
          "name": "stderr",
          "text": [
            " 94%|█████████▎| 79667/85054 [1:05:49<04:51, 18.49it/s]"
          ]
        },
        {
          "output_type": "stream",
          "name": "stdout",
          "text": [
            "batch out model\n"
          ]
        },
        {
          "output_type": "stream",
          "name": "stderr",
          "text": [
            " 94%|█████████▍| 79797/85054 [1:05:55<04:41, 18.71it/s]"
          ]
        },
        {
          "output_type": "stream",
          "name": "stdout",
          "text": [
            "batch out model\n"
          ]
        },
        {
          "output_type": "stream",
          "name": "stderr",
          "text": [
            " 94%|█████████▍| 79927/85054 [1:06:01<04:36, 18.53it/s]"
          ]
        },
        {
          "output_type": "stream",
          "name": "stdout",
          "text": [
            "batch out model\n"
          ]
        },
        {
          "output_type": "stream",
          "name": "stderr",
          "text": [
            " 94%|█████████▍| 80058/85054 [1:06:08<04:27, 18.69it/s]"
          ]
        },
        {
          "output_type": "stream",
          "name": "stdout",
          "text": [
            "batch out model\n"
          ]
        },
        {
          "output_type": "stream",
          "name": "stderr",
          "text": [
            " 94%|█████████▍| 80191/85054 [1:06:14<04:15, 19.03it/s]"
          ]
        },
        {
          "output_type": "stream",
          "name": "stdout",
          "text": [
            "batch out model\n"
          ]
        },
        {
          "output_type": "stream",
          "name": "stderr",
          "text": [
            " 94%|█████████▍| 80289/85054 [1:06:20<04:37, 17.14it/s]"
          ]
        },
        {
          "output_type": "stream",
          "name": "stdout",
          "text": [
            "batch out model\n"
          ]
        },
        {
          "output_type": "stream",
          "name": "stderr",
          "text": [
            " 95%|█████████▍| 80419/85054 [1:06:27<04:14, 18.23it/s]"
          ]
        },
        {
          "output_type": "stream",
          "name": "stdout",
          "text": [
            "batch out model\n"
          ]
        },
        {
          "output_type": "stream",
          "name": "stderr",
          "text": [
            " 95%|█████████▍| 80551/85054 [1:06:33<04:01, 18.66it/s]"
          ]
        },
        {
          "output_type": "stream",
          "name": "stdout",
          "text": [
            "batch out model\n"
          ]
        },
        {
          "output_type": "stream",
          "name": "stderr",
          "text": [
            " 95%|█████████▍| 80679/85054 [1:06:39<03:57, 18.39it/s]"
          ]
        },
        {
          "output_type": "stream",
          "name": "stdout",
          "text": [
            "batch out model\n"
          ]
        },
        {
          "output_type": "stream",
          "name": "stderr",
          "text": [
            " 95%|█████████▌| 80807/85054 [1:06:46<03:51, 18.33it/s]"
          ]
        },
        {
          "output_type": "stream",
          "name": "stdout",
          "text": [
            "batch out model\n"
          ]
        },
        {
          "output_type": "stream",
          "name": "stderr",
          "text": [
            " 95%|█████████▌| 80937/85054 [1:06:52<03:41, 18.56it/s]"
          ]
        },
        {
          "output_type": "stream",
          "name": "stdout",
          "text": [
            "batch out model\n"
          ]
        },
        {
          "output_type": "stream",
          "name": "stderr",
          "text": [
            " 95%|█████████▌| 81068/85054 [1:06:58<03:33, 18.66it/s]"
          ]
        },
        {
          "output_type": "stream",
          "name": "stdout",
          "text": [
            "batch out model\n"
          ]
        },
        {
          "output_type": "stream",
          "name": "stderr",
          "text": [
            " 95%|█████████▌| 81198/85054 [1:07:05<03:26, 18.64it/s]"
          ]
        },
        {
          "output_type": "stream",
          "name": "stdout",
          "text": [
            "batch out model\n"
          ]
        },
        {
          "output_type": "stream",
          "name": "stderr",
          "text": [
            " 96%|█████████▌| 81327/85054 [1:07:11<03:20, 18.56it/s]"
          ]
        },
        {
          "output_type": "stream",
          "name": "stdout",
          "text": [
            "batch out model\n"
          ]
        },
        {
          "output_type": "stream",
          "name": "stderr",
          "text": [
            " 96%|█████████▌| 81456/85054 [1:07:17<03:14, 18.54it/s]"
          ]
        },
        {
          "output_type": "stream",
          "name": "stdout",
          "text": [
            "batch out model\n"
          ]
        },
        {
          "output_type": "stream",
          "name": "stderr",
          "text": [
            " 96%|█████████▌| 81583/85054 [1:07:24<03:11, 18.17it/s]"
          ]
        },
        {
          "output_type": "stream",
          "name": "stdout",
          "text": [
            "batch out model\n"
          ]
        },
        {
          "output_type": "stream",
          "name": "stderr",
          "text": [
            " 96%|█████████▌| 81713/85054 [1:07:30<03:01, 18.42it/s]"
          ]
        },
        {
          "output_type": "stream",
          "name": "stdout",
          "text": [
            "batch out model\n"
          ]
        },
        {
          "output_type": "stream",
          "name": "stderr",
          "text": [
            " 96%|█████████▌| 81845/85054 [1:07:37<02:54, 18.37it/s]"
          ]
        },
        {
          "output_type": "stream",
          "name": "stdout",
          "text": [
            "batch out model\n"
          ]
        },
        {
          "output_type": "stream",
          "name": "stderr",
          "text": [
            " 96%|█████████▋| 81973/85054 [1:07:43<02:48, 18.33it/s]"
          ]
        },
        {
          "output_type": "stream",
          "name": "stdout",
          "text": [
            "batch out model\n"
          ]
        },
        {
          "output_type": "stream",
          "name": "stderr",
          "text": [
            " 97%|█████████▋| 82101/85054 [1:07:49<02:41, 18.26it/s]"
          ]
        },
        {
          "output_type": "stream",
          "name": "stdout",
          "text": [
            "batch out model\n"
          ]
        },
        {
          "output_type": "stream",
          "name": "stderr",
          "text": [
            " 97%|█████████▋| 82226/85054 [1:07:56<02:39, 17.70it/s]"
          ]
        },
        {
          "output_type": "stream",
          "name": "stdout",
          "text": [
            "batch out model\n"
          ]
        },
        {
          "output_type": "stream",
          "name": "stderr",
          "text": [
            " 97%|█████████▋| 82356/85054 [1:08:02<02:27, 18.31it/s]"
          ]
        },
        {
          "output_type": "stream",
          "name": "stdout",
          "text": [
            "batch out model\n"
          ]
        },
        {
          "output_type": "stream",
          "name": "stderr",
          "text": [
            " 97%|█████████▋| 82487/85054 [1:08:08<02:18, 18.57it/s]"
          ]
        },
        {
          "output_type": "stream",
          "name": "stdout",
          "text": [
            "batch out model\n"
          ]
        },
        {
          "output_type": "stream",
          "name": "stderr",
          "text": [
            " 97%|█████████▋| 82615/85054 [1:08:15<02:12, 18.35it/s]"
          ]
        },
        {
          "output_type": "stream",
          "name": "stdout",
          "text": [
            "batch out model\n"
          ]
        },
        {
          "output_type": "stream",
          "name": "stderr",
          "text": [
            " 97%|█████████▋| 82740/85054 [1:08:21<02:10, 17.78it/s]"
          ]
        },
        {
          "output_type": "stream",
          "name": "stdout",
          "text": [
            "batch out model\n"
          ]
        },
        {
          "output_type": "stream",
          "name": "stderr",
          "text": [
            " 97%|█████████▋| 82869/85054 [1:08:28<01:59, 18.25it/s]"
          ]
        },
        {
          "output_type": "stream",
          "name": "stdout",
          "text": [
            "batch out model\n"
          ]
        },
        {
          "output_type": "stream",
          "name": "stderr",
          "text": [
            " 98%|█████████▊| 82997/85054 [1:08:34<01:53, 18.19it/s]"
          ]
        },
        {
          "output_type": "stream",
          "name": "stdout",
          "text": [
            "batch out model\n"
          ]
        },
        {
          "output_type": "stream",
          "name": "stderr",
          "text": [
            " 98%|█████████▊| 83126/85054 [1:08:40<01:44, 18.44it/s]"
          ]
        },
        {
          "output_type": "stream",
          "name": "stdout",
          "text": [
            "batch out model\n"
          ]
        },
        {
          "output_type": "stream",
          "name": "stderr",
          "text": [
            " 98%|█████████▊| 83255/85054 [1:08:47<01:37, 18.41it/s]"
          ]
        },
        {
          "output_type": "stream",
          "name": "stdout",
          "text": [
            "batch out model\n"
          ]
        },
        {
          "output_type": "stream",
          "name": "stderr",
          "text": [
            " 98%|█████████▊| 83382/85054 [1:08:53<01:31, 18.23it/s]"
          ]
        },
        {
          "output_type": "stream",
          "name": "stdout",
          "text": [
            "batch out model\n"
          ]
        },
        {
          "output_type": "stream",
          "name": "stderr",
          "text": [
            " 98%|█████████▊| 83518/85054 [1:08:59<01:19, 19.21it/s]"
          ]
        },
        {
          "output_type": "stream",
          "name": "stdout",
          "text": [
            "batch out model\n"
          ]
        },
        {
          "output_type": "stream",
          "name": "stderr",
          "text": [
            " 98%|█████████▊| 83620/85054 [1:09:06<01:20, 17.72it/s]"
          ]
        },
        {
          "output_type": "stream",
          "name": "stdout",
          "text": [
            "batch out model\n"
          ]
        },
        {
          "output_type": "stream",
          "name": "stderr",
          "text": [
            " 98%|█████████▊| 83755/85054 [1:09:12<01:10, 18.53it/s]"
          ]
        },
        {
          "output_type": "stream",
          "name": "stdout",
          "text": [
            "batch out model\n"
          ]
        },
        {
          "output_type": "stream",
          "name": "stderr",
          "text": [
            " 99%|█████████▊| 83892/85054 [1:09:18<01:00, 19.31it/s]"
          ]
        },
        {
          "output_type": "stream",
          "name": "stdout",
          "text": [
            "batch out model\n"
          ]
        },
        {
          "output_type": "stream",
          "name": "stderr",
          "text": [
            " 99%|█████████▉| 84030/85054 [1:09:25<00:52, 19.52it/s]"
          ]
        },
        {
          "output_type": "stream",
          "name": "stdout",
          "text": [
            "batch out model\n"
          ]
        },
        {
          "output_type": "stream",
          "name": "stderr",
          "text": [
            " 99%|█████████▉| 84131/85054 [1:09:31<00:52, 17.67it/s]"
          ]
        },
        {
          "output_type": "stream",
          "name": "stdout",
          "text": [
            "batch out model\n"
          ]
        },
        {
          "output_type": "stream",
          "name": "stderr",
          "text": [
            " 99%|█████████▉| 84269/85054 [1:09:37<00:41, 19.07it/s]"
          ]
        },
        {
          "output_type": "stream",
          "name": "stdout",
          "text": [
            "batch out model\n"
          ]
        },
        {
          "output_type": "stream",
          "name": "stderr",
          "text": [
            " 99%|█████████▉| 84407/85054 [1:09:44<00:33, 19.59it/s]"
          ]
        },
        {
          "output_type": "stream",
          "name": "stdout",
          "text": [
            "batch out model\n"
          ]
        },
        {
          "output_type": "stream",
          "name": "stderr",
          "text": [
            " 99%|█████████▉| 84545/85054 [1:09:50<00:25, 19.61it/s]"
          ]
        },
        {
          "output_type": "stream",
          "name": "stdout",
          "text": [
            "batch out model\n"
          ]
        },
        {
          "output_type": "stream",
          "name": "stderr",
          "text": [
            "100%|█████████▉| 84643/85054 [1:09:56<00:23, 17.35it/s]"
          ]
        },
        {
          "output_type": "stream",
          "name": "stdout",
          "text": [
            "batch out model\n"
          ]
        },
        {
          "output_type": "stream",
          "name": "stderr",
          "text": [
            "100%|█████████▉| 84745/85054 [1:10:03<00:23, 13.26it/s]"
          ]
        },
        {
          "output_type": "stream",
          "name": "stdout",
          "text": [
            "batch out model\n"
          ]
        },
        {
          "output_type": "stream",
          "name": "stderr",
          "text": [
            "100%|█████████▉| 84899/85054 [1:10:09<00:08, 18.03it/s]"
          ]
        },
        {
          "output_type": "stream",
          "name": "stdout",
          "text": [
            "batch out model\n"
          ]
        },
        {
          "output_type": "stream",
          "name": "stderr",
          "text": [
            "100%|█████████▉| 85036/85054 [1:10:16<00:00, 19.22it/s]"
          ]
        },
        {
          "output_type": "stream",
          "name": "stdout",
          "text": [
            "batch out model\n"
          ]
        },
        {
          "output_type": "stream",
          "name": "stderr",
          "text": [
            "\r100%|██████████| 85054/85054 [1:10:19<00:00, 20.16it/s]"
          ]
        },
        {
          "output_type": "stream",
          "name": "stdout",
          "text": [
            "batch out model\n"
          ]
        },
        {
          "output_type": "stream",
          "name": "stderr",
          "text": [
            "\n"
          ]
        },
        {
          "output_type": "stream",
          "name": "stdout",
          "text": [
            "✅ Embeddings saved to embeddings_final_test.pkl\n"
          ]
        }
      ]
    },
    {
      "cell_type": "code",
      "source": [
        "import torch, gc\n",
        "gc.collect()\n",
        "torch.cuda.empty_cache()\n",
        "torch.cuda.ipc_collect()"
      ],
      "metadata": {
        "id": "XNNiC5WYpc3-"
      },
      "execution_count": 15,
      "outputs": []
    },
    {
      "cell_type": "code",
      "source": [
        "import pandas as pd\n",
        "\n",
        "df = pd.read_pickle(\"embeddings_final.pkl\")"
      ],
      "metadata": {
        "id": "dfWclZwPiD2Q"
      },
      "execution_count": 18,
      "outputs": []
    },
    {
      "cell_type": "code",
      "source": [
        "df"
      ],
      "metadata": {
        "colab": {
          "base_uri": "https://localhost:8080/",
          "height": 423
        },
        "id": "MhMJPKW4iEtq",
        "outputId": "c36adcd4-bef2-49ab-ed92-bbc22048e718"
      },
      "execution_count": 19,
      "outputs": [
        {
          "output_type": "execute_result",
          "data": {
            "text/plain": [
              "          ID  label                                          embedding\n",
              "0          0      0  [-0.008706856, -0.0039279903, -0.01883044, 0.0...\n",
              "1          1      0  [-0.005475909, -0.019084567, -0.012144128, 0.0...\n",
              "2         10      1  [-0.05229632, -0.0058183637, 0.015795691, -0.0...\n",
              "3        100      1  [-0.05352339, -0.00014431805, 0.016918808, -0....\n",
              "4       1000      0  [-0.0053428644, -0.014049003, -0.030508813, 0....\n",
              "...      ...    ...                                                ...\n",
              "99995  99995      1  [-0.06524533, -0.003932295, 0.03081721, -0.005...\n",
              "99996  99996      0  [0.004865935, -0.00464953, -0.036859337, 0.030...\n",
              "99997  99997      1  [-0.065118, -0.0011882096, 0.015820453, -0.024...\n",
              "99998  99998      1  [-0.06191408, -0.0006034956, 0.02309684, -0.02...\n",
              "99999  99999      1  [-0.060470764, 0.001355247, 0.021499911, -0.00...\n",
              "\n",
              "[100000 rows x 3 columns]"
            ],
            "text/html": [
              "\n",
              "  <div id=\"df-0918630b-37ff-47ee-8ca1-923b9a70fb09\" class=\"colab-df-container\">\n",
              "    <div>\n",
              "<style scoped>\n",
              "    .dataframe tbody tr th:only-of-type {\n",
              "        vertical-align: middle;\n",
              "    }\n",
              "\n",
              "    .dataframe tbody tr th {\n",
              "        vertical-align: top;\n",
              "    }\n",
              "\n",
              "    .dataframe thead th {\n",
              "        text-align: right;\n",
              "    }\n",
              "</style>\n",
              "<table border=\"1\" class=\"dataframe\">\n",
              "  <thead>\n",
              "    <tr style=\"text-align: right;\">\n",
              "      <th></th>\n",
              "      <th>ID</th>\n",
              "      <th>label</th>\n",
              "      <th>embedding</th>\n",
              "    </tr>\n",
              "  </thead>\n",
              "  <tbody>\n",
              "    <tr>\n",
              "      <th>0</th>\n",
              "      <td>0</td>\n",
              "      <td>0</td>\n",
              "      <td>[-0.008706856, -0.0039279903, -0.01883044, 0.0...</td>\n",
              "    </tr>\n",
              "    <tr>\n",
              "      <th>1</th>\n",
              "      <td>1</td>\n",
              "      <td>0</td>\n",
              "      <td>[-0.005475909, -0.019084567, -0.012144128, 0.0...</td>\n",
              "    </tr>\n",
              "    <tr>\n",
              "      <th>2</th>\n",
              "      <td>10</td>\n",
              "      <td>1</td>\n",
              "      <td>[-0.05229632, -0.0058183637, 0.015795691, -0.0...</td>\n",
              "    </tr>\n",
              "    <tr>\n",
              "      <th>3</th>\n",
              "      <td>100</td>\n",
              "      <td>1</td>\n",
              "      <td>[-0.05352339, -0.00014431805, 0.016918808, -0....</td>\n",
              "    </tr>\n",
              "    <tr>\n",
              "      <th>4</th>\n",
              "      <td>1000</td>\n",
              "      <td>0</td>\n",
              "      <td>[-0.0053428644, -0.014049003, -0.030508813, 0....</td>\n",
              "    </tr>\n",
              "    <tr>\n",
              "      <th>...</th>\n",
              "      <td>...</td>\n",
              "      <td>...</td>\n",
              "      <td>...</td>\n",
              "    </tr>\n",
              "    <tr>\n",
              "      <th>99995</th>\n",
              "      <td>99995</td>\n",
              "      <td>1</td>\n",
              "      <td>[-0.06524533, -0.003932295, 0.03081721, -0.005...</td>\n",
              "    </tr>\n",
              "    <tr>\n",
              "      <th>99996</th>\n",
              "      <td>99996</td>\n",
              "      <td>0</td>\n",
              "      <td>[0.004865935, -0.00464953, -0.036859337, 0.030...</td>\n",
              "    </tr>\n",
              "    <tr>\n",
              "      <th>99997</th>\n",
              "      <td>99997</td>\n",
              "      <td>1</td>\n",
              "      <td>[-0.065118, -0.0011882096, 0.015820453, -0.024...</td>\n",
              "    </tr>\n",
              "    <tr>\n",
              "      <th>99998</th>\n",
              "      <td>99998</td>\n",
              "      <td>1</td>\n",
              "      <td>[-0.06191408, -0.0006034956, 0.02309684, -0.02...</td>\n",
              "    </tr>\n",
              "    <tr>\n",
              "      <th>99999</th>\n",
              "      <td>99999</td>\n",
              "      <td>1</td>\n",
              "      <td>[-0.060470764, 0.001355247, 0.021499911, -0.00...</td>\n",
              "    </tr>\n",
              "  </tbody>\n",
              "</table>\n",
              "<p>100000 rows × 3 columns</p>\n",
              "</div>\n",
              "    <div class=\"colab-df-buttons\">\n",
              "\n",
              "  <div class=\"colab-df-container\">\n",
              "    <button class=\"colab-df-convert\" onclick=\"convertToInteractive('df-0918630b-37ff-47ee-8ca1-923b9a70fb09')\"\n",
              "            title=\"Convert this dataframe to an interactive table.\"\n",
              "            style=\"display:none;\">\n",
              "\n",
              "  <svg xmlns=\"http://www.w3.org/2000/svg\" height=\"24px\" viewBox=\"0 -960 960 960\">\n",
              "    <path d=\"M120-120v-720h720v720H120Zm60-500h600v-160H180v160Zm220 220h160v-160H400v160Zm0 220h160v-160H400v160ZM180-400h160v-160H180v160Zm440 0h160v-160H620v160ZM180-180h160v-160H180v160Zm440 0h160v-160H620v160Z\"/>\n",
              "  </svg>\n",
              "    </button>\n",
              "\n",
              "  <style>\n",
              "    .colab-df-container {\n",
              "      display:flex;\n",
              "      gap: 12px;\n",
              "    }\n",
              "\n",
              "    .colab-df-convert {\n",
              "      background-color: #E8F0FE;\n",
              "      border: none;\n",
              "      border-radius: 50%;\n",
              "      cursor: pointer;\n",
              "      display: none;\n",
              "      fill: #1967D2;\n",
              "      height: 32px;\n",
              "      padding: 0 0 0 0;\n",
              "      width: 32px;\n",
              "    }\n",
              "\n",
              "    .colab-df-convert:hover {\n",
              "      background-color: #E2EBFA;\n",
              "      box-shadow: 0px 1px 2px rgba(60, 64, 67, 0.3), 0px 1px 3px 1px rgba(60, 64, 67, 0.15);\n",
              "      fill: #174EA6;\n",
              "    }\n",
              "\n",
              "    .colab-df-buttons div {\n",
              "      margin-bottom: 4px;\n",
              "    }\n",
              "\n",
              "    [theme=dark] .colab-df-convert {\n",
              "      background-color: #3B4455;\n",
              "      fill: #D2E3FC;\n",
              "    }\n",
              "\n",
              "    [theme=dark] .colab-df-convert:hover {\n",
              "      background-color: #434B5C;\n",
              "      box-shadow: 0px 1px 3px 1px rgba(0, 0, 0, 0.15);\n",
              "      filter: drop-shadow(0px 1px 2px rgba(0, 0, 0, 0.3));\n",
              "      fill: #FFFFFF;\n",
              "    }\n",
              "  </style>\n",
              "\n",
              "    <script>\n",
              "      const buttonEl =\n",
              "        document.querySelector('#df-0918630b-37ff-47ee-8ca1-923b9a70fb09 button.colab-df-convert');\n",
              "      buttonEl.style.display =\n",
              "        google.colab.kernel.accessAllowed ? 'block' : 'none';\n",
              "\n",
              "      async function convertToInteractive(key) {\n",
              "        const element = document.querySelector('#df-0918630b-37ff-47ee-8ca1-923b9a70fb09');\n",
              "        const dataTable =\n",
              "          await google.colab.kernel.invokeFunction('convertToInteractive',\n",
              "                                                    [key], {});\n",
              "        if (!dataTable) return;\n",
              "\n",
              "        const docLinkHtml = 'Like what you see? Visit the ' +\n",
              "          '<a target=\"_blank\" href=https://colab.research.google.com/notebooks/data_table.ipynb>data table notebook</a>'\n",
              "          + ' to learn more about interactive tables.';\n",
              "        element.innerHTML = '';\n",
              "        dataTable['output_type'] = 'display_data';\n",
              "        await google.colab.output.renderOutput(dataTable, element);\n",
              "        const docLink = document.createElement('div');\n",
              "        docLink.innerHTML = docLinkHtml;\n",
              "        element.appendChild(docLink);\n",
              "      }\n",
              "    </script>\n",
              "  </div>\n",
              "\n",
              "\n",
              "<div id=\"df-c2efc98a-154f-4f6e-a48d-023d62f32ebb\">\n",
              "  <button class=\"colab-df-quickchart\" onclick=\"quickchart('df-c2efc98a-154f-4f6e-a48d-023d62f32ebb')\"\n",
              "            title=\"Suggest charts\"\n",
              "            style=\"display:none;\">\n",
              "\n",
              "<svg xmlns=\"http://www.w3.org/2000/svg\" height=\"24px\"viewBox=\"0 0 24 24\"\n",
              "     width=\"24px\">\n",
              "    <g>\n",
              "        <path d=\"M19 3H5c-1.1 0-2 .9-2 2v14c0 1.1.9 2 2 2h14c1.1 0 2-.9 2-2V5c0-1.1-.9-2-2-2zM9 17H7v-7h2v7zm4 0h-2V7h2v10zm4 0h-2v-4h2v4z\"/>\n",
              "    </g>\n",
              "</svg>\n",
              "  </button>\n",
              "\n",
              "<style>\n",
              "  .colab-df-quickchart {\n",
              "      --bg-color: #E8F0FE;\n",
              "      --fill-color: #1967D2;\n",
              "      --hover-bg-color: #E2EBFA;\n",
              "      --hover-fill-color: #174EA6;\n",
              "      --disabled-fill-color: #AAA;\n",
              "      --disabled-bg-color: #DDD;\n",
              "  }\n",
              "\n",
              "  [theme=dark] .colab-df-quickchart {\n",
              "      --bg-color: #3B4455;\n",
              "      --fill-color: #D2E3FC;\n",
              "      --hover-bg-color: #434B5C;\n",
              "      --hover-fill-color: #FFFFFF;\n",
              "      --disabled-bg-color: #3B4455;\n",
              "      --disabled-fill-color: #666;\n",
              "  }\n",
              "\n",
              "  .colab-df-quickchart {\n",
              "    background-color: var(--bg-color);\n",
              "    border: none;\n",
              "    border-radius: 50%;\n",
              "    cursor: pointer;\n",
              "    display: none;\n",
              "    fill: var(--fill-color);\n",
              "    height: 32px;\n",
              "    padding: 0;\n",
              "    width: 32px;\n",
              "  }\n",
              "\n",
              "  .colab-df-quickchart:hover {\n",
              "    background-color: var(--hover-bg-color);\n",
              "    box-shadow: 0 1px 2px rgba(60, 64, 67, 0.3), 0 1px 3px 1px rgba(60, 64, 67, 0.15);\n",
              "    fill: var(--button-hover-fill-color);\n",
              "  }\n",
              "\n",
              "  .colab-df-quickchart-complete:disabled,\n",
              "  .colab-df-quickchart-complete:disabled:hover {\n",
              "    background-color: var(--disabled-bg-color);\n",
              "    fill: var(--disabled-fill-color);\n",
              "    box-shadow: none;\n",
              "  }\n",
              "\n",
              "  .colab-df-spinner {\n",
              "    border: 2px solid var(--fill-color);\n",
              "    border-color: transparent;\n",
              "    border-bottom-color: var(--fill-color);\n",
              "    animation:\n",
              "      spin 1s steps(1) infinite;\n",
              "  }\n",
              "\n",
              "  @keyframes spin {\n",
              "    0% {\n",
              "      border-color: transparent;\n",
              "      border-bottom-color: var(--fill-color);\n",
              "      border-left-color: var(--fill-color);\n",
              "    }\n",
              "    20% {\n",
              "      border-color: transparent;\n",
              "      border-left-color: var(--fill-color);\n",
              "      border-top-color: var(--fill-color);\n",
              "    }\n",
              "    30% {\n",
              "      border-color: transparent;\n",
              "      border-left-color: var(--fill-color);\n",
              "      border-top-color: var(--fill-color);\n",
              "      border-right-color: var(--fill-color);\n",
              "    }\n",
              "    40% {\n",
              "      border-color: transparent;\n",
              "      border-right-color: var(--fill-color);\n",
              "      border-top-color: var(--fill-color);\n",
              "    }\n",
              "    60% {\n",
              "      border-color: transparent;\n",
              "      border-right-color: var(--fill-color);\n",
              "    }\n",
              "    80% {\n",
              "      border-color: transparent;\n",
              "      border-right-color: var(--fill-color);\n",
              "      border-bottom-color: var(--fill-color);\n",
              "    }\n",
              "    90% {\n",
              "      border-color: transparent;\n",
              "      border-bottom-color: var(--fill-color);\n",
              "    }\n",
              "  }\n",
              "</style>\n",
              "\n",
              "  <script>\n",
              "    async function quickchart(key) {\n",
              "      const quickchartButtonEl =\n",
              "        document.querySelector('#' + key + ' button');\n",
              "      quickchartButtonEl.disabled = true;  // To prevent multiple clicks.\n",
              "      quickchartButtonEl.classList.add('colab-df-spinner');\n",
              "      try {\n",
              "        const charts = await google.colab.kernel.invokeFunction(\n",
              "            'suggestCharts', [key], {});\n",
              "      } catch (error) {\n",
              "        console.error('Error during call to suggestCharts:', error);\n",
              "      }\n",
              "      quickchartButtonEl.classList.remove('colab-df-spinner');\n",
              "      quickchartButtonEl.classList.add('colab-df-quickchart-complete');\n",
              "    }\n",
              "    (() => {\n",
              "      let quickchartButtonEl =\n",
              "        document.querySelector('#df-c2efc98a-154f-4f6e-a48d-023d62f32ebb button');\n",
              "      quickchartButtonEl.style.display =\n",
              "        google.colab.kernel.accessAllowed ? 'block' : 'none';\n",
              "    })();\n",
              "  </script>\n",
              "</div>\n",
              "\n",
              "  <div id=\"id_6c993a6b-034f-4610-a1e6-35213d0013e1\">\n",
              "    <style>\n",
              "      .colab-df-generate {\n",
              "        background-color: #E8F0FE;\n",
              "        border: none;\n",
              "        border-radius: 50%;\n",
              "        cursor: pointer;\n",
              "        display: none;\n",
              "        fill: #1967D2;\n",
              "        height: 32px;\n",
              "        padding: 0 0 0 0;\n",
              "        width: 32px;\n",
              "      }\n",
              "\n",
              "      .colab-df-generate:hover {\n",
              "        background-color: #E2EBFA;\n",
              "        box-shadow: 0px 1px 2px rgba(60, 64, 67, 0.3), 0px 1px 3px 1px rgba(60, 64, 67, 0.15);\n",
              "        fill: #174EA6;\n",
              "      }\n",
              "\n",
              "      [theme=dark] .colab-df-generate {\n",
              "        background-color: #3B4455;\n",
              "        fill: #D2E3FC;\n",
              "      }\n",
              "\n",
              "      [theme=dark] .colab-df-generate:hover {\n",
              "        background-color: #434B5C;\n",
              "        box-shadow: 0px 1px 3px 1px rgba(0, 0, 0, 0.15);\n",
              "        filter: drop-shadow(0px 1px 2px rgba(0, 0, 0, 0.3));\n",
              "        fill: #FFFFFF;\n",
              "      }\n",
              "    </style>\n",
              "    <button class=\"colab-df-generate\" onclick=\"generateWithVariable('df')\"\n",
              "            title=\"Generate code using this dataframe.\"\n",
              "            style=\"display:none;\">\n",
              "\n",
              "  <svg xmlns=\"http://www.w3.org/2000/svg\" height=\"24px\"viewBox=\"0 0 24 24\"\n",
              "       width=\"24px\">\n",
              "    <path d=\"M7,19H8.4L18.45,9,17,7.55,7,17.6ZM5,21V16.75L18.45,3.32a2,2,0,0,1,2.83,0l1.4,1.43a1.91,1.91,0,0,1,.58,1.4,1.91,1.91,0,0,1-.58,1.4L9.25,21ZM18.45,9,17,7.55Zm-12,3A5.31,5.31,0,0,0,4.9,8.1,5.31,5.31,0,0,0,1,6.5,5.31,5.31,0,0,0,4.9,4.9,5.31,5.31,0,0,0,6.5,1,5.31,5.31,0,0,0,8.1,4.9,5.31,5.31,0,0,0,12,6.5,5.46,5.46,0,0,0,6.5,12Z\"/>\n",
              "  </svg>\n",
              "    </button>\n",
              "    <script>\n",
              "      (() => {\n",
              "      const buttonEl =\n",
              "        document.querySelector('#id_6c993a6b-034f-4610-a1e6-35213d0013e1 button.colab-df-generate');\n",
              "      buttonEl.style.display =\n",
              "        google.colab.kernel.accessAllowed ? 'block' : 'none';\n",
              "\n",
              "      buttonEl.onclick = () => {\n",
              "        google.colab.notebook.generateWithVariable('df');\n",
              "      }\n",
              "      })();\n",
              "    </script>\n",
              "  </div>\n",
              "\n",
              "    </div>\n",
              "  </div>\n"
            ],
            "application/vnd.google.colaboratory.intrinsic+json": {
              "type": "dataframe",
              "variable_name": "df",
              "summary": "{\n  \"name\": \"df\",\n  \"rows\": 100000,\n  \"fields\": [\n    {\n      \"column\": \"ID\",\n      \"properties\": {\n        \"dtype\": \"string\",\n        \"num_unique_values\": 100000,\n        \"samples\": [\n          \"78147\",\n          \"82163\",\n          \"27876\"\n        ],\n        \"semantic_type\": \"\",\n        \"description\": \"\"\n      }\n    },\n    {\n      \"column\": \"label\",\n      \"properties\": {\n        \"dtype\": \"number\",\n        \"std\": 0,\n        \"min\": 0,\n        \"max\": 1,\n        \"num_unique_values\": 2,\n        \"samples\": [\n          1,\n          0\n        ],\n        \"semantic_type\": \"\",\n        \"description\": \"\"\n      }\n    },\n    {\n      \"column\": \"embedding\",\n      \"properties\": {\n        \"dtype\": \"object\",\n        \"semantic_type\": \"\",\n        \"description\": \"\"\n      }\n    }\n  ]\n}"
            }
          },
          "metadata": {},
          "execution_count": 19
        }
      ]
    }
  ]
}